{
 "cells": [
  {
   "cell_type": "markdown",
   "id": "03d58a16",
   "metadata": {},
   "source": [
    "# Exploration des données pour conseiller nos clients sur l'achat de nos véhicules disponibles sur notre plateforme AutoPredict\n",
    "\n",
    "\n",
    "Vous pourrez, ci-dessous, consulter nos statistiques pour savoir quels types de véhicules nous pourrions vous orienter en fonction de vos besoins."
   ]
  },
  {
   "cell_type": "code",
   "execution_count": 5,
   "id": "bb5d17cb",
   "metadata": {},
   "outputs": [],
   "source": [
    "import pandas as pd\n",
    "import seaborn as sns\n",
    "import matplotlib.pyplot as plt\n",
    "import plotly.express as px\n",
    "import plotly.offline as pyo\n",
    "import plotly.graph_objects as go\n"
   ]
  },
  {
   "cell_type": "code",
   "execution_count": null,
   "id": "10daebcd",
   "metadata": {},
   "outputs": [
    {
     "data": {
      "text/html": [
       "        <script type=\"text/javascript\">\n",
       "        window.PlotlyConfig = {MathJaxConfig: 'local'};\n",
       "        if (window.MathJax && window.MathJax.Hub && window.MathJax.Hub.Config) {window.MathJax.Hub.Config({SVG: {font: \"STIX-Web\"}});}\n",
       "        </script>\n",
       "        <script type=\"module\">import \"https://cdn.plot.ly/plotly-3.0.1.min\"</script>\n",
       "        "
      ]
     },
     "metadata": {},
     "output_type": "display_data"
    },
    {
     "name": "stdout",
     "output_type": "stream",
     "text": [
      "11914\n",
      "Number of duplicates are: 715\n",
      "Number of missing values in each column:\n",
      "make               0\n",
      "model              0\n",
      "year               0\n",
      "fuel_type          3\n",
      "hp                69\n",
      "cylinders         30\n",
      "transmission       0\n",
      "drive              0\n",
      "doors              6\n",
      "market          3376\n",
      "size               0\n",
      "style              0\n",
      "highway_mpg        0\n",
      "city_mpg           0\n",
      "popularity         0\n",
      "price              0\n",
      "dtype: int64\n",
      "Deleted outliers are: 1403\n",
      "9784\n"
     ]
    },
    {
     "name": "stderr",
     "output_type": "stream",
     "text": [
      "C:\\Users\\yannr\\AppData\\Local\\Temp\\ipykernel_24536\\1602079606.py:81: FutureWarning:\n",
      "\n",
      "The default of observed=False is deprecated and will be changed to True in a future version of pandas. Pass observed=False to retain current behavior or observed=True to adopt the future default and silence this warning.\n",
      "\n"
     ]
    },
    {
     "ename": "ValueError",
     "evalue": "Mime type rendering requires nbformat>=4.2.0 but it is not installed",
     "output_type": "error",
     "traceback": [
      "\u001b[1;31m---------------------------------------------------------------------------\u001b[0m",
      "\u001b[1;31mValueError\u001b[0m                                Traceback (most recent call last)",
      "Cell \u001b[1;32mIn[8], line 106\u001b[0m\n\u001b[0;32m    103\u001b[0m fig\u001b[38;5;241m.\u001b[39mupdate_traces(textposition\u001b[38;5;241m=\u001b[39m\u001b[38;5;124m'\u001b[39m\u001b[38;5;124minside\u001b[39m\u001b[38;5;124m'\u001b[39m)\n\u001b[0;32m    105\u001b[0m \u001b[38;5;66;03m# Affichage dans le notebook\u001b[39;00m\n\u001b[1;32m--> 106\u001b[0m \u001b[43mfig\u001b[49m\u001b[38;5;241;43m.\u001b[39;49m\u001b[43mshow\u001b[49m\u001b[43m(\u001b[49m\u001b[43m)\u001b[49m\n",
      "File \u001b[1;32mc:\\Users\\yannr\\AppData\\Local\\Programs\\Python\\Python312\\Lib\\site-packages\\plotly\\basedatatypes.py:3414\u001b[0m, in \u001b[0;36mBaseFigure.show\u001b[1;34m(self, *args, **kwargs)\u001b[0m\n\u001b[0;32m   3381\u001b[0m \u001b[38;5;250m\u001b[39m\u001b[38;5;124;03m\"\"\"\u001b[39;00m\n\u001b[0;32m   3382\u001b[0m \u001b[38;5;124;03mShow a figure using either the default renderer(s) or the renderer(s)\u001b[39;00m\n\u001b[0;32m   3383\u001b[0m \u001b[38;5;124;03mspecified by the renderer argument\u001b[39;00m\n\u001b[1;32m   (...)\u001b[0m\n\u001b[0;32m   3410\u001b[0m \u001b[38;5;124;03mNone\u001b[39;00m\n\u001b[0;32m   3411\u001b[0m \u001b[38;5;124;03m\"\"\"\u001b[39;00m\n\u001b[0;32m   3412\u001b[0m \u001b[38;5;28;01mimport\u001b[39;00m \u001b[38;5;21;01mplotly\u001b[39;00m\u001b[38;5;21;01m.\u001b[39;00m\u001b[38;5;21;01mio\u001b[39;00m \u001b[38;5;28;01mas\u001b[39;00m \u001b[38;5;21;01mpio\u001b[39;00m\n\u001b[1;32m-> 3414\u001b[0m \u001b[38;5;28;01mreturn\u001b[39;00m \u001b[43mpio\u001b[49m\u001b[38;5;241;43m.\u001b[39;49m\u001b[43mshow\u001b[49m\u001b[43m(\u001b[49m\u001b[38;5;28;43mself\u001b[39;49m\u001b[43m,\u001b[49m\u001b[43m \u001b[49m\u001b[38;5;241;43m*\u001b[39;49m\u001b[43margs\u001b[49m\u001b[43m,\u001b[49m\u001b[43m \u001b[49m\u001b[38;5;241;43m*\u001b[39;49m\u001b[38;5;241;43m*\u001b[39;49m\u001b[43mkwargs\u001b[49m\u001b[43m)\u001b[49m\n",
      "File \u001b[1;32mc:\\Users\\yannr\\AppData\\Local\\Programs\\Python\\Python312\\Lib\\site-packages\\plotly\\io\\_renderers.py:425\u001b[0m, in \u001b[0;36mshow\u001b[1;34m(fig, renderer, validate, **kwargs)\u001b[0m\n\u001b[0;32m    420\u001b[0m     \u001b[38;5;28;01mraise\u001b[39;00m \u001b[38;5;167;01mValueError\u001b[39;00m(\n\u001b[0;32m    421\u001b[0m         \u001b[38;5;124m\"\u001b[39m\u001b[38;5;124mMime type rendering requires ipython but it is not installed\u001b[39m\u001b[38;5;124m\"\u001b[39m\n\u001b[0;32m    422\u001b[0m     )\n\u001b[0;32m    424\u001b[0m \u001b[38;5;28;01mif\u001b[39;00m \u001b[38;5;129;01mnot\u001b[39;00m nbformat \u001b[38;5;129;01mor\u001b[39;00m Version(nbformat\u001b[38;5;241m.\u001b[39m__version__) \u001b[38;5;241m<\u001b[39m Version(\u001b[38;5;124m\"\u001b[39m\u001b[38;5;124m4.2.0\u001b[39m\u001b[38;5;124m\"\u001b[39m):\n\u001b[1;32m--> 425\u001b[0m     \u001b[38;5;28;01mraise\u001b[39;00m \u001b[38;5;167;01mValueError\u001b[39;00m(\n\u001b[0;32m    426\u001b[0m         \u001b[38;5;124m\"\u001b[39m\u001b[38;5;124mMime type rendering requires nbformat>=4.2.0 but it is not installed\u001b[39m\u001b[38;5;124m\"\u001b[39m\n\u001b[0;32m    427\u001b[0m     )\n\u001b[0;32m    429\u001b[0m display_jupyter_version_warnings()\n\u001b[0;32m    431\u001b[0m ipython_display\u001b[38;5;241m.\u001b[39mdisplay(bundle, raw\u001b[38;5;241m=\u001b[39m\u001b[38;5;28;01mTrue\u001b[39;00m)\n",
      "\u001b[1;31mValueError\u001b[0m: Mime type rendering requires nbformat>=4.2.0 but it is not installed"
     ]
    }
   ],
   "source": [
    "import pandas as pd\n",
    "import plotly.express as px\n",
    "import plotly.offline as pyo\n",
    "import numpy as np\n",
    "\n",
    "# Activation du mode notebook (important pour VS Code)\n",
    "pyo.init_notebook_mode(connected=True)\n",
    "\n",
    "# Chargement du fichier CSV\n",
    "df = pd.read_csv(\"voiture.csv\")\n",
    "\n",
    "print(len(df))\n",
    "\n",
    "df.head()\n",
    "\n",
    "# Data cleaning\n",
    "\n",
    "df.columns = df.columns.str.lower().str.replace(\" \", \"_\")\n",
    "df.rename(columns={\n",
    "    'engine_fuel_type': 'fuel_type',\n",
    "    'engine_hp': 'hp',\n",
    "    'engine_cylinders': 'cylinders',\n",
    "    'transmission_type': 'transmission',\n",
    "    'driven_wheels': 'drive',\n",
    "    'number_of_doors': 'doors',\n",
    "    'market_category': 'market',\n",
    "    'vehicle_size': 'size',\n",
    "    'vehicle_style': 'style',\n",
    "    'msrp': 'price'\n",
    "}, inplace=True)\n",
    "\n",
    "print('Number of duplicates are:', df.duplicated().sum())\n",
    "df = df.drop_duplicates()\n",
    "\n",
    "print('Number of missing values in each column:')\n",
    "print(df.isnull().sum())\n",
    "\n",
    "\n",
    "# Handle missing values\n",
    "df['fuel_type'] = df['fuel_type'].fillna('regular unleaded')\n",
    "df['hp'] = df['hp'].fillna(0)\n",
    "df['cylinders'] = df['cylinders'].fillna(0)\n",
    "df['doors'] = df['doors'].fillna(df['doors'].mean())\n",
    "\n",
    "# Remove rows with unknown transmission\n",
    "df = df[df['transmission'] != 'UNKNOWN']\n",
    "\n",
    "print(len(df))  # Final dataset size after cleaning\n",
    "\n",
    "# Nettoyage : colonnes nécessaires et valeurs manquantes\n",
    "df_clean = df[['price', 'transmission']].dropna()\n",
    "\n",
    "# Suppression des transmissions UNKNOWN\n",
    "df_clean = df_clean[df_clean['transmission'] != 'UNKNOWN']\n",
    "\n",
    "# Création de quantiles de prix\n",
    "df_clean['price Quantile'] = pd.qcut(df_clean['price'], q=5)\n",
    "\n",
    "# Conversion en string pour Plotly\n",
    "df_clean['price Quantile'] = df_clean['price Quantile'].astype(str)\n",
    "\n",
    "# Tri explicite des catégories dans l'ordre croissant\n",
    "ordered_quantiles = sorted(df_clean['price Quantile'].unique(), key=lambda x: float(x.split(',')[0][1:]))\n",
    "df_clean['price Quantile'] = pd.Categorical(df_clean['price Quantile'], categories=ordered_quantiles, ordered=True)\n",
    "\n",
    "# Regroupement\n",
    "grouped = df_clean.groupby(['price Quantile', 'transmission']).size().reset_index(name='Nombre de véhicules')\n",
    "\n",
    "# Création du graphique\n",
    "fig = px.bar(\n",
    "    grouped,\n",
    "    x='price Quantile',\n",
    "    y='Nombre de véhicules',\n",
    "    color='transmission',\n",
    "    text='Nombre de véhicules',\n",
    "    title=\"Répartition des types de transmissions de véhicule par quantile de prix\",\n",
    "    labels={'price Quantile': 'Catégorie de prix (quantiles price)'}\n",
    ")\n",
    "\n",
    "# Mise en forme\n",
    "fig.update_layout(\n",
    "    xaxis_tickangle=-45,\n",
    "    barmode='stack',\n",
    "    legend_title=\"Type de transmission\",\n",
    "    yaxis_title=\"Nombre de véhicules\",\n",
    "    font=dict(size=14)\n",
    ")\n",
    "\n",
    "fig.update_traces(textposition='inside')\n",
    "\n",
    "# Affichage dans le notebook\n",
    "pyo.iplot(fig)\n"
   ]
  },
  {
   "cell_type": "markdown",
   "id": "750ed5ea",
   "metadata": {},
   "source": [
    "### Analyse croisée de la répartition des types de transmission en fonction du prix et du style de véhicule\n",
    "\n",
    "#### Répartition des types de transmission selon les quantiles de prix\n",
    "\n",
    "Le premier graphique présente la distribution des types de transmission (automatique, manuelle, automatisée manuelle, etc.) au sein de cinq quantiles de prix (MSRP). Une tendance nette se dégage :\n",
    "\n",
    "- **Les véhicules à transmission automatique** dominent largement dans les **quantiles intermédiaires à élevés**, représentant souvent **plus de 80 %** des véhicules de ces catégories. Ce type de transmission est typique des véhicules destinés à un usage confortable ou urbain.\n",
    "- **Les transmissions manuelles** sont **majoritairement présentes dans les véhicules les moins chers** (1er quantile), puis décroissent fortement à mesure que le prix augmente.\n",
    "- Les **transmissions automatisées manuelles** apparaissent de manière marginale, surtout dans les véhicules haut de gamme.\n",
    "\n",
    "Ces observations traduisent une corrélation directe entre le **niveau de prix** d’un véhicule et son **type de transmission**."
   ]
  },
  {
   "cell_type": "code",
   "execution_count": 27,
   "id": "89bc5c91",
   "metadata": {},
   "outputs": [
    {
     "data": {
      "application/vnd.plotly.v1+json": {
       "config": {
        "linkText": "Export to plot.ly",
        "plotlyServerURL": "https://plot.ly",
        "showLink": false
       },
       "data": [
        {
         "branchvalues": "total",
         "domain": {
          "x": [
           0,
           1
          ],
          "y": [
           0,
           1
          ]
         },
         "hovertemplate": "labels=%{label}<br>Nombre de véhicules=%{value}<br>parent=%{parent}<br>id=%{id}<extra></extra>",
         "ids": [
          "AUTOMATED_MANUAL/2dr Hatchback",
          "AUTOMATED_MANUAL/4dr Hatchback",
          "AUTOMATED_MANUAL/4dr SUV",
          "AUTOMATED_MANUAL/Convertible",
          "AUTOMATED_MANUAL/Coupe",
          "AUTOMATED_MANUAL/Sedan",
          "AUTOMATED_MANUAL/Wagon",
          "AUTOMATIC/2dr Hatchback",
          "AUTOMATIC/2dr SUV",
          "AUTOMATIC/4dr Hatchback",
          "AUTOMATIC/4dr SUV",
          "AUTOMATIC/Cargo Minivan",
          "AUTOMATIC/Cargo Van",
          "AUTOMATIC/Convertible",
          "AUTOMATIC/Convertible SUV",
          "AUTOMATIC/Coupe",
          "AUTOMATIC/Crew Cab Pickup",
          "AUTOMATIC/Extended Cab Pickup",
          "AUTOMATIC/Passenger Minivan",
          "AUTOMATIC/Passenger Van",
          "AUTOMATIC/Regular Cab Pickup",
          "AUTOMATIC/Sedan",
          "AUTOMATIC/Wagon",
          "MANUAL/2dr Hatchback",
          "MANUAL/2dr SUV",
          "MANUAL/4dr Hatchback",
          "MANUAL/4dr SUV",
          "MANUAL/Convertible",
          "MANUAL/Convertible SUV",
          "MANUAL/Coupe",
          "MANUAL/Crew Cab Pickup",
          "MANUAL/Extended Cab Pickup",
          "MANUAL/Passenger Minivan",
          "MANUAL/Regular Cab Pickup",
          "MANUAL/Sedan",
          "MANUAL/Wagon",
          "AUTOMATED_MANUAL",
          "AUTOMATIC",
          "MANUAL"
         ],
         "insidetextorientation": "radial",
         "labels": [
          "2dr Hatchback",
          "4dr Hatchback",
          "4dr SUV",
          "Convertible",
          "Coupe",
          "Sedan",
          "Wagon",
          "2dr Hatchback",
          "2dr SUV",
          "4dr Hatchback",
          "4dr SUV",
          "Cargo Minivan",
          "Cargo Van",
          "Convertible",
          "Convertible SUV",
          "Coupe",
          "Crew Cab Pickup",
          "Extended Cab Pickup",
          "Passenger Minivan",
          "Passenger Van",
          "Regular Cab Pickup",
          "Sedan",
          "Wagon",
          "2dr Hatchback",
          "2dr SUV",
          "4dr Hatchback",
          "4dr SUV",
          "Convertible",
          "Convertible SUV",
          "Coupe",
          "Crew Cab Pickup",
          "Extended Cab Pickup",
          "Passenger Minivan",
          "Regular Cab Pickup",
          "Sedan",
          "Wagon",
          "AUTOMATED_MANUAL",
          "AUTOMATIC",
          "MANUAL"
         ],
         "name": "",
         "parents": [
          "AUTOMATED_MANUAL",
          "AUTOMATED_MANUAL",
          "AUTOMATED_MANUAL",
          "AUTOMATED_MANUAL",
          "AUTOMATED_MANUAL",
          "AUTOMATED_MANUAL",
          "AUTOMATED_MANUAL",
          "AUTOMATIC",
          "AUTOMATIC",
          "AUTOMATIC",
          "AUTOMATIC",
          "AUTOMATIC",
          "AUTOMATIC",
          "AUTOMATIC",
          "AUTOMATIC",
          "AUTOMATIC",
          "AUTOMATIC",
          "AUTOMATIC",
          "AUTOMATIC",
          "AUTOMATIC",
          "AUTOMATIC",
          "AUTOMATIC",
          "AUTOMATIC",
          "MANUAL",
          "MANUAL",
          "MANUAL",
          "MANUAL",
          "MANUAL",
          "MANUAL",
          "MANUAL",
          "MANUAL",
          "MANUAL",
          "MANUAL",
          "MANUAL",
          "MANUAL",
          "MANUAL",
          "",
          "",
          ""
         ],
         "textinfo": "label+percent entry",
         "type": "sunburst",
         "values": {
          "bdata": "AAAAAAAAQkAAAAAAAIBEQAAAAAAAADdAAAAAAAAAT0AAAAAAAAAuQAAAAAAAQF5AAAAAAAAAMkAAAAAAAABWQAAAAAAAgEBAAAAAAADAcEAAAAAAAHagQAAAAAAAgE1AAAAAAAAAVUAAAAAAAGBqQAAAAAAAACBAAAAAAADQd0AAAAAAAFCDQAAAAAAAYHZAAAAAAADQd0AAAAAAAEBeQAAAAAAA4GNAAAAAAACcnEAAAAAAAGB4QAAAAAAAgHBAAAAAAAAAS0AAAAAAACBtQAAAAAAAwFZAAAAAAABAa0AAAAAAAAA0QAAAAAAAQHlAAAAAAACAQkAAAAAAAOBtQAAAAAAAACBAAAAAAAAgZ0AAAAAAAAB/QAAAAAAAgF5AAAAAAADAc0AAAAAAALm7QAAAAAAAhqJA",
          "dtype": "f8"
         }
        }
       ],
       "layout": {
        "font": {
         "size": 14
        },
        "height": 700,
        "legend": {
         "tracegroupgap": 0
        },
        "template": {
         "data": {
          "bar": [
           {
            "error_x": {
             "color": "#2a3f5f"
            },
            "error_y": {
             "color": "#2a3f5f"
            },
            "marker": {
             "line": {
              "color": "#E5ECF6",
              "width": 0.5
             },
             "pattern": {
              "fillmode": "overlay",
              "size": 10,
              "solidity": 0.2
             }
            },
            "type": "bar"
           }
          ],
          "barpolar": [
           {
            "marker": {
             "line": {
              "color": "#E5ECF6",
              "width": 0.5
             },
             "pattern": {
              "fillmode": "overlay",
              "size": 10,
              "solidity": 0.2
             }
            },
            "type": "barpolar"
           }
          ],
          "carpet": [
           {
            "aaxis": {
             "endlinecolor": "#2a3f5f",
             "gridcolor": "white",
             "linecolor": "white",
             "minorgridcolor": "white",
             "startlinecolor": "#2a3f5f"
            },
            "baxis": {
             "endlinecolor": "#2a3f5f",
             "gridcolor": "white",
             "linecolor": "white",
             "minorgridcolor": "white",
             "startlinecolor": "#2a3f5f"
            },
            "type": "carpet"
           }
          ],
          "choropleth": [
           {
            "colorbar": {
             "outlinewidth": 0,
             "ticks": ""
            },
            "type": "choropleth"
           }
          ],
          "contour": [
           {
            "colorbar": {
             "outlinewidth": 0,
             "ticks": ""
            },
            "colorscale": [
             [
              0,
              "#0d0887"
             ],
             [
              0.1111111111111111,
              "#46039f"
             ],
             [
              0.2222222222222222,
              "#7201a8"
             ],
             [
              0.3333333333333333,
              "#9c179e"
             ],
             [
              0.4444444444444444,
              "#bd3786"
             ],
             [
              0.5555555555555556,
              "#d8576b"
             ],
             [
              0.6666666666666666,
              "#ed7953"
             ],
             [
              0.7777777777777778,
              "#fb9f3a"
             ],
             [
              0.8888888888888888,
              "#fdca26"
             ],
             [
              1,
              "#f0f921"
             ]
            ],
            "type": "contour"
           }
          ],
          "contourcarpet": [
           {
            "colorbar": {
             "outlinewidth": 0,
             "ticks": ""
            },
            "type": "contourcarpet"
           }
          ],
          "heatmap": [
           {
            "colorbar": {
             "outlinewidth": 0,
             "ticks": ""
            },
            "colorscale": [
             [
              0,
              "#0d0887"
             ],
             [
              0.1111111111111111,
              "#46039f"
             ],
             [
              0.2222222222222222,
              "#7201a8"
             ],
             [
              0.3333333333333333,
              "#9c179e"
             ],
             [
              0.4444444444444444,
              "#bd3786"
             ],
             [
              0.5555555555555556,
              "#d8576b"
             ],
             [
              0.6666666666666666,
              "#ed7953"
             ],
             [
              0.7777777777777778,
              "#fb9f3a"
             ],
             [
              0.8888888888888888,
              "#fdca26"
             ],
             [
              1,
              "#f0f921"
             ]
            ],
            "type": "heatmap"
           }
          ],
          "histogram": [
           {
            "marker": {
             "pattern": {
              "fillmode": "overlay",
              "size": 10,
              "solidity": 0.2
             }
            },
            "type": "histogram"
           }
          ],
          "histogram2d": [
           {
            "colorbar": {
             "outlinewidth": 0,
             "ticks": ""
            },
            "colorscale": [
             [
              0,
              "#0d0887"
             ],
             [
              0.1111111111111111,
              "#46039f"
             ],
             [
              0.2222222222222222,
              "#7201a8"
             ],
             [
              0.3333333333333333,
              "#9c179e"
             ],
             [
              0.4444444444444444,
              "#bd3786"
             ],
             [
              0.5555555555555556,
              "#d8576b"
             ],
             [
              0.6666666666666666,
              "#ed7953"
             ],
             [
              0.7777777777777778,
              "#fb9f3a"
             ],
             [
              0.8888888888888888,
              "#fdca26"
             ],
             [
              1,
              "#f0f921"
             ]
            ],
            "type": "histogram2d"
           }
          ],
          "histogram2dcontour": [
           {
            "colorbar": {
             "outlinewidth": 0,
             "ticks": ""
            },
            "colorscale": [
             [
              0,
              "#0d0887"
             ],
             [
              0.1111111111111111,
              "#46039f"
             ],
             [
              0.2222222222222222,
              "#7201a8"
             ],
             [
              0.3333333333333333,
              "#9c179e"
             ],
             [
              0.4444444444444444,
              "#bd3786"
             ],
             [
              0.5555555555555556,
              "#d8576b"
             ],
             [
              0.6666666666666666,
              "#ed7953"
             ],
             [
              0.7777777777777778,
              "#fb9f3a"
             ],
             [
              0.8888888888888888,
              "#fdca26"
             ],
             [
              1,
              "#f0f921"
             ]
            ],
            "type": "histogram2dcontour"
           }
          ],
          "mesh3d": [
           {
            "colorbar": {
             "outlinewidth": 0,
             "ticks": ""
            },
            "type": "mesh3d"
           }
          ],
          "parcoords": [
           {
            "line": {
             "colorbar": {
              "outlinewidth": 0,
              "ticks": ""
             }
            },
            "type": "parcoords"
           }
          ],
          "pie": [
           {
            "automargin": true,
            "type": "pie"
           }
          ],
          "scatter": [
           {
            "fillpattern": {
             "fillmode": "overlay",
             "size": 10,
             "solidity": 0.2
            },
            "type": "scatter"
           }
          ],
          "scatter3d": [
           {
            "line": {
             "colorbar": {
              "outlinewidth": 0,
              "ticks": ""
             }
            },
            "marker": {
             "colorbar": {
              "outlinewidth": 0,
              "ticks": ""
             }
            },
            "type": "scatter3d"
           }
          ],
          "scattercarpet": [
           {
            "marker": {
             "colorbar": {
              "outlinewidth": 0,
              "ticks": ""
             }
            },
            "type": "scattercarpet"
           }
          ],
          "scattergeo": [
           {
            "marker": {
             "colorbar": {
              "outlinewidth": 0,
              "ticks": ""
             }
            },
            "type": "scattergeo"
           }
          ],
          "scattergl": [
           {
            "marker": {
             "colorbar": {
              "outlinewidth": 0,
              "ticks": ""
             }
            },
            "type": "scattergl"
           }
          ],
          "scattermap": [
           {
            "marker": {
             "colorbar": {
              "outlinewidth": 0,
              "ticks": ""
             }
            },
            "type": "scattermap"
           }
          ],
          "scattermapbox": [
           {
            "marker": {
             "colorbar": {
              "outlinewidth": 0,
              "ticks": ""
             }
            },
            "type": "scattermapbox"
           }
          ],
          "scatterpolar": [
           {
            "marker": {
             "colorbar": {
              "outlinewidth": 0,
              "ticks": ""
             }
            },
            "type": "scatterpolar"
           }
          ],
          "scatterpolargl": [
           {
            "marker": {
             "colorbar": {
              "outlinewidth": 0,
              "ticks": ""
             }
            },
            "type": "scatterpolargl"
           }
          ],
          "scatterternary": [
           {
            "marker": {
             "colorbar": {
              "outlinewidth": 0,
              "ticks": ""
             }
            },
            "type": "scatterternary"
           }
          ],
          "surface": [
           {
            "colorbar": {
             "outlinewidth": 0,
             "ticks": ""
            },
            "colorscale": [
             [
              0,
              "#0d0887"
             ],
             [
              0.1111111111111111,
              "#46039f"
             ],
             [
              0.2222222222222222,
              "#7201a8"
             ],
             [
              0.3333333333333333,
              "#9c179e"
             ],
             [
              0.4444444444444444,
              "#bd3786"
             ],
             [
              0.5555555555555556,
              "#d8576b"
             ],
             [
              0.6666666666666666,
              "#ed7953"
             ],
             [
              0.7777777777777778,
              "#fb9f3a"
             ],
             [
              0.8888888888888888,
              "#fdca26"
             ],
             [
              1,
              "#f0f921"
             ]
            ],
            "type": "surface"
           }
          ],
          "table": [
           {
            "cells": {
             "fill": {
              "color": "#EBF0F8"
             },
             "line": {
              "color": "white"
             }
            },
            "header": {
             "fill": {
              "color": "#C8D4E3"
             },
             "line": {
              "color": "white"
             }
            },
            "type": "table"
           }
          ]
         },
         "layout": {
          "annotationdefaults": {
           "arrowcolor": "#2a3f5f",
           "arrowhead": 0,
           "arrowwidth": 1
          },
          "autotypenumbers": "strict",
          "coloraxis": {
           "colorbar": {
            "outlinewidth": 0,
            "ticks": ""
           }
          },
          "colorscale": {
           "diverging": [
            [
             0,
             "#8e0152"
            ],
            [
             0.1,
             "#c51b7d"
            ],
            [
             0.2,
             "#de77ae"
            ],
            [
             0.3,
             "#f1b6da"
            ],
            [
             0.4,
             "#fde0ef"
            ],
            [
             0.5,
             "#f7f7f7"
            ],
            [
             0.6,
             "#e6f5d0"
            ],
            [
             0.7,
             "#b8e186"
            ],
            [
             0.8,
             "#7fbc41"
            ],
            [
             0.9,
             "#4d9221"
            ],
            [
             1,
             "#276419"
            ]
           ],
           "sequential": [
            [
             0,
             "#0d0887"
            ],
            [
             0.1111111111111111,
             "#46039f"
            ],
            [
             0.2222222222222222,
             "#7201a8"
            ],
            [
             0.3333333333333333,
             "#9c179e"
            ],
            [
             0.4444444444444444,
             "#bd3786"
            ],
            [
             0.5555555555555556,
             "#d8576b"
            ],
            [
             0.6666666666666666,
             "#ed7953"
            ],
            [
             0.7777777777777778,
             "#fb9f3a"
            ],
            [
             0.8888888888888888,
             "#fdca26"
            ],
            [
             1,
             "#f0f921"
            ]
           ],
           "sequentialminus": [
            [
             0,
             "#0d0887"
            ],
            [
             0.1111111111111111,
             "#46039f"
            ],
            [
             0.2222222222222222,
             "#7201a8"
            ],
            [
             0.3333333333333333,
             "#9c179e"
            ],
            [
             0.4444444444444444,
             "#bd3786"
            ],
            [
             0.5555555555555556,
             "#d8576b"
            ],
            [
             0.6666666666666666,
             "#ed7953"
            ],
            [
             0.7777777777777778,
             "#fb9f3a"
            ],
            [
             0.8888888888888888,
             "#fdca26"
            ],
            [
             1,
             "#f0f921"
            ]
           ]
          },
          "colorway": [
           "#636efa",
           "#EF553B",
           "#00cc96",
           "#ab63fa",
           "#FFA15A",
           "#19d3f3",
           "#FF6692",
           "#B6E880",
           "#FF97FF",
           "#FECB52"
          ],
          "font": {
           "color": "#2a3f5f"
          },
          "geo": {
           "bgcolor": "white",
           "lakecolor": "white",
           "landcolor": "#E5ECF6",
           "showlakes": true,
           "showland": true,
           "subunitcolor": "white"
          },
          "hoverlabel": {
           "align": "left"
          },
          "hovermode": "closest",
          "mapbox": {
           "style": "light"
          },
          "paper_bgcolor": "white",
          "plot_bgcolor": "#E5ECF6",
          "polar": {
           "angularaxis": {
            "gridcolor": "white",
            "linecolor": "white",
            "ticks": ""
           },
           "bgcolor": "#E5ECF6",
           "radialaxis": {
            "gridcolor": "white",
            "linecolor": "white",
            "ticks": ""
           }
          },
          "scene": {
           "xaxis": {
            "backgroundcolor": "#E5ECF6",
            "gridcolor": "white",
            "gridwidth": 2,
            "linecolor": "white",
            "showbackground": true,
            "ticks": "",
            "zerolinecolor": "white"
           },
           "yaxis": {
            "backgroundcolor": "#E5ECF6",
            "gridcolor": "white",
            "gridwidth": 2,
            "linecolor": "white",
            "showbackground": true,
            "ticks": "",
            "zerolinecolor": "white"
           },
           "zaxis": {
            "backgroundcolor": "#E5ECF6",
            "gridcolor": "white",
            "gridwidth": 2,
            "linecolor": "white",
            "showbackground": true,
            "ticks": "",
            "zerolinecolor": "white"
           }
          },
          "shapedefaults": {
           "line": {
            "color": "#2a3f5f"
           }
          },
          "ternary": {
           "aaxis": {
            "gridcolor": "white",
            "linecolor": "white",
            "ticks": ""
           },
           "baxis": {
            "gridcolor": "white",
            "linecolor": "white",
            "ticks": ""
           },
           "bgcolor": "#E5ECF6",
           "caxis": {
            "gridcolor": "white",
            "linecolor": "white",
            "ticks": ""
           }
          },
          "title": {
           "x": 0.05
          },
          "xaxis": {
           "automargin": true,
           "gridcolor": "white",
           "linecolor": "white",
           "ticks": "",
           "title": {
            "standoff": 15
           },
           "zerolinecolor": "white",
           "zerolinewidth": 2
          },
          "yaxis": {
           "automargin": true,
           "gridcolor": "white",
           "linecolor": "white",
           "ticks": "",
           "title": {
            "standoff": 15
           },
           "zerolinecolor": "white",
           "zerolinewidth": 2
          }
         }
        },
        "title": {
         "text": "Répartition des styles de véhicule selon le type de transmission"
        },
        "width": 900
       }
      },
      "text/html": [
       "<div>            <script src=\"https://cdnjs.cloudflare.com/ajax/libs/mathjax/2.7.5/MathJax.js?config=TeX-AMS-MML_SVG\"></script><script type=\"text/javascript\">if (window.MathJax && window.MathJax.Hub && window.MathJax.Hub.Config) {window.MathJax.Hub.Config({SVG: {font: \"STIX-Web\"}});}</script>                <script type=\"text/javascript\">window.PlotlyConfig = {MathJaxConfig: 'local'};</script>\n",
       "        <script charset=\"utf-8\" src=\"https://cdn.plot.ly/plotly-3.0.1.min.js\"></script>                <div id=\"685d8a3b-6e77-481b-999f-e73bd78b9121\" class=\"plotly-graph-div\" style=\"height:700px; width:900px;\"></div>            <script type=\"text/javascript\">                window.PLOTLYENV=window.PLOTLYENV || {};                                if (document.getElementById(\"685d8a3b-6e77-481b-999f-e73bd78b9121\")) {                    Plotly.newPlot(                        \"685d8a3b-6e77-481b-999f-e73bd78b9121\",                        [{\"branchvalues\":\"total\",\"domain\":{\"x\":[0.0,1.0],\"y\":[0.0,1.0]},\"hovertemplate\":\"labels=%{label}\\u003cbr\\u003eNombre de v\\u00e9hicules=%{value}\\u003cbr\\u003eparent=%{parent}\\u003cbr\\u003eid=%{id}\\u003cextra\\u003e\\u003c\\u002fextra\\u003e\",\"ids\":[\"AUTOMATED_MANUAL\\u002f2dr Hatchback\",\"AUTOMATED_MANUAL\\u002f4dr Hatchback\",\"AUTOMATED_MANUAL\\u002f4dr SUV\",\"AUTOMATED_MANUAL\\u002fConvertible\",\"AUTOMATED_MANUAL\\u002fCoupe\",\"AUTOMATED_MANUAL\\u002fSedan\",\"AUTOMATED_MANUAL\\u002fWagon\",\"AUTOMATIC\\u002f2dr Hatchback\",\"AUTOMATIC\\u002f2dr SUV\",\"AUTOMATIC\\u002f4dr Hatchback\",\"AUTOMATIC\\u002f4dr SUV\",\"AUTOMATIC\\u002fCargo Minivan\",\"AUTOMATIC\\u002fCargo Van\",\"AUTOMATIC\\u002fConvertible\",\"AUTOMATIC\\u002fConvertible SUV\",\"AUTOMATIC\\u002fCoupe\",\"AUTOMATIC\\u002fCrew Cab Pickup\",\"AUTOMATIC\\u002fExtended Cab Pickup\",\"AUTOMATIC\\u002fPassenger Minivan\",\"AUTOMATIC\\u002fPassenger Van\",\"AUTOMATIC\\u002fRegular Cab Pickup\",\"AUTOMATIC\\u002fSedan\",\"AUTOMATIC\\u002fWagon\",\"MANUAL\\u002f2dr Hatchback\",\"MANUAL\\u002f2dr SUV\",\"MANUAL\\u002f4dr Hatchback\",\"MANUAL\\u002f4dr SUV\",\"MANUAL\\u002fConvertible\",\"MANUAL\\u002fConvertible SUV\",\"MANUAL\\u002fCoupe\",\"MANUAL\\u002fCrew Cab Pickup\",\"MANUAL\\u002fExtended Cab Pickup\",\"MANUAL\\u002fPassenger Minivan\",\"MANUAL\\u002fRegular Cab Pickup\",\"MANUAL\\u002fSedan\",\"MANUAL\\u002fWagon\",\"AUTOMATED_MANUAL\",\"AUTOMATIC\",\"MANUAL\"],\"insidetextorientation\":\"radial\",\"labels\":[\"2dr Hatchback\",\"4dr Hatchback\",\"4dr SUV\",\"Convertible\",\"Coupe\",\"Sedan\",\"Wagon\",\"2dr Hatchback\",\"2dr SUV\",\"4dr Hatchback\",\"4dr SUV\",\"Cargo Minivan\",\"Cargo Van\",\"Convertible\",\"Convertible SUV\",\"Coupe\",\"Crew Cab Pickup\",\"Extended Cab Pickup\",\"Passenger Minivan\",\"Passenger Van\",\"Regular Cab Pickup\",\"Sedan\",\"Wagon\",\"2dr Hatchback\",\"2dr SUV\",\"4dr Hatchback\",\"4dr SUV\",\"Convertible\",\"Convertible SUV\",\"Coupe\",\"Crew Cab Pickup\",\"Extended Cab Pickup\",\"Passenger Minivan\",\"Regular Cab Pickup\",\"Sedan\",\"Wagon\",\"AUTOMATED_MANUAL\",\"AUTOMATIC\",\"MANUAL\"],\"name\":\"\",\"parents\":[\"AUTOMATED_MANUAL\",\"AUTOMATED_MANUAL\",\"AUTOMATED_MANUAL\",\"AUTOMATED_MANUAL\",\"AUTOMATED_MANUAL\",\"AUTOMATED_MANUAL\",\"AUTOMATED_MANUAL\",\"AUTOMATIC\",\"AUTOMATIC\",\"AUTOMATIC\",\"AUTOMATIC\",\"AUTOMATIC\",\"AUTOMATIC\",\"AUTOMATIC\",\"AUTOMATIC\",\"AUTOMATIC\",\"AUTOMATIC\",\"AUTOMATIC\",\"AUTOMATIC\",\"AUTOMATIC\",\"AUTOMATIC\",\"AUTOMATIC\",\"AUTOMATIC\",\"MANUAL\",\"MANUAL\",\"MANUAL\",\"MANUAL\",\"MANUAL\",\"MANUAL\",\"MANUAL\",\"MANUAL\",\"MANUAL\",\"MANUAL\",\"MANUAL\",\"MANUAL\",\"MANUAL\",\"\",\"\",\"\"],\"textinfo\":\"label+percent entry\",\"values\":{\"dtype\":\"f8\",\"bdata\":\"AAAAAAAAQkAAAAAAAIBEQAAAAAAAADdAAAAAAAAAT0AAAAAAAAAuQAAAAAAAQF5AAAAAAAAAMkAAAAAAAABWQAAAAAAAgEBAAAAAAADAcEAAAAAAAHagQAAAAAAAgE1AAAAAAAAAVUAAAAAAAGBqQAAAAAAAACBAAAAAAADQd0AAAAAAAFCDQAAAAAAAYHZAAAAAAADQd0AAAAAAAEBeQAAAAAAA4GNAAAAAAACcnEAAAAAAAGB4QAAAAAAAgHBAAAAAAAAAS0AAAAAAACBtQAAAAAAAwFZAAAAAAABAa0AAAAAAAAA0QAAAAAAAQHlAAAAAAACAQkAAAAAAAOBtQAAAAAAAACBAAAAAAAAgZ0AAAAAAAAB\\u002fQAAAAAAAgF5AAAAAAADAc0AAAAAAALm7QAAAAAAAhqJA\"},\"type\":\"sunburst\"}],                        {\"font\":{\"size\":14},\"height\":700,\"legend\":{\"tracegroupgap\":0},\"template\":{\"data\":{\"barpolar\":[{\"marker\":{\"line\":{\"color\":\"#E5ECF6\",\"width\":0.5},\"pattern\":{\"fillmode\":\"overlay\",\"size\":10,\"solidity\":0.2}},\"type\":\"barpolar\"}],\"bar\":[{\"error_x\":{\"color\":\"#2a3f5f\"},\"error_y\":{\"color\":\"#2a3f5f\"},\"marker\":{\"line\":{\"color\":\"#E5ECF6\",\"width\":0.5},\"pattern\":{\"fillmode\":\"overlay\",\"size\":10,\"solidity\":0.2}},\"type\":\"bar\"}],\"carpet\":[{\"aaxis\":{\"endlinecolor\":\"#2a3f5f\",\"gridcolor\":\"white\",\"linecolor\":\"white\",\"minorgridcolor\":\"white\",\"startlinecolor\":\"#2a3f5f\"},\"baxis\":{\"endlinecolor\":\"#2a3f5f\",\"gridcolor\":\"white\",\"linecolor\":\"white\",\"minorgridcolor\":\"white\",\"startlinecolor\":\"#2a3f5f\"},\"type\":\"carpet\"}],\"choropleth\":[{\"colorbar\":{\"outlinewidth\":0,\"ticks\":\"\"},\"type\":\"choropleth\"}],\"contourcarpet\":[{\"colorbar\":{\"outlinewidth\":0,\"ticks\":\"\"},\"type\":\"contourcarpet\"}],\"contour\":[{\"colorbar\":{\"outlinewidth\":0,\"ticks\":\"\"},\"colorscale\":[[0.0,\"#0d0887\"],[0.1111111111111111,\"#46039f\"],[0.2222222222222222,\"#7201a8\"],[0.3333333333333333,\"#9c179e\"],[0.4444444444444444,\"#bd3786\"],[0.5555555555555556,\"#d8576b\"],[0.6666666666666666,\"#ed7953\"],[0.7777777777777778,\"#fb9f3a\"],[0.8888888888888888,\"#fdca26\"],[1.0,\"#f0f921\"]],\"type\":\"contour\"}],\"heatmap\":[{\"colorbar\":{\"outlinewidth\":0,\"ticks\":\"\"},\"colorscale\":[[0.0,\"#0d0887\"],[0.1111111111111111,\"#46039f\"],[0.2222222222222222,\"#7201a8\"],[0.3333333333333333,\"#9c179e\"],[0.4444444444444444,\"#bd3786\"],[0.5555555555555556,\"#d8576b\"],[0.6666666666666666,\"#ed7953\"],[0.7777777777777778,\"#fb9f3a\"],[0.8888888888888888,\"#fdca26\"],[1.0,\"#f0f921\"]],\"type\":\"heatmap\"}],\"histogram2dcontour\":[{\"colorbar\":{\"outlinewidth\":0,\"ticks\":\"\"},\"colorscale\":[[0.0,\"#0d0887\"],[0.1111111111111111,\"#46039f\"],[0.2222222222222222,\"#7201a8\"],[0.3333333333333333,\"#9c179e\"],[0.4444444444444444,\"#bd3786\"],[0.5555555555555556,\"#d8576b\"],[0.6666666666666666,\"#ed7953\"],[0.7777777777777778,\"#fb9f3a\"],[0.8888888888888888,\"#fdca26\"],[1.0,\"#f0f921\"]],\"type\":\"histogram2dcontour\"}],\"histogram2d\":[{\"colorbar\":{\"outlinewidth\":0,\"ticks\":\"\"},\"colorscale\":[[0.0,\"#0d0887\"],[0.1111111111111111,\"#46039f\"],[0.2222222222222222,\"#7201a8\"],[0.3333333333333333,\"#9c179e\"],[0.4444444444444444,\"#bd3786\"],[0.5555555555555556,\"#d8576b\"],[0.6666666666666666,\"#ed7953\"],[0.7777777777777778,\"#fb9f3a\"],[0.8888888888888888,\"#fdca26\"],[1.0,\"#f0f921\"]],\"type\":\"histogram2d\"}],\"histogram\":[{\"marker\":{\"pattern\":{\"fillmode\":\"overlay\",\"size\":10,\"solidity\":0.2}},\"type\":\"histogram\"}],\"mesh3d\":[{\"colorbar\":{\"outlinewidth\":0,\"ticks\":\"\"},\"type\":\"mesh3d\"}],\"parcoords\":[{\"line\":{\"colorbar\":{\"outlinewidth\":0,\"ticks\":\"\"}},\"type\":\"parcoords\"}],\"pie\":[{\"automargin\":true,\"type\":\"pie\"}],\"scatter3d\":[{\"line\":{\"colorbar\":{\"outlinewidth\":0,\"ticks\":\"\"}},\"marker\":{\"colorbar\":{\"outlinewidth\":0,\"ticks\":\"\"}},\"type\":\"scatter3d\"}],\"scattercarpet\":[{\"marker\":{\"colorbar\":{\"outlinewidth\":0,\"ticks\":\"\"}},\"type\":\"scattercarpet\"}],\"scattergeo\":[{\"marker\":{\"colorbar\":{\"outlinewidth\":0,\"ticks\":\"\"}},\"type\":\"scattergeo\"}],\"scattergl\":[{\"marker\":{\"colorbar\":{\"outlinewidth\":0,\"ticks\":\"\"}},\"type\":\"scattergl\"}],\"scattermapbox\":[{\"marker\":{\"colorbar\":{\"outlinewidth\":0,\"ticks\":\"\"}},\"type\":\"scattermapbox\"}],\"scattermap\":[{\"marker\":{\"colorbar\":{\"outlinewidth\":0,\"ticks\":\"\"}},\"type\":\"scattermap\"}],\"scatterpolargl\":[{\"marker\":{\"colorbar\":{\"outlinewidth\":0,\"ticks\":\"\"}},\"type\":\"scatterpolargl\"}],\"scatterpolar\":[{\"marker\":{\"colorbar\":{\"outlinewidth\":0,\"ticks\":\"\"}},\"type\":\"scatterpolar\"}],\"scatter\":[{\"fillpattern\":{\"fillmode\":\"overlay\",\"size\":10,\"solidity\":0.2},\"type\":\"scatter\"}],\"scatterternary\":[{\"marker\":{\"colorbar\":{\"outlinewidth\":0,\"ticks\":\"\"}},\"type\":\"scatterternary\"}],\"surface\":[{\"colorbar\":{\"outlinewidth\":0,\"ticks\":\"\"},\"colorscale\":[[0.0,\"#0d0887\"],[0.1111111111111111,\"#46039f\"],[0.2222222222222222,\"#7201a8\"],[0.3333333333333333,\"#9c179e\"],[0.4444444444444444,\"#bd3786\"],[0.5555555555555556,\"#d8576b\"],[0.6666666666666666,\"#ed7953\"],[0.7777777777777778,\"#fb9f3a\"],[0.8888888888888888,\"#fdca26\"],[1.0,\"#f0f921\"]],\"type\":\"surface\"}],\"table\":[{\"cells\":{\"fill\":{\"color\":\"#EBF0F8\"},\"line\":{\"color\":\"white\"}},\"header\":{\"fill\":{\"color\":\"#C8D4E3\"},\"line\":{\"color\":\"white\"}},\"type\":\"table\"}]},\"layout\":{\"annotationdefaults\":{\"arrowcolor\":\"#2a3f5f\",\"arrowhead\":0,\"arrowwidth\":1},\"autotypenumbers\":\"strict\",\"coloraxis\":{\"colorbar\":{\"outlinewidth\":0,\"ticks\":\"\"}},\"colorscale\":{\"diverging\":[[0,\"#8e0152\"],[0.1,\"#c51b7d\"],[0.2,\"#de77ae\"],[0.3,\"#f1b6da\"],[0.4,\"#fde0ef\"],[0.5,\"#f7f7f7\"],[0.6,\"#e6f5d0\"],[0.7,\"#b8e186\"],[0.8,\"#7fbc41\"],[0.9,\"#4d9221\"],[1,\"#276419\"]],\"sequential\":[[0.0,\"#0d0887\"],[0.1111111111111111,\"#46039f\"],[0.2222222222222222,\"#7201a8\"],[0.3333333333333333,\"#9c179e\"],[0.4444444444444444,\"#bd3786\"],[0.5555555555555556,\"#d8576b\"],[0.6666666666666666,\"#ed7953\"],[0.7777777777777778,\"#fb9f3a\"],[0.8888888888888888,\"#fdca26\"],[1.0,\"#f0f921\"]],\"sequentialminus\":[[0.0,\"#0d0887\"],[0.1111111111111111,\"#46039f\"],[0.2222222222222222,\"#7201a8\"],[0.3333333333333333,\"#9c179e\"],[0.4444444444444444,\"#bd3786\"],[0.5555555555555556,\"#d8576b\"],[0.6666666666666666,\"#ed7953\"],[0.7777777777777778,\"#fb9f3a\"],[0.8888888888888888,\"#fdca26\"],[1.0,\"#f0f921\"]]},\"colorway\":[\"#636efa\",\"#EF553B\",\"#00cc96\",\"#ab63fa\",\"#FFA15A\",\"#19d3f3\",\"#FF6692\",\"#B6E880\",\"#FF97FF\",\"#FECB52\"],\"font\":{\"color\":\"#2a3f5f\"},\"geo\":{\"bgcolor\":\"white\",\"lakecolor\":\"white\",\"landcolor\":\"#E5ECF6\",\"showlakes\":true,\"showland\":true,\"subunitcolor\":\"white\"},\"hoverlabel\":{\"align\":\"left\"},\"hovermode\":\"closest\",\"mapbox\":{\"style\":\"light\"},\"paper_bgcolor\":\"white\",\"plot_bgcolor\":\"#E5ECF6\",\"polar\":{\"angularaxis\":{\"gridcolor\":\"white\",\"linecolor\":\"white\",\"ticks\":\"\"},\"bgcolor\":\"#E5ECF6\",\"radialaxis\":{\"gridcolor\":\"white\",\"linecolor\":\"white\",\"ticks\":\"\"}},\"scene\":{\"xaxis\":{\"backgroundcolor\":\"#E5ECF6\",\"gridcolor\":\"white\",\"gridwidth\":2,\"linecolor\":\"white\",\"showbackground\":true,\"ticks\":\"\",\"zerolinecolor\":\"white\"},\"yaxis\":{\"backgroundcolor\":\"#E5ECF6\",\"gridcolor\":\"white\",\"gridwidth\":2,\"linecolor\":\"white\",\"showbackground\":true,\"ticks\":\"\",\"zerolinecolor\":\"white\"},\"zaxis\":{\"backgroundcolor\":\"#E5ECF6\",\"gridcolor\":\"white\",\"gridwidth\":2,\"linecolor\":\"white\",\"showbackground\":true,\"ticks\":\"\",\"zerolinecolor\":\"white\"}},\"shapedefaults\":{\"line\":{\"color\":\"#2a3f5f\"}},\"ternary\":{\"aaxis\":{\"gridcolor\":\"white\",\"linecolor\":\"white\",\"ticks\":\"\"},\"baxis\":{\"gridcolor\":\"white\",\"linecolor\":\"white\",\"ticks\":\"\"},\"bgcolor\":\"#E5ECF6\",\"caxis\":{\"gridcolor\":\"white\",\"linecolor\":\"white\",\"ticks\":\"\"}},\"title\":{\"x\":0.05},\"xaxis\":{\"automargin\":true,\"gridcolor\":\"white\",\"linecolor\":\"white\",\"ticks\":\"\",\"title\":{\"standoff\":15},\"zerolinecolor\":\"white\",\"zerolinewidth\":2},\"yaxis\":{\"automargin\":true,\"gridcolor\":\"white\",\"linecolor\":\"white\",\"ticks\":\"\",\"title\":{\"standoff\":15},\"zerolinecolor\":\"white\",\"zerolinewidth\":2}}},\"title\":{\"text\":\"R\\u00e9partition des styles de v\\u00e9hicule selon le type de transmission\"},\"width\":900},                        {\"responsive\": true}                    ).then(function(){\n",
       "                            \n",
       "var gd = document.getElementById('685d8a3b-6e77-481b-999f-e73bd78b9121');\n",
       "var x = new MutationObserver(function (mutations, observer) {{\n",
       "        var display = window.getComputedStyle(gd).display;\n",
       "        if (!display || display === 'none') {{\n",
       "            console.log([gd, 'removed!']);\n",
       "            Plotly.purge(gd);\n",
       "            observer.disconnect();\n",
       "        }}\n",
       "}});\n",
       "\n",
       "// Listen for the removal of the full notebook cells\n",
       "var notebookContainer = gd.closest('#notebook-container');\n",
       "if (notebookContainer) {{\n",
       "    x.observe(notebookContainer, {childList: true});\n",
       "}}\n",
       "\n",
       "// Listen for the clearing of the current output cell\n",
       "var outputEl = gd.closest('.output');\n",
       "if (outputEl) {{\n",
       "    x.observe(outputEl, {childList: true});\n",
       "}}\n",
       "\n",
       "                        })                };            </script>        </div>"
      ]
     },
     "metadata": {},
     "output_type": "display_data"
    }
   ],
   "source": [
    "# Préparation des données\n",
    "df_clean = df[['transmission', 'style']].dropna()\n",
    "df_clean = df_clean[df_clean['transmission'] != 'UNKNOWN']\n",
    "\n",
    "# Agrégation par transmission et style\n",
    "style_trans = df_clean.groupby(['transmission', 'style']).size().reset_index(name='Nombre de véhicules')\n",
    "\n",
    "# Création du graphique sunburst\n",
    "fig = px.sunburst(\n",
    "    style_trans,\n",
    "    path=['transmission', 'style'],\n",
    "    values='Nombre de véhicules',\n",
    "    title=\"Répartition des styles de véhicule selon le type de transmission\"\n",
    ")\n",
    "\n",
    "# Affichage du pourcentage et étiquettes\n",
    "fig.update_traces(\n",
    "    textinfo='label+percent entry',\n",
    "    insidetextorientation='radial'\n",
    ")\n",
    "\n",
    "# Taille du graphique\n",
    "fig.update_layout(\n",
    "    font=dict(size=14),\n",
    "    width=900,\n",
    "    height=700\n",
    ")\n",
    "\n",
    "# Affichage dans VS Code\n",
    "pyo.iplot(fig)\n"
   ]
  },
  {
   "cell_type": "markdown",
   "id": "fb01b256",
   "metadata": {},
   "source": [
    "#### Répartition des styles de véhicule selon le type de transmission\n",
    "\n",
    "Le second graphique, un diagramme sunburst, permet de visualiser la répartition des **styles de véhicule** en fonction du **type de transmission** :\n",
    "\n",
    "- Les **transmissions automatiques** concernent principalement des véhicules de type **SUV** et **berlines (Sedan)**, c’est-à-dire des modèles généralement plus spacieux, orientés vers le confort et souvent utilisés dans des contextes urbains ou familiaux.\n",
    "- Les **transmissions manuelles** sont davantage associées à des **coupés**, **hatchbacks**, ou encore des **pickups**. Ces styles sont souvent liés à des usages plus économiques, sportifs ou professionnels.\n",
    "- Les transmissions automatisées et directes (DIRECT_DRIVE) sont très minoritaires, ce qui les rend peu représentatives pour l’analyse.\n",
    "\n",
    "#### Corrélation entre les deux graphiques\n",
    "\n",
    "Les deux visualisations convergent vers une **relation structurelle entre le prix, le type de transmission et le style du véhicule** :\n",
    "\n",
    "| Type de transmission | Styles dominants               | Gamme de prix associée  |\n",
    "|----------------------|--------------------------------|-------------------------|\n",
    "| Automatique          | SUV, Sedan                     | Moyenne à élevée        |\n",
    "| Manuelle             | Coupé, Hatchback, Pickup       | Basse à moyenne         |\n",
    "| Semi-automatique     | Divers véhicules haut de gamme | Élevée                  |\n",
    "\n",
    "Cette corrélation permet de tirer des conclusions utiles à la fois en matière de compréhension du marché et dans une logique de conseil à l’achat.\n",
    "\n",
    "#### En tant que vendeur:\n",
    "\n",
    "Dans une optique de vente ou de recommandation:\n",
    "\n",
    "- Pour un **client recherchant le confort ou un usage familial**, les véhicules **automatiques de type SUV ou berline** seront les plus adaptés.\n",
    "- Pour un **client au budget restreint**, un **véhicule manuel** de type **compact** ou **coupé** sera plus accessible.\n",
    "- Pour un **profil professionnel ou rural**, le **pickup manuel** reste un bon compromis entre robustesse et maîtrise du budget.\n",
    "\n",
    "On peut **établir un profil type des acheteurs selon leur budget, leur usage et leurs attentes en matière de confort ou performance.**\n"
   ]
  },
  {
   "cell_type": "code",
   "execution_count": 28,
   "id": "bad41e16",
   "metadata": {},
   "outputs": [
    {
     "name": "stderr",
     "output_type": "stream",
     "text": [
      "C:\\Users\\jerem\\AppData\\Local\\Temp\\ipykernel_24452\\1954858973.py:18: FutureWarning:\n",
      "\n",
      "The default of observed=False is deprecated and will be changed to True in a future version of pandas. Pass observed=False to retain current behavior or observed=True to adopt the future default and silence this warning.\n",
      "\n"
     ]
    },
    {
     "data": {
      "application/vnd.plotly.v1+json": {
       "config": {
        "plotlyServerURL": "https://plot.ly"
       },
       "data": [
        {
         "error_y": {
          "array": {
           "bdata": "6nErc4cCB0AAAAAAAAD4fwAAAAAAAPh/AAAAAAAA+H8AAAAAAAD4fw==",
           "dtype": "f8"
          }
         },
         "hovertemplate": "Nombre de cylindres=3<br>Type de puissance moteur=%{x}<br>Consommation moyenne (MPG)=%{y}<extra></extra>",
         "legendgroup": "3",
         "line": {
          "color": "#636efa",
          "dash": "solid"
         },
         "marker": {
          "symbol": "circle"
         },
         "mode": "lines+markers",
         "name": "3",
         "orientation": "v",
         "showlegend": true,
         "type": "scatter",
         "x": [
          "Très faible",
          "Faible",
          "Moyenne",
          "Élevée",
          "Très élevée"
         ],
         "xaxis": "x",
         "y": {
          "bdata": "dNFFF110PUAAAAAAAAD4fwAAAAAAAPh/AAAAAAAA+H8AAAAAAAD4fw==",
          "dtype": "f8"
         },
         "yaxis": "y"
        },
        {
         "error_y": {
          "array": {
           "bdata": "vKDnqndLEkCQVMqu5mQLQDE2nUU4BAZAImgkySXK/z+8cLYU3lQGQA==",
           "dtype": "f8"
          }
         },
         "hovertemplate": "Nombre de cylindres=4<br>Type de puissance moteur=%{x}<br>Consommation moyenne (MPG)=%{y}<extra></extra>",
         "legendgroup": "4",
         "line": {
          "color": "#EF553B",
          "dash": "solid"
         },
         "marker": {
          "symbol": "circle"
         },
         "mode": "lines+markers",
         "name": "4",
         "orientation": "v",
         "showlegend": true,
         "type": "scatter",
         "x": [
          "Très faible",
          "Faible",
          "Moyenne",
          "Élevée",
          "Très élevée"
         ],
         "xaxis": "x",
         "y": {
          "bdata": "fR4nbJTWO0Dlglvlgps6QEvnE/c4GTpAAAAAAABCOEB00UUXXTQ4QA==",
          "dtype": "f8"
         },
         "yaxis": "y"
        },
        {
         "error_y": {
          "array": {
           "bdata": "jlIFJm2y/z8Zfs8TdFgIQHGrCK2RxwdAAAAAAAAA+H8AAAAAAAAAAA==",
           "dtype": "f8"
          }
         },
         "hovertemplate": "Nombre de cylindres=5<br>Type de puissance moteur=%{x}<br>Consommation moyenne (MPG)=%{y}<extra></extra>",
         "legendgroup": "5",
         "line": {
          "color": "#00cc96",
          "dash": "solid"
         },
         "marker": {
          "symbol": "circle"
         },
         "mode": "lines+markers",
         "name": "5",
         "orientation": "v",
         "showlegend": true,
         "type": "scatter",
         "x": [
          "Très faible",
          "Faible",
          "Moyenne",
          "Élevée",
          "Très élevée"
         ],
         "xaxis": "x",
         "y": {
          "bdata": "kiRJkiSJN0ByHMdxHEc3QIiHh4eHhzVAAAAAAAAA+H8AAAAAAIA1QA==",
          "dtype": "f8"
         },
         "yaxis": "y"
        },
        {
         "error_y": {
          "array": {
           "bdata": "5GpoIdJEAUBpq+MMmwIDQBK/r7JSegVALUJubrtdBUB1gnohqtYDQA==",
           "dtype": "f8"
          }
         },
         "hovertemplate": "Nombre de cylindres=6<br>Type de puissance moteur=%{x}<br>Consommation moyenne (MPG)=%{y}<extra></extra>",
         "legendgroup": "6",
         "line": {
          "color": "#ab63fa",
          "dash": "solid"
         },
         "marker": {
          "symbol": "circle"
         },
         "mode": "lines+markers",
         "name": "6",
         "orientation": "v",
         "showlegend": true,
         "type": "scatter",
         "x": [
          "Très faible",
          "Faible",
          "Moyenne",
          "Élevée",
          "Très élevée"
         ],
         "xaxis": "x",
         "y": {
          "bdata": "01lMZzE9M0B/0rTRIpgyQNAStAQtwTNAavJBYvcTNUCtHjsCdNA1QA==",
          "dtype": "f8"
         },
         "yaxis": "y"
        },
        {
         "error_y": {
          "array": {
           "bdata": "lmBHs4BiAkDErO6FJ5wEQAzh4LkObf0/i3mizpgGAkDciD0KZOMCQA==",
           "dtype": "f8"
          }
         },
         "hovertemplate": "Nombre de cylindres=8<br>Type de puissance moteur=%{x}<br>Consommation moyenne (MPG)=%{y}<extra></extra>",
         "legendgroup": "8",
         "line": {
          "color": "#FFA15A",
          "dash": "solid"
         },
         "marker": {
          "symbol": "circle"
         },
         "mode": "lines+markers",
         "name": "8",
         "orientation": "v",
         "showlegend": true,
         "type": "scatter",
         "x": [
          "Très faible",
          "Faible",
          "Moyenne",
          "Élevée",
          "Très élevée"
         ],
         "xaxis": "x",
         "y": {
          "bdata": "AAAAAACwMUCe53me53ktQMVO7MRO7C1A3/It3/JtMEAqVKhQocIxQA==",
          "dtype": "f8"
         },
         "yaxis": "y"
        }
       ],
       "layout": {
        "legend": {
         "title": {
          "text": "Nb Cylindres"
         },
         "tracegroupgap": 0
        },
        "template": {
         "data": {
          "bar": [
           {
            "error_x": {
             "color": "#2a3f5f"
            },
            "error_y": {
             "color": "#2a3f5f"
            },
            "marker": {
             "line": {
              "color": "#E5ECF6",
              "width": 0.5
             },
             "pattern": {
              "fillmode": "overlay",
              "size": 10,
              "solidity": 0.2
             }
            },
            "type": "bar"
           }
          ],
          "barpolar": [
           {
            "marker": {
             "line": {
              "color": "#E5ECF6",
              "width": 0.5
             },
             "pattern": {
              "fillmode": "overlay",
              "size": 10,
              "solidity": 0.2
             }
            },
            "type": "barpolar"
           }
          ],
          "carpet": [
           {
            "aaxis": {
             "endlinecolor": "#2a3f5f",
             "gridcolor": "white",
             "linecolor": "white",
             "minorgridcolor": "white",
             "startlinecolor": "#2a3f5f"
            },
            "baxis": {
             "endlinecolor": "#2a3f5f",
             "gridcolor": "white",
             "linecolor": "white",
             "minorgridcolor": "white",
             "startlinecolor": "#2a3f5f"
            },
            "type": "carpet"
           }
          ],
          "choropleth": [
           {
            "colorbar": {
             "outlinewidth": 0,
             "ticks": ""
            },
            "type": "choropleth"
           }
          ],
          "contour": [
           {
            "colorbar": {
             "outlinewidth": 0,
             "ticks": ""
            },
            "colorscale": [
             [
              0,
              "#0d0887"
             ],
             [
              0.1111111111111111,
              "#46039f"
             ],
             [
              0.2222222222222222,
              "#7201a8"
             ],
             [
              0.3333333333333333,
              "#9c179e"
             ],
             [
              0.4444444444444444,
              "#bd3786"
             ],
             [
              0.5555555555555556,
              "#d8576b"
             ],
             [
              0.6666666666666666,
              "#ed7953"
             ],
             [
              0.7777777777777778,
              "#fb9f3a"
             ],
             [
              0.8888888888888888,
              "#fdca26"
             ],
             [
              1,
              "#f0f921"
             ]
            ],
            "type": "contour"
           }
          ],
          "contourcarpet": [
           {
            "colorbar": {
             "outlinewidth": 0,
             "ticks": ""
            },
            "type": "contourcarpet"
           }
          ],
          "heatmap": [
           {
            "colorbar": {
             "outlinewidth": 0,
             "ticks": ""
            },
            "colorscale": [
             [
              0,
              "#0d0887"
             ],
             [
              0.1111111111111111,
              "#46039f"
             ],
             [
              0.2222222222222222,
              "#7201a8"
             ],
             [
              0.3333333333333333,
              "#9c179e"
             ],
             [
              0.4444444444444444,
              "#bd3786"
             ],
             [
              0.5555555555555556,
              "#d8576b"
             ],
             [
              0.6666666666666666,
              "#ed7953"
             ],
             [
              0.7777777777777778,
              "#fb9f3a"
             ],
             [
              0.8888888888888888,
              "#fdca26"
             ],
             [
              1,
              "#f0f921"
             ]
            ],
            "type": "heatmap"
           }
          ],
          "histogram": [
           {
            "marker": {
             "pattern": {
              "fillmode": "overlay",
              "size": 10,
              "solidity": 0.2
             }
            },
            "type": "histogram"
           }
          ],
          "histogram2d": [
           {
            "colorbar": {
             "outlinewidth": 0,
             "ticks": ""
            },
            "colorscale": [
             [
              0,
              "#0d0887"
             ],
             [
              0.1111111111111111,
              "#46039f"
             ],
             [
              0.2222222222222222,
              "#7201a8"
             ],
             [
              0.3333333333333333,
              "#9c179e"
             ],
             [
              0.4444444444444444,
              "#bd3786"
             ],
             [
              0.5555555555555556,
              "#d8576b"
             ],
             [
              0.6666666666666666,
              "#ed7953"
             ],
             [
              0.7777777777777778,
              "#fb9f3a"
             ],
             [
              0.8888888888888888,
              "#fdca26"
             ],
             [
              1,
              "#f0f921"
             ]
            ],
            "type": "histogram2d"
           }
          ],
          "histogram2dcontour": [
           {
            "colorbar": {
             "outlinewidth": 0,
             "ticks": ""
            },
            "colorscale": [
             [
              0,
              "#0d0887"
             ],
             [
              0.1111111111111111,
              "#46039f"
             ],
             [
              0.2222222222222222,
              "#7201a8"
             ],
             [
              0.3333333333333333,
              "#9c179e"
             ],
             [
              0.4444444444444444,
              "#bd3786"
             ],
             [
              0.5555555555555556,
              "#d8576b"
             ],
             [
              0.6666666666666666,
              "#ed7953"
             ],
             [
              0.7777777777777778,
              "#fb9f3a"
             ],
             [
              0.8888888888888888,
              "#fdca26"
             ],
             [
              1,
              "#f0f921"
             ]
            ],
            "type": "histogram2dcontour"
           }
          ],
          "mesh3d": [
           {
            "colorbar": {
             "outlinewidth": 0,
             "ticks": ""
            },
            "type": "mesh3d"
           }
          ],
          "parcoords": [
           {
            "line": {
             "colorbar": {
              "outlinewidth": 0,
              "ticks": ""
             }
            },
            "type": "parcoords"
           }
          ],
          "pie": [
           {
            "automargin": true,
            "type": "pie"
           }
          ],
          "scatter": [
           {
            "fillpattern": {
             "fillmode": "overlay",
             "size": 10,
             "solidity": 0.2
            },
            "type": "scatter"
           }
          ],
          "scatter3d": [
           {
            "line": {
             "colorbar": {
              "outlinewidth": 0,
              "ticks": ""
             }
            },
            "marker": {
             "colorbar": {
              "outlinewidth": 0,
              "ticks": ""
             }
            },
            "type": "scatter3d"
           }
          ],
          "scattercarpet": [
           {
            "marker": {
             "colorbar": {
              "outlinewidth": 0,
              "ticks": ""
             }
            },
            "type": "scattercarpet"
           }
          ],
          "scattergeo": [
           {
            "marker": {
             "colorbar": {
              "outlinewidth": 0,
              "ticks": ""
             }
            },
            "type": "scattergeo"
           }
          ],
          "scattergl": [
           {
            "marker": {
             "colorbar": {
              "outlinewidth": 0,
              "ticks": ""
             }
            },
            "type": "scattergl"
           }
          ],
          "scattermap": [
           {
            "marker": {
             "colorbar": {
              "outlinewidth": 0,
              "ticks": ""
             }
            },
            "type": "scattermap"
           }
          ],
          "scattermapbox": [
           {
            "marker": {
             "colorbar": {
              "outlinewidth": 0,
              "ticks": ""
             }
            },
            "type": "scattermapbox"
           }
          ],
          "scatterpolar": [
           {
            "marker": {
             "colorbar": {
              "outlinewidth": 0,
              "ticks": ""
             }
            },
            "type": "scatterpolar"
           }
          ],
          "scatterpolargl": [
           {
            "marker": {
             "colorbar": {
              "outlinewidth": 0,
              "ticks": ""
             }
            },
            "type": "scatterpolargl"
           }
          ],
          "scatterternary": [
           {
            "marker": {
             "colorbar": {
              "outlinewidth": 0,
              "ticks": ""
             }
            },
            "type": "scatterternary"
           }
          ],
          "surface": [
           {
            "colorbar": {
             "outlinewidth": 0,
             "ticks": ""
            },
            "colorscale": [
             [
              0,
              "#0d0887"
             ],
             [
              0.1111111111111111,
              "#46039f"
             ],
             [
              0.2222222222222222,
              "#7201a8"
             ],
             [
              0.3333333333333333,
              "#9c179e"
             ],
             [
              0.4444444444444444,
              "#bd3786"
             ],
             [
              0.5555555555555556,
              "#d8576b"
             ],
             [
              0.6666666666666666,
              "#ed7953"
             ],
             [
              0.7777777777777778,
              "#fb9f3a"
             ],
             [
              0.8888888888888888,
              "#fdca26"
             ],
             [
              1,
              "#f0f921"
             ]
            ],
            "type": "surface"
           }
          ],
          "table": [
           {
            "cells": {
             "fill": {
              "color": "#EBF0F8"
             },
             "line": {
              "color": "white"
             }
            },
            "header": {
             "fill": {
              "color": "#C8D4E3"
             },
             "line": {
              "color": "white"
             }
            },
            "type": "table"
           }
          ]
         },
         "layout": {
          "annotationdefaults": {
           "arrowcolor": "#2a3f5f",
           "arrowhead": 0,
           "arrowwidth": 1
          },
          "autotypenumbers": "strict",
          "coloraxis": {
           "colorbar": {
            "outlinewidth": 0,
            "ticks": ""
           }
          },
          "colorscale": {
           "diverging": [
            [
             0,
             "#8e0152"
            ],
            [
             0.1,
             "#c51b7d"
            ],
            [
             0.2,
             "#de77ae"
            ],
            [
             0.3,
             "#f1b6da"
            ],
            [
             0.4,
             "#fde0ef"
            ],
            [
             0.5,
             "#f7f7f7"
            ],
            [
             0.6,
             "#e6f5d0"
            ],
            [
             0.7,
             "#b8e186"
            ],
            [
             0.8,
             "#7fbc41"
            ],
            [
             0.9,
             "#4d9221"
            ],
            [
             1,
             "#276419"
            ]
           ],
           "sequential": [
            [
             0,
             "#0d0887"
            ],
            [
             0.1111111111111111,
             "#46039f"
            ],
            [
             0.2222222222222222,
             "#7201a8"
            ],
            [
             0.3333333333333333,
             "#9c179e"
            ],
            [
             0.4444444444444444,
             "#bd3786"
            ],
            [
             0.5555555555555556,
             "#d8576b"
            ],
            [
             0.6666666666666666,
             "#ed7953"
            ],
            [
             0.7777777777777778,
             "#fb9f3a"
            ],
            [
             0.8888888888888888,
             "#fdca26"
            ],
            [
             1,
             "#f0f921"
            ]
           ],
           "sequentialminus": [
            [
             0,
             "#0d0887"
            ],
            [
             0.1111111111111111,
             "#46039f"
            ],
            [
             0.2222222222222222,
             "#7201a8"
            ],
            [
             0.3333333333333333,
             "#9c179e"
            ],
            [
             0.4444444444444444,
             "#bd3786"
            ],
            [
             0.5555555555555556,
             "#d8576b"
            ],
            [
             0.6666666666666666,
             "#ed7953"
            ],
            [
             0.7777777777777778,
             "#fb9f3a"
            ],
            [
             0.8888888888888888,
             "#fdca26"
            ],
            [
             1,
             "#f0f921"
            ]
           ]
          },
          "colorway": [
           "#636efa",
           "#EF553B",
           "#00cc96",
           "#ab63fa",
           "#FFA15A",
           "#19d3f3",
           "#FF6692",
           "#B6E880",
           "#FF97FF",
           "#FECB52"
          ],
          "font": {
           "color": "#2a3f5f"
          },
          "geo": {
           "bgcolor": "white",
           "lakecolor": "white",
           "landcolor": "#E5ECF6",
           "showlakes": true,
           "showland": true,
           "subunitcolor": "white"
          },
          "hoverlabel": {
           "align": "left"
          },
          "hovermode": "closest",
          "mapbox": {
           "style": "light"
          },
          "paper_bgcolor": "white",
          "plot_bgcolor": "#E5ECF6",
          "polar": {
           "angularaxis": {
            "gridcolor": "white",
            "linecolor": "white",
            "ticks": ""
           },
           "bgcolor": "#E5ECF6",
           "radialaxis": {
            "gridcolor": "white",
            "linecolor": "white",
            "ticks": ""
           }
          },
          "scene": {
           "xaxis": {
            "backgroundcolor": "#E5ECF6",
            "gridcolor": "white",
            "gridwidth": 2,
            "linecolor": "white",
            "showbackground": true,
            "ticks": "",
            "zerolinecolor": "white"
           },
           "yaxis": {
            "backgroundcolor": "#E5ECF6",
            "gridcolor": "white",
            "gridwidth": 2,
            "linecolor": "white",
            "showbackground": true,
            "ticks": "",
            "zerolinecolor": "white"
           },
           "zaxis": {
            "backgroundcolor": "#E5ECF6",
            "gridcolor": "white",
            "gridwidth": 2,
            "linecolor": "white",
            "showbackground": true,
            "ticks": "",
            "zerolinecolor": "white"
           }
          },
          "shapedefaults": {
           "line": {
            "color": "#2a3f5f"
           }
          },
          "ternary": {
           "aaxis": {
            "gridcolor": "white",
            "linecolor": "white",
            "ticks": ""
           },
           "baxis": {
            "gridcolor": "white",
            "linecolor": "white",
            "ticks": ""
           },
           "bgcolor": "#E5ECF6",
           "caxis": {
            "gridcolor": "white",
            "linecolor": "white",
            "ticks": ""
           }
          },
          "title": {
           "x": 0.05
          },
          "xaxis": {
           "automargin": true,
           "gridcolor": "white",
           "linecolor": "white",
           "ticks": "",
           "title": {
            "standoff": 15
           },
           "zerolinecolor": "white",
           "zerolinewidth": 2
          },
          "yaxis": {
           "automargin": true,
           "gridcolor": "white",
           "linecolor": "white",
           "ticks": "",
           "title": {
            "standoff": 15
           },
           "zerolinecolor": "white",
           "zerolinewidth": 2
          }
         }
        },
        "title": {
         "text": "Consommation moyenne par puissance moteur"
        },
        "xaxis": {
         "anchor": "y",
         "domain": [
          0,
          1
         ],
         "title": {
          "text": "Type de puissance moteur"
         }
        },
        "yaxis": {
         "anchor": "x",
         "domain": [
          0,
          1
         ],
         "title": {
          "text": "Consommation moyenne (MPG)"
         }
        }
       }
      },
      "text/html": [
       "<div>            <script src=\"https://cdnjs.cloudflare.com/ajax/libs/mathjax/2.7.5/MathJax.js?config=TeX-AMS-MML_SVG\"></script><script type=\"text/javascript\">if (window.MathJax && window.MathJax.Hub && window.MathJax.Hub.Config) {window.MathJax.Hub.Config({SVG: {font: \"STIX-Web\"}});}</script>                <script type=\"text/javascript\">window.PlotlyConfig = {MathJaxConfig: 'local'};</script>\n",
       "        <script charset=\"utf-8\" src=\"https://cdn.plot.ly/plotly-3.0.1.min.js\"></script>                <div id=\"d5172284-b6ea-42c9-b8d1-c51703008af8\" class=\"plotly-graph-div\" style=\"height:525px; width:100%;\"></div>            <script type=\"text/javascript\">                window.PLOTLYENV=window.PLOTLYENV || {};                                if (document.getElementById(\"d5172284-b6ea-42c9-b8d1-c51703008af8\")) {                    Plotly.newPlot(                        \"d5172284-b6ea-42c9-b8d1-c51703008af8\",                        [{\"error_y\":{\"array\":{\"dtype\":\"f8\",\"bdata\":\"6nErc4cCB0AAAAAAAAD4fwAAAAAAAPh\\u002fAAAAAAAA+H8AAAAAAAD4fw==\"}},\"hovertemplate\":\"Nombre de cylindres=3\\u003cbr\\u003eType de puissance moteur=%{x}\\u003cbr\\u003eConsommation moyenne (MPG)=%{y}\\u003cextra\\u003e\\u003c\\u002fextra\\u003e\",\"legendgroup\":\"3\",\"line\":{\"color\":\"#636efa\",\"dash\":\"solid\"},\"marker\":{\"symbol\":\"circle\"},\"mode\":\"lines+markers\",\"name\":\"3\",\"orientation\":\"v\",\"showlegend\":true,\"x\":[\"Tr\\u00e8s faible\",\"Faible\",\"Moyenne\",\"\\u00c9lev\\u00e9e\",\"Tr\\u00e8s \\u00e9lev\\u00e9e\"],\"xaxis\":\"x\",\"y\":{\"dtype\":\"f8\",\"bdata\":\"dNFFF110PUAAAAAAAAD4fwAAAAAAAPh\\u002fAAAAAAAA+H8AAAAAAAD4fw==\"},\"yaxis\":\"y\",\"type\":\"scatter\"},{\"error_y\":{\"array\":{\"dtype\":\"f8\",\"bdata\":\"vKDnqndLEkCQVMqu5mQLQDE2nUU4BAZAImgkySXK\\u002fz+8cLYU3lQGQA==\"}},\"hovertemplate\":\"Nombre de cylindres=4\\u003cbr\\u003eType de puissance moteur=%{x}\\u003cbr\\u003eConsommation moyenne (MPG)=%{y}\\u003cextra\\u003e\\u003c\\u002fextra\\u003e\",\"legendgroup\":\"4\",\"line\":{\"color\":\"#EF553B\",\"dash\":\"solid\"},\"marker\":{\"symbol\":\"circle\"},\"mode\":\"lines+markers\",\"name\":\"4\",\"orientation\":\"v\",\"showlegend\":true,\"x\":[\"Tr\\u00e8s faible\",\"Faible\",\"Moyenne\",\"\\u00c9lev\\u00e9e\",\"Tr\\u00e8s \\u00e9lev\\u00e9e\"],\"xaxis\":\"x\",\"y\":{\"dtype\":\"f8\",\"bdata\":\"fR4nbJTWO0Dlglvlgps6QEvnE\\u002fc4GTpAAAAAAABCOEB00UUXXTQ4QA==\"},\"yaxis\":\"y\",\"type\":\"scatter\"},{\"error_y\":{\"array\":{\"dtype\":\"f8\",\"bdata\":\"jlIFJm2y\\u002fz8Zfs8TdFgIQHGrCK2RxwdAAAAAAAAA+H8AAAAAAAAAAA==\"}},\"hovertemplate\":\"Nombre de cylindres=5\\u003cbr\\u003eType de puissance moteur=%{x}\\u003cbr\\u003eConsommation moyenne (MPG)=%{y}\\u003cextra\\u003e\\u003c\\u002fextra\\u003e\",\"legendgroup\":\"5\",\"line\":{\"color\":\"#00cc96\",\"dash\":\"solid\"},\"marker\":{\"symbol\":\"circle\"},\"mode\":\"lines+markers\",\"name\":\"5\",\"orientation\":\"v\",\"showlegend\":true,\"x\":[\"Tr\\u00e8s faible\",\"Faible\",\"Moyenne\",\"\\u00c9lev\\u00e9e\",\"Tr\\u00e8s \\u00e9lev\\u00e9e\"],\"xaxis\":\"x\",\"y\":{\"dtype\":\"f8\",\"bdata\":\"kiRJkiSJN0ByHMdxHEc3QIiHh4eHhzVAAAAAAAAA+H8AAAAAAIA1QA==\"},\"yaxis\":\"y\",\"type\":\"scatter\"},{\"error_y\":{\"array\":{\"dtype\":\"f8\",\"bdata\":\"5GpoIdJEAUBpq+MMmwIDQBK\\u002fr7JSegVALUJubrtdBUB1gnohqtYDQA==\"}},\"hovertemplate\":\"Nombre de cylindres=6\\u003cbr\\u003eType de puissance moteur=%{x}\\u003cbr\\u003eConsommation moyenne (MPG)=%{y}\\u003cextra\\u003e\\u003c\\u002fextra\\u003e\",\"legendgroup\":\"6\",\"line\":{\"color\":\"#ab63fa\",\"dash\":\"solid\"},\"marker\":{\"symbol\":\"circle\"},\"mode\":\"lines+markers\",\"name\":\"6\",\"orientation\":\"v\",\"showlegend\":true,\"x\":[\"Tr\\u00e8s faible\",\"Faible\",\"Moyenne\",\"\\u00c9lev\\u00e9e\",\"Tr\\u00e8s \\u00e9lev\\u00e9e\"],\"xaxis\":\"x\",\"y\":{\"dtype\":\"f8\",\"bdata\":\"01lMZzE9M0B\\u002f0rTRIpgyQNAStAQtwTNAavJBYvcTNUCtHjsCdNA1QA==\"},\"yaxis\":\"y\",\"type\":\"scatter\"},{\"error_y\":{\"array\":{\"dtype\":\"f8\",\"bdata\":\"lmBHs4BiAkDErO6FJ5wEQAzh4LkObf0\\u002fi3mizpgGAkDciD0KZOMCQA==\"}},\"hovertemplate\":\"Nombre de cylindres=8\\u003cbr\\u003eType de puissance moteur=%{x}\\u003cbr\\u003eConsommation moyenne (MPG)=%{y}\\u003cextra\\u003e\\u003c\\u002fextra\\u003e\",\"legendgroup\":\"8\",\"line\":{\"color\":\"#FFA15A\",\"dash\":\"solid\"},\"marker\":{\"symbol\":\"circle\"},\"mode\":\"lines+markers\",\"name\":\"8\",\"orientation\":\"v\",\"showlegend\":true,\"x\":[\"Tr\\u00e8s faible\",\"Faible\",\"Moyenne\",\"\\u00c9lev\\u00e9e\",\"Tr\\u00e8s \\u00e9lev\\u00e9e\"],\"xaxis\":\"x\",\"y\":{\"dtype\":\"f8\",\"bdata\":\"AAAAAACwMUCe53me53ktQMVO7MRO7C1A3\\u002fIt3\\u002fJtMEAqVKhQocIxQA==\"},\"yaxis\":\"y\",\"type\":\"scatter\"}],                        {\"template\":{\"data\":{\"histogram2dcontour\":[{\"type\":\"histogram2dcontour\",\"colorbar\":{\"outlinewidth\":0,\"ticks\":\"\"},\"colorscale\":[[0.0,\"#0d0887\"],[0.1111111111111111,\"#46039f\"],[0.2222222222222222,\"#7201a8\"],[0.3333333333333333,\"#9c179e\"],[0.4444444444444444,\"#bd3786\"],[0.5555555555555556,\"#d8576b\"],[0.6666666666666666,\"#ed7953\"],[0.7777777777777778,\"#fb9f3a\"],[0.8888888888888888,\"#fdca26\"],[1.0,\"#f0f921\"]]}],\"choropleth\":[{\"type\":\"choropleth\",\"colorbar\":{\"outlinewidth\":0,\"ticks\":\"\"}}],\"histogram2d\":[{\"type\":\"histogram2d\",\"colorbar\":{\"outlinewidth\":0,\"ticks\":\"\"},\"colorscale\":[[0.0,\"#0d0887\"],[0.1111111111111111,\"#46039f\"],[0.2222222222222222,\"#7201a8\"],[0.3333333333333333,\"#9c179e\"],[0.4444444444444444,\"#bd3786\"],[0.5555555555555556,\"#d8576b\"],[0.6666666666666666,\"#ed7953\"],[0.7777777777777778,\"#fb9f3a\"],[0.8888888888888888,\"#fdca26\"],[1.0,\"#f0f921\"]]}],\"heatmap\":[{\"type\":\"heatmap\",\"colorbar\":{\"outlinewidth\":0,\"ticks\":\"\"},\"colorscale\":[[0.0,\"#0d0887\"],[0.1111111111111111,\"#46039f\"],[0.2222222222222222,\"#7201a8\"],[0.3333333333333333,\"#9c179e\"],[0.4444444444444444,\"#bd3786\"],[0.5555555555555556,\"#d8576b\"],[0.6666666666666666,\"#ed7953\"],[0.7777777777777778,\"#fb9f3a\"],[0.8888888888888888,\"#fdca26\"],[1.0,\"#f0f921\"]]}],\"contourcarpet\":[{\"type\":\"contourcarpet\",\"colorbar\":{\"outlinewidth\":0,\"ticks\":\"\"}}],\"contour\":[{\"type\":\"contour\",\"colorbar\":{\"outlinewidth\":0,\"ticks\":\"\"},\"colorscale\":[[0.0,\"#0d0887\"],[0.1111111111111111,\"#46039f\"],[0.2222222222222222,\"#7201a8\"],[0.3333333333333333,\"#9c179e\"],[0.4444444444444444,\"#bd3786\"],[0.5555555555555556,\"#d8576b\"],[0.6666666666666666,\"#ed7953\"],[0.7777777777777778,\"#fb9f3a\"],[0.8888888888888888,\"#fdca26\"],[1.0,\"#f0f921\"]]}],\"surface\":[{\"type\":\"surface\",\"colorbar\":{\"outlinewidth\":0,\"ticks\":\"\"},\"colorscale\":[[0.0,\"#0d0887\"],[0.1111111111111111,\"#46039f\"],[0.2222222222222222,\"#7201a8\"],[0.3333333333333333,\"#9c179e\"],[0.4444444444444444,\"#bd3786\"],[0.5555555555555556,\"#d8576b\"],[0.6666666666666666,\"#ed7953\"],[0.7777777777777778,\"#fb9f3a\"],[0.8888888888888888,\"#fdca26\"],[1.0,\"#f0f921\"]]}],\"mesh3d\":[{\"type\":\"mesh3d\",\"colorbar\":{\"outlinewidth\":0,\"ticks\":\"\"}}],\"scatter\":[{\"fillpattern\":{\"fillmode\":\"overlay\",\"size\":10,\"solidity\":0.2},\"type\":\"scatter\"}],\"parcoords\":[{\"type\":\"parcoords\",\"line\":{\"colorbar\":{\"outlinewidth\":0,\"ticks\":\"\"}}}],\"scatterpolargl\":[{\"type\":\"scatterpolargl\",\"marker\":{\"colorbar\":{\"outlinewidth\":0,\"ticks\":\"\"}}}],\"bar\":[{\"error_x\":{\"color\":\"#2a3f5f\"},\"error_y\":{\"color\":\"#2a3f5f\"},\"marker\":{\"line\":{\"color\":\"#E5ECF6\",\"width\":0.5},\"pattern\":{\"fillmode\":\"overlay\",\"size\":10,\"solidity\":0.2}},\"type\":\"bar\"}],\"scattergeo\":[{\"type\":\"scattergeo\",\"marker\":{\"colorbar\":{\"outlinewidth\":0,\"ticks\":\"\"}}}],\"scatterpolar\":[{\"type\":\"scatterpolar\",\"marker\":{\"colorbar\":{\"outlinewidth\":0,\"ticks\":\"\"}}}],\"histogram\":[{\"marker\":{\"pattern\":{\"fillmode\":\"overlay\",\"size\":10,\"solidity\":0.2}},\"type\":\"histogram\"}],\"scattergl\":[{\"type\":\"scattergl\",\"marker\":{\"colorbar\":{\"outlinewidth\":0,\"ticks\":\"\"}}}],\"scatter3d\":[{\"type\":\"scatter3d\",\"line\":{\"colorbar\":{\"outlinewidth\":0,\"ticks\":\"\"}},\"marker\":{\"colorbar\":{\"outlinewidth\":0,\"ticks\":\"\"}}}],\"scattermap\":[{\"type\":\"scattermap\",\"marker\":{\"colorbar\":{\"outlinewidth\":0,\"ticks\":\"\"}}}],\"scattermapbox\":[{\"type\":\"scattermapbox\",\"marker\":{\"colorbar\":{\"outlinewidth\":0,\"ticks\":\"\"}}}],\"scatterternary\":[{\"type\":\"scatterternary\",\"marker\":{\"colorbar\":{\"outlinewidth\":0,\"ticks\":\"\"}}}],\"scattercarpet\":[{\"type\":\"scattercarpet\",\"marker\":{\"colorbar\":{\"outlinewidth\":0,\"ticks\":\"\"}}}],\"carpet\":[{\"aaxis\":{\"endlinecolor\":\"#2a3f5f\",\"gridcolor\":\"white\",\"linecolor\":\"white\",\"minorgridcolor\":\"white\",\"startlinecolor\":\"#2a3f5f\"},\"baxis\":{\"endlinecolor\":\"#2a3f5f\",\"gridcolor\":\"white\",\"linecolor\":\"white\",\"minorgridcolor\":\"white\",\"startlinecolor\":\"#2a3f5f\"},\"type\":\"carpet\"}],\"table\":[{\"cells\":{\"fill\":{\"color\":\"#EBF0F8\"},\"line\":{\"color\":\"white\"}},\"header\":{\"fill\":{\"color\":\"#C8D4E3\"},\"line\":{\"color\":\"white\"}},\"type\":\"table\"}],\"barpolar\":[{\"marker\":{\"line\":{\"color\":\"#E5ECF6\",\"width\":0.5},\"pattern\":{\"fillmode\":\"overlay\",\"size\":10,\"solidity\":0.2}},\"type\":\"barpolar\"}],\"pie\":[{\"automargin\":true,\"type\":\"pie\"}]},\"layout\":{\"autotypenumbers\":\"strict\",\"colorway\":[\"#636efa\",\"#EF553B\",\"#00cc96\",\"#ab63fa\",\"#FFA15A\",\"#19d3f3\",\"#FF6692\",\"#B6E880\",\"#FF97FF\",\"#FECB52\"],\"font\":{\"color\":\"#2a3f5f\"},\"hovermode\":\"closest\",\"hoverlabel\":{\"align\":\"left\"},\"paper_bgcolor\":\"white\",\"plot_bgcolor\":\"#E5ECF6\",\"polar\":{\"bgcolor\":\"#E5ECF6\",\"angularaxis\":{\"gridcolor\":\"white\",\"linecolor\":\"white\",\"ticks\":\"\"},\"radialaxis\":{\"gridcolor\":\"white\",\"linecolor\":\"white\",\"ticks\":\"\"}},\"ternary\":{\"bgcolor\":\"#E5ECF6\",\"aaxis\":{\"gridcolor\":\"white\",\"linecolor\":\"white\",\"ticks\":\"\"},\"baxis\":{\"gridcolor\":\"white\",\"linecolor\":\"white\",\"ticks\":\"\"},\"caxis\":{\"gridcolor\":\"white\",\"linecolor\":\"white\",\"ticks\":\"\"}},\"coloraxis\":{\"colorbar\":{\"outlinewidth\":0,\"ticks\":\"\"}},\"colorscale\":{\"sequential\":[[0.0,\"#0d0887\"],[0.1111111111111111,\"#46039f\"],[0.2222222222222222,\"#7201a8\"],[0.3333333333333333,\"#9c179e\"],[0.4444444444444444,\"#bd3786\"],[0.5555555555555556,\"#d8576b\"],[0.6666666666666666,\"#ed7953\"],[0.7777777777777778,\"#fb9f3a\"],[0.8888888888888888,\"#fdca26\"],[1.0,\"#f0f921\"]],\"sequentialminus\":[[0.0,\"#0d0887\"],[0.1111111111111111,\"#46039f\"],[0.2222222222222222,\"#7201a8\"],[0.3333333333333333,\"#9c179e\"],[0.4444444444444444,\"#bd3786\"],[0.5555555555555556,\"#d8576b\"],[0.6666666666666666,\"#ed7953\"],[0.7777777777777778,\"#fb9f3a\"],[0.8888888888888888,\"#fdca26\"],[1.0,\"#f0f921\"]],\"diverging\":[[0,\"#8e0152\"],[0.1,\"#c51b7d\"],[0.2,\"#de77ae\"],[0.3,\"#f1b6da\"],[0.4,\"#fde0ef\"],[0.5,\"#f7f7f7\"],[0.6,\"#e6f5d0\"],[0.7,\"#b8e186\"],[0.8,\"#7fbc41\"],[0.9,\"#4d9221\"],[1,\"#276419\"]]},\"xaxis\":{\"gridcolor\":\"white\",\"linecolor\":\"white\",\"ticks\":\"\",\"title\":{\"standoff\":15},\"zerolinecolor\":\"white\",\"automargin\":true,\"zerolinewidth\":2},\"yaxis\":{\"gridcolor\":\"white\",\"linecolor\":\"white\",\"ticks\":\"\",\"title\":{\"standoff\":15},\"zerolinecolor\":\"white\",\"automargin\":true,\"zerolinewidth\":2},\"scene\":{\"xaxis\":{\"backgroundcolor\":\"#E5ECF6\",\"gridcolor\":\"white\",\"linecolor\":\"white\",\"showbackground\":true,\"ticks\":\"\",\"zerolinecolor\":\"white\",\"gridwidth\":2},\"yaxis\":{\"backgroundcolor\":\"#E5ECF6\",\"gridcolor\":\"white\",\"linecolor\":\"white\",\"showbackground\":true,\"ticks\":\"\",\"zerolinecolor\":\"white\",\"gridwidth\":2},\"zaxis\":{\"backgroundcolor\":\"#E5ECF6\",\"gridcolor\":\"white\",\"linecolor\":\"white\",\"showbackground\":true,\"ticks\":\"\",\"zerolinecolor\":\"white\",\"gridwidth\":2}},\"shapedefaults\":{\"line\":{\"color\":\"#2a3f5f\"}},\"annotationdefaults\":{\"arrowcolor\":\"#2a3f5f\",\"arrowhead\":0,\"arrowwidth\":1},\"geo\":{\"bgcolor\":\"white\",\"landcolor\":\"#E5ECF6\",\"subunitcolor\":\"white\",\"showland\":true,\"showlakes\":true,\"lakecolor\":\"white\"},\"title\":{\"x\":0.05},\"mapbox\":{\"style\":\"light\"}}},\"xaxis\":{\"anchor\":\"y\",\"domain\":[0.0,1.0],\"title\":{\"text\":\"Type de puissance moteur\"}},\"yaxis\":{\"anchor\":\"x\",\"domain\":[0.0,1.0],\"title\":{\"text\":\"Consommation moyenne (MPG)\"}},\"legend\":{\"title\":{\"text\":\"Nb Cylindres\"},\"tracegroupgap\":0},\"title\":{\"text\":\"Consommation moyenne par puissance moteur\"}},                        {\"responsive\": true}                    ).then(function(){\n",
       "                            \n",
       "var gd = document.getElementById('d5172284-b6ea-42c9-b8d1-c51703008af8');\n",
       "var x = new MutationObserver(function (mutations, observer) {{\n",
       "        var display = window.getComputedStyle(gd).display;\n",
       "        if (!display || display === 'none') {{\n",
       "            console.log([gd, 'removed!']);\n",
       "            Plotly.purge(gd);\n",
       "            observer.disconnect();\n",
       "        }}\n",
       "}});\n",
       "\n",
       "// Listen for the removal of the full notebook cells\n",
       "var notebookContainer = gd.closest('#notebook-container');\n",
       "if (notebookContainer) {{\n",
       "    x.observe(notebookContainer, {childList: true});\n",
       "}}\n",
       "\n",
       "// Listen for the clearing of the current output cell\n",
       "var outputEl = gd.closest('.output');\n",
       "if (outputEl) {{\n",
       "    x.observe(outputEl, {childList: true});\n",
       "}}\n",
       "\n",
       "                        })                };            </script>        </div>"
      ]
     },
     "metadata": {},
     "output_type": "display_data"
    }
   ],
   "source": [
    "# Suppression des lignes avec valeurs manquantes\n",
    "df_clean = df.dropna(subset=['hp', 'highway_mpg', 'city_mpg', 'cylinders']).copy()\n",
    "\n",
    "# Calcul de la consommation moyenne\n",
    "df_clean['Average MPG'] = (df_clean['highway_mpg'] + df_clean['city_mpg']) / 2\n",
    "\n",
    "# Filtrage : suppression des moteurs à 0 cylindre (valeurs aberrantes)\n",
    "df_clean = df_clean[df_clean['cylinders'] > 0]\n",
    "\n",
    "# Tranches de puissance moteur\n",
    "df_clean['HP Range'] = pd.qcut(df_clean['hp'], q=5, labels=[\n",
    "    'Très faible', 'Faible', 'Moyenne', 'Élevée', 'Très élevée'])\n",
    "\n",
    "# Conversion des cylindres à entier\n",
    "df_clean['cylinders'] = df_clean['cylinders'].round().astype('Int64')\n",
    "\n",
    "# Agrégation\n",
    "df_filtered = df_clean.groupby(['HP Range', 'cylinders']).agg(\n",
    "    avg_mpg=('Average MPG', 'mean'),\n",
    "    std_mpg=('Average MPG', 'std')\n",
    ").reset_index()\n",
    "\n",
    "# Graphique interactif\n",
    "fig = px.line(\n",
    "    df_filtered,\n",
    "    x='HP Range',\n",
    "    y='avg_mpg',\n",
    "    error_y='std_mpg',\n",
    "    color='cylinders',\n",
    "    markers=True,\n",
    "    title=\"Consommation moyenne par puissance moteur\",\n",
    "    labels={\n",
    "        \"HP Range\": \"Type de puissance moteur\",\n",
    "        \"avg_mpg\": \"Consommation moyenne (MPG)\",\n",
    "        \"cylinders\": \"Nombre de cylindres\"\n",
    "    }\n",
    ")\n",
    "\n",
    "fig.update_layout(\n",
    "    legend_title_text='Nb Cylindres',\n",
    "    yaxis_title=\"Consommation moyenne (MPG)\",\n",
    "    xaxis_title=\"Type de puissance moteur\"\n",
    ")\n",
    "\n",
    "fig.show()\n"
   ]
  },
  {
   "cell_type": "markdown",
   "id": "39fcfc74",
   "metadata": {},
   "source": [
    "\n",
    "## Analyse croisée de la consommation moyenne selon la puissance moteur et le nombre de cylindres\n",
    "\n",
    "Ce graphique interactif illustre la consommation moyenne de carburant (exprimée en miles par gallon – MPG) en fonction de deux caractéristiques mécaniques clés : la puissance du moteur et le nombre de cylindres. L’objectif est de mettre en évidence les liens entre performance moteur et rendement énergétique.\n",
    "\n",
    "### Distribution générale : plus de puissance, moins de sobriété\n",
    "\n",
    "On observe une **diminution progressive de la consommation moyenne (MPG) à mesure que la puissance augmente**. Cela confirme l’intuition selon laquelle les véhicules les plus puissants, quelle que soit leur configuration mécanique, sont aussi les moins économes en carburant. Cette tendance peut s’expliquer par plusieurs facteurs :\n",
    "\n",
    "- Une **augmentation de la cylindrée et du couple** nécessite plus d’énergie, donc plus de carburant.\n",
    "- Les véhicules puissants sont souvent plus **lourds, rapides ou orientés performance**, ce qui augmente naturellement la consommation.\n",
    "- Une **sollicitation plus importante du moteur** dans les plages de puissance supérieures induit des pertes énergétiques.\n",
    "\n",
    "### L'influence du nombre de cylindres\n",
    "\n",
    "En croisant la puissance avec le nombre de cylindres, plusieurs observations se dégagent :\n",
    "\n",
    "- Les **moteurs 3 et 4 cylindres** restent globalement les plus sobres, même dans les tranches moyennes de puissance.\n",
    "- À partir de **6 cylindres**, la consommation moyenne augmente sensiblement et suit une évolution relativement stable selon la puissance.\n",
    "- Les moteurs à **10, 12, voire 16 cylindres** présentent une consommation très élevée, cohérente avec leur usage dans des véhicules de luxe, sportifs ou utilitaires haut de gamme.\n",
    "\n",
    "Cette répartition démontre que le **nombre de cylindres est un indicateur fiable de rendement énergétique**, en complément de la puissance brute du moteur.\n",
    "\n",
    "### Hypothèses explicatives et interprétations\n",
    "\n",
    "Plusieurs hypothèses permettent de compléter l’interprétation de ces résultats :\n",
    "\n",
    "- **Optimisation technologique** : certains moteurs 4 cylindres très performants affichent une consommation contenue grâce aux innovations (turbo, hybridation, désactivation de cylindres, etc.).\n",
    "- **Catégories des véhicules** : les véhicules à fort nombre de cylindres appartiennent souvent à des catégories plus énergivores (SUV, sportives, utilitaires).\n",
    "- **Évolution réglementaire** : des motorisations avec une réduction de cylindrée apparaissent dans les tranches de puissance élevées, pour concilier performance et sobriété.\n",
    "\n",
    "### Conclusion\n",
    "\n",
    "Ce graphique montre que la consommation moyenne des véhicules est **étroitement corrélée à la puissance moteur et au nombre de cylindres**. Si la tendance générale confirme qu’un moteur plus puissant consomme davantage, des nuances apparaissent selon les technologies utilisées et les segments de véhicules. Cette analyse permet d'évaluer les compromis entre performance et efficacité énergétique pour les voitures que nous souhaitons vendre. Il serait interessant de faire une étude comparative des prix des véhicules en fonction de son moteur et d'observer quels sont les catégories de voitures qui se démarquent.\n",
    "\n"
   ]
  },
  {
   "cell_type": "code",
   "execution_count": 29,
   "id": "7aa00df3",
   "metadata": {},
   "outputs": [
    {
     "name": "stderr",
     "output_type": "stream",
     "text": [
      "C:\\Users\\jerem\\AppData\\Local\\Temp\\ipykernel_24452\\838335851.py:9: FutureWarning:\n",
      "\n",
      "The default of observed=False is deprecated and will be changed to True in a future version of pandas. Pass observed=False to retain current behavior or observed=True to adopt the future default and silence this warning.\n",
      "\n",
      "C:\\Users\\jerem\\AppData\\Local\\Temp\\ipykernel_24452\\838335851.py:13: FutureWarning:\n",
      "\n",
      "The default of observed=False is deprecated and will be changed to True in a future version of pandas. Pass observed=False to retain current behavior or observed=True to adopt the future default and silence this warning.\n",
      "\n"
     ]
    },
    {
     "data": {
      "application/vnd.plotly.v1+json": {
       "config": {
        "plotlyServerURL": "https://plot.ly"
       },
       "data": [
        {
         "hovertemplate": "<b>%{x}</b><br>Catégorie: Crossover<br>Prix moyen: $%{y}<br>Nombre de véhicules: %{text}",
         "name": "Crossover",
         "text": {
          "bdata": "AAAAAABgdkAAAAAAAAB6QAAAAAAAMIFAAAAAAAAge0AAAAAAAMBkQA==",
          "dtype": "f8"
         },
         "textposition": "outside",
         "type": "bar",
         "x": [
          "Très faible",
          "Faible",
          "Moyenne",
          "Élevée",
          "Très élevée"
         ],
         "y": {
          "bdata": "AAAAAEDV10AAAAAAwIHcQAAAAACgZuJAAAAAAOA85EAAAAAAgFPoQA==",
          "dtype": "f8"
         }
        },
        {
         "hovertemplate": "<b>%{x}</b><br>Catégorie: Diesel<br>Prix moyen: $%{y}<br>Nombre de véhicules: %{text}",
         "name": "Diesel",
         "text": {
          "bdata": "AAAAAACAS0AAAAAAAAA5QAAAAAAAQFBAAAAAAAAAMEAAAAAAAAAQQA==",
          "dtype": "f8"
         },
         "textposition": "outside",
         "type": "bar",
         "x": [
          "Très faible",
          "Faible",
          "Moyenne",
          "Élevée",
          "Très élevée"
         ],
         "y": {
          "bdata": "AAAAAMBL2EAAAAAAIGnkQAAAAAAAy+hAAAAAAGAm4EAAAAAAgBflQA==",
          "dtype": "f8"
         }
        },
        {
         "hovertemplate": "<b>%{x}</b><br>Catégorie: Exotic<br>Prix moyen: $%{y}<br>Nombre de véhicules: %{text}",
         "name": "Exotic",
         "text": {
          "bdata": "AAAAAAAAAAAAAAAAAAAgQAAAAAAAACRAAAAAAAAAAAAAAAAAAAAAQA==",
          "dtype": "f8"
         },
         "textposition": "outside",
         "type": "bar",
         "x": [
          "Très faible",
          "Faible",
          "Moyenne",
          "Élevée",
          "Très élevée"
         ],
         "y": {
          "bdata": "AAAAAAAA+H8AAAAAQDnpQAAAAACwYvBAAAAAAAAA+H8AAAAAgCPxQA==",
          "dtype": "f8"
         }
        },
        {
         "hovertemplate": "<b>%{x}</b><br>Catégorie: Factory Tuner<br>Prix moyen: $%{y}<br>Nombre de véhicules: %{text}",
         "name": "Factory Tuner",
         "text": {
          "bdata": "AAAAAAAALEAAAAAAAIBHQAAAAAAAAEZAAAAAAACAS0AAAAAAAKBmQA==",
          "dtype": "f8"
         },
         "textposition": "outside",
         "type": "bar",
         "x": [
          "Très faible",
          "Faible",
          "Moyenne",
          "Élevée",
          "Très élevée"
         ],
         "y": {
          "bdata": "AAAAAIDrykAAAAAAQGbUQAAAAACAl9dAAAAAAMCI30AAAAAAAK/nQA==",
          "dtype": "f8"
         }
        },
        {
         "hovertemplate": "<b>%{x}</b><br>Catégorie: Flex Fuel<br>Prix moyen: $%{y}<br>Nombre de véhicules: %{text}",
         "name": "Flex Fuel",
         "text": {
          "bdata": "AAAAAACAWUAAAAAAAEBiQAAAAAAAgFlAAAAAAACQeUAAAAAAAHB1QA==",
          "dtype": "f8"
         },
         "textposition": "outside",
         "type": "bar",
         "x": [
          "Très faible",
          "Faible",
          "Moyenne",
          "Élevée",
          "Très élevée"
         ],
         "y": {
          "bdata": "AAAAAECB0EAAAAAAgPzaQAAAAAAg3uBAAAAAAOBc4EAAAAAAgHDlQA==",
          "dtype": "f8"
         }
        },
        {
         "hovertemplate": "<b>%{x}</b><br>Catégorie: Hatchback<br>Prix moyen: $%{y}<br>Nombre de véhicules: %{text}",
         "name": "Hatchback",
         "text": {
          "bdata": "AAAAAAA4gkAAAAAAAIBvQAAAAAAAAEtAAAAAAAAAPEAAAAAAAAAqQA==",
          "dtype": "f8"
         },
         "textposition": "outside",
         "type": "bar",
         "x": [
          "Très faible",
          "Faible",
          "Moyenne",
          "Élevée",
          "Très élevée"
         ],
         "y": {
          "bdata": "AAAAAAB+zUAAAAAAALDWQAAAAACAWt5AAAAAAKBL5kAAAAAAgMzWQA==",
          "dtype": "f8"
         }
        },
        {
         "hovertemplate": "<b>%{x}</b><br>Catégorie: High-Performance<br>Prix moyen: $%{y}<br>Nombre de véhicules: %{text}",
         "name": "High-Performance",
         "text": {
          "bdata": "AAAAAAAAAAAAAAAAAAAgQAAAAAAAAEFAAAAAAACAWkAAAAAAAMB6QA==",
          "dtype": "f8"
         },
         "textposition": "outside",
         "type": "bar",
         "x": [
          "Très faible",
          "Faible",
          "Moyenne",
          "Élevée",
          "Très élevée"
         ],
         "y": {
          "bdata": "AAAAAAAA+H8AAAAAQDnpQAAAAACgn+hAAAAAAEAS40AAAAAAgLroQA==",
          "dtype": "f8"
         }
        },
        {
         "hovertemplate": "<b>%{x}</b><br>Catégorie: Hybrid<br>Prix moyen: $%{y}<br>Nombre de véhicules: %{text}",
         "name": "Hybrid",
         "text": {
          "bdata": "AAAAAAAANEAAAAAAAAAkQAAAAAAAADFAAAAAAAAAJEAAAAAAAMBRQA==",
          "dtype": "f8"
         },
         "textposition": "outside",
         "type": "bar",
         "x": [
          "Très faible",
          "Faible",
          "Moyenne",
          "Élevée",
          "Très élevée"
         ],
         "y": {
          "bdata": "AAAAAEBB2EAAAAAAoDLgQAAAAADg4eVAAAAAAEDs5kAAAAAAQFbpQA==",
          "dtype": "f8"
         }
        },
        {
         "hovertemplate": "<b>%{x}</b><br>Catégorie: Luxury<br>Prix moyen: $%{y}<br>Nombre de véhicules: %{text}",
         "name": "Luxury",
         "text": {
          "bdata": "AAAAAACgaUAAAAAAAOB5QAAAAAAAQIRAAAAAAACwfkAAAAAAAOiEQA==",
          "dtype": "f8"
         },
         "textposition": "outside",
         "type": "bar",
         "x": [
          "Très faible",
          "Faible",
          "Moyenne",
          "Élevée",
          "Très élevée"
         ],
         "y": {
          "bdata": "AAAAAIDtxUAAAAAAAIjbQAAAAACgz+NAAAAAAACp5UAAAAAAgK3pQA==",
          "dtype": "f8"
         }
        },
        {
         "hovertemplate": "<b>%{x}</b><br>Catégorie: Performance<br>Prix moyen: $%{y}<br>Nombre de véhicules: %{text}",
         "name": "Performance",
         "text": {
          "bdata": "AAAAAABgYEAAAAAAAIB6QAAAAAAAMHpAAAAAAADQdkAAAAAAANB4QA==",
          "dtype": "f8"
         },
         "textposition": "outside",
         "type": "bar",
         "x": [
          "Très faible",
          "Faible",
          "Moyenne",
          "Élevée",
          "Très élevée"
         ],
         "y": {
          "bdata": "AAAAAMAR0UAAAAAAwLXWQAAAAACALN9AAAAAAGCm40AAAAAA4KznQA==",
          "dtype": "f8"
         }
        }
       ],
       "layout": {
        "barmode": "group",
        "legend": {
         "title": {
          "text": "Catégorie de véhicule"
         }
        },
        "template": {
         "data": {
          "bar": [
           {
            "error_x": {
             "color": "#2a3f5f"
            },
            "error_y": {
             "color": "#2a3f5f"
            },
            "marker": {
             "line": {
              "color": "#E5ECF6",
              "width": 0.5
             },
             "pattern": {
              "fillmode": "overlay",
              "size": 10,
              "solidity": 0.2
             }
            },
            "type": "bar"
           }
          ],
          "barpolar": [
           {
            "marker": {
             "line": {
              "color": "#E5ECF6",
              "width": 0.5
             },
             "pattern": {
              "fillmode": "overlay",
              "size": 10,
              "solidity": 0.2
             }
            },
            "type": "barpolar"
           }
          ],
          "carpet": [
           {
            "aaxis": {
             "endlinecolor": "#2a3f5f",
             "gridcolor": "white",
             "linecolor": "white",
             "minorgridcolor": "white",
             "startlinecolor": "#2a3f5f"
            },
            "baxis": {
             "endlinecolor": "#2a3f5f",
             "gridcolor": "white",
             "linecolor": "white",
             "minorgridcolor": "white",
             "startlinecolor": "#2a3f5f"
            },
            "type": "carpet"
           }
          ],
          "choropleth": [
           {
            "colorbar": {
             "outlinewidth": 0,
             "ticks": ""
            },
            "type": "choropleth"
           }
          ],
          "contour": [
           {
            "colorbar": {
             "outlinewidth": 0,
             "ticks": ""
            },
            "colorscale": [
             [
              0,
              "#0d0887"
             ],
             [
              0.1111111111111111,
              "#46039f"
             ],
             [
              0.2222222222222222,
              "#7201a8"
             ],
             [
              0.3333333333333333,
              "#9c179e"
             ],
             [
              0.4444444444444444,
              "#bd3786"
             ],
             [
              0.5555555555555556,
              "#d8576b"
             ],
             [
              0.6666666666666666,
              "#ed7953"
             ],
             [
              0.7777777777777778,
              "#fb9f3a"
             ],
             [
              0.8888888888888888,
              "#fdca26"
             ],
             [
              1,
              "#f0f921"
             ]
            ],
            "type": "contour"
           }
          ],
          "contourcarpet": [
           {
            "colorbar": {
             "outlinewidth": 0,
             "ticks": ""
            },
            "type": "contourcarpet"
           }
          ],
          "heatmap": [
           {
            "colorbar": {
             "outlinewidth": 0,
             "ticks": ""
            },
            "colorscale": [
             [
              0,
              "#0d0887"
             ],
             [
              0.1111111111111111,
              "#46039f"
             ],
             [
              0.2222222222222222,
              "#7201a8"
             ],
             [
              0.3333333333333333,
              "#9c179e"
             ],
             [
              0.4444444444444444,
              "#bd3786"
             ],
             [
              0.5555555555555556,
              "#d8576b"
             ],
             [
              0.6666666666666666,
              "#ed7953"
             ],
             [
              0.7777777777777778,
              "#fb9f3a"
             ],
             [
              0.8888888888888888,
              "#fdca26"
             ],
             [
              1,
              "#f0f921"
             ]
            ],
            "type": "heatmap"
           }
          ],
          "histogram": [
           {
            "marker": {
             "pattern": {
              "fillmode": "overlay",
              "size": 10,
              "solidity": 0.2
             }
            },
            "type": "histogram"
           }
          ],
          "histogram2d": [
           {
            "colorbar": {
             "outlinewidth": 0,
             "ticks": ""
            },
            "colorscale": [
             [
              0,
              "#0d0887"
             ],
             [
              0.1111111111111111,
              "#46039f"
             ],
             [
              0.2222222222222222,
              "#7201a8"
             ],
             [
              0.3333333333333333,
              "#9c179e"
             ],
             [
              0.4444444444444444,
              "#bd3786"
             ],
             [
              0.5555555555555556,
              "#d8576b"
             ],
             [
              0.6666666666666666,
              "#ed7953"
             ],
             [
              0.7777777777777778,
              "#fb9f3a"
             ],
             [
              0.8888888888888888,
              "#fdca26"
             ],
             [
              1,
              "#f0f921"
             ]
            ],
            "type": "histogram2d"
           }
          ],
          "histogram2dcontour": [
           {
            "colorbar": {
             "outlinewidth": 0,
             "ticks": ""
            },
            "colorscale": [
             [
              0,
              "#0d0887"
             ],
             [
              0.1111111111111111,
              "#46039f"
             ],
             [
              0.2222222222222222,
              "#7201a8"
             ],
             [
              0.3333333333333333,
              "#9c179e"
             ],
             [
              0.4444444444444444,
              "#bd3786"
             ],
             [
              0.5555555555555556,
              "#d8576b"
             ],
             [
              0.6666666666666666,
              "#ed7953"
             ],
             [
              0.7777777777777778,
              "#fb9f3a"
             ],
             [
              0.8888888888888888,
              "#fdca26"
             ],
             [
              1,
              "#f0f921"
             ]
            ],
            "type": "histogram2dcontour"
           }
          ],
          "mesh3d": [
           {
            "colorbar": {
             "outlinewidth": 0,
             "ticks": ""
            },
            "type": "mesh3d"
           }
          ],
          "parcoords": [
           {
            "line": {
             "colorbar": {
              "outlinewidth": 0,
              "ticks": ""
             }
            },
            "type": "parcoords"
           }
          ],
          "pie": [
           {
            "automargin": true,
            "type": "pie"
           }
          ],
          "scatter": [
           {
            "fillpattern": {
             "fillmode": "overlay",
             "size": 10,
             "solidity": 0.2
            },
            "type": "scatter"
           }
          ],
          "scatter3d": [
           {
            "line": {
             "colorbar": {
              "outlinewidth": 0,
              "ticks": ""
             }
            },
            "marker": {
             "colorbar": {
              "outlinewidth": 0,
              "ticks": ""
             }
            },
            "type": "scatter3d"
           }
          ],
          "scattercarpet": [
           {
            "marker": {
             "colorbar": {
              "outlinewidth": 0,
              "ticks": ""
             }
            },
            "type": "scattercarpet"
           }
          ],
          "scattergeo": [
           {
            "marker": {
             "colorbar": {
              "outlinewidth": 0,
              "ticks": ""
             }
            },
            "type": "scattergeo"
           }
          ],
          "scattergl": [
           {
            "marker": {
             "colorbar": {
              "outlinewidth": 0,
              "ticks": ""
             }
            },
            "type": "scattergl"
           }
          ],
          "scattermap": [
           {
            "marker": {
             "colorbar": {
              "outlinewidth": 0,
              "ticks": ""
             }
            },
            "type": "scattermap"
           }
          ],
          "scattermapbox": [
           {
            "marker": {
             "colorbar": {
              "outlinewidth": 0,
              "ticks": ""
             }
            },
            "type": "scattermapbox"
           }
          ],
          "scatterpolar": [
           {
            "marker": {
             "colorbar": {
              "outlinewidth": 0,
              "ticks": ""
             }
            },
            "type": "scatterpolar"
           }
          ],
          "scatterpolargl": [
           {
            "marker": {
             "colorbar": {
              "outlinewidth": 0,
              "ticks": ""
             }
            },
            "type": "scatterpolargl"
           }
          ],
          "scatterternary": [
           {
            "marker": {
             "colorbar": {
              "outlinewidth": 0,
              "ticks": ""
             }
            },
            "type": "scatterternary"
           }
          ],
          "surface": [
           {
            "colorbar": {
             "outlinewidth": 0,
             "ticks": ""
            },
            "colorscale": [
             [
              0,
              "#0d0887"
             ],
             [
              0.1111111111111111,
              "#46039f"
             ],
             [
              0.2222222222222222,
              "#7201a8"
             ],
             [
              0.3333333333333333,
              "#9c179e"
             ],
             [
              0.4444444444444444,
              "#bd3786"
             ],
             [
              0.5555555555555556,
              "#d8576b"
             ],
             [
              0.6666666666666666,
              "#ed7953"
             ],
             [
              0.7777777777777778,
              "#fb9f3a"
             ],
             [
              0.8888888888888888,
              "#fdca26"
             ],
             [
              1,
              "#f0f921"
             ]
            ],
            "type": "surface"
           }
          ],
          "table": [
           {
            "cells": {
             "fill": {
              "color": "#EBF0F8"
             },
             "line": {
              "color": "white"
             }
            },
            "header": {
             "fill": {
              "color": "#C8D4E3"
             },
             "line": {
              "color": "white"
             }
            },
            "type": "table"
           }
          ]
         },
         "layout": {
          "annotationdefaults": {
           "arrowcolor": "#2a3f5f",
           "arrowhead": 0,
           "arrowwidth": 1
          },
          "autotypenumbers": "strict",
          "coloraxis": {
           "colorbar": {
            "outlinewidth": 0,
            "ticks": ""
           }
          },
          "colorscale": {
           "diverging": [
            [
             0,
             "#8e0152"
            ],
            [
             0.1,
             "#c51b7d"
            ],
            [
             0.2,
             "#de77ae"
            ],
            [
             0.3,
             "#f1b6da"
            ],
            [
             0.4,
             "#fde0ef"
            ],
            [
             0.5,
             "#f7f7f7"
            ],
            [
             0.6,
             "#e6f5d0"
            ],
            [
             0.7,
             "#b8e186"
            ],
            [
             0.8,
             "#7fbc41"
            ],
            [
             0.9,
             "#4d9221"
            ],
            [
             1,
             "#276419"
            ]
           ],
           "sequential": [
            [
             0,
             "#0d0887"
            ],
            [
             0.1111111111111111,
             "#46039f"
            ],
            [
             0.2222222222222222,
             "#7201a8"
            ],
            [
             0.3333333333333333,
             "#9c179e"
            ],
            [
             0.4444444444444444,
             "#bd3786"
            ],
            [
             0.5555555555555556,
             "#d8576b"
            ],
            [
             0.6666666666666666,
             "#ed7953"
            ],
            [
             0.7777777777777778,
             "#fb9f3a"
            ],
            [
             0.8888888888888888,
             "#fdca26"
            ],
            [
             1,
             "#f0f921"
            ]
           ],
           "sequentialminus": [
            [
             0,
             "#0d0887"
            ],
            [
             0.1111111111111111,
             "#46039f"
            ],
            [
             0.2222222222222222,
             "#7201a8"
            ],
            [
             0.3333333333333333,
             "#9c179e"
            ],
            [
             0.4444444444444444,
             "#bd3786"
            ],
            [
             0.5555555555555556,
             "#d8576b"
            ],
            [
             0.6666666666666666,
             "#ed7953"
            ],
            [
             0.7777777777777778,
             "#fb9f3a"
            ],
            [
             0.8888888888888888,
             "#fdca26"
            ],
            [
             1,
             "#f0f921"
            ]
           ]
          },
          "colorway": [
           "#636efa",
           "#EF553B",
           "#00cc96",
           "#ab63fa",
           "#FFA15A",
           "#19d3f3",
           "#FF6692",
           "#B6E880",
           "#FF97FF",
           "#FECB52"
          ],
          "font": {
           "color": "#2a3f5f"
          },
          "geo": {
           "bgcolor": "white",
           "lakecolor": "white",
           "landcolor": "#E5ECF6",
           "showlakes": true,
           "showland": true,
           "subunitcolor": "white"
          },
          "hoverlabel": {
           "align": "left"
          },
          "hovermode": "closest",
          "mapbox": {
           "style": "light"
          },
          "paper_bgcolor": "white",
          "plot_bgcolor": "#E5ECF6",
          "polar": {
           "angularaxis": {
            "gridcolor": "white",
            "linecolor": "white",
            "ticks": ""
           },
           "bgcolor": "#E5ECF6",
           "radialaxis": {
            "gridcolor": "white",
            "linecolor": "white",
            "ticks": ""
           }
          },
          "scene": {
           "xaxis": {
            "backgroundcolor": "#E5ECF6",
            "gridcolor": "white",
            "gridwidth": 2,
            "linecolor": "white",
            "showbackground": true,
            "ticks": "",
            "zerolinecolor": "white"
           },
           "yaxis": {
            "backgroundcolor": "#E5ECF6",
            "gridcolor": "white",
            "gridwidth": 2,
            "linecolor": "white",
            "showbackground": true,
            "ticks": "",
            "zerolinecolor": "white"
           },
           "zaxis": {
            "backgroundcolor": "#E5ECF6",
            "gridcolor": "white",
            "gridwidth": 2,
            "linecolor": "white",
            "showbackground": true,
            "ticks": "",
            "zerolinecolor": "white"
           }
          },
          "shapedefaults": {
           "line": {
            "color": "#2a3f5f"
           }
          },
          "ternary": {
           "aaxis": {
            "gridcolor": "white",
            "linecolor": "white",
            "ticks": ""
           },
           "baxis": {
            "gridcolor": "white",
            "linecolor": "white",
            "ticks": ""
           },
           "bgcolor": "#E5ECF6",
           "caxis": {
            "gridcolor": "white",
            "linecolor": "white",
            "ticks": ""
           }
          },
          "title": {
           "x": 0.05
          },
          "xaxis": {
           "automargin": true,
           "gridcolor": "white",
           "linecolor": "white",
           "ticks": "",
           "title": {
            "standoff": 15
           },
           "zerolinecolor": "white",
           "zerolinewidth": 2
          },
          "yaxis": {
           "automargin": true,
           "gridcolor": "white",
           "linecolor": "white",
           "ticks": "",
           "title": {
            "standoff": 15
           },
           "zerolinecolor": "white",
           "zerolinewidth": 2
          }
         }
        },
        "title": {
         "text": "Prix moyen (price) par catégorie de voiture et puissance moteur (avec nombre de véhicules)"
        },
        "xaxis": {
         "categoryarray": [
          "Très faible",
          "Faible",
          "Moyenne",
          "Élevée",
          "Très élevée"
         ],
         "categoryorder": "array",
         "title": {
          "text": "Type de puissance moteur"
         }
        },
        "yaxis": {
         "title": {
          "text": "Prix moyen des véhicules ($)"
         }
        }
       }
      },
      "text/html": [
       "<div>            <script src=\"https://cdnjs.cloudflare.com/ajax/libs/mathjax/2.7.5/MathJax.js?config=TeX-AMS-MML_SVG\"></script><script type=\"text/javascript\">if (window.MathJax && window.MathJax.Hub && window.MathJax.Hub.Config) {window.MathJax.Hub.Config({SVG: {font: \"STIX-Web\"}});}</script>                <script type=\"text/javascript\">window.PlotlyConfig = {MathJaxConfig: 'local'};</script>\n",
       "        <script charset=\"utf-8\" src=\"https://cdn.plot.ly/plotly-3.0.1.min.js\"></script>                <div id=\"2160fbf8-45f9-47b1-8b91-4a93766b343d\" class=\"plotly-graph-div\" style=\"height:525px; width:100%;\"></div>            <script type=\"text/javascript\">                window.PLOTLYENV=window.PLOTLYENV || {};                                if (document.getElementById(\"2160fbf8-45f9-47b1-8b91-4a93766b343d\")) {                    Plotly.newPlot(                        \"2160fbf8-45f9-47b1-8b91-4a93766b343d\",                        [{\"hovertemplate\":\"\\u003cb\\u003e%{x}\\u003c\\u002fb\\u003e\\u003cbr\\u003eCat\\u00e9gorie: Crossover\\u003cbr\\u003ePrix moyen: $%{y}\\u003cbr\\u003eNombre de v\\u00e9hicules: %{text}\",\"name\":\"Crossover\",\"text\":{\"dtype\":\"f8\",\"bdata\":\"AAAAAABgdkAAAAAAAAB6QAAAAAAAMIFAAAAAAAAge0AAAAAAAMBkQA==\"},\"textposition\":\"outside\",\"x\":[\"Tr\\u00e8s faible\",\"Faible\",\"Moyenne\",\"\\u00c9lev\\u00e9e\",\"Tr\\u00e8s \\u00e9lev\\u00e9e\"],\"y\":{\"dtype\":\"f8\",\"bdata\":\"AAAAAEDV10AAAAAAwIHcQAAAAACgZuJAAAAAAOA85EAAAAAAgFPoQA==\"},\"type\":\"bar\"},{\"hovertemplate\":\"\\u003cb\\u003e%{x}\\u003c\\u002fb\\u003e\\u003cbr\\u003eCat\\u00e9gorie: Diesel\\u003cbr\\u003ePrix moyen: $%{y}\\u003cbr\\u003eNombre de v\\u00e9hicules: %{text}\",\"name\":\"Diesel\",\"text\":{\"dtype\":\"f8\",\"bdata\":\"AAAAAACAS0AAAAAAAAA5QAAAAAAAQFBAAAAAAAAAMEAAAAAAAAAQQA==\"},\"textposition\":\"outside\",\"x\":[\"Tr\\u00e8s faible\",\"Faible\",\"Moyenne\",\"\\u00c9lev\\u00e9e\",\"Tr\\u00e8s \\u00e9lev\\u00e9e\"],\"y\":{\"dtype\":\"f8\",\"bdata\":\"AAAAAMBL2EAAAAAAIGnkQAAAAAAAy+hAAAAAAGAm4EAAAAAAgBflQA==\"},\"type\":\"bar\"},{\"hovertemplate\":\"\\u003cb\\u003e%{x}\\u003c\\u002fb\\u003e\\u003cbr\\u003eCat\\u00e9gorie: Exotic\\u003cbr\\u003ePrix moyen: $%{y}\\u003cbr\\u003eNombre de v\\u00e9hicules: %{text}\",\"name\":\"Exotic\",\"text\":{\"dtype\":\"f8\",\"bdata\":\"AAAAAAAAAAAAAAAAAAAgQAAAAAAAACRAAAAAAAAAAAAAAAAAAAAAQA==\"},\"textposition\":\"outside\",\"x\":[\"Tr\\u00e8s faible\",\"Faible\",\"Moyenne\",\"\\u00c9lev\\u00e9e\",\"Tr\\u00e8s \\u00e9lev\\u00e9e\"],\"y\":{\"dtype\":\"f8\",\"bdata\":\"AAAAAAAA+H8AAAAAQDnpQAAAAACwYvBAAAAAAAAA+H8AAAAAgCPxQA==\"},\"type\":\"bar\"},{\"hovertemplate\":\"\\u003cb\\u003e%{x}\\u003c\\u002fb\\u003e\\u003cbr\\u003eCat\\u00e9gorie: Factory Tuner\\u003cbr\\u003ePrix moyen: $%{y}\\u003cbr\\u003eNombre de v\\u00e9hicules: %{text}\",\"name\":\"Factory Tuner\",\"text\":{\"dtype\":\"f8\",\"bdata\":\"AAAAAAAALEAAAAAAAIBHQAAAAAAAAEZAAAAAAACAS0AAAAAAAKBmQA==\"},\"textposition\":\"outside\",\"x\":[\"Tr\\u00e8s faible\",\"Faible\",\"Moyenne\",\"\\u00c9lev\\u00e9e\",\"Tr\\u00e8s \\u00e9lev\\u00e9e\"],\"y\":{\"dtype\":\"f8\",\"bdata\":\"AAAAAIDrykAAAAAAQGbUQAAAAACAl9dAAAAAAMCI30AAAAAAAK\\u002fnQA==\"},\"type\":\"bar\"},{\"hovertemplate\":\"\\u003cb\\u003e%{x}\\u003c\\u002fb\\u003e\\u003cbr\\u003eCat\\u00e9gorie: Flex Fuel\\u003cbr\\u003ePrix moyen: $%{y}\\u003cbr\\u003eNombre de v\\u00e9hicules: %{text}\",\"name\":\"Flex Fuel\",\"text\":{\"dtype\":\"f8\",\"bdata\":\"AAAAAACAWUAAAAAAAEBiQAAAAAAAgFlAAAAAAACQeUAAAAAAAHB1QA==\"},\"textposition\":\"outside\",\"x\":[\"Tr\\u00e8s faible\",\"Faible\",\"Moyenne\",\"\\u00c9lev\\u00e9e\",\"Tr\\u00e8s \\u00e9lev\\u00e9e\"],\"y\":{\"dtype\":\"f8\",\"bdata\":\"AAAAAECB0EAAAAAAgPzaQAAAAAAg3uBAAAAAAOBc4EAAAAAAgHDlQA==\"},\"type\":\"bar\"},{\"hovertemplate\":\"\\u003cb\\u003e%{x}\\u003c\\u002fb\\u003e\\u003cbr\\u003eCat\\u00e9gorie: Hatchback\\u003cbr\\u003ePrix moyen: $%{y}\\u003cbr\\u003eNombre de v\\u00e9hicules: %{text}\",\"name\":\"Hatchback\",\"text\":{\"dtype\":\"f8\",\"bdata\":\"AAAAAAA4gkAAAAAAAIBvQAAAAAAAAEtAAAAAAAAAPEAAAAAAAAAqQA==\"},\"textposition\":\"outside\",\"x\":[\"Tr\\u00e8s faible\",\"Faible\",\"Moyenne\",\"\\u00c9lev\\u00e9e\",\"Tr\\u00e8s \\u00e9lev\\u00e9e\"],\"y\":{\"dtype\":\"f8\",\"bdata\":\"AAAAAAB+zUAAAAAAALDWQAAAAACAWt5AAAAAAKBL5kAAAAAAgMzWQA==\"},\"type\":\"bar\"},{\"hovertemplate\":\"\\u003cb\\u003e%{x}\\u003c\\u002fb\\u003e\\u003cbr\\u003eCat\\u00e9gorie: High-Performance\\u003cbr\\u003ePrix moyen: $%{y}\\u003cbr\\u003eNombre de v\\u00e9hicules: %{text}\",\"name\":\"High-Performance\",\"text\":{\"dtype\":\"f8\",\"bdata\":\"AAAAAAAAAAAAAAAAAAAgQAAAAAAAAEFAAAAAAACAWkAAAAAAAMB6QA==\"},\"textposition\":\"outside\",\"x\":[\"Tr\\u00e8s faible\",\"Faible\",\"Moyenne\",\"\\u00c9lev\\u00e9e\",\"Tr\\u00e8s \\u00e9lev\\u00e9e\"],\"y\":{\"dtype\":\"f8\",\"bdata\":\"AAAAAAAA+H8AAAAAQDnpQAAAAACgn+hAAAAAAEAS40AAAAAAgLroQA==\"},\"type\":\"bar\"},{\"hovertemplate\":\"\\u003cb\\u003e%{x}\\u003c\\u002fb\\u003e\\u003cbr\\u003eCat\\u00e9gorie: Hybrid\\u003cbr\\u003ePrix moyen: $%{y}\\u003cbr\\u003eNombre de v\\u00e9hicules: %{text}\",\"name\":\"Hybrid\",\"text\":{\"dtype\":\"f8\",\"bdata\":\"AAAAAAAANEAAAAAAAAAkQAAAAAAAADFAAAAAAAAAJEAAAAAAAMBRQA==\"},\"textposition\":\"outside\",\"x\":[\"Tr\\u00e8s faible\",\"Faible\",\"Moyenne\",\"\\u00c9lev\\u00e9e\",\"Tr\\u00e8s \\u00e9lev\\u00e9e\"],\"y\":{\"dtype\":\"f8\",\"bdata\":\"AAAAAEBB2EAAAAAAoDLgQAAAAADg4eVAAAAAAEDs5kAAAAAAQFbpQA==\"},\"type\":\"bar\"},{\"hovertemplate\":\"\\u003cb\\u003e%{x}\\u003c\\u002fb\\u003e\\u003cbr\\u003eCat\\u00e9gorie: Luxury\\u003cbr\\u003ePrix moyen: $%{y}\\u003cbr\\u003eNombre de v\\u00e9hicules: %{text}\",\"name\":\"Luxury\",\"text\":{\"dtype\":\"f8\",\"bdata\":\"AAAAAACgaUAAAAAAAOB5QAAAAAAAQIRAAAAAAACwfkAAAAAAAOiEQA==\"},\"textposition\":\"outside\",\"x\":[\"Tr\\u00e8s faible\",\"Faible\",\"Moyenne\",\"\\u00c9lev\\u00e9e\",\"Tr\\u00e8s \\u00e9lev\\u00e9e\"],\"y\":{\"dtype\":\"f8\",\"bdata\":\"AAAAAIDtxUAAAAAAAIjbQAAAAACgz+NAAAAAAACp5UAAAAAAgK3pQA==\"},\"type\":\"bar\"},{\"hovertemplate\":\"\\u003cb\\u003e%{x}\\u003c\\u002fb\\u003e\\u003cbr\\u003eCat\\u00e9gorie: Performance\\u003cbr\\u003ePrix moyen: $%{y}\\u003cbr\\u003eNombre de v\\u00e9hicules: %{text}\",\"name\":\"Performance\",\"text\":{\"dtype\":\"f8\",\"bdata\":\"AAAAAABgYEAAAAAAAIB6QAAAAAAAMHpAAAAAAADQdkAAAAAAANB4QA==\"},\"textposition\":\"outside\",\"x\":[\"Tr\\u00e8s faible\",\"Faible\",\"Moyenne\",\"\\u00c9lev\\u00e9e\",\"Tr\\u00e8s \\u00e9lev\\u00e9e\"],\"y\":{\"dtype\":\"f8\",\"bdata\":\"AAAAAMAR0UAAAAAAwLXWQAAAAACALN9AAAAAAGCm40AAAAAA4KznQA==\"},\"type\":\"bar\"}],                        {\"template\":{\"data\":{\"histogram2dcontour\":[{\"type\":\"histogram2dcontour\",\"colorbar\":{\"outlinewidth\":0,\"ticks\":\"\"},\"colorscale\":[[0.0,\"#0d0887\"],[0.1111111111111111,\"#46039f\"],[0.2222222222222222,\"#7201a8\"],[0.3333333333333333,\"#9c179e\"],[0.4444444444444444,\"#bd3786\"],[0.5555555555555556,\"#d8576b\"],[0.6666666666666666,\"#ed7953\"],[0.7777777777777778,\"#fb9f3a\"],[0.8888888888888888,\"#fdca26\"],[1.0,\"#f0f921\"]]}],\"choropleth\":[{\"type\":\"choropleth\",\"colorbar\":{\"outlinewidth\":0,\"ticks\":\"\"}}],\"histogram2d\":[{\"type\":\"histogram2d\",\"colorbar\":{\"outlinewidth\":0,\"ticks\":\"\"},\"colorscale\":[[0.0,\"#0d0887\"],[0.1111111111111111,\"#46039f\"],[0.2222222222222222,\"#7201a8\"],[0.3333333333333333,\"#9c179e\"],[0.4444444444444444,\"#bd3786\"],[0.5555555555555556,\"#d8576b\"],[0.6666666666666666,\"#ed7953\"],[0.7777777777777778,\"#fb9f3a\"],[0.8888888888888888,\"#fdca26\"],[1.0,\"#f0f921\"]]}],\"heatmap\":[{\"type\":\"heatmap\",\"colorbar\":{\"outlinewidth\":0,\"ticks\":\"\"},\"colorscale\":[[0.0,\"#0d0887\"],[0.1111111111111111,\"#46039f\"],[0.2222222222222222,\"#7201a8\"],[0.3333333333333333,\"#9c179e\"],[0.4444444444444444,\"#bd3786\"],[0.5555555555555556,\"#d8576b\"],[0.6666666666666666,\"#ed7953\"],[0.7777777777777778,\"#fb9f3a\"],[0.8888888888888888,\"#fdca26\"],[1.0,\"#f0f921\"]]}],\"contourcarpet\":[{\"type\":\"contourcarpet\",\"colorbar\":{\"outlinewidth\":0,\"ticks\":\"\"}}],\"contour\":[{\"type\":\"contour\",\"colorbar\":{\"outlinewidth\":0,\"ticks\":\"\"},\"colorscale\":[[0.0,\"#0d0887\"],[0.1111111111111111,\"#46039f\"],[0.2222222222222222,\"#7201a8\"],[0.3333333333333333,\"#9c179e\"],[0.4444444444444444,\"#bd3786\"],[0.5555555555555556,\"#d8576b\"],[0.6666666666666666,\"#ed7953\"],[0.7777777777777778,\"#fb9f3a\"],[0.8888888888888888,\"#fdca26\"],[1.0,\"#f0f921\"]]}],\"surface\":[{\"type\":\"surface\",\"colorbar\":{\"outlinewidth\":0,\"ticks\":\"\"},\"colorscale\":[[0.0,\"#0d0887\"],[0.1111111111111111,\"#46039f\"],[0.2222222222222222,\"#7201a8\"],[0.3333333333333333,\"#9c179e\"],[0.4444444444444444,\"#bd3786\"],[0.5555555555555556,\"#d8576b\"],[0.6666666666666666,\"#ed7953\"],[0.7777777777777778,\"#fb9f3a\"],[0.8888888888888888,\"#fdca26\"],[1.0,\"#f0f921\"]]}],\"mesh3d\":[{\"type\":\"mesh3d\",\"colorbar\":{\"outlinewidth\":0,\"ticks\":\"\"}}],\"scatter\":[{\"fillpattern\":{\"fillmode\":\"overlay\",\"size\":10,\"solidity\":0.2},\"type\":\"scatter\"}],\"parcoords\":[{\"type\":\"parcoords\",\"line\":{\"colorbar\":{\"outlinewidth\":0,\"ticks\":\"\"}}}],\"scatterpolargl\":[{\"type\":\"scatterpolargl\",\"marker\":{\"colorbar\":{\"outlinewidth\":0,\"ticks\":\"\"}}}],\"bar\":[{\"error_x\":{\"color\":\"#2a3f5f\"},\"error_y\":{\"color\":\"#2a3f5f\"},\"marker\":{\"line\":{\"color\":\"#E5ECF6\",\"width\":0.5},\"pattern\":{\"fillmode\":\"overlay\",\"size\":10,\"solidity\":0.2}},\"type\":\"bar\"}],\"scattergeo\":[{\"type\":\"scattergeo\",\"marker\":{\"colorbar\":{\"outlinewidth\":0,\"ticks\":\"\"}}}],\"scatterpolar\":[{\"type\":\"scatterpolar\",\"marker\":{\"colorbar\":{\"outlinewidth\":0,\"ticks\":\"\"}}}],\"histogram\":[{\"marker\":{\"pattern\":{\"fillmode\":\"overlay\",\"size\":10,\"solidity\":0.2}},\"type\":\"histogram\"}],\"scattergl\":[{\"type\":\"scattergl\",\"marker\":{\"colorbar\":{\"outlinewidth\":0,\"ticks\":\"\"}}}],\"scatter3d\":[{\"type\":\"scatter3d\",\"line\":{\"colorbar\":{\"outlinewidth\":0,\"ticks\":\"\"}},\"marker\":{\"colorbar\":{\"outlinewidth\":0,\"ticks\":\"\"}}}],\"scattermap\":[{\"type\":\"scattermap\",\"marker\":{\"colorbar\":{\"outlinewidth\":0,\"ticks\":\"\"}}}],\"scattermapbox\":[{\"type\":\"scattermapbox\",\"marker\":{\"colorbar\":{\"outlinewidth\":0,\"ticks\":\"\"}}}],\"scatterternary\":[{\"type\":\"scatterternary\",\"marker\":{\"colorbar\":{\"outlinewidth\":0,\"ticks\":\"\"}}}],\"scattercarpet\":[{\"type\":\"scattercarpet\",\"marker\":{\"colorbar\":{\"outlinewidth\":0,\"ticks\":\"\"}}}],\"carpet\":[{\"aaxis\":{\"endlinecolor\":\"#2a3f5f\",\"gridcolor\":\"white\",\"linecolor\":\"white\",\"minorgridcolor\":\"white\",\"startlinecolor\":\"#2a3f5f\"},\"baxis\":{\"endlinecolor\":\"#2a3f5f\",\"gridcolor\":\"white\",\"linecolor\":\"white\",\"minorgridcolor\":\"white\",\"startlinecolor\":\"#2a3f5f\"},\"type\":\"carpet\"}],\"table\":[{\"cells\":{\"fill\":{\"color\":\"#EBF0F8\"},\"line\":{\"color\":\"white\"}},\"header\":{\"fill\":{\"color\":\"#C8D4E3\"},\"line\":{\"color\":\"white\"}},\"type\":\"table\"}],\"barpolar\":[{\"marker\":{\"line\":{\"color\":\"#E5ECF6\",\"width\":0.5},\"pattern\":{\"fillmode\":\"overlay\",\"size\":10,\"solidity\":0.2}},\"type\":\"barpolar\"}],\"pie\":[{\"automargin\":true,\"type\":\"pie\"}]},\"layout\":{\"autotypenumbers\":\"strict\",\"colorway\":[\"#636efa\",\"#EF553B\",\"#00cc96\",\"#ab63fa\",\"#FFA15A\",\"#19d3f3\",\"#FF6692\",\"#B6E880\",\"#FF97FF\",\"#FECB52\"],\"font\":{\"color\":\"#2a3f5f\"},\"hovermode\":\"closest\",\"hoverlabel\":{\"align\":\"left\"},\"paper_bgcolor\":\"white\",\"plot_bgcolor\":\"#E5ECF6\",\"polar\":{\"bgcolor\":\"#E5ECF6\",\"angularaxis\":{\"gridcolor\":\"white\",\"linecolor\":\"white\",\"ticks\":\"\"},\"radialaxis\":{\"gridcolor\":\"white\",\"linecolor\":\"white\",\"ticks\":\"\"}},\"ternary\":{\"bgcolor\":\"#E5ECF6\",\"aaxis\":{\"gridcolor\":\"white\",\"linecolor\":\"white\",\"ticks\":\"\"},\"baxis\":{\"gridcolor\":\"white\",\"linecolor\":\"white\",\"ticks\":\"\"},\"caxis\":{\"gridcolor\":\"white\",\"linecolor\":\"white\",\"ticks\":\"\"}},\"coloraxis\":{\"colorbar\":{\"outlinewidth\":0,\"ticks\":\"\"}},\"colorscale\":{\"sequential\":[[0.0,\"#0d0887\"],[0.1111111111111111,\"#46039f\"],[0.2222222222222222,\"#7201a8\"],[0.3333333333333333,\"#9c179e\"],[0.4444444444444444,\"#bd3786\"],[0.5555555555555556,\"#d8576b\"],[0.6666666666666666,\"#ed7953\"],[0.7777777777777778,\"#fb9f3a\"],[0.8888888888888888,\"#fdca26\"],[1.0,\"#f0f921\"]],\"sequentialminus\":[[0.0,\"#0d0887\"],[0.1111111111111111,\"#46039f\"],[0.2222222222222222,\"#7201a8\"],[0.3333333333333333,\"#9c179e\"],[0.4444444444444444,\"#bd3786\"],[0.5555555555555556,\"#d8576b\"],[0.6666666666666666,\"#ed7953\"],[0.7777777777777778,\"#fb9f3a\"],[0.8888888888888888,\"#fdca26\"],[1.0,\"#f0f921\"]],\"diverging\":[[0,\"#8e0152\"],[0.1,\"#c51b7d\"],[0.2,\"#de77ae\"],[0.3,\"#f1b6da\"],[0.4,\"#fde0ef\"],[0.5,\"#f7f7f7\"],[0.6,\"#e6f5d0\"],[0.7,\"#b8e186\"],[0.8,\"#7fbc41\"],[0.9,\"#4d9221\"],[1,\"#276419\"]]},\"xaxis\":{\"gridcolor\":\"white\",\"linecolor\":\"white\",\"ticks\":\"\",\"title\":{\"standoff\":15},\"zerolinecolor\":\"white\",\"automargin\":true,\"zerolinewidth\":2},\"yaxis\":{\"gridcolor\":\"white\",\"linecolor\":\"white\",\"ticks\":\"\",\"title\":{\"standoff\":15},\"zerolinecolor\":\"white\",\"automargin\":true,\"zerolinewidth\":2},\"scene\":{\"xaxis\":{\"backgroundcolor\":\"#E5ECF6\",\"gridcolor\":\"white\",\"linecolor\":\"white\",\"showbackground\":true,\"ticks\":\"\",\"zerolinecolor\":\"white\",\"gridwidth\":2},\"yaxis\":{\"backgroundcolor\":\"#E5ECF6\",\"gridcolor\":\"white\",\"linecolor\":\"white\",\"showbackground\":true,\"ticks\":\"\",\"zerolinecolor\":\"white\",\"gridwidth\":2},\"zaxis\":{\"backgroundcolor\":\"#E5ECF6\",\"gridcolor\":\"white\",\"linecolor\":\"white\",\"showbackground\":true,\"ticks\":\"\",\"zerolinecolor\":\"white\",\"gridwidth\":2}},\"shapedefaults\":{\"line\":{\"color\":\"#2a3f5f\"}},\"annotationdefaults\":{\"arrowcolor\":\"#2a3f5f\",\"arrowhead\":0,\"arrowwidth\":1},\"geo\":{\"bgcolor\":\"white\",\"landcolor\":\"#E5ECF6\",\"subunitcolor\":\"white\",\"showland\":true,\"showlakes\":true,\"lakecolor\":\"white\"},\"title\":{\"x\":0.05},\"mapbox\":{\"style\":\"light\"}}},\"xaxis\":{\"title\":{\"text\":\"Type de puissance moteur\"},\"categoryorder\":\"array\",\"categoryarray\":[\"Tr\\u00e8s faible\",\"Faible\",\"Moyenne\",\"\\u00c9lev\\u00e9e\",\"Tr\\u00e8s \\u00e9lev\\u00e9e\"]},\"barmode\":\"group\",\"title\":{\"text\":\"Prix moyen (price) par cat\\u00e9gorie de voiture et puissance moteur (avec nombre de v\\u00e9hicules)\"},\"yaxis\":{\"title\":{\"text\":\"Prix moyen des v\\u00e9hicules ($)\"}},\"legend\":{\"title\":{\"text\":\"Cat\\u00e9gorie de v\\u00e9hicule\"}}},                        {\"responsive\": true}                    ).then(function(){\n",
       "                            \n",
       "var gd = document.getElementById('2160fbf8-45f9-47b1-8b91-4a93766b343d');\n",
       "var x = new MutationObserver(function (mutations, observer) {{\n",
       "        var display = window.getComputedStyle(gd).display;\n",
       "        if (!display || display === 'none') {{\n",
       "            console.log([gd, 'removed!']);\n",
       "            Plotly.purge(gd);\n",
       "            observer.disconnect();\n",
       "        }}\n",
       "}});\n",
       "\n",
       "// Listen for the removal of the full notebook cells\n",
       "var notebookContainer = gd.closest('#notebook-container');\n",
       "if (notebookContainer) {{\n",
       "    x.observe(notebookContainer, {childList: true});\n",
       "}}\n",
       "\n",
       "// Listen for the clearing of the current output cell\n",
       "var outputEl = gd.closest('.output');\n",
       "if (outputEl) {{\n",
       "    x.observe(outputEl, {childList: true});\n",
       "}}\n",
       "\n",
       "                        })                };            </script>        </div>"
      ]
     },
     "metadata": {},
     "output_type": "display_data"
    }
   ],
   "source": [
    "# Nettoyage et préparation\n",
    "df_clean = df.dropna(subset=['hp', 'market', 'price']).copy()\n",
    "df_clean['HP Range'] = pd.qcut(df_clean['hp'], q=5, labels=[\n",
    "    'Très faible', 'Faible', 'Moyenne', 'Élevée', 'Très élevée'])\n",
    "df_clean['market'] = df_clean['market'].str.split(',')\n",
    "df_exploded = df_clean.explode('market')\n",
    "\n",
    "# Calcul du prix moyen\n",
    "df_price = df_exploded.groupby(['HP Range', 'market'])['price'].mean().reset_index()\n",
    "df_price['price'] = df_price['price'].round(0)\n",
    "\n",
    "# Nombre de véhicules\n",
    "vehicle_counts = df_exploded.groupby(['HP Range', 'market']).size().reset_index(name='Nombre de véhicules')\n",
    "df_price_annotated = df_price.merge(vehicle_counts, on=['HP Range', 'market'])\n",
    "\n",
    "# Création du graphique avec annotations visibles\n",
    "fig = go.Figure()\n",
    "categories = df_price_annotated['market'].unique()\n",
    "hp_order = ['Très faible', 'Faible', 'Moyenne', 'Élevée', 'Très élevée']\n",
    "\n",
    "for category in categories:\n",
    "    df_cat = df_price_annotated[df_price_annotated['market'] == category]\n",
    "    fig.add_trace(go.Bar(\n",
    "        x=df_cat['HP Range'],\n",
    "        y=df_cat['price'],\n",
    "        name=category,\n",
    "        text=df_cat['Nombre de véhicules'],\n",
    "        textposition='outside',  # texte visible au-dessus des barres\n",
    "        hovertemplate='<b>%{x}</b><br>Catégorie: ' + category + '<br>Prix moyen: $%{y}<br>Nombre de véhicules: %{text}',\n",
    "    ))\n",
    "\n",
    "# Mise en forme\n",
    "fig.update_layout(\n",
    "    barmode='group',\n",
    "    title=\"Prix moyen (price) par catégorie de voiture et puissance moteur (avec nombre de véhicules)\",\n",
    "    xaxis_title=\"Type de puissance moteur\",\n",
    "    yaxis_title=\"Prix moyen des véhicules ($)\",\n",
    "    legend_title=\"Catégorie de véhicule\",\n",
    "    xaxis={'categoryorder': 'array', 'categoryarray': hp_order}\n",
    ")\n",
    "\n",
    "fig.show()\n",
    "\n"
   ]
  },
  {
   "cell_type": "markdown",
   "id": "aa1214ed",
   "metadata": {},
   "source": [
    "## Analyse croisée : prix moyen des véhicules par catégorie de voitures et puissance moteur\n",
    "\n",
    "Le graphique représente le **prix moyen (`price`)** des véhicules selon leur **catégorie de voitures** et leur **Type de puissance moteur**, tout en indiquant le **nombre de véhicules** disponibles dans chaque groupe. Cette visualisation vise à évaluer dans quelle mesure il est possible pour un client d’opter pour un véhicule **puissant** tout en maîtrisant son **budget**, malgré une consommation potentiellement plus élevée.\n",
    "\n",
    "### Plus de puissance veut dire plus cher ?\n",
    "\n",
    "Une tendance générale se dégage : **le prix augmente avec la puissance moteur**. Toutefois, cette relation n’est **pas systématique** :\n",
    "\n",
    "- La catégorie **\"Luxury\"** s’étend sur toutes les tranches de puissance, avec des prix relativement **stables** autour de 60 000 $ à 90 000 $.\n",
    "- Les catégories **\"High-Performance\"** et **\"Exotic\"** affichent des **prix très élevés** dès que la puissance atteint les tranches \"Élevée\" et \"Très élevée\", culminant jusqu’à 250 000 $ pour les véhicules \"Exotic\".\n",
    "- Certaines catégories comme **\"Crossover\"** ou **\"Performance\"** présentent une **croissance plus modérée** du prix malgré l’augmentation de la puissance.\n",
    "\n",
    "### Des compromis accessibles\n",
    "\n",
    "Certaines combinaisons permettent au client de viser une **voiture puissante à un budget modéré** :\n",
    "\n",
    "- Les véhicules **\"Performance\"**, présents dans les tranches \"Élevée\" et \"Très élevée\", affichent un **prix moyen de 40 000 à 60 000 $**, soit bien en dessous des véhicules \"Luxury\" ou \"Exotic\" de puissance équivalente.\n",
    "- La catégorie **\"Crossover\"**, bien que typiquement associée à des usages utilitaires, reste présente dans toutes les tranches de puissance, avec un **prix relativement stable (~40 000 $)**.\n",
    "\n",
    "Ces segments offrent des **alternatives intéressantes** pour un acheteur souhaitant privilégier la puissance sans entrer dans les sphères du très haut de gamme.\n",
    "\n",
    "### Hypothèse de rentabilité pour faire une concession sur la consommation\n",
    "\n",
    "Il peut être **pertinent** de faire une **concession sur la consommation**, si le **prix d’acquisition reste abordable**. En effet :\n",
    "\n",
    "- Les véhicules **puissants mais abordables** en prix moyen comme certains \"Performance\" ou \"Flex Fuel\" peuvent être **rentables à long terme**, surtout si la consommation est compensée par un usage limité et maîtrisé. A **court terme\", si l'utilisation du véhicule est de courtes durées.\n",
    "- À l’inverse, les véhicules très puissants dans les catégories **\"Exotic\"** ou **\"High-Performance\"**, en plus d’une consommation élevée, exigent un **investissement initial considérable**, réduisant fortement leur rentabilité dans une perspective classique.\n",
    "\n",
    "### Équilibre entre performance et budget\n",
    "\n",
    "Ce graphique met en évidence un **équilibre atteignable** entre puissance moteur et prix d’achat pour certaines catégories :\n",
    "\n",
    "- **\"Performance\"**, **\"Crossover\"** ou même certains véhicules **\"Luxury\"** de gamme intermédiaire offrent des compromis intéressants.\n",
    "- Ces segments permettent d’accéder à des véhicules **puissants mais non excessifs en prix**, pour un public recherchant performance et budget maîtrisé.\n",
    "\n",
    "### Conclusion\n",
    "\n",
    "> Il est possible pour un client d’acheter une **voiture puissante** en acceptant une **consommation plus élevée**, **à condition de bien choisir la catégorie de véhicule**.  \n",
    "> L’analyse montre que certaines **catégories de marché offrent une puissance élevée à un prix modéré**, ouvrant la voie à une rentabilité acceptable malgré la consommation.\n",
    "\n",
    "Ainsi, l’acheteur rationnel dispose d’une **marge de manœuvre** pour arbitrer entre puissance, consommation et coût, en fonction de ses priorités comme la performance, budget, confort ou image.\n",
    "\n",
    "---\n",
    "# Diversité des gammes constructeurs et impact sur la popularité : analyse des modèles, segments et positionnements de marques"
   ]
  },
  {
   "cell_type": "code",
   "execution_count": 10,
   "id": "b63f970e",
   "metadata": {},
   "outputs": [
    {
     "ename": "ValueError",
     "evalue": "Mime type rendering requires nbformat>=4.2.0 but it is not installed",
     "output_type": "error",
     "traceback": [
      "\u001b[1;31m---------------------------------------------------------------------------\u001b[0m",
      "\u001b[1;31mValueError\u001b[0m                                Traceback (most recent call last)",
      "Cell \u001b[1;32mIn[10], line 43\u001b[0m\n\u001b[0;32m     21\u001b[0m fig\u001b[38;5;241m.\u001b[39mupdate_layout(\n\u001b[0;32m     22\u001b[0m     title\u001b[38;5;241m=\u001b[39m\u001b[38;5;28mdict\u001b[39m(x\u001b[38;5;241m=\u001b[39m\u001b[38;5;241m0.5\u001b[39m, font\u001b[38;5;241m=\u001b[39m\u001b[38;5;28mdict\u001b[39m(size\u001b[38;5;241m=\u001b[39m\u001b[38;5;241m20\u001b[39m)),\n\u001b[0;32m     23\u001b[0m     font\u001b[38;5;241m=\u001b[39m\u001b[38;5;28mdict\u001b[39m(size\u001b[38;5;241m=\u001b[39m\u001b[38;5;241m14\u001b[39m),\n\u001b[1;32m   (...)\u001b[0m\n\u001b[0;32m     35\u001b[0m     margin\u001b[38;5;241m=\u001b[39m\u001b[38;5;28mdict\u001b[39m(t\u001b[38;5;241m=\u001b[39m\u001b[38;5;241m80\u001b[39m, b\u001b[38;5;241m=\u001b[39m\u001b[38;5;241m60\u001b[39m, l\u001b[38;5;241m=\u001b[39m\u001b[38;5;241m60\u001b[39m, r\u001b[38;5;241m=\u001b[39m\u001b[38;5;241m40\u001b[39m)\n\u001b[0;32m     36\u001b[0m )\n\u001b[0;32m     38\u001b[0m fig\u001b[38;5;241m.\u001b[39mupdate_traces(\n\u001b[0;32m     39\u001b[0m     textposition\u001b[38;5;241m=\u001b[39m\u001b[38;5;124m\"\u001b[39m\u001b[38;5;124moutside\u001b[39m\u001b[38;5;124m\"\u001b[39m,\n\u001b[0;32m     40\u001b[0m     marker\u001b[38;5;241m=\u001b[39m\u001b[38;5;28mdict\u001b[39m(line\u001b[38;5;241m=\u001b[39m\u001b[38;5;28mdict\u001b[39m(width\u001b[38;5;241m=\u001b[39m\u001b[38;5;241m1\u001b[39m, color\u001b[38;5;241m=\u001b[39m\u001b[38;5;124m'\u001b[39m\u001b[38;5;124mblack\u001b[39m\u001b[38;5;124m'\u001b[39m))\n\u001b[0;32m     41\u001b[0m )\n\u001b[1;32m---> 43\u001b[0m \u001b[43mfig\u001b[49m\u001b[38;5;241;43m.\u001b[39;49m\u001b[43mshow\u001b[49m\u001b[43m(\u001b[49m\u001b[43m)\u001b[49m\n",
      "File \u001b[1;32mc:\\Users\\yannr\\AppData\\Local\\Programs\\Python\\Python312\\Lib\\site-packages\\plotly\\basedatatypes.py:3414\u001b[0m, in \u001b[0;36mBaseFigure.show\u001b[1;34m(self, *args, **kwargs)\u001b[0m\n\u001b[0;32m   3381\u001b[0m \u001b[38;5;250m\u001b[39m\u001b[38;5;124;03m\"\"\"\u001b[39;00m\n\u001b[0;32m   3382\u001b[0m \u001b[38;5;124;03mShow a figure using either the default renderer(s) or the renderer(s)\u001b[39;00m\n\u001b[0;32m   3383\u001b[0m \u001b[38;5;124;03mspecified by the renderer argument\u001b[39;00m\n\u001b[1;32m   (...)\u001b[0m\n\u001b[0;32m   3410\u001b[0m \u001b[38;5;124;03mNone\u001b[39;00m\n\u001b[0;32m   3411\u001b[0m \u001b[38;5;124;03m\"\"\"\u001b[39;00m\n\u001b[0;32m   3412\u001b[0m \u001b[38;5;28;01mimport\u001b[39;00m \u001b[38;5;21;01mplotly\u001b[39;00m\u001b[38;5;21;01m.\u001b[39;00m\u001b[38;5;21;01mio\u001b[39;00m \u001b[38;5;28;01mas\u001b[39;00m \u001b[38;5;21;01mpio\u001b[39;00m\n\u001b[1;32m-> 3414\u001b[0m \u001b[38;5;28;01mreturn\u001b[39;00m \u001b[43mpio\u001b[49m\u001b[38;5;241;43m.\u001b[39;49m\u001b[43mshow\u001b[49m\u001b[43m(\u001b[49m\u001b[38;5;28;43mself\u001b[39;49m\u001b[43m,\u001b[49m\u001b[43m \u001b[49m\u001b[38;5;241;43m*\u001b[39;49m\u001b[43margs\u001b[49m\u001b[43m,\u001b[49m\u001b[43m \u001b[49m\u001b[38;5;241;43m*\u001b[39;49m\u001b[38;5;241;43m*\u001b[39;49m\u001b[43mkwargs\u001b[49m\u001b[43m)\u001b[49m\n",
      "File \u001b[1;32mc:\\Users\\yannr\\AppData\\Local\\Programs\\Python\\Python312\\Lib\\site-packages\\plotly\\io\\_renderers.py:425\u001b[0m, in \u001b[0;36mshow\u001b[1;34m(fig, renderer, validate, **kwargs)\u001b[0m\n\u001b[0;32m    420\u001b[0m     \u001b[38;5;28;01mraise\u001b[39;00m \u001b[38;5;167;01mValueError\u001b[39;00m(\n\u001b[0;32m    421\u001b[0m         \u001b[38;5;124m\"\u001b[39m\u001b[38;5;124mMime type rendering requires ipython but it is not installed\u001b[39m\u001b[38;5;124m\"\u001b[39m\n\u001b[0;32m    422\u001b[0m     )\n\u001b[0;32m    424\u001b[0m \u001b[38;5;28;01mif\u001b[39;00m \u001b[38;5;129;01mnot\u001b[39;00m nbformat \u001b[38;5;129;01mor\u001b[39;00m Version(nbformat\u001b[38;5;241m.\u001b[39m__version__) \u001b[38;5;241m<\u001b[39m Version(\u001b[38;5;124m\"\u001b[39m\u001b[38;5;124m4.2.0\u001b[39m\u001b[38;5;124m\"\u001b[39m):\n\u001b[1;32m--> 425\u001b[0m     \u001b[38;5;28;01mraise\u001b[39;00m \u001b[38;5;167;01mValueError\u001b[39;00m(\n\u001b[0;32m    426\u001b[0m         \u001b[38;5;124m\"\u001b[39m\u001b[38;5;124mMime type rendering requires nbformat>=4.2.0 but it is not installed\u001b[39m\u001b[38;5;124m\"\u001b[39m\n\u001b[0;32m    427\u001b[0m     )\n\u001b[0;32m    429\u001b[0m display_jupyter_version_warnings()\n\u001b[0;32m    431\u001b[0m ipython_display\u001b[38;5;241m.\u001b[39mdisplay(bundle, raw\u001b[38;5;241m=\u001b[39m\u001b[38;5;28;01mTrue\u001b[39;00m)\n",
      "\u001b[1;31mValueError\u001b[0m: Mime type rendering requires nbformat>=4.2.0 but it is not installed"
     ]
    }
   ],
   "source": [
    "# Suppression des doublons et des lignes avec valeurs manquantes\n",
    "df_clean1 = df.dropna(subset=['make', 'model']).copy()\n",
    "df_clean1 = df_clean1.drop_duplicates(subset=['make', 'model'])\n",
    "\n",
    "# Comptage des modèles distincts par marque\n",
    "model_counts = df_clean1.groupby('make')['model'].nunique().reset_index()\n",
    "model_counts.columns = ['Marque', 'Nombre de modèles']\n",
    "model_counts = model_counts.sort_values(by='Nombre de modèles', ascending=False)\n",
    "\n",
    "# Création du bar chart avec une couleur douce et harmonieuse\n",
    "fig = px.bar(\n",
    "    model_counts.head(15),\n",
    "    x='Marque',\n",
    "    y='Nombre de modèles',\n",
    "    text='Nombre de modèles',\n",
    "    title=\"Top 15 des marques avec le plus grand nombre de modèles distincts\",\n",
    "    color_discrete_sequence=[\"#4682B4\"]  # bleu acier doux\n",
    ")\n",
    "\n",
    "# Mise en forme visuelle\n",
    "fig.update_layout(\n",
    "    title=dict(x=0.5, font=dict(size=20)),\n",
    "    font=dict(size=14),\n",
    "    xaxis=dict(\n",
    "        title=dict(text=\"Marque\", font=dict(size=16)),\n",
    "        tickfont=dict(size=13),\n",
    "        tickangle=-30\n",
    "    ),\n",
    "    yaxis=dict(\n",
    "        title=dict(text=\"Nombre de modèles\", font=dict(size=16)),\n",
    "        tickfont=dict(size=13),\n",
    "        gridcolor='lightgrey'\n",
    "    ),\n",
    "    plot_bgcolor='white',\n",
    "    margin=dict(t=80, b=60, l=60, r=40)\n",
    ")\n",
    "\n",
    "fig.update_traces(\n",
    "    textposition=\"outside\",\n",
    "    marker=dict(line=dict(width=1, color='black'))\n",
    ")\n",
    "\n",
    "fig.show()\n"
   ]
  },
  {
   "cell_type": "markdown",
   "id": "b989866f",
   "metadata": {},
   "source": [
    "###  Analyse du graphique – Nombre de modèles distincts par marque\n",
    "\n",
    "Ce graphique met en évidence les marques proposant le plus grand nombre de modèles distincts dans la base de données AutoPredict. L’objectif est d’identifier les constructeurs ayant une offre étendue, ce qui peut influencer la recommandation de véhicules pour les clients.\n",
    "  \n",
    "\n",
    "####  Observations principales\n",
    "\n",
    "- **Chevrolet**, **Ford** et **Lexus** dominent ce classement avec respectivement 63, 51 et 46 modèles distincts.\n",
    "\n",
    "- On retrouve ensuite des marques comme **Mercedes-Benz**, **BMW**, **Toyota** ou **Infiniti**, avec 38 à 40 modèles.\n",
    "\n",
    "- En bas du classement, **Volvo**, **Cadillac** ou **GMC** comptent autour de 26 à 31 modèles.\n",
    "\n",
    "\n",
    "\n",
    "#### Interprétations\n",
    "\n",
    "- Les marques en haut du classement adoptent généralement une stratégie généraliste : elles visent plusieurs types de clients avec des gammes variées (citadine, SUV, berline, utilitaire...).\n",
    "- Les marques avec moins de modèles ont souvent un positionnement plus ciblé ou haut de gamme.\n",
    "- Certaines marques comme **Lexus**, bien qu’étant premium, proposent tout de même une gamme étendue pour couvrir plusieurs segments premium.\n",
    "\n",
    "\n",
    "\n",
    "####  Implications pour AutoPredict\n",
    "\n",
    "- Une marque avec un large choix de modèles est plus susceptible d’être recommandée**, car elle peut répondre à différents critères utilisateurs (prix, puissance, style...).\n",
    "- À l'inverse, une marque avec peu de modèles peut tout de même être mise en avant pour des besoins spécifiques (ex : SUV de luxe, sécurité maximale, etc.).\n",
    "\n"
   ]
  },
  {
   "cell_type": "code",
   "execution_count": 11,
   "id": "08260465",
   "metadata": {},
   "outputs": [
    {
     "ename": "KeyError",
     "evalue": "'Make'",
     "output_type": "error",
     "traceback": [
      "\u001b[1;31m---------------------------------------------------------------------------\u001b[0m",
      "\u001b[1;31mKeyError\u001b[0m                                  Traceback (most recent call last)",
      "File \u001b[1;32mc:\\Users\\yannr\\AppData\\Local\\Programs\\Python\\Python312\\Lib\\site-packages\\pandas\\core\\indexes\\base.py:3805\u001b[0m, in \u001b[0;36mIndex.get_loc\u001b[1;34m(self, key)\u001b[0m\n\u001b[0;32m   3804\u001b[0m \u001b[38;5;28;01mtry\u001b[39;00m:\n\u001b[1;32m-> 3805\u001b[0m     \u001b[38;5;28;01mreturn\u001b[39;00m \u001b[38;5;28;43mself\u001b[39;49m\u001b[38;5;241;43m.\u001b[39;49m\u001b[43m_engine\u001b[49m\u001b[38;5;241;43m.\u001b[39;49m\u001b[43mget_loc\u001b[49m\u001b[43m(\u001b[49m\u001b[43mcasted_key\u001b[49m\u001b[43m)\u001b[49m\n\u001b[0;32m   3806\u001b[0m \u001b[38;5;28;01mexcept\u001b[39;00m \u001b[38;5;167;01mKeyError\u001b[39;00m \u001b[38;5;28;01mas\u001b[39;00m err:\n",
      "File \u001b[1;32mindex.pyx:167\u001b[0m, in \u001b[0;36mpandas._libs.index.IndexEngine.get_loc\u001b[1;34m()\u001b[0m\n",
      "File \u001b[1;32mindex.pyx:196\u001b[0m, in \u001b[0;36mpandas._libs.index.IndexEngine.get_loc\u001b[1;34m()\u001b[0m\n",
      "File \u001b[1;32mpandas\\\\_libs\\\\hashtable_class_helper.pxi:7081\u001b[0m, in \u001b[0;36mpandas._libs.hashtable.PyObjectHashTable.get_item\u001b[1;34m()\u001b[0m\n",
      "File \u001b[1;32mpandas\\\\_libs\\\\hashtable_class_helper.pxi:7089\u001b[0m, in \u001b[0;36mpandas._libs.hashtable.PyObjectHashTable.get_item\u001b[1;34m()\u001b[0m\n",
      "\u001b[1;31mKeyError\u001b[0m: 'Make'",
      "\nThe above exception was the direct cause of the following exception:\n",
      "\u001b[1;31mKeyError\u001b[0m                                  Traceback (most recent call last)",
      "Cell \u001b[1;32mIn[11], line 2\u001b[0m\n\u001b[0;32m      1\u001b[0m \u001b[38;5;66;03m# Top 5 marques les plus présentes\u001b[39;00m\n\u001b[1;32m----> 2\u001b[0m top_5_makes \u001b[38;5;241m=\u001b[39m \u001b[43mmodel_counts\u001b[49m\u001b[38;5;241;43m.\u001b[39;49m\u001b[43mhead\u001b[49m\u001b[43m(\u001b[49m\u001b[38;5;241;43m5\u001b[39;49m\u001b[43m)\u001b[49m\u001b[43m[\u001b[49m\u001b[38;5;124;43m'\u001b[39;49m\u001b[38;5;124;43mMake\u001b[39;49m\u001b[38;5;124;43m'\u001b[39;49m\u001b[43m]\u001b[49m\u001b[38;5;241m.\u001b[39mtolist()\n\u001b[0;32m      4\u001b[0m \u001b[38;5;66;03m# Nettoyage\u001b[39;00m\n\u001b[0;32m      5\u001b[0m df_clean2 \u001b[38;5;241m=\u001b[39m df\u001b[38;5;241m.\u001b[39mdropna(subset\u001b[38;5;241m=\u001b[39m[\u001b[38;5;124m'\u001b[39m\u001b[38;5;124mMake\u001b[39m\u001b[38;5;124m'\u001b[39m, \u001b[38;5;124m'\u001b[39m\u001b[38;5;124mModel\u001b[39m\u001b[38;5;124m'\u001b[39m, \u001b[38;5;124m'\u001b[39m\u001b[38;5;124mMarket Category\u001b[39m\u001b[38;5;124m'\u001b[39m])\u001b[38;5;241m.\u001b[39mcopy()\n",
      "File \u001b[1;32mc:\\Users\\yannr\\AppData\\Local\\Programs\\Python\\Python312\\Lib\\site-packages\\pandas\\core\\frame.py:4090\u001b[0m, in \u001b[0;36mDataFrame.__getitem__\u001b[1;34m(self, key)\u001b[0m\n\u001b[0;32m   4088\u001b[0m \u001b[38;5;28;01mif\u001b[39;00m \u001b[38;5;28mself\u001b[39m\u001b[38;5;241m.\u001b[39mcolumns\u001b[38;5;241m.\u001b[39mnlevels \u001b[38;5;241m>\u001b[39m \u001b[38;5;241m1\u001b[39m:\n\u001b[0;32m   4089\u001b[0m     \u001b[38;5;28;01mreturn\u001b[39;00m \u001b[38;5;28mself\u001b[39m\u001b[38;5;241m.\u001b[39m_getitem_multilevel(key)\n\u001b[1;32m-> 4090\u001b[0m indexer \u001b[38;5;241m=\u001b[39m \u001b[38;5;28;43mself\u001b[39;49m\u001b[38;5;241;43m.\u001b[39;49m\u001b[43mcolumns\u001b[49m\u001b[38;5;241;43m.\u001b[39;49m\u001b[43mget_loc\u001b[49m\u001b[43m(\u001b[49m\u001b[43mkey\u001b[49m\u001b[43m)\u001b[49m\n\u001b[0;32m   4091\u001b[0m \u001b[38;5;28;01mif\u001b[39;00m is_integer(indexer):\n\u001b[0;32m   4092\u001b[0m     indexer \u001b[38;5;241m=\u001b[39m [indexer]\n",
      "File \u001b[1;32mc:\\Users\\yannr\\AppData\\Local\\Programs\\Python\\Python312\\Lib\\site-packages\\pandas\\core\\indexes\\base.py:3812\u001b[0m, in \u001b[0;36mIndex.get_loc\u001b[1;34m(self, key)\u001b[0m\n\u001b[0;32m   3807\u001b[0m     \u001b[38;5;28;01mif\u001b[39;00m \u001b[38;5;28misinstance\u001b[39m(casted_key, \u001b[38;5;28mslice\u001b[39m) \u001b[38;5;129;01mor\u001b[39;00m (\n\u001b[0;32m   3808\u001b[0m         \u001b[38;5;28misinstance\u001b[39m(casted_key, abc\u001b[38;5;241m.\u001b[39mIterable)\n\u001b[0;32m   3809\u001b[0m         \u001b[38;5;129;01mand\u001b[39;00m \u001b[38;5;28many\u001b[39m(\u001b[38;5;28misinstance\u001b[39m(x, \u001b[38;5;28mslice\u001b[39m) \u001b[38;5;28;01mfor\u001b[39;00m x \u001b[38;5;129;01min\u001b[39;00m casted_key)\n\u001b[0;32m   3810\u001b[0m     ):\n\u001b[0;32m   3811\u001b[0m         \u001b[38;5;28;01mraise\u001b[39;00m InvalidIndexError(key)\n\u001b[1;32m-> 3812\u001b[0m     \u001b[38;5;28;01mraise\u001b[39;00m \u001b[38;5;167;01mKeyError\u001b[39;00m(key) \u001b[38;5;28;01mfrom\u001b[39;00m \u001b[38;5;21;01merr\u001b[39;00m\n\u001b[0;32m   3813\u001b[0m \u001b[38;5;28;01mexcept\u001b[39;00m \u001b[38;5;167;01mTypeError\u001b[39;00m:\n\u001b[0;32m   3814\u001b[0m     \u001b[38;5;66;03m# If we have a listlike key, _check_indexing_error will raise\u001b[39;00m\n\u001b[0;32m   3815\u001b[0m     \u001b[38;5;66;03m#  InvalidIndexError. Otherwise we fall through and re-raise\u001b[39;00m\n\u001b[0;32m   3816\u001b[0m     \u001b[38;5;66;03m#  the TypeError.\u001b[39;00m\n\u001b[0;32m   3817\u001b[0m     \u001b[38;5;28mself\u001b[39m\u001b[38;5;241m.\u001b[39m_check_indexing_error(key)\n",
      "\u001b[1;31mKeyError\u001b[0m: 'Make'"
     ]
    }
   ],
   "source": [
    "# Top 5 marques les plus présentes\n",
    "top_5_makes = model_counts.head(5)['Make'].tolist()\n",
    "\n",
    "# Nettoyage\n",
    "df_clean2 = df.dropna(subset=['Make', 'Model', 'Market Category']).copy()\n",
    "df_clean2 = df_clean2.drop_duplicates(subset=['Make', 'Model', 'Market Category'])\n",
    "\n",
    "# Explosion des segments multiples\n",
    "df_clean2['Market Category'] = df_clean2['Market Category'].str.split(',')\n",
    "df_exploded2 = df_clean2.explode('Market Category')\n",
    "df_exploded2 = df_exploded2[df_exploded2['Make'].isin(top_5_makes)]\n",
    "\n",
    "fig = px.bar(\n",
    "    segment_counts,\n",
    "    x='Make',\n",
    "    y='Nb modèles',\n",
    "    color='Market Category',\n",
    "    text='Nb modèles',\n",
    "    title=\"Répartition des segments pour les 5 marques principales\",\n",
    "    color_discrete_sequence=px.colors.qualitative.D3  # Palette plus contrastée\n",
    ")\n",
    "\n",
    "fig.update_layout(\n",
    "    barmode='stack',\n",
    "    title=dict(x=0.5, font=dict(size=20)),\n",
    "    font=dict(size=14),\n",
    "    xaxis=dict(\n",
    "        title=\"Marque\",\n",
    "        tickangle=0,  # Écriture horizontale\n",
    "        titlefont=dict(size=16),\n",
    "        tickfont=dict(size=13, family='Arial', color='black'),  # Tu peux ajouter font='bold' avec fig.add_annotation si besoin de plus fort gras\n",
    "    ),\n",
    "    yaxis=dict(\n",
    "        title=\"Nombre de modèles\",\n",
    "        titlefont=dict(size=16),\n",
    "        tickfont=dict(size=13),\n",
    "        gridcolor='lightgrey'\n",
    "    ),\n",
    "    legend_title_text='Segment (Market Category)',\n",
    "    plot_bgcolor='white',\n",
    "    margin=dict(t=80, b=60, l=60, r=40)\n",
    ")\n",
    "\n",
    "# Bordures plus fines et lisibles\n",
    "fig.update_traces(\n",
    "    textposition='inside',\n",
    "    marker=dict(line=dict(width=0.5, color='black'))\n",
    ")\n",
    "\n",
    "fig.show()\n",
    "\n"
   ]
  },
  {
   "cell_type": "markdown",
   "id": "006e7d42",
   "metadata": {},
   "source": [
    "###  Analyse du graphique – Répartition des segments pour les 5 marques principales\n",
    "\n",
    "Ce graphique illustre comment les 5 marques ayant le plus grand nombre de modèles répartissent leur offre entre les différents segments de marché (ou \"Market Categories\").  \n",
    "L’objectif est d’évaluer si ces marques ont une stratégie diversifiée et homogène, ou si elles se concentrent sur des segments spécifiques, révélant une spécialisation.\n",
    "\n",
    "\n",
    "\n",
    "####  Observations principales\n",
    "\n",
    "- **BMW** et **Mercedes-Benz** se distinguent par une très forte concentration de modèles dans le segment **\"Luxury\"** :\n",
    "  - **BMW** : 70 modèles \"Luxury\"\n",
    "  - **Mercedes-Benz** : 83 modèles \"Luxury\"\n",
    "- **Mercedes-Benz** est la marque la plus segmentée avec des modèles dans presque toutes les catégories : Crossover, Performance, Factory Tuner, etc.\n",
    "- **Chevrolet** et **Ford** présentent une répartition plus équilibrée entre les segments, bien que moins dense en nombre total de modèles.\n",
    "- **Lexus** affiche une structure proche de Mercedes-Benz mais dans une échelle plus réduite : fort sur le \"Luxury\", un peu de Performance, Hybrid, Crossover.\n",
    "\n",
    "\n",
    "####  Points clés à retenir\n",
    "\n",
    "- **BMW** et **Mercedes-Benz** concentrent l’essentiel de leur offre sur le segment **\"Luxury\"** (respectivement 70 et 83 modèles), en cohérence avec leur positionnement haut de gamme.\n",
    "- **Mercedes-Benz** se démarque en couvrant presque **tous les segments existants**, révélant une **stratégie à la fois premium et étendue**.\n",
    "- **Ford** et **Chevrolet** adoptent une stratégie plus **généraliste**, avec une répartition équilibrée sur plusieurs segments (Crossover, Performance, Hybrid...).\n",
    "- **Lexus** suit une structure proche de **Mercedes-Benz**, mais avec un volume plus modeste.\n",
    "\n",
    "---\n",
    "\n",
    "#### Ce que cela implique pour AutoPredict\n",
    "\n",
    "- Les marques aux offres **diversifiées** peuvent répondre à **plusieurs profils clients** : elles sont donc **pertinentes pour les recommandations personnalisées**.\n",
    "- À l’inverse, les marques très **spécialisées** conviendront mieux à des utilisateurs avec des attentes ciblées.\n",
    "- Comprendre cette répartition permet d'**affiner notre moteur de suggestion**, en croisant ces informations avec d’autres critères (prix, performance, consommation...).\n"
   ]
  },
  {
   "cell_type": "code",
   "execution_count": null,
   "id": "71f460d4",
   "metadata": {},
   "outputs": [],
   "source": [
    "# Nettoyage\n",
    "df_clean3 = df.dropna(subset=['Make', 'Model', 'Market Category', 'Popularity']).copy()\n",
    "df_clean3 = df_clean3.drop_duplicates(subset=['Make', 'Model', 'Market Category'])\n",
    "\n",
    "# Explosion des catégories\n",
    "df_clean3['Market Category'] = df_clean3['Market Category'].str.split(',')\n",
    "df_exploded3 = df_clean3.explode('Market Category')\n",
    "\n",
    "# Diversité de segments\n",
    "segment_diversity = df_exploded3.groupby('Make')['Market Category'].nunique().reset_index()\n",
    "segment_diversity.columns = ['Make', 'Diversité Segment']\n",
    "\n",
    "# Fusion avec popularité\n",
    "popularity_data = df_exploded3.groupby('Make')['Popularity'].mean().reset_index()\n",
    "popularity_data.columns = ['Make', 'Popularité Moyenne']\n",
    "\n",
    "# Dataset final\n",
    "merged_df = pd.merge(segment_diversity, popularity_data, on='Make')\n",
    "\n",
    "# Graphe en boite\n",
    "fig = px.box(\n",
    "    merged_df,\n",
    "    x='Diversité Segment',\n",
    "    y='Popularité Moyenne',\n",
    "    color='Diversité Segment',\n",
    "    title=\"Distribution de la popularité moyenne selon la diversité des segments\",\n",
    "    labels={\n",
    "        'Diversité Segment': \"Nombre de segments distincts\",\n",
    "        'Popularité Moyenne': \"Popularité moyenne\"\n",
    "    }\n",
    ")\n",
    "\n",
    "fig.update_layout(\n",
    "    title=dict(x=0.5, font=dict(size=20)),\n",
    "    font=dict(size=14),\n",
    "    xaxis=dict(\n",
    "        title=\"Diversité des segments\",\n",
    "        tickmode='linear',\n",
    "        titlefont=dict(size=16),\n",
    "        tickfont=dict(size=13)\n",
    "    ),\n",
    "    yaxis=dict(\n",
    "        title=\"Popularité moyenne\",\n",
    "        titlefont=dict(size=16),\n",
    "        tickfont=dict(size=13),\n",
    "        gridcolor='lightgrey'\n",
    "    ),\n",
    "    showlegend=False,\n",
    "    plot_bgcolor='white',\n",
    "    margin=dict(t=80, b=40, l=60, r=40)\n",
    ")\n",
    "\n",
    "fig.update_traces(marker=dict(line=dict(width=1.5)), selector=dict(type='box'))\n",
    "\n",
    "fig.show()"
   ]
  },
  {
   "cell_type": "markdown",
   "id": "d3df49f1",
   "metadata": {},
   "source": [
    "### Analyse du graphique – Popularité moyenne selon la diversité des segments couverts\n",
    "\n",
    "Ce graphique en boîte illustre la relation entre la diversité des segments couverts par une marque (axe X) et sa popularité moyenne (axe Y).  \n",
    "Chaque boîte représente la distribution de la popularité des marques ayant un même nombre de segments distincts dans leur catalogue.\n",
    "\n",
    "\n",
    "#### Points clés à retenir\n",
    "\n",
    "- Les marques avec une faible diversité (1 à 3 segments) ont généralement une popularité faible à modérée, avec peu d’écart entre elles.\n",
    "- À partir de 6 segments, on observe une montée en popularité moyenne, mais surtout une variabilité plus importante.\n",
    "- Les marques couvrant 8 à 9 segments présentent les niveaux de popularité les plus élevés, ainsi qu’une dispersion marquée, suggérant des positions très différenciées sur le marché.\n",
    "\n",
    "\n",
    "#### Interprétation\n",
    "\n",
    "- Une diversité élevée en segments semble être un facteur associé à une plus grande visibilité ou attractivité des marques.\n",
    "- Cela pourrait refléter leur capacité à répondre à une demande plus large, ce qui les rend plus populaires sur le marché.\n",
    "- Toutefois, la grande dispersion sur certains niveaux de diversité indique que la popularité ne dépend pas uniquement de la variété, mais aussi d’autres leviers comme l’image de marque, la stratégie marketing ou les prix.\n",
    "\n",
    "\n",
    "#### Conclusion globale de l’analyse\n",
    "\n",
    "Au cours de cette analyse, nous avons étudié :\n",
    "- Quelles marques proposent le plus de modèles (ex. **Chevrolet**, **Ford**, **Lexus**)\n",
    "- Comment ces modèles sont répartis entre les segments (ex. **BMW**, **Mercedes-Benz**, **Lexus** très concentrées sur le luxe, **Ford** et **Chevrolet** plus généralistes)\n",
    "- Et comment la diversité de l’offre influence la popularité\n",
    "\n",
    "Ces résultats montrent que les marques les plus diversifiées sont généralement mieux positionnées pour toucher une audience large, et gagnent en popularité.  \n",
    "Cependant, certaines marques plus spécialisées, comme **Lexus** ou **Mercedes-Benz**, conservent une forte notoriété grâce à leur positionnement haut de gamme.\n",
    "\n",
    "Cela confirme l’intérêt d’intégrer la diversité de l’offre comme critère dans notre moteur de recommandation AutoPredict, afin de mieux cibler les profils utilisateurs et proposer des véhicules réellement adaptés à leurs attentes.\n"
   ]
  },
  {
   "cell_type": "code",
   "execution_count": 30,
   "id": "0bc50e00",
   "metadata": {},
   "outputs": [
    {
     "data": {
      "application/vnd.plotly.v1+json": {
       "config": {
        "plotlyServerURL": "https://plot.ly"
       },
       "data": [
        {
         "hovertemplate": "Année: %{x}<br>Prix moyen: $%{y:.2f}<br>Nb véhicules: %{text}<extra></extra>",
         "legendgroup": "",
         "line": {
          "color": "#636efa",
          "dash": "solid"
         },
         "marker": {
          "size": 6,
          "symbol": "circle"
         },
         "mode": "lines+markers+text",
         "name": "",
         "orientation": "v",
         "showlegend": false,
         "text": {
          "bdata": "AAAAAABAWUAAAAAAAIBfQAAAAAAAQGNAAAAAAAAAYEAAAAAAAIBcQAAAAAAAgFxAAAAAAABgZEAAAAAAACBiQAAAAAAAAFtAAAAAAABAW0AAAAAAAGBjQAAAAAAAIGhAAAAAAAAga0AAAAAAACBrQAAAAAAAoGhAAAAAAAAAZ0AAAAAAAOBzQAAAAAAAYHJAAAAAAABwdEAAAAAAAGBvQAAAAAAAwG5AAAAAAACQckAAAAAAAABxQAAAAAAA8HhAAAAAAADMmkAAAAAAAHCbQAAAAAAAAJZA",
          "dtype": "f8"
         },
         "type": "scatter",
         "x": {
          "bdata": "xwfIB8kHygfLB8wHzQfOB88H0AfRB9IH0wfUB9UH1gfXB9gH2QfaB9sH3AfdB94H3wfgB+EH",
          "dtype": "i2"
         },
         "xaxis": "x",
         "y": {
          "bdata": "hNz1s8WSoECzLMuyLGugQC+66KKLFKFAAAAAAKhaokBaTGcxnQ+kQPMaymsowKNAVqOIQyefqEDbRMmuTbinQKuqqqqqGqlAxdzqjFQcqEA3DWjTQLHWQEXM5tIhutdA77333vta2EAppZRSSs/ZQNafwW9iKNpA3/SmN3Xo2kDz99qIddLaQGdHLUL+B9xAQwZIPHUI3kDGWkV0CnbeQInalaiNnOBAvLZMTwTT30B4eHh49rbgQCF0hdA1NOFAPQLLkFI44UBznZ6Q0LLhQHTRRde5++FA",
          "dtype": "f8"
         },
         "yaxis": "y"
        }
       ],
       "layout": {
        "height": 500,
        "hovermode": "closest",
        "legend": {
         "tracegroupgap": 0
        },
        "margin": {
         "b": 100,
         "t": 60
        },
        "template": {
         "data": {
          "bar": [
           {
            "error_x": {
             "color": "#2a3f5f"
            },
            "error_y": {
             "color": "#2a3f5f"
            },
            "marker": {
             "line": {
              "color": "#E5ECF6",
              "width": 0.5
             },
             "pattern": {
              "fillmode": "overlay",
              "size": 10,
              "solidity": 0.2
             }
            },
            "type": "bar"
           }
          ],
          "barpolar": [
           {
            "marker": {
             "line": {
              "color": "#E5ECF6",
              "width": 0.5
             },
             "pattern": {
              "fillmode": "overlay",
              "size": 10,
              "solidity": 0.2
             }
            },
            "type": "barpolar"
           }
          ],
          "carpet": [
           {
            "aaxis": {
             "endlinecolor": "#2a3f5f",
             "gridcolor": "white",
             "linecolor": "white",
             "minorgridcolor": "white",
             "startlinecolor": "#2a3f5f"
            },
            "baxis": {
             "endlinecolor": "#2a3f5f",
             "gridcolor": "white",
             "linecolor": "white",
             "minorgridcolor": "white",
             "startlinecolor": "#2a3f5f"
            },
            "type": "carpet"
           }
          ],
          "choropleth": [
           {
            "colorbar": {
             "outlinewidth": 0,
             "ticks": ""
            },
            "type": "choropleth"
           }
          ],
          "contour": [
           {
            "colorbar": {
             "outlinewidth": 0,
             "ticks": ""
            },
            "colorscale": [
             [
              0,
              "#0d0887"
             ],
             [
              0.1111111111111111,
              "#46039f"
             ],
             [
              0.2222222222222222,
              "#7201a8"
             ],
             [
              0.3333333333333333,
              "#9c179e"
             ],
             [
              0.4444444444444444,
              "#bd3786"
             ],
             [
              0.5555555555555556,
              "#d8576b"
             ],
             [
              0.6666666666666666,
              "#ed7953"
             ],
             [
              0.7777777777777778,
              "#fb9f3a"
             ],
             [
              0.8888888888888888,
              "#fdca26"
             ],
             [
              1,
              "#f0f921"
             ]
            ],
            "type": "contour"
           }
          ],
          "contourcarpet": [
           {
            "colorbar": {
             "outlinewidth": 0,
             "ticks": ""
            },
            "type": "contourcarpet"
           }
          ],
          "heatmap": [
           {
            "colorbar": {
             "outlinewidth": 0,
             "ticks": ""
            },
            "colorscale": [
             [
              0,
              "#0d0887"
             ],
             [
              0.1111111111111111,
              "#46039f"
             ],
             [
              0.2222222222222222,
              "#7201a8"
             ],
             [
              0.3333333333333333,
              "#9c179e"
             ],
             [
              0.4444444444444444,
              "#bd3786"
             ],
             [
              0.5555555555555556,
              "#d8576b"
             ],
             [
              0.6666666666666666,
              "#ed7953"
             ],
             [
              0.7777777777777778,
              "#fb9f3a"
             ],
             [
              0.8888888888888888,
              "#fdca26"
             ],
             [
              1,
              "#f0f921"
             ]
            ],
            "type": "heatmap"
           }
          ],
          "histogram": [
           {
            "marker": {
             "pattern": {
              "fillmode": "overlay",
              "size": 10,
              "solidity": 0.2
             }
            },
            "type": "histogram"
           }
          ],
          "histogram2d": [
           {
            "colorbar": {
             "outlinewidth": 0,
             "ticks": ""
            },
            "colorscale": [
             [
              0,
              "#0d0887"
             ],
             [
              0.1111111111111111,
              "#46039f"
             ],
             [
              0.2222222222222222,
              "#7201a8"
             ],
             [
              0.3333333333333333,
              "#9c179e"
             ],
             [
              0.4444444444444444,
              "#bd3786"
             ],
             [
              0.5555555555555556,
              "#d8576b"
             ],
             [
              0.6666666666666666,
              "#ed7953"
             ],
             [
              0.7777777777777778,
              "#fb9f3a"
             ],
             [
              0.8888888888888888,
              "#fdca26"
             ],
             [
              1,
              "#f0f921"
             ]
            ],
            "type": "histogram2d"
           }
          ],
          "histogram2dcontour": [
           {
            "colorbar": {
             "outlinewidth": 0,
             "ticks": ""
            },
            "colorscale": [
             [
              0,
              "#0d0887"
             ],
             [
              0.1111111111111111,
              "#46039f"
             ],
             [
              0.2222222222222222,
              "#7201a8"
             ],
             [
              0.3333333333333333,
              "#9c179e"
             ],
             [
              0.4444444444444444,
              "#bd3786"
             ],
             [
              0.5555555555555556,
              "#d8576b"
             ],
             [
              0.6666666666666666,
              "#ed7953"
             ],
             [
              0.7777777777777778,
              "#fb9f3a"
             ],
             [
              0.8888888888888888,
              "#fdca26"
             ],
             [
              1,
              "#f0f921"
             ]
            ],
            "type": "histogram2dcontour"
           }
          ],
          "mesh3d": [
           {
            "colorbar": {
             "outlinewidth": 0,
             "ticks": ""
            },
            "type": "mesh3d"
           }
          ],
          "parcoords": [
           {
            "line": {
             "colorbar": {
              "outlinewidth": 0,
              "ticks": ""
             }
            },
            "type": "parcoords"
           }
          ],
          "pie": [
           {
            "automargin": true,
            "type": "pie"
           }
          ],
          "scatter": [
           {
            "fillpattern": {
             "fillmode": "overlay",
             "size": 10,
             "solidity": 0.2
            },
            "type": "scatter"
           }
          ],
          "scatter3d": [
           {
            "line": {
             "colorbar": {
              "outlinewidth": 0,
              "ticks": ""
             }
            },
            "marker": {
             "colorbar": {
              "outlinewidth": 0,
              "ticks": ""
             }
            },
            "type": "scatter3d"
           }
          ],
          "scattercarpet": [
           {
            "marker": {
             "colorbar": {
              "outlinewidth": 0,
              "ticks": ""
             }
            },
            "type": "scattercarpet"
           }
          ],
          "scattergeo": [
           {
            "marker": {
             "colorbar": {
              "outlinewidth": 0,
              "ticks": ""
             }
            },
            "type": "scattergeo"
           }
          ],
          "scattergl": [
           {
            "marker": {
             "colorbar": {
              "outlinewidth": 0,
              "ticks": ""
             }
            },
            "type": "scattergl"
           }
          ],
          "scattermap": [
           {
            "marker": {
             "colorbar": {
              "outlinewidth": 0,
              "ticks": ""
             }
            },
            "type": "scattermap"
           }
          ],
          "scattermapbox": [
           {
            "marker": {
             "colorbar": {
              "outlinewidth": 0,
              "ticks": ""
             }
            },
            "type": "scattermapbox"
           }
          ],
          "scatterpolar": [
           {
            "marker": {
             "colorbar": {
              "outlinewidth": 0,
              "ticks": ""
             }
            },
            "type": "scatterpolar"
           }
          ],
          "scatterpolargl": [
           {
            "marker": {
             "colorbar": {
              "outlinewidth": 0,
              "ticks": ""
             }
            },
            "type": "scatterpolargl"
           }
          ],
          "scatterternary": [
           {
            "marker": {
             "colorbar": {
              "outlinewidth": 0,
              "ticks": ""
             }
            },
            "type": "scatterternary"
           }
          ],
          "surface": [
           {
            "colorbar": {
             "outlinewidth": 0,
             "ticks": ""
            },
            "colorscale": [
             [
              0,
              "#0d0887"
             ],
             [
              0.1111111111111111,
              "#46039f"
             ],
             [
              0.2222222222222222,
              "#7201a8"
             ],
             [
              0.3333333333333333,
              "#9c179e"
             ],
             [
              0.4444444444444444,
              "#bd3786"
             ],
             [
              0.5555555555555556,
              "#d8576b"
             ],
             [
              0.6666666666666666,
              "#ed7953"
             ],
             [
              0.7777777777777778,
              "#fb9f3a"
             ],
             [
              0.8888888888888888,
              "#fdca26"
             ],
             [
              1,
              "#f0f921"
             ]
            ],
            "type": "surface"
           }
          ],
          "table": [
           {
            "cells": {
             "fill": {
              "color": "#EBF0F8"
             },
             "line": {
              "color": "white"
             }
            },
            "header": {
             "fill": {
              "color": "#C8D4E3"
             },
             "line": {
              "color": "white"
             }
            },
            "type": "table"
           }
          ]
         },
         "layout": {
          "annotationdefaults": {
           "arrowcolor": "#2a3f5f",
           "arrowhead": 0,
           "arrowwidth": 1
          },
          "autotypenumbers": "strict",
          "coloraxis": {
           "colorbar": {
            "outlinewidth": 0,
            "ticks": ""
           }
          },
          "colorscale": {
           "diverging": [
            [
             0,
             "#8e0152"
            ],
            [
             0.1,
             "#c51b7d"
            ],
            [
             0.2,
             "#de77ae"
            ],
            [
             0.3,
             "#f1b6da"
            ],
            [
             0.4,
             "#fde0ef"
            ],
            [
             0.5,
             "#f7f7f7"
            ],
            [
             0.6,
             "#e6f5d0"
            ],
            [
             0.7,
             "#b8e186"
            ],
            [
             0.8,
             "#7fbc41"
            ],
            [
             0.9,
             "#4d9221"
            ],
            [
             1,
             "#276419"
            ]
           ],
           "sequential": [
            [
             0,
             "#0d0887"
            ],
            [
             0.1111111111111111,
             "#46039f"
            ],
            [
             0.2222222222222222,
             "#7201a8"
            ],
            [
             0.3333333333333333,
             "#9c179e"
            ],
            [
             0.4444444444444444,
             "#bd3786"
            ],
            [
             0.5555555555555556,
             "#d8576b"
            ],
            [
             0.6666666666666666,
             "#ed7953"
            ],
            [
             0.7777777777777778,
             "#fb9f3a"
            ],
            [
             0.8888888888888888,
             "#fdca26"
            ],
            [
             1,
             "#f0f921"
            ]
           ],
           "sequentialminus": [
            [
             0,
             "#0d0887"
            ],
            [
             0.1111111111111111,
             "#46039f"
            ],
            [
             0.2222222222222222,
             "#7201a8"
            ],
            [
             0.3333333333333333,
             "#9c179e"
            ],
            [
             0.4444444444444444,
             "#bd3786"
            ],
            [
             0.5555555555555556,
             "#d8576b"
            ],
            [
             0.6666666666666666,
             "#ed7953"
            ],
            [
             0.7777777777777778,
             "#fb9f3a"
            ],
            [
             0.8888888888888888,
             "#fdca26"
            ],
            [
             1,
             "#f0f921"
            ]
           ]
          },
          "colorway": [
           "#636efa",
           "#EF553B",
           "#00cc96",
           "#ab63fa",
           "#FFA15A",
           "#19d3f3",
           "#FF6692",
           "#B6E880",
           "#FF97FF",
           "#FECB52"
          ],
          "font": {
           "color": "#2a3f5f"
          },
          "geo": {
           "bgcolor": "white",
           "lakecolor": "white",
           "landcolor": "#E5ECF6",
           "showlakes": true,
           "showland": true,
           "subunitcolor": "white"
          },
          "hoverlabel": {
           "align": "left"
          },
          "hovermode": "closest",
          "mapbox": {
           "style": "light"
          },
          "paper_bgcolor": "white",
          "plot_bgcolor": "#E5ECF6",
          "polar": {
           "angularaxis": {
            "gridcolor": "white",
            "linecolor": "white",
            "ticks": ""
           },
           "bgcolor": "#E5ECF6",
           "radialaxis": {
            "gridcolor": "white",
            "linecolor": "white",
            "ticks": ""
           }
          },
          "scene": {
           "xaxis": {
            "backgroundcolor": "#E5ECF6",
            "gridcolor": "white",
            "gridwidth": 2,
            "linecolor": "white",
            "showbackground": true,
            "ticks": "",
            "zerolinecolor": "white"
           },
           "yaxis": {
            "backgroundcolor": "#E5ECF6",
            "gridcolor": "white",
            "gridwidth": 2,
            "linecolor": "white",
            "showbackground": true,
            "ticks": "",
            "zerolinecolor": "white"
           },
           "zaxis": {
            "backgroundcolor": "#E5ECF6",
            "gridcolor": "white",
            "gridwidth": 2,
            "linecolor": "white",
            "showbackground": true,
            "ticks": "",
            "zerolinecolor": "white"
           }
          },
          "shapedefaults": {
           "line": {
            "color": "#2a3f5f"
           }
          },
          "ternary": {
           "aaxis": {
            "gridcolor": "white",
            "linecolor": "white",
            "ticks": ""
           },
           "baxis": {
            "gridcolor": "white",
            "linecolor": "white",
            "ticks": ""
           },
           "bgcolor": "#E5ECF6",
           "caxis": {
            "gridcolor": "white",
            "linecolor": "white",
            "ticks": ""
           }
          },
          "title": {
           "x": 0.05
          },
          "xaxis": {
           "automargin": true,
           "gridcolor": "white",
           "linecolor": "white",
           "ticks": "",
           "title": {
            "standoff": 15
           },
           "zerolinecolor": "white",
           "zerolinewidth": 2
          },
          "yaxis": {
           "automargin": true,
           "gridcolor": "white",
           "linecolor": "white",
           "ticks": "",
           "title": {
            "standoff": 15
           },
           "zerolinecolor": "white",
           "zerolinewidth": 2
          }
         }
        },
        "title": {
         "text": "Dépréciation moyenne des véhicules par année"
        },
        "xaxis": {
         "anchor": "y",
         "domain": [
          0,
          1
         ],
         "tickangle": -45,
         "title": {
          "text": "Année du véhicule"
         }
        },
        "yaxis": {
         "anchor": "x",
         "domain": [
          0,
          1
         ],
         "tickformat": ",.0f",
         "tickprefix": "$",
         "title": {
          "text": "Prix moyen (USD)"
         }
        }
       }
      },
      "text/html": [
       "<div>            <script src=\"https://cdnjs.cloudflare.com/ajax/libs/mathjax/2.7.5/MathJax.js?config=TeX-AMS-MML_SVG\"></script><script type=\"text/javascript\">if (window.MathJax && window.MathJax.Hub && window.MathJax.Hub.Config) {window.MathJax.Hub.Config({SVG: {font: \"STIX-Web\"}});}</script>                <script type=\"text/javascript\">window.PlotlyConfig = {MathJaxConfig: 'local'};</script>\n",
       "        <script charset=\"utf-8\" src=\"https://cdn.plot.ly/plotly-3.0.1.min.js\"></script>                <div id=\"e33ed82b-e9b3-440b-8e1c-2c1767fd48db\" class=\"plotly-graph-div\" style=\"height:500px; width:100%;\"></div>            <script type=\"text/javascript\">                window.PLOTLYENV=window.PLOTLYENV || {};                                if (document.getElementById(\"e33ed82b-e9b3-440b-8e1c-2c1767fd48db\")) {                    Plotly.newPlot(                        \"e33ed82b-e9b3-440b-8e1c-2c1767fd48db\",                        [{\"hovertemplate\":\"Ann\\u00e9e: %{x}\\u003cbr\\u003ePrix moyen: $%{y:.2f}\\u003cbr\\u003eNb v\\u00e9hicules: %{text}\\u003cextra\\u003e\\u003c\\u002fextra\\u003e\",\"legendgroup\":\"\",\"line\":{\"color\":\"#636efa\",\"dash\":\"solid\"},\"marker\":{\"symbol\":\"circle\",\"size\":6},\"mode\":\"lines+markers+text\",\"name\":\"\",\"orientation\":\"v\",\"showlegend\":false,\"text\":{\"dtype\":\"f8\",\"bdata\":\"AAAAAABAWUAAAAAAAIBfQAAAAAAAQGNAAAAAAAAAYEAAAAAAAIBcQAAAAAAAgFxAAAAAAABgZEAAAAAAACBiQAAAAAAAAFtAAAAAAABAW0AAAAAAAGBjQAAAAAAAIGhAAAAAAAAga0AAAAAAACBrQAAAAAAAoGhAAAAAAAAAZ0AAAAAAAOBzQAAAAAAAYHJAAAAAAABwdEAAAAAAAGBvQAAAAAAAwG5AAAAAAACQckAAAAAAAABxQAAAAAAA8HhAAAAAAADMmkAAAAAAAHCbQAAAAAAAAJZA\"},\"x\":{\"dtype\":\"i2\",\"bdata\":\"xwfIB8kHygfLB8wHzQfOB88H0AfRB9IH0wfUB9UH1gfXB9gH2QfaB9sH3AfdB94H3wfgB+EH\"},\"xaxis\":\"x\",\"y\":{\"dtype\":\"f8\",\"bdata\":\"hNz1s8WSoECzLMuyLGugQC+66KKLFKFAAAAAAKhaokBaTGcxnQ+kQPMaymsowKNAVqOIQyefqEDbRMmuTbinQKuqqqqqGqlAxdzqjFQcqEA3DWjTQLHWQEXM5tIhutdA77333vta2EAppZRSSs\\u002fZQNafwW9iKNpA3\\u002fSmN3Xo2kDz99qIddLaQGdHLUL+B9xAQwZIPHUI3kDGWkV0CnbeQInalaiNnOBAvLZMTwTT30B4eHh49rbgQCF0hdA1NOFAPQLLkFI44UBznZ6Q0LLhQHTRRde5++FA\"},\"yaxis\":\"y\",\"type\":\"scatter\"}],                        {\"template\":{\"data\":{\"histogram2dcontour\":[{\"type\":\"histogram2dcontour\",\"colorbar\":{\"outlinewidth\":0,\"ticks\":\"\"},\"colorscale\":[[0.0,\"#0d0887\"],[0.1111111111111111,\"#46039f\"],[0.2222222222222222,\"#7201a8\"],[0.3333333333333333,\"#9c179e\"],[0.4444444444444444,\"#bd3786\"],[0.5555555555555556,\"#d8576b\"],[0.6666666666666666,\"#ed7953\"],[0.7777777777777778,\"#fb9f3a\"],[0.8888888888888888,\"#fdca26\"],[1.0,\"#f0f921\"]]}],\"choropleth\":[{\"type\":\"choropleth\",\"colorbar\":{\"outlinewidth\":0,\"ticks\":\"\"}}],\"histogram2d\":[{\"type\":\"histogram2d\",\"colorbar\":{\"outlinewidth\":0,\"ticks\":\"\"},\"colorscale\":[[0.0,\"#0d0887\"],[0.1111111111111111,\"#46039f\"],[0.2222222222222222,\"#7201a8\"],[0.3333333333333333,\"#9c179e\"],[0.4444444444444444,\"#bd3786\"],[0.5555555555555556,\"#d8576b\"],[0.6666666666666666,\"#ed7953\"],[0.7777777777777778,\"#fb9f3a\"],[0.8888888888888888,\"#fdca26\"],[1.0,\"#f0f921\"]]}],\"heatmap\":[{\"type\":\"heatmap\",\"colorbar\":{\"outlinewidth\":0,\"ticks\":\"\"},\"colorscale\":[[0.0,\"#0d0887\"],[0.1111111111111111,\"#46039f\"],[0.2222222222222222,\"#7201a8\"],[0.3333333333333333,\"#9c179e\"],[0.4444444444444444,\"#bd3786\"],[0.5555555555555556,\"#d8576b\"],[0.6666666666666666,\"#ed7953\"],[0.7777777777777778,\"#fb9f3a\"],[0.8888888888888888,\"#fdca26\"],[1.0,\"#f0f921\"]]}],\"contourcarpet\":[{\"type\":\"contourcarpet\",\"colorbar\":{\"outlinewidth\":0,\"ticks\":\"\"}}],\"contour\":[{\"type\":\"contour\",\"colorbar\":{\"outlinewidth\":0,\"ticks\":\"\"},\"colorscale\":[[0.0,\"#0d0887\"],[0.1111111111111111,\"#46039f\"],[0.2222222222222222,\"#7201a8\"],[0.3333333333333333,\"#9c179e\"],[0.4444444444444444,\"#bd3786\"],[0.5555555555555556,\"#d8576b\"],[0.6666666666666666,\"#ed7953\"],[0.7777777777777778,\"#fb9f3a\"],[0.8888888888888888,\"#fdca26\"],[1.0,\"#f0f921\"]]}],\"surface\":[{\"type\":\"surface\",\"colorbar\":{\"outlinewidth\":0,\"ticks\":\"\"},\"colorscale\":[[0.0,\"#0d0887\"],[0.1111111111111111,\"#46039f\"],[0.2222222222222222,\"#7201a8\"],[0.3333333333333333,\"#9c179e\"],[0.4444444444444444,\"#bd3786\"],[0.5555555555555556,\"#d8576b\"],[0.6666666666666666,\"#ed7953\"],[0.7777777777777778,\"#fb9f3a\"],[0.8888888888888888,\"#fdca26\"],[1.0,\"#f0f921\"]]}],\"mesh3d\":[{\"type\":\"mesh3d\",\"colorbar\":{\"outlinewidth\":0,\"ticks\":\"\"}}],\"scatter\":[{\"fillpattern\":{\"fillmode\":\"overlay\",\"size\":10,\"solidity\":0.2},\"type\":\"scatter\"}],\"parcoords\":[{\"type\":\"parcoords\",\"line\":{\"colorbar\":{\"outlinewidth\":0,\"ticks\":\"\"}}}],\"scatterpolargl\":[{\"type\":\"scatterpolargl\",\"marker\":{\"colorbar\":{\"outlinewidth\":0,\"ticks\":\"\"}}}],\"bar\":[{\"error_x\":{\"color\":\"#2a3f5f\"},\"error_y\":{\"color\":\"#2a3f5f\"},\"marker\":{\"line\":{\"color\":\"#E5ECF6\",\"width\":0.5},\"pattern\":{\"fillmode\":\"overlay\",\"size\":10,\"solidity\":0.2}},\"type\":\"bar\"}],\"scattergeo\":[{\"type\":\"scattergeo\",\"marker\":{\"colorbar\":{\"outlinewidth\":0,\"ticks\":\"\"}}}],\"scatterpolar\":[{\"type\":\"scatterpolar\",\"marker\":{\"colorbar\":{\"outlinewidth\":0,\"ticks\":\"\"}}}],\"histogram\":[{\"marker\":{\"pattern\":{\"fillmode\":\"overlay\",\"size\":10,\"solidity\":0.2}},\"type\":\"histogram\"}],\"scattergl\":[{\"type\":\"scattergl\",\"marker\":{\"colorbar\":{\"outlinewidth\":0,\"ticks\":\"\"}}}],\"scatter3d\":[{\"type\":\"scatter3d\",\"line\":{\"colorbar\":{\"outlinewidth\":0,\"ticks\":\"\"}},\"marker\":{\"colorbar\":{\"outlinewidth\":0,\"ticks\":\"\"}}}],\"scattermap\":[{\"type\":\"scattermap\",\"marker\":{\"colorbar\":{\"outlinewidth\":0,\"ticks\":\"\"}}}],\"scattermapbox\":[{\"type\":\"scattermapbox\",\"marker\":{\"colorbar\":{\"outlinewidth\":0,\"ticks\":\"\"}}}],\"scatterternary\":[{\"type\":\"scatterternary\",\"marker\":{\"colorbar\":{\"outlinewidth\":0,\"ticks\":\"\"}}}],\"scattercarpet\":[{\"type\":\"scattercarpet\",\"marker\":{\"colorbar\":{\"outlinewidth\":0,\"ticks\":\"\"}}}],\"carpet\":[{\"aaxis\":{\"endlinecolor\":\"#2a3f5f\",\"gridcolor\":\"white\",\"linecolor\":\"white\",\"minorgridcolor\":\"white\",\"startlinecolor\":\"#2a3f5f\"},\"baxis\":{\"endlinecolor\":\"#2a3f5f\",\"gridcolor\":\"white\",\"linecolor\":\"white\",\"minorgridcolor\":\"white\",\"startlinecolor\":\"#2a3f5f\"},\"type\":\"carpet\"}],\"table\":[{\"cells\":{\"fill\":{\"color\":\"#EBF0F8\"},\"line\":{\"color\":\"white\"}},\"header\":{\"fill\":{\"color\":\"#C8D4E3\"},\"line\":{\"color\":\"white\"}},\"type\":\"table\"}],\"barpolar\":[{\"marker\":{\"line\":{\"color\":\"#E5ECF6\",\"width\":0.5},\"pattern\":{\"fillmode\":\"overlay\",\"size\":10,\"solidity\":0.2}},\"type\":\"barpolar\"}],\"pie\":[{\"automargin\":true,\"type\":\"pie\"}]},\"layout\":{\"autotypenumbers\":\"strict\",\"colorway\":[\"#636efa\",\"#EF553B\",\"#00cc96\",\"#ab63fa\",\"#FFA15A\",\"#19d3f3\",\"#FF6692\",\"#B6E880\",\"#FF97FF\",\"#FECB52\"],\"font\":{\"color\":\"#2a3f5f\"},\"hovermode\":\"closest\",\"hoverlabel\":{\"align\":\"left\"},\"paper_bgcolor\":\"white\",\"plot_bgcolor\":\"#E5ECF6\",\"polar\":{\"bgcolor\":\"#E5ECF6\",\"angularaxis\":{\"gridcolor\":\"white\",\"linecolor\":\"white\",\"ticks\":\"\"},\"radialaxis\":{\"gridcolor\":\"white\",\"linecolor\":\"white\",\"ticks\":\"\"}},\"ternary\":{\"bgcolor\":\"#E5ECF6\",\"aaxis\":{\"gridcolor\":\"white\",\"linecolor\":\"white\",\"ticks\":\"\"},\"baxis\":{\"gridcolor\":\"white\",\"linecolor\":\"white\",\"ticks\":\"\"},\"caxis\":{\"gridcolor\":\"white\",\"linecolor\":\"white\",\"ticks\":\"\"}},\"coloraxis\":{\"colorbar\":{\"outlinewidth\":0,\"ticks\":\"\"}},\"colorscale\":{\"sequential\":[[0.0,\"#0d0887\"],[0.1111111111111111,\"#46039f\"],[0.2222222222222222,\"#7201a8\"],[0.3333333333333333,\"#9c179e\"],[0.4444444444444444,\"#bd3786\"],[0.5555555555555556,\"#d8576b\"],[0.6666666666666666,\"#ed7953\"],[0.7777777777777778,\"#fb9f3a\"],[0.8888888888888888,\"#fdca26\"],[1.0,\"#f0f921\"]],\"sequentialminus\":[[0.0,\"#0d0887\"],[0.1111111111111111,\"#46039f\"],[0.2222222222222222,\"#7201a8\"],[0.3333333333333333,\"#9c179e\"],[0.4444444444444444,\"#bd3786\"],[0.5555555555555556,\"#d8576b\"],[0.6666666666666666,\"#ed7953\"],[0.7777777777777778,\"#fb9f3a\"],[0.8888888888888888,\"#fdca26\"],[1.0,\"#f0f921\"]],\"diverging\":[[0,\"#8e0152\"],[0.1,\"#c51b7d\"],[0.2,\"#de77ae\"],[0.3,\"#f1b6da\"],[0.4,\"#fde0ef\"],[0.5,\"#f7f7f7\"],[0.6,\"#e6f5d0\"],[0.7,\"#b8e186\"],[0.8,\"#7fbc41\"],[0.9,\"#4d9221\"],[1,\"#276419\"]]},\"xaxis\":{\"gridcolor\":\"white\",\"linecolor\":\"white\",\"ticks\":\"\",\"title\":{\"standoff\":15},\"zerolinecolor\":\"white\",\"automargin\":true,\"zerolinewidth\":2},\"yaxis\":{\"gridcolor\":\"white\",\"linecolor\":\"white\",\"ticks\":\"\",\"title\":{\"standoff\":15},\"zerolinecolor\":\"white\",\"automargin\":true,\"zerolinewidth\":2},\"scene\":{\"xaxis\":{\"backgroundcolor\":\"#E5ECF6\",\"gridcolor\":\"white\",\"linecolor\":\"white\",\"showbackground\":true,\"ticks\":\"\",\"zerolinecolor\":\"white\",\"gridwidth\":2},\"yaxis\":{\"backgroundcolor\":\"#E5ECF6\",\"gridcolor\":\"white\",\"linecolor\":\"white\",\"showbackground\":true,\"ticks\":\"\",\"zerolinecolor\":\"white\",\"gridwidth\":2},\"zaxis\":{\"backgroundcolor\":\"#E5ECF6\",\"gridcolor\":\"white\",\"linecolor\":\"white\",\"showbackground\":true,\"ticks\":\"\",\"zerolinecolor\":\"white\",\"gridwidth\":2}},\"shapedefaults\":{\"line\":{\"color\":\"#2a3f5f\"}},\"annotationdefaults\":{\"arrowcolor\":\"#2a3f5f\",\"arrowhead\":0,\"arrowwidth\":1},\"geo\":{\"bgcolor\":\"white\",\"landcolor\":\"#E5ECF6\",\"subunitcolor\":\"white\",\"showland\":true,\"showlakes\":true,\"lakecolor\":\"white\"},\"title\":{\"x\":0.05},\"mapbox\":{\"style\":\"light\"}}},\"xaxis\":{\"anchor\":\"y\",\"domain\":[0.0,1.0],\"title\":{\"text\":\"Ann\\u00e9e du v\\u00e9hicule\"},\"tickangle\":-45},\"yaxis\":{\"anchor\":\"x\",\"domain\":[0.0,1.0],\"title\":{\"text\":\"Prix moyen (USD)\"},\"tickprefix\":\"$\",\"tickformat\":\",.0f\"},\"legend\":{\"tracegroupgap\":0},\"title\":{\"text\":\"D\\u00e9pr\\u00e9ciation moyenne des v\\u00e9hicules par ann\\u00e9e\"},\"margin\":{\"t\":60,\"b\":100},\"height\":500,\"hovermode\":\"closest\"},                        {\"responsive\": true}                    ).then(function(){\n",
       "                            \n",
       "var gd = document.getElementById('e33ed82b-e9b3-440b-8e1c-2c1767fd48db');\n",
       "var x = new MutationObserver(function (mutations, observer) {{\n",
       "        var display = window.getComputedStyle(gd).display;\n",
       "        if (!display || display === 'none') {{\n",
       "            console.log([gd, 'removed!']);\n",
       "            Plotly.purge(gd);\n",
       "            observer.disconnect();\n",
       "        }}\n",
       "}});\n",
       "\n",
       "// Listen for the removal of the full notebook cells\n",
       "var notebookContainer = gd.closest('#notebook-container');\n",
       "if (notebookContainer) {{\n",
       "    x.observe(notebookContainer, {childList: true});\n",
       "}}\n",
       "\n",
       "// Listen for the clearing of the current output cell\n",
       "var outputEl = gd.closest('.output');\n",
       "if (outputEl) {{\n",
       "    x.observe(outputEl, {childList: true});\n",
       "}}\n",
       "\n",
       "                        })                };            </script>        </div>"
      ]
     },
     "metadata": {},
     "output_type": "display_data"
    }
   ],
   "source": [
    "# Analyse de la dépréciation moyenne par année\n",
    "\n",
    "# On garde uniquement les voitures dont l'année et le prix sont valides\n",
    "df_year_price = df[['year', 'price']].dropna()\n",
    "df_year_price = df_year_price[df_year_price['year'] > 1990]\n",
    "df_year_price = df_year_price[df_year_price['price'] > 1000]\n",
    "\n",
    "# Calcul du prix moyen par année\n",
    "avg_price_by_year = df_year_price.groupby('year')['price'].agg(['mean', 'count']).reset_index()\n",
    "\n",
    "# Tracé du graphique\n",
    "fig = px.line(\n",
    "    avg_price_by_year,\n",
    "    x='year',\n",
    "    y='mean',\n",
    "    markers=True,\n",
    "    text=avg_price_by_year['count'],\n",
    "    labels={'year': 'Année du véhicule', 'mean': 'Prix moyen (USD)'},\n",
    "    title='Dépréciation moyenne des véhicules par année'\n",
    ")\n",
    "\n",
    "fig.update_traces(\n",
    "    hovertemplate='Année: %{x}<br>Prix moyen: $%{y:.2f}<br>Nb véhicules: %{text}<extra></extra>',\n",
    "    marker=dict(size=6)\n",
    ")\n",
    "\n",
    "fig.update_layout(\n",
    "    yaxis_tickprefix='$',\n",
    "    yaxis_tickformat=',.0f',\n",
    "    xaxis_tickangle=-45,\n",
    "    height=500,\n",
    "    margin=dict(t=60, b=100),\n",
    "    hovermode=\"closest\"\n",
    ")\n",
    "\n",
    "fig.show()\n"
   ]
  },
  {
   "cell_type": "code",
   "execution_count": 31,
   "id": "46fd9237",
   "metadata": {},
   "outputs": [
    {
     "data": {
      "application/vnd.plotly.v1+json": {
       "config": {
        "plotlyServerURL": "https://plot.ly"
       },
       "data": [
        {
         "customdata": {
          "bdata": "CxwbEwUFCAUGCA4EBA4JDAsOBAgGDgoPPy0P",
          "dtype": "i1",
          "shape": "27, 1"
         },
         "hovertemplate": "Style: %{legendgroup}<br>Année: %{x}<br>Prix moyen: $%{y:.2f}<br>Nb véhicules: %{customdata[0]}<extra></extra>",
         "legendgroup": "2dr Hatchback",
         "line": {
          "color": "#636efa",
          "dash": "solid"
         },
         "marker": {
          "size": 5,
          "symbol": "circle"
         },
         "mode": "lines+markers",
         "name": "2dr Hatchback",
         "orientation": "v",
         "showlegend": true,
         "type": "scatter",
         "x": {
          "bdata": "xwfIB8kHygfLB8wHzQfOB88H0AfRB9IH0wfUB9UH1gfXB9gH2QfaB9sH3AfdB94H3wfgB+EH",
          "dtype": "i2"
         },
         "xaxis": "x",
         "y": {
          "bdata": "dNFFF11eoEAAAAAAAECfQKG9hPYS3qBA5TWU11AiokAAAAAAADCrQAAAAAAAQJ9AAAAAAACzpkDNzMzMzNCtQKuqqqqq97BAAAAAAADsrUCSJEmSBFvTQAAAAACgSdtAAAAAAOCT00CSJEmS5F7VQKuqqqoqpNRAq6qqqorb00C66KKLrvXUQEmSJElS7dRAAAAAAEBt0UAAAAAASFvWQKuqqqpqiNdAbtu2bRuW2UAAAAAAAAvbQFVVVVWVrtRAchzHcZxu10ByHMdxHBjWQKuqqqrq9dRA",
          "dtype": "f8"
         },
         "yaxis": "y"
        },
        {
         "customdata": {
          "bdata": "BAcHCAQFAwICAgYIDAQDAwIB",
          "dtype": "i1",
          "shape": "18, 1"
         },
         "hovertemplate": "Style: %{legendgroup}<br>Année: %{x}<br>Prix moyen: $%{y:.2f}<br>Nb véhicules: %{customdata[0]}<extra></extra>",
         "legendgroup": "2dr SUV",
         "line": {
          "color": "#EF553B",
          "dash": "solid"
         },
         "marker": {
          "size": 5,
          "symbol": "circle"
         },
         "mode": "lines+markers",
         "name": "2dr SUV",
         "orientation": "v",
         "showlegend": true,
         "type": "scatter",
         "x": {
          "bdata": "xwfIB8kHygfLB8wHzQfOB88H0AfRB9IH0wfUB9UH3wfgB+EH",
          "dtype": "i2"
         },
         "xaxis": "x",
         "y": {
          "bdata": "AAAAAABAn0Bu27Zt2/ijQJIkSZIkFaVAAAAAACACtUAAAAAAYOLCQDMzMzMzV6RAq6qqqipuzEAAAAAAAECfQAAAAAAAIaFAAAAAAACxokBVVVVVFc7VQAAAAAA4v9dAVVVVVVXm10AAAAAAcB7XQKuqqqqqlNdAVVVVVVXW6EAAAAAAIIboQAAAAACAUOZA",
          "dtype": "f8"
         },
         "yaxis": "y"
        },
        {
         "customdata": {
          "bdata": "BggHAwgJAgIFDAsGCRAdJi4camFc",
          "dtype": "i1",
          "shape": "21, 1"
         },
         "hovertemplate": "Style: %{legendgroup}<br>Année: %{x}<br>Prix moyen: $%{y:.2f}<br>Nb véhicules: %{customdata[0]}<extra></extra>",
         "legendgroup": "4dr Hatchback",
         "line": {
          "color": "#00cc96",
          "dash": "solid"
         },
         "marker": {
          "size": 5,
          "symbol": "circle"
         },
         "mode": "lines+markers",
         "name": "4dr Hatchback",
         "orientation": "v",
         "showlegend": true,
         "type": "scatter",
         "x": {
          "bdata": "yAfJB8oHywfMB80HzgfUB9UH1gfXB9gH2QfaB9sH3AfdB94H3wfgB+EH",
          "dtype": "i2"
         },
         "xaxis": "x",
         "y": {
          "bdata": "AAAAAABAn0AAAAAAAECfQAAAAAAAQJ9AAAAAAABAn0AAAAAAAECfQAAAAAAA+J9AAAAAAABMoEAAAAAAACjJQAAAAAAAJdJAAAAAACBk0EBGF110EWXRQKuqqqrq0s5AHMdxHEcs0EAAAAAAHLXVQGG5pxFWtNdANpTXUJ5i1kDIQhayUNDYQLdt27aNWthAs88hNcFr10B8cfWDzsDWQNOb3vTGRtdA",
          "dtype": "f8"
         },
         "yaxis": "y"
        },
        {
         "customdata": {
          "bdata": "AgACAAIAAgAEAAoACQAKAA8AFgAiACMAMQAqACQANgA9AFkANABBACgAMwBiAN8BDQKxAQ==",
          "dtype": "i2",
          "shape": "26, 1"
         },
         "hovertemplate": "Style: %{legendgroup}<br>Année: %{x}<br>Prix moyen: $%{y:.2f}<br>Nb véhicules: %{customdata[0]}<extra></extra>",
         "legendgroup": "4dr SUV",
         "line": {
          "color": "#ab63fa",
          "dash": "solid"
         },
         "marker": {
          "size": 5,
          "symbol": "circle"
         },
         "mode": "lines+markers",
         "name": "4dr SUV",
         "orientation": "v",
         "showlegend": true,
         "type": "scatter",
         "x": {
          "bdata": "xwfIB8kHygfMB80HzgfPB9AH0QfSB9MH1AfVB9YH1wfYB9kH2gfbB9wH3QfeB98H4AfhBw==",
          "dtype": "i2"
         },
         "xaxis": "x",
         "y": {
          "bdata": "AAAAAABAn0AAAAAAAECfQAAAAAAAQJ9AAAAAAABAn0AAAAAAgOGiQGZmZmZm7KJAAAAAAAB2oUCamZmZmZGlQAAAAAAA/qdAdNFFFx2r3UC1tLS0tHPaQHVQB3UQ29xAt23bti3v20CGYRiGobrdQKuqqqpCLeBAJrSX0B4P30Cb9yku+UngQFzgAhc4i99AO7ETOyHT3UCamZmZGdvfQGZmZmaO+eFA09LS0nKr4kDrQ2N9qBfjQMiXnIXazOJAcymXcuk140DHsGWUFVfjQA==",
          "dtype": "f8"
         },
         "yaxis": "y"
        },
        {
         "customdata": {
          "bdata": "AQICAQEBBgUHAwMBCAkI",
          "dtype": "i1",
          "shape": "15, 1"
         },
         "hovertemplate": "Style: %{legendgroup}<br>Année: %{x}<br>Prix moyen: $%{y:.2f}<br>Nb véhicules: %{customdata[0]}<extra></extra>",
         "legendgroup": "Cargo Minivan",
         "line": {
          "color": "#FFA15A",
          "dash": "solid"
         },
         "marker": {
          "size": 5,
          "symbol": "circle"
         },
         "mode": "lines+markers",
         "name": "Cargo Minivan",
         "orientation": "v",
         "showlegend": true,
         "type": "scatter",
         "x": {
          "bdata": "ygfLB8wHzQfRB9IH0wfUB9UH1gfXB9gH3wfgB+EH",
          "dtype": "i2"
         },
         "xaxis": "x",
         "y": {
          "bdata": "AAAAAABAn0AAAAAAAECfQAAAAAAAQJ9AAAAAAABAn0AAAAAAAL/TQAAAAABAGtRAAAAAACA41kAAAAAAAB/XQAAAAACAgtZAAAAAAIDV00CrqqqqqkzUQAAAAAAAitZAAAAAAPA/1kByHMdxHBfXQAAAAACQuNZA",
          "dtype": "f8"
         },
         "yaxis": "y"
        },
        {
         "customdata": {
          "bdata": "BAMFBQoDBQUFBQYGDgQE",
          "dtype": "i1",
          "shape": "15, 1"
         },
         "hovertemplate": "Style: %{legendgroup}<br>Année: %{x}<br>Prix moyen: $%{y:.2f}<br>Nb véhicules: %{customdata[0]}<extra></extra>",
         "legendgroup": "Cargo Van",
         "line": {
          "color": "#19d3f3",
          "dash": "solid"
         },
         "marker": {
          "size": 5,
          "symbol": "circle"
         },
         "mode": "lines+markers",
         "name": "Cargo Van",
         "orientation": "v",
         "showlegend": true,
         "type": "scatter",
         "x": {
          "bdata": "ygfLB8wHzQfOB88H0AfRB9IH0wfcB90H3gffB+AH",
          "dtype": "i2"
         },
         "xaxis": "x",
         "y": {
          "bdata": "AAAAAABAn0AAAAAAAECfQAAAAAAAQJ9AAAAAAABAn0BmZmZmZmigQKuqqqqq3KBAmpmZmZnVoUAAAAAAgLHTQAAAAACAQtRAAAAAAIAA1UBVVVVVtSzcQAAAAABgFN1ASZIkSRI93kAAAAAAUCffQAAAAACoFeBA",
          "dtype": "f8"
         },
         "yaxis": "y"
        },
        {
         "customdata": {
          "bdata": "CAgJBAQFBwMCBg0LBgUGBhEdHw8NDgouWEcy",
          "dtype": "i1",
          "shape": "27, 1"
         },
         "hovertemplate": "Style: %{legendgroup}<br>Année: %{x}<br>Prix moyen: $%{y:.2f}<br>Nb véhicules: %{customdata[0]}<extra></extra>",
         "legendgroup": "Convertible",
         "line": {
          "color": "#FF6692",
          "dash": "solid"
         },
         "marker": {
          "size": 5,
          "symbol": "circle"
         },
         "mode": "lines+markers",
         "name": "Convertible",
         "orientation": "v",
         "showlegend": true,
         "type": "scatter",
         "x": {
          "bdata": "xwfIB8kHygfLB8wHzQfOB88H0AfRB9IH0wfUB9UH1gfXB9gH2QfaB9sH3AfdB94H3wfgB+EH",
          "dtype": "i2"
         },
         "xaxis": "x",
         "y": {
          "bdata": "AAAAAEDJpEAAAAAAQEOkQDmO4ziO2aZAAAAAAIDmpkAAAAAAgMKoQAAAAAAAJqNAt23btm3VokBVVVVVVaWoQAAAAACAtMhAAAAAAIAHu0DFTuzEDjTdQBdddNHFrdpAVVVVVQWn4EAAAAAAwMXdQKuqqqoqh91AVVVVVTXF4kAPDw8Pj3TiQHwaYblnTOFASimllFKr40C8u7u727jjQOzETuwkxOVASZIkSeLX40AAAAAAIHTmQDi96U2vreJAdNFFF7nD40AAAAAAYETlQJqZmZkJdOZA",
          "dtype": "f8"
         },
         "yaxis": "y"
        },
        {
         "customdata": {
          "bdata": "AgEBAgMCBwUBAQEC",
          "dtype": "i1",
          "shape": "12, 1"
         },
         "hovertemplate": "Style: %{legendgroup}<br>Année: %{x}<br>Prix moyen: $%{y:.2f}<br>Nb véhicules: %{customdata[0]}<extra></extra>",
         "legendgroup": "Convertible SUV",
         "line": {
          "color": "#B6E880",
          "dash": "solid"
         },
         "marker": {
          "size": 5,
          "symbol": "circle"
         },
         "mode": "lines+markers",
         "name": "Convertible SUV",
         "orientation": "v",
         "showlegend": true,
         "type": "scatter",
         "x": {
          "bdata": "yQfKB8sHzAfNB84H0gfTB9wH3QfeB+EH",
          "dtype": "i2"
         },
         "xaxis": "x",
         "y": {
          "bdata": "AAAAAABAn0AAAAAAAECfQAAAAAAAQJ9AAAAAAABAn0BVVVVV1aXKQAAAAAAAQJ9AkiRJkiS80EBmZmZm5ubQQAAAAACAv+VAAAAAAIC/5UAAAAAAYIHkQAAAAAAAkOpA",
          "dtype": "f8"
         },
         "yaxis": "y"
        },
        {
         "customdata": {
          "bdata": "EAsTFBodGg4IBgkNFBMQFRoeFAoNDxgfdXZw",
          "dtype": "i1",
          "shape": "27, 1"
         },
         "hovertemplate": "Style: %{legendgroup}<br>Année: %{x}<br>Prix moyen: $%{y:.2f}<br>Nb véhicules: %{customdata[0]}<extra></extra>",
         "legendgroup": "Coupe",
         "line": {
          "color": "#FF97FF",
          "dash": "solid"
         },
         "marker": {
          "size": 5,
          "symbol": "circle"
         },
         "mode": "lines+markers",
         "name": "Coupe",
         "orientation": "v",
         "showlegend": true,
         "type": "scatter",
         "x": {
          "bdata": "xwfIB8kHygfLB8wHzQfOB88H0AfRB9IH0wfUB9UH1gfXB9gH2QfaB9sH3AfdB94H3wfgB+EH",
          "dtype": "i2"
         },
         "xaxis": "x",
         "y": {
          "bdata": "AAAAAIDbn0C66KKLLpqfQL2G8hrKE6FAMzMzM7O+oUCe2Imd2AmjQNQIyz2NfKtAsRM7sROprkAlSZIkyQa3QAAAAADAgKhAAAAAAABwrECO4ziOI7zdQAAAAACAD9tAAAAAAIDB00CvobyGsizSQAAAAABogNJAGIZhGMZN3EAAAAAAwP/cQFVVVVVVXtxAAAAAANDc3UAAAAAAkKbgQGIndmJH7OdAVVVVVRVu5UAAAAAAIDDkQEIIIYTQauRASqZkSibU4kAAAAAAwFTjQNu2bdvi4+NA",
          "dtype": "f8"
         },
         "yaxis": "y"
        },
        {
         "customdata": {
          "bdata": "AwACAAYABQANAB4ALAAiACUAFAAeABYADgCEAIUAggA=",
          "dtype": "i2",
          "shape": "16, 1"
         },
         "hovertemplate": "Style: %{legendgroup}<br>Année: %{x}<br>Prix moyen: $%{y:.2f}<br>Nb véhicules: %{customdata[0]}<extra></extra>",
         "legendgroup": "Crew Cab Pickup",
         "line": {
          "color": "#FECB52",
          "dash": "solid"
         },
         "marker": {
          "size": 5,
          "symbol": "circle"
         },
         "mode": "lines+markers",
         "name": "Crew Cab Pickup",
         "orientation": "v",
         "showlegend": true,
         "type": "scatter",
         "x": {
          "bdata": "0gfTB9QH1QfWB9cH2AfZB9oH2wfcB90H3gffB+AH4Qc=",
          "dtype": "i2"
         },
         "xaxis": "x",
         "y": {
          "bdata": "VVVVVXVl4EAAAAAAAPLXQAAAAACgjtdAAAAAAEDp10B2Yid24kjeQKuqqqrKb95A0UUXXXQ83kCIh4eHJ7jeQEU+6wbTqt9AzczMzESX5UDe3d3dHTLjQKOLLrrY1+VA27Zt24Zg4UBlk002aVPiQL2G8hrq6+JA5EZu5Jb140A=",
          "dtype": "f8"
         },
         "yaxis": "y"
        },
        {
         "customdata": {
          "bdata": "BgULBwsIHCAaCAcSEgg7EhYRChAFW1hM",
          "dtype": "i1",
          "shape": "24, 1"
         },
         "hovertemplate": "Style: %{legendgroup}<br>Année: %{x}<br>Prix moyen: $%{y:.2f}<br>Nb véhicules: %{customdata[0]}<extra></extra>",
         "legendgroup": "Extended Cab Pickup",
         "line": {
          "color": "#636efa",
          "dash": "solid"
         },
         "marker": {
          "size": 5,
          "symbol": "circle"
         },
         "mode": "lines+markers",
         "name": "Extended Cab Pickup",
         "orientation": "v",
         "showlegend": true,
         "type": "scatter",
         "x": {
          "bdata": "xwfIB8kHygfLB8wHzQfOB88H0AfRB9IH0wfUB9cH2AfZB9oH2wfcB94H3wfgB+EH",
          "dtype": "i2"
         },
         "xaxis": "x",
         "y": {
          "bdata": "AAAAAABAn0BmZmZmZoqfQHTRRRddlKBAt23btm11oUBddNFFF9GiQAAAAADAlKRA27Zt27Yxp0AAAAAAEFupQMVO7MRO+atAAAAAAIBsqkCSJEmSJFvVQAAAAADAs9NAAAAAACB800AAAAAAYDHZQCNoOKm7kdtAx3Ecx9GV2EDRRRdd1CTXQLW0tLQ0c9ZAMzMzM3Ma1kAAAAAAKIPXQAAAAACAK+BAKqMyKiNK30DRRRddSBzgQBvKayjf4OBA",
          "dtype": "f8"
         },
         "yaxis": "y"
        },
        {
         "customdata": {
          "bdata": "AQEKCQkJBgYKECUUGxQQBQcHBwQMNDQk",
          "dtype": "i1",
          "shape": "24, 1"
         },
         "hovertemplate": "Style: %{legendgroup}<br>Année: %{x}<br>Prix moyen: $%{y:.2f}<br>Nb véhicules: %{customdata[0]}<extra></extra>",
         "legendgroup": "Passenger Minivan",
         "line": {
          "color": "#EF553B",
          "dash": "solid"
         },
         "marker": {
          "size": 5,
          "symbol": "circle"
         },
         "mode": "lines+markers",
         "name": "Passenger Minivan",
         "orientation": "v",
         "showlegend": true,
         "type": "scatter",
         "x": {
          "bdata": "xwfKB8sHzAfNB84HzwfQB9EH0gfTB9QH1QfWB9cH2AfaB9sH3AfdB94H3wfgB+EH",
          "dtype": "i2"
         },
         "xaxis": "x",
         "y": {
          "bdata": "AAAAAABAn0AAAAAAAECfQM3MzMzMsJ9Ax3Ecx3F6oECrqqqqqk6hQMdxHMdxlJ9AAAAAAACPoECrqqqqqmShQAAAAAAA2dlAAAAAACwx20BT5LNuMGbbQAAAAADQl9tA9xLaSyhV2kAAAAAAcLzZQAAAAAAYodlAAAAAAIAy2UBu27Zt28TgQG7btm1bP+FAt23btq1f4UAAAAAAwFfVQKuqqqoKZt1AJ3ZiJyY+4ECe2Imd+LTgQFVVVVU93eBA",
          "dtype": "f8"
         },
         "yaxis": "y"
        },
        {
         "customdata": {
          "bdata": "BgICAwMCAgEGBhAcHBA=",
          "dtype": "i1",
          "shape": "14, 1"
         },
         "hovertemplate": "Style: %{legendgroup}<br>Année: %{x}<br>Prix moyen: $%{y:.2f}<br>Nb véhicules: %{customdata[0]}<extra></extra>",
         "legendgroup": "Passenger Van",
         "line": {
          "color": "#00cc96",
          "dash": "solid"
         },
         "marker": {
          "size": 5,
          "symbol": "circle"
         },
         "mode": "lines+markers",
         "name": "Passenger Van",
         "orientation": "v",
         "showlegend": true,
         "type": "scatter",
         "x": {
          "bdata": "ygfLB8wHzQfOB9AH0QfSB9wH3QfeB98H4AfhBw==",
          "dtype": "i2"
         },
         "xaxis": "x",
         "y": {
          "bdata": "AAAAAABAn0AAAAAAAECfQAAAAAAAQJ9AVVVVVVUjoEAAAAAAAIShQAAAAAAAMqJAAAAAACDU1UAAAAAAQNjUQAAAAAAg499AAAAAANBb4EAAAAAAuoDgQG7btm0roeFAJUmSJNn44UAAAAAA8NTiQA==",
          "dtype": "f8"
         },
         "yaxis": "y"
        },
        {
         "customdata": {
          "bdata": "BgcIBQgFHCEOBgcPDA0BARoJDgsCCCMiIg==",
          "dtype": "i1",
          "shape": "25, 1"
         },
         "hovertemplate": "Style: %{legendgroup}<br>Année: %{x}<br>Prix moyen: $%{y:.2f}<br>Nb véhicules: %{customdata[0]}<extra></extra>",
         "legendgroup": "Regular Cab Pickup",
         "line": {
          "color": "#ab63fa",
          "dash": "solid"
         },
         "marker": {
          "size": 5,
          "symbol": "circle"
         },
         "mode": "lines+markers",
         "name": "Regular Cab Pickup",
         "orientation": "v",
         "showlegend": true,
         "type": "scatter",
         "x": {
          "bdata": "xwfIB8kHygfLB8wHzQfOB88H0AfRB9IH0wfUB9UH1gfXB9gH2QfaB9sH3AffB+AH4Qc=",
          "dtype": "i2"
         },
         "xaxis": "x",
         "y": {
          "bdata": "VVVVVVVmpEAAAAAAAECfQAAAAACAmp9AZmZmZmY+oEAAAAAAgCCjQM3MzMzMlqBAJUmSJEm4pEAIH3zwwc2mQAAAAAAAW6lAq6qqqqrrqEBu27ZtW53MQCIiIiKiHtBAAAAAAADvz0CKndiJXebXQAAAAABgx+RAAAAAAAAp40CKndiJnT/VQI7jOI6jP9hAbtu2bbut1UBddNFFV6PWQAAAAAAANNJAAAAAACCe1EAAAAAAAOHeQLW0tLQUqN9AxMPDw7MG4EA=",
          "dtype": "f8"
         },
         "yaxis": "y"
        },
        {
         "customdata": {
          "bdata": "JAAnADEAIAAaABIAEgAUAB8ALAAzADAAMwBDADoAJQAjACoARwA3AEIARQA3AEwAyAH0AXQB",
          "dtype": "i2",
          "shape": "27, 1"
         },
         "hovertemplate": "Style: %{legendgroup}<br>Année: %{x}<br>Prix moyen: $%{y:.2f}<br>Nb véhicules: %{customdata[0]}<extra></extra>",
         "legendgroup": "Sedan",
         "line": {
          "color": "#FFA15A",
          "dash": "solid"
         },
         "marker": {
          "size": 5,
          "symbol": "circle"
         },
         "mode": "lines+markers",
         "name": "Sedan",
         "orientation": "v",
         "showlegend": true,
         "type": "scatter",
         "x": {
          "bdata": "xwfIB8kHygfLB8wHzQfOB88H0AfRB9IH0wfUB9UH1gfXB9gH2QfaB9sH3AfdB94H3wfgB+EH",
          "dtype": "i2"
         },
         "xaxis": "x",
         "y": {
          "bdata": "AAAAAADgn0DzLd/yLVWgQERjfWisg6BAAAAAAIBxn0DZiZ3YiU2gQMdxHMdxpKBAAAAAAADMoEBmZmZmZvqiQK211lprYaRAXXTRRRc6pEDEw8PDQyDUQAAAAACIlNhAQUFBQQHf2EBgjYn0wDDbQAnLPY1QcNtAYYp81o1V20Cogzqow9rWQOh5nudZlNhAmwOJVthF30CoBHlK8EriQJtsssk2g+FAZCELWUhN4ECeEuQp4TjgQAAAAABY4eFAJLiP4L4c4UDXo3A9okThQIwxxhgLBOFA",
          "dtype": "f8"
         },
         "yaxis": "y"
        },
        {
         "customdata": {
          "bdata": "Cw0MCwkHBQEBCAkEBRIXHiMhFw8hJSs1Mh8=",
          "dtype": "i1",
          "shape": "26, 1"
         },
         "hovertemplate": "Style: %{legendgroup}<br>Année: %{x}<br>Prix moyen: $%{y:.2f}<br>Nb véhicules: %{customdata[0]}<extra></extra>",
         "legendgroup": "Wagon",
         "line": {
          "color": "#19d3f3",
          "dash": "solid"
         },
         "marker": {
          "size": 5,
          "symbol": "circle"
         },
         "mode": "lines+markers",
         "name": "Wagon",
         "orientation": "v",
         "showlegend": true,
         "type": "scatter",
         "x": {
          "bdata": "xwfIB8kHygfLB8wHzQfOB9AH0QfSB9MH1AfVB9YH1wfYB9kH2gfbB9wH3QfeB98H4AfhBw==",
          "dtype": "i2"
         },
         "xaxis": "x",
         "y": {
          "bdata": "dNFFF12In0DsxE7sxJafQFVVVVVV9Z9AAAAAAABAn0AAAAAAAECfQJIkSZIkuZ9AzczMzMyIn0AAAAAAADChQAAAAAAAQJ9AAAAAAIDIzUDHcRzHsX7SQAAAAACQ991AAAAAAODP4UByHMdxvLfZQAAAAACAWtZA7+7u7q7c1kAAAAAAQA/YQFVVVVUVZNtAQxaykAXb2UAAAAAAAG/bQEYXXXQR0N5AwhT5rBsX3kAqa8qaMjXeQArGW9nnIeBAzczMzGwc4kCllFJKCXPhQA==",
          "dtype": "f8"
         },
         "yaxis": "y"
        }
       ],
       "layout": {
        "height": 600,
        "hovermode": "closest",
        "legend": {
         "title": {
          "text": "Style de véhicule"
         },
         "tracegroupgap": 0
        },
        "margin": {
         "b": 120,
         "t": 60
        },
        "template": {
         "data": {
          "bar": [
           {
            "error_x": {
             "color": "#2a3f5f"
            },
            "error_y": {
             "color": "#2a3f5f"
            },
            "marker": {
             "line": {
              "color": "#E5ECF6",
              "width": 0.5
             },
             "pattern": {
              "fillmode": "overlay",
              "size": 10,
              "solidity": 0.2
             }
            },
            "type": "bar"
           }
          ],
          "barpolar": [
           {
            "marker": {
             "line": {
              "color": "#E5ECF6",
              "width": 0.5
             },
             "pattern": {
              "fillmode": "overlay",
              "size": 10,
              "solidity": 0.2
             }
            },
            "type": "barpolar"
           }
          ],
          "carpet": [
           {
            "aaxis": {
             "endlinecolor": "#2a3f5f",
             "gridcolor": "white",
             "linecolor": "white",
             "minorgridcolor": "white",
             "startlinecolor": "#2a3f5f"
            },
            "baxis": {
             "endlinecolor": "#2a3f5f",
             "gridcolor": "white",
             "linecolor": "white",
             "minorgridcolor": "white",
             "startlinecolor": "#2a3f5f"
            },
            "type": "carpet"
           }
          ],
          "choropleth": [
           {
            "colorbar": {
             "outlinewidth": 0,
             "ticks": ""
            },
            "type": "choropleth"
           }
          ],
          "contour": [
           {
            "colorbar": {
             "outlinewidth": 0,
             "ticks": ""
            },
            "colorscale": [
             [
              0,
              "#0d0887"
             ],
             [
              0.1111111111111111,
              "#46039f"
             ],
             [
              0.2222222222222222,
              "#7201a8"
             ],
             [
              0.3333333333333333,
              "#9c179e"
             ],
             [
              0.4444444444444444,
              "#bd3786"
             ],
             [
              0.5555555555555556,
              "#d8576b"
             ],
             [
              0.6666666666666666,
              "#ed7953"
             ],
             [
              0.7777777777777778,
              "#fb9f3a"
             ],
             [
              0.8888888888888888,
              "#fdca26"
             ],
             [
              1,
              "#f0f921"
             ]
            ],
            "type": "contour"
           }
          ],
          "contourcarpet": [
           {
            "colorbar": {
             "outlinewidth": 0,
             "ticks": ""
            },
            "type": "contourcarpet"
           }
          ],
          "heatmap": [
           {
            "colorbar": {
             "outlinewidth": 0,
             "ticks": ""
            },
            "colorscale": [
             [
              0,
              "#0d0887"
             ],
             [
              0.1111111111111111,
              "#46039f"
             ],
             [
              0.2222222222222222,
              "#7201a8"
             ],
             [
              0.3333333333333333,
              "#9c179e"
             ],
             [
              0.4444444444444444,
              "#bd3786"
             ],
             [
              0.5555555555555556,
              "#d8576b"
             ],
             [
              0.6666666666666666,
              "#ed7953"
             ],
             [
              0.7777777777777778,
              "#fb9f3a"
             ],
             [
              0.8888888888888888,
              "#fdca26"
             ],
             [
              1,
              "#f0f921"
             ]
            ],
            "type": "heatmap"
           }
          ],
          "histogram": [
           {
            "marker": {
             "pattern": {
              "fillmode": "overlay",
              "size": 10,
              "solidity": 0.2
             }
            },
            "type": "histogram"
           }
          ],
          "histogram2d": [
           {
            "colorbar": {
             "outlinewidth": 0,
             "ticks": ""
            },
            "colorscale": [
             [
              0,
              "#0d0887"
             ],
             [
              0.1111111111111111,
              "#46039f"
             ],
             [
              0.2222222222222222,
              "#7201a8"
             ],
             [
              0.3333333333333333,
              "#9c179e"
             ],
             [
              0.4444444444444444,
              "#bd3786"
             ],
             [
              0.5555555555555556,
              "#d8576b"
             ],
             [
              0.6666666666666666,
              "#ed7953"
             ],
             [
              0.7777777777777778,
              "#fb9f3a"
             ],
             [
              0.8888888888888888,
              "#fdca26"
             ],
             [
              1,
              "#f0f921"
             ]
            ],
            "type": "histogram2d"
           }
          ],
          "histogram2dcontour": [
           {
            "colorbar": {
             "outlinewidth": 0,
             "ticks": ""
            },
            "colorscale": [
             [
              0,
              "#0d0887"
             ],
             [
              0.1111111111111111,
              "#46039f"
             ],
             [
              0.2222222222222222,
              "#7201a8"
             ],
             [
              0.3333333333333333,
              "#9c179e"
             ],
             [
              0.4444444444444444,
              "#bd3786"
             ],
             [
              0.5555555555555556,
              "#d8576b"
             ],
             [
              0.6666666666666666,
              "#ed7953"
             ],
             [
              0.7777777777777778,
              "#fb9f3a"
             ],
             [
              0.8888888888888888,
              "#fdca26"
             ],
             [
              1,
              "#f0f921"
             ]
            ],
            "type": "histogram2dcontour"
           }
          ],
          "mesh3d": [
           {
            "colorbar": {
             "outlinewidth": 0,
             "ticks": ""
            },
            "type": "mesh3d"
           }
          ],
          "parcoords": [
           {
            "line": {
             "colorbar": {
              "outlinewidth": 0,
              "ticks": ""
             }
            },
            "type": "parcoords"
           }
          ],
          "pie": [
           {
            "automargin": true,
            "type": "pie"
           }
          ],
          "scatter": [
           {
            "fillpattern": {
             "fillmode": "overlay",
             "size": 10,
             "solidity": 0.2
            },
            "type": "scatter"
           }
          ],
          "scatter3d": [
           {
            "line": {
             "colorbar": {
              "outlinewidth": 0,
              "ticks": ""
             }
            },
            "marker": {
             "colorbar": {
              "outlinewidth": 0,
              "ticks": ""
             }
            },
            "type": "scatter3d"
           }
          ],
          "scattercarpet": [
           {
            "marker": {
             "colorbar": {
              "outlinewidth": 0,
              "ticks": ""
             }
            },
            "type": "scattercarpet"
           }
          ],
          "scattergeo": [
           {
            "marker": {
             "colorbar": {
              "outlinewidth": 0,
              "ticks": ""
             }
            },
            "type": "scattergeo"
           }
          ],
          "scattergl": [
           {
            "marker": {
             "colorbar": {
              "outlinewidth": 0,
              "ticks": ""
             }
            },
            "type": "scattergl"
           }
          ],
          "scattermap": [
           {
            "marker": {
             "colorbar": {
              "outlinewidth": 0,
              "ticks": ""
             }
            },
            "type": "scattermap"
           }
          ],
          "scattermapbox": [
           {
            "marker": {
             "colorbar": {
              "outlinewidth": 0,
              "ticks": ""
             }
            },
            "type": "scattermapbox"
           }
          ],
          "scatterpolar": [
           {
            "marker": {
             "colorbar": {
              "outlinewidth": 0,
              "ticks": ""
             }
            },
            "type": "scatterpolar"
           }
          ],
          "scatterpolargl": [
           {
            "marker": {
             "colorbar": {
              "outlinewidth": 0,
              "ticks": ""
             }
            },
            "type": "scatterpolargl"
           }
          ],
          "scatterternary": [
           {
            "marker": {
             "colorbar": {
              "outlinewidth": 0,
              "ticks": ""
             }
            },
            "type": "scatterternary"
           }
          ],
          "surface": [
           {
            "colorbar": {
             "outlinewidth": 0,
             "ticks": ""
            },
            "colorscale": [
             [
              0,
              "#0d0887"
             ],
             [
              0.1111111111111111,
              "#46039f"
             ],
             [
              0.2222222222222222,
              "#7201a8"
             ],
             [
              0.3333333333333333,
              "#9c179e"
             ],
             [
              0.4444444444444444,
              "#bd3786"
             ],
             [
              0.5555555555555556,
              "#d8576b"
             ],
             [
              0.6666666666666666,
              "#ed7953"
             ],
             [
              0.7777777777777778,
              "#fb9f3a"
             ],
             [
              0.8888888888888888,
              "#fdca26"
             ],
             [
              1,
              "#f0f921"
             ]
            ],
            "type": "surface"
           }
          ],
          "table": [
           {
            "cells": {
             "fill": {
              "color": "#EBF0F8"
             },
             "line": {
              "color": "white"
             }
            },
            "header": {
             "fill": {
              "color": "#C8D4E3"
             },
             "line": {
              "color": "white"
             }
            },
            "type": "table"
           }
          ]
         },
         "layout": {
          "annotationdefaults": {
           "arrowcolor": "#2a3f5f",
           "arrowhead": 0,
           "arrowwidth": 1
          },
          "autotypenumbers": "strict",
          "coloraxis": {
           "colorbar": {
            "outlinewidth": 0,
            "ticks": ""
           }
          },
          "colorscale": {
           "diverging": [
            [
             0,
             "#8e0152"
            ],
            [
             0.1,
             "#c51b7d"
            ],
            [
             0.2,
             "#de77ae"
            ],
            [
             0.3,
             "#f1b6da"
            ],
            [
             0.4,
             "#fde0ef"
            ],
            [
             0.5,
             "#f7f7f7"
            ],
            [
             0.6,
             "#e6f5d0"
            ],
            [
             0.7,
             "#b8e186"
            ],
            [
             0.8,
             "#7fbc41"
            ],
            [
             0.9,
             "#4d9221"
            ],
            [
             1,
             "#276419"
            ]
           ],
           "sequential": [
            [
             0,
             "#0d0887"
            ],
            [
             0.1111111111111111,
             "#46039f"
            ],
            [
             0.2222222222222222,
             "#7201a8"
            ],
            [
             0.3333333333333333,
             "#9c179e"
            ],
            [
             0.4444444444444444,
             "#bd3786"
            ],
            [
             0.5555555555555556,
             "#d8576b"
            ],
            [
             0.6666666666666666,
             "#ed7953"
            ],
            [
             0.7777777777777778,
             "#fb9f3a"
            ],
            [
             0.8888888888888888,
             "#fdca26"
            ],
            [
             1,
             "#f0f921"
            ]
           ],
           "sequentialminus": [
            [
             0,
             "#0d0887"
            ],
            [
             0.1111111111111111,
             "#46039f"
            ],
            [
             0.2222222222222222,
             "#7201a8"
            ],
            [
             0.3333333333333333,
             "#9c179e"
            ],
            [
             0.4444444444444444,
             "#bd3786"
            ],
            [
             0.5555555555555556,
             "#d8576b"
            ],
            [
             0.6666666666666666,
             "#ed7953"
            ],
            [
             0.7777777777777778,
             "#fb9f3a"
            ],
            [
             0.8888888888888888,
             "#fdca26"
            ],
            [
             1,
             "#f0f921"
            ]
           ]
          },
          "colorway": [
           "#636efa",
           "#EF553B",
           "#00cc96",
           "#ab63fa",
           "#FFA15A",
           "#19d3f3",
           "#FF6692",
           "#B6E880",
           "#FF97FF",
           "#FECB52"
          ],
          "font": {
           "color": "#2a3f5f"
          },
          "geo": {
           "bgcolor": "white",
           "lakecolor": "white",
           "landcolor": "#E5ECF6",
           "showlakes": true,
           "showland": true,
           "subunitcolor": "white"
          },
          "hoverlabel": {
           "align": "left"
          },
          "hovermode": "closest",
          "mapbox": {
           "style": "light"
          },
          "paper_bgcolor": "white",
          "plot_bgcolor": "#E5ECF6",
          "polar": {
           "angularaxis": {
            "gridcolor": "white",
            "linecolor": "white",
            "ticks": ""
           },
           "bgcolor": "#E5ECF6",
           "radialaxis": {
            "gridcolor": "white",
            "linecolor": "white",
            "ticks": ""
           }
          },
          "scene": {
           "xaxis": {
            "backgroundcolor": "#E5ECF6",
            "gridcolor": "white",
            "gridwidth": 2,
            "linecolor": "white",
            "showbackground": true,
            "ticks": "",
            "zerolinecolor": "white"
           },
           "yaxis": {
            "backgroundcolor": "#E5ECF6",
            "gridcolor": "white",
            "gridwidth": 2,
            "linecolor": "white",
            "showbackground": true,
            "ticks": "",
            "zerolinecolor": "white"
           },
           "zaxis": {
            "backgroundcolor": "#E5ECF6",
            "gridcolor": "white",
            "gridwidth": 2,
            "linecolor": "white",
            "showbackground": true,
            "ticks": "",
            "zerolinecolor": "white"
           }
          },
          "shapedefaults": {
           "line": {
            "color": "#2a3f5f"
           }
          },
          "ternary": {
           "aaxis": {
            "gridcolor": "white",
            "linecolor": "white",
            "ticks": ""
           },
           "baxis": {
            "gridcolor": "white",
            "linecolor": "white",
            "ticks": ""
           },
           "bgcolor": "#E5ECF6",
           "caxis": {
            "gridcolor": "white",
            "linecolor": "white",
            "ticks": ""
           }
          },
          "title": {
           "x": 0.05
          },
          "xaxis": {
           "automargin": true,
           "gridcolor": "white",
           "linecolor": "white",
           "ticks": "",
           "title": {
            "standoff": 15
           },
           "zerolinecolor": "white",
           "zerolinewidth": 2
          },
          "yaxis": {
           "automargin": true,
           "gridcolor": "white",
           "linecolor": "white",
           "ticks": "",
           "title": {
            "standoff": 15
           },
           "zerolinecolor": "white",
           "zerolinewidth": 2
          }
         }
        },
        "title": {
         "text": "Dépréciation par style de véhicule"
        },
        "xaxis": {
         "anchor": "y",
         "domain": [
          0,
          1
         ],
         "tickangle": -45,
         "title": {
          "text": "Année du véhicule"
         }
        },
        "yaxis": {
         "anchor": "x",
         "domain": [
          0,
          1
         ],
         "tickformat": ",.0f",
         "tickprefix": "$",
         "title": {
          "text": "Prix moyen (USD)"
         }
        }
       }
      },
      "text/html": [
       "<div>            <script src=\"https://cdnjs.cloudflare.com/ajax/libs/mathjax/2.7.5/MathJax.js?config=TeX-AMS-MML_SVG\"></script><script type=\"text/javascript\">if (window.MathJax && window.MathJax.Hub && window.MathJax.Hub.Config) {window.MathJax.Hub.Config({SVG: {font: \"STIX-Web\"}});}</script>                <script type=\"text/javascript\">window.PlotlyConfig = {MathJaxConfig: 'local'};</script>\n",
       "        <script charset=\"utf-8\" src=\"https://cdn.plot.ly/plotly-3.0.1.min.js\"></script>                <div id=\"5f3316ee-5072-4c94-8fa1-bea95ab73ca0\" class=\"plotly-graph-div\" style=\"height:600px; width:100%;\"></div>            <script type=\"text/javascript\">                window.PLOTLYENV=window.PLOTLYENV || {};                                if (document.getElementById(\"5f3316ee-5072-4c94-8fa1-bea95ab73ca0\")) {                    Plotly.newPlot(                        \"5f3316ee-5072-4c94-8fa1-bea95ab73ca0\",                        [{\"customdata\":{\"dtype\":\"i1\",\"bdata\":\"CxwbEwUFCAUGCA4EBA4JDAsOBAgGDgoPPy0P\",\"shape\":\"27, 1\"},\"hovertemplate\":\"Style: %{legendgroup}\\u003cbr\\u003eAnn\\u00e9e: %{x}\\u003cbr\\u003ePrix moyen: $%{y:.2f}\\u003cbr\\u003eNb v\\u00e9hicules: %{customdata[0]}\\u003cextra\\u003e\\u003c\\u002fextra\\u003e\",\"legendgroup\":\"2dr Hatchback\",\"line\":{\"color\":\"#636efa\",\"dash\":\"solid\"},\"marker\":{\"symbol\":\"circle\",\"size\":5},\"mode\":\"lines+markers\",\"name\":\"2dr Hatchback\",\"orientation\":\"v\",\"showlegend\":true,\"x\":{\"dtype\":\"i2\",\"bdata\":\"xwfIB8kHygfLB8wHzQfOB88H0AfRB9IH0wfUB9UH1gfXB9gH2QfaB9sH3AfdB94H3wfgB+EH\"},\"xaxis\":\"x\",\"y\":{\"dtype\":\"f8\",\"bdata\":\"dNFFF11eoEAAAAAAAECfQKG9hPYS3qBA5TWU11AiokAAAAAAADCrQAAAAAAAQJ9AAAAAAACzpkDNzMzMzNCtQKuqqqqq97BAAAAAAADsrUCSJEmSBFvTQAAAAACgSdtAAAAAAOCT00CSJEmS5F7VQKuqqqoqpNRAq6qqqorb00C66KKLrvXUQEmSJElS7dRAAAAAAEBt0UAAAAAASFvWQKuqqqpqiNdAbtu2bRuW2UAAAAAAAAvbQFVVVVWVrtRAchzHcZxu10ByHMdxHBjWQKuqqqrq9dRA\"},\"yaxis\":\"y\",\"type\":\"scatter\"},{\"customdata\":{\"dtype\":\"i1\",\"bdata\":\"BAcHCAQFAwICAgYIDAQDAwIB\",\"shape\":\"18, 1\"},\"hovertemplate\":\"Style: %{legendgroup}\\u003cbr\\u003eAnn\\u00e9e: %{x}\\u003cbr\\u003ePrix moyen: $%{y:.2f}\\u003cbr\\u003eNb v\\u00e9hicules: %{customdata[0]}\\u003cextra\\u003e\\u003c\\u002fextra\\u003e\",\"legendgroup\":\"2dr SUV\",\"line\":{\"color\":\"#EF553B\",\"dash\":\"solid\"},\"marker\":{\"symbol\":\"circle\",\"size\":5},\"mode\":\"lines+markers\",\"name\":\"2dr SUV\",\"orientation\":\"v\",\"showlegend\":true,\"x\":{\"dtype\":\"i2\",\"bdata\":\"xwfIB8kHygfLB8wHzQfOB88H0AfRB9IH0wfUB9UH3wfgB+EH\"},\"xaxis\":\"x\",\"y\":{\"dtype\":\"f8\",\"bdata\":\"AAAAAABAn0Bu27Zt2\\u002fijQJIkSZIkFaVAAAAAACACtUAAAAAAYOLCQDMzMzMzV6RAq6qqqipuzEAAAAAAAECfQAAAAAAAIaFAAAAAAACxokBVVVVVFc7VQAAAAAA4v9dAVVVVVVXm10AAAAAAcB7XQKuqqqqqlNdAVVVVVVXW6EAAAAAAIIboQAAAAACAUOZA\"},\"yaxis\":\"y\",\"type\":\"scatter\"},{\"customdata\":{\"dtype\":\"i1\",\"bdata\":\"BggHAwgJAgIFDAsGCRAdJi4camFc\",\"shape\":\"21, 1\"},\"hovertemplate\":\"Style: %{legendgroup}\\u003cbr\\u003eAnn\\u00e9e: %{x}\\u003cbr\\u003ePrix moyen: $%{y:.2f}\\u003cbr\\u003eNb v\\u00e9hicules: %{customdata[0]}\\u003cextra\\u003e\\u003c\\u002fextra\\u003e\",\"legendgroup\":\"4dr Hatchback\",\"line\":{\"color\":\"#00cc96\",\"dash\":\"solid\"},\"marker\":{\"symbol\":\"circle\",\"size\":5},\"mode\":\"lines+markers\",\"name\":\"4dr Hatchback\",\"orientation\":\"v\",\"showlegend\":true,\"x\":{\"dtype\":\"i2\",\"bdata\":\"yAfJB8oHywfMB80HzgfUB9UH1gfXB9gH2QfaB9sH3AfdB94H3wfgB+EH\"},\"xaxis\":\"x\",\"y\":{\"dtype\":\"f8\",\"bdata\":\"AAAAAABAn0AAAAAAAECfQAAAAAAAQJ9AAAAAAABAn0AAAAAAAECfQAAAAAAA+J9AAAAAAABMoEAAAAAAACjJQAAAAAAAJdJAAAAAACBk0EBGF110EWXRQKuqqqrq0s5AHMdxHEcs0EAAAAAAHLXVQGG5pxFWtNdANpTXUJ5i1kDIQhayUNDYQLdt27aNWthAs88hNcFr10B8cfWDzsDWQNOb3vTGRtdA\"},\"yaxis\":\"y\",\"type\":\"scatter\"},{\"customdata\":{\"dtype\":\"i2\",\"bdata\":\"AgACAAIAAgAEAAoACQAKAA8AFgAiACMAMQAqACQANgA9AFkANABBACgAMwBiAN8BDQKxAQ==\",\"shape\":\"26, 1\"},\"hovertemplate\":\"Style: %{legendgroup}\\u003cbr\\u003eAnn\\u00e9e: %{x}\\u003cbr\\u003ePrix moyen: $%{y:.2f}\\u003cbr\\u003eNb v\\u00e9hicules: %{customdata[0]}\\u003cextra\\u003e\\u003c\\u002fextra\\u003e\",\"legendgroup\":\"4dr SUV\",\"line\":{\"color\":\"#ab63fa\",\"dash\":\"solid\"},\"marker\":{\"symbol\":\"circle\",\"size\":5},\"mode\":\"lines+markers\",\"name\":\"4dr SUV\",\"orientation\":\"v\",\"showlegend\":true,\"x\":{\"dtype\":\"i2\",\"bdata\":\"xwfIB8kHygfMB80HzgfPB9AH0QfSB9MH1AfVB9YH1wfYB9kH2gfbB9wH3QfeB98H4AfhBw==\"},\"xaxis\":\"x\",\"y\":{\"dtype\":\"f8\",\"bdata\":\"AAAAAABAn0AAAAAAAECfQAAAAAAAQJ9AAAAAAABAn0AAAAAAgOGiQGZmZmZm7KJAAAAAAAB2oUCamZmZmZGlQAAAAAAA\\u002fqdAdNFFFx2r3UC1tLS0tHPaQHVQB3UQ29xAt23bti3v20CGYRiGobrdQKuqqqpCLeBAJrSX0B4P30Cb9yku+UngQFzgAhc4i99AO7ETOyHT3UCamZmZGdvfQGZmZmaO+eFA09LS0nKr4kDrQ2N9qBfjQMiXnIXazOJAcymXcuk140DHsGWUFVfjQA==\"},\"yaxis\":\"y\",\"type\":\"scatter\"},{\"customdata\":{\"dtype\":\"i1\",\"bdata\":\"AQICAQEBBgUHAwMBCAkI\",\"shape\":\"15, 1\"},\"hovertemplate\":\"Style: %{legendgroup}\\u003cbr\\u003eAnn\\u00e9e: %{x}\\u003cbr\\u003ePrix moyen: $%{y:.2f}\\u003cbr\\u003eNb v\\u00e9hicules: %{customdata[0]}\\u003cextra\\u003e\\u003c\\u002fextra\\u003e\",\"legendgroup\":\"Cargo Minivan\",\"line\":{\"color\":\"#FFA15A\",\"dash\":\"solid\"},\"marker\":{\"symbol\":\"circle\",\"size\":5},\"mode\":\"lines+markers\",\"name\":\"Cargo Minivan\",\"orientation\":\"v\",\"showlegend\":true,\"x\":{\"dtype\":\"i2\",\"bdata\":\"ygfLB8wHzQfRB9IH0wfUB9UH1gfXB9gH3wfgB+EH\"},\"xaxis\":\"x\",\"y\":{\"dtype\":\"f8\",\"bdata\":\"AAAAAABAn0AAAAAAAECfQAAAAAAAQJ9AAAAAAABAn0AAAAAAAL\\u002fTQAAAAABAGtRAAAAAACA41kAAAAAAAB\\u002fXQAAAAACAgtZAAAAAAIDV00CrqqqqqkzUQAAAAAAAitZAAAAAAPA\\u002f1kByHMdxHBfXQAAAAACQuNZA\"},\"yaxis\":\"y\",\"type\":\"scatter\"},{\"customdata\":{\"dtype\":\"i1\",\"bdata\":\"BAMFBQoDBQUFBQYGDgQE\",\"shape\":\"15, 1\"},\"hovertemplate\":\"Style: %{legendgroup}\\u003cbr\\u003eAnn\\u00e9e: %{x}\\u003cbr\\u003ePrix moyen: $%{y:.2f}\\u003cbr\\u003eNb v\\u00e9hicules: %{customdata[0]}\\u003cextra\\u003e\\u003c\\u002fextra\\u003e\",\"legendgroup\":\"Cargo Van\",\"line\":{\"color\":\"#19d3f3\",\"dash\":\"solid\"},\"marker\":{\"symbol\":\"circle\",\"size\":5},\"mode\":\"lines+markers\",\"name\":\"Cargo Van\",\"orientation\":\"v\",\"showlegend\":true,\"x\":{\"dtype\":\"i2\",\"bdata\":\"ygfLB8wHzQfOB88H0AfRB9IH0wfcB90H3gffB+AH\"},\"xaxis\":\"x\",\"y\":{\"dtype\":\"f8\",\"bdata\":\"AAAAAABAn0AAAAAAAECfQAAAAAAAQJ9AAAAAAABAn0BmZmZmZmigQKuqqqqq3KBAmpmZmZnVoUAAAAAAgLHTQAAAAACAQtRAAAAAAIAA1UBVVVVVtSzcQAAAAABgFN1ASZIkSRI93kAAAAAAUCffQAAAAACoFeBA\"},\"yaxis\":\"y\",\"type\":\"scatter\"},{\"customdata\":{\"dtype\":\"i1\",\"bdata\":\"CAgJBAQFBwMCBg0LBgUGBhEdHw8NDgouWEcy\",\"shape\":\"27, 1\"},\"hovertemplate\":\"Style: %{legendgroup}\\u003cbr\\u003eAnn\\u00e9e: %{x}\\u003cbr\\u003ePrix moyen: $%{y:.2f}\\u003cbr\\u003eNb v\\u00e9hicules: %{customdata[0]}\\u003cextra\\u003e\\u003c\\u002fextra\\u003e\",\"legendgroup\":\"Convertible\",\"line\":{\"color\":\"#FF6692\",\"dash\":\"solid\"},\"marker\":{\"symbol\":\"circle\",\"size\":5},\"mode\":\"lines+markers\",\"name\":\"Convertible\",\"orientation\":\"v\",\"showlegend\":true,\"x\":{\"dtype\":\"i2\",\"bdata\":\"xwfIB8kHygfLB8wHzQfOB88H0AfRB9IH0wfUB9UH1gfXB9gH2QfaB9sH3AfdB94H3wfgB+EH\"},\"xaxis\":\"x\",\"y\":{\"dtype\":\"f8\",\"bdata\":\"AAAAAEDJpEAAAAAAQEOkQDmO4ziO2aZAAAAAAIDmpkAAAAAAgMKoQAAAAAAAJqNAt23btm3VokBVVVVVVaWoQAAAAACAtMhAAAAAAIAHu0DFTuzEDjTdQBdddNHFrdpAVVVVVQWn4EAAAAAAwMXdQKuqqqoqh91AVVVVVTXF4kAPDw8Pj3TiQHwaYblnTOFASimllFKr40C8u7u727jjQOzETuwkxOVASZIkSeLX40AAAAAAIHTmQDi96U2vreJAdNFFF7nD40AAAAAAYETlQJqZmZkJdOZA\"},\"yaxis\":\"y\",\"type\":\"scatter\"},{\"customdata\":{\"dtype\":\"i1\",\"bdata\":\"AgEBAgMCBwUBAQEC\",\"shape\":\"12, 1\"},\"hovertemplate\":\"Style: %{legendgroup}\\u003cbr\\u003eAnn\\u00e9e: %{x}\\u003cbr\\u003ePrix moyen: $%{y:.2f}\\u003cbr\\u003eNb v\\u00e9hicules: %{customdata[0]}\\u003cextra\\u003e\\u003c\\u002fextra\\u003e\",\"legendgroup\":\"Convertible SUV\",\"line\":{\"color\":\"#B6E880\",\"dash\":\"solid\"},\"marker\":{\"symbol\":\"circle\",\"size\":5},\"mode\":\"lines+markers\",\"name\":\"Convertible SUV\",\"orientation\":\"v\",\"showlegend\":true,\"x\":{\"dtype\":\"i2\",\"bdata\":\"yQfKB8sHzAfNB84H0gfTB9wH3QfeB+EH\"},\"xaxis\":\"x\",\"y\":{\"dtype\":\"f8\",\"bdata\":\"AAAAAABAn0AAAAAAAECfQAAAAAAAQJ9AAAAAAABAn0BVVVVV1aXKQAAAAAAAQJ9AkiRJkiS80EBmZmZm5ubQQAAAAACAv+VAAAAAAIC\\u002f5UAAAAAAYIHkQAAAAAAAkOpA\"},\"yaxis\":\"y\",\"type\":\"scatter\"},{\"customdata\":{\"dtype\":\"i1\",\"bdata\":\"EAsTFBodGg4IBgkNFBMQFRoeFAoNDxgfdXZw\",\"shape\":\"27, 1\"},\"hovertemplate\":\"Style: %{legendgroup}\\u003cbr\\u003eAnn\\u00e9e: %{x}\\u003cbr\\u003ePrix moyen: $%{y:.2f}\\u003cbr\\u003eNb v\\u00e9hicules: %{customdata[0]}\\u003cextra\\u003e\\u003c\\u002fextra\\u003e\",\"legendgroup\":\"Coupe\",\"line\":{\"color\":\"#FF97FF\",\"dash\":\"solid\"},\"marker\":{\"symbol\":\"circle\",\"size\":5},\"mode\":\"lines+markers\",\"name\":\"Coupe\",\"orientation\":\"v\",\"showlegend\":true,\"x\":{\"dtype\":\"i2\",\"bdata\":\"xwfIB8kHygfLB8wHzQfOB88H0AfRB9IH0wfUB9UH1gfXB9gH2QfaB9sH3AfdB94H3wfgB+EH\"},\"xaxis\":\"x\",\"y\":{\"dtype\":\"f8\",\"bdata\":\"AAAAAIDbn0C66KKLLpqfQL2G8hrKE6FAMzMzM7O+oUCe2Imd2AmjQNQIyz2NfKtAsRM7sROprkAlSZIkyQa3QAAAAADAgKhAAAAAAABwrECO4ziOI7zdQAAAAACAD9tAAAAAAIDB00CvobyGsizSQAAAAABogNJAGIZhGMZN3EAAAAAAwP\\u002fcQFVVVVVVXtxAAAAAANDc3UAAAAAAkKbgQGIndmJH7OdAVVVVVRVu5UAAAAAAIDDkQEIIIYTQauRASqZkSibU4kAAAAAAwFTjQNu2bdvi4+NA\"},\"yaxis\":\"y\",\"type\":\"scatter\"},{\"customdata\":{\"dtype\":\"i2\",\"bdata\":\"AwACAAYABQANAB4ALAAiACUAFAAeABYADgCEAIUAggA=\",\"shape\":\"16, 1\"},\"hovertemplate\":\"Style: %{legendgroup}\\u003cbr\\u003eAnn\\u00e9e: %{x}\\u003cbr\\u003ePrix moyen: $%{y:.2f}\\u003cbr\\u003eNb v\\u00e9hicules: %{customdata[0]}\\u003cextra\\u003e\\u003c\\u002fextra\\u003e\",\"legendgroup\":\"Crew Cab Pickup\",\"line\":{\"color\":\"#FECB52\",\"dash\":\"solid\"},\"marker\":{\"symbol\":\"circle\",\"size\":5},\"mode\":\"lines+markers\",\"name\":\"Crew Cab Pickup\",\"orientation\":\"v\",\"showlegend\":true,\"x\":{\"dtype\":\"i2\",\"bdata\":\"0gfTB9QH1QfWB9cH2AfZB9oH2wfcB90H3gffB+AH4Qc=\"},\"xaxis\":\"x\",\"y\":{\"dtype\":\"f8\",\"bdata\":\"VVVVVXVl4EAAAAAAAPLXQAAAAACgjtdAAAAAAEDp10B2Yid24kjeQKuqqqrKb95A0UUXXXQ83kCIh4eHJ7jeQEU+6wbTqt9AzczMzESX5UDe3d3dHTLjQKOLLrrY1+VA27Zt24Zg4UBlk002aVPiQL2G8hrq6+JA5EZu5Jb140A=\"},\"yaxis\":\"y\",\"type\":\"scatter\"},{\"customdata\":{\"dtype\":\"i1\",\"bdata\":\"BgULBwsIHCAaCAcSEgg7EhYRChAFW1hM\",\"shape\":\"24, 1\"},\"hovertemplate\":\"Style: %{legendgroup}\\u003cbr\\u003eAnn\\u00e9e: %{x}\\u003cbr\\u003ePrix moyen: $%{y:.2f}\\u003cbr\\u003eNb v\\u00e9hicules: %{customdata[0]}\\u003cextra\\u003e\\u003c\\u002fextra\\u003e\",\"legendgroup\":\"Extended Cab Pickup\",\"line\":{\"color\":\"#636efa\",\"dash\":\"solid\"},\"marker\":{\"symbol\":\"circle\",\"size\":5},\"mode\":\"lines+markers\",\"name\":\"Extended Cab Pickup\",\"orientation\":\"v\",\"showlegend\":true,\"x\":{\"dtype\":\"i2\",\"bdata\":\"xwfIB8kHygfLB8wHzQfOB88H0AfRB9IH0wfUB9cH2AfZB9oH2wfcB94H3wfgB+EH\"},\"xaxis\":\"x\",\"y\":{\"dtype\":\"f8\",\"bdata\":\"AAAAAABAn0BmZmZmZoqfQHTRRRddlKBAt23btm11oUBddNFFF9GiQAAAAADAlKRA27Zt27Yxp0AAAAAAEFupQMVO7MRO+atAAAAAAIBsqkCSJEmSJFvVQAAAAADAs9NAAAAAACB800AAAAAAYDHZQCNoOKm7kdtAx3Ecx9GV2EDRRRdd1CTXQLW0tLQ0c9ZAMzMzM3Ma1kAAAAAAKIPXQAAAAACAK+BAKqMyKiNK30DRRRddSBzgQBvKayjf4OBA\"},\"yaxis\":\"y\",\"type\":\"scatter\"},{\"customdata\":{\"dtype\":\"i1\",\"bdata\":\"AQEKCQkJBgYKECUUGxQQBQcHBwQMNDQk\",\"shape\":\"24, 1\"},\"hovertemplate\":\"Style: %{legendgroup}\\u003cbr\\u003eAnn\\u00e9e: %{x}\\u003cbr\\u003ePrix moyen: $%{y:.2f}\\u003cbr\\u003eNb v\\u00e9hicules: %{customdata[0]}\\u003cextra\\u003e\\u003c\\u002fextra\\u003e\",\"legendgroup\":\"Passenger Minivan\",\"line\":{\"color\":\"#EF553B\",\"dash\":\"solid\"},\"marker\":{\"symbol\":\"circle\",\"size\":5},\"mode\":\"lines+markers\",\"name\":\"Passenger Minivan\",\"orientation\":\"v\",\"showlegend\":true,\"x\":{\"dtype\":\"i2\",\"bdata\":\"xwfKB8sHzAfNB84HzwfQB9EH0gfTB9QH1QfWB9cH2AfaB9sH3AfdB94H3wfgB+EH\"},\"xaxis\":\"x\",\"y\":{\"dtype\":\"f8\",\"bdata\":\"AAAAAABAn0AAAAAAAECfQM3MzMzMsJ9Ax3Ecx3F6oECrqqqqqk6hQMdxHMdxlJ9AAAAAAACPoECrqqqqqmShQAAAAAAA2dlAAAAAACwx20BT5LNuMGbbQAAAAADQl9tA9xLaSyhV2kAAAAAAcLzZQAAAAAAYodlAAAAAAIAy2UBu27Zt28TgQG7btm1bP+FAt23btq1f4UAAAAAAwFfVQKuqqqoKZt1AJ3ZiJyY+4ECe2Imd+LTgQFVVVVU93eBA\"},\"yaxis\":\"y\",\"type\":\"scatter\"},{\"customdata\":{\"dtype\":\"i1\",\"bdata\":\"BgICAwMCAgEGBhAcHBA=\",\"shape\":\"14, 1\"},\"hovertemplate\":\"Style: %{legendgroup}\\u003cbr\\u003eAnn\\u00e9e: %{x}\\u003cbr\\u003ePrix moyen: $%{y:.2f}\\u003cbr\\u003eNb v\\u00e9hicules: %{customdata[0]}\\u003cextra\\u003e\\u003c\\u002fextra\\u003e\",\"legendgroup\":\"Passenger Van\",\"line\":{\"color\":\"#00cc96\",\"dash\":\"solid\"},\"marker\":{\"symbol\":\"circle\",\"size\":5},\"mode\":\"lines+markers\",\"name\":\"Passenger Van\",\"orientation\":\"v\",\"showlegend\":true,\"x\":{\"dtype\":\"i2\",\"bdata\":\"ygfLB8wHzQfOB9AH0QfSB9wH3QfeB98H4AfhBw==\"},\"xaxis\":\"x\",\"y\":{\"dtype\":\"f8\",\"bdata\":\"AAAAAABAn0AAAAAAAECfQAAAAAAAQJ9AVVVVVVUjoEAAAAAAAIShQAAAAAAAMqJAAAAAACDU1UAAAAAAQNjUQAAAAAAg499AAAAAANBb4EAAAAAAuoDgQG7btm0roeFAJUmSJNn44UAAAAAA8NTiQA==\"},\"yaxis\":\"y\",\"type\":\"scatter\"},{\"customdata\":{\"dtype\":\"i1\",\"bdata\":\"BgcIBQgFHCEOBgcPDA0BARoJDgsCCCMiIg==\",\"shape\":\"25, 1\"},\"hovertemplate\":\"Style: %{legendgroup}\\u003cbr\\u003eAnn\\u00e9e: %{x}\\u003cbr\\u003ePrix moyen: $%{y:.2f}\\u003cbr\\u003eNb v\\u00e9hicules: %{customdata[0]}\\u003cextra\\u003e\\u003c\\u002fextra\\u003e\",\"legendgroup\":\"Regular Cab Pickup\",\"line\":{\"color\":\"#ab63fa\",\"dash\":\"solid\"},\"marker\":{\"symbol\":\"circle\",\"size\":5},\"mode\":\"lines+markers\",\"name\":\"Regular Cab Pickup\",\"orientation\":\"v\",\"showlegend\":true,\"x\":{\"dtype\":\"i2\",\"bdata\":\"xwfIB8kHygfLB8wHzQfOB88H0AfRB9IH0wfUB9UH1gfXB9gH2QfaB9sH3AffB+AH4Qc=\"},\"xaxis\":\"x\",\"y\":{\"dtype\":\"f8\",\"bdata\":\"VVVVVVVmpEAAAAAAAECfQAAAAACAmp9AZmZmZmY+oEAAAAAAgCCjQM3MzMzMlqBAJUmSJEm4pEAIH3zwwc2mQAAAAAAAW6lAq6qqqqrrqEBu27ZtW53MQCIiIiKiHtBAAAAAAADvz0CKndiJXebXQAAAAABgx+RAAAAAAAAp40CKndiJnT\\u002fVQI7jOI6jP9hAbtu2bbut1UBddNFFV6PWQAAAAAAANNJAAAAAACCe1EAAAAAAAOHeQLW0tLQUqN9AxMPDw7MG4EA=\"},\"yaxis\":\"y\",\"type\":\"scatter\"},{\"customdata\":{\"dtype\":\"i2\",\"bdata\":\"JAAnADEAIAAaABIAEgAUAB8ALAAzADAAMwBDADoAJQAjACoARwA3AEIARQA3AEwAyAH0AXQB\",\"shape\":\"27, 1\"},\"hovertemplate\":\"Style: %{legendgroup}\\u003cbr\\u003eAnn\\u00e9e: %{x}\\u003cbr\\u003ePrix moyen: $%{y:.2f}\\u003cbr\\u003eNb v\\u00e9hicules: %{customdata[0]}\\u003cextra\\u003e\\u003c\\u002fextra\\u003e\",\"legendgroup\":\"Sedan\",\"line\":{\"color\":\"#FFA15A\",\"dash\":\"solid\"},\"marker\":{\"symbol\":\"circle\",\"size\":5},\"mode\":\"lines+markers\",\"name\":\"Sedan\",\"orientation\":\"v\",\"showlegend\":true,\"x\":{\"dtype\":\"i2\",\"bdata\":\"xwfIB8kHygfLB8wHzQfOB88H0AfRB9IH0wfUB9UH1gfXB9gH2QfaB9sH3AfdB94H3wfgB+EH\"},\"xaxis\":\"x\",\"y\":{\"dtype\":\"f8\",\"bdata\":\"AAAAAADgn0DzLd\\u002fyLVWgQERjfWisg6BAAAAAAIBxn0DZiZ3YiU2gQMdxHMdxpKBAAAAAAADMoEBmZmZmZvqiQK211lprYaRAXXTRRRc6pEDEw8PDQyDUQAAAAACIlNhAQUFBQQHf2EBgjYn0wDDbQAnLPY1QcNtAYYp81o1V20Cogzqow9rWQOh5nudZlNhAmwOJVthF30CoBHlK8EriQJtsssk2g+FAZCELWUhN4ECeEuQp4TjgQAAAAABY4eFAJLiP4L4c4UDXo3A9okThQIwxxhgLBOFA\"},\"yaxis\":\"y\",\"type\":\"scatter\"},{\"customdata\":{\"dtype\":\"i1\",\"bdata\":\"Cw0MCwkHBQEBCAkEBRIXHiMhFw8hJSs1Mh8=\",\"shape\":\"26, 1\"},\"hovertemplate\":\"Style: %{legendgroup}\\u003cbr\\u003eAnn\\u00e9e: %{x}\\u003cbr\\u003ePrix moyen: $%{y:.2f}\\u003cbr\\u003eNb v\\u00e9hicules: %{customdata[0]}\\u003cextra\\u003e\\u003c\\u002fextra\\u003e\",\"legendgroup\":\"Wagon\",\"line\":{\"color\":\"#19d3f3\",\"dash\":\"solid\"},\"marker\":{\"symbol\":\"circle\",\"size\":5},\"mode\":\"lines+markers\",\"name\":\"Wagon\",\"orientation\":\"v\",\"showlegend\":true,\"x\":{\"dtype\":\"i2\",\"bdata\":\"xwfIB8kHygfLB8wHzQfOB9AH0QfSB9MH1AfVB9YH1wfYB9kH2gfbB9wH3QfeB98H4AfhBw==\"},\"xaxis\":\"x\",\"y\":{\"dtype\":\"f8\",\"bdata\":\"dNFFF12In0DsxE7sxJafQFVVVVVV9Z9AAAAAAABAn0AAAAAAAECfQJIkSZIkuZ9AzczMzMyIn0AAAAAAADChQAAAAAAAQJ9AAAAAAIDIzUDHcRzHsX7SQAAAAACQ991AAAAAAODP4UByHMdxvLfZQAAAAACAWtZA7+7u7q7c1kAAAAAAQA\\u002fYQFVVVVUVZNtAQxaykAXb2UAAAAAAAG\\u002fbQEYXXXQR0N5AwhT5rBsX3kAqa8qaMjXeQArGW9nnIeBAzczMzGwc4kCllFJKCXPhQA==\"},\"yaxis\":\"y\",\"type\":\"scatter\"}],                        {\"template\":{\"data\":{\"histogram2dcontour\":[{\"type\":\"histogram2dcontour\",\"colorbar\":{\"outlinewidth\":0,\"ticks\":\"\"},\"colorscale\":[[0.0,\"#0d0887\"],[0.1111111111111111,\"#46039f\"],[0.2222222222222222,\"#7201a8\"],[0.3333333333333333,\"#9c179e\"],[0.4444444444444444,\"#bd3786\"],[0.5555555555555556,\"#d8576b\"],[0.6666666666666666,\"#ed7953\"],[0.7777777777777778,\"#fb9f3a\"],[0.8888888888888888,\"#fdca26\"],[1.0,\"#f0f921\"]]}],\"choropleth\":[{\"type\":\"choropleth\",\"colorbar\":{\"outlinewidth\":0,\"ticks\":\"\"}}],\"histogram2d\":[{\"type\":\"histogram2d\",\"colorbar\":{\"outlinewidth\":0,\"ticks\":\"\"},\"colorscale\":[[0.0,\"#0d0887\"],[0.1111111111111111,\"#46039f\"],[0.2222222222222222,\"#7201a8\"],[0.3333333333333333,\"#9c179e\"],[0.4444444444444444,\"#bd3786\"],[0.5555555555555556,\"#d8576b\"],[0.6666666666666666,\"#ed7953\"],[0.7777777777777778,\"#fb9f3a\"],[0.8888888888888888,\"#fdca26\"],[1.0,\"#f0f921\"]]}],\"heatmap\":[{\"type\":\"heatmap\",\"colorbar\":{\"outlinewidth\":0,\"ticks\":\"\"},\"colorscale\":[[0.0,\"#0d0887\"],[0.1111111111111111,\"#46039f\"],[0.2222222222222222,\"#7201a8\"],[0.3333333333333333,\"#9c179e\"],[0.4444444444444444,\"#bd3786\"],[0.5555555555555556,\"#d8576b\"],[0.6666666666666666,\"#ed7953\"],[0.7777777777777778,\"#fb9f3a\"],[0.8888888888888888,\"#fdca26\"],[1.0,\"#f0f921\"]]}],\"contourcarpet\":[{\"type\":\"contourcarpet\",\"colorbar\":{\"outlinewidth\":0,\"ticks\":\"\"}}],\"contour\":[{\"type\":\"contour\",\"colorbar\":{\"outlinewidth\":0,\"ticks\":\"\"},\"colorscale\":[[0.0,\"#0d0887\"],[0.1111111111111111,\"#46039f\"],[0.2222222222222222,\"#7201a8\"],[0.3333333333333333,\"#9c179e\"],[0.4444444444444444,\"#bd3786\"],[0.5555555555555556,\"#d8576b\"],[0.6666666666666666,\"#ed7953\"],[0.7777777777777778,\"#fb9f3a\"],[0.8888888888888888,\"#fdca26\"],[1.0,\"#f0f921\"]]}],\"surface\":[{\"type\":\"surface\",\"colorbar\":{\"outlinewidth\":0,\"ticks\":\"\"},\"colorscale\":[[0.0,\"#0d0887\"],[0.1111111111111111,\"#46039f\"],[0.2222222222222222,\"#7201a8\"],[0.3333333333333333,\"#9c179e\"],[0.4444444444444444,\"#bd3786\"],[0.5555555555555556,\"#d8576b\"],[0.6666666666666666,\"#ed7953\"],[0.7777777777777778,\"#fb9f3a\"],[0.8888888888888888,\"#fdca26\"],[1.0,\"#f0f921\"]]}],\"mesh3d\":[{\"type\":\"mesh3d\",\"colorbar\":{\"outlinewidth\":0,\"ticks\":\"\"}}],\"scatter\":[{\"fillpattern\":{\"fillmode\":\"overlay\",\"size\":10,\"solidity\":0.2},\"type\":\"scatter\"}],\"parcoords\":[{\"type\":\"parcoords\",\"line\":{\"colorbar\":{\"outlinewidth\":0,\"ticks\":\"\"}}}],\"scatterpolargl\":[{\"type\":\"scatterpolargl\",\"marker\":{\"colorbar\":{\"outlinewidth\":0,\"ticks\":\"\"}}}],\"bar\":[{\"error_x\":{\"color\":\"#2a3f5f\"},\"error_y\":{\"color\":\"#2a3f5f\"},\"marker\":{\"line\":{\"color\":\"#E5ECF6\",\"width\":0.5},\"pattern\":{\"fillmode\":\"overlay\",\"size\":10,\"solidity\":0.2}},\"type\":\"bar\"}],\"scattergeo\":[{\"type\":\"scattergeo\",\"marker\":{\"colorbar\":{\"outlinewidth\":0,\"ticks\":\"\"}}}],\"scatterpolar\":[{\"type\":\"scatterpolar\",\"marker\":{\"colorbar\":{\"outlinewidth\":0,\"ticks\":\"\"}}}],\"histogram\":[{\"marker\":{\"pattern\":{\"fillmode\":\"overlay\",\"size\":10,\"solidity\":0.2}},\"type\":\"histogram\"}],\"scattergl\":[{\"type\":\"scattergl\",\"marker\":{\"colorbar\":{\"outlinewidth\":0,\"ticks\":\"\"}}}],\"scatter3d\":[{\"type\":\"scatter3d\",\"line\":{\"colorbar\":{\"outlinewidth\":0,\"ticks\":\"\"}},\"marker\":{\"colorbar\":{\"outlinewidth\":0,\"ticks\":\"\"}}}],\"scattermap\":[{\"type\":\"scattermap\",\"marker\":{\"colorbar\":{\"outlinewidth\":0,\"ticks\":\"\"}}}],\"scattermapbox\":[{\"type\":\"scattermapbox\",\"marker\":{\"colorbar\":{\"outlinewidth\":0,\"ticks\":\"\"}}}],\"scatterternary\":[{\"type\":\"scatterternary\",\"marker\":{\"colorbar\":{\"outlinewidth\":0,\"ticks\":\"\"}}}],\"scattercarpet\":[{\"type\":\"scattercarpet\",\"marker\":{\"colorbar\":{\"outlinewidth\":0,\"ticks\":\"\"}}}],\"carpet\":[{\"aaxis\":{\"endlinecolor\":\"#2a3f5f\",\"gridcolor\":\"white\",\"linecolor\":\"white\",\"minorgridcolor\":\"white\",\"startlinecolor\":\"#2a3f5f\"},\"baxis\":{\"endlinecolor\":\"#2a3f5f\",\"gridcolor\":\"white\",\"linecolor\":\"white\",\"minorgridcolor\":\"white\",\"startlinecolor\":\"#2a3f5f\"},\"type\":\"carpet\"}],\"table\":[{\"cells\":{\"fill\":{\"color\":\"#EBF0F8\"},\"line\":{\"color\":\"white\"}},\"header\":{\"fill\":{\"color\":\"#C8D4E3\"},\"line\":{\"color\":\"white\"}},\"type\":\"table\"}],\"barpolar\":[{\"marker\":{\"line\":{\"color\":\"#E5ECF6\",\"width\":0.5},\"pattern\":{\"fillmode\":\"overlay\",\"size\":10,\"solidity\":0.2}},\"type\":\"barpolar\"}],\"pie\":[{\"automargin\":true,\"type\":\"pie\"}]},\"layout\":{\"autotypenumbers\":\"strict\",\"colorway\":[\"#636efa\",\"#EF553B\",\"#00cc96\",\"#ab63fa\",\"#FFA15A\",\"#19d3f3\",\"#FF6692\",\"#B6E880\",\"#FF97FF\",\"#FECB52\"],\"font\":{\"color\":\"#2a3f5f\"},\"hovermode\":\"closest\",\"hoverlabel\":{\"align\":\"left\"},\"paper_bgcolor\":\"white\",\"plot_bgcolor\":\"#E5ECF6\",\"polar\":{\"bgcolor\":\"#E5ECF6\",\"angularaxis\":{\"gridcolor\":\"white\",\"linecolor\":\"white\",\"ticks\":\"\"},\"radialaxis\":{\"gridcolor\":\"white\",\"linecolor\":\"white\",\"ticks\":\"\"}},\"ternary\":{\"bgcolor\":\"#E5ECF6\",\"aaxis\":{\"gridcolor\":\"white\",\"linecolor\":\"white\",\"ticks\":\"\"},\"baxis\":{\"gridcolor\":\"white\",\"linecolor\":\"white\",\"ticks\":\"\"},\"caxis\":{\"gridcolor\":\"white\",\"linecolor\":\"white\",\"ticks\":\"\"}},\"coloraxis\":{\"colorbar\":{\"outlinewidth\":0,\"ticks\":\"\"}},\"colorscale\":{\"sequential\":[[0.0,\"#0d0887\"],[0.1111111111111111,\"#46039f\"],[0.2222222222222222,\"#7201a8\"],[0.3333333333333333,\"#9c179e\"],[0.4444444444444444,\"#bd3786\"],[0.5555555555555556,\"#d8576b\"],[0.6666666666666666,\"#ed7953\"],[0.7777777777777778,\"#fb9f3a\"],[0.8888888888888888,\"#fdca26\"],[1.0,\"#f0f921\"]],\"sequentialminus\":[[0.0,\"#0d0887\"],[0.1111111111111111,\"#46039f\"],[0.2222222222222222,\"#7201a8\"],[0.3333333333333333,\"#9c179e\"],[0.4444444444444444,\"#bd3786\"],[0.5555555555555556,\"#d8576b\"],[0.6666666666666666,\"#ed7953\"],[0.7777777777777778,\"#fb9f3a\"],[0.8888888888888888,\"#fdca26\"],[1.0,\"#f0f921\"]],\"diverging\":[[0,\"#8e0152\"],[0.1,\"#c51b7d\"],[0.2,\"#de77ae\"],[0.3,\"#f1b6da\"],[0.4,\"#fde0ef\"],[0.5,\"#f7f7f7\"],[0.6,\"#e6f5d0\"],[0.7,\"#b8e186\"],[0.8,\"#7fbc41\"],[0.9,\"#4d9221\"],[1,\"#276419\"]]},\"xaxis\":{\"gridcolor\":\"white\",\"linecolor\":\"white\",\"ticks\":\"\",\"title\":{\"standoff\":15},\"zerolinecolor\":\"white\",\"automargin\":true,\"zerolinewidth\":2},\"yaxis\":{\"gridcolor\":\"white\",\"linecolor\":\"white\",\"ticks\":\"\",\"title\":{\"standoff\":15},\"zerolinecolor\":\"white\",\"automargin\":true,\"zerolinewidth\":2},\"scene\":{\"xaxis\":{\"backgroundcolor\":\"#E5ECF6\",\"gridcolor\":\"white\",\"linecolor\":\"white\",\"showbackground\":true,\"ticks\":\"\",\"zerolinecolor\":\"white\",\"gridwidth\":2},\"yaxis\":{\"backgroundcolor\":\"#E5ECF6\",\"gridcolor\":\"white\",\"linecolor\":\"white\",\"showbackground\":true,\"ticks\":\"\",\"zerolinecolor\":\"white\",\"gridwidth\":2},\"zaxis\":{\"backgroundcolor\":\"#E5ECF6\",\"gridcolor\":\"white\",\"linecolor\":\"white\",\"showbackground\":true,\"ticks\":\"\",\"zerolinecolor\":\"white\",\"gridwidth\":2}},\"shapedefaults\":{\"line\":{\"color\":\"#2a3f5f\"}},\"annotationdefaults\":{\"arrowcolor\":\"#2a3f5f\",\"arrowhead\":0,\"arrowwidth\":1},\"geo\":{\"bgcolor\":\"white\",\"landcolor\":\"#E5ECF6\",\"subunitcolor\":\"white\",\"showland\":true,\"showlakes\":true,\"lakecolor\":\"white\"},\"title\":{\"x\":0.05},\"mapbox\":{\"style\":\"light\"}}},\"xaxis\":{\"anchor\":\"y\",\"domain\":[0.0,1.0],\"title\":{\"text\":\"Ann\\u00e9e du v\\u00e9hicule\"},\"tickangle\":-45},\"yaxis\":{\"anchor\":\"x\",\"domain\":[0.0,1.0],\"title\":{\"text\":\"Prix moyen (USD)\"},\"tickprefix\":\"$\",\"tickformat\":\",.0f\"},\"legend\":{\"title\":{\"text\":\"Style de v\\u00e9hicule\"},\"tracegroupgap\":0},\"title\":{\"text\":\"D\\u00e9pr\\u00e9ciation par style de v\\u00e9hicule\"},\"margin\":{\"t\":60,\"b\":120},\"height\":600,\"hovermode\":\"closest\"},                        {\"responsive\": true}                    ).then(function(){\n",
       "                            \n",
       "var gd = document.getElementById('5f3316ee-5072-4c94-8fa1-bea95ab73ca0');\n",
       "var x = new MutationObserver(function (mutations, observer) {{\n",
       "        var display = window.getComputedStyle(gd).display;\n",
       "        if (!display || display === 'none') {{\n",
       "            console.log([gd, 'removed!']);\n",
       "            Plotly.purge(gd);\n",
       "            observer.disconnect();\n",
       "        }}\n",
       "}});\n",
       "\n",
       "// Listen for the removal of the full notebook cells\n",
       "var notebookContainer = gd.closest('#notebook-container');\n",
       "if (notebookContainer) {{\n",
       "    x.observe(notebookContainer, {childList: true});\n",
       "}}\n",
       "\n",
       "// Listen for the clearing of the current output cell\n",
       "var outputEl = gd.closest('.output');\n",
       "if (outputEl) {{\n",
       "    x.observe(outputEl, {childList: true});\n",
       "}}\n",
       "\n",
       "                        })                };            </script>        </div>"
      ]
     },
     "metadata": {},
     "output_type": "display_data"
    }
   ],
   "source": [
    "# Analyse de la dépréciation par style de véhicule\n",
    "\n",
    "# Garder uniquement les colonnes nécessaires et nettoyer les données\n",
    "df_style_year = df[['year', 'price', 'style']].dropna()\n",
    "df_style_year = df_style_year[df_style_year['year'] > 1990]\n",
    "df_style_year = df_style_year[df_style_year['price'] > 1000]\n",
    "\n",
    "# Calcul du prix moyen par style et par année\n",
    "style_group = df_style_year.groupby(['style', 'year'])['price'].agg(['mean', 'count']).reset_index()\n",
    "\n",
    "# Tracé\n",
    "fig = px.line(\n",
    "    style_group,\n",
    "    x='year',\n",
    "    y='mean',\n",
    "    color='style',\n",
    "    markers=True,\n",
    "    hover_data={'count': True},\n",
    "    labels={\n",
    "        'year': 'Année du véhicule',\n",
    "        'mean': 'Prix moyen (USD)',\n",
    "        'style': 'Style de véhicule',\n",
    "        'count': 'Nb véhicules'\n",
    "    },\n",
    "    title='Dépréciation par style de véhicule'\n",
    ")\n",
    "\n",
    "fig.update_traces(\n",
    "    hovertemplate='Style: %{legendgroup}<br>Année: %{x}<br>Prix moyen: $%{y:.2f}<br>Nb véhicules: %{customdata[0]}<extra></extra>',\n",
    "    marker=dict(size=5)\n",
    ")\n",
    "\n",
    "fig.update_layout(\n",
    "    yaxis_tickprefix='$',\n",
    "    yaxis_tickformat=',.0f',\n",
    "    xaxis_tickangle=-45,\n",
    "    height=600,\n",
    "    legend_title_text='Style de véhicule',\n",
    "    margin=dict(t=60, b=120),\n",
    "    hovermode=\"closest\"\n",
    ")\n",
    "\n",
    "fig.show()\n"
   ]
  },
  {
   "cell_type": "code",
   "execution_count": 32,
   "id": "0176b522",
   "metadata": {},
   "outputs": [
    {
     "data": {
      "application/vnd.plotly.v1+json": {
       "config": {
        "plotlyServerURL": "https://plot.ly"
       },
       "data": [
        {
         "customdata": {
          "bdata": "AgADAAoADwAWABsAKgAqAEgAQgBUADMAQwBVAMUB4gGRAQ==",
          "dtype": "i2",
          "shape": "17, 1"
         },
         "hovertemplate": "Catégorie: %{legendgroup}<br>Année: %{x}<br>Prix moyen: $%{y:.2f}<br>Nb véhicules: %{customdata[0]}<extra></extra>",
         "legendgroup": "Crossover",
         "line": {
          "color": "#636efa",
          "dash": "solid"
         },
         "marker": {
          "size": 5,
          "symbol": "circle"
         },
         "mode": "lines+markers",
         "name": "Crossover",
         "orientation": "v",
         "showlegend": true,
         "type": "scatter",
         "x": {
          "bdata": "0QfSB9MH1AfVB9YH1wfYB9kH2gfbB9wH3QfeB98H4AfhBw==",
          "dtype": "i2"
         },
         "xaxis": "x",
         "y": {
          "bdata": "AAAAAMAB4UBVVVVVVUfhQAAAAACgHd5AAAAAAIDt3ECjiy66qKbcQCa0l9DeON9AAAAAAEAB3UB6nud5/lreQHIcx3FszNxAq6qqqkpV3kCGYRiGMT7fQBkZGRm5a+FA8asxkb6+4UCmpaWlRanhQBUSYF5lqOFAnwpWn3rn4UDC0KmWVNDhQA==",
          "dtype": "f8"
         },
         "yaxis": "y"
        },
        {
         "customdata": {
          "bdata": "AwICAQEBBwgRNTYO",
          "dtype": "i1",
          "shape": "12, 1"
         },
         "hovertemplate": "Catégorie: %{legendgroup}<br>Année: %{x}<br>Prix moyen: $%{y:.2f}<br>Nb véhicules: %{customdata[0]}<extra></extra>",
         "legendgroup": "Diesel",
         "line": {
          "color": "#EF553B",
          "dash": "solid"
         },
         "marker": {
          "size": 5,
          "symbol": "circle"
         },
         "mode": "lines+markers",
         "name": "Diesel",
         "orientation": "v",
         "showlegend": true,
         "type": "scatter",
         "x": {
          "bdata": "xwfIB8kH2QfaB9sH3AfdB94H3wfgB+EH",
          "dtype": "i2"
         },
         "xaxis": "x",
         "y": {
          "bdata": "AAAAAADmoEAAAAAAAMOhQAAAAAAAeaJAAAAAAADm5EAAAAAAAM7oQAAAAACAQ+lAbtu2bduO3kAAAAAA0FbfQIiHh4dnz+JAln0OqYld5EBfQnsJzfLkQLdt27Z9quRA",
          "dtype": "f8"
         },
         "yaxis": "y"
        },
        {
         "customdata": {
          "bdata": "BAMHAgIBAQ==",
          "dtype": "i1",
          "shape": "7, 1"
         },
         "hovertemplate": "Catégorie: %{legendgroup}<br>Année: %{x}<br>Prix moyen: $%{y:.2f}<br>Nb véhicules: %{customdata[0]}<extra></extra>",
         "legendgroup": "Exotic",
         "line": {
          "color": "#00cc96",
          "dash": "solid"
         },
         "marker": {
          "size": 5,
          "symbol": "circle"
         },
         "mode": "lines+markers",
         "name": "Exotic",
         "orientation": "v",
         "showlegend": true,
         "type": "scatter",
         "x": {
          "bdata": "2QfaB9sH3QfeB98H4Ac=",
          "dtype": "i2"
         },
         "xaxis": "x",
         "y": {
          "bdata": "AAAAAKje6UBVVVVVFVXrQJIkSZKEC+5AAAAAAOB98EAAAAAAUO/wQAAAAACACvFAAAAAAIA88UA=",
          "dtype": "f8"
         },
         "yaxis": "y"
        },
        {
         "customdata": {
          "bdata": "AwICAQUGCAUIBwYDBgMECQ0RDgIEBQwQOj86",
          "dtype": "i1",
          "shape": "27, 1"
         },
         "hovertemplate": "Catégorie: %{legendgroup}<br>Année: %{x}<br>Prix moyen: $%{y:.2f}<br>Nb véhicules: %{customdata[0]}<extra></extra>",
         "legendgroup": "Factory Tuner",
         "line": {
          "color": "#ab63fa",
          "dash": "solid"
         },
         "marker": {
          "size": 5,
          "symbol": "circle"
         },
         "mode": "lines+markers",
         "name": "Factory Tuner",
         "orientation": "v",
         "showlegend": true,
         "type": "scatter",
         "x": {
          "bdata": "xwfIB8kHygfLB8wHzQfOB88H0AfRB9IH0wfUB9UH1gfXB9gH2QfaB9sH3AfdB94H3wfgB+EH",
          "dtype": "i2"
         },
         "xaxis": "x",
         "y": {
          "bdata": "q6qqqqosqUAAAAAAANeuQAAAAAAAXbFAAAAAAAAOpkDNzMzMzAKkQKuqqqqqwaRAAAAAAAAjqUAAAAAAANawQAAAAACAX7NAbtu2bdvztEAAAAAAYETgQFVVVVWVG+FAVVVVVZUE2UCrqqqqqp/WQAAAAACgnddAVVVVVTWJ4kBP7MROjJDiQNPS0tLyEuJAkiRJkgQr30AAAAAAwMzYQAAAAAD4seRAAAAAAEDL50CrqqqqArvmQAAAAABEmehAIyz3NEK+5EAURVEURUTnQN3TCMu9YOdA",
          "dtype": "f8"
         },
         "yaxis": "y"
        },
        {
         "customdata": {
          "bdata": "CwAKAA8AEAACAAUAWgAXADQAOAAWACsAHABCAAEB4AC2AA==",
          "dtype": "i2",
          "shape": "17, 1"
         },
         "hovertemplate": "Catégorie: %{legendgroup}<br>Année: %{x}<br>Prix moyen: $%{y:.2f}<br>Nb véhicules: %{customdata[0]}<extra></extra>",
         "legendgroup": "Flex Fuel",
         "line": {
          "color": "#FFA15A",
          "dash": "solid"
         },
         "marker": {
          "size": 5,
          "symbol": "circle"
         },
         "mode": "lines+markers",
         "name": "Flex Fuel",
         "orientation": "v",
         "showlegend": true,
         "type": "scatter",
         "x": {
          "bdata": "zwfQB9IH0wfVB9YH1wfYB9kH2gfbB9wH3QfeB98H4AfhBw==",
          "dtype": "i2"
         },
         "xaxis": "x",
         "y": {
          "bdata": "6aKLLrqkpECamZmZmeWlQJqZmZkZj9BAAAAAADjB0EAAAAAAYN3SQAAAAABArdNAHMdxHGc52kBZyEIWco3aQLETO7EDk9tASZIkSbqp3UAXXXTRldrjQFlT1pR1GeJA27Zt2yZw4UAXXXTRJdDgQHqGeYY5h+JAkiRJkih94kBBC7RAyxfjQA==",
          "dtype": "f8"
         },
         "yaxis": "y"
        },
        {
         "customdata": {
          "bdata": "CwAiACMAGgAIAA0AEQAHAAYACAAOAAQABAAQAA4AGAAWABQADQAYACMANAA4ACsAqQCOAGsA",
          "dtype": "i2",
          "shape": "27, 1"
         },
         "hovertemplate": "Catégorie: %{legendgroup}<br>Année: %{x}<br>Prix moyen: $%{y:.2f}<br>Nb véhicules: %{customdata[0]}<extra></extra>",
         "legendgroup": "Hatchback",
         "line": {
          "color": "#19d3f3",
          "dash": "solid"
         },
         "marker": {
          "size": 5,
          "symbol": "circle"
         },
         "mode": "lines+markers",
         "name": "Hatchback",
         "orientation": "v",
         "showlegend": true,
         "type": "scatter",
         "x": {
          "bdata": "xwfIB8kHygfLB8wHzQfOB88H0AfRB9IH0wfUB9UH1gfXB9gH2QfaB9sH3AfdB94H3wfgB+EH",
          "dtype": "i2"
         },
         "xaxis": "x",
         "y": {
          "bdata": "dNFFF11eoEAAAAAAAECfQBZf8RVflaBAdmIndmJ1oUAAAAAAANqmQAAAAAAAQJ9A8fDw8PAko0AAAAAAAPSpQKuqqqqq97BAAAAAAADsrUCSJEmSBFvTQAAAAACgSdtAAAAAAOCT00AAAAAAiEXUQJIkSZLkv9NAVVVVVdUf0kAAAAAAYC3TQDMzMzPDRdNA2Ymd2AmP0EAAAAAAgOzVQKEO6qDOrNdAAAAAAEA/10AlSZIkOTbZQIO+oC+oEtdAGz5/zNFs10C/XerJWIvWQJBMoHeq89ZA",
          "dtype": "f8"
         },
         "yaxis": "y"
        },
        {
         "customdata": {
          "bdata": "BAACAAEAAQALABgAHAAXAAoADQAJABAAIwCHAJMAdQA=",
          "dtype": "i2",
          "shape": "16, 1"
         },
         "hovertemplate": "Catégorie: %{legendgroup}<br>Année: %{x}<br>Prix moyen: $%{y:.2f}<br>Nb véhicules: %{customdata[0]}<extra></extra>",
         "legendgroup": "High-Performance",
         "line": {
          "color": "#FF6692",
          "dash": "solid"
         },
         "marker": {
          "size": 5,
          "symbol": "circle"
         },
         "mode": "lines+markers",
         "name": "High-Performance",
         "orientation": "v",
         "showlegend": true,
         "type": "scatter",
         "x": {
          "bdata": "0QfSB9QH1QfWB9cH2AfZB9oH2wfcB90H3gffB+AH4Qc=",
          "dtype": "i2"
         },
         "xaxis": "x",
         "y": {
          "bdata": "AAAAADAA5kAAAAAA8ODlQAAAAADADN9AAAAAAMCJ30DpoosuuirkQFVVVVVpIuNAt23bts3K4kAWspCFLCnlQAAAAABwSOdAntiJnZi66kByHMdxnGjoQAAAAAA2wOhAkiRJkkSc6UAT2ktorw/oQBHy1+yIYehAPdRDPZR36EA=",
          "dtype": "f8"
         },
         "yaxis": "y"
        },
        {
         "customdata": {
          "bdata": "AgIFBgMQDw8KFxsE",
          "dtype": "i1",
          "shape": "12, 1"
         },
         "hovertemplate": "Catégorie: %{legendgroup}<br>Année: %{x}<br>Prix moyen: $%{y:.2f}<br>Nb véhicules: %{customdata[0]}<extra></extra>",
         "legendgroup": "Hybrid",
         "line": {
          "color": "#B6E880",
          "dash": "solid"
         },
         "marker": {
          "size": 5,
          "symbol": "circle"
         },
         "mode": "lines+markers",
         "name": "Hybrid",
         "orientation": "v",
         "showlegend": true,
         "type": "scatter",
         "x": {
          "bdata": "1gfXB9gH2QfaB9sH3AfdB94H3wfgB+EH",
          "dtype": "i2"
         },
         "xaxis": "x",
         "y": {
          "bdata": "AAAAAAAm5kAAAAAAAHPkQAAAAACAOuBAq6qqqjpN4ECrqqqq6tXdQAAAAAAU1eZAVVVVVRVr6ECrqqqqajnpQAAAAADwSeNAWchCFrKs5UBVVVVVNfnlQAAAAADQSOlA",
          "dtype": "f8"
         },
         "yaxis": "y"
        },
        {
         "customdata": {
          "bdata": "LAAiACgAFwAcABsAJQATABQAIQAkABwAHgAmACMAIAAaACoASwBHAFkAaABeAHMAuAHfAWgB",
          "dtype": "i2",
          "shape": "27, 1"
         },
         "hovertemplate": "Catégorie: %{legendgroup}<br>Année: %{x}<br>Prix moyen: $%{y:.2f}<br>Nb véhicules: %{customdata[0]}<extra></extra>",
         "legendgroup": "Luxury",
         "line": {
          "color": "#FF97FF",
          "dash": "solid"
         },
         "marker": {
          "size": 5,
          "symbol": "circle"
         },
         "mode": "lines+markers",
         "name": "Luxury",
         "orientation": "v",
         "showlegend": true,
         "type": "scatter",
         "x": {
          "bdata": "xwfIB8kHygfLB8wHzQfOB88H0AfRB9IH0wfUB9UH1gfXB9gH2QfaB9sH3AfdB94H3wfgB+EH",
          "dtype": "i2"
         },
         "xaxis": "x",
         "y": {
          "bdata": "XXTRRZcmoUBaWlpaWqahQGZmZmam9aNAvelNb3pBrEDbtm3bNhStQCa0l9Be+qFAMEU+6wbKsEDzGsprKPOkQJqZmZkZ56hAZZNNNtkArECO4ziOQzndQAAAAABg1eFAVVVVVcXR4UAbymso347iQG7btm37reJAAAAAAHNR40CKndiJjbjlQMMwDMOQLOVA7+7u7o4B5UCFzYFEixXlQLWpTW3K1+VAsRM7sZtb5UBBTK4gBlTmQEnlw7if6OdAuuiiiz5J50BPM2A0IqHnQHIcx3EANudA",
          "dtype": "f8"
         },
         "yaxis": "y"
        },
        {
         "customdata": {
          "bdata": "EAARABMAFAAbABsAHAATABMAGQATABQAGQAqACgAEAAVACEAMQAcACIAQwBXAGgAUAFMAQYB",
          "dtype": "i2",
          "shape": "27, 1"
         },
         "hovertemplate": "Catégorie: %{legendgroup}<br>Année: %{x}<br>Prix moyen: $%{y:.2f}<br>Nb véhicules: %{customdata[0]}<extra></extra>",
         "legendgroup": "Performance",
         "line": {
          "color": "#FECB52",
          "dash": "solid"
         },
         "marker": {
          "size": 5,
          "symbol": "circle"
         },
         "mode": "lines+markers",
         "name": "Performance",
         "orientation": "v",
         "showlegend": true,
         "type": "scatter",
         "x": {
          "bdata": "xwfIB8kHygfLB8wHzQfOB88H0AfRB9IH0wfUB9UH1gfXB9gH2QfaB9sH3AfdB94H3wfgB+EH",
          "dtype": "i2"
         },
         "xaxis": "x",
         "y": {
          "bdata": "AAAAAOCBpEAtLS0tLT+kQL2G8hrKd6hAZmZmZuazpUBCewntJeCmQGgvob2EUK1ASZIkSZIXsEAAAAAAAMm1QKK8hvIaJrNAj8L1KFzrskB5DeU11GjbQDMzMzPz09xAMzMzM7O730CGYRiGcVrgQAAAAABcd+BAAAAAAGK/4ECSJEmSZKLgQOmiiy46e+FAXk7Byyk34kC3bdu2RTrlQB4eHh4uC+VAqJzdwk974kAmxQtk0uLhQDuxEzsBMuJAt23btkct40DYHnJZ4dDjQPIsI/rQ+uNA",
          "dtype": "f8"
         },
         "yaxis": "y"
        }
       ],
       "layout": {
        "height": 600,
        "hovermode": "closest",
        "legend": {
         "title": {
          "text": "Catégorie marketing"
         },
         "tracegroupgap": 0
        },
        "margin": {
         "b": 120,
         "t": 60
        },
        "template": {
         "data": {
          "bar": [
           {
            "error_x": {
             "color": "#2a3f5f"
            },
            "error_y": {
             "color": "#2a3f5f"
            },
            "marker": {
             "line": {
              "color": "#E5ECF6",
              "width": 0.5
             },
             "pattern": {
              "fillmode": "overlay",
              "size": 10,
              "solidity": 0.2
             }
            },
            "type": "bar"
           }
          ],
          "barpolar": [
           {
            "marker": {
             "line": {
              "color": "#E5ECF6",
              "width": 0.5
             },
             "pattern": {
              "fillmode": "overlay",
              "size": 10,
              "solidity": 0.2
             }
            },
            "type": "barpolar"
           }
          ],
          "carpet": [
           {
            "aaxis": {
             "endlinecolor": "#2a3f5f",
             "gridcolor": "white",
             "linecolor": "white",
             "minorgridcolor": "white",
             "startlinecolor": "#2a3f5f"
            },
            "baxis": {
             "endlinecolor": "#2a3f5f",
             "gridcolor": "white",
             "linecolor": "white",
             "minorgridcolor": "white",
             "startlinecolor": "#2a3f5f"
            },
            "type": "carpet"
           }
          ],
          "choropleth": [
           {
            "colorbar": {
             "outlinewidth": 0,
             "ticks": ""
            },
            "type": "choropleth"
           }
          ],
          "contour": [
           {
            "colorbar": {
             "outlinewidth": 0,
             "ticks": ""
            },
            "colorscale": [
             [
              0,
              "#0d0887"
             ],
             [
              0.1111111111111111,
              "#46039f"
             ],
             [
              0.2222222222222222,
              "#7201a8"
             ],
             [
              0.3333333333333333,
              "#9c179e"
             ],
             [
              0.4444444444444444,
              "#bd3786"
             ],
             [
              0.5555555555555556,
              "#d8576b"
             ],
             [
              0.6666666666666666,
              "#ed7953"
             ],
             [
              0.7777777777777778,
              "#fb9f3a"
             ],
             [
              0.8888888888888888,
              "#fdca26"
             ],
             [
              1,
              "#f0f921"
             ]
            ],
            "type": "contour"
           }
          ],
          "contourcarpet": [
           {
            "colorbar": {
             "outlinewidth": 0,
             "ticks": ""
            },
            "type": "contourcarpet"
           }
          ],
          "heatmap": [
           {
            "colorbar": {
             "outlinewidth": 0,
             "ticks": ""
            },
            "colorscale": [
             [
              0,
              "#0d0887"
             ],
             [
              0.1111111111111111,
              "#46039f"
             ],
             [
              0.2222222222222222,
              "#7201a8"
             ],
             [
              0.3333333333333333,
              "#9c179e"
             ],
             [
              0.4444444444444444,
              "#bd3786"
             ],
             [
              0.5555555555555556,
              "#d8576b"
             ],
             [
              0.6666666666666666,
              "#ed7953"
             ],
             [
              0.7777777777777778,
              "#fb9f3a"
             ],
             [
              0.8888888888888888,
              "#fdca26"
             ],
             [
              1,
              "#f0f921"
             ]
            ],
            "type": "heatmap"
           }
          ],
          "histogram": [
           {
            "marker": {
             "pattern": {
              "fillmode": "overlay",
              "size": 10,
              "solidity": 0.2
             }
            },
            "type": "histogram"
           }
          ],
          "histogram2d": [
           {
            "colorbar": {
             "outlinewidth": 0,
             "ticks": ""
            },
            "colorscale": [
             [
              0,
              "#0d0887"
             ],
             [
              0.1111111111111111,
              "#46039f"
             ],
             [
              0.2222222222222222,
              "#7201a8"
             ],
             [
              0.3333333333333333,
              "#9c179e"
             ],
             [
              0.4444444444444444,
              "#bd3786"
             ],
             [
              0.5555555555555556,
              "#d8576b"
             ],
             [
              0.6666666666666666,
              "#ed7953"
             ],
             [
              0.7777777777777778,
              "#fb9f3a"
             ],
             [
              0.8888888888888888,
              "#fdca26"
             ],
             [
              1,
              "#f0f921"
             ]
            ],
            "type": "histogram2d"
           }
          ],
          "histogram2dcontour": [
           {
            "colorbar": {
             "outlinewidth": 0,
             "ticks": ""
            },
            "colorscale": [
             [
              0,
              "#0d0887"
             ],
             [
              0.1111111111111111,
              "#46039f"
             ],
             [
              0.2222222222222222,
              "#7201a8"
             ],
             [
              0.3333333333333333,
              "#9c179e"
             ],
             [
              0.4444444444444444,
              "#bd3786"
             ],
             [
              0.5555555555555556,
              "#d8576b"
             ],
             [
              0.6666666666666666,
              "#ed7953"
             ],
             [
              0.7777777777777778,
              "#fb9f3a"
             ],
             [
              0.8888888888888888,
              "#fdca26"
             ],
             [
              1,
              "#f0f921"
             ]
            ],
            "type": "histogram2dcontour"
           }
          ],
          "mesh3d": [
           {
            "colorbar": {
             "outlinewidth": 0,
             "ticks": ""
            },
            "type": "mesh3d"
           }
          ],
          "parcoords": [
           {
            "line": {
             "colorbar": {
              "outlinewidth": 0,
              "ticks": ""
             }
            },
            "type": "parcoords"
           }
          ],
          "pie": [
           {
            "automargin": true,
            "type": "pie"
           }
          ],
          "scatter": [
           {
            "fillpattern": {
             "fillmode": "overlay",
             "size": 10,
             "solidity": 0.2
            },
            "type": "scatter"
           }
          ],
          "scatter3d": [
           {
            "line": {
             "colorbar": {
              "outlinewidth": 0,
              "ticks": ""
             }
            },
            "marker": {
             "colorbar": {
              "outlinewidth": 0,
              "ticks": ""
             }
            },
            "type": "scatter3d"
           }
          ],
          "scattercarpet": [
           {
            "marker": {
             "colorbar": {
              "outlinewidth": 0,
              "ticks": ""
             }
            },
            "type": "scattercarpet"
           }
          ],
          "scattergeo": [
           {
            "marker": {
             "colorbar": {
              "outlinewidth": 0,
              "ticks": ""
             }
            },
            "type": "scattergeo"
           }
          ],
          "scattergl": [
           {
            "marker": {
             "colorbar": {
              "outlinewidth": 0,
              "ticks": ""
             }
            },
            "type": "scattergl"
           }
          ],
          "scattermap": [
           {
            "marker": {
             "colorbar": {
              "outlinewidth": 0,
              "ticks": ""
             }
            },
            "type": "scattermap"
           }
          ],
          "scattermapbox": [
           {
            "marker": {
             "colorbar": {
              "outlinewidth": 0,
              "ticks": ""
             }
            },
            "type": "scattermapbox"
           }
          ],
          "scatterpolar": [
           {
            "marker": {
             "colorbar": {
              "outlinewidth": 0,
              "ticks": ""
             }
            },
            "type": "scatterpolar"
           }
          ],
          "scatterpolargl": [
           {
            "marker": {
             "colorbar": {
              "outlinewidth": 0,
              "ticks": ""
             }
            },
            "type": "scatterpolargl"
           }
          ],
          "scatterternary": [
           {
            "marker": {
             "colorbar": {
              "outlinewidth": 0,
              "ticks": ""
             }
            },
            "type": "scatterternary"
           }
          ],
          "surface": [
           {
            "colorbar": {
             "outlinewidth": 0,
             "ticks": ""
            },
            "colorscale": [
             [
              0,
              "#0d0887"
             ],
             [
              0.1111111111111111,
              "#46039f"
             ],
             [
              0.2222222222222222,
              "#7201a8"
             ],
             [
              0.3333333333333333,
              "#9c179e"
             ],
             [
              0.4444444444444444,
              "#bd3786"
             ],
             [
              0.5555555555555556,
              "#d8576b"
             ],
             [
              0.6666666666666666,
              "#ed7953"
             ],
             [
              0.7777777777777778,
              "#fb9f3a"
             ],
             [
              0.8888888888888888,
              "#fdca26"
             ],
             [
              1,
              "#f0f921"
             ]
            ],
            "type": "surface"
           }
          ],
          "table": [
           {
            "cells": {
             "fill": {
              "color": "#EBF0F8"
             },
             "line": {
              "color": "white"
             }
            },
            "header": {
             "fill": {
              "color": "#C8D4E3"
             },
             "line": {
              "color": "white"
             }
            },
            "type": "table"
           }
          ]
         },
         "layout": {
          "annotationdefaults": {
           "arrowcolor": "#2a3f5f",
           "arrowhead": 0,
           "arrowwidth": 1
          },
          "autotypenumbers": "strict",
          "coloraxis": {
           "colorbar": {
            "outlinewidth": 0,
            "ticks": ""
           }
          },
          "colorscale": {
           "diverging": [
            [
             0,
             "#8e0152"
            ],
            [
             0.1,
             "#c51b7d"
            ],
            [
             0.2,
             "#de77ae"
            ],
            [
             0.3,
             "#f1b6da"
            ],
            [
             0.4,
             "#fde0ef"
            ],
            [
             0.5,
             "#f7f7f7"
            ],
            [
             0.6,
             "#e6f5d0"
            ],
            [
             0.7,
             "#b8e186"
            ],
            [
             0.8,
             "#7fbc41"
            ],
            [
             0.9,
             "#4d9221"
            ],
            [
             1,
             "#276419"
            ]
           ],
           "sequential": [
            [
             0,
             "#0d0887"
            ],
            [
             0.1111111111111111,
             "#46039f"
            ],
            [
             0.2222222222222222,
             "#7201a8"
            ],
            [
             0.3333333333333333,
             "#9c179e"
            ],
            [
             0.4444444444444444,
             "#bd3786"
            ],
            [
             0.5555555555555556,
             "#d8576b"
            ],
            [
             0.6666666666666666,
             "#ed7953"
            ],
            [
             0.7777777777777778,
             "#fb9f3a"
            ],
            [
             0.8888888888888888,
             "#fdca26"
            ],
            [
             1,
             "#f0f921"
            ]
           ],
           "sequentialminus": [
            [
             0,
             "#0d0887"
            ],
            [
             0.1111111111111111,
             "#46039f"
            ],
            [
             0.2222222222222222,
             "#7201a8"
            ],
            [
             0.3333333333333333,
             "#9c179e"
            ],
            [
             0.4444444444444444,
             "#bd3786"
            ],
            [
             0.5555555555555556,
             "#d8576b"
            ],
            [
             0.6666666666666666,
             "#ed7953"
            ],
            [
             0.7777777777777778,
             "#fb9f3a"
            ],
            [
             0.8888888888888888,
             "#fdca26"
            ],
            [
             1,
             "#f0f921"
            ]
           ]
          },
          "colorway": [
           "#636efa",
           "#EF553B",
           "#00cc96",
           "#ab63fa",
           "#FFA15A",
           "#19d3f3",
           "#FF6692",
           "#B6E880",
           "#FF97FF",
           "#FECB52"
          ],
          "font": {
           "color": "#2a3f5f"
          },
          "geo": {
           "bgcolor": "white",
           "lakecolor": "white",
           "landcolor": "#E5ECF6",
           "showlakes": true,
           "showland": true,
           "subunitcolor": "white"
          },
          "hoverlabel": {
           "align": "left"
          },
          "hovermode": "closest",
          "mapbox": {
           "style": "light"
          },
          "paper_bgcolor": "white",
          "plot_bgcolor": "#E5ECF6",
          "polar": {
           "angularaxis": {
            "gridcolor": "white",
            "linecolor": "white",
            "ticks": ""
           },
           "bgcolor": "#E5ECF6",
           "radialaxis": {
            "gridcolor": "white",
            "linecolor": "white",
            "ticks": ""
           }
          },
          "scene": {
           "xaxis": {
            "backgroundcolor": "#E5ECF6",
            "gridcolor": "white",
            "gridwidth": 2,
            "linecolor": "white",
            "showbackground": true,
            "ticks": "",
            "zerolinecolor": "white"
           },
           "yaxis": {
            "backgroundcolor": "#E5ECF6",
            "gridcolor": "white",
            "gridwidth": 2,
            "linecolor": "white",
            "showbackground": true,
            "ticks": "",
            "zerolinecolor": "white"
           },
           "zaxis": {
            "backgroundcolor": "#E5ECF6",
            "gridcolor": "white",
            "gridwidth": 2,
            "linecolor": "white",
            "showbackground": true,
            "ticks": "",
            "zerolinecolor": "white"
           }
          },
          "shapedefaults": {
           "line": {
            "color": "#2a3f5f"
           }
          },
          "ternary": {
           "aaxis": {
            "gridcolor": "white",
            "linecolor": "white",
            "ticks": ""
           },
           "baxis": {
            "gridcolor": "white",
            "linecolor": "white",
            "ticks": ""
           },
           "bgcolor": "#E5ECF6",
           "caxis": {
            "gridcolor": "white",
            "linecolor": "white",
            "ticks": ""
           }
          },
          "title": {
           "x": 0.05
          },
          "xaxis": {
           "automargin": true,
           "gridcolor": "white",
           "linecolor": "white",
           "ticks": "",
           "title": {
            "standoff": 15
           },
           "zerolinecolor": "white",
           "zerolinewidth": 2
          },
          "yaxis": {
           "automargin": true,
           "gridcolor": "white",
           "linecolor": "white",
           "ticks": "",
           "title": {
            "standoff": 15
           },
           "zerolinecolor": "white",
           "zerolinewidth": 2
          }
         }
        },
        "title": {
         "text": "Dépréciation par catégorie de marché"
        },
        "xaxis": {
         "anchor": "y",
         "domain": [
          0,
          1
         ],
         "tickangle": -45,
         "title": {
          "text": "Année du véhicule"
         }
        },
        "yaxis": {
         "anchor": "x",
         "domain": [
          0,
          1
         ],
         "tickformat": ",.0f",
         "tickprefix": "$",
         "title": {
          "text": "Prix moyen (USD)"
         }
        }
       }
      },
      "text/html": [
       "<div>            <script src=\"https://cdnjs.cloudflare.com/ajax/libs/mathjax/2.7.5/MathJax.js?config=TeX-AMS-MML_SVG\"></script><script type=\"text/javascript\">if (window.MathJax && window.MathJax.Hub && window.MathJax.Hub.Config) {window.MathJax.Hub.Config({SVG: {font: \"STIX-Web\"}});}</script>                <script type=\"text/javascript\">window.PlotlyConfig = {MathJaxConfig: 'local'};</script>\n",
       "        <script charset=\"utf-8\" src=\"https://cdn.plot.ly/plotly-3.0.1.min.js\"></script>                <div id=\"32646378-2c03-40f5-9f10-98fd4048cfd6\" class=\"plotly-graph-div\" style=\"height:600px; width:100%;\"></div>            <script type=\"text/javascript\">                window.PLOTLYENV=window.PLOTLYENV || {};                                if (document.getElementById(\"32646378-2c03-40f5-9f10-98fd4048cfd6\")) {                    Plotly.newPlot(                        \"32646378-2c03-40f5-9f10-98fd4048cfd6\",                        [{\"customdata\":{\"dtype\":\"i2\",\"bdata\":\"AgADAAoADwAWABsAKgAqAEgAQgBUADMAQwBVAMUB4gGRAQ==\",\"shape\":\"17, 1\"},\"hovertemplate\":\"Cat\\u00e9gorie: %{legendgroup}\\u003cbr\\u003eAnn\\u00e9e: %{x}\\u003cbr\\u003ePrix moyen: $%{y:.2f}\\u003cbr\\u003eNb v\\u00e9hicules: %{customdata[0]}\\u003cextra\\u003e\\u003c\\u002fextra\\u003e\",\"legendgroup\":\"Crossover\",\"line\":{\"color\":\"#636efa\",\"dash\":\"solid\"},\"marker\":{\"symbol\":\"circle\",\"size\":5},\"mode\":\"lines+markers\",\"name\":\"Crossover\",\"orientation\":\"v\",\"showlegend\":true,\"x\":{\"dtype\":\"i2\",\"bdata\":\"0QfSB9MH1AfVB9YH1wfYB9kH2gfbB9wH3QfeB98H4AfhBw==\"},\"xaxis\":\"x\",\"y\":{\"dtype\":\"f8\",\"bdata\":\"AAAAAMAB4UBVVVVVVUfhQAAAAACgHd5AAAAAAIDt3ECjiy66qKbcQCa0l9DeON9AAAAAAEAB3UB6nud5\\u002flreQHIcx3FszNxAq6qqqkpV3kCGYRiGMT7fQBkZGRm5a+FA8asxkb6+4UCmpaWlRanhQBUSYF5lqOFAnwpWn3rn4UDC0KmWVNDhQA==\"},\"yaxis\":\"y\",\"type\":\"scatter\"},{\"customdata\":{\"dtype\":\"i1\",\"bdata\":\"AwICAQEBBwgRNTYO\",\"shape\":\"12, 1\"},\"hovertemplate\":\"Cat\\u00e9gorie: %{legendgroup}\\u003cbr\\u003eAnn\\u00e9e: %{x}\\u003cbr\\u003ePrix moyen: $%{y:.2f}\\u003cbr\\u003eNb v\\u00e9hicules: %{customdata[0]}\\u003cextra\\u003e\\u003c\\u002fextra\\u003e\",\"legendgroup\":\"Diesel\",\"line\":{\"color\":\"#EF553B\",\"dash\":\"solid\"},\"marker\":{\"symbol\":\"circle\",\"size\":5},\"mode\":\"lines+markers\",\"name\":\"Diesel\",\"orientation\":\"v\",\"showlegend\":true,\"x\":{\"dtype\":\"i2\",\"bdata\":\"xwfIB8kH2QfaB9sH3AfdB94H3wfgB+EH\"},\"xaxis\":\"x\",\"y\":{\"dtype\":\"f8\",\"bdata\":\"AAAAAADmoEAAAAAAAMOhQAAAAAAAeaJAAAAAAADm5EAAAAAAAM7oQAAAAACAQ+lAbtu2bduO3kAAAAAA0FbfQIiHh4dnz+JAln0OqYld5EBfQnsJzfLkQLdt27Z9quRA\"},\"yaxis\":\"y\",\"type\":\"scatter\"},{\"customdata\":{\"dtype\":\"i1\",\"bdata\":\"BAMHAgIBAQ==\",\"shape\":\"7, 1\"},\"hovertemplate\":\"Cat\\u00e9gorie: %{legendgroup}\\u003cbr\\u003eAnn\\u00e9e: %{x}\\u003cbr\\u003ePrix moyen: $%{y:.2f}\\u003cbr\\u003eNb v\\u00e9hicules: %{customdata[0]}\\u003cextra\\u003e\\u003c\\u002fextra\\u003e\",\"legendgroup\":\"Exotic\",\"line\":{\"color\":\"#00cc96\",\"dash\":\"solid\"},\"marker\":{\"symbol\":\"circle\",\"size\":5},\"mode\":\"lines+markers\",\"name\":\"Exotic\",\"orientation\":\"v\",\"showlegend\":true,\"x\":{\"dtype\":\"i2\",\"bdata\":\"2QfaB9sH3QfeB98H4Ac=\"},\"xaxis\":\"x\",\"y\":{\"dtype\":\"f8\",\"bdata\":\"AAAAAKje6UBVVVVVFVXrQJIkSZKEC+5AAAAAAOB98EAAAAAAUO\\u002fwQAAAAACACvFAAAAAAIA88UA=\"},\"yaxis\":\"y\",\"type\":\"scatter\"},{\"customdata\":{\"dtype\":\"i1\",\"bdata\":\"AwICAQUGCAUIBwYDBgMECQ0RDgIEBQwQOj86\",\"shape\":\"27, 1\"},\"hovertemplate\":\"Cat\\u00e9gorie: %{legendgroup}\\u003cbr\\u003eAnn\\u00e9e: %{x}\\u003cbr\\u003ePrix moyen: $%{y:.2f}\\u003cbr\\u003eNb v\\u00e9hicules: %{customdata[0]}\\u003cextra\\u003e\\u003c\\u002fextra\\u003e\",\"legendgroup\":\"Factory Tuner\",\"line\":{\"color\":\"#ab63fa\",\"dash\":\"solid\"},\"marker\":{\"symbol\":\"circle\",\"size\":5},\"mode\":\"lines+markers\",\"name\":\"Factory Tuner\",\"orientation\":\"v\",\"showlegend\":true,\"x\":{\"dtype\":\"i2\",\"bdata\":\"xwfIB8kHygfLB8wHzQfOB88H0AfRB9IH0wfUB9UH1gfXB9gH2QfaB9sH3AfdB94H3wfgB+EH\"},\"xaxis\":\"x\",\"y\":{\"dtype\":\"f8\",\"bdata\":\"q6qqqqosqUAAAAAAANeuQAAAAAAAXbFAAAAAAAAOpkDNzMzMzAKkQKuqqqqqwaRAAAAAAAAjqUAAAAAAANawQAAAAACAX7NAbtu2bdvztEAAAAAAYETgQFVVVVWVG+FAVVVVVZUE2UCrqqqqqp\\u002fWQAAAAACgnddAVVVVVTWJ4kBP7MROjJDiQNPS0tLyEuJAkiRJkgQr30AAAAAAwMzYQAAAAAD4seRAAAAAAEDL50CrqqqqArvmQAAAAABEmehAIyz3NEK+5EAURVEURUTnQN3TCMu9YOdA\"},\"yaxis\":\"y\",\"type\":\"scatter\"},{\"customdata\":{\"dtype\":\"i2\",\"bdata\":\"CwAKAA8AEAACAAUAWgAXADQAOAAWACsAHABCAAEB4AC2AA==\",\"shape\":\"17, 1\"},\"hovertemplate\":\"Cat\\u00e9gorie: %{legendgroup}\\u003cbr\\u003eAnn\\u00e9e: %{x}\\u003cbr\\u003ePrix moyen: $%{y:.2f}\\u003cbr\\u003eNb v\\u00e9hicules: %{customdata[0]}\\u003cextra\\u003e\\u003c\\u002fextra\\u003e\",\"legendgroup\":\"Flex Fuel\",\"line\":{\"color\":\"#FFA15A\",\"dash\":\"solid\"},\"marker\":{\"symbol\":\"circle\",\"size\":5},\"mode\":\"lines+markers\",\"name\":\"Flex Fuel\",\"orientation\":\"v\",\"showlegend\":true,\"x\":{\"dtype\":\"i2\",\"bdata\":\"zwfQB9IH0wfVB9YH1wfYB9kH2gfbB9wH3QfeB98H4AfhBw==\"},\"xaxis\":\"x\",\"y\":{\"dtype\":\"f8\",\"bdata\":\"6aKLLrqkpECamZmZmeWlQJqZmZkZj9BAAAAAADjB0EAAAAAAYN3SQAAAAABArdNAHMdxHGc52kBZyEIWco3aQLETO7EDk9tASZIkSbqp3UAXXXTRldrjQFlT1pR1GeJA27Zt2yZw4UAXXXTRJdDgQHqGeYY5h+JAkiRJkih94kBBC7RAyxfjQA==\"},\"yaxis\":\"y\",\"type\":\"scatter\"},{\"customdata\":{\"dtype\":\"i2\",\"bdata\":\"CwAiACMAGgAIAA0AEQAHAAYACAAOAAQABAAQAA4AGAAWABQADQAYACMANAA4ACsAqQCOAGsA\",\"shape\":\"27, 1\"},\"hovertemplate\":\"Cat\\u00e9gorie: %{legendgroup}\\u003cbr\\u003eAnn\\u00e9e: %{x}\\u003cbr\\u003ePrix moyen: $%{y:.2f}\\u003cbr\\u003eNb v\\u00e9hicules: %{customdata[0]}\\u003cextra\\u003e\\u003c\\u002fextra\\u003e\",\"legendgroup\":\"Hatchback\",\"line\":{\"color\":\"#19d3f3\",\"dash\":\"solid\"},\"marker\":{\"symbol\":\"circle\",\"size\":5},\"mode\":\"lines+markers\",\"name\":\"Hatchback\",\"orientation\":\"v\",\"showlegend\":true,\"x\":{\"dtype\":\"i2\",\"bdata\":\"xwfIB8kHygfLB8wHzQfOB88H0AfRB9IH0wfUB9UH1gfXB9gH2QfaB9sH3AfdB94H3wfgB+EH\"},\"xaxis\":\"x\",\"y\":{\"dtype\":\"f8\",\"bdata\":\"dNFFF11eoEAAAAAAAECfQBZf8RVflaBAdmIndmJ1oUAAAAAAANqmQAAAAAAAQJ9A8fDw8PAko0AAAAAAAPSpQKuqqqqq97BAAAAAAADsrUCSJEmSBFvTQAAAAACgSdtAAAAAAOCT00AAAAAAiEXUQJIkSZLkv9NAVVVVVdUf0kAAAAAAYC3TQDMzMzPDRdNA2Ymd2AmP0EAAAAAAgOzVQKEO6qDOrNdAAAAAAEA\\u002f10AlSZIkOTbZQIO+oC+oEtdAGz5\\u002fzNFs10C\\u002fXerJWIvWQJBMoHeq89ZA\"},\"yaxis\":\"y\",\"type\":\"scatter\"},{\"customdata\":{\"dtype\":\"i2\",\"bdata\":\"BAACAAEAAQALABgAHAAXAAoADQAJABAAIwCHAJMAdQA=\",\"shape\":\"16, 1\"},\"hovertemplate\":\"Cat\\u00e9gorie: %{legendgroup}\\u003cbr\\u003eAnn\\u00e9e: %{x}\\u003cbr\\u003ePrix moyen: $%{y:.2f}\\u003cbr\\u003eNb v\\u00e9hicules: %{customdata[0]}\\u003cextra\\u003e\\u003c\\u002fextra\\u003e\",\"legendgroup\":\"High-Performance\",\"line\":{\"color\":\"#FF6692\",\"dash\":\"solid\"},\"marker\":{\"symbol\":\"circle\",\"size\":5},\"mode\":\"lines+markers\",\"name\":\"High-Performance\",\"orientation\":\"v\",\"showlegend\":true,\"x\":{\"dtype\":\"i2\",\"bdata\":\"0QfSB9QH1QfWB9cH2AfZB9oH2wfcB90H3gffB+AH4Qc=\"},\"xaxis\":\"x\",\"y\":{\"dtype\":\"f8\",\"bdata\":\"AAAAADAA5kAAAAAA8ODlQAAAAADADN9AAAAAAMCJ30DpoosuuirkQFVVVVVpIuNAt23bts3K4kAWspCFLCnlQAAAAABwSOdAntiJnZi66kByHMdxnGjoQAAAAAA2wOhAkiRJkkSc6UAT2ktorw\\u002foQBHy1+yIYehAPdRDPZR36EA=\"},\"yaxis\":\"y\",\"type\":\"scatter\"},{\"customdata\":{\"dtype\":\"i1\",\"bdata\":\"AgIFBgMQDw8KFxsE\",\"shape\":\"12, 1\"},\"hovertemplate\":\"Cat\\u00e9gorie: %{legendgroup}\\u003cbr\\u003eAnn\\u00e9e: %{x}\\u003cbr\\u003ePrix moyen: $%{y:.2f}\\u003cbr\\u003eNb v\\u00e9hicules: %{customdata[0]}\\u003cextra\\u003e\\u003c\\u002fextra\\u003e\",\"legendgroup\":\"Hybrid\",\"line\":{\"color\":\"#B6E880\",\"dash\":\"solid\"},\"marker\":{\"symbol\":\"circle\",\"size\":5},\"mode\":\"lines+markers\",\"name\":\"Hybrid\",\"orientation\":\"v\",\"showlegend\":true,\"x\":{\"dtype\":\"i2\",\"bdata\":\"1gfXB9gH2QfaB9sH3AfdB94H3wfgB+EH\"},\"xaxis\":\"x\",\"y\":{\"dtype\":\"f8\",\"bdata\":\"AAAAAAAm5kAAAAAAAHPkQAAAAACAOuBAq6qqqjpN4ECrqqqq6tXdQAAAAAAU1eZAVVVVVRVr6ECrqqqqajnpQAAAAADwSeNAWchCFrKs5UBVVVVVNfnlQAAAAADQSOlA\"},\"yaxis\":\"y\",\"type\":\"scatter\"},{\"customdata\":{\"dtype\":\"i2\",\"bdata\":\"LAAiACgAFwAcABsAJQATABQAIQAkABwAHgAmACMAIAAaACoASwBHAFkAaABeAHMAuAHfAWgB\",\"shape\":\"27, 1\"},\"hovertemplate\":\"Cat\\u00e9gorie: %{legendgroup}\\u003cbr\\u003eAnn\\u00e9e: %{x}\\u003cbr\\u003ePrix moyen: $%{y:.2f}\\u003cbr\\u003eNb v\\u00e9hicules: %{customdata[0]}\\u003cextra\\u003e\\u003c\\u002fextra\\u003e\",\"legendgroup\":\"Luxury\",\"line\":{\"color\":\"#FF97FF\",\"dash\":\"solid\"},\"marker\":{\"symbol\":\"circle\",\"size\":5},\"mode\":\"lines+markers\",\"name\":\"Luxury\",\"orientation\":\"v\",\"showlegend\":true,\"x\":{\"dtype\":\"i2\",\"bdata\":\"xwfIB8kHygfLB8wHzQfOB88H0AfRB9IH0wfUB9UH1gfXB9gH2QfaB9sH3AfdB94H3wfgB+EH\"},\"xaxis\":\"x\",\"y\":{\"dtype\":\"f8\",\"bdata\":\"XXTRRZcmoUBaWlpaWqahQGZmZmam9aNAvelNb3pBrEDbtm3bNhStQCa0l9Be+qFAMEU+6wbKsEDzGsprKPOkQJqZmZkZ56hAZZNNNtkArECO4ziOQzndQAAAAABg1eFAVVVVVcXR4UAbymso347iQG7btm37reJAAAAAAHNR40CKndiJjbjlQMMwDMOQLOVA7+7u7o4B5UCFzYFEixXlQLWpTW3K1+VAsRM7sZtb5UBBTK4gBlTmQEnlw7if6OdAuuiiiz5J50BPM2A0IqHnQHIcx3EANudA\"},\"yaxis\":\"y\",\"type\":\"scatter\"},{\"customdata\":{\"dtype\":\"i2\",\"bdata\":\"EAARABMAFAAbABsAHAATABMAGQATABQAGQAqACgAEAAVACEAMQAcACIAQwBXAGgAUAFMAQYB\",\"shape\":\"27, 1\"},\"hovertemplate\":\"Cat\\u00e9gorie: %{legendgroup}\\u003cbr\\u003eAnn\\u00e9e: %{x}\\u003cbr\\u003ePrix moyen: $%{y:.2f}\\u003cbr\\u003eNb v\\u00e9hicules: %{customdata[0]}\\u003cextra\\u003e\\u003c\\u002fextra\\u003e\",\"legendgroup\":\"Performance\",\"line\":{\"color\":\"#FECB52\",\"dash\":\"solid\"},\"marker\":{\"symbol\":\"circle\",\"size\":5},\"mode\":\"lines+markers\",\"name\":\"Performance\",\"orientation\":\"v\",\"showlegend\":true,\"x\":{\"dtype\":\"i2\",\"bdata\":\"xwfIB8kHygfLB8wHzQfOB88H0AfRB9IH0wfUB9UH1gfXB9gH2QfaB9sH3AfdB94H3wfgB+EH\"},\"xaxis\":\"x\",\"y\":{\"dtype\":\"f8\",\"bdata\":\"AAAAAOCBpEAtLS0tLT+kQL2G8hrKd6hAZmZmZuazpUBCewntJeCmQGgvob2EUK1ASZIkSZIXsEAAAAAAAMm1QKK8hvIaJrNAj8L1KFzrskB5DeU11GjbQDMzMzPz09xAMzMzM7O730CGYRiGcVrgQAAAAABcd+BAAAAAAGK\\u002f4ECSJEmSZKLgQOmiiy46e+FAXk7Byyk34kC3bdu2RTrlQB4eHh4uC+VAqJzdwk974kAmxQtk0uLhQDuxEzsBMuJAt23btkct40DYHnJZ4dDjQPIsI\\u002frQ+uNA\"},\"yaxis\":\"y\",\"type\":\"scatter\"}],                        {\"template\":{\"data\":{\"histogram2dcontour\":[{\"type\":\"histogram2dcontour\",\"colorbar\":{\"outlinewidth\":0,\"ticks\":\"\"},\"colorscale\":[[0.0,\"#0d0887\"],[0.1111111111111111,\"#46039f\"],[0.2222222222222222,\"#7201a8\"],[0.3333333333333333,\"#9c179e\"],[0.4444444444444444,\"#bd3786\"],[0.5555555555555556,\"#d8576b\"],[0.6666666666666666,\"#ed7953\"],[0.7777777777777778,\"#fb9f3a\"],[0.8888888888888888,\"#fdca26\"],[1.0,\"#f0f921\"]]}],\"choropleth\":[{\"type\":\"choropleth\",\"colorbar\":{\"outlinewidth\":0,\"ticks\":\"\"}}],\"histogram2d\":[{\"type\":\"histogram2d\",\"colorbar\":{\"outlinewidth\":0,\"ticks\":\"\"},\"colorscale\":[[0.0,\"#0d0887\"],[0.1111111111111111,\"#46039f\"],[0.2222222222222222,\"#7201a8\"],[0.3333333333333333,\"#9c179e\"],[0.4444444444444444,\"#bd3786\"],[0.5555555555555556,\"#d8576b\"],[0.6666666666666666,\"#ed7953\"],[0.7777777777777778,\"#fb9f3a\"],[0.8888888888888888,\"#fdca26\"],[1.0,\"#f0f921\"]]}],\"heatmap\":[{\"type\":\"heatmap\",\"colorbar\":{\"outlinewidth\":0,\"ticks\":\"\"},\"colorscale\":[[0.0,\"#0d0887\"],[0.1111111111111111,\"#46039f\"],[0.2222222222222222,\"#7201a8\"],[0.3333333333333333,\"#9c179e\"],[0.4444444444444444,\"#bd3786\"],[0.5555555555555556,\"#d8576b\"],[0.6666666666666666,\"#ed7953\"],[0.7777777777777778,\"#fb9f3a\"],[0.8888888888888888,\"#fdca26\"],[1.0,\"#f0f921\"]]}],\"contourcarpet\":[{\"type\":\"contourcarpet\",\"colorbar\":{\"outlinewidth\":0,\"ticks\":\"\"}}],\"contour\":[{\"type\":\"contour\",\"colorbar\":{\"outlinewidth\":0,\"ticks\":\"\"},\"colorscale\":[[0.0,\"#0d0887\"],[0.1111111111111111,\"#46039f\"],[0.2222222222222222,\"#7201a8\"],[0.3333333333333333,\"#9c179e\"],[0.4444444444444444,\"#bd3786\"],[0.5555555555555556,\"#d8576b\"],[0.6666666666666666,\"#ed7953\"],[0.7777777777777778,\"#fb9f3a\"],[0.8888888888888888,\"#fdca26\"],[1.0,\"#f0f921\"]]}],\"surface\":[{\"type\":\"surface\",\"colorbar\":{\"outlinewidth\":0,\"ticks\":\"\"},\"colorscale\":[[0.0,\"#0d0887\"],[0.1111111111111111,\"#46039f\"],[0.2222222222222222,\"#7201a8\"],[0.3333333333333333,\"#9c179e\"],[0.4444444444444444,\"#bd3786\"],[0.5555555555555556,\"#d8576b\"],[0.6666666666666666,\"#ed7953\"],[0.7777777777777778,\"#fb9f3a\"],[0.8888888888888888,\"#fdca26\"],[1.0,\"#f0f921\"]]}],\"mesh3d\":[{\"type\":\"mesh3d\",\"colorbar\":{\"outlinewidth\":0,\"ticks\":\"\"}}],\"scatter\":[{\"fillpattern\":{\"fillmode\":\"overlay\",\"size\":10,\"solidity\":0.2},\"type\":\"scatter\"}],\"parcoords\":[{\"type\":\"parcoords\",\"line\":{\"colorbar\":{\"outlinewidth\":0,\"ticks\":\"\"}}}],\"scatterpolargl\":[{\"type\":\"scatterpolargl\",\"marker\":{\"colorbar\":{\"outlinewidth\":0,\"ticks\":\"\"}}}],\"bar\":[{\"error_x\":{\"color\":\"#2a3f5f\"},\"error_y\":{\"color\":\"#2a3f5f\"},\"marker\":{\"line\":{\"color\":\"#E5ECF6\",\"width\":0.5},\"pattern\":{\"fillmode\":\"overlay\",\"size\":10,\"solidity\":0.2}},\"type\":\"bar\"}],\"scattergeo\":[{\"type\":\"scattergeo\",\"marker\":{\"colorbar\":{\"outlinewidth\":0,\"ticks\":\"\"}}}],\"scatterpolar\":[{\"type\":\"scatterpolar\",\"marker\":{\"colorbar\":{\"outlinewidth\":0,\"ticks\":\"\"}}}],\"histogram\":[{\"marker\":{\"pattern\":{\"fillmode\":\"overlay\",\"size\":10,\"solidity\":0.2}},\"type\":\"histogram\"}],\"scattergl\":[{\"type\":\"scattergl\",\"marker\":{\"colorbar\":{\"outlinewidth\":0,\"ticks\":\"\"}}}],\"scatter3d\":[{\"type\":\"scatter3d\",\"line\":{\"colorbar\":{\"outlinewidth\":0,\"ticks\":\"\"}},\"marker\":{\"colorbar\":{\"outlinewidth\":0,\"ticks\":\"\"}}}],\"scattermap\":[{\"type\":\"scattermap\",\"marker\":{\"colorbar\":{\"outlinewidth\":0,\"ticks\":\"\"}}}],\"scattermapbox\":[{\"type\":\"scattermapbox\",\"marker\":{\"colorbar\":{\"outlinewidth\":0,\"ticks\":\"\"}}}],\"scatterternary\":[{\"type\":\"scatterternary\",\"marker\":{\"colorbar\":{\"outlinewidth\":0,\"ticks\":\"\"}}}],\"scattercarpet\":[{\"type\":\"scattercarpet\",\"marker\":{\"colorbar\":{\"outlinewidth\":0,\"ticks\":\"\"}}}],\"carpet\":[{\"aaxis\":{\"endlinecolor\":\"#2a3f5f\",\"gridcolor\":\"white\",\"linecolor\":\"white\",\"minorgridcolor\":\"white\",\"startlinecolor\":\"#2a3f5f\"},\"baxis\":{\"endlinecolor\":\"#2a3f5f\",\"gridcolor\":\"white\",\"linecolor\":\"white\",\"minorgridcolor\":\"white\",\"startlinecolor\":\"#2a3f5f\"},\"type\":\"carpet\"}],\"table\":[{\"cells\":{\"fill\":{\"color\":\"#EBF0F8\"},\"line\":{\"color\":\"white\"}},\"header\":{\"fill\":{\"color\":\"#C8D4E3\"},\"line\":{\"color\":\"white\"}},\"type\":\"table\"}],\"barpolar\":[{\"marker\":{\"line\":{\"color\":\"#E5ECF6\",\"width\":0.5},\"pattern\":{\"fillmode\":\"overlay\",\"size\":10,\"solidity\":0.2}},\"type\":\"barpolar\"}],\"pie\":[{\"automargin\":true,\"type\":\"pie\"}]},\"layout\":{\"autotypenumbers\":\"strict\",\"colorway\":[\"#636efa\",\"#EF553B\",\"#00cc96\",\"#ab63fa\",\"#FFA15A\",\"#19d3f3\",\"#FF6692\",\"#B6E880\",\"#FF97FF\",\"#FECB52\"],\"font\":{\"color\":\"#2a3f5f\"},\"hovermode\":\"closest\",\"hoverlabel\":{\"align\":\"left\"},\"paper_bgcolor\":\"white\",\"plot_bgcolor\":\"#E5ECF6\",\"polar\":{\"bgcolor\":\"#E5ECF6\",\"angularaxis\":{\"gridcolor\":\"white\",\"linecolor\":\"white\",\"ticks\":\"\"},\"radialaxis\":{\"gridcolor\":\"white\",\"linecolor\":\"white\",\"ticks\":\"\"}},\"ternary\":{\"bgcolor\":\"#E5ECF6\",\"aaxis\":{\"gridcolor\":\"white\",\"linecolor\":\"white\",\"ticks\":\"\"},\"baxis\":{\"gridcolor\":\"white\",\"linecolor\":\"white\",\"ticks\":\"\"},\"caxis\":{\"gridcolor\":\"white\",\"linecolor\":\"white\",\"ticks\":\"\"}},\"coloraxis\":{\"colorbar\":{\"outlinewidth\":0,\"ticks\":\"\"}},\"colorscale\":{\"sequential\":[[0.0,\"#0d0887\"],[0.1111111111111111,\"#46039f\"],[0.2222222222222222,\"#7201a8\"],[0.3333333333333333,\"#9c179e\"],[0.4444444444444444,\"#bd3786\"],[0.5555555555555556,\"#d8576b\"],[0.6666666666666666,\"#ed7953\"],[0.7777777777777778,\"#fb9f3a\"],[0.8888888888888888,\"#fdca26\"],[1.0,\"#f0f921\"]],\"sequentialminus\":[[0.0,\"#0d0887\"],[0.1111111111111111,\"#46039f\"],[0.2222222222222222,\"#7201a8\"],[0.3333333333333333,\"#9c179e\"],[0.4444444444444444,\"#bd3786\"],[0.5555555555555556,\"#d8576b\"],[0.6666666666666666,\"#ed7953\"],[0.7777777777777778,\"#fb9f3a\"],[0.8888888888888888,\"#fdca26\"],[1.0,\"#f0f921\"]],\"diverging\":[[0,\"#8e0152\"],[0.1,\"#c51b7d\"],[0.2,\"#de77ae\"],[0.3,\"#f1b6da\"],[0.4,\"#fde0ef\"],[0.5,\"#f7f7f7\"],[0.6,\"#e6f5d0\"],[0.7,\"#b8e186\"],[0.8,\"#7fbc41\"],[0.9,\"#4d9221\"],[1,\"#276419\"]]},\"xaxis\":{\"gridcolor\":\"white\",\"linecolor\":\"white\",\"ticks\":\"\",\"title\":{\"standoff\":15},\"zerolinecolor\":\"white\",\"automargin\":true,\"zerolinewidth\":2},\"yaxis\":{\"gridcolor\":\"white\",\"linecolor\":\"white\",\"ticks\":\"\",\"title\":{\"standoff\":15},\"zerolinecolor\":\"white\",\"automargin\":true,\"zerolinewidth\":2},\"scene\":{\"xaxis\":{\"backgroundcolor\":\"#E5ECF6\",\"gridcolor\":\"white\",\"linecolor\":\"white\",\"showbackground\":true,\"ticks\":\"\",\"zerolinecolor\":\"white\",\"gridwidth\":2},\"yaxis\":{\"backgroundcolor\":\"#E5ECF6\",\"gridcolor\":\"white\",\"linecolor\":\"white\",\"showbackground\":true,\"ticks\":\"\",\"zerolinecolor\":\"white\",\"gridwidth\":2},\"zaxis\":{\"backgroundcolor\":\"#E5ECF6\",\"gridcolor\":\"white\",\"linecolor\":\"white\",\"showbackground\":true,\"ticks\":\"\",\"zerolinecolor\":\"white\",\"gridwidth\":2}},\"shapedefaults\":{\"line\":{\"color\":\"#2a3f5f\"}},\"annotationdefaults\":{\"arrowcolor\":\"#2a3f5f\",\"arrowhead\":0,\"arrowwidth\":1},\"geo\":{\"bgcolor\":\"white\",\"landcolor\":\"#E5ECF6\",\"subunitcolor\":\"white\",\"showland\":true,\"showlakes\":true,\"lakecolor\":\"white\"},\"title\":{\"x\":0.05},\"mapbox\":{\"style\":\"light\"}}},\"xaxis\":{\"anchor\":\"y\",\"domain\":[0.0,1.0],\"title\":{\"text\":\"Ann\\u00e9e du v\\u00e9hicule\"},\"tickangle\":-45},\"yaxis\":{\"anchor\":\"x\",\"domain\":[0.0,1.0],\"title\":{\"text\":\"Prix moyen (USD)\"},\"tickprefix\":\"$\",\"tickformat\":\",.0f\"},\"legend\":{\"title\":{\"text\":\"Cat\\u00e9gorie marketing\"},\"tracegroupgap\":0},\"title\":{\"text\":\"D\\u00e9pr\\u00e9ciation par cat\\u00e9gorie de march\\u00e9\"},\"margin\":{\"t\":60,\"b\":120},\"height\":600,\"hovermode\":\"closest\"},                        {\"responsive\": true}                    ).then(function(){\n",
       "                            \n",
       "var gd = document.getElementById('32646378-2c03-40f5-9f10-98fd4048cfd6');\n",
       "var x = new MutationObserver(function (mutations, observer) {{\n",
       "        var display = window.getComputedStyle(gd).display;\n",
       "        if (!display || display === 'none') {{\n",
       "            console.log([gd, 'removed!']);\n",
       "            Plotly.purge(gd);\n",
       "            observer.disconnect();\n",
       "        }}\n",
       "}});\n",
       "\n",
       "// Listen for the removal of the full notebook cells\n",
       "var notebookContainer = gd.closest('#notebook-container');\n",
       "if (notebookContainer) {{\n",
       "    x.observe(notebookContainer, {childList: true});\n",
       "}}\n",
       "\n",
       "// Listen for the clearing of the current output cell\n",
       "var outputEl = gd.closest('.output');\n",
       "if (outputEl) {{\n",
       "    x.observe(outputEl, {childList: true});\n",
       "}}\n",
       "\n",
       "                        })                };            </script>        </div>"
      ]
     },
     "metadata": {},
     "output_type": "display_data"
    }
   ],
   "source": [
    "# Analyse de la dépréciation par catégorie de marché\n",
    "\n",
    "# Certaines voitures ont plusieurs catégories séparées par des virgules → on les éclate\n",
    "df_category = df[['year', 'price', 'market']].dropna()\n",
    "df_category = df_category[df_category['year'] > 1990]\n",
    "df_category = df_category[df_category['price'] > 1000]\n",
    "\n",
    "# Séparer les catégories multiples et réassembler le DataFrame\n",
    "df_exploded = df_category.assign(\n",
    "    market=df_category['market'].str.split(',')\n",
    ").explode('market')\n",
    "\n",
    "# Nettoyer les noms de catégories\n",
    "df_exploded['market'] = df_exploded['market'].str.strip()\n",
    "\n",
    "# Grouper par catégorie + année\n",
    "cat_group = df_exploded.groupby(['market', 'year'])['price'].agg(['mean', 'count']).reset_index()\n",
    "\n",
    "# Tracé\n",
    "fig = px.line(\n",
    "    cat_group,\n",
    "    x='year',\n",
    "    y='mean',\n",
    "    color='market',\n",
    "    markers=True,\n",
    "    hover_data={'count': True},\n",
    "    labels={\n",
    "        'year': 'Année du véhicule',\n",
    "        'mean': 'Prix moyen (USD)',\n",
    "        'market': 'Catégorie de marché',\n",
    "        'count': 'Nb véhicules'\n",
    "    },\n",
    "    title='Dépréciation par catégorie de marché'\n",
    ")\n",
    "\n",
    "fig.update_traces(\n",
    "    hovertemplate='Catégorie: %{legendgroup}<br>Année: %{x}<br>Prix moyen: $%{y:.2f}<br>Nb véhicules: %{customdata[0]}<extra></extra>',\n",
    "    marker=dict(size=5)\n",
    ")\n",
    "\n",
    "fig.update_layout(\n",
    "    yaxis_tickprefix='$',\n",
    "    yaxis_tickformat=',.0f',\n",
    "    xaxis_tickangle=-45,\n",
    "    height=600,\n",
    "    legend_title_text='Catégorie marketing',\n",
    "    margin=dict(t=60, b=120),\n",
    "    hovermode=\"closest\"\n",
    ")\n",
    "\n",
    "fig.show()\n"
   ]
  },
  {
   "cell_type": "code",
   "execution_count": null,
   "id": "f57fab52",
   "metadata": {},
   "outputs": [],
   "source": [
    "# Suppression des doublons et des lignes avec valeurs manquantes\n",
    "df_clean1 = df.dropna(subset=['Make', 'Model']).copy()\n",
    "df_clean1 = df_clean1.drop_duplicates(subset=['Make', 'Model'])\n",
    "\n",
    "# Comptage des modèles par marque\n",
    "model_counts = df_clean1.groupby('Make')['Model'].count().reset_index()\n",
    "model_counts.columns = ['Make', 'Nombre de modèles']\n",
    "model_counts = model_counts.sort_values(by='Nombre de modèles', ascending=False)\n",
    "\n",
    "# Création du bar chart avec une seule couleur douce\n",
    "fig = px.bar(\n",
    "    model_counts.head(15),\n",
    "    x='Make',\n",
    "    y='Nombre de modèles',\n",
    "    text='Nombre de modèles',\n",
    "    title=\" Top 15 des marques avec le plus grand nombre de modèles distincts\",\n",
    "    color_discrete_sequence=[\"#4682B4\"]  # Bleu acier doux\n",
    ")\n",
    "\n",
    "# Mise en forme visuelle\n",
    "fig.update_layout(\n",
    "    title=dict(x=0.5, font=dict(size=20)),  # Titre centré et plus grand\n",
    "    font=dict(size=14),\n",
    "    xaxis=dict(\n",
    "        title=\"Marque\",\n",
    "        titlefont=dict(size=16),\n",
    "        tickfont=dict(size=13),\n",
    "        tickangle=-30\n",
    "    ),\n",
    "    yaxis=dict(\n",
    "        title=\"Nombre de modèles\",\n",
    "        titlefont=dict(size=16),\n",
    "        tickfont=dict(size=13),\n",
    "        gridcolor='lightgrey'\n",
    "    ),\n",
    "    plot_bgcolor='white',\n",
    "    margin=dict(t=80, b=60, l=60, r=40)\n",
    ")\n",
    "\n",
    "fig.update_traces(\n",
    "    textposition=\"outside\",\n",
    "    marker=dict(line=dict(width=1, color='black'))  # Bordure légère\n",
    ")\n",
    "\n",
    "fig.show()\n"
   ]
  }
 ],
 "metadata": {
  "kernelspec": {
   "display_name": "Python 3",
   "language": "python",
   "name": "python3"
  },
  "language_info": {
   "codemirror_mode": {
    "name": "ipython",
    "version": 3
   },
   "file_extension": ".py",
   "mimetype": "text/x-python",
   "name": "python",
   "nbconvert_exporter": "python",
   "pygments_lexer": "ipython3",
   "version": "3.12.2"
  }
 },
 "nbformat": 4,
 "nbformat_minor": 5
}
