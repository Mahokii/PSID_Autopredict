{
 "cells": [
  {
   "cell_type": "markdown",
   "id": "03d58a16",
   "metadata": {},
   "source": [
    "# Exploration des données pour conseiller nos clients sur l'achat de nos véhicules disponibles sur notre plateforme AutoPredict\n",
    "\n",
    "\n",
    "Vous pourrez, ci-dessous, consulter nos statistiques pour savoir quels types de véhicules nous pourrions vous orienter en fonction de vos besoins."
   ]
  },
  {
   "cell_type": "code",
   "execution_count": 297,
   "id": "93ea2c75",
   "metadata": {},
   "outputs": [
    {
     "data": {
      "text/html": [
       "        <script type=\"text/javascript\">\n",
       "        window.PlotlyConfig = {MathJaxConfig: 'local'};\n",
       "        if (window.MathJax && window.MathJax.Hub && window.MathJax.Hub.Config) {window.MathJax.Hub.Config({SVG: {font: \"STIX-Web\"}});}\n",
       "        </script>\n",
       "        <script type=\"module\">import \"https://cdn.plot.ly/plotly-3.0.1.min\"</script>\n",
       "        "
      ]
     },
     "metadata": {},
     "output_type": "display_data"
    },
    {
     "name": "stdout",
     "output_type": "stream",
     "text": [
      "Dataset size before cleaning: 11914 rows\n",
      "Dataset size after cleaning: 11914 rows\n",
      "Number of missing values in each column:\n",
      "make            0\n",
      "model           0\n",
      "year            0\n",
      "fuel_type       0\n",
      "hp              0\n",
      "cylinders       0\n",
      "transmission    0\n",
      "drive           0\n",
      "doors           0\n",
      "market          0\n",
      "size            0\n",
      "style           0\n",
      "highway_mpg     0\n",
      "city_mpg        0\n",
      "popularity      0\n",
      "price           0\n",
      "average_mpg     0\n",
      "hp_range        0\n",
      "dtype: int64\n"
     ]
    }
   ],
   "source": [
    "import pandas as pd\n",
    "import seaborn as sns\n",
    "import matplotlib.pyplot as plt\n",
    "import plotly.express as px\n",
    "import plotly.offline as pyo\n",
    "import plotly.graph_objects as go\n",
    "\n",
    "# Activation du mode notebook (important pour VS Code)\n",
    "pyo.init_notebook_mode(connected=True)\n",
    "\n",
    "# Chargement du fichier CSV\n",
    "df = pd.read_csv(\"voiture.csv\")\n",
    "\n",
    "print(f\"Dataset size before cleaning: {len(df)} rows\")\n",
    "\n",
    "# Data cleaning\n",
    "# Standardize column names\n",
    "df.columns = df.columns.str.lower().str.replace(\" \", \"_\")\n",
    "df.rename(columns={\n",
    "    'engine_fuel_type': 'fuel_type',\n",
    "    'engine_hp': 'hp',\n",
    "    'engine_cylinders': 'cylinders',\n",
    "    'transmission_type': 'transmission',\n",
    "    'driven_wheels': 'drive',\n",
    "    'number_of_doors': 'doors',\n",
    "    'market_category': 'market',\n",
    "    'vehicle_size': 'size',\n",
    "    'vehicle_style': 'style',\n",
    "    'msrp': 'price'\n",
    "}, inplace=True)\n",
    "\n",
    "# Handle missing values\n",
    "df['fuel_type'] = df['fuel_type'].fillna('Non défini')\n",
    "df['hp'] = df['hp'].fillna(df['hp'].mean()).round().astype('Int64')\n",
    "df['cylinders'] = df['cylinders'].fillna(0)\n",
    "df['doors'] = df['doors'].fillna(df['doors'].mean()).round().astype('Int64')\n",
    "df['market'] = df['market'].fillna('Non défini')\n",
    "\n",
    "\n",
    "# Add derived columns\n",
    "df['average_mpg'] = (df['highway_mpg'] + df['city_mpg']) / 2\n",
    "df['hp_range'] = pd.qcut(df['hp'], q=5, labels=['Très faible', 'Faible', 'Moyenne', 'Élevée', 'Très élevée'])\n",
    "df['cylinders'] = df['cylinders'].round().astype('Int64')\n",
    "\n",
    "# Final dataset information\n",
    "print(f\"Dataset size after cleaning: {len(df)} rows\")\n",
    "print(\"Number of missing values in each column:\")\n",
    "print(df.isnull().sum())"
   ]
  },
  {
   "cell_type": "code",
   "execution_count": 298,
   "id": "89bc5c91",
   "metadata": {},
   "outputs": [
    {
     "data": {
      "application/vnd.plotly.v1+json": {
       "config": {
        "linkText": "Export to plot.ly",
        "plotlyServerURL": "https://plot.ly",
        "showLink": false
       },
       "data": [
        {
         "branchvalues": "total",
         "domain": {
          "x": [
           0,
           1
          ],
          "y": [
           0,
           1
          ]
         },
         "hovertemplate": "labels=%{label}<br>Nombre de véhicules=%{value}<br>parent=%{parent}<br>id=%{id}<extra></extra>",
         "ids": [
          "AUTOMATED_MANUAL/2dr Hatchback",
          "AUTOMATED_MANUAL/4dr Hatchback",
          "AUTOMATED_MANUAL/4dr SUV",
          "AUTOMATED_MANUAL/Convertible",
          "AUTOMATED_MANUAL/Coupe",
          "AUTOMATED_MANUAL/Sedan",
          "AUTOMATED_MANUAL/Wagon",
          "AUTOMATIC/2dr Hatchback",
          "AUTOMATIC/2dr SUV",
          "AUTOMATIC/4dr Hatchback",
          "AUTOMATIC/4dr SUV",
          "AUTOMATIC/Cargo Minivan",
          "AUTOMATIC/Cargo Van",
          "AUTOMATIC/Convertible",
          "AUTOMATIC/Convertible SUV",
          "AUTOMATIC/Coupe",
          "AUTOMATIC/Crew Cab Pickup",
          "AUTOMATIC/Extended Cab Pickup",
          "AUTOMATIC/Passenger Minivan",
          "AUTOMATIC/Passenger Van",
          "AUTOMATIC/Regular Cab Pickup",
          "AUTOMATIC/Sedan",
          "AUTOMATIC/Wagon",
          "DIRECT_DRIVE/2dr Hatchback",
          "DIRECT_DRIVE/4dr Hatchback",
          "DIRECT_DRIVE/4dr SUV",
          "DIRECT_DRIVE/Sedan",
          "DIRECT_DRIVE/Wagon",
          "MANUAL/2dr Hatchback",
          "MANUAL/2dr SUV",
          "MANUAL/4dr Hatchback",
          "MANUAL/4dr SUV",
          "MANUAL/Convertible",
          "MANUAL/Convertible SUV",
          "MANUAL/Coupe",
          "MANUAL/Crew Cab Pickup",
          "MANUAL/Extended Cab Pickup",
          "MANUAL/Passenger Minivan",
          "MANUAL/Regular Cab Pickup",
          "MANUAL/Sedan",
          "MANUAL/Wagon",
          "AUTOMATED_MANUAL",
          "AUTOMATIC",
          "DIRECT_DRIVE",
          "MANUAL"
         ],
         "insidetextorientation": "radial",
         "labels": [
          "2dr Hatchback",
          "4dr Hatchback",
          "4dr SUV",
          "Convertible",
          "Coupe",
          "Sedan",
          "Wagon",
          "2dr Hatchback",
          "2dr SUV",
          "4dr Hatchback",
          "4dr SUV",
          "Cargo Minivan",
          "Cargo Van",
          "Convertible",
          "Convertible SUV",
          "Coupe",
          "Crew Cab Pickup",
          "Extended Cab Pickup",
          "Passenger Minivan",
          "Passenger Van",
          "Regular Cab Pickup",
          "Sedan",
          "Wagon",
          "2dr Hatchback",
          "4dr Hatchback",
          "4dr SUV",
          "Sedan",
          "Wagon",
          "2dr Hatchback",
          "2dr SUV",
          "4dr Hatchback",
          "4dr SUV",
          "Convertible",
          "Convertible SUV",
          "Coupe",
          "Crew Cab Pickup",
          "Extended Cab Pickup",
          "Passenger Minivan",
          "Regular Cab Pickup",
          "Sedan",
          "Wagon",
          "AUTOMATED_MANUAL",
          "AUTOMATIC",
          "DIRECT_DRIVE",
          "MANUAL"
         ],
         "name": "",
         "parents": [
          "AUTOMATED_MANUAL",
          "AUTOMATED_MANUAL",
          "AUTOMATED_MANUAL",
          "AUTOMATED_MANUAL",
          "AUTOMATED_MANUAL",
          "AUTOMATED_MANUAL",
          "AUTOMATED_MANUAL",
          "AUTOMATIC",
          "AUTOMATIC",
          "AUTOMATIC",
          "AUTOMATIC",
          "AUTOMATIC",
          "AUTOMATIC",
          "AUTOMATIC",
          "AUTOMATIC",
          "AUTOMATIC",
          "AUTOMATIC",
          "AUTOMATIC",
          "AUTOMATIC",
          "AUTOMATIC",
          "AUTOMATIC",
          "AUTOMATIC",
          "AUTOMATIC",
          "DIRECT_DRIVE",
          "DIRECT_DRIVE",
          "DIRECT_DRIVE",
          "DIRECT_DRIVE",
          "DIRECT_DRIVE",
          "MANUAL",
          "MANUAL",
          "MANUAL",
          "MANUAL",
          "MANUAL",
          "MANUAL",
          "MANUAL",
          "MANUAL",
          "MANUAL",
          "MANUAL",
          "MANUAL",
          "MANUAL",
          "MANUAL",
          "",
          "",
          "",
          ""
         ],
         "textinfo": "label+percent entry",
         "type": "sunburst",
         "values": {
          "bdata": "AAAAAACATEAAAAAAAABLQAAAAAAAADpAAAAAAADgYEAAAAAAAMBfQAAAAAAAIGpAAAAAAAAAMkAAAAAAAEBfQAAAAAAAAEZAAAAAAAAAdkAAAAAAAGKiQAAAAAAAwFFAAAAAAADAV0AAAAAAAAB1QAAAAAAAACBAAAAAAABgf0AAAAAAABiEQAAAAAAA4HZAAAAAAAAgeUAAAAAAAABgQAAAAAAA4GNAAAAAAACSoUAAAAAAABB7QAAAAAAAAAhAAAAAAACAQkAAAAAAAAAIQAAAAAAAADRAAAAAAAAAFEAAAAAAAPBzQAAAAAAAgFZAAAAAAAAwcEAAAAAAAIBaQAAAAAAAAHRAAAAAAAAANUAAAAAAACCCQAAAAAAAAENAAAAAAAAQcEAAAAAAAAAuQAAAAAAAIGxAAAAAAADIgUAAAAAAAABhQAAAAAAAkINAAAAAAAAlwEAAAAAAAABRQAAAAAAA7qZA",
          "dtype": "f8"
         }
        }
       ],
       "layout": {
        "font": {
         "size": 14
        },
        "height": 700,
        "legend": {
         "tracegroupgap": 0
        },
        "template": {
         "data": {
          "bar": [
           {
            "error_x": {
             "color": "#2a3f5f"
            },
            "error_y": {
             "color": "#2a3f5f"
            },
            "marker": {
             "line": {
              "color": "#E5ECF6",
              "width": 0.5
             },
             "pattern": {
              "fillmode": "overlay",
              "size": 10,
              "solidity": 0.2
             }
            },
            "type": "bar"
           }
          ],
          "barpolar": [
           {
            "marker": {
             "line": {
              "color": "#E5ECF6",
              "width": 0.5
             },
             "pattern": {
              "fillmode": "overlay",
              "size": 10,
              "solidity": 0.2
             }
            },
            "type": "barpolar"
           }
          ],
          "carpet": [
           {
            "aaxis": {
             "endlinecolor": "#2a3f5f",
             "gridcolor": "white",
             "linecolor": "white",
             "minorgridcolor": "white",
             "startlinecolor": "#2a3f5f"
            },
            "baxis": {
             "endlinecolor": "#2a3f5f",
             "gridcolor": "white",
             "linecolor": "white",
             "minorgridcolor": "white",
             "startlinecolor": "#2a3f5f"
            },
            "type": "carpet"
           }
          ],
          "choropleth": [
           {
            "colorbar": {
             "outlinewidth": 0,
             "ticks": ""
            },
            "type": "choropleth"
           }
          ],
          "contour": [
           {
            "colorbar": {
             "outlinewidth": 0,
             "ticks": ""
            },
            "colorscale": [
             [
              0,
              "#0d0887"
             ],
             [
              0.1111111111111111,
              "#46039f"
             ],
             [
              0.2222222222222222,
              "#7201a8"
             ],
             [
              0.3333333333333333,
              "#9c179e"
             ],
             [
              0.4444444444444444,
              "#bd3786"
             ],
             [
              0.5555555555555556,
              "#d8576b"
             ],
             [
              0.6666666666666666,
              "#ed7953"
             ],
             [
              0.7777777777777778,
              "#fb9f3a"
             ],
             [
              0.8888888888888888,
              "#fdca26"
             ],
             [
              1,
              "#f0f921"
             ]
            ],
            "type": "contour"
           }
          ],
          "contourcarpet": [
           {
            "colorbar": {
             "outlinewidth": 0,
             "ticks": ""
            },
            "type": "contourcarpet"
           }
          ],
          "heatmap": [
           {
            "colorbar": {
             "outlinewidth": 0,
             "ticks": ""
            },
            "colorscale": [
             [
              0,
              "#0d0887"
             ],
             [
              0.1111111111111111,
              "#46039f"
             ],
             [
              0.2222222222222222,
              "#7201a8"
             ],
             [
              0.3333333333333333,
              "#9c179e"
             ],
             [
              0.4444444444444444,
              "#bd3786"
             ],
             [
              0.5555555555555556,
              "#d8576b"
             ],
             [
              0.6666666666666666,
              "#ed7953"
             ],
             [
              0.7777777777777778,
              "#fb9f3a"
             ],
             [
              0.8888888888888888,
              "#fdca26"
             ],
             [
              1,
              "#f0f921"
             ]
            ],
            "type": "heatmap"
           }
          ],
          "histogram": [
           {
            "marker": {
             "pattern": {
              "fillmode": "overlay",
              "size": 10,
              "solidity": 0.2
             }
            },
            "type": "histogram"
           }
          ],
          "histogram2d": [
           {
            "colorbar": {
             "outlinewidth": 0,
             "ticks": ""
            },
            "colorscale": [
             [
              0,
              "#0d0887"
             ],
             [
              0.1111111111111111,
              "#46039f"
             ],
             [
              0.2222222222222222,
              "#7201a8"
             ],
             [
              0.3333333333333333,
              "#9c179e"
             ],
             [
              0.4444444444444444,
              "#bd3786"
             ],
             [
              0.5555555555555556,
              "#d8576b"
             ],
             [
              0.6666666666666666,
              "#ed7953"
             ],
             [
              0.7777777777777778,
              "#fb9f3a"
             ],
             [
              0.8888888888888888,
              "#fdca26"
             ],
             [
              1,
              "#f0f921"
             ]
            ],
            "type": "histogram2d"
           }
          ],
          "histogram2dcontour": [
           {
            "colorbar": {
             "outlinewidth": 0,
             "ticks": ""
            },
            "colorscale": [
             [
              0,
              "#0d0887"
             ],
             [
              0.1111111111111111,
              "#46039f"
             ],
             [
              0.2222222222222222,
              "#7201a8"
             ],
             [
              0.3333333333333333,
              "#9c179e"
             ],
             [
              0.4444444444444444,
              "#bd3786"
             ],
             [
              0.5555555555555556,
              "#d8576b"
             ],
             [
              0.6666666666666666,
              "#ed7953"
             ],
             [
              0.7777777777777778,
              "#fb9f3a"
             ],
             [
              0.8888888888888888,
              "#fdca26"
             ],
             [
              1,
              "#f0f921"
             ]
            ],
            "type": "histogram2dcontour"
           }
          ],
          "mesh3d": [
           {
            "colorbar": {
             "outlinewidth": 0,
             "ticks": ""
            },
            "type": "mesh3d"
           }
          ],
          "parcoords": [
           {
            "line": {
             "colorbar": {
              "outlinewidth": 0,
              "ticks": ""
             }
            },
            "type": "parcoords"
           }
          ],
          "pie": [
           {
            "automargin": true,
            "type": "pie"
           }
          ],
          "scatter": [
           {
            "fillpattern": {
             "fillmode": "overlay",
             "size": 10,
             "solidity": 0.2
            },
            "type": "scatter"
           }
          ],
          "scatter3d": [
           {
            "line": {
             "colorbar": {
              "outlinewidth": 0,
              "ticks": ""
             }
            },
            "marker": {
             "colorbar": {
              "outlinewidth": 0,
              "ticks": ""
             }
            },
            "type": "scatter3d"
           }
          ],
          "scattercarpet": [
           {
            "marker": {
             "colorbar": {
              "outlinewidth": 0,
              "ticks": ""
             }
            },
            "type": "scattercarpet"
           }
          ],
          "scattergeo": [
           {
            "marker": {
             "colorbar": {
              "outlinewidth": 0,
              "ticks": ""
             }
            },
            "type": "scattergeo"
           }
          ],
          "scattergl": [
           {
            "marker": {
             "colorbar": {
              "outlinewidth": 0,
              "ticks": ""
             }
            },
            "type": "scattergl"
           }
          ],
          "scattermap": [
           {
            "marker": {
             "colorbar": {
              "outlinewidth": 0,
              "ticks": ""
             }
            },
            "type": "scattermap"
           }
          ],
          "scattermapbox": [
           {
            "marker": {
             "colorbar": {
              "outlinewidth": 0,
              "ticks": ""
             }
            },
            "type": "scattermapbox"
           }
          ],
          "scatterpolar": [
           {
            "marker": {
             "colorbar": {
              "outlinewidth": 0,
              "ticks": ""
             }
            },
            "type": "scatterpolar"
           }
          ],
          "scatterpolargl": [
           {
            "marker": {
             "colorbar": {
              "outlinewidth": 0,
              "ticks": ""
             }
            },
            "type": "scatterpolargl"
           }
          ],
          "scatterternary": [
           {
            "marker": {
             "colorbar": {
              "outlinewidth": 0,
              "ticks": ""
             }
            },
            "type": "scatterternary"
           }
          ],
          "surface": [
           {
            "colorbar": {
             "outlinewidth": 0,
             "ticks": ""
            },
            "colorscale": [
             [
              0,
              "#0d0887"
             ],
             [
              0.1111111111111111,
              "#46039f"
             ],
             [
              0.2222222222222222,
              "#7201a8"
             ],
             [
              0.3333333333333333,
              "#9c179e"
             ],
             [
              0.4444444444444444,
              "#bd3786"
             ],
             [
              0.5555555555555556,
              "#d8576b"
             ],
             [
              0.6666666666666666,
              "#ed7953"
             ],
             [
              0.7777777777777778,
              "#fb9f3a"
             ],
             [
              0.8888888888888888,
              "#fdca26"
             ],
             [
              1,
              "#f0f921"
             ]
            ],
            "type": "surface"
           }
          ],
          "table": [
           {
            "cells": {
             "fill": {
              "color": "#EBF0F8"
             },
             "line": {
              "color": "white"
             }
            },
            "header": {
             "fill": {
              "color": "#C8D4E3"
             },
             "line": {
              "color": "white"
             }
            },
            "type": "table"
           }
          ]
         },
         "layout": {
          "annotationdefaults": {
           "arrowcolor": "#2a3f5f",
           "arrowhead": 0,
           "arrowwidth": 1
          },
          "autotypenumbers": "strict",
          "coloraxis": {
           "colorbar": {
            "outlinewidth": 0,
            "ticks": ""
           }
          },
          "colorscale": {
           "diverging": [
            [
             0,
             "#8e0152"
            ],
            [
             0.1,
             "#c51b7d"
            ],
            [
             0.2,
             "#de77ae"
            ],
            [
             0.3,
             "#f1b6da"
            ],
            [
             0.4,
             "#fde0ef"
            ],
            [
             0.5,
             "#f7f7f7"
            ],
            [
             0.6,
             "#e6f5d0"
            ],
            [
             0.7,
             "#b8e186"
            ],
            [
             0.8,
             "#7fbc41"
            ],
            [
             0.9,
             "#4d9221"
            ],
            [
             1,
             "#276419"
            ]
           ],
           "sequential": [
            [
             0,
             "#0d0887"
            ],
            [
             0.1111111111111111,
             "#46039f"
            ],
            [
             0.2222222222222222,
             "#7201a8"
            ],
            [
             0.3333333333333333,
             "#9c179e"
            ],
            [
             0.4444444444444444,
             "#bd3786"
            ],
            [
             0.5555555555555556,
             "#d8576b"
            ],
            [
             0.6666666666666666,
             "#ed7953"
            ],
            [
             0.7777777777777778,
             "#fb9f3a"
            ],
            [
             0.8888888888888888,
             "#fdca26"
            ],
            [
             1,
             "#f0f921"
            ]
           ],
           "sequentialminus": [
            [
             0,
             "#0d0887"
            ],
            [
             0.1111111111111111,
             "#46039f"
            ],
            [
             0.2222222222222222,
             "#7201a8"
            ],
            [
             0.3333333333333333,
             "#9c179e"
            ],
            [
             0.4444444444444444,
             "#bd3786"
            ],
            [
             0.5555555555555556,
             "#d8576b"
            ],
            [
             0.6666666666666666,
             "#ed7953"
            ],
            [
             0.7777777777777778,
             "#fb9f3a"
            ],
            [
             0.8888888888888888,
             "#fdca26"
            ],
            [
             1,
             "#f0f921"
            ]
           ]
          },
          "colorway": [
           "#636efa",
           "#EF553B",
           "#00cc96",
           "#ab63fa",
           "#FFA15A",
           "#19d3f3",
           "#FF6692",
           "#B6E880",
           "#FF97FF",
           "#FECB52"
          ],
          "font": {
           "color": "#2a3f5f"
          },
          "geo": {
           "bgcolor": "white",
           "lakecolor": "white",
           "landcolor": "#E5ECF6",
           "showlakes": true,
           "showland": true,
           "subunitcolor": "white"
          },
          "hoverlabel": {
           "align": "left"
          },
          "hovermode": "closest",
          "mapbox": {
           "style": "light"
          },
          "paper_bgcolor": "white",
          "plot_bgcolor": "#E5ECF6",
          "polar": {
           "angularaxis": {
            "gridcolor": "white",
            "linecolor": "white",
            "ticks": ""
           },
           "bgcolor": "#E5ECF6",
           "radialaxis": {
            "gridcolor": "white",
            "linecolor": "white",
            "ticks": ""
           }
          },
          "scene": {
           "xaxis": {
            "backgroundcolor": "#E5ECF6",
            "gridcolor": "white",
            "gridwidth": 2,
            "linecolor": "white",
            "showbackground": true,
            "ticks": "",
            "zerolinecolor": "white"
           },
           "yaxis": {
            "backgroundcolor": "#E5ECF6",
            "gridcolor": "white",
            "gridwidth": 2,
            "linecolor": "white",
            "showbackground": true,
            "ticks": "",
            "zerolinecolor": "white"
           },
           "zaxis": {
            "backgroundcolor": "#E5ECF6",
            "gridcolor": "white",
            "gridwidth": 2,
            "linecolor": "white",
            "showbackground": true,
            "ticks": "",
            "zerolinecolor": "white"
           }
          },
          "shapedefaults": {
           "line": {
            "color": "#2a3f5f"
           }
          },
          "ternary": {
           "aaxis": {
            "gridcolor": "white",
            "linecolor": "white",
            "ticks": ""
           },
           "baxis": {
            "gridcolor": "white",
            "linecolor": "white",
            "ticks": ""
           },
           "bgcolor": "#E5ECF6",
           "caxis": {
            "gridcolor": "white",
            "linecolor": "white",
            "ticks": ""
           }
          },
          "title": {
           "x": 0.05
          },
          "xaxis": {
           "automargin": true,
           "gridcolor": "white",
           "linecolor": "white",
           "ticks": "",
           "title": {
            "standoff": 15
           },
           "zerolinecolor": "white",
           "zerolinewidth": 2
          },
          "yaxis": {
           "automargin": true,
           "gridcolor": "white",
           "linecolor": "white",
           "ticks": "",
           "title": {
            "standoff": 15
           },
           "zerolinecolor": "white",
           "zerolinewidth": 2
          }
         }
        },
        "title": {
         "text": "Répartition des styles de véhicule selon le type de transmission"
        },
        "width": 900
       }
      },
      "text/html": [
       "<div>            <script src=\"https://cdnjs.cloudflare.com/ajax/libs/mathjax/2.7.5/MathJax.js?config=TeX-AMS-MML_SVG\"></script><script type=\"text/javascript\">if (window.MathJax && window.MathJax.Hub && window.MathJax.Hub.Config) {window.MathJax.Hub.Config({SVG: {font: \"STIX-Web\"}});}</script>                <script type=\"text/javascript\">window.PlotlyConfig = {MathJaxConfig: 'local'};</script>\n",
       "        <script charset=\"utf-8\" src=\"https://cdn.plot.ly/plotly-3.0.1.min.js\"></script>                <div id=\"4587d7fb-ee75-445b-9b8d-6dce9fa7aea2\" class=\"plotly-graph-div\" style=\"height:700px; width:900px;\"></div>            <script type=\"text/javascript\">                window.PLOTLYENV=window.PLOTLYENV || {};                                if (document.getElementById(\"4587d7fb-ee75-445b-9b8d-6dce9fa7aea2\")) {                    Plotly.newPlot(                        \"4587d7fb-ee75-445b-9b8d-6dce9fa7aea2\",                        [{\"branchvalues\":\"total\",\"domain\":{\"x\":[0.0,1.0],\"y\":[0.0,1.0]},\"hovertemplate\":\"labels=%{label}\\u003cbr\\u003eNombre de v\\u00e9hicules=%{value}\\u003cbr\\u003eparent=%{parent}\\u003cbr\\u003eid=%{id}\\u003cextra\\u003e\\u003c\\u002fextra\\u003e\",\"ids\":[\"AUTOMATED_MANUAL\\u002f2dr Hatchback\",\"AUTOMATED_MANUAL\\u002f4dr Hatchback\",\"AUTOMATED_MANUAL\\u002f4dr SUV\",\"AUTOMATED_MANUAL\\u002fConvertible\",\"AUTOMATED_MANUAL\\u002fCoupe\",\"AUTOMATED_MANUAL\\u002fSedan\",\"AUTOMATED_MANUAL\\u002fWagon\",\"AUTOMATIC\\u002f2dr Hatchback\",\"AUTOMATIC\\u002f2dr SUV\",\"AUTOMATIC\\u002f4dr Hatchback\",\"AUTOMATIC\\u002f4dr SUV\",\"AUTOMATIC\\u002fCargo Minivan\",\"AUTOMATIC\\u002fCargo Van\",\"AUTOMATIC\\u002fConvertible\",\"AUTOMATIC\\u002fConvertible SUV\",\"AUTOMATIC\\u002fCoupe\",\"AUTOMATIC\\u002fCrew Cab Pickup\",\"AUTOMATIC\\u002fExtended Cab Pickup\",\"AUTOMATIC\\u002fPassenger Minivan\",\"AUTOMATIC\\u002fPassenger Van\",\"AUTOMATIC\\u002fRegular Cab Pickup\",\"AUTOMATIC\\u002fSedan\",\"AUTOMATIC\\u002fWagon\",\"DIRECT_DRIVE\\u002f2dr Hatchback\",\"DIRECT_DRIVE\\u002f4dr Hatchback\",\"DIRECT_DRIVE\\u002f4dr SUV\",\"DIRECT_DRIVE\\u002fSedan\",\"DIRECT_DRIVE\\u002fWagon\",\"MANUAL\\u002f2dr Hatchback\",\"MANUAL\\u002f2dr SUV\",\"MANUAL\\u002f4dr Hatchback\",\"MANUAL\\u002f4dr SUV\",\"MANUAL\\u002fConvertible\",\"MANUAL\\u002fConvertible SUV\",\"MANUAL\\u002fCoupe\",\"MANUAL\\u002fCrew Cab Pickup\",\"MANUAL\\u002fExtended Cab Pickup\",\"MANUAL\\u002fPassenger Minivan\",\"MANUAL\\u002fRegular Cab Pickup\",\"MANUAL\\u002fSedan\",\"MANUAL\\u002fWagon\",\"AUTOMATED_MANUAL\",\"AUTOMATIC\",\"DIRECT_DRIVE\",\"MANUAL\"],\"insidetextorientation\":\"radial\",\"labels\":[\"2dr Hatchback\",\"4dr Hatchback\",\"4dr SUV\",\"Convertible\",\"Coupe\",\"Sedan\",\"Wagon\",\"2dr Hatchback\",\"2dr SUV\",\"4dr Hatchback\",\"4dr SUV\",\"Cargo Minivan\",\"Cargo Van\",\"Convertible\",\"Convertible SUV\",\"Coupe\",\"Crew Cab Pickup\",\"Extended Cab Pickup\",\"Passenger Minivan\",\"Passenger Van\",\"Regular Cab Pickup\",\"Sedan\",\"Wagon\",\"2dr Hatchback\",\"4dr Hatchback\",\"4dr SUV\",\"Sedan\",\"Wagon\",\"2dr Hatchback\",\"2dr SUV\",\"4dr Hatchback\",\"4dr SUV\",\"Convertible\",\"Convertible SUV\",\"Coupe\",\"Crew Cab Pickup\",\"Extended Cab Pickup\",\"Passenger Minivan\",\"Regular Cab Pickup\",\"Sedan\",\"Wagon\",\"AUTOMATED_MANUAL\",\"AUTOMATIC\",\"DIRECT_DRIVE\",\"MANUAL\"],\"name\":\"\",\"parents\":[\"AUTOMATED_MANUAL\",\"AUTOMATED_MANUAL\",\"AUTOMATED_MANUAL\",\"AUTOMATED_MANUAL\",\"AUTOMATED_MANUAL\",\"AUTOMATED_MANUAL\",\"AUTOMATED_MANUAL\",\"AUTOMATIC\",\"AUTOMATIC\",\"AUTOMATIC\",\"AUTOMATIC\",\"AUTOMATIC\",\"AUTOMATIC\",\"AUTOMATIC\",\"AUTOMATIC\",\"AUTOMATIC\",\"AUTOMATIC\",\"AUTOMATIC\",\"AUTOMATIC\",\"AUTOMATIC\",\"AUTOMATIC\",\"AUTOMATIC\",\"AUTOMATIC\",\"DIRECT_DRIVE\",\"DIRECT_DRIVE\",\"DIRECT_DRIVE\",\"DIRECT_DRIVE\",\"DIRECT_DRIVE\",\"MANUAL\",\"MANUAL\",\"MANUAL\",\"MANUAL\",\"MANUAL\",\"MANUAL\",\"MANUAL\",\"MANUAL\",\"MANUAL\",\"MANUAL\",\"MANUAL\",\"MANUAL\",\"MANUAL\",\"\",\"\",\"\",\"\"],\"textinfo\":\"label+percent entry\",\"values\":{\"dtype\":\"f8\",\"bdata\":\"AAAAAACATEAAAAAAAABLQAAAAAAAADpAAAAAAADgYEAAAAAAAMBfQAAAAAAAIGpAAAAAAAAAMkAAAAAAAEBfQAAAAAAAAEZAAAAAAAAAdkAAAAAAAGKiQAAAAAAAwFFAAAAAAADAV0AAAAAAAAB1QAAAAAAAACBAAAAAAABgf0AAAAAAABiEQAAAAAAA4HZAAAAAAAAgeUAAAAAAAABgQAAAAAAA4GNAAAAAAACSoUAAAAAAABB7QAAAAAAAAAhAAAAAAACAQkAAAAAAAAAIQAAAAAAAADRAAAAAAAAAFEAAAAAAAPBzQAAAAAAAgFZAAAAAAAAwcEAAAAAAAIBaQAAAAAAAAHRAAAAAAAAANUAAAAAAACCCQAAAAAAAAENAAAAAAAAQcEAAAAAAAAAuQAAAAAAAIGxAAAAAAADIgUAAAAAAAABhQAAAAAAAkINAAAAAAAAlwEAAAAAAAABRQAAAAAAA7qZA\"},\"type\":\"sunburst\"}],                        {\"font\":{\"size\":14},\"height\":700,\"legend\":{\"tracegroupgap\":0},\"template\":{\"data\":{\"barpolar\":[{\"marker\":{\"line\":{\"color\":\"#E5ECF6\",\"width\":0.5},\"pattern\":{\"fillmode\":\"overlay\",\"size\":10,\"solidity\":0.2}},\"type\":\"barpolar\"}],\"bar\":[{\"error_x\":{\"color\":\"#2a3f5f\"},\"error_y\":{\"color\":\"#2a3f5f\"},\"marker\":{\"line\":{\"color\":\"#E5ECF6\",\"width\":0.5},\"pattern\":{\"fillmode\":\"overlay\",\"size\":10,\"solidity\":0.2}},\"type\":\"bar\"}],\"carpet\":[{\"aaxis\":{\"endlinecolor\":\"#2a3f5f\",\"gridcolor\":\"white\",\"linecolor\":\"white\",\"minorgridcolor\":\"white\",\"startlinecolor\":\"#2a3f5f\"},\"baxis\":{\"endlinecolor\":\"#2a3f5f\",\"gridcolor\":\"white\",\"linecolor\":\"white\",\"minorgridcolor\":\"white\",\"startlinecolor\":\"#2a3f5f\"},\"type\":\"carpet\"}],\"choropleth\":[{\"colorbar\":{\"outlinewidth\":0,\"ticks\":\"\"},\"type\":\"choropleth\"}],\"contourcarpet\":[{\"colorbar\":{\"outlinewidth\":0,\"ticks\":\"\"},\"type\":\"contourcarpet\"}],\"contour\":[{\"colorbar\":{\"outlinewidth\":0,\"ticks\":\"\"},\"colorscale\":[[0.0,\"#0d0887\"],[0.1111111111111111,\"#46039f\"],[0.2222222222222222,\"#7201a8\"],[0.3333333333333333,\"#9c179e\"],[0.4444444444444444,\"#bd3786\"],[0.5555555555555556,\"#d8576b\"],[0.6666666666666666,\"#ed7953\"],[0.7777777777777778,\"#fb9f3a\"],[0.8888888888888888,\"#fdca26\"],[1.0,\"#f0f921\"]],\"type\":\"contour\"}],\"heatmap\":[{\"colorbar\":{\"outlinewidth\":0,\"ticks\":\"\"},\"colorscale\":[[0.0,\"#0d0887\"],[0.1111111111111111,\"#46039f\"],[0.2222222222222222,\"#7201a8\"],[0.3333333333333333,\"#9c179e\"],[0.4444444444444444,\"#bd3786\"],[0.5555555555555556,\"#d8576b\"],[0.6666666666666666,\"#ed7953\"],[0.7777777777777778,\"#fb9f3a\"],[0.8888888888888888,\"#fdca26\"],[1.0,\"#f0f921\"]],\"type\":\"heatmap\"}],\"histogram2dcontour\":[{\"colorbar\":{\"outlinewidth\":0,\"ticks\":\"\"},\"colorscale\":[[0.0,\"#0d0887\"],[0.1111111111111111,\"#46039f\"],[0.2222222222222222,\"#7201a8\"],[0.3333333333333333,\"#9c179e\"],[0.4444444444444444,\"#bd3786\"],[0.5555555555555556,\"#d8576b\"],[0.6666666666666666,\"#ed7953\"],[0.7777777777777778,\"#fb9f3a\"],[0.8888888888888888,\"#fdca26\"],[1.0,\"#f0f921\"]],\"type\":\"histogram2dcontour\"}],\"histogram2d\":[{\"colorbar\":{\"outlinewidth\":0,\"ticks\":\"\"},\"colorscale\":[[0.0,\"#0d0887\"],[0.1111111111111111,\"#46039f\"],[0.2222222222222222,\"#7201a8\"],[0.3333333333333333,\"#9c179e\"],[0.4444444444444444,\"#bd3786\"],[0.5555555555555556,\"#d8576b\"],[0.6666666666666666,\"#ed7953\"],[0.7777777777777778,\"#fb9f3a\"],[0.8888888888888888,\"#fdca26\"],[1.0,\"#f0f921\"]],\"type\":\"histogram2d\"}],\"histogram\":[{\"marker\":{\"pattern\":{\"fillmode\":\"overlay\",\"size\":10,\"solidity\":0.2}},\"type\":\"histogram\"}],\"mesh3d\":[{\"colorbar\":{\"outlinewidth\":0,\"ticks\":\"\"},\"type\":\"mesh3d\"}],\"parcoords\":[{\"line\":{\"colorbar\":{\"outlinewidth\":0,\"ticks\":\"\"}},\"type\":\"parcoords\"}],\"pie\":[{\"automargin\":true,\"type\":\"pie\"}],\"scatter3d\":[{\"line\":{\"colorbar\":{\"outlinewidth\":0,\"ticks\":\"\"}},\"marker\":{\"colorbar\":{\"outlinewidth\":0,\"ticks\":\"\"}},\"type\":\"scatter3d\"}],\"scattercarpet\":[{\"marker\":{\"colorbar\":{\"outlinewidth\":0,\"ticks\":\"\"}},\"type\":\"scattercarpet\"}],\"scattergeo\":[{\"marker\":{\"colorbar\":{\"outlinewidth\":0,\"ticks\":\"\"}},\"type\":\"scattergeo\"}],\"scattergl\":[{\"marker\":{\"colorbar\":{\"outlinewidth\":0,\"ticks\":\"\"}},\"type\":\"scattergl\"}],\"scattermapbox\":[{\"marker\":{\"colorbar\":{\"outlinewidth\":0,\"ticks\":\"\"}},\"type\":\"scattermapbox\"}],\"scattermap\":[{\"marker\":{\"colorbar\":{\"outlinewidth\":0,\"ticks\":\"\"}},\"type\":\"scattermap\"}],\"scatterpolargl\":[{\"marker\":{\"colorbar\":{\"outlinewidth\":0,\"ticks\":\"\"}},\"type\":\"scatterpolargl\"}],\"scatterpolar\":[{\"marker\":{\"colorbar\":{\"outlinewidth\":0,\"ticks\":\"\"}},\"type\":\"scatterpolar\"}],\"scatter\":[{\"fillpattern\":{\"fillmode\":\"overlay\",\"size\":10,\"solidity\":0.2},\"type\":\"scatter\"}],\"scatterternary\":[{\"marker\":{\"colorbar\":{\"outlinewidth\":0,\"ticks\":\"\"}},\"type\":\"scatterternary\"}],\"surface\":[{\"colorbar\":{\"outlinewidth\":0,\"ticks\":\"\"},\"colorscale\":[[0.0,\"#0d0887\"],[0.1111111111111111,\"#46039f\"],[0.2222222222222222,\"#7201a8\"],[0.3333333333333333,\"#9c179e\"],[0.4444444444444444,\"#bd3786\"],[0.5555555555555556,\"#d8576b\"],[0.6666666666666666,\"#ed7953\"],[0.7777777777777778,\"#fb9f3a\"],[0.8888888888888888,\"#fdca26\"],[1.0,\"#f0f921\"]],\"type\":\"surface\"}],\"table\":[{\"cells\":{\"fill\":{\"color\":\"#EBF0F8\"},\"line\":{\"color\":\"white\"}},\"header\":{\"fill\":{\"color\":\"#C8D4E3\"},\"line\":{\"color\":\"white\"}},\"type\":\"table\"}]},\"layout\":{\"annotationdefaults\":{\"arrowcolor\":\"#2a3f5f\",\"arrowhead\":0,\"arrowwidth\":1},\"autotypenumbers\":\"strict\",\"coloraxis\":{\"colorbar\":{\"outlinewidth\":0,\"ticks\":\"\"}},\"colorscale\":{\"diverging\":[[0,\"#8e0152\"],[0.1,\"#c51b7d\"],[0.2,\"#de77ae\"],[0.3,\"#f1b6da\"],[0.4,\"#fde0ef\"],[0.5,\"#f7f7f7\"],[0.6,\"#e6f5d0\"],[0.7,\"#b8e186\"],[0.8,\"#7fbc41\"],[0.9,\"#4d9221\"],[1,\"#276419\"]],\"sequential\":[[0.0,\"#0d0887\"],[0.1111111111111111,\"#46039f\"],[0.2222222222222222,\"#7201a8\"],[0.3333333333333333,\"#9c179e\"],[0.4444444444444444,\"#bd3786\"],[0.5555555555555556,\"#d8576b\"],[0.6666666666666666,\"#ed7953\"],[0.7777777777777778,\"#fb9f3a\"],[0.8888888888888888,\"#fdca26\"],[1.0,\"#f0f921\"]],\"sequentialminus\":[[0.0,\"#0d0887\"],[0.1111111111111111,\"#46039f\"],[0.2222222222222222,\"#7201a8\"],[0.3333333333333333,\"#9c179e\"],[0.4444444444444444,\"#bd3786\"],[0.5555555555555556,\"#d8576b\"],[0.6666666666666666,\"#ed7953\"],[0.7777777777777778,\"#fb9f3a\"],[0.8888888888888888,\"#fdca26\"],[1.0,\"#f0f921\"]]},\"colorway\":[\"#636efa\",\"#EF553B\",\"#00cc96\",\"#ab63fa\",\"#FFA15A\",\"#19d3f3\",\"#FF6692\",\"#B6E880\",\"#FF97FF\",\"#FECB52\"],\"font\":{\"color\":\"#2a3f5f\"},\"geo\":{\"bgcolor\":\"white\",\"lakecolor\":\"white\",\"landcolor\":\"#E5ECF6\",\"showlakes\":true,\"showland\":true,\"subunitcolor\":\"white\"},\"hoverlabel\":{\"align\":\"left\"},\"hovermode\":\"closest\",\"mapbox\":{\"style\":\"light\"},\"paper_bgcolor\":\"white\",\"plot_bgcolor\":\"#E5ECF6\",\"polar\":{\"angularaxis\":{\"gridcolor\":\"white\",\"linecolor\":\"white\",\"ticks\":\"\"},\"bgcolor\":\"#E5ECF6\",\"radialaxis\":{\"gridcolor\":\"white\",\"linecolor\":\"white\",\"ticks\":\"\"}},\"scene\":{\"xaxis\":{\"backgroundcolor\":\"#E5ECF6\",\"gridcolor\":\"white\",\"gridwidth\":2,\"linecolor\":\"white\",\"showbackground\":true,\"ticks\":\"\",\"zerolinecolor\":\"white\"},\"yaxis\":{\"backgroundcolor\":\"#E5ECF6\",\"gridcolor\":\"white\",\"gridwidth\":2,\"linecolor\":\"white\",\"showbackground\":true,\"ticks\":\"\",\"zerolinecolor\":\"white\"},\"zaxis\":{\"backgroundcolor\":\"#E5ECF6\",\"gridcolor\":\"white\",\"gridwidth\":2,\"linecolor\":\"white\",\"showbackground\":true,\"ticks\":\"\",\"zerolinecolor\":\"white\"}},\"shapedefaults\":{\"line\":{\"color\":\"#2a3f5f\"}},\"ternary\":{\"aaxis\":{\"gridcolor\":\"white\",\"linecolor\":\"white\",\"ticks\":\"\"},\"baxis\":{\"gridcolor\":\"white\",\"linecolor\":\"white\",\"ticks\":\"\"},\"bgcolor\":\"#E5ECF6\",\"caxis\":{\"gridcolor\":\"white\",\"linecolor\":\"white\",\"ticks\":\"\"}},\"title\":{\"x\":0.05},\"xaxis\":{\"automargin\":true,\"gridcolor\":\"white\",\"linecolor\":\"white\",\"ticks\":\"\",\"title\":{\"standoff\":15},\"zerolinecolor\":\"white\",\"zerolinewidth\":2},\"yaxis\":{\"automargin\":true,\"gridcolor\":\"white\",\"linecolor\":\"white\",\"ticks\":\"\",\"title\":{\"standoff\":15},\"zerolinecolor\":\"white\",\"zerolinewidth\":2}}},\"title\":{\"text\":\"R\\u00e9partition des styles de v\\u00e9hicule selon le type de transmission\"},\"width\":900},                        {\"responsive\": true}                    ).then(function(){\n",
       "                            \n",
       "var gd = document.getElementById('4587d7fb-ee75-445b-9b8d-6dce9fa7aea2');\n",
       "var x = new MutationObserver(function (mutations, observer) {{\n",
       "        var display = window.getComputedStyle(gd).display;\n",
       "        if (!display || display === 'none') {{\n",
       "            console.log([gd, 'removed!']);\n",
       "            Plotly.purge(gd);\n",
       "            observer.disconnect();\n",
       "        }}\n",
       "}});\n",
       "\n",
       "// Listen for the removal of the full notebook cells\n",
       "var notebookContainer = gd.closest('#notebook-container');\n",
       "if (notebookContainer) {{\n",
       "    x.observe(notebookContainer, {childList: true});\n",
       "}}\n",
       "\n",
       "// Listen for the clearing of the current output cell\n",
       "var outputEl = gd.closest('.output');\n",
       "if (outputEl) {{\n",
       "    x.observe(outputEl, {childList: true});\n",
       "}}\n",
       "\n",
       "                        })                };            </script>        </div>"
      ]
     },
     "metadata": {},
     "output_type": "display_data"
    }
   ],
   "source": [
    "# Préparation des données\n",
    "df_clean = df[['transmission', 'style']].dropna()\n",
    "df_clean = df_clean[df_clean['transmission'] != 'UNKNOWN']\n",
    "\n",
    "# Agrégation par transmission et style\n",
    "style_trans = df_clean.groupby(['transmission', 'style']).size().reset_index(name='Nombre de véhicules')\n",
    "\n",
    "# Création du graphique sunburst\n",
    "fig = px.sunburst(\n",
    "    style_trans,\n",
    "    path=['transmission', 'style'],\n",
    "    values='Nombre de véhicules',\n",
    "    title=\"Répartition des styles de véhicule selon le type de transmission\"\n",
    ")\n",
    "\n",
    "# Affichage du pourcentage et étiquettes\n",
    "fig.update_traces(\n",
    "    textinfo='label+percent entry',\n",
    "    insidetextorientation='radial'\n",
    ")\n",
    "\n",
    "# Taille du graphique\n",
    "fig.update_layout(\n",
    "    font=dict(size=14),\n",
    "    width=900,\n",
    "    height=700\n",
    ")\n",
    "\n",
    "# Affichage dans VS Code\n",
    "pyo.iplot(fig)\n"
   ]
  },
  {
   "cell_type": "code",
   "execution_count": 299,
   "id": "bad41e16",
   "metadata": {},
   "outputs": [
    {
     "name": "stderr",
     "output_type": "stream",
     "text": [
      "C:\\Users\\jerem\\AppData\\Local\\Temp\\ipykernel_19480\\1954858973.py:18: FutureWarning:\n",
      "\n",
      "The default of observed=False is deprecated and will be changed to True in a future version of pandas. Pass observed=False to retain current behavior or observed=True to adopt the future default and silence this warning.\n",
      "\n"
     ]
    },
    {
     "data": {
      "application/vnd.plotly.v1+json": {
       "config": {
        "plotlyServerURL": "https://plot.ly"
       },
       "data": [
        {
         "error_y": {
          "array": {
           "bdata": "Z21OqgcCFEAAAAAAAAD4fwAAAAAAAPh/AAAAAAAA+H8AAAAAAAD4fw==",
           "dtype": "f8"
          }
         },
         "hovertemplate": "Nombre de cylindres=3<br>Type de puissance moteur=%{x}<br>Consommation moyenne (MPG)=%{y}<extra></extra>",
         "legendgroup": "3",
         "line": {
          "color": "#636efa",
          "dash": "solid"
         },
         "marker": {
          "symbol": "circle"
         },
         "mode": "lines+markers",
         "name": "3",
         "orientation": "v",
         "showlegend": true,
         "type": "scatter",
         "x": [
          "Très faible",
          "Faible",
          "Moyenne",
          "Élevée",
          "Très élevée"
         ],
         "xaxis": "x",
         "y": {
          "bdata": "zczMzMysQUAAAAAAAAD4fwAAAAAAAPh/AAAAAAAA+H8AAAAAAAD4fw==",
          "dtype": "f8"
         },
         "yaxis": "y"
        },
        {
         "error_y": {
          "array": {
           "bdata": "8liEL4+hF0CjXkoA8LgSQB9GmxEdFhlAt9DwvLbaAkAEFVB5UaD9Pw==",
           "dtype": "f8"
          }
         },
         "hovertemplate": "Nombre de cylindres=4<br>Type de puissance moteur=%{x}<br>Consommation moyenne (MPG)=%{y}<extra></extra>",
         "legendgroup": "4",
         "line": {
          "color": "#EF553B",
          "dash": "solid"
         },
         "marker": {
          "symbol": "circle"
         },
         "mode": "lines+markers",
         "name": "4",
         "orientation": "v",
         "showlegend": true,
         "type": "scatter",
         "x": [
          "Très faible",
          "Faible",
          "Moyenne",
          "Élevée",
          "Très élevée"
         ],
         "xaxis": "x",
         "y": {
          "bdata": "e+EOI/OkPEDwuSVO/Z47QH+6a3+6azpAWmzjp8U2OEAAAAAAAEA5QA==",
          "dtype": "f8"
         },
         "yaxis": "y"
        },
        {
         "error_y": {
          "array": {
           "bdata": "gRTIvIPg9z8vawDiDngHQJXdLP7AiAdAAAAAAAAA+H8AAAAAAAAAAA==",
           "dtype": "f8"
          }
         },
         "hovertemplate": "Nombre de cylindres=5<br>Type de puissance moteur=%{x}<br>Consommation moyenne (MPG)=%{y}<extra></extra>",
         "legendgroup": "5",
         "line": {
          "color": "#00cc96",
          "dash": "solid"
         },
         "marker": {
          "symbol": "circle"
         },
         "mode": "lines+markers",
         "name": "5",
         "orientation": "v",
         "showlegend": true,
         "type": "scatter",
         "x": [
          "Très faible",
          "Faible",
          "Moyenne",
          "Élevée",
          "Très élevée"
         ],
         "xaxis": "x",
         "y": {
          "bdata": "7MRO7MTON0AYhmEYhuE3QIoXyKR4gTVAAAAAAAAA+H8AAAAAAIA1QA==",
          "dtype": "f8"
         },
         "yaxis": "y"
        },
        {
         "error_y": {
          "array": {
           "bdata": "sQ63PifBAkAEz/U9Ql0DQOUQpGGTZwZAh1dN47QGBEAvqWdLWfoEQA==",
           "dtype": "f8"
          }
         },
         "hovertemplate": "Nombre de cylindres=6<br>Type de puissance moteur=%{x}<br>Consommation moyenne (MPG)=%{y}<extra></extra>",
         "legendgroup": "6",
         "line": {
          "color": "#ab63fa",
          "dash": "solid"
         },
         "marker": {
          "symbol": "circle"
         },
         "mode": "lines+markers",
         "name": "6",
         "orientation": "v",
         "showlegend": true,
         "type": "scatter",
         "x": [
          "Très faible",
          "Faible",
          "Moyenne",
          "Élevée",
          "Très élevée"
         ],
         "xaxis": "x",
         "y": {
          "bdata": "8bcpRg2/MkC7173udX8yQO5WCd0Z5DNABpOmfbtjNUBu27Zt27Y1QA==",
          "dtype": "f8"
         },
         "yaxis": "y"
        },
        {
         "error_y": {
          "array": {
           "bdata": "lK6LjdEMA0CYU/NNy1sFQCZ3VUx1fgBA+oZkJhf3/z/+QPGFIYIDQA==",
           "dtype": "f8"
          }
         },
         "hovertemplate": "Nombre de cylindres=8<br>Type de puissance moteur=%{x}<br>Consommation moyenne (MPG)=%{y}<extra></extra>",
         "legendgroup": "8",
         "line": {
          "color": "#FFA15A",
          "dash": "solid"
         },
         "marker": {
          "symbol": "circle"
         },
         "mode": "lines+markers",
         "name": "8",
         "orientation": "v",
         "showlegend": true,
         "type": "scatter",
         "x": [
          "Très faible",
          "Faible",
          "Moyenne",
          "Élevée",
          "Très élevée"
         ],
         "xaxis": "x",
         "y": {
          "bdata": "ZmZmZmaGMUB00UUXXXQsQOXLBk2+7C1AMMSK0vhoMEAcS+P6xtIxQA==",
          "dtype": "f8"
         },
         "yaxis": "y"
        },
        {
         "error_y": {
          "array": {
           "bdata": "AAAAAAAA+H8AAAAAAAD4fwAAAAAAAPh/AAAAAAAA+H/ZKanApbDxPw==",
           "dtype": "f8"
          }
         },
         "hovertemplate": "Nombre de cylindres=10<br>Type de puissance moteur=%{x}<br>Consommation moyenne (MPG)=%{y}<extra></extra>",
         "legendgroup": "10",
         "line": {
          "color": "#19d3f3",
          "dash": "solid"
         },
         "marker": {
          "symbol": "circle"
         },
         "mode": "lines+markers",
         "name": "10",
         "orientation": "v",
         "showlegend": true,
         "type": "scatter",
         "x": [
          "Très faible",
          "Faible",
          "Moyenne",
          "Élevée",
          "Très élevée"
         ],
         "xaxis": "x",
         "y": {
          "bdata": "AAAAAAAA+H8AAAAAAAD4fwAAAAAAAPh/AAAAAACAMUCRHqic3UIwQA==",
          "dtype": "f8"
         },
         "yaxis": "y"
        },
        {
         "error_y": {
          "array": {
           "bdata": "AAAAAAAA+H8AAAAAAAD4fwAAAAAAAPh/AAAAAAAA+H8GWRUFzDD9Pw==",
           "dtype": "f8"
          }
         },
         "hovertemplate": "Nombre de cylindres=12<br>Type de puissance moteur=%{x}<br>Consommation moyenne (MPG)=%{y}<extra></extra>",
         "legendgroup": "12",
         "line": {
          "color": "#FF6692",
          "dash": "solid"
         },
         "marker": {
          "symbol": "circle"
         },
         "mode": "lines+markers",
         "name": "12",
         "orientation": "v",
         "showlegend": true,
         "type": "scatter",
         "x": [
          "Très faible",
          "Faible",
          "Moyenne",
          "Élevée",
          "Très élevée"
         ],
         "xaxis": "x",
         "y": {
          "bdata": "AAAAAAAA+H8AAAAAAAD4fwAAAAAAAPh/AAAAAAAA+H84velNb/osQA==",
          "dtype": "f8"
         },
         "yaxis": "y"
        },
        {
         "error_y": {
          "array": {
           "bdata": "AAAAAAAA+H8AAAAAAAD4fwAAAAAAAPh/AAAAAAAA+H8AAAAAAAAAAA==",
           "dtype": "f8"
          }
         },
         "hovertemplate": "Nombre de cylindres=16<br>Type de puissance moteur=%{x}<br>Consommation moyenne (MPG)=%{y}<extra></extra>",
         "legendgroup": "16",
         "line": {
          "color": "#B6E880",
          "dash": "solid"
         },
         "marker": {
          "symbol": "circle"
         },
         "mode": "lines+markers",
         "name": "16",
         "orientation": "v",
         "showlegend": true,
         "type": "scatter",
         "x": [
          "Très faible",
          "Faible",
          "Moyenne",
          "Élevée",
          "Très élevée"
         ],
         "xaxis": "x",
         "y": {
          "bdata": "AAAAAAAA+H8AAAAAAAD4fwAAAAAAAPh/AAAAAAAA+H8AAAAAAAAmQA==",
          "dtype": "f8"
         },
         "yaxis": "y"
        }
       ],
       "layout": {
        "legend": {
         "title": {
          "text": "Nb Cylindres"
         },
         "tracegroupgap": 0
        },
        "template": {
         "data": {
          "bar": [
           {
            "error_x": {
             "color": "#2a3f5f"
            },
            "error_y": {
             "color": "#2a3f5f"
            },
            "marker": {
             "line": {
              "color": "#E5ECF6",
              "width": 0.5
             },
             "pattern": {
              "fillmode": "overlay",
              "size": 10,
              "solidity": 0.2
             }
            },
            "type": "bar"
           }
          ],
          "barpolar": [
           {
            "marker": {
             "line": {
              "color": "#E5ECF6",
              "width": 0.5
             },
             "pattern": {
              "fillmode": "overlay",
              "size": 10,
              "solidity": 0.2
             }
            },
            "type": "barpolar"
           }
          ],
          "carpet": [
           {
            "aaxis": {
             "endlinecolor": "#2a3f5f",
             "gridcolor": "white",
             "linecolor": "white",
             "minorgridcolor": "white",
             "startlinecolor": "#2a3f5f"
            },
            "baxis": {
             "endlinecolor": "#2a3f5f",
             "gridcolor": "white",
             "linecolor": "white",
             "minorgridcolor": "white",
             "startlinecolor": "#2a3f5f"
            },
            "type": "carpet"
           }
          ],
          "choropleth": [
           {
            "colorbar": {
             "outlinewidth": 0,
             "ticks": ""
            },
            "type": "choropleth"
           }
          ],
          "contour": [
           {
            "colorbar": {
             "outlinewidth": 0,
             "ticks": ""
            },
            "colorscale": [
             [
              0,
              "#0d0887"
             ],
             [
              0.1111111111111111,
              "#46039f"
             ],
             [
              0.2222222222222222,
              "#7201a8"
             ],
             [
              0.3333333333333333,
              "#9c179e"
             ],
             [
              0.4444444444444444,
              "#bd3786"
             ],
             [
              0.5555555555555556,
              "#d8576b"
             ],
             [
              0.6666666666666666,
              "#ed7953"
             ],
             [
              0.7777777777777778,
              "#fb9f3a"
             ],
             [
              0.8888888888888888,
              "#fdca26"
             ],
             [
              1,
              "#f0f921"
             ]
            ],
            "type": "contour"
           }
          ],
          "contourcarpet": [
           {
            "colorbar": {
             "outlinewidth": 0,
             "ticks": ""
            },
            "type": "contourcarpet"
           }
          ],
          "heatmap": [
           {
            "colorbar": {
             "outlinewidth": 0,
             "ticks": ""
            },
            "colorscale": [
             [
              0,
              "#0d0887"
             ],
             [
              0.1111111111111111,
              "#46039f"
             ],
             [
              0.2222222222222222,
              "#7201a8"
             ],
             [
              0.3333333333333333,
              "#9c179e"
             ],
             [
              0.4444444444444444,
              "#bd3786"
             ],
             [
              0.5555555555555556,
              "#d8576b"
             ],
             [
              0.6666666666666666,
              "#ed7953"
             ],
             [
              0.7777777777777778,
              "#fb9f3a"
             ],
             [
              0.8888888888888888,
              "#fdca26"
             ],
             [
              1,
              "#f0f921"
             ]
            ],
            "type": "heatmap"
           }
          ],
          "histogram": [
           {
            "marker": {
             "pattern": {
              "fillmode": "overlay",
              "size": 10,
              "solidity": 0.2
             }
            },
            "type": "histogram"
           }
          ],
          "histogram2d": [
           {
            "colorbar": {
             "outlinewidth": 0,
             "ticks": ""
            },
            "colorscale": [
             [
              0,
              "#0d0887"
             ],
             [
              0.1111111111111111,
              "#46039f"
             ],
             [
              0.2222222222222222,
              "#7201a8"
             ],
             [
              0.3333333333333333,
              "#9c179e"
             ],
             [
              0.4444444444444444,
              "#bd3786"
             ],
             [
              0.5555555555555556,
              "#d8576b"
             ],
             [
              0.6666666666666666,
              "#ed7953"
             ],
             [
              0.7777777777777778,
              "#fb9f3a"
             ],
             [
              0.8888888888888888,
              "#fdca26"
             ],
             [
              1,
              "#f0f921"
             ]
            ],
            "type": "histogram2d"
           }
          ],
          "histogram2dcontour": [
           {
            "colorbar": {
             "outlinewidth": 0,
             "ticks": ""
            },
            "colorscale": [
             [
              0,
              "#0d0887"
             ],
             [
              0.1111111111111111,
              "#46039f"
             ],
             [
              0.2222222222222222,
              "#7201a8"
             ],
             [
              0.3333333333333333,
              "#9c179e"
             ],
             [
              0.4444444444444444,
              "#bd3786"
             ],
             [
              0.5555555555555556,
              "#d8576b"
             ],
             [
              0.6666666666666666,
              "#ed7953"
             ],
             [
              0.7777777777777778,
              "#fb9f3a"
             ],
             [
              0.8888888888888888,
              "#fdca26"
             ],
             [
              1,
              "#f0f921"
             ]
            ],
            "type": "histogram2dcontour"
           }
          ],
          "mesh3d": [
           {
            "colorbar": {
             "outlinewidth": 0,
             "ticks": ""
            },
            "type": "mesh3d"
           }
          ],
          "parcoords": [
           {
            "line": {
             "colorbar": {
              "outlinewidth": 0,
              "ticks": ""
             }
            },
            "type": "parcoords"
           }
          ],
          "pie": [
           {
            "automargin": true,
            "type": "pie"
           }
          ],
          "scatter": [
           {
            "fillpattern": {
             "fillmode": "overlay",
             "size": 10,
             "solidity": 0.2
            },
            "type": "scatter"
           }
          ],
          "scatter3d": [
           {
            "line": {
             "colorbar": {
              "outlinewidth": 0,
              "ticks": ""
             }
            },
            "marker": {
             "colorbar": {
              "outlinewidth": 0,
              "ticks": ""
             }
            },
            "type": "scatter3d"
           }
          ],
          "scattercarpet": [
           {
            "marker": {
             "colorbar": {
              "outlinewidth": 0,
              "ticks": ""
             }
            },
            "type": "scattercarpet"
           }
          ],
          "scattergeo": [
           {
            "marker": {
             "colorbar": {
              "outlinewidth": 0,
              "ticks": ""
             }
            },
            "type": "scattergeo"
           }
          ],
          "scattergl": [
           {
            "marker": {
             "colorbar": {
              "outlinewidth": 0,
              "ticks": ""
             }
            },
            "type": "scattergl"
           }
          ],
          "scattermap": [
           {
            "marker": {
             "colorbar": {
              "outlinewidth": 0,
              "ticks": ""
             }
            },
            "type": "scattermap"
           }
          ],
          "scattermapbox": [
           {
            "marker": {
             "colorbar": {
              "outlinewidth": 0,
              "ticks": ""
             }
            },
            "type": "scattermapbox"
           }
          ],
          "scatterpolar": [
           {
            "marker": {
             "colorbar": {
              "outlinewidth": 0,
              "ticks": ""
             }
            },
            "type": "scatterpolar"
           }
          ],
          "scatterpolargl": [
           {
            "marker": {
             "colorbar": {
              "outlinewidth": 0,
              "ticks": ""
             }
            },
            "type": "scatterpolargl"
           }
          ],
          "scatterternary": [
           {
            "marker": {
             "colorbar": {
              "outlinewidth": 0,
              "ticks": ""
             }
            },
            "type": "scatterternary"
           }
          ],
          "surface": [
           {
            "colorbar": {
             "outlinewidth": 0,
             "ticks": ""
            },
            "colorscale": [
             [
              0,
              "#0d0887"
             ],
             [
              0.1111111111111111,
              "#46039f"
             ],
             [
              0.2222222222222222,
              "#7201a8"
             ],
             [
              0.3333333333333333,
              "#9c179e"
             ],
             [
              0.4444444444444444,
              "#bd3786"
             ],
             [
              0.5555555555555556,
              "#d8576b"
             ],
             [
              0.6666666666666666,
              "#ed7953"
             ],
             [
              0.7777777777777778,
              "#fb9f3a"
             ],
             [
              0.8888888888888888,
              "#fdca26"
             ],
             [
              1,
              "#f0f921"
             ]
            ],
            "type": "surface"
           }
          ],
          "table": [
           {
            "cells": {
             "fill": {
              "color": "#EBF0F8"
             },
             "line": {
              "color": "white"
             }
            },
            "header": {
             "fill": {
              "color": "#C8D4E3"
             },
             "line": {
              "color": "white"
             }
            },
            "type": "table"
           }
          ]
         },
         "layout": {
          "annotationdefaults": {
           "arrowcolor": "#2a3f5f",
           "arrowhead": 0,
           "arrowwidth": 1
          },
          "autotypenumbers": "strict",
          "coloraxis": {
           "colorbar": {
            "outlinewidth": 0,
            "ticks": ""
           }
          },
          "colorscale": {
           "diverging": [
            [
             0,
             "#8e0152"
            ],
            [
             0.1,
             "#c51b7d"
            ],
            [
             0.2,
             "#de77ae"
            ],
            [
             0.3,
             "#f1b6da"
            ],
            [
             0.4,
             "#fde0ef"
            ],
            [
             0.5,
             "#f7f7f7"
            ],
            [
             0.6,
             "#e6f5d0"
            ],
            [
             0.7,
             "#b8e186"
            ],
            [
             0.8,
             "#7fbc41"
            ],
            [
             0.9,
             "#4d9221"
            ],
            [
             1,
             "#276419"
            ]
           ],
           "sequential": [
            [
             0,
             "#0d0887"
            ],
            [
             0.1111111111111111,
             "#46039f"
            ],
            [
             0.2222222222222222,
             "#7201a8"
            ],
            [
             0.3333333333333333,
             "#9c179e"
            ],
            [
             0.4444444444444444,
             "#bd3786"
            ],
            [
             0.5555555555555556,
             "#d8576b"
            ],
            [
             0.6666666666666666,
             "#ed7953"
            ],
            [
             0.7777777777777778,
             "#fb9f3a"
            ],
            [
             0.8888888888888888,
             "#fdca26"
            ],
            [
             1,
             "#f0f921"
            ]
           ],
           "sequentialminus": [
            [
             0,
             "#0d0887"
            ],
            [
             0.1111111111111111,
             "#46039f"
            ],
            [
             0.2222222222222222,
             "#7201a8"
            ],
            [
             0.3333333333333333,
             "#9c179e"
            ],
            [
             0.4444444444444444,
             "#bd3786"
            ],
            [
             0.5555555555555556,
             "#d8576b"
            ],
            [
             0.6666666666666666,
             "#ed7953"
            ],
            [
             0.7777777777777778,
             "#fb9f3a"
            ],
            [
             0.8888888888888888,
             "#fdca26"
            ],
            [
             1,
             "#f0f921"
            ]
           ]
          },
          "colorway": [
           "#636efa",
           "#EF553B",
           "#00cc96",
           "#ab63fa",
           "#FFA15A",
           "#19d3f3",
           "#FF6692",
           "#B6E880",
           "#FF97FF",
           "#FECB52"
          ],
          "font": {
           "color": "#2a3f5f"
          },
          "geo": {
           "bgcolor": "white",
           "lakecolor": "white",
           "landcolor": "#E5ECF6",
           "showlakes": true,
           "showland": true,
           "subunitcolor": "white"
          },
          "hoverlabel": {
           "align": "left"
          },
          "hovermode": "closest",
          "mapbox": {
           "style": "light"
          },
          "paper_bgcolor": "white",
          "plot_bgcolor": "#E5ECF6",
          "polar": {
           "angularaxis": {
            "gridcolor": "white",
            "linecolor": "white",
            "ticks": ""
           },
           "bgcolor": "#E5ECF6",
           "radialaxis": {
            "gridcolor": "white",
            "linecolor": "white",
            "ticks": ""
           }
          },
          "scene": {
           "xaxis": {
            "backgroundcolor": "#E5ECF6",
            "gridcolor": "white",
            "gridwidth": 2,
            "linecolor": "white",
            "showbackground": true,
            "ticks": "",
            "zerolinecolor": "white"
           },
           "yaxis": {
            "backgroundcolor": "#E5ECF6",
            "gridcolor": "white",
            "gridwidth": 2,
            "linecolor": "white",
            "showbackground": true,
            "ticks": "",
            "zerolinecolor": "white"
           },
           "zaxis": {
            "backgroundcolor": "#E5ECF6",
            "gridcolor": "white",
            "gridwidth": 2,
            "linecolor": "white",
            "showbackground": true,
            "ticks": "",
            "zerolinecolor": "white"
           }
          },
          "shapedefaults": {
           "line": {
            "color": "#2a3f5f"
           }
          },
          "ternary": {
           "aaxis": {
            "gridcolor": "white",
            "linecolor": "white",
            "ticks": ""
           },
           "baxis": {
            "gridcolor": "white",
            "linecolor": "white",
            "ticks": ""
           },
           "bgcolor": "#E5ECF6",
           "caxis": {
            "gridcolor": "white",
            "linecolor": "white",
            "ticks": ""
           }
          },
          "title": {
           "x": 0.05
          },
          "xaxis": {
           "automargin": true,
           "gridcolor": "white",
           "linecolor": "white",
           "ticks": "",
           "title": {
            "standoff": 15
           },
           "zerolinecolor": "white",
           "zerolinewidth": 2
          },
          "yaxis": {
           "automargin": true,
           "gridcolor": "white",
           "linecolor": "white",
           "ticks": "",
           "title": {
            "standoff": 15
           },
           "zerolinecolor": "white",
           "zerolinewidth": 2
          }
         }
        },
        "title": {
         "text": "Consommation moyenne par puissance moteur"
        },
        "xaxis": {
         "anchor": "y",
         "domain": [
          0,
          1
         ],
         "title": {
          "text": "Type de puissance moteur"
         }
        },
        "yaxis": {
         "anchor": "x",
         "domain": [
          0,
          1
         ],
         "title": {
          "text": "Consommation moyenne (MPG)"
         }
        }
       }
      },
      "text/html": [
       "<div>            <script src=\"https://cdnjs.cloudflare.com/ajax/libs/mathjax/2.7.5/MathJax.js?config=TeX-AMS-MML_SVG\"></script><script type=\"text/javascript\">if (window.MathJax && window.MathJax.Hub && window.MathJax.Hub.Config) {window.MathJax.Hub.Config({SVG: {font: \"STIX-Web\"}});}</script>                <script type=\"text/javascript\">window.PlotlyConfig = {MathJaxConfig: 'local'};</script>\n",
       "        <script charset=\"utf-8\" src=\"https://cdn.plot.ly/plotly-3.0.1.min.js\"></script>                <div id=\"6fd4ba60-da6d-4c76-8328-077a2eb31a17\" class=\"plotly-graph-div\" style=\"height:525px; width:100%;\"></div>            <script type=\"text/javascript\">                window.PLOTLYENV=window.PLOTLYENV || {};                                if (document.getElementById(\"6fd4ba60-da6d-4c76-8328-077a2eb31a17\")) {                    Plotly.newPlot(                        \"6fd4ba60-da6d-4c76-8328-077a2eb31a17\",                        [{\"error_y\":{\"array\":{\"dtype\":\"f8\",\"bdata\":\"Z21OqgcCFEAAAAAAAAD4fwAAAAAAAPh\\u002fAAAAAAAA+H8AAAAAAAD4fw==\"}},\"hovertemplate\":\"Nombre de cylindres=3\\u003cbr\\u003eType de puissance moteur=%{x}\\u003cbr\\u003eConsommation moyenne (MPG)=%{y}\\u003cextra\\u003e\\u003c\\u002fextra\\u003e\",\"legendgroup\":\"3\",\"line\":{\"color\":\"#636efa\",\"dash\":\"solid\"},\"marker\":{\"symbol\":\"circle\"},\"mode\":\"lines+markers\",\"name\":\"3\",\"orientation\":\"v\",\"showlegend\":true,\"x\":[\"Tr\\u00e8s faible\",\"Faible\",\"Moyenne\",\"\\u00c9lev\\u00e9e\",\"Tr\\u00e8s \\u00e9lev\\u00e9e\"],\"xaxis\":\"x\",\"y\":{\"dtype\":\"f8\",\"bdata\":\"zczMzMysQUAAAAAAAAD4fwAAAAAAAPh\\u002fAAAAAAAA+H8AAAAAAAD4fw==\"},\"yaxis\":\"y\",\"type\":\"scatter\"},{\"error_y\":{\"array\":{\"dtype\":\"f8\",\"bdata\":\"8liEL4+hF0CjXkoA8LgSQB9GmxEdFhlAt9DwvLbaAkAEFVB5UaD9Pw==\"}},\"hovertemplate\":\"Nombre de cylindres=4\\u003cbr\\u003eType de puissance moteur=%{x}\\u003cbr\\u003eConsommation moyenne (MPG)=%{y}\\u003cextra\\u003e\\u003c\\u002fextra\\u003e\",\"legendgroup\":\"4\",\"line\":{\"color\":\"#EF553B\",\"dash\":\"solid\"},\"marker\":{\"symbol\":\"circle\"},\"mode\":\"lines+markers\",\"name\":\"4\",\"orientation\":\"v\",\"showlegend\":true,\"x\":[\"Tr\\u00e8s faible\",\"Faible\",\"Moyenne\",\"\\u00c9lev\\u00e9e\",\"Tr\\u00e8s \\u00e9lev\\u00e9e\"],\"xaxis\":\"x\",\"y\":{\"dtype\":\"f8\",\"bdata\":\"e+EOI\\u002fOkPEDwuSVO\\u002fZ47QH+6a3+6azpAWmzjp8U2OEAAAAAAAEA5QA==\"},\"yaxis\":\"y\",\"type\":\"scatter\"},{\"error_y\":{\"array\":{\"dtype\":\"f8\",\"bdata\":\"gRTIvIPg9z8vawDiDngHQJXdLP7AiAdAAAAAAAAA+H8AAAAAAAAAAA==\"}},\"hovertemplate\":\"Nombre de cylindres=5\\u003cbr\\u003eType de puissance moteur=%{x}\\u003cbr\\u003eConsommation moyenne (MPG)=%{y}\\u003cextra\\u003e\\u003c\\u002fextra\\u003e\",\"legendgroup\":\"5\",\"line\":{\"color\":\"#00cc96\",\"dash\":\"solid\"},\"marker\":{\"symbol\":\"circle\"},\"mode\":\"lines+markers\",\"name\":\"5\",\"orientation\":\"v\",\"showlegend\":true,\"x\":[\"Tr\\u00e8s faible\",\"Faible\",\"Moyenne\",\"\\u00c9lev\\u00e9e\",\"Tr\\u00e8s \\u00e9lev\\u00e9e\"],\"xaxis\":\"x\",\"y\":{\"dtype\":\"f8\",\"bdata\":\"7MRO7MTON0AYhmEYhuE3QIoXyKR4gTVAAAAAAAAA+H8AAAAAAIA1QA==\"},\"yaxis\":\"y\",\"type\":\"scatter\"},{\"error_y\":{\"array\":{\"dtype\":\"f8\",\"bdata\":\"sQ63PifBAkAEz\\u002fU9Ql0DQOUQpGGTZwZAh1dN47QGBEAvqWdLWfoEQA==\"}},\"hovertemplate\":\"Nombre de cylindres=6\\u003cbr\\u003eType de puissance moteur=%{x}\\u003cbr\\u003eConsommation moyenne (MPG)=%{y}\\u003cextra\\u003e\\u003c\\u002fextra\\u003e\",\"legendgroup\":\"6\",\"line\":{\"color\":\"#ab63fa\",\"dash\":\"solid\"},\"marker\":{\"symbol\":\"circle\"},\"mode\":\"lines+markers\",\"name\":\"6\",\"orientation\":\"v\",\"showlegend\":true,\"x\":[\"Tr\\u00e8s faible\",\"Faible\",\"Moyenne\",\"\\u00c9lev\\u00e9e\",\"Tr\\u00e8s \\u00e9lev\\u00e9e\"],\"xaxis\":\"x\",\"y\":{\"dtype\":\"f8\",\"bdata\":\"8bcpRg2\\u002fMkC7173udX8yQO5WCd0Z5DNABpOmfbtjNUBu27Zt27Y1QA==\"},\"yaxis\":\"y\",\"type\":\"scatter\"},{\"error_y\":{\"array\":{\"dtype\":\"f8\",\"bdata\":\"lK6LjdEMA0CYU\\u002fNNy1sFQCZ3VUx1fgBA+oZkJhf3\\u002fz\\u002f+QPGFIYIDQA==\"}},\"hovertemplate\":\"Nombre de cylindres=8\\u003cbr\\u003eType de puissance moteur=%{x}\\u003cbr\\u003eConsommation moyenne (MPG)=%{y}\\u003cextra\\u003e\\u003c\\u002fextra\\u003e\",\"legendgroup\":\"8\",\"line\":{\"color\":\"#FFA15A\",\"dash\":\"solid\"},\"marker\":{\"symbol\":\"circle\"},\"mode\":\"lines+markers\",\"name\":\"8\",\"orientation\":\"v\",\"showlegend\":true,\"x\":[\"Tr\\u00e8s faible\",\"Faible\",\"Moyenne\",\"\\u00c9lev\\u00e9e\",\"Tr\\u00e8s \\u00e9lev\\u00e9e\"],\"xaxis\":\"x\",\"y\":{\"dtype\":\"f8\",\"bdata\":\"ZmZmZmaGMUB00UUXXXQsQOXLBk2+7C1AMMSK0vhoMEAcS+P6xtIxQA==\"},\"yaxis\":\"y\",\"type\":\"scatter\"},{\"error_y\":{\"array\":{\"dtype\":\"f8\",\"bdata\":\"AAAAAAAA+H8AAAAAAAD4fwAAAAAAAPh\\u002fAAAAAAAA+H\\u002fZKanApbDxPw==\"}},\"hovertemplate\":\"Nombre de cylindres=10\\u003cbr\\u003eType de puissance moteur=%{x}\\u003cbr\\u003eConsommation moyenne (MPG)=%{y}\\u003cextra\\u003e\\u003c\\u002fextra\\u003e\",\"legendgroup\":\"10\",\"line\":{\"color\":\"#19d3f3\",\"dash\":\"solid\"},\"marker\":{\"symbol\":\"circle\"},\"mode\":\"lines+markers\",\"name\":\"10\",\"orientation\":\"v\",\"showlegend\":true,\"x\":[\"Tr\\u00e8s faible\",\"Faible\",\"Moyenne\",\"\\u00c9lev\\u00e9e\",\"Tr\\u00e8s \\u00e9lev\\u00e9e\"],\"xaxis\":\"x\",\"y\":{\"dtype\":\"f8\",\"bdata\":\"AAAAAAAA+H8AAAAAAAD4fwAAAAAAAPh\\u002fAAAAAACAMUCRHqic3UIwQA==\"},\"yaxis\":\"y\",\"type\":\"scatter\"},{\"error_y\":{\"array\":{\"dtype\":\"f8\",\"bdata\":\"AAAAAAAA+H8AAAAAAAD4fwAAAAAAAPh\\u002fAAAAAAAA+H8GWRUFzDD9Pw==\"}},\"hovertemplate\":\"Nombre de cylindres=12\\u003cbr\\u003eType de puissance moteur=%{x}\\u003cbr\\u003eConsommation moyenne (MPG)=%{y}\\u003cextra\\u003e\\u003c\\u002fextra\\u003e\",\"legendgroup\":\"12\",\"line\":{\"color\":\"#FF6692\",\"dash\":\"solid\"},\"marker\":{\"symbol\":\"circle\"},\"mode\":\"lines+markers\",\"name\":\"12\",\"orientation\":\"v\",\"showlegend\":true,\"x\":[\"Tr\\u00e8s faible\",\"Faible\",\"Moyenne\",\"\\u00c9lev\\u00e9e\",\"Tr\\u00e8s \\u00e9lev\\u00e9e\"],\"xaxis\":\"x\",\"y\":{\"dtype\":\"f8\",\"bdata\":\"AAAAAAAA+H8AAAAAAAD4fwAAAAAAAPh\\u002fAAAAAAAA+H84velNb\\u002fosQA==\"},\"yaxis\":\"y\",\"type\":\"scatter\"},{\"error_y\":{\"array\":{\"dtype\":\"f8\",\"bdata\":\"AAAAAAAA+H8AAAAAAAD4fwAAAAAAAPh\\u002fAAAAAAAA+H8AAAAAAAAAAA==\"}},\"hovertemplate\":\"Nombre de cylindres=16\\u003cbr\\u003eType de puissance moteur=%{x}\\u003cbr\\u003eConsommation moyenne (MPG)=%{y}\\u003cextra\\u003e\\u003c\\u002fextra\\u003e\",\"legendgroup\":\"16\",\"line\":{\"color\":\"#B6E880\",\"dash\":\"solid\"},\"marker\":{\"symbol\":\"circle\"},\"mode\":\"lines+markers\",\"name\":\"16\",\"orientation\":\"v\",\"showlegend\":true,\"x\":[\"Tr\\u00e8s faible\",\"Faible\",\"Moyenne\",\"\\u00c9lev\\u00e9e\",\"Tr\\u00e8s \\u00e9lev\\u00e9e\"],\"xaxis\":\"x\",\"y\":{\"dtype\":\"f8\",\"bdata\":\"AAAAAAAA+H8AAAAAAAD4fwAAAAAAAPh\\u002fAAAAAAAA+H8AAAAAAAAmQA==\"},\"yaxis\":\"y\",\"type\":\"scatter\"}],                        {\"template\":{\"data\":{\"histogram2dcontour\":[{\"type\":\"histogram2dcontour\",\"colorbar\":{\"outlinewidth\":0,\"ticks\":\"\"},\"colorscale\":[[0.0,\"#0d0887\"],[0.1111111111111111,\"#46039f\"],[0.2222222222222222,\"#7201a8\"],[0.3333333333333333,\"#9c179e\"],[0.4444444444444444,\"#bd3786\"],[0.5555555555555556,\"#d8576b\"],[0.6666666666666666,\"#ed7953\"],[0.7777777777777778,\"#fb9f3a\"],[0.8888888888888888,\"#fdca26\"],[1.0,\"#f0f921\"]]}],\"choropleth\":[{\"type\":\"choropleth\",\"colorbar\":{\"outlinewidth\":0,\"ticks\":\"\"}}],\"histogram2d\":[{\"type\":\"histogram2d\",\"colorbar\":{\"outlinewidth\":0,\"ticks\":\"\"},\"colorscale\":[[0.0,\"#0d0887\"],[0.1111111111111111,\"#46039f\"],[0.2222222222222222,\"#7201a8\"],[0.3333333333333333,\"#9c179e\"],[0.4444444444444444,\"#bd3786\"],[0.5555555555555556,\"#d8576b\"],[0.6666666666666666,\"#ed7953\"],[0.7777777777777778,\"#fb9f3a\"],[0.8888888888888888,\"#fdca26\"],[1.0,\"#f0f921\"]]}],\"heatmap\":[{\"type\":\"heatmap\",\"colorbar\":{\"outlinewidth\":0,\"ticks\":\"\"},\"colorscale\":[[0.0,\"#0d0887\"],[0.1111111111111111,\"#46039f\"],[0.2222222222222222,\"#7201a8\"],[0.3333333333333333,\"#9c179e\"],[0.4444444444444444,\"#bd3786\"],[0.5555555555555556,\"#d8576b\"],[0.6666666666666666,\"#ed7953\"],[0.7777777777777778,\"#fb9f3a\"],[0.8888888888888888,\"#fdca26\"],[1.0,\"#f0f921\"]]}],\"contourcarpet\":[{\"type\":\"contourcarpet\",\"colorbar\":{\"outlinewidth\":0,\"ticks\":\"\"}}],\"contour\":[{\"type\":\"contour\",\"colorbar\":{\"outlinewidth\":0,\"ticks\":\"\"},\"colorscale\":[[0.0,\"#0d0887\"],[0.1111111111111111,\"#46039f\"],[0.2222222222222222,\"#7201a8\"],[0.3333333333333333,\"#9c179e\"],[0.4444444444444444,\"#bd3786\"],[0.5555555555555556,\"#d8576b\"],[0.6666666666666666,\"#ed7953\"],[0.7777777777777778,\"#fb9f3a\"],[0.8888888888888888,\"#fdca26\"],[1.0,\"#f0f921\"]]}],\"surface\":[{\"type\":\"surface\",\"colorbar\":{\"outlinewidth\":0,\"ticks\":\"\"},\"colorscale\":[[0.0,\"#0d0887\"],[0.1111111111111111,\"#46039f\"],[0.2222222222222222,\"#7201a8\"],[0.3333333333333333,\"#9c179e\"],[0.4444444444444444,\"#bd3786\"],[0.5555555555555556,\"#d8576b\"],[0.6666666666666666,\"#ed7953\"],[0.7777777777777778,\"#fb9f3a\"],[0.8888888888888888,\"#fdca26\"],[1.0,\"#f0f921\"]]}],\"mesh3d\":[{\"type\":\"mesh3d\",\"colorbar\":{\"outlinewidth\":0,\"ticks\":\"\"}}],\"scatter\":[{\"fillpattern\":{\"fillmode\":\"overlay\",\"size\":10,\"solidity\":0.2},\"type\":\"scatter\"}],\"parcoords\":[{\"type\":\"parcoords\",\"line\":{\"colorbar\":{\"outlinewidth\":0,\"ticks\":\"\"}}}],\"scatterpolargl\":[{\"type\":\"scatterpolargl\",\"marker\":{\"colorbar\":{\"outlinewidth\":0,\"ticks\":\"\"}}}],\"bar\":[{\"error_x\":{\"color\":\"#2a3f5f\"},\"error_y\":{\"color\":\"#2a3f5f\"},\"marker\":{\"line\":{\"color\":\"#E5ECF6\",\"width\":0.5},\"pattern\":{\"fillmode\":\"overlay\",\"size\":10,\"solidity\":0.2}},\"type\":\"bar\"}],\"scattergeo\":[{\"type\":\"scattergeo\",\"marker\":{\"colorbar\":{\"outlinewidth\":0,\"ticks\":\"\"}}}],\"scatterpolar\":[{\"type\":\"scatterpolar\",\"marker\":{\"colorbar\":{\"outlinewidth\":0,\"ticks\":\"\"}}}],\"histogram\":[{\"marker\":{\"pattern\":{\"fillmode\":\"overlay\",\"size\":10,\"solidity\":0.2}},\"type\":\"histogram\"}],\"scattergl\":[{\"type\":\"scattergl\",\"marker\":{\"colorbar\":{\"outlinewidth\":0,\"ticks\":\"\"}}}],\"scatter3d\":[{\"type\":\"scatter3d\",\"line\":{\"colorbar\":{\"outlinewidth\":0,\"ticks\":\"\"}},\"marker\":{\"colorbar\":{\"outlinewidth\":0,\"ticks\":\"\"}}}],\"scattermap\":[{\"type\":\"scattermap\",\"marker\":{\"colorbar\":{\"outlinewidth\":0,\"ticks\":\"\"}}}],\"scattermapbox\":[{\"type\":\"scattermapbox\",\"marker\":{\"colorbar\":{\"outlinewidth\":0,\"ticks\":\"\"}}}],\"scatterternary\":[{\"type\":\"scatterternary\",\"marker\":{\"colorbar\":{\"outlinewidth\":0,\"ticks\":\"\"}}}],\"scattercarpet\":[{\"type\":\"scattercarpet\",\"marker\":{\"colorbar\":{\"outlinewidth\":0,\"ticks\":\"\"}}}],\"carpet\":[{\"aaxis\":{\"endlinecolor\":\"#2a3f5f\",\"gridcolor\":\"white\",\"linecolor\":\"white\",\"minorgridcolor\":\"white\",\"startlinecolor\":\"#2a3f5f\"},\"baxis\":{\"endlinecolor\":\"#2a3f5f\",\"gridcolor\":\"white\",\"linecolor\":\"white\",\"minorgridcolor\":\"white\",\"startlinecolor\":\"#2a3f5f\"},\"type\":\"carpet\"}],\"table\":[{\"cells\":{\"fill\":{\"color\":\"#EBF0F8\"},\"line\":{\"color\":\"white\"}},\"header\":{\"fill\":{\"color\":\"#C8D4E3\"},\"line\":{\"color\":\"white\"}},\"type\":\"table\"}],\"barpolar\":[{\"marker\":{\"line\":{\"color\":\"#E5ECF6\",\"width\":0.5},\"pattern\":{\"fillmode\":\"overlay\",\"size\":10,\"solidity\":0.2}},\"type\":\"barpolar\"}],\"pie\":[{\"automargin\":true,\"type\":\"pie\"}]},\"layout\":{\"autotypenumbers\":\"strict\",\"colorway\":[\"#636efa\",\"#EF553B\",\"#00cc96\",\"#ab63fa\",\"#FFA15A\",\"#19d3f3\",\"#FF6692\",\"#B6E880\",\"#FF97FF\",\"#FECB52\"],\"font\":{\"color\":\"#2a3f5f\"},\"hovermode\":\"closest\",\"hoverlabel\":{\"align\":\"left\"},\"paper_bgcolor\":\"white\",\"plot_bgcolor\":\"#E5ECF6\",\"polar\":{\"bgcolor\":\"#E5ECF6\",\"angularaxis\":{\"gridcolor\":\"white\",\"linecolor\":\"white\",\"ticks\":\"\"},\"radialaxis\":{\"gridcolor\":\"white\",\"linecolor\":\"white\",\"ticks\":\"\"}},\"ternary\":{\"bgcolor\":\"#E5ECF6\",\"aaxis\":{\"gridcolor\":\"white\",\"linecolor\":\"white\",\"ticks\":\"\"},\"baxis\":{\"gridcolor\":\"white\",\"linecolor\":\"white\",\"ticks\":\"\"},\"caxis\":{\"gridcolor\":\"white\",\"linecolor\":\"white\",\"ticks\":\"\"}},\"coloraxis\":{\"colorbar\":{\"outlinewidth\":0,\"ticks\":\"\"}},\"colorscale\":{\"sequential\":[[0.0,\"#0d0887\"],[0.1111111111111111,\"#46039f\"],[0.2222222222222222,\"#7201a8\"],[0.3333333333333333,\"#9c179e\"],[0.4444444444444444,\"#bd3786\"],[0.5555555555555556,\"#d8576b\"],[0.6666666666666666,\"#ed7953\"],[0.7777777777777778,\"#fb9f3a\"],[0.8888888888888888,\"#fdca26\"],[1.0,\"#f0f921\"]],\"sequentialminus\":[[0.0,\"#0d0887\"],[0.1111111111111111,\"#46039f\"],[0.2222222222222222,\"#7201a8\"],[0.3333333333333333,\"#9c179e\"],[0.4444444444444444,\"#bd3786\"],[0.5555555555555556,\"#d8576b\"],[0.6666666666666666,\"#ed7953\"],[0.7777777777777778,\"#fb9f3a\"],[0.8888888888888888,\"#fdca26\"],[1.0,\"#f0f921\"]],\"diverging\":[[0,\"#8e0152\"],[0.1,\"#c51b7d\"],[0.2,\"#de77ae\"],[0.3,\"#f1b6da\"],[0.4,\"#fde0ef\"],[0.5,\"#f7f7f7\"],[0.6,\"#e6f5d0\"],[0.7,\"#b8e186\"],[0.8,\"#7fbc41\"],[0.9,\"#4d9221\"],[1,\"#276419\"]]},\"xaxis\":{\"gridcolor\":\"white\",\"linecolor\":\"white\",\"ticks\":\"\",\"title\":{\"standoff\":15},\"zerolinecolor\":\"white\",\"automargin\":true,\"zerolinewidth\":2},\"yaxis\":{\"gridcolor\":\"white\",\"linecolor\":\"white\",\"ticks\":\"\",\"title\":{\"standoff\":15},\"zerolinecolor\":\"white\",\"automargin\":true,\"zerolinewidth\":2},\"scene\":{\"xaxis\":{\"backgroundcolor\":\"#E5ECF6\",\"gridcolor\":\"white\",\"linecolor\":\"white\",\"showbackground\":true,\"ticks\":\"\",\"zerolinecolor\":\"white\",\"gridwidth\":2},\"yaxis\":{\"backgroundcolor\":\"#E5ECF6\",\"gridcolor\":\"white\",\"linecolor\":\"white\",\"showbackground\":true,\"ticks\":\"\",\"zerolinecolor\":\"white\",\"gridwidth\":2},\"zaxis\":{\"backgroundcolor\":\"#E5ECF6\",\"gridcolor\":\"white\",\"linecolor\":\"white\",\"showbackground\":true,\"ticks\":\"\",\"zerolinecolor\":\"white\",\"gridwidth\":2}},\"shapedefaults\":{\"line\":{\"color\":\"#2a3f5f\"}},\"annotationdefaults\":{\"arrowcolor\":\"#2a3f5f\",\"arrowhead\":0,\"arrowwidth\":1},\"geo\":{\"bgcolor\":\"white\",\"landcolor\":\"#E5ECF6\",\"subunitcolor\":\"white\",\"showland\":true,\"showlakes\":true,\"lakecolor\":\"white\"},\"title\":{\"x\":0.05},\"mapbox\":{\"style\":\"light\"}}},\"xaxis\":{\"anchor\":\"y\",\"domain\":[0.0,1.0],\"title\":{\"text\":\"Type de puissance moteur\"}},\"yaxis\":{\"anchor\":\"x\",\"domain\":[0.0,1.0],\"title\":{\"text\":\"Consommation moyenne (MPG)\"}},\"legend\":{\"title\":{\"text\":\"Nb Cylindres\"},\"tracegroupgap\":0},\"title\":{\"text\":\"Consommation moyenne par puissance moteur\"}},                        {\"responsive\": true}                    ).then(function(){\n",
       "                            \n",
       "var gd = document.getElementById('6fd4ba60-da6d-4c76-8328-077a2eb31a17');\n",
       "var x = new MutationObserver(function (mutations, observer) {{\n",
       "        var display = window.getComputedStyle(gd).display;\n",
       "        if (!display || display === 'none') {{\n",
       "            console.log([gd, 'removed!']);\n",
       "            Plotly.purge(gd);\n",
       "            observer.disconnect();\n",
       "        }}\n",
       "}});\n",
       "\n",
       "// Listen for the removal of the full notebook cells\n",
       "var notebookContainer = gd.closest('#notebook-container');\n",
       "if (notebookContainer) {{\n",
       "    x.observe(notebookContainer, {childList: true});\n",
       "}}\n",
       "\n",
       "// Listen for the clearing of the current output cell\n",
       "var outputEl = gd.closest('.output');\n",
       "if (outputEl) {{\n",
       "    x.observe(outputEl, {childList: true});\n",
       "}}\n",
       "\n",
       "                        })                };            </script>        </div>"
      ]
     },
     "metadata": {},
     "output_type": "display_data"
    }
   ],
   "source": [
    "# Suppression des lignes avec valeurs manquantes\n",
    "df_clean = df.dropna(subset=['hp', 'highway_mpg', 'city_mpg', 'cylinders']).copy()\n",
    "\n",
    "# Calcul de la consommation moyenne\n",
    "df_clean['Average MPG'] = (df_clean['highway_mpg'] + df_clean['city_mpg']) / 2\n",
    "\n",
    "# Filtrage : suppression des moteurs à 0 cylindre (valeurs aberrantes)\n",
    "df_clean = df_clean[df_clean['cylinders'] > 0]\n",
    "\n",
    "# Tranches de puissance moteur\n",
    "df_clean['HP Range'] = pd.qcut(df_clean['hp'], q=5, labels=[\n",
    "    'Très faible', 'Faible', 'Moyenne', 'Élevée', 'Très élevée'])\n",
    "\n",
    "# Conversion des cylindres à entier\n",
    "df_clean['cylinders'] = df_clean['cylinders'].round().astype('Int64')\n",
    "\n",
    "# Agrégation\n",
    "df_filtered = df_clean.groupby(['HP Range', 'cylinders']).agg(\n",
    "    avg_mpg=('Average MPG', 'mean'),\n",
    "    std_mpg=('Average MPG', 'std')\n",
    ").reset_index()\n",
    "\n",
    "# Graphique interactif\n",
    "fig = px.line(\n",
    "    df_filtered,\n",
    "    x='HP Range',\n",
    "    y='avg_mpg',\n",
    "    error_y='std_mpg',\n",
    "    color='cylinders',\n",
    "    markers=True,\n",
    "    title=\"Consommation moyenne par puissance moteur\",\n",
    "    labels={\n",
    "        \"HP Range\": \"Type de puissance moteur\",\n",
    "        \"avg_mpg\": \"Consommation moyenne (MPG)\",\n",
    "        \"cylinders\": \"Nombre de cylindres\"\n",
    "    }\n",
    ")\n",
    "\n",
    "fig.update_layout(\n",
    "    legend_title_text='Nb Cylindres',\n",
    "    yaxis_title=\"Consommation moyenne (MPG)\",\n",
    "    xaxis_title=\"Type de puissance moteur\"\n",
    ")\n",
    "\n",
    "fig.show()\n"
   ]
  },
  {
   "cell_type": "code",
   "execution_count": 300,
   "id": "7aa00df3",
   "metadata": {},
   "outputs": [
    {
     "name": "stderr",
     "output_type": "stream",
     "text": [
      "C:\\Users\\jerem\\AppData\\Local\\Temp\\ipykernel_19480\\838335851.py:9: FutureWarning:\n",
      "\n",
      "The default of observed=False is deprecated and will be changed to True in a future version of pandas. Pass observed=False to retain current behavior or observed=True to adopt the future default and silence this warning.\n",
      "\n",
      "C:\\Users\\jerem\\AppData\\Local\\Temp\\ipykernel_19480\\838335851.py:13: FutureWarning:\n",
      "\n",
      "The default of observed=False is deprecated and will be changed to True in a future version of pandas. Pass observed=False to retain current behavior or observed=True to adopt the future default and silence this warning.\n",
      "\n"
     ]
    },
    {
     "data": {
      "application/vnd.plotly.v1+json": {
       "config": {
        "plotlyServerURL": "https://plot.ly"
       },
       "data": [
        {
         "hovertemplate": "<b>%{x}</b><br>Catégorie: Crossover<br>Prix moyen: $%{y}<br>Nombre de véhicules: %{text}",
         "name": "Crossover",
         "text": {
          "bdata": "AAAAAACAYkAAAAAAAFiBQAAAAAAAEIFAAAAAAABwg0AAAAAAAGBkQA==",
          "dtype": "f8"
         },
         "textposition": "outside",
         "type": "bar",
         "x": [
          "Très faible",
          "Faible",
          "Moyenne",
          "Élevée",
          "Très élevée"
         ],
         "y": {
          "bdata": "AAAAAAAA10AAAAAAAMraQAAAAAAA1OFAAAAAAOAI5EAAAAAAgPzuQA==",
          "dtype": "f8"
         }
        },
        {
         "hovertemplate": "<b>%{x}</b><br>Catégorie: Diesel<br>Prix moyen: $%{y}<br>Nombre de véhicules: %{text}",
         "name": "Diesel",
         "text": {
          "bdata": "AAAAAACAU0AAAAAAAAA9QAAAAAAAAEpAAAAAAACAR0AAAAAAAAAAAA==",
          "dtype": "f8"
         },
         "textposition": "outside",
         "type": "bar",
         "x": [
          "Très faible",
          "Faible",
          "Moyenne",
          "Élevée",
          "Très élevée"
         ],
         "y": {
          "bdata": "AAAAAEA62UAAAAAA4GLkQAAAAACgk+1AAAAAAACQ4kAAAAAAAAD4fw==",
          "dtype": "f8"
         }
        },
        {
         "hovertemplate": "<b>%{x}</b><br>Catégorie: Exotic<br>Prix moyen: $%{y}<br>Nombre de véhicules: %{text}",
         "name": "Exotic",
         "text": {
          "bdata": "AAAAAAAAAAAAAAAAAAAQQAAAAAAAAD5AAAAAAAAAIEAAAAAAALB8QA==",
          "dtype": "f8"
         },
         "textposition": "outside",
         "type": "bar",
         "x": [
          "Très faible",
          "Faible",
          "Moyenne",
          "Élevée",
          "Très élevée"
         ],
         "y": {
          "bdata": "AAAAAAAA+H8AAAAAIDznQAAAAACwJvNAAAAAAKC98UAAAAAAQAUOQQ==",
          "dtype": "f8"
         }
        },
        {
         "hovertemplate": "<b>%{x}</b><br>Catégorie: Factory Tuner<br>Prix moyen: $%{y}<br>Nombre de véhicules: %{text}",
         "name": "Factory Tuner",
         "text": {
          "bdata": "AAAAAAAAJkAAAAAAAAAzQAAAAAAAwFFAAAAAAACAVEAAAAAAAGB7QA==",
          "dtype": "f8"
         },
         "textposition": "outside",
         "type": "bar",
         "x": [
          "Très faible",
          "Faible",
          "Moyenne",
          "Élevée",
          "Très élevée"
         ],
         "y": {
          "bdata": "AAAAAAC5ykAAAAAAAC3NQAAAAADAj9ZAAAAAAABW3kAAAAAAoKL6QA==",
          "dtype": "f8"
         }
        },
        {
         "hovertemplate": "<b>%{x}</b><br>Catégorie: Flex Fuel<br>Prix moyen: $%{y}<br>Nombre de véhicules: %{text}",
         "name": "Flex Fuel",
         "text": {
          "bdata": "AAAAAACAVEAAAAAAAABVQAAAAAAAQGRAAAAAAABggEAAAAAAAJB1QA==",
          "dtype": "f8"
         },
         "textposition": "outside",
         "type": "bar",
         "x": [
          "Très faible",
          "Faible",
          "Moyenne",
          "Élevée",
          "Très élevée"
         ],
         "y": {
          "bdata": "AAAAAIBozEAAAAAAwBnYQAAAAABAqd5AAAAAAEBp4EAAAAAAoHPwQA==",
          "dtype": "f8"
         }
        },
        {
         "hovertemplate": "<b>%{x}</b><br>Catégorie: Hatchback<br>Prix moyen: $%{y}<br>Nombre de véhicules: %{text}",
         "name": "Hatchback",
         "text": {
          "bdata": "AAAAAAAIhEAAAAAAANBzQAAAAAAAwGRAAAAAAAAAUkAAAAAAAAAoQA==",
          "dtype": "f8"
         },
         "textposition": "outside",
         "type": "bar",
         "x": [
          "Très faible",
          "Faible",
          "Moyenne",
          "Élevée",
          "Très élevée"
         ],
         "y": {
          "bdata": "AAAAAIATzkAAAAAAQHLVQAAAAADA/9lAAAAAAICv4UAAAAAAwN/gQA==",
          "dtype": "f8"
         }
        },
        {
         "hovertemplate": "<b>%{x}</b><br>Catégorie: High-Performance<br>Prix moyen: $%{y}<br>Nombre de véhicules: %{text}",
         "name": "High-Performance",
         "text": {
          "bdata": "AAAAAAAAAAAAAAAAAAAQQAAAAAAAAENAAAAAAADgYEAAAAAAAOiSQA==",
          "dtype": "f8"
         },
         "textposition": "outside",
         "type": "bar",
         "x": [
          "Très faible",
          "Faible",
          "Moyenne",
          "Élevée",
          "Très élevée"
         ],
         "y": {
          "bdata": "AAAAAAAA+H8AAAAAIDznQAAAAAAgQO5AAAAAAGDA5EAAAAAA6BIAQQ==",
          "dtype": "f8"
         }
        },
        {
         "hovertemplate": "<b>%{x}</b><br>Catégorie: Hybrid<br>Prix moyen: $%{y}<br>Nombre de véhicules: %{text}",
         "name": "Hybrid",
         "text": {
          "bdata": "AAAAAAAAWkAAAAAAAABdQAAAAAAAADJAAAAAAAAANkAAAAAAAMBVQA==",
          "dtype": "f8"
         },
         "textposition": "outside",
         "type": "bar",
         "x": [
          "Très faible",
          "Faible",
          "Moyenne",
          "Élevée",
          "Très élevée"
         ],
         "y": {
          "bdata": "AAAAAABQ2EAAAAAAACTfQAAAAACAmORAAAAAAIBL50AAAAAAwOPtQA==",
          "dtype": "f8"
         }
        },
        {
         "hovertemplate": "<b>%{x}</b><br>Catégorie: Luxury<br>Prix moyen: $%{y}<br>Nombre de véhicules: %{text}",
         "name": "Luxury",
         "text": {
          "bdata": "AAAAAADAXEAAAAAAAMBxQAAAAAAAEIlAAAAAAACYiEAAAAAAAFCUQA==",
          "dtype": "f8"
         },
         "textposition": "outside",
         "type": "bar",
         "x": [
          "Très faible",
          "Faible",
          "Moyenne",
          "Élevée",
          "Très élevée"
         ],
         "y": {
          "bdata": "AAAAAAAcxUAAAAAAgEfRQAAAAADgRuJAAAAAAGCA5kAAAAAA0H75QA==",
          "dtype": "f8"
         }
        },
        {
         "hovertemplate": "<b>%{x}</b><br>Catégorie: Non défini<br>Prix moyen: $%{y}<br>Nombre de véhicules: %{text}",
         "name": "Non défini",
         "text": {
          "bdata": "AAAAAABglUAAAAAAAGCRQAAAAAAAmINAAAAAAABgeEAAAAAAAKBuQA==",
          "dtype": "f8"
         },
         "textposition": "outside",
         "type": "bar",
         "x": [
          "Très faible",
          "Faible",
          "Moyenne",
          "Élevée",
          "Très élevée"
         ],
         "y": {
          "bdata": "AAAAAICoxkAAAAAAwOPSQAAAAAAAHdRAAAAAAGCD4EAAAAAAQFnmQA==",
          "dtype": "f8"
         }
        },
        {
         "hovertemplate": "<b>%{x}</b><br>Catégorie: Performance<br>Prix moyen: $%{y}<br>Nombre de véhicules: %{text}",
         "name": "Performance",
         "text": {
          "bdata": "AAAAAACAUUAAAAAAAOB0QAAAAAAAUIFAAAAAAACIhEAAAAAAADB/QA==",
          "dtype": "f8"
         },
         "textposition": "outside",
         "type": "bar",
         "x": [
          "Très faible",
          "Faible",
          "Moyenne",
          "Élevée",
          "Très élevée"
         ],
         "y": {
          "bdata": "AAAAAADhzkAAAAAAQNzVQAAAAADAA9tAAAAAAADw40AAAAAAQOrzQA==",
          "dtype": "f8"
         }
        }
       ],
       "layout": {
        "barmode": "group",
        "legend": {
         "title": {
          "text": "Catégorie de véhicule"
         }
        },
        "template": {
         "data": {
          "bar": [
           {
            "error_x": {
             "color": "#2a3f5f"
            },
            "error_y": {
             "color": "#2a3f5f"
            },
            "marker": {
             "line": {
              "color": "#E5ECF6",
              "width": 0.5
             },
             "pattern": {
              "fillmode": "overlay",
              "size": 10,
              "solidity": 0.2
             }
            },
            "type": "bar"
           }
          ],
          "barpolar": [
           {
            "marker": {
             "line": {
              "color": "#E5ECF6",
              "width": 0.5
             },
             "pattern": {
              "fillmode": "overlay",
              "size": 10,
              "solidity": 0.2
             }
            },
            "type": "barpolar"
           }
          ],
          "carpet": [
           {
            "aaxis": {
             "endlinecolor": "#2a3f5f",
             "gridcolor": "white",
             "linecolor": "white",
             "minorgridcolor": "white",
             "startlinecolor": "#2a3f5f"
            },
            "baxis": {
             "endlinecolor": "#2a3f5f",
             "gridcolor": "white",
             "linecolor": "white",
             "minorgridcolor": "white",
             "startlinecolor": "#2a3f5f"
            },
            "type": "carpet"
           }
          ],
          "choropleth": [
           {
            "colorbar": {
             "outlinewidth": 0,
             "ticks": ""
            },
            "type": "choropleth"
           }
          ],
          "contour": [
           {
            "colorbar": {
             "outlinewidth": 0,
             "ticks": ""
            },
            "colorscale": [
             [
              0,
              "#0d0887"
             ],
             [
              0.1111111111111111,
              "#46039f"
             ],
             [
              0.2222222222222222,
              "#7201a8"
             ],
             [
              0.3333333333333333,
              "#9c179e"
             ],
             [
              0.4444444444444444,
              "#bd3786"
             ],
             [
              0.5555555555555556,
              "#d8576b"
             ],
             [
              0.6666666666666666,
              "#ed7953"
             ],
             [
              0.7777777777777778,
              "#fb9f3a"
             ],
             [
              0.8888888888888888,
              "#fdca26"
             ],
             [
              1,
              "#f0f921"
             ]
            ],
            "type": "contour"
           }
          ],
          "contourcarpet": [
           {
            "colorbar": {
             "outlinewidth": 0,
             "ticks": ""
            },
            "type": "contourcarpet"
           }
          ],
          "heatmap": [
           {
            "colorbar": {
             "outlinewidth": 0,
             "ticks": ""
            },
            "colorscale": [
             [
              0,
              "#0d0887"
             ],
             [
              0.1111111111111111,
              "#46039f"
             ],
             [
              0.2222222222222222,
              "#7201a8"
             ],
             [
              0.3333333333333333,
              "#9c179e"
             ],
             [
              0.4444444444444444,
              "#bd3786"
             ],
             [
              0.5555555555555556,
              "#d8576b"
             ],
             [
              0.6666666666666666,
              "#ed7953"
             ],
             [
              0.7777777777777778,
              "#fb9f3a"
             ],
             [
              0.8888888888888888,
              "#fdca26"
             ],
             [
              1,
              "#f0f921"
             ]
            ],
            "type": "heatmap"
           }
          ],
          "histogram": [
           {
            "marker": {
             "pattern": {
              "fillmode": "overlay",
              "size": 10,
              "solidity": 0.2
             }
            },
            "type": "histogram"
           }
          ],
          "histogram2d": [
           {
            "colorbar": {
             "outlinewidth": 0,
             "ticks": ""
            },
            "colorscale": [
             [
              0,
              "#0d0887"
             ],
             [
              0.1111111111111111,
              "#46039f"
             ],
             [
              0.2222222222222222,
              "#7201a8"
             ],
             [
              0.3333333333333333,
              "#9c179e"
             ],
             [
              0.4444444444444444,
              "#bd3786"
             ],
             [
              0.5555555555555556,
              "#d8576b"
             ],
             [
              0.6666666666666666,
              "#ed7953"
             ],
             [
              0.7777777777777778,
              "#fb9f3a"
             ],
             [
              0.8888888888888888,
              "#fdca26"
             ],
             [
              1,
              "#f0f921"
             ]
            ],
            "type": "histogram2d"
           }
          ],
          "histogram2dcontour": [
           {
            "colorbar": {
             "outlinewidth": 0,
             "ticks": ""
            },
            "colorscale": [
             [
              0,
              "#0d0887"
             ],
             [
              0.1111111111111111,
              "#46039f"
             ],
             [
              0.2222222222222222,
              "#7201a8"
             ],
             [
              0.3333333333333333,
              "#9c179e"
             ],
             [
              0.4444444444444444,
              "#bd3786"
             ],
             [
              0.5555555555555556,
              "#d8576b"
             ],
             [
              0.6666666666666666,
              "#ed7953"
             ],
             [
              0.7777777777777778,
              "#fb9f3a"
             ],
             [
              0.8888888888888888,
              "#fdca26"
             ],
             [
              1,
              "#f0f921"
             ]
            ],
            "type": "histogram2dcontour"
           }
          ],
          "mesh3d": [
           {
            "colorbar": {
             "outlinewidth": 0,
             "ticks": ""
            },
            "type": "mesh3d"
           }
          ],
          "parcoords": [
           {
            "line": {
             "colorbar": {
              "outlinewidth": 0,
              "ticks": ""
             }
            },
            "type": "parcoords"
           }
          ],
          "pie": [
           {
            "automargin": true,
            "type": "pie"
           }
          ],
          "scatter": [
           {
            "fillpattern": {
             "fillmode": "overlay",
             "size": 10,
             "solidity": 0.2
            },
            "type": "scatter"
           }
          ],
          "scatter3d": [
           {
            "line": {
             "colorbar": {
              "outlinewidth": 0,
              "ticks": ""
             }
            },
            "marker": {
             "colorbar": {
              "outlinewidth": 0,
              "ticks": ""
             }
            },
            "type": "scatter3d"
           }
          ],
          "scattercarpet": [
           {
            "marker": {
             "colorbar": {
              "outlinewidth": 0,
              "ticks": ""
             }
            },
            "type": "scattercarpet"
           }
          ],
          "scattergeo": [
           {
            "marker": {
             "colorbar": {
              "outlinewidth": 0,
              "ticks": ""
             }
            },
            "type": "scattergeo"
           }
          ],
          "scattergl": [
           {
            "marker": {
             "colorbar": {
              "outlinewidth": 0,
              "ticks": ""
             }
            },
            "type": "scattergl"
           }
          ],
          "scattermap": [
           {
            "marker": {
             "colorbar": {
              "outlinewidth": 0,
              "ticks": ""
             }
            },
            "type": "scattermap"
           }
          ],
          "scattermapbox": [
           {
            "marker": {
             "colorbar": {
              "outlinewidth": 0,
              "ticks": ""
             }
            },
            "type": "scattermapbox"
           }
          ],
          "scatterpolar": [
           {
            "marker": {
             "colorbar": {
              "outlinewidth": 0,
              "ticks": ""
             }
            },
            "type": "scatterpolar"
           }
          ],
          "scatterpolargl": [
           {
            "marker": {
             "colorbar": {
              "outlinewidth": 0,
              "ticks": ""
             }
            },
            "type": "scatterpolargl"
           }
          ],
          "scatterternary": [
           {
            "marker": {
             "colorbar": {
              "outlinewidth": 0,
              "ticks": ""
             }
            },
            "type": "scatterternary"
           }
          ],
          "surface": [
           {
            "colorbar": {
             "outlinewidth": 0,
             "ticks": ""
            },
            "colorscale": [
             [
              0,
              "#0d0887"
             ],
             [
              0.1111111111111111,
              "#46039f"
             ],
             [
              0.2222222222222222,
              "#7201a8"
             ],
             [
              0.3333333333333333,
              "#9c179e"
             ],
             [
              0.4444444444444444,
              "#bd3786"
             ],
             [
              0.5555555555555556,
              "#d8576b"
             ],
             [
              0.6666666666666666,
              "#ed7953"
             ],
             [
              0.7777777777777778,
              "#fb9f3a"
             ],
             [
              0.8888888888888888,
              "#fdca26"
             ],
             [
              1,
              "#f0f921"
             ]
            ],
            "type": "surface"
           }
          ],
          "table": [
           {
            "cells": {
             "fill": {
              "color": "#EBF0F8"
             },
             "line": {
              "color": "white"
             }
            },
            "header": {
             "fill": {
              "color": "#C8D4E3"
             },
             "line": {
              "color": "white"
             }
            },
            "type": "table"
           }
          ]
         },
         "layout": {
          "annotationdefaults": {
           "arrowcolor": "#2a3f5f",
           "arrowhead": 0,
           "arrowwidth": 1
          },
          "autotypenumbers": "strict",
          "coloraxis": {
           "colorbar": {
            "outlinewidth": 0,
            "ticks": ""
           }
          },
          "colorscale": {
           "diverging": [
            [
             0,
             "#8e0152"
            ],
            [
             0.1,
             "#c51b7d"
            ],
            [
             0.2,
             "#de77ae"
            ],
            [
             0.3,
             "#f1b6da"
            ],
            [
             0.4,
             "#fde0ef"
            ],
            [
             0.5,
             "#f7f7f7"
            ],
            [
             0.6,
             "#e6f5d0"
            ],
            [
             0.7,
             "#b8e186"
            ],
            [
             0.8,
             "#7fbc41"
            ],
            [
             0.9,
             "#4d9221"
            ],
            [
             1,
             "#276419"
            ]
           ],
           "sequential": [
            [
             0,
             "#0d0887"
            ],
            [
             0.1111111111111111,
             "#46039f"
            ],
            [
             0.2222222222222222,
             "#7201a8"
            ],
            [
             0.3333333333333333,
             "#9c179e"
            ],
            [
             0.4444444444444444,
             "#bd3786"
            ],
            [
             0.5555555555555556,
             "#d8576b"
            ],
            [
             0.6666666666666666,
             "#ed7953"
            ],
            [
             0.7777777777777778,
             "#fb9f3a"
            ],
            [
             0.8888888888888888,
             "#fdca26"
            ],
            [
             1,
             "#f0f921"
            ]
           ],
           "sequentialminus": [
            [
             0,
             "#0d0887"
            ],
            [
             0.1111111111111111,
             "#46039f"
            ],
            [
             0.2222222222222222,
             "#7201a8"
            ],
            [
             0.3333333333333333,
             "#9c179e"
            ],
            [
             0.4444444444444444,
             "#bd3786"
            ],
            [
             0.5555555555555556,
             "#d8576b"
            ],
            [
             0.6666666666666666,
             "#ed7953"
            ],
            [
             0.7777777777777778,
             "#fb9f3a"
            ],
            [
             0.8888888888888888,
             "#fdca26"
            ],
            [
             1,
             "#f0f921"
            ]
           ]
          },
          "colorway": [
           "#636efa",
           "#EF553B",
           "#00cc96",
           "#ab63fa",
           "#FFA15A",
           "#19d3f3",
           "#FF6692",
           "#B6E880",
           "#FF97FF",
           "#FECB52"
          ],
          "font": {
           "color": "#2a3f5f"
          },
          "geo": {
           "bgcolor": "white",
           "lakecolor": "white",
           "landcolor": "#E5ECF6",
           "showlakes": true,
           "showland": true,
           "subunitcolor": "white"
          },
          "hoverlabel": {
           "align": "left"
          },
          "hovermode": "closest",
          "mapbox": {
           "style": "light"
          },
          "paper_bgcolor": "white",
          "plot_bgcolor": "#E5ECF6",
          "polar": {
           "angularaxis": {
            "gridcolor": "white",
            "linecolor": "white",
            "ticks": ""
           },
           "bgcolor": "#E5ECF6",
           "radialaxis": {
            "gridcolor": "white",
            "linecolor": "white",
            "ticks": ""
           }
          },
          "scene": {
           "xaxis": {
            "backgroundcolor": "#E5ECF6",
            "gridcolor": "white",
            "gridwidth": 2,
            "linecolor": "white",
            "showbackground": true,
            "ticks": "",
            "zerolinecolor": "white"
           },
           "yaxis": {
            "backgroundcolor": "#E5ECF6",
            "gridcolor": "white",
            "gridwidth": 2,
            "linecolor": "white",
            "showbackground": true,
            "ticks": "",
            "zerolinecolor": "white"
           },
           "zaxis": {
            "backgroundcolor": "#E5ECF6",
            "gridcolor": "white",
            "gridwidth": 2,
            "linecolor": "white",
            "showbackground": true,
            "ticks": "",
            "zerolinecolor": "white"
           }
          },
          "shapedefaults": {
           "line": {
            "color": "#2a3f5f"
           }
          },
          "ternary": {
           "aaxis": {
            "gridcolor": "white",
            "linecolor": "white",
            "ticks": ""
           },
           "baxis": {
            "gridcolor": "white",
            "linecolor": "white",
            "ticks": ""
           },
           "bgcolor": "#E5ECF6",
           "caxis": {
            "gridcolor": "white",
            "linecolor": "white",
            "ticks": ""
           }
          },
          "title": {
           "x": 0.05
          },
          "xaxis": {
           "automargin": true,
           "gridcolor": "white",
           "linecolor": "white",
           "ticks": "",
           "title": {
            "standoff": 15
           },
           "zerolinecolor": "white",
           "zerolinewidth": 2
          },
          "yaxis": {
           "automargin": true,
           "gridcolor": "white",
           "linecolor": "white",
           "ticks": "",
           "title": {
            "standoff": 15
           },
           "zerolinecolor": "white",
           "zerolinewidth": 2
          }
         }
        },
        "title": {
         "text": "Prix moyen (price) par catégorie de voiture et puissance moteur (avec nombre de véhicules)"
        },
        "xaxis": {
         "categoryarray": [
          "Très faible",
          "Faible",
          "Moyenne",
          "Élevée",
          "Très élevée"
         ],
         "categoryorder": "array",
         "title": {
          "text": "Type de puissance moteur"
         }
        },
        "yaxis": {
         "title": {
          "text": "Prix moyen des véhicules ($)"
         }
        }
       }
      },
      "text/html": [
       "<div>            <script src=\"https://cdnjs.cloudflare.com/ajax/libs/mathjax/2.7.5/MathJax.js?config=TeX-AMS-MML_SVG\"></script><script type=\"text/javascript\">if (window.MathJax && window.MathJax.Hub && window.MathJax.Hub.Config) {window.MathJax.Hub.Config({SVG: {font: \"STIX-Web\"}});}</script>                <script type=\"text/javascript\">window.PlotlyConfig = {MathJaxConfig: 'local'};</script>\n",
       "        <script charset=\"utf-8\" src=\"https://cdn.plot.ly/plotly-3.0.1.min.js\"></script>                <div id=\"6df61f98-5fcf-4245-863c-3cfdb2d15969\" class=\"plotly-graph-div\" style=\"height:525px; width:100%;\"></div>            <script type=\"text/javascript\">                window.PLOTLYENV=window.PLOTLYENV || {};                                if (document.getElementById(\"6df61f98-5fcf-4245-863c-3cfdb2d15969\")) {                    Plotly.newPlot(                        \"6df61f98-5fcf-4245-863c-3cfdb2d15969\",                        [{\"hovertemplate\":\"\\u003cb\\u003e%{x}\\u003c\\u002fb\\u003e\\u003cbr\\u003eCat\\u00e9gorie: Crossover\\u003cbr\\u003ePrix moyen: $%{y}\\u003cbr\\u003eNombre de v\\u00e9hicules: %{text}\",\"name\":\"Crossover\",\"text\":{\"dtype\":\"f8\",\"bdata\":\"AAAAAACAYkAAAAAAAFiBQAAAAAAAEIFAAAAAAABwg0AAAAAAAGBkQA==\"},\"textposition\":\"outside\",\"x\":[\"Tr\\u00e8s faible\",\"Faible\",\"Moyenne\",\"\\u00c9lev\\u00e9e\",\"Tr\\u00e8s \\u00e9lev\\u00e9e\"],\"y\":{\"dtype\":\"f8\",\"bdata\":\"AAAAAAAA10AAAAAAAMraQAAAAAAA1OFAAAAAAOAI5EAAAAAAgPzuQA==\"},\"type\":\"bar\"},{\"hovertemplate\":\"\\u003cb\\u003e%{x}\\u003c\\u002fb\\u003e\\u003cbr\\u003eCat\\u00e9gorie: Diesel\\u003cbr\\u003ePrix moyen: $%{y}\\u003cbr\\u003eNombre de v\\u00e9hicules: %{text}\",\"name\":\"Diesel\",\"text\":{\"dtype\":\"f8\",\"bdata\":\"AAAAAACAU0AAAAAAAAA9QAAAAAAAAEpAAAAAAACAR0AAAAAAAAAAAA==\"},\"textposition\":\"outside\",\"x\":[\"Tr\\u00e8s faible\",\"Faible\",\"Moyenne\",\"\\u00c9lev\\u00e9e\",\"Tr\\u00e8s \\u00e9lev\\u00e9e\"],\"y\":{\"dtype\":\"f8\",\"bdata\":\"AAAAAEA62UAAAAAA4GLkQAAAAACgk+1AAAAAAACQ4kAAAAAAAAD4fw==\"},\"type\":\"bar\"},{\"hovertemplate\":\"\\u003cb\\u003e%{x}\\u003c\\u002fb\\u003e\\u003cbr\\u003eCat\\u00e9gorie: Exotic\\u003cbr\\u003ePrix moyen: $%{y}\\u003cbr\\u003eNombre de v\\u00e9hicules: %{text}\",\"name\":\"Exotic\",\"text\":{\"dtype\":\"f8\",\"bdata\":\"AAAAAAAAAAAAAAAAAAAQQAAAAAAAAD5AAAAAAAAAIEAAAAAAALB8QA==\"},\"textposition\":\"outside\",\"x\":[\"Tr\\u00e8s faible\",\"Faible\",\"Moyenne\",\"\\u00c9lev\\u00e9e\",\"Tr\\u00e8s \\u00e9lev\\u00e9e\"],\"y\":{\"dtype\":\"f8\",\"bdata\":\"AAAAAAAA+H8AAAAAIDznQAAAAACwJvNAAAAAAKC98UAAAAAAQAUOQQ==\"},\"type\":\"bar\"},{\"hovertemplate\":\"\\u003cb\\u003e%{x}\\u003c\\u002fb\\u003e\\u003cbr\\u003eCat\\u00e9gorie: Factory Tuner\\u003cbr\\u003ePrix moyen: $%{y}\\u003cbr\\u003eNombre de v\\u00e9hicules: %{text}\",\"name\":\"Factory Tuner\",\"text\":{\"dtype\":\"f8\",\"bdata\":\"AAAAAAAAJkAAAAAAAAAzQAAAAAAAwFFAAAAAAACAVEAAAAAAAGB7QA==\"},\"textposition\":\"outside\",\"x\":[\"Tr\\u00e8s faible\",\"Faible\",\"Moyenne\",\"\\u00c9lev\\u00e9e\",\"Tr\\u00e8s \\u00e9lev\\u00e9e\"],\"y\":{\"dtype\":\"f8\",\"bdata\":\"AAAAAAC5ykAAAAAAAC3NQAAAAADAj9ZAAAAAAABW3kAAAAAAoKL6QA==\"},\"type\":\"bar\"},{\"hovertemplate\":\"\\u003cb\\u003e%{x}\\u003c\\u002fb\\u003e\\u003cbr\\u003eCat\\u00e9gorie: Flex Fuel\\u003cbr\\u003ePrix moyen: $%{y}\\u003cbr\\u003eNombre de v\\u00e9hicules: %{text}\",\"name\":\"Flex Fuel\",\"text\":{\"dtype\":\"f8\",\"bdata\":\"AAAAAACAVEAAAAAAAABVQAAAAAAAQGRAAAAAAABggEAAAAAAAJB1QA==\"},\"textposition\":\"outside\",\"x\":[\"Tr\\u00e8s faible\",\"Faible\",\"Moyenne\",\"\\u00c9lev\\u00e9e\",\"Tr\\u00e8s \\u00e9lev\\u00e9e\"],\"y\":{\"dtype\":\"f8\",\"bdata\":\"AAAAAIBozEAAAAAAwBnYQAAAAABAqd5AAAAAAEBp4EAAAAAAoHPwQA==\"},\"type\":\"bar\"},{\"hovertemplate\":\"\\u003cb\\u003e%{x}\\u003c\\u002fb\\u003e\\u003cbr\\u003eCat\\u00e9gorie: Hatchback\\u003cbr\\u003ePrix moyen: $%{y}\\u003cbr\\u003eNombre de v\\u00e9hicules: %{text}\",\"name\":\"Hatchback\",\"text\":{\"dtype\":\"f8\",\"bdata\":\"AAAAAAAIhEAAAAAAANBzQAAAAAAAwGRAAAAAAAAAUkAAAAAAAAAoQA==\"},\"textposition\":\"outside\",\"x\":[\"Tr\\u00e8s faible\",\"Faible\",\"Moyenne\",\"\\u00c9lev\\u00e9e\",\"Tr\\u00e8s \\u00e9lev\\u00e9e\"],\"y\":{\"dtype\":\"f8\",\"bdata\":\"AAAAAIATzkAAAAAAQHLVQAAAAADA\\u002f9lAAAAAAICv4UAAAAAAwN\\u002fgQA==\"},\"type\":\"bar\"},{\"hovertemplate\":\"\\u003cb\\u003e%{x}\\u003c\\u002fb\\u003e\\u003cbr\\u003eCat\\u00e9gorie: High-Performance\\u003cbr\\u003ePrix moyen: $%{y}\\u003cbr\\u003eNombre de v\\u00e9hicules: %{text}\",\"name\":\"High-Performance\",\"text\":{\"dtype\":\"f8\",\"bdata\":\"AAAAAAAAAAAAAAAAAAAQQAAAAAAAAENAAAAAAADgYEAAAAAAAOiSQA==\"},\"textposition\":\"outside\",\"x\":[\"Tr\\u00e8s faible\",\"Faible\",\"Moyenne\",\"\\u00c9lev\\u00e9e\",\"Tr\\u00e8s \\u00e9lev\\u00e9e\"],\"y\":{\"dtype\":\"f8\",\"bdata\":\"AAAAAAAA+H8AAAAAIDznQAAAAAAgQO5AAAAAAGDA5EAAAAAA6BIAQQ==\"},\"type\":\"bar\"},{\"hovertemplate\":\"\\u003cb\\u003e%{x}\\u003c\\u002fb\\u003e\\u003cbr\\u003eCat\\u00e9gorie: Hybrid\\u003cbr\\u003ePrix moyen: $%{y}\\u003cbr\\u003eNombre de v\\u00e9hicules: %{text}\",\"name\":\"Hybrid\",\"text\":{\"dtype\":\"f8\",\"bdata\":\"AAAAAAAAWkAAAAAAAABdQAAAAAAAADJAAAAAAAAANkAAAAAAAMBVQA==\"},\"textposition\":\"outside\",\"x\":[\"Tr\\u00e8s faible\",\"Faible\",\"Moyenne\",\"\\u00c9lev\\u00e9e\",\"Tr\\u00e8s \\u00e9lev\\u00e9e\"],\"y\":{\"dtype\":\"f8\",\"bdata\":\"AAAAAABQ2EAAAAAAACTfQAAAAACAmORAAAAAAIBL50AAAAAAwOPtQA==\"},\"type\":\"bar\"},{\"hovertemplate\":\"\\u003cb\\u003e%{x}\\u003c\\u002fb\\u003e\\u003cbr\\u003eCat\\u00e9gorie: Luxury\\u003cbr\\u003ePrix moyen: $%{y}\\u003cbr\\u003eNombre de v\\u00e9hicules: %{text}\",\"name\":\"Luxury\",\"text\":{\"dtype\":\"f8\",\"bdata\":\"AAAAAADAXEAAAAAAAMBxQAAAAAAAEIlAAAAAAACYiEAAAAAAAFCUQA==\"},\"textposition\":\"outside\",\"x\":[\"Tr\\u00e8s faible\",\"Faible\",\"Moyenne\",\"\\u00c9lev\\u00e9e\",\"Tr\\u00e8s \\u00e9lev\\u00e9e\"],\"y\":{\"dtype\":\"f8\",\"bdata\":\"AAAAAAAcxUAAAAAAgEfRQAAAAADgRuJAAAAAAGCA5kAAAAAA0H75QA==\"},\"type\":\"bar\"},{\"hovertemplate\":\"\\u003cb\\u003e%{x}\\u003c\\u002fb\\u003e\\u003cbr\\u003eCat\\u00e9gorie: Non d\\u00e9fini\\u003cbr\\u003ePrix moyen: $%{y}\\u003cbr\\u003eNombre de v\\u00e9hicules: %{text}\",\"name\":\"Non d\\u00e9fini\",\"text\":{\"dtype\":\"f8\",\"bdata\":\"AAAAAABglUAAAAAAAGCRQAAAAAAAmINAAAAAAABgeEAAAAAAAKBuQA==\"},\"textposition\":\"outside\",\"x\":[\"Tr\\u00e8s faible\",\"Faible\",\"Moyenne\",\"\\u00c9lev\\u00e9e\",\"Tr\\u00e8s \\u00e9lev\\u00e9e\"],\"y\":{\"dtype\":\"f8\",\"bdata\":\"AAAAAICoxkAAAAAAwOPSQAAAAAAAHdRAAAAAAGCD4EAAAAAAQFnmQA==\"},\"type\":\"bar\"},{\"hovertemplate\":\"\\u003cb\\u003e%{x}\\u003c\\u002fb\\u003e\\u003cbr\\u003eCat\\u00e9gorie: Performance\\u003cbr\\u003ePrix moyen: $%{y}\\u003cbr\\u003eNombre de v\\u00e9hicules: %{text}\",\"name\":\"Performance\",\"text\":{\"dtype\":\"f8\",\"bdata\":\"AAAAAACAUUAAAAAAAOB0QAAAAAAAUIFAAAAAAACIhEAAAAAAADB\\u002fQA==\"},\"textposition\":\"outside\",\"x\":[\"Tr\\u00e8s faible\",\"Faible\",\"Moyenne\",\"\\u00c9lev\\u00e9e\",\"Tr\\u00e8s \\u00e9lev\\u00e9e\"],\"y\":{\"dtype\":\"f8\",\"bdata\":\"AAAAAADhzkAAAAAAQNzVQAAAAADAA9tAAAAAAADw40AAAAAAQOrzQA==\"},\"type\":\"bar\"}],                        {\"template\":{\"data\":{\"histogram2dcontour\":[{\"type\":\"histogram2dcontour\",\"colorbar\":{\"outlinewidth\":0,\"ticks\":\"\"},\"colorscale\":[[0.0,\"#0d0887\"],[0.1111111111111111,\"#46039f\"],[0.2222222222222222,\"#7201a8\"],[0.3333333333333333,\"#9c179e\"],[0.4444444444444444,\"#bd3786\"],[0.5555555555555556,\"#d8576b\"],[0.6666666666666666,\"#ed7953\"],[0.7777777777777778,\"#fb9f3a\"],[0.8888888888888888,\"#fdca26\"],[1.0,\"#f0f921\"]]}],\"choropleth\":[{\"type\":\"choropleth\",\"colorbar\":{\"outlinewidth\":0,\"ticks\":\"\"}}],\"histogram2d\":[{\"type\":\"histogram2d\",\"colorbar\":{\"outlinewidth\":0,\"ticks\":\"\"},\"colorscale\":[[0.0,\"#0d0887\"],[0.1111111111111111,\"#46039f\"],[0.2222222222222222,\"#7201a8\"],[0.3333333333333333,\"#9c179e\"],[0.4444444444444444,\"#bd3786\"],[0.5555555555555556,\"#d8576b\"],[0.6666666666666666,\"#ed7953\"],[0.7777777777777778,\"#fb9f3a\"],[0.8888888888888888,\"#fdca26\"],[1.0,\"#f0f921\"]]}],\"heatmap\":[{\"type\":\"heatmap\",\"colorbar\":{\"outlinewidth\":0,\"ticks\":\"\"},\"colorscale\":[[0.0,\"#0d0887\"],[0.1111111111111111,\"#46039f\"],[0.2222222222222222,\"#7201a8\"],[0.3333333333333333,\"#9c179e\"],[0.4444444444444444,\"#bd3786\"],[0.5555555555555556,\"#d8576b\"],[0.6666666666666666,\"#ed7953\"],[0.7777777777777778,\"#fb9f3a\"],[0.8888888888888888,\"#fdca26\"],[1.0,\"#f0f921\"]]}],\"contourcarpet\":[{\"type\":\"contourcarpet\",\"colorbar\":{\"outlinewidth\":0,\"ticks\":\"\"}}],\"contour\":[{\"type\":\"contour\",\"colorbar\":{\"outlinewidth\":0,\"ticks\":\"\"},\"colorscale\":[[0.0,\"#0d0887\"],[0.1111111111111111,\"#46039f\"],[0.2222222222222222,\"#7201a8\"],[0.3333333333333333,\"#9c179e\"],[0.4444444444444444,\"#bd3786\"],[0.5555555555555556,\"#d8576b\"],[0.6666666666666666,\"#ed7953\"],[0.7777777777777778,\"#fb9f3a\"],[0.8888888888888888,\"#fdca26\"],[1.0,\"#f0f921\"]]}],\"surface\":[{\"type\":\"surface\",\"colorbar\":{\"outlinewidth\":0,\"ticks\":\"\"},\"colorscale\":[[0.0,\"#0d0887\"],[0.1111111111111111,\"#46039f\"],[0.2222222222222222,\"#7201a8\"],[0.3333333333333333,\"#9c179e\"],[0.4444444444444444,\"#bd3786\"],[0.5555555555555556,\"#d8576b\"],[0.6666666666666666,\"#ed7953\"],[0.7777777777777778,\"#fb9f3a\"],[0.8888888888888888,\"#fdca26\"],[1.0,\"#f0f921\"]]}],\"mesh3d\":[{\"type\":\"mesh3d\",\"colorbar\":{\"outlinewidth\":0,\"ticks\":\"\"}}],\"scatter\":[{\"fillpattern\":{\"fillmode\":\"overlay\",\"size\":10,\"solidity\":0.2},\"type\":\"scatter\"}],\"parcoords\":[{\"type\":\"parcoords\",\"line\":{\"colorbar\":{\"outlinewidth\":0,\"ticks\":\"\"}}}],\"scatterpolargl\":[{\"type\":\"scatterpolargl\",\"marker\":{\"colorbar\":{\"outlinewidth\":0,\"ticks\":\"\"}}}],\"bar\":[{\"error_x\":{\"color\":\"#2a3f5f\"},\"error_y\":{\"color\":\"#2a3f5f\"},\"marker\":{\"line\":{\"color\":\"#E5ECF6\",\"width\":0.5},\"pattern\":{\"fillmode\":\"overlay\",\"size\":10,\"solidity\":0.2}},\"type\":\"bar\"}],\"scattergeo\":[{\"type\":\"scattergeo\",\"marker\":{\"colorbar\":{\"outlinewidth\":0,\"ticks\":\"\"}}}],\"scatterpolar\":[{\"type\":\"scatterpolar\",\"marker\":{\"colorbar\":{\"outlinewidth\":0,\"ticks\":\"\"}}}],\"histogram\":[{\"marker\":{\"pattern\":{\"fillmode\":\"overlay\",\"size\":10,\"solidity\":0.2}},\"type\":\"histogram\"}],\"scattergl\":[{\"type\":\"scattergl\",\"marker\":{\"colorbar\":{\"outlinewidth\":0,\"ticks\":\"\"}}}],\"scatter3d\":[{\"type\":\"scatter3d\",\"line\":{\"colorbar\":{\"outlinewidth\":0,\"ticks\":\"\"}},\"marker\":{\"colorbar\":{\"outlinewidth\":0,\"ticks\":\"\"}}}],\"scattermap\":[{\"type\":\"scattermap\",\"marker\":{\"colorbar\":{\"outlinewidth\":0,\"ticks\":\"\"}}}],\"scattermapbox\":[{\"type\":\"scattermapbox\",\"marker\":{\"colorbar\":{\"outlinewidth\":0,\"ticks\":\"\"}}}],\"scatterternary\":[{\"type\":\"scatterternary\",\"marker\":{\"colorbar\":{\"outlinewidth\":0,\"ticks\":\"\"}}}],\"scattercarpet\":[{\"type\":\"scattercarpet\",\"marker\":{\"colorbar\":{\"outlinewidth\":0,\"ticks\":\"\"}}}],\"carpet\":[{\"aaxis\":{\"endlinecolor\":\"#2a3f5f\",\"gridcolor\":\"white\",\"linecolor\":\"white\",\"minorgridcolor\":\"white\",\"startlinecolor\":\"#2a3f5f\"},\"baxis\":{\"endlinecolor\":\"#2a3f5f\",\"gridcolor\":\"white\",\"linecolor\":\"white\",\"minorgridcolor\":\"white\",\"startlinecolor\":\"#2a3f5f\"},\"type\":\"carpet\"}],\"table\":[{\"cells\":{\"fill\":{\"color\":\"#EBF0F8\"},\"line\":{\"color\":\"white\"}},\"header\":{\"fill\":{\"color\":\"#C8D4E3\"},\"line\":{\"color\":\"white\"}},\"type\":\"table\"}],\"barpolar\":[{\"marker\":{\"line\":{\"color\":\"#E5ECF6\",\"width\":0.5},\"pattern\":{\"fillmode\":\"overlay\",\"size\":10,\"solidity\":0.2}},\"type\":\"barpolar\"}],\"pie\":[{\"automargin\":true,\"type\":\"pie\"}]},\"layout\":{\"autotypenumbers\":\"strict\",\"colorway\":[\"#636efa\",\"#EF553B\",\"#00cc96\",\"#ab63fa\",\"#FFA15A\",\"#19d3f3\",\"#FF6692\",\"#B6E880\",\"#FF97FF\",\"#FECB52\"],\"font\":{\"color\":\"#2a3f5f\"},\"hovermode\":\"closest\",\"hoverlabel\":{\"align\":\"left\"},\"paper_bgcolor\":\"white\",\"plot_bgcolor\":\"#E5ECF6\",\"polar\":{\"bgcolor\":\"#E5ECF6\",\"angularaxis\":{\"gridcolor\":\"white\",\"linecolor\":\"white\",\"ticks\":\"\"},\"radialaxis\":{\"gridcolor\":\"white\",\"linecolor\":\"white\",\"ticks\":\"\"}},\"ternary\":{\"bgcolor\":\"#E5ECF6\",\"aaxis\":{\"gridcolor\":\"white\",\"linecolor\":\"white\",\"ticks\":\"\"},\"baxis\":{\"gridcolor\":\"white\",\"linecolor\":\"white\",\"ticks\":\"\"},\"caxis\":{\"gridcolor\":\"white\",\"linecolor\":\"white\",\"ticks\":\"\"}},\"coloraxis\":{\"colorbar\":{\"outlinewidth\":0,\"ticks\":\"\"}},\"colorscale\":{\"sequential\":[[0.0,\"#0d0887\"],[0.1111111111111111,\"#46039f\"],[0.2222222222222222,\"#7201a8\"],[0.3333333333333333,\"#9c179e\"],[0.4444444444444444,\"#bd3786\"],[0.5555555555555556,\"#d8576b\"],[0.6666666666666666,\"#ed7953\"],[0.7777777777777778,\"#fb9f3a\"],[0.8888888888888888,\"#fdca26\"],[1.0,\"#f0f921\"]],\"sequentialminus\":[[0.0,\"#0d0887\"],[0.1111111111111111,\"#46039f\"],[0.2222222222222222,\"#7201a8\"],[0.3333333333333333,\"#9c179e\"],[0.4444444444444444,\"#bd3786\"],[0.5555555555555556,\"#d8576b\"],[0.6666666666666666,\"#ed7953\"],[0.7777777777777778,\"#fb9f3a\"],[0.8888888888888888,\"#fdca26\"],[1.0,\"#f0f921\"]],\"diverging\":[[0,\"#8e0152\"],[0.1,\"#c51b7d\"],[0.2,\"#de77ae\"],[0.3,\"#f1b6da\"],[0.4,\"#fde0ef\"],[0.5,\"#f7f7f7\"],[0.6,\"#e6f5d0\"],[0.7,\"#b8e186\"],[0.8,\"#7fbc41\"],[0.9,\"#4d9221\"],[1,\"#276419\"]]},\"xaxis\":{\"gridcolor\":\"white\",\"linecolor\":\"white\",\"ticks\":\"\",\"title\":{\"standoff\":15},\"zerolinecolor\":\"white\",\"automargin\":true,\"zerolinewidth\":2},\"yaxis\":{\"gridcolor\":\"white\",\"linecolor\":\"white\",\"ticks\":\"\",\"title\":{\"standoff\":15},\"zerolinecolor\":\"white\",\"automargin\":true,\"zerolinewidth\":2},\"scene\":{\"xaxis\":{\"backgroundcolor\":\"#E5ECF6\",\"gridcolor\":\"white\",\"linecolor\":\"white\",\"showbackground\":true,\"ticks\":\"\",\"zerolinecolor\":\"white\",\"gridwidth\":2},\"yaxis\":{\"backgroundcolor\":\"#E5ECF6\",\"gridcolor\":\"white\",\"linecolor\":\"white\",\"showbackground\":true,\"ticks\":\"\",\"zerolinecolor\":\"white\",\"gridwidth\":2},\"zaxis\":{\"backgroundcolor\":\"#E5ECF6\",\"gridcolor\":\"white\",\"linecolor\":\"white\",\"showbackground\":true,\"ticks\":\"\",\"zerolinecolor\":\"white\",\"gridwidth\":2}},\"shapedefaults\":{\"line\":{\"color\":\"#2a3f5f\"}},\"annotationdefaults\":{\"arrowcolor\":\"#2a3f5f\",\"arrowhead\":0,\"arrowwidth\":1},\"geo\":{\"bgcolor\":\"white\",\"landcolor\":\"#E5ECF6\",\"subunitcolor\":\"white\",\"showland\":true,\"showlakes\":true,\"lakecolor\":\"white\"},\"title\":{\"x\":0.05},\"mapbox\":{\"style\":\"light\"}}},\"xaxis\":{\"title\":{\"text\":\"Type de puissance moteur\"},\"categoryorder\":\"array\",\"categoryarray\":[\"Tr\\u00e8s faible\",\"Faible\",\"Moyenne\",\"\\u00c9lev\\u00e9e\",\"Tr\\u00e8s \\u00e9lev\\u00e9e\"]},\"barmode\":\"group\",\"title\":{\"text\":\"Prix moyen (price) par cat\\u00e9gorie de voiture et puissance moteur (avec nombre de v\\u00e9hicules)\"},\"yaxis\":{\"title\":{\"text\":\"Prix moyen des v\\u00e9hicules ($)\"}},\"legend\":{\"title\":{\"text\":\"Cat\\u00e9gorie de v\\u00e9hicule\"}}},                        {\"responsive\": true}                    ).then(function(){\n",
       "                            \n",
       "var gd = document.getElementById('6df61f98-5fcf-4245-863c-3cfdb2d15969');\n",
       "var x = new MutationObserver(function (mutations, observer) {{\n",
       "        var display = window.getComputedStyle(gd).display;\n",
       "        if (!display || display === 'none') {{\n",
       "            console.log([gd, 'removed!']);\n",
       "            Plotly.purge(gd);\n",
       "            observer.disconnect();\n",
       "        }}\n",
       "}});\n",
       "\n",
       "// Listen for the removal of the full notebook cells\n",
       "var notebookContainer = gd.closest('#notebook-container');\n",
       "if (notebookContainer) {{\n",
       "    x.observe(notebookContainer, {childList: true});\n",
       "}}\n",
       "\n",
       "// Listen for the clearing of the current output cell\n",
       "var outputEl = gd.closest('.output');\n",
       "if (outputEl) {{\n",
       "    x.observe(outputEl, {childList: true});\n",
       "}}\n",
       "\n",
       "                        })                };            </script>        </div>"
      ]
     },
     "metadata": {},
     "output_type": "display_data"
    }
   ],
   "source": [
    "# Nettoyage et préparation\n",
    "df_clean = df.dropna(subset=['hp', 'market', 'price']).copy()\n",
    "df_clean['HP Range'] = pd.qcut(df_clean['hp'], q=5, labels=[\n",
    "    'Très faible', 'Faible', 'Moyenne', 'Élevée', 'Très élevée'])\n",
    "df_clean['market'] = df_clean['market'].str.split(',')\n",
    "df_exploded = df_clean.explode('market')\n",
    "\n",
    "# Calcul du prix moyen\n",
    "df_price = df_exploded.groupby(['HP Range', 'market'])['price'].mean().reset_index()\n",
    "df_price['price'] = df_price['price'].round(0)\n",
    "\n",
    "# Nombre de véhicules\n",
    "vehicle_counts = df_exploded.groupby(['HP Range', 'market']).size().reset_index(name='Nombre de véhicules')\n",
    "df_price_annotated = df_price.merge(vehicle_counts, on=['HP Range', 'market'])\n",
    "\n",
    "# Création du graphique avec annotations visibles\n",
    "fig = go.Figure()\n",
    "categories = df_price_annotated['market'].unique()\n",
    "hp_order = ['Très faible', 'Faible', 'Moyenne', 'Élevée', 'Très élevée']\n",
    "\n",
    "for category in categories:\n",
    "    df_cat = df_price_annotated[df_price_annotated['market'] == category]\n",
    "    fig.add_trace(go.Bar(\n",
    "        x=df_cat['HP Range'],\n",
    "        y=df_cat['price'],\n",
    "        name=category,\n",
    "        text=df_cat['Nombre de véhicules'],\n",
    "        textposition='outside',  # texte visible au-dessus des barres\n",
    "        hovertemplate='<b>%{x}</b><br>Catégorie: ' + category + '<br>Prix moyen: $%{y}<br>Nombre de véhicules: %{text}',\n",
    "    ))\n",
    "\n",
    "# Mise en forme\n",
    "fig.update_layout(\n",
    "    barmode='group',\n",
    "    title=\"Prix moyen (price) par catégorie de voiture et puissance moteur (avec nombre de véhicules)\",\n",
    "    xaxis_title=\"Type de puissance moteur\",\n",
    "    yaxis_title=\"Prix moyen des véhicules ($)\",\n",
    "    legend_title=\"Catégorie de véhicule\",\n",
    "    xaxis={'categoryorder': 'array', 'categoryarray': hp_order}\n",
    ")\n",
    "\n",
    "fig.show()\n",
    "\n"
   ]
  },
  {
   "cell_type": "code",
   "execution_count": 301,
   "id": "b63f970e",
   "metadata": {},
   "outputs": [
    {
     "data": {
      "application/vnd.plotly.v1+json": {
       "config": {
        "plotlyServerURL": "https://plot.ly"
       },
       "data": [
        {
         "hovertemplate": "Marque=%{x}<br>Nombre de modèles=%{text}<extra></extra>",
         "legendgroup": "",
         "marker": {
          "color": "#4682B4",
          "line": {
           "color": "black",
           "width": 1
          },
          "pattern": {
           "shape": ""
          }
         },
         "name": "",
         "orientation": "v",
         "showlegend": false,
         "text": {
          "bdata": "AAAAAACAT0AAAAAAAIBJQAAAAAAAAEdAAAAAAAAAREAAAAAAAIBDQAAAAAAAgENAAAAAAAAAQ0AAAAAAAABBQAAAAAAAgEBAAAAAAAAAQEAAAAAAAAA/QAAAAAAAAD9AAAAAAAAAPkAAAAAAAAA+QAAAAAAAADpA",
          "dtype": "f8"
         },
         "textposition": "outside",
         "type": "bar",
         "x": [
          "Chevrolet",
          "Ford",
          "Lexus",
          "Mercedes-Benz",
          "BMW",
          "Toyota",
          "Infiniti",
          "Audi",
          "Dodge",
          "Nissan",
          "Volkswagen",
          "Mazda",
          "Cadillac",
          "GMC",
          "Volvo"
         ],
         "xaxis": "x",
         "y": {
          "bdata": "PzMuKCcnJiIhIB8fHh4a",
          "dtype": "i1"
         },
         "yaxis": "y"
        }
       ],
       "layout": {
        "barmode": "relative",
        "font": {
         "size": 14
        },
        "legend": {
         "tracegroupgap": 0
        },
        "margin": {
         "b": 60,
         "l": 60,
         "r": 40,
         "t": 80
        },
        "plot_bgcolor": "white",
        "template": {
         "data": {
          "bar": [
           {
            "error_x": {
             "color": "#2a3f5f"
            },
            "error_y": {
             "color": "#2a3f5f"
            },
            "marker": {
             "line": {
              "color": "#E5ECF6",
              "width": 0.5
             },
             "pattern": {
              "fillmode": "overlay",
              "size": 10,
              "solidity": 0.2
             }
            },
            "type": "bar"
           }
          ],
          "barpolar": [
           {
            "marker": {
             "line": {
              "color": "#E5ECF6",
              "width": 0.5
             },
             "pattern": {
              "fillmode": "overlay",
              "size": 10,
              "solidity": 0.2
             }
            },
            "type": "barpolar"
           }
          ],
          "carpet": [
           {
            "aaxis": {
             "endlinecolor": "#2a3f5f",
             "gridcolor": "white",
             "linecolor": "white",
             "minorgridcolor": "white",
             "startlinecolor": "#2a3f5f"
            },
            "baxis": {
             "endlinecolor": "#2a3f5f",
             "gridcolor": "white",
             "linecolor": "white",
             "minorgridcolor": "white",
             "startlinecolor": "#2a3f5f"
            },
            "type": "carpet"
           }
          ],
          "choropleth": [
           {
            "colorbar": {
             "outlinewidth": 0,
             "ticks": ""
            },
            "type": "choropleth"
           }
          ],
          "contour": [
           {
            "colorbar": {
             "outlinewidth": 0,
             "ticks": ""
            },
            "colorscale": [
             [
              0,
              "#0d0887"
             ],
             [
              0.1111111111111111,
              "#46039f"
             ],
             [
              0.2222222222222222,
              "#7201a8"
             ],
             [
              0.3333333333333333,
              "#9c179e"
             ],
             [
              0.4444444444444444,
              "#bd3786"
             ],
             [
              0.5555555555555556,
              "#d8576b"
             ],
             [
              0.6666666666666666,
              "#ed7953"
             ],
             [
              0.7777777777777778,
              "#fb9f3a"
             ],
             [
              0.8888888888888888,
              "#fdca26"
             ],
             [
              1,
              "#f0f921"
             ]
            ],
            "type": "contour"
           }
          ],
          "contourcarpet": [
           {
            "colorbar": {
             "outlinewidth": 0,
             "ticks": ""
            },
            "type": "contourcarpet"
           }
          ],
          "heatmap": [
           {
            "colorbar": {
             "outlinewidth": 0,
             "ticks": ""
            },
            "colorscale": [
             [
              0,
              "#0d0887"
             ],
             [
              0.1111111111111111,
              "#46039f"
             ],
             [
              0.2222222222222222,
              "#7201a8"
             ],
             [
              0.3333333333333333,
              "#9c179e"
             ],
             [
              0.4444444444444444,
              "#bd3786"
             ],
             [
              0.5555555555555556,
              "#d8576b"
             ],
             [
              0.6666666666666666,
              "#ed7953"
             ],
             [
              0.7777777777777778,
              "#fb9f3a"
             ],
             [
              0.8888888888888888,
              "#fdca26"
             ],
             [
              1,
              "#f0f921"
             ]
            ],
            "type": "heatmap"
           }
          ],
          "histogram": [
           {
            "marker": {
             "pattern": {
              "fillmode": "overlay",
              "size": 10,
              "solidity": 0.2
             }
            },
            "type": "histogram"
           }
          ],
          "histogram2d": [
           {
            "colorbar": {
             "outlinewidth": 0,
             "ticks": ""
            },
            "colorscale": [
             [
              0,
              "#0d0887"
             ],
             [
              0.1111111111111111,
              "#46039f"
             ],
             [
              0.2222222222222222,
              "#7201a8"
             ],
             [
              0.3333333333333333,
              "#9c179e"
             ],
             [
              0.4444444444444444,
              "#bd3786"
             ],
             [
              0.5555555555555556,
              "#d8576b"
             ],
             [
              0.6666666666666666,
              "#ed7953"
             ],
             [
              0.7777777777777778,
              "#fb9f3a"
             ],
             [
              0.8888888888888888,
              "#fdca26"
             ],
             [
              1,
              "#f0f921"
             ]
            ],
            "type": "histogram2d"
           }
          ],
          "histogram2dcontour": [
           {
            "colorbar": {
             "outlinewidth": 0,
             "ticks": ""
            },
            "colorscale": [
             [
              0,
              "#0d0887"
             ],
             [
              0.1111111111111111,
              "#46039f"
             ],
             [
              0.2222222222222222,
              "#7201a8"
             ],
             [
              0.3333333333333333,
              "#9c179e"
             ],
             [
              0.4444444444444444,
              "#bd3786"
             ],
             [
              0.5555555555555556,
              "#d8576b"
             ],
             [
              0.6666666666666666,
              "#ed7953"
             ],
             [
              0.7777777777777778,
              "#fb9f3a"
             ],
             [
              0.8888888888888888,
              "#fdca26"
             ],
             [
              1,
              "#f0f921"
             ]
            ],
            "type": "histogram2dcontour"
           }
          ],
          "mesh3d": [
           {
            "colorbar": {
             "outlinewidth": 0,
             "ticks": ""
            },
            "type": "mesh3d"
           }
          ],
          "parcoords": [
           {
            "line": {
             "colorbar": {
              "outlinewidth": 0,
              "ticks": ""
             }
            },
            "type": "parcoords"
           }
          ],
          "pie": [
           {
            "automargin": true,
            "type": "pie"
           }
          ],
          "scatter": [
           {
            "fillpattern": {
             "fillmode": "overlay",
             "size": 10,
             "solidity": 0.2
            },
            "type": "scatter"
           }
          ],
          "scatter3d": [
           {
            "line": {
             "colorbar": {
              "outlinewidth": 0,
              "ticks": ""
             }
            },
            "marker": {
             "colorbar": {
              "outlinewidth": 0,
              "ticks": ""
             }
            },
            "type": "scatter3d"
           }
          ],
          "scattercarpet": [
           {
            "marker": {
             "colorbar": {
              "outlinewidth": 0,
              "ticks": ""
             }
            },
            "type": "scattercarpet"
           }
          ],
          "scattergeo": [
           {
            "marker": {
             "colorbar": {
              "outlinewidth": 0,
              "ticks": ""
             }
            },
            "type": "scattergeo"
           }
          ],
          "scattergl": [
           {
            "marker": {
             "colorbar": {
              "outlinewidth": 0,
              "ticks": ""
             }
            },
            "type": "scattergl"
           }
          ],
          "scattermap": [
           {
            "marker": {
             "colorbar": {
              "outlinewidth": 0,
              "ticks": ""
             }
            },
            "type": "scattermap"
           }
          ],
          "scattermapbox": [
           {
            "marker": {
             "colorbar": {
              "outlinewidth": 0,
              "ticks": ""
             }
            },
            "type": "scattermapbox"
           }
          ],
          "scatterpolar": [
           {
            "marker": {
             "colorbar": {
              "outlinewidth": 0,
              "ticks": ""
             }
            },
            "type": "scatterpolar"
           }
          ],
          "scatterpolargl": [
           {
            "marker": {
             "colorbar": {
              "outlinewidth": 0,
              "ticks": ""
             }
            },
            "type": "scatterpolargl"
           }
          ],
          "scatterternary": [
           {
            "marker": {
             "colorbar": {
              "outlinewidth": 0,
              "ticks": ""
             }
            },
            "type": "scatterternary"
           }
          ],
          "surface": [
           {
            "colorbar": {
             "outlinewidth": 0,
             "ticks": ""
            },
            "colorscale": [
             [
              0,
              "#0d0887"
             ],
             [
              0.1111111111111111,
              "#46039f"
             ],
             [
              0.2222222222222222,
              "#7201a8"
             ],
             [
              0.3333333333333333,
              "#9c179e"
             ],
             [
              0.4444444444444444,
              "#bd3786"
             ],
             [
              0.5555555555555556,
              "#d8576b"
             ],
             [
              0.6666666666666666,
              "#ed7953"
             ],
             [
              0.7777777777777778,
              "#fb9f3a"
             ],
             [
              0.8888888888888888,
              "#fdca26"
             ],
             [
              1,
              "#f0f921"
             ]
            ],
            "type": "surface"
           }
          ],
          "table": [
           {
            "cells": {
             "fill": {
              "color": "#EBF0F8"
             },
             "line": {
              "color": "white"
             }
            },
            "header": {
             "fill": {
              "color": "#C8D4E3"
             },
             "line": {
              "color": "white"
             }
            },
            "type": "table"
           }
          ]
         },
         "layout": {
          "annotationdefaults": {
           "arrowcolor": "#2a3f5f",
           "arrowhead": 0,
           "arrowwidth": 1
          },
          "autotypenumbers": "strict",
          "coloraxis": {
           "colorbar": {
            "outlinewidth": 0,
            "ticks": ""
           }
          },
          "colorscale": {
           "diverging": [
            [
             0,
             "#8e0152"
            ],
            [
             0.1,
             "#c51b7d"
            ],
            [
             0.2,
             "#de77ae"
            ],
            [
             0.3,
             "#f1b6da"
            ],
            [
             0.4,
             "#fde0ef"
            ],
            [
             0.5,
             "#f7f7f7"
            ],
            [
             0.6,
             "#e6f5d0"
            ],
            [
             0.7,
             "#b8e186"
            ],
            [
             0.8,
             "#7fbc41"
            ],
            [
             0.9,
             "#4d9221"
            ],
            [
             1,
             "#276419"
            ]
           ],
           "sequential": [
            [
             0,
             "#0d0887"
            ],
            [
             0.1111111111111111,
             "#46039f"
            ],
            [
             0.2222222222222222,
             "#7201a8"
            ],
            [
             0.3333333333333333,
             "#9c179e"
            ],
            [
             0.4444444444444444,
             "#bd3786"
            ],
            [
             0.5555555555555556,
             "#d8576b"
            ],
            [
             0.6666666666666666,
             "#ed7953"
            ],
            [
             0.7777777777777778,
             "#fb9f3a"
            ],
            [
             0.8888888888888888,
             "#fdca26"
            ],
            [
             1,
             "#f0f921"
            ]
           ],
           "sequentialminus": [
            [
             0,
             "#0d0887"
            ],
            [
             0.1111111111111111,
             "#46039f"
            ],
            [
             0.2222222222222222,
             "#7201a8"
            ],
            [
             0.3333333333333333,
             "#9c179e"
            ],
            [
             0.4444444444444444,
             "#bd3786"
            ],
            [
             0.5555555555555556,
             "#d8576b"
            ],
            [
             0.6666666666666666,
             "#ed7953"
            ],
            [
             0.7777777777777778,
             "#fb9f3a"
            ],
            [
             0.8888888888888888,
             "#fdca26"
            ],
            [
             1,
             "#f0f921"
            ]
           ]
          },
          "colorway": [
           "#636efa",
           "#EF553B",
           "#00cc96",
           "#ab63fa",
           "#FFA15A",
           "#19d3f3",
           "#FF6692",
           "#B6E880",
           "#FF97FF",
           "#FECB52"
          ],
          "font": {
           "color": "#2a3f5f"
          },
          "geo": {
           "bgcolor": "white",
           "lakecolor": "white",
           "landcolor": "#E5ECF6",
           "showlakes": true,
           "showland": true,
           "subunitcolor": "white"
          },
          "hoverlabel": {
           "align": "left"
          },
          "hovermode": "closest",
          "mapbox": {
           "style": "light"
          },
          "paper_bgcolor": "white",
          "plot_bgcolor": "#E5ECF6",
          "polar": {
           "angularaxis": {
            "gridcolor": "white",
            "linecolor": "white",
            "ticks": ""
           },
           "bgcolor": "#E5ECF6",
           "radialaxis": {
            "gridcolor": "white",
            "linecolor": "white",
            "ticks": ""
           }
          },
          "scene": {
           "xaxis": {
            "backgroundcolor": "#E5ECF6",
            "gridcolor": "white",
            "gridwidth": 2,
            "linecolor": "white",
            "showbackground": true,
            "ticks": "",
            "zerolinecolor": "white"
           },
           "yaxis": {
            "backgroundcolor": "#E5ECF6",
            "gridcolor": "white",
            "gridwidth": 2,
            "linecolor": "white",
            "showbackground": true,
            "ticks": "",
            "zerolinecolor": "white"
           },
           "zaxis": {
            "backgroundcolor": "#E5ECF6",
            "gridcolor": "white",
            "gridwidth": 2,
            "linecolor": "white",
            "showbackground": true,
            "ticks": "",
            "zerolinecolor": "white"
           }
          },
          "shapedefaults": {
           "line": {
            "color": "#2a3f5f"
           }
          },
          "ternary": {
           "aaxis": {
            "gridcolor": "white",
            "linecolor": "white",
            "ticks": ""
           },
           "baxis": {
            "gridcolor": "white",
            "linecolor": "white",
            "ticks": ""
           },
           "bgcolor": "#E5ECF6",
           "caxis": {
            "gridcolor": "white",
            "linecolor": "white",
            "ticks": ""
           }
          },
          "title": {
           "x": 0.05
          },
          "xaxis": {
           "automargin": true,
           "gridcolor": "white",
           "linecolor": "white",
           "ticks": "",
           "title": {
            "standoff": 15
           },
           "zerolinecolor": "white",
           "zerolinewidth": 2
          },
          "yaxis": {
           "automargin": true,
           "gridcolor": "white",
           "linecolor": "white",
           "ticks": "",
           "title": {
            "standoff": 15
           },
           "zerolinecolor": "white",
           "zerolinewidth": 2
          }
         }
        },
        "title": {
         "font": {
          "size": 20
         },
         "text": "Top 15 des marques avec le plus grand nombre de modèles distincts",
         "x": 0.5
        },
        "xaxis": {
         "anchor": "y",
         "domain": [
          0,
          1
         ],
         "tickangle": -30,
         "tickfont": {
          "size": 13
         },
         "title": {
          "font": {
           "size": 16
          },
          "text": "Marque"
         }
        },
        "yaxis": {
         "anchor": "x",
         "domain": [
          0,
          1
         ],
         "gridcolor": "lightgrey",
         "tickfont": {
          "size": 13
         },
         "title": {
          "font": {
           "size": 16
          },
          "text": "Nombre de modèles"
         }
        }
       }
      },
      "text/html": [
       "<div>            <script src=\"https://cdnjs.cloudflare.com/ajax/libs/mathjax/2.7.5/MathJax.js?config=TeX-AMS-MML_SVG\"></script><script type=\"text/javascript\">if (window.MathJax && window.MathJax.Hub && window.MathJax.Hub.Config) {window.MathJax.Hub.Config({SVG: {font: \"STIX-Web\"}});}</script>                <script type=\"text/javascript\">window.PlotlyConfig = {MathJaxConfig: 'local'};</script>\n",
       "        <script charset=\"utf-8\" src=\"https://cdn.plot.ly/plotly-3.0.1.min.js\"></script>                <div id=\"2ff903e2-e64c-4dc4-a881-c91efff1deba\" class=\"plotly-graph-div\" style=\"height:525px; width:100%;\"></div>            <script type=\"text/javascript\">                window.PLOTLYENV=window.PLOTLYENV || {};                                if (document.getElementById(\"2ff903e2-e64c-4dc4-a881-c91efff1deba\")) {                    Plotly.newPlot(                        \"2ff903e2-e64c-4dc4-a881-c91efff1deba\",                        [{\"hovertemplate\":\"Marque=%{x}\\u003cbr\\u003eNombre de mod\\u00e8les=%{text}\\u003cextra\\u003e\\u003c\\u002fextra\\u003e\",\"legendgroup\":\"\",\"marker\":{\"color\":\"#4682B4\",\"pattern\":{\"shape\":\"\"},\"line\":{\"color\":\"black\",\"width\":1}},\"name\":\"\",\"orientation\":\"v\",\"showlegend\":false,\"text\":{\"dtype\":\"f8\",\"bdata\":\"AAAAAACAT0AAAAAAAIBJQAAAAAAAAEdAAAAAAAAAREAAAAAAAIBDQAAAAAAAgENAAAAAAAAAQ0AAAAAAAABBQAAAAAAAgEBAAAAAAAAAQEAAAAAAAAA\\u002fQAAAAAAAAD9AAAAAAAAAPkAAAAAAAAA+QAAAAAAAADpA\"},\"textposition\":\"outside\",\"x\":[\"Chevrolet\",\"Ford\",\"Lexus\",\"Mercedes-Benz\",\"BMW\",\"Toyota\",\"Infiniti\",\"Audi\",\"Dodge\",\"Nissan\",\"Volkswagen\",\"Mazda\",\"Cadillac\",\"GMC\",\"Volvo\"],\"xaxis\":\"x\",\"y\":{\"dtype\":\"i1\",\"bdata\":\"PzMuKCcnJiIhIB8fHh4a\"},\"yaxis\":\"y\",\"type\":\"bar\"}],                        {\"template\":{\"data\":{\"histogram2dcontour\":[{\"type\":\"histogram2dcontour\",\"colorbar\":{\"outlinewidth\":0,\"ticks\":\"\"},\"colorscale\":[[0.0,\"#0d0887\"],[0.1111111111111111,\"#46039f\"],[0.2222222222222222,\"#7201a8\"],[0.3333333333333333,\"#9c179e\"],[0.4444444444444444,\"#bd3786\"],[0.5555555555555556,\"#d8576b\"],[0.6666666666666666,\"#ed7953\"],[0.7777777777777778,\"#fb9f3a\"],[0.8888888888888888,\"#fdca26\"],[1.0,\"#f0f921\"]]}],\"choropleth\":[{\"type\":\"choropleth\",\"colorbar\":{\"outlinewidth\":0,\"ticks\":\"\"}}],\"histogram2d\":[{\"type\":\"histogram2d\",\"colorbar\":{\"outlinewidth\":0,\"ticks\":\"\"},\"colorscale\":[[0.0,\"#0d0887\"],[0.1111111111111111,\"#46039f\"],[0.2222222222222222,\"#7201a8\"],[0.3333333333333333,\"#9c179e\"],[0.4444444444444444,\"#bd3786\"],[0.5555555555555556,\"#d8576b\"],[0.6666666666666666,\"#ed7953\"],[0.7777777777777778,\"#fb9f3a\"],[0.8888888888888888,\"#fdca26\"],[1.0,\"#f0f921\"]]}],\"heatmap\":[{\"type\":\"heatmap\",\"colorbar\":{\"outlinewidth\":0,\"ticks\":\"\"},\"colorscale\":[[0.0,\"#0d0887\"],[0.1111111111111111,\"#46039f\"],[0.2222222222222222,\"#7201a8\"],[0.3333333333333333,\"#9c179e\"],[0.4444444444444444,\"#bd3786\"],[0.5555555555555556,\"#d8576b\"],[0.6666666666666666,\"#ed7953\"],[0.7777777777777778,\"#fb9f3a\"],[0.8888888888888888,\"#fdca26\"],[1.0,\"#f0f921\"]]}],\"contourcarpet\":[{\"type\":\"contourcarpet\",\"colorbar\":{\"outlinewidth\":0,\"ticks\":\"\"}}],\"contour\":[{\"type\":\"contour\",\"colorbar\":{\"outlinewidth\":0,\"ticks\":\"\"},\"colorscale\":[[0.0,\"#0d0887\"],[0.1111111111111111,\"#46039f\"],[0.2222222222222222,\"#7201a8\"],[0.3333333333333333,\"#9c179e\"],[0.4444444444444444,\"#bd3786\"],[0.5555555555555556,\"#d8576b\"],[0.6666666666666666,\"#ed7953\"],[0.7777777777777778,\"#fb9f3a\"],[0.8888888888888888,\"#fdca26\"],[1.0,\"#f0f921\"]]}],\"surface\":[{\"type\":\"surface\",\"colorbar\":{\"outlinewidth\":0,\"ticks\":\"\"},\"colorscale\":[[0.0,\"#0d0887\"],[0.1111111111111111,\"#46039f\"],[0.2222222222222222,\"#7201a8\"],[0.3333333333333333,\"#9c179e\"],[0.4444444444444444,\"#bd3786\"],[0.5555555555555556,\"#d8576b\"],[0.6666666666666666,\"#ed7953\"],[0.7777777777777778,\"#fb9f3a\"],[0.8888888888888888,\"#fdca26\"],[1.0,\"#f0f921\"]]}],\"mesh3d\":[{\"type\":\"mesh3d\",\"colorbar\":{\"outlinewidth\":0,\"ticks\":\"\"}}],\"scatter\":[{\"fillpattern\":{\"fillmode\":\"overlay\",\"size\":10,\"solidity\":0.2},\"type\":\"scatter\"}],\"parcoords\":[{\"type\":\"parcoords\",\"line\":{\"colorbar\":{\"outlinewidth\":0,\"ticks\":\"\"}}}],\"scatterpolargl\":[{\"type\":\"scatterpolargl\",\"marker\":{\"colorbar\":{\"outlinewidth\":0,\"ticks\":\"\"}}}],\"bar\":[{\"error_x\":{\"color\":\"#2a3f5f\"},\"error_y\":{\"color\":\"#2a3f5f\"},\"marker\":{\"line\":{\"color\":\"#E5ECF6\",\"width\":0.5},\"pattern\":{\"fillmode\":\"overlay\",\"size\":10,\"solidity\":0.2}},\"type\":\"bar\"}],\"scattergeo\":[{\"type\":\"scattergeo\",\"marker\":{\"colorbar\":{\"outlinewidth\":0,\"ticks\":\"\"}}}],\"scatterpolar\":[{\"type\":\"scatterpolar\",\"marker\":{\"colorbar\":{\"outlinewidth\":0,\"ticks\":\"\"}}}],\"histogram\":[{\"marker\":{\"pattern\":{\"fillmode\":\"overlay\",\"size\":10,\"solidity\":0.2}},\"type\":\"histogram\"}],\"scattergl\":[{\"type\":\"scattergl\",\"marker\":{\"colorbar\":{\"outlinewidth\":0,\"ticks\":\"\"}}}],\"scatter3d\":[{\"type\":\"scatter3d\",\"line\":{\"colorbar\":{\"outlinewidth\":0,\"ticks\":\"\"}},\"marker\":{\"colorbar\":{\"outlinewidth\":0,\"ticks\":\"\"}}}],\"scattermap\":[{\"type\":\"scattermap\",\"marker\":{\"colorbar\":{\"outlinewidth\":0,\"ticks\":\"\"}}}],\"scattermapbox\":[{\"type\":\"scattermapbox\",\"marker\":{\"colorbar\":{\"outlinewidth\":0,\"ticks\":\"\"}}}],\"scatterternary\":[{\"type\":\"scatterternary\",\"marker\":{\"colorbar\":{\"outlinewidth\":0,\"ticks\":\"\"}}}],\"scattercarpet\":[{\"type\":\"scattercarpet\",\"marker\":{\"colorbar\":{\"outlinewidth\":0,\"ticks\":\"\"}}}],\"carpet\":[{\"aaxis\":{\"endlinecolor\":\"#2a3f5f\",\"gridcolor\":\"white\",\"linecolor\":\"white\",\"minorgridcolor\":\"white\",\"startlinecolor\":\"#2a3f5f\"},\"baxis\":{\"endlinecolor\":\"#2a3f5f\",\"gridcolor\":\"white\",\"linecolor\":\"white\",\"minorgridcolor\":\"white\",\"startlinecolor\":\"#2a3f5f\"},\"type\":\"carpet\"}],\"table\":[{\"cells\":{\"fill\":{\"color\":\"#EBF0F8\"},\"line\":{\"color\":\"white\"}},\"header\":{\"fill\":{\"color\":\"#C8D4E3\"},\"line\":{\"color\":\"white\"}},\"type\":\"table\"}],\"barpolar\":[{\"marker\":{\"line\":{\"color\":\"#E5ECF6\",\"width\":0.5},\"pattern\":{\"fillmode\":\"overlay\",\"size\":10,\"solidity\":0.2}},\"type\":\"barpolar\"}],\"pie\":[{\"automargin\":true,\"type\":\"pie\"}]},\"layout\":{\"autotypenumbers\":\"strict\",\"colorway\":[\"#636efa\",\"#EF553B\",\"#00cc96\",\"#ab63fa\",\"#FFA15A\",\"#19d3f3\",\"#FF6692\",\"#B6E880\",\"#FF97FF\",\"#FECB52\"],\"font\":{\"color\":\"#2a3f5f\"},\"hovermode\":\"closest\",\"hoverlabel\":{\"align\":\"left\"},\"paper_bgcolor\":\"white\",\"plot_bgcolor\":\"#E5ECF6\",\"polar\":{\"bgcolor\":\"#E5ECF6\",\"angularaxis\":{\"gridcolor\":\"white\",\"linecolor\":\"white\",\"ticks\":\"\"},\"radialaxis\":{\"gridcolor\":\"white\",\"linecolor\":\"white\",\"ticks\":\"\"}},\"ternary\":{\"bgcolor\":\"#E5ECF6\",\"aaxis\":{\"gridcolor\":\"white\",\"linecolor\":\"white\",\"ticks\":\"\"},\"baxis\":{\"gridcolor\":\"white\",\"linecolor\":\"white\",\"ticks\":\"\"},\"caxis\":{\"gridcolor\":\"white\",\"linecolor\":\"white\",\"ticks\":\"\"}},\"coloraxis\":{\"colorbar\":{\"outlinewidth\":0,\"ticks\":\"\"}},\"colorscale\":{\"sequential\":[[0.0,\"#0d0887\"],[0.1111111111111111,\"#46039f\"],[0.2222222222222222,\"#7201a8\"],[0.3333333333333333,\"#9c179e\"],[0.4444444444444444,\"#bd3786\"],[0.5555555555555556,\"#d8576b\"],[0.6666666666666666,\"#ed7953\"],[0.7777777777777778,\"#fb9f3a\"],[0.8888888888888888,\"#fdca26\"],[1.0,\"#f0f921\"]],\"sequentialminus\":[[0.0,\"#0d0887\"],[0.1111111111111111,\"#46039f\"],[0.2222222222222222,\"#7201a8\"],[0.3333333333333333,\"#9c179e\"],[0.4444444444444444,\"#bd3786\"],[0.5555555555555556,\"#d8576b\"],[0.6666666666666666,\"#ed7953\"],[0.7777777777777778,\"#fb9f3a\"],[0.8888888888888888,\"#fdca26\"],[1.0,\"#f0f921\"]],\"diverging\":[[0,\"#8e0152\"],[0.1,\"#c51b7d\"],[0.2,\"#de77ae\"],[0.3,\"#f1b6da\"],[0.4,\"#fde0ef\"],[0.5,\"#f7f7f7\"],[0.6,\"#e6f5d0\"],[0.7,\"#b8e186\"],[0.8,\"#7fbc41\"],[0.9,\"#4d9221\"],[1,\"#276419\"]]},\"xaxis\":{\"gridcolor\":\"white\",\"linecolor\":\"white\",\"ticks\":\"\",\"title\":{\"standoff\":15},\"zerolinecolor\":\"white\",\"automargin\":true,\"zerolinewidth\":2},\"yaxis\":{\"gridcolor\":\"white\",\"linecolor\":\"white\",\"ticks\":\"\",\"title\":{\"standoff\":15},\"zerolinecolor\":\"white\",\"automargin\":true,\"zerolinewidth\":2},\"scene\":{\"xaxis\":{\"backgroundcolor\":\"#E5ECF6\",\"gridcolor\":\"white\",\"linecolor\":\"white\",\"showbackground\":true,\"ticks\":\"\",\"zerolinecolor\":\"white\",\"gridwidth\":2},\"yaxis\":{\"backgroundcolor\":\"#E5ECF6\",\"gridcolor\":\"white\",\"linecolor\":\"white\",\"showbackground\":true,\"ticks\":\"\",\"zerolinecolor\":\"white\",\"gridwidth\":2},\"zaxis\":{\"backgroundcolor\":\"#E5ECF6\",\"gridcolor\":\"white\",\"linecolor\":\"white\",\"showbackground\":true,\"ticks\":\"\",\"zerolinecolor\":\"white\",\"gridwidth\":2}},\"shapedefaults\":{\"line\":{\"color\":\"#2a3f5f\"}},\"annotationdefaults\":{\"arrowcolor\":\"#2a3f5f\",\"arrowhead\":0,\"arrowwidth\":1},\"geo\":{\"bgcolor\":\"white\",\"landcolor\":\"#E5ECF6\",\"subunitcolor\":\"white\",\"showland\":true,\"showlakes\":true,\"lakecolor\":\"white\"},\"title\":{\"x\":0.05},\"mapbox\":{\"style\":\"light\"}}},\"xaxis\":{\"anchor\":\"y\",\"domain\":[0.0,1.0],\"title\":{\"text\":\"Marque\",\"font\":{\"size\":16}},\"tickfont\":{\"size\":13},\"tickangle\":-30},\"yaxis\":{\"anchor\":\"x\",\"domain\":[0.0,1.0],\"title\":{\"text\":\"Nombre de mod\\u00e8les\",\"font\":{\"size\":16}},\"tickfont\":{\"size\":13},\"gridcolor\":\"lightgrey\"},\"legend\":{\"tracegroupgap\":0},\"title\":{\"text\":\"Top 15 des marques avec le plus grand nombre de mod\\u00e8les distincts\",\"font\":{\"size\":20},\"x\":0.5},\"barmode\":\"relative\",\"font\":{\"size\":14},\"margin\":{\"t\":80,\"b\":60,\"l\":60,\"r\":40},\"plot_bgcolor\":\"white\"},                        {\"responsive\": true}                    ).then(function(){\n",
       "                            \n",
       "var gd = document.getElementById('2ff903e2-e64c-4dc4-a881-c91efff1deba');\n",
       "var x = new MutationObserver(function (mutations, observer) {{\n",
       "        var display = window.getComputedStyle(gd).display;\n",
       "        if (!display || display === 'none') {{\n",
       "            console.log([gd, 'removed!']);\n",
       "            Plotly.purge(gd);\n",
       "            observer.disconnect();\n",
       "        }}\n",
       "}});\n",
       "\n",
       "// Listen for the removal of the full notebook cells\n",
       "var notebookContainer = gd.closest('#notebook-container');\n",
       "if (notebookContainer) {{\n",
       "    x.observe(notebookContainer, {childList: true});\n",
       "}}\n",
       "\n",
       "// Listen for the clearing of the current output cell\n",
       "var outputEl = gd.closest('.output');\n",
       "if (outputEl) {{\n",
       "    x.observe(outputEl, {childList: true});\n",
       "}}\n",
       "\n",
       "                        })                };            </script>        </div>"
      ]
     },
     "metadata": {},
     "output_type": "display_data"
    }
   ],
   "source": [
    "# Suppression des doublons et des lignes avec valeurs manquantes\n",
    "df_clean1 = df.dropna(subset=['make', 'model']).copy()\n",
    "df_clean1 = df_clean1.drop_duplicates(subset=['make', 'model'])\n",
    "\n",
    "# Comptage des modèles distincts par marque\n",
    "model_counts = df_clean1.groupby('make')['model'].nunique().reset_index()\n",
    "model_counts.columns = ['Marque', 'Nombre de modèles']\n",
    "model_counts = model_counts.sort_values(by='Nombre de modèles', ascending=False)\n",
    "\n",
    "# Création du bar chart avec une couleur douce et harmonieuse\n",
    "fig = px.bar(\n",
    "    model_counts.head(15),\n",
    "    x='Marque',\n",
    "    y='Nombre de modèles',\n",
    "    text='Nombre de modèles',\n",
    "    title=\"Top 15 des marques avec le plus grand nombre de modèles distincts\",\n",
    "    color_discrete_sequence=[\"#4682B4\"]  # bleu acier doux\n",
    ")\n",
    "\n",
    "# Mise en forme visuelle\n",
    "fig.update_layout(\n",
    "    title=dict(x=0.5, font=dict(size=20)),\n",
    "    font=dict(size=14),\n",
    "    xaxis=dict(\n",
    "        title=dict(text=\"Marque\", font=dict(size=16)),\n",
    "        tickfont=dict(size=13),\n",
    "        tickangle=-30\n",
    "    ),\n",
    "    yaxis=dict(\n",
    "        title=dict(text=\"Nombre de modèles\", font=dict(size=16)),\n",
    "        tickfont=dict(size=13),\n",
    "        gridcolor='lightgrey'\n",
    "    ),\n",
    "    plot_bgcolor='white',\n",
    "    margin=dict(t=80, b=60, l=60, r=40)\n",
    ")\n",
    "\n",
    "fig.update_traces(\n",
    "    textposition=\"outside\",\n",
    "    marker=dict(line=dict(width=1, color='black'))\n",
    ")\n",
    "\n",
    "fig.show()\n"
   ]
  },
  {
   "cell_type": "code",
   "execution_count": 302,
   "id": "08260465",
   "metadata": {},
   "outputs": [
    {
     "data": {
      "application/vnd.plotly.v1+json": {
       "config": {
        "plotlyServerURL": "https://plot.ly"
       },
       "data": [
        {
         "hovertemplate": "market=Crossover<br>make=%{x}<br>Nb modèles=%{text}<extra></extra>",
         "legendgroup": "Crossover",
         "marker": {
          "color": "#1F77B4",
          "line": {
           "color": "black",
           "width": 0.5
          },
          "pattern": {
           "shape": ""
          }
         },
         "name": "Crossover",
         "orientation": "v",
         "showlegend": true,
         "text": {
          "bdata": "AAAAAAAAMEAAAAAAAAAcQAAAAAAAACxAAAAAAAAAIEAAAAAAAAA6QA==",
          "dtype": "f8"
         },
         "textposition": "inside",
         "type": "bar",
         "x": [
          "BMW",
          "Chevrolet",
          "Ford",
          "Lexus",
          "Mercedes-Benz"
         ],
         "xaxis": "x",
         "y": {
          "bdata": "EAcOCBo=",
          "dtype": "i1"
         },
         "yaxis": "y"
        },
        {
         "hovertemplate": "market=Diesel<br>make=%{x}<br>Nb modèles=%{text}<extra></extra>",
         "legendgroup": "Diesel",
         "marker": {
          "color": "#FF7F0E",
          "line": {
           "color": "black",
           "width": 0.5
          },
          "pattern": {
           "shape": ""
          }
         },
         "name": "Diesel",
         "orientation": "v",
         "showlegend": true,
         "text": {
          "bdata": "AAAAAAAAFEAAAAAAAAAAQAAAAAAAAABAAAAAAAAAIEA=",
          "dtype": "f8"
         },
         "textposition": "inside",
         "type": "bar",
         "x": [
          "BMW",
          "Chevrolet",
          "Ford",
          "Mercedes-Benz"
         ],
         "xaxis": "x",
         "y": {
          "bdata": "BQICCA==",
          "dtype": "i1"
         },
         "yaxis": "y"
        },
        {
         "hovertemplate": "market=Exotic<br>make=%{x}<br>Nb modèles=%{text}<extra></extra>",
         "legendgroup": "Exotic",
         "marker": {
          "color": "#2CA02C",
          "line": {
           "color": "black",
           "width": 0.5
          },
          "pattern": {
           "shape": ""
          }
         },
         "name": "Exotic",
         "orientation": "v",
         "showlegend": true,
         "text": {
          "bdata": "AAAAAAAAAEAAAAAAAADwPwAAAAAAAPA/AAAAAAAAGEA=",
          "dtype": "f8"
         },
         "textposition": "inside",
         "type": "bar",
         "x": [
          "BMW",
          "Ford",
          "Lexus",
          "Mercedes-Benz"
         ],
         "xaxis": "x",
         "y": {
          "bdata": "AgEBBg==",
          "dtype": "i1"
         },
         "yaxis": "y"
        },
        {
         "hovertemplate": "market=Factory Tuner<br>make=%{x}<br>Nb modèles=%{text}<extra></extra>",
         "legendgroup": "Factory Tuner",
         "marker": {
          "color": "#D62728",
          "line": {
           "color": "black",
           "width": 0.5
          },
          "pattern": {
           "shape": ""
          }
         },
         "name": "Factory Tuner",
         "orientation": "v",
         "showlegend": true,
         "text": {
          "bdata": "AAAAAAAAMkAAAAAAAAAYQAAAAAAAACJAAAAAAAAACEAAAAAAAAA8QA==",
          "dtype": "f8"
         },
         "textposition": "inside",
         "type": "bar",
         "x": [
          "BMW",
          "Chevrolet",
          "Ford",
          "Lexus",
          "Mercedes-Benz"
         ],
         "xaxis": "x",
         "y": {
          "bdata": "EgYJAxw=",
          "dtype": "i1"
         },
         "yaxis": "y"
        },
        {
         "hovertemplate": "market=Hatchback<br>make=%{x}<br>Nb modèles=%{text}<extra></extra>",
         "legendgroup": "Hatchback",
         "marker": {
          "color": "#9467BD",
          "line": {
           "color": "black",
           "width": 0.5
          },
          "pattern": {
           "shape": ""
          }
         },
         "name": "Hatchback",
         "orientation": "v",
         "showlegend": true,
         "text": {
          "bdata": "AAAAAAAAGEAAAAAAAAAiQAAAAAAAACRAAAAAAAAA8D8AAAAAAADwPw==",
          "dtype": "f8"
         },
         "textposition": "inside",
         "type": "bar",
         "x": [
          "BMW",
          "Chevrolet",
          "Ford",
          "Lexus",
          "Mercedes-Benz"
         ],
         "xaxis": "x",
         "y": {
          "bdata": "BgkKAQE=",
          "dtype": "i1"
         },
         "yaxis": "y"
        },
        {
         "hovertemplate": "market=High-Performance<br>make=%{x}<br>Nb modèles=%{text}<extra></extra>",
         "legendgroup": "High-Performance",
         "marker": {
          "color": "#8C564B",
          "line": {
           "color": "black",
           "width": 0.5
          },
          "pattern": {
           "shape": ""
          }
         },
         "name": "High-Performance",
         "orientation": "v",
         "showlegend": true,
         "text": {
          "bdata": "AAAAAAAAO0AAAAAAAAAgQAAAAAAAABhAAAAAAAAAIkAAAAAAAAA/QA==",
          "dtype": "f8"
         },
         "textposition": "inside",
         "type": "bar",
         "x": [
          "BMW",
          "Chevrolet",
          "Ford",
          "Lexus",
          "Mercedes-Benz"
         ],
         "xaxis": "x",
         "y": {
          "bdata": "GwgGCR8=",
          "dtype": "i1"
         },
         "yaxis": "y"
        },
        {
         "hovertemplate": "market=Hybrid<br>make=%{x}<br>Nb modèles=%{text}<extra></extra>",
         "legendgroup": "Hybrid",
         "marker": {
          "color": "#E377C2",
          "line": {
           "color": "black",
           "width": 0.5
          },
          "pattern": {
           "shape": ""
          }
         },
         "name": "Hybrid",
         "orientation": "v",
         "showlegend": true,
         "text": {
          "bdata": "AAAAAAAAEEAAAAAAAAAUQAAAAAAAAAhAAAAAAAAAIEAAAAAAAADwPw==",
          "dtype": "f8"
         },
         "textposition": "inside",
         "type": "bar",
         "x": [
          "BMW",
          "Chevrolet",
          "Ford",
          "Lexus",
          "Mercedes-Benz"
         ],
         "xaxis": "x",
         "y": {
          "bdata": "BAUDCAE=",
          "dtype": "i1"
         },
         "yaxis": "y"
        },
        {
         "hovertemplate": "market=Luxury<br>make=%{x}<br>Nb modèles=%{text}<extra></extra>",
         "legendgroup": "Luxury",
         "marker": {
          "color": "#7F7F7F",
          "line": {
           "color": "black",
           "width": 0.5
          },
          "pattern": {
           "shape": ""
          }
         },
         "name": "Luxury",
         "orientation": "v",
         "showlegend": true,
         "text": {
          "bdata": "AAAAAACAUUAAAAAAAADwPwAAAAAAgElAAAAAAADAVEA=",
          "dtype": "f8"
         },
         "textposition": "inside",
         "type": "bar",
         "x": [
          "BMW",
          "Chevrolet",
          "Lexus",
          "Mercedes-Benz"
         ],
         "xaxis": "x",
         "y": {
          "bdata": "RgEzUw==",
          "dtype": "i1"
         },
         "yaxis": "y"
        },
        {
         "hovertemplate": "market=Performance<br>make=%{x}<br>Nb modèles=%{text}<extra></extra>",
         "legendgroup": "Performance",
         "marker": {
          "color": "#BCBD22",
          "line": {
           "color": "black",
           "width": 0.5
          },
          "pattern": {
           "shape": ""
          }
         },
         "name": "Performance",
         "orientation": "v",
         "showlegend": true,
         "text": {
          "bdata": "AAAAAAAAOEAAAAAAAAAuQAAAAAAAADBAAAAAAAAAMEAAAAAAAAA1QA==",
          "dtype": "f8"
         },
         "textposition": "inside",
         "type": "bar",
         "x": [
          "BMW",
          "Chevrolet",
          "Ford",
          "Lexus",
          "Mercedes-Benz"
         ],
         "xaxis": "x",
         "y": {
          "bdata": "GA8QEBU=",
          "dtype": "i1"
         },
         "yaxis": "y"
        },
        {
         "hovertemplate": "market=Flex Fuel<br>make=%{x}<br>Nb modèles=%{text}<extra></extra>",
         "legendgroup": "Flex Fuel",
         "marker": {
          "color": "#17BECF",
          "line": {
           "color": "black",
           "width": 0.5
          },
          "pattern": {
           "shape": ""
          }
         },
         "name": "Flex Fuel",
         "orientation": "v",
         "showlegend": true,
         "text": {
          "bdata": "AAAAAAAAM0AAAAAAAAAoQA==",
          "dtype": "f8"
         },
         "textposition": "inside",
         "type": "bar",
         "x": [
          "Chevrolet",
          "Ford"
         ],
         "xaxis": "x",
         "y": {
          "bdata": "Eww=",
          "dtype": "i1"
         },
         "yaxis": "y"
        },
        {
         "hovertemplate": "market=Non défini<br>make=%{x}<br>Nb modèles=%{text}<extra></extra>",
         "legendgroup": "Non défini",
         "marker": {
          "color": "#1F77B4",
          "line": {
           "color": "black",
           "width": 0.5
          },
          "pattern": {
           "shape": ""
          }
         },
         "name": "Non défini",
         "orientation": "v",
         "showlegend": true,
         "text": {
          "bdata": "AAAAAAAAREAAAAAAAAA6QA==",
          "dtype": "f8"
         },
         "textposition": "inside",
         "type": "bar",
         "x": [
          "Chevrolet",
          "Ford"
         ],
         "xaxis": "x",
         "y": {
          "bdata": "KBo=",
          "dtype": "i1"
         },
         "yaxis": "y"
        }
       ],
       "layout": {
        "barmode": "stack",
        "font": {
         "size": 14
        },
        "legend": {
         "title": {
          "text": "Segment (Market Category)"
         },
         "tracegroupgap": 0
        },
        "margin": {
         "b": 60,
         "l": 60,
         "r": 40,
         "t": 80
        },
        "plot_bgcolor": "white",
        "template": {
         "data": {
          "bar": [
           {
            "error_x": {
             "color": "#2a3f5f"
            },
            "error_y": {
             "color": "#2a3f5f"
            },
            "marker": {
             "line": {
              "color": "#E5ECF6",
              "width": 0.5
             },
             "pattern": {
              "fillmode": "overlay",
              "size": 10,
              "solidity": 0.2
             }
            },
            "type": "bar"
           }
          ],
          "barpolar": [
           {
            "marker": {
             "line": {
              "color": "#E5ECF6",
              "width": 0.5
             },
             "pattern": {
              "fillmode": "overlay",
              "size": 10,
              "solidity": 0.2
             }
            },
            "type": "barpolar"
           }
          ],
          "carpet": [
           {
            "aaxis": {
             "endlinecolor": "#2a3f5f",
             "gridcolor": "white",
             "linecolor": "white",
             "minorgridcolor": "white",
             "startlinecolor": "#2a3f5f"
            },
            "baxis": {
             "endlinecolor": "#2a3f5f",
             "gridcolor": "white",
             "linecolor": "white",
             "minorgridcolor": "white",
             "startlinecolor": "#2a3f5f"
            },
            "type": "carpet"
           }
          ],
          "choropleth": [
           {
            "colorbar": {
             "outlinewidth": 0,
             "ticks": ""
            },
            "type": "choropleth"
           }
          ],
          "contour": [
           {
            "colorbar": {
             "outlinewidth": 0,
             "ticks": ""
            },
            "colorscale": [
             [
              0,
              "#0d0887"
             ],
             [
              0.1111111111111111,
              "#46039f"
             ],
             [
              0.2222222222222222,
              "#7201a8"
             ],
             [
              0.3333333333333333,
              "#9c179e"
             ],
             [
              0.4444444444444444,
              "#bd3786"
             ],
             [
              0.5555555555555556,
              "#d8576b"
             ],
             [
              0.6666666666666666,
              "#ed7953"
             ],
             [
              0.7777777777777778,
              "#fb9f3a"
             ],
             [
              0.8888888888888888,
              "#fdca26"
             ],
             [
              1,
              "#f0f921"
             ]
            ],
            "type": "contour"
           }
          ],
          "contourcarpet": [
           {
            "colorbar": {
             "outlinewidth": 0,
             "ticks": ""
            },
            "type": "contourcarpet"
           }
          ],
          "heatmap": [
           {
            "colorbar": {
             "outlinewidth": 0,
             "ticks": ""
            },
            "colorscale": [
             [
              0,
              "#0d0887"
             ],
             [
              0.1111111111111111,
              "#46039f"
             ],
             [
              0.2222222222222222,
              "#7201a8"
             ],
             [
              0.3333333333333333,
              "#9c179e"
             ],
             [
              0.4444444444444444,
              "#bd3786"
             ],
             [
              0.5555555555555556,
              "#d8576b"
             ],
             [
              0.6666666666666666,
              "#ed7953"
             ],
             [
              0.7777777777777778,
              "#fb9f3a"
             ],
             [
              0.8888888888888888,
              "#fdca26"
             ],
             [
              1,
              "#f0f921"
             ]
            ],
            "type": "heatmap"
           }
          ],
          "histogram": [
           {
            "marker": {
             "pattern": {
              "fillmode": "overlay",
              "size": 10,
              "solidity": 0.2
             }
            },
            "type": "histogram"
           }
          ],
          "histogram2d": [
           {
            "colorbar": {
             "outlinewidth": 0,
             "ticks": ""
            },
            "colorscale": [
             [
              0,
              "#0d0887"
             ],
             [
              0.1111111111111111,
              "#46039f"
             ],
             [
              0.2222222222222222,
              "#7201a8"
             ],
             [
              0.3333333333333333,
              "#9c179e"
             ],
             [
              0.4444444444444444,
              "#bd3786"
             ],
             [
              0.5555555555555556,
              "#d8576b"
             ],
             [
              0.6666666666666666,
              "#ed7953"
             ],
             [
              0.7777777777777778,
              "#fb9f3a"
             ],
             [
              0.8888888888888888,
              "#fdca26"
             ],
             [
              1,
              "#f0f921"
             ]
            ],
            "type": "histogram2d"
           }
          ],
          "histogram2dcontour": [
           {
            "colorbar": {
             "outlinewidth": 0,
             "ticks": ""
            },
            "colorscale": [
             [
              0,
              "#0d0887"
             ],
             [
              0.1111111111111111,
              "#46039f"
             ],
             [
              0.2222222222222222,
              "#7201a8"
             ],
             [
              0.3333333333333333,
              "#9c179e"
             ],
             [
              0.4444444444444444,
              "#bd3786"
             ],
             [
              0.5555555555555556,
              "#d8576b"
             ],
             [
              0.6666666666666666,
              "#ed7953"
             ],
             [
              0.7777777777777778,
              "#fb9f3a"
             ],
             [
              0.8888888888888888,
              "#fdca26"
             ],
             [
              1,
              "#f0f921"
             ]
            ],
            "type": "histogram2dcontour"
           }
          ],
          "mesh3d": [
           {
            "colorbar": {
             "outlinewidth": 0,
             "ticks": ""
            },
            "type": "mesh3d"
           }
          ],
          "parcoords": [
           {
            "line": {
             "colorbar": {
              "outlinewidth": 0,
              "ticks": ""
             }
            },
            "type": "parcoords"
           }
          ],
          "pie": [
           {
            "automargin": true,
            "type": "pie"
           }
          ],
          "scatter": [
           {
            "fillpattern": {
             "fillmode": "overlay",
             "size": 10,
             "solidity": 0.2
            },
            "type": "scatter"
           }
          ],
          "scatter3d": [
           {
            "line": {
             "colorbar": {
              "outlinewidth": 0,
              "ticks": ""
             }
            },
            "marker": {
             "colorbar": {
              "outlinewidth": 0,
              "ticks": ""
             }
            },
            "type": "scatter3d"
           }
          ],
          "scattercarpet": [
           {
            "marker": {
             "colorbar": {
              "outlinewidth": 0,
              "ticks": ""
             }
            },
            "type": "scattercarpet"
           }
          ],
          "scattergeo": [
           {
            "marker": {
             "colorbar": {
              "outlinewidth": 0,
              "ticks": ""
             }
            },
            "type": "scattergeo"
           }
          ],
          "scattergl": [
           {
            "marker": {
             "colorbar": {
              "outlinewidth": 0,
              "ticks": ""
             }
            },
            "type": "scattergl"
           }
          ],
          "scattermap": [
           {
            "marker": {
             "colorbar": {
              "outlinewidth": 0,
              "ticks": ""
             }
            },
            "type": "scattermap"
           }
          ],
          "scattermapbox": [
           {
            "marker": {
             "colorbar": {
              "outlinewidth": 0,
              "ticks": ""
             }
            },
            "type": "scattermapbox"
           }
          ],
          "scatterpolar": [
           {
            "marker": {
             "colorbar": {
              "outlinewidth": 0,
              "ticks": ""
             }
            },
            "type": "scatterpolar"
           }
          ],
          "scatterpolargl": [
           {
            "marker": {
             "colorbar": {
              "outlinewidth": 0,
              "ticks": ""
             }
            },
            "type": "scatterpolargl"
           }
          ],
          "scatterternary": [
           {
            "marker": {
             "colorbar": {
              "outlinewidth": 0,
              "ticks": ""
             }
            },
            "type": "scatterternary"
           }
          ],
          "surface": [
           {
            "colorbar": {
             "outlinewidth": 0,
             "ticks": ""
            },
            "colorscale": [
             [
              0,
              "#0d0887"
             ],
             [
              0.1111111111111111,
              "#46039f"
             ],
             [
              0.2222222222222222,
              "#7201a8"
             ],
             [
              0.3333333333333333,
              "#9c179e"
             ],
             [
              0.4444444444444444,
              "#bd3786"
             ],
             [
              0.5555555555555556,
              "#d8576b"
             ],
             [
              0.6666666666666666,
              "#ed7953"
             ],
             [
              0.7777777777777778,
              "#fb9f3a"
             ],
             [
              0.8888888888888888,
              "#fdca26"
             ],
             [
              1,
              "#f0f921"
             ]
            ],
            "type": "surface"
           }
          ],
          "table": [
           {
            "cells": {
             "fill": {
              "color": "#EBF0F8"
             },
             "line": {
              "color": "white"
             }
            },
            "header": {
             "fill": {
              "color": "#C8D4E3"
             },
             "line": {
              "color": "white"
             }
            },
            "type": "table"
           }
          ]
         },
         "layout": {
          "annotationdefaults": {
           "arrowcolor": "#2a3f5f",
           "arrowhead": 0,
           "arrowwidth": 1
          },
          "autotypenumbers": "strict",
          "coloraxis": {
           "colorbar": {
            "outlinewidth": 0,
            "ticks": ""
           }
          },
          "colorscale": {
           "diverging": [
            [
             0,
             "#8e0152"
            ],
            [
             0.1,
             "#c51b7d"
            ],
            [
             0.2,
             "#de77ae"
            ],
            [
             0.3,
             "#f1b6da"
            ],
            [
             0.4,
             "#fde0ef"
            ],
            [
             0.5,
             "#f7f7f7"
            ],
            [
             0.6,
             "#e6f5d0"
            ],
            [
             0.7,
             "#b8e186"
            ],
            [
             0.8,
             "#7fbc41"
            ],
            [
             0.9,
             "#4d9221"
            ],
            [
             1,
             "#276419"
            ]
           ],
           "sequential": [
            [
             0,
             "#0d0887"
            ],
            [
             0.1111111111111111,
             "#46039f"
            ],
            [
             0.2222222222222222,
             "#7201a8"
            ],
            [
             0.3333333333333333,
             "#9c179e"
            ],
            [
             0.4444444444444444,
             "#bd3786"
            ],
            [
             0.5555555555555556,
             "#d8576b"
            ],
            [
             0.6666666666666666,
             "#ed7953"
            ],
            [
             0.7777777777777778,
             "#fb9f3a"
            ],
            [
             0.8888888888888888,
             "#fdca26"
            ],
            [
             1,
             "#f0f921"
            ]
           ],
           "sequentialminus": [
            [
             0,
             "#0d0887"
            ],
            [
             0.1111111111111111,
             "#46039f"
            ],
            [
             0.2222222222222222,
             "#7201a8"
            ],
            [
             0.3333333333333333,
             "#9c179e"
            ],
            [
             0.4444444444444444,
             "#bd3786"
            ],
            [
             0.5555555555555556,
             "#d8576b"
            ],
            [
             0.6666666666666666,
             "#ed7953"
            ],
            [
             0.7777777777777778,
             "#fb9f3a"
            ],
            [
             0.8888888888888888,
             "#fdca26"
            ],
            [
             1,
             "#f0f921"
            ]
           ]
          },
          "colorway": [
           "#636efa",
           "#EF553B",
           "#00cc96",
           "#ab63fa",
           "#FFA15A",
           "#19d3f3",
           "#FF6692",
           "#B6E880",
           "#FF97FF",
           "#FECB52"
          ],
          "font": {
           "color": "#2a3f5f"
          },
          "geo": {
           "bgcolor": "white",
           "lakecolor": "white",
           "landcolor": "#E5ECF6",
           "showlakes": true,
           "showland": true,
           "subunitcolor": "white"
          },
          "hoverlabel": {
           "align": "left"
          },
          "hovermode": "closest",
          "mapbox": {
           "style": "light"
          },
          "paper_bgcolor": "white",
          "plot_bgcolor": "#E5ECF6",
          "polar": {
           "angularaxis": {
            "gridcolor": "white",
            "linecolor": "white",
            "ticks": ""
           },
           "bgcolor": "#E5ECF6",
           "radialaxis": {
            "gridcolor": "white",
            "linecolor": "white",
            "ticks": ""
           }
          },
          "scene": {
           "xaxis": {
            "backgroundcolor": "#E5ECF6",
            "gridcolor": "white",
            "gridwidth": 2,
            "linecolor": "white",
            "showbackground": true,
            "ticks": "",
            "zerolinecolor": "white"
           },
           "yaxis": {
            "backgroundcolor": "#E5ECF6",
            "gridcolor": "white",
            "gridwidth": 2,
            "linecolor": "white",
            "showbackground": true,
            "ticks": "",
            "zerolinecolor": "white"
           },
           "zaxis": {
            "backgroundcolor": "#E5ECF6",
            "gridcolor": "white",
            "gridwidth": 2,
            "linecolor": "white",
            "showbackground": true,
            "ticks": "",
            "zerolinecolor": "white"
           }
          },
          "shapedefaults": {
           "line": {
            "color": "#2a3f5f"
           }
          },
          "ternary": {
           "aaxis": {
            "gridcolor": "white",
            "linecolor": "white",
            "ticks": ""
           },
           "baxis": {
            "gridcolor": "white",
            "linecolor": "white",
            "ticks": ""
           },
           "bgcolor": "#E5ECF6",
           "caxis": {
            "gridcolor": "white",
            "linecolor": "white",
            "ticks": ""
           }
          },
          "title": {
           "x": 0.05
          },
          "xaxis": {
           "automargin": true,
           "gridcolor": "white",
           "linecolor": "white",
           "ticks": "",
           "title": {
            "standoff": 15
           },
           "zerolinecolor": "white",
           "zerolinewidth": 2
          },
          "yaxis": {
           "automargin": true,
           "gridcolor": "white",
           "linecolor": "white",
           "ticks": "",
           "title": {
            "standoff": 15
           },
           "zerolinecolor": "white",
           "zerolinewidth": 2
          }
         }
        },
        "title": {
         "font": {
          "size": 20
         },
         "text": "Répartition des segments pour les 5 marques principales",
         "x": 0.5
        },
        "xaxis": {
         "anchor": "y",
         "domain": [
          0,
          1
         ],
         "tickangle": 0,
         "tickfont": {
          "color": "black",
          "family": "Arial",
          "size": 13
         },
         "title": {
          "font": {
           "size": 16
          },
          "text": "Marque"
         }
        },
        "yaxis": {
         "anchor": "x",
         "domain": [
          0,
          1
         ],
         "gridcolor": "lightgrey",
         "tickfont": {
          "size": 13
         },
         "title": {
          "font": {
           "size": 16
          },
          "text": "Nombre de modèles"
         }
        }
       }
      },
      "text/html": [
       "<div>            <script src=\"https://cdnjs.cloudflare.com/ajax/libs/mathjax/2.7.5/MathJax.js?config=TeX-AMS-MML_SVG\"></script><script type=\"text/javascript\">if (window.MathJax && window.MathJax.Hub && window.MathJax.Hub.Config) {window.MathJax.Hub.Config({SVG: {font: \"STIX-Web\"}});}</script>                <script type=\"text/javascript\">window.PlotlyConfig = {MathJaxConfig: 'local'};</script>\n",
       "        <script charset=\"utf-8\" src=\"https://cdn.plot.ly/plotly-3.0.1.min.js\"></script>                <div id=\"b75e1074-df4f-4a3d-a08a-8201f0f8475c\" class=\"plotly-graph-div\" style=\"height:525px; width:100%;\"></div>            <script type=\"text/javascript\">                window.PLOTLYENV=window.PLOTLYENV || {};                                if (document.getElementById(\"b75e1074-df4f-4a3d-a08a-8201f0f8475c\")) {                    Plotly.newPlot(                        \"b75e1074-df4f-4a3d-a08a-8201f0f8475c\",                        [{\"hovertemplate\":\"market=Crossover\\u003cbr\\u003emake=%{x}\\u003cbr\\u003eNb mod\\u00e8les=%{text}\\u003cextra\\u003e\\u003c\\u002fextra\\u003e\",\"legendgroup\":\"Crossover\",\"marker\":{\"color\":\"#1F77B4\",\"pattern\":{\"shape\":\"\"},\"line\":{\"color\":\"black\",\"width\":0.5}},\"name\":\"Crossover\",\"orientation\":\"v\",\"showlegend\":true,\"text\":{\"dtype\":\"f8\",\"bdata\":\"AAAAAAAAMEAAAAAAAAAcQAAAAAAAACxAAAAAAAAAIEAAAAAAAAA6QA==\"},\"textposition\":\"inside\",\"x\":[\"BMW\",\"Chevrolet\",\"Ford\",\"Lexus\",\"Mercedes-Benz\"],\"xaxis\":\"x\",\"y\":{\"dtype\":\"i1\",\"bdata\":\"EAcOCBo=\"},\"yaxis\":\"y\",\"type\":\"bar\"},{\"hovertemplate\":\"market=Diesel\\u003cbr\\u003emake=%{x}\\u003cbr\\u003eNb mod\\u00e8les=%{text}\\u003cextra\\u003e\\u003c\\u002fextra\\u003e\",\"legendgroup\":\"Diesel\",\"marker\":{\"color\":\"#FF7F0E\",\"pattern\":{\"shape\":\"\"},\"line\":{\"color\":\"black\",\"width\":0.5}},\"name\":\"Diesel\",\"orientation\":\"v\",\"showlegend\":true,\"text\":{\"dtype\":\"f8\",\"bdata\":\"AAAAAAAAFEAAAAAAAAAAQAAAAAAAAABAAAAAAAAAIEA=\"},\"textposition\":\"inside\",\"x\":[\"BMW\",\"Chevrolet\",\"Ford\",\"Mercedes-Benz\"],\"xaxis\":\"x\",\"y\":{\"dtype\":\"i1\",\"bdata\":\"BQICCA==\"},\"yaxis\":\"y\",\"type\":\"bar\"},{\"hovertemplate\":\"market=Exotic\\u003cbr\\u003emake=%{x}\\u003cbr\\u003eNb mod\\u00e8les=%{text}\\u003cextra\\u003e\\u003c\\u002fextra\\u003e\",\"legendgroup\":\"Exotic\",\"marker\":{\"color\":\"#2CA02C\",\"pattern\":{\"shape\":\"\"},\"line\":{\"color\":\"black\",\"width\":0.5}},\"name\":\"Exotic\",\"orientation\":\"v\",\"showlegend\":true,\"text\":{\"dtype\":\"f8\",\"bdata\":\"AAAAAAAAAEAAAAAAAADwPwAAAAAAAPA\\u002fAAAAAAAAGEA=\"},\"textposition\":\"inside\",\"x\":[\"BMW\",\"Ford\",\"Lexus\",\"Mercedes-Benz\"],\"xaxis\":\"x\",\"y\":{\"dtype\":\"i1\",\"bdata\":\"AgEBBg==\"},\"yaxis\":\"y\",\"type\":\"bar\"},{\"hovertemplate\":\"market=Factory Tuner\\u003cbr\\u003emake=%{x}\\u003cbr\\u003eNb mod\\u00e8les=%{text}\\u003cextra\\u003e\\u003c\\u002fextra\\u003e\",\"legendgroup\":\"Factory Tuner\",\"marker\":{\"color\":\"#D62728\",\"pattern\":{\"shape\":\"\"},\"line\":{\"color\":\"black\",\"width\":0.5}},\"name\":\"Factory Tuner\",\"orientation\":\"v\",\"showlegend\":true,\"text\":{\"dtype\":\"f8\",\"bdata\":\"AAAAAAAAMkAAAAAAAAAYQAAAAAAAACJAAAAAAAAACEAAAAAAAAA8QA==\"},\"textposition\":\"inside\",\"x\":[\"BMW\",\"Chevrolet\",\"Ford\",\"Lexus\",\"Mercedes-Benz\"],\"xaxis\":\"x\",\"y\":{\"dtype\":\"i1\",\"bdata\":\"EgYJAxw=\"},\"yaxis\":\"y\",\"type\":\"bar\"},{\"hovertemplate\":\"market=Hatchback\\u003cbr\\u003emake=%{x}\\u003cbr\\u003eNb mod\\u00e8les=%{text}\\u003cextra\\u003e\\u003c\\u002fextra\\u003e\",\"legendgroup\":\"Hatchback\",\"marker\":{\"color\":\"#9467BD\",\"pattern\":{\"shape\":\"\"},\"line\":{\"color\":\"black\",\"width\":0.5}},\"name\":\"Hatchback\",\"orientation\":\"v\",\"showlegend\":true,\"text\":{\"dtype\":\"f8\",\"bdata\":\"AAAAAAAAGEAAAAAAAAAiQAAAAAAAACRAAAAAAAAA8D8AAAAAAADwPw==\"},\"textposition\":\"inside\",\"x\":[\"BMW\",\"Chevrolet\",\"Ford\",\"Lexus\",\"Mercedes-Benz\"],\"xaxis\":\"x\",\"y\":{\"dtype\":\"i1\",\"bdata\":\"BgkKAQE=\"},\"yaxis\":\"y\",\"type\":\"bar\"},{\"hovertemplate\":\"market=High-Performance\\u003cbr\\u003emake=%{x}\\u003cbr\\u003eNb mod\\u00e8les=%{text}\\u003cextra\\u003e\\u003c\\u002fextra\\u003e\",\"legendgroup\":\"High-Performance\",\"marker\":{\"color\":\"#8C564B\",\"pattern\":{\"shape\":\"\"},\"line\":{\"color\":\"black\",\"width\":0.5}},\"name\":\"High-Performance\",\"orientation\":\"v\",\"showlegend\":true,\"text\":{\"dtype\":\"f8\",\"bdata\":\"AAAAAAAAO0AAAAAAAAAgQAAAAAAAABhAAAAAAAAAIkAAAAAAAAA\\u002fQA==\"},\"textposition\":\"inside\",\"x\":[\"BMW\",\"Chevrolet\",\"Ford\",\"Lexus\",\"Mercedes-Benz\"],\"xaxis\":\"x\",\"y\":{\"dtype\":\"i1\",\"bdata\":\"GwgGCR8=\"},\"yaxis\":\"y\",\"type\":\"bar\"},{\"hovertemplate\":\"market=Hybrid\\u003cbr\\u003emake=%{x}\\u003cbr\\u003eNb mod\\u00e8les=%{text}\\u003cextra\\u003e\\u003c\\u002fextra\\u003e\",\"legendgroup\":\"Hybrid\",\"marker\":{\"color\":\"#E377C2\",\"pattern\":{\"shape\":\"\"},\"line\":{\"color\":\"black\",\"width\":0.5}},\"name\":\"Hybrid\",\"orientation\":\"v\",\"showlegend\":true,\"text\":{\"dtype\":\"f8\",\"bdata\":\"AAAAAAAAEEAAAAAAAAAUQAAAAAAAAAhAAAAAAAAAIEAAAAAAAADwPw==\"},\"textposition\":\"inside\",\"x\":[\"BMW\",\"Chevrolet\",\"Ford\",\"Lexus\",\"Mercedes-Benz\"],\"xaxis\":\"x\",\"y\":{\"dtype\":\"i1\",\"bdata\":\"BAUDCAE=\"},\"yaxis\":\"y\",\"type\":\"bar\"},{\"hovertemplate\":\"market=Luxury\\u003cbr\\u003emake=%{x}\\u003cbr\\u003eNb mod\\u00e8les=%{text}\\u003cextra\\u003e\\u003c\\u002fextra\\u003e\",\"legendgroup\":\"Luxury\",\"marker\":{\"color\":\"#7F7F7F\",\"pattern\":{\"shape\":\"\"},\"line\":{\"color\":\"black\",\"width\":0.5}},\"name\":\"Luxury\",\"orientation\":\"v\",\"showlegend\":true,\"text\":{\"dtype\":\"f8\",\"bdata\":\"AAAAAACAUUAAAAAAAADwPwAAAAAAgElAAAAAAADAVEA=\"},\"textposition\":\"inside\",\"x\":[\"BMW\",\"Chevrolet\",\"Lexus\",\"Mercedes-Benz\"],\"xaxis\":\"x\",\"y\":{\"dtype\":\"i1\",\"bdata\":\"RgEzUw==\"},\"yaxis\":\"y\",\"type\":\"bar\"},{\"hovertemplate\":\"market=Performance\\u003cbr\\u003emake=%{x}\\u003cbr\\u003eNb mod\\u00e8les=%{text}\\u003cextra\\u003e\\u003c\\u002fextra\\u003e\",\"legendgroup\":\"Performance\",\"marker\":{\"color\":\"#BCBD22\",\"pattern\":{\"shape\":\"\"},\"line\":{\"color\":\"black\",\"width\":0.5}},\"name\":\"Performance\",\"orientation\":\"v\",\"showlegend\":true,\"text\":{\"dtype\":\"f8\",\"bdata\":\"AAAAAAAAOEAAAAAAAAAuQAAAAAAAADBAAAAAAAAAMEAAAAAAAAA1QA==\"},\"textposition\":\"inside\",\"x\":[\"BMW\",\"Chevrolet\",\"Ford\",\"Lexus\",\"Mercedes-Benz\"],\"xaxis\":\"x\",\"y\":{\"dtype\":\"i1\",\"bdata\":\"GA8QEBU=\"},\"yaxis\":\"y\",\"type\":\"bar\"},{\"hovertemplate\":\"market=Flex Fuel\\u003cbr\\u003emake=%{x}\\u003cbr\\u003eNb mod\\u00e8les=%{text}\\u003cextra\\u003e\\u003c\\u002fextra\\u003e\",\"legendgroup\":\"Flex Fuel\",\"marker\":{\"color\":\"#17BECF\",\"pattern\":{\"shape\":\"\"},\"line\":{\"color\":\"black\",\"width\":0.5}},\"name\":\"Flex Fuel\",\"orientation\":\"v\",\"showlegend\":true,\"text\":{\"dtype\":\"f8\",\"bdata\":\"AAAAAAAAM0AAAAAAAAAoQA==\"},\"textposition\":\"inside\",\"x\":[\"Chevrolet\",\"Ford\"],\"xaxis\":\"x\",\"y\":{\"dtype\":\"i1\",\"bdata\":\"Eww=\"},\"yaxis\":\"y\",\"type\":\"bar\"},{\"hovertemplate\":\"market=Non d\\u00e9fini\\u003cbr\\u003emake=%{x}\\u003cbr\\u003eNb mod\\u00e8les=%{text}\\u003cextra\\u003e\\u003c\\u002fextra\\u003e\",\"legendgroup\":\"Non d\\u00e9fini\",\"marker\":{\"color\":\"#1F77B4\",\"pattern\":{\"shape\":\"\"},\"line\":{\"color\":\"black\",\"width\":0.5}},\"name\":\"Non d\\u00e9fini\",\"orientation\":\"v\",\"showlegend\":true,\"text\":{\"dtype\":\"f8\",\"bdata\":\"AAAAAAAAREAAAAAAAAA6QA==\"},\"textposition\":\"inside\",\"x\":[\"Chevrolet\",\"Ford\"],\"xaxis\":\"x\",\"y\":{\"dtype\":\"i1\",\"bdata\":\"KBo=\"},\"yaxis\":\"y\",\"type\":\"bar\"}],                        {\"template\":{\"data\":{\"histogram2dcontour\":[{\"type\":\"histogram2dcontour\",\"colorbar\":{\"outlinewidth\":0,\"ticks\":\"\"},\"colorscale\":[[0.0,\"#0d0887\"],[0.1111111111111111,\"#46039f\"],[0.2222222222222222,\"#7201a8\"],[0.3333333333333333,\"#9c179e\"],[0.4444444444444444,\"#bd3786\"],[0.5555555555555556,\"#d8576b\"],[0.6666666666666666,\"#ed7953\"],[0.7777777777777778,\"#fb9f3a\"],[0.8888888888888888,\"#fdca26\"],[1.0,\"#f0f921\"]]}],\"choropleth\":[{\"type\":\"choropleth\",\"colorbar\":{\"outlinewidth\":0,\"ticks\":\"\"}}],\"histogram2d\":[{\"type\":\"histogram2d\",\"colorbar\":{\"outlinewidth\":0,\"ticks\":\"\"},\"colorscale\":[[0.0,\"#0d0887\"],[0.1111111111111111,\"#46039f\"],[0.2222222222222222,\"#7201a8\"],[0.3333333333333333,\"#9c179e\"],[0.4444444444444444,\"#bd3786\"],[0.5555555555555556,\"#d8576b\"],[0.6666666666666666,\"#ed7953\"],[0.7777777777777778,\"#fb9f3a\"],[0.8888888888888888,\"#fdca26\"],[1.0,\"#f0f921\"]]}],\"heatmap\":[{\"type\":\"heatmap\",\"colorbar\":{\"outlinewidth\":0,\"ticks\":\"\"},\"colorscale\":[[0.0,\"#0d0887\"],[0.1111111111111111,\"#46039f\"],[0.2222222222222222,\"#7201a8\"],[0.3333333333333333,\"#9c179e\"],[0.4444444444444444,\"#bd3786\"],[0.5555555555555556,\"#d8576b\"],[0.6666666666666666,\"#ed7953\"],[0.7777777777777778,\"#fb9f3a\"],[0.8888888888888888,\"#fdca26\"],[1.0,\"#f0f921\"]]}],\"contourcarpet\":[{\"type\":\"contourcarpet\",\"colorbar\":{\"outlinewidth\":0,\"ticks\":\"\"}}],\"contour\":[{\"type\":\"contour\",\"colorbar\":{\"outlinewidth\":0,\"ticks\":\"\"},\"colorscale\":[[0.0,\"#0d0887\"],[0.1111111111111111,\"#46039f\"],[0.2222222222222222,\"#7201a8\"],[0.3333333333333333,\"#9c179e\"],[0.4444444444444444,\"#bd3786\"],[0.5555555555555556,\"#d8576b\"],[0.6666666666666666,\"#ed7953\"],[0.7777777777777778,\"#fb9f3a\"],[0.8888888888888888,\"#fdca26\"],[1.0,\"#f0f921\"]]}],\"surface\":[{\"type\":\"surface\",\"colorbar\":{\"outlinewidth\":0,\"ticks\":\"\"},\"colorscale\":[[0.0,\"#0d0887\"],[0.1111111111111111,\"#46039f\"],[0.2222222222222222,\"#7201a8\"],[0.3333333333333333,\"#9c179e\"],[0.4444444444444444,\"#bd3786\"],[0.5555555555555556,\"#d8576b\"],[0.6666666666666666,\"#ed7953\"],[0.7777777777777778,\"#fb9f3a\"],[0.8888888888888888,\"#fdca26\"],[1.0,\"#f0f921\"]]}],\"mesh3d\":[{\"type\":\"mesh3d\",\"colorbar\":{\"outlinewidth\":0,\"ticks\":\"\"}}],\"scatter\":[{\"fillpattern\":{\"fillmode\":\"overlay\",\"size\":10,\"solidity\":0.2},\"type\":\"scatter\"}],\"parcoords\":[{\"type\":\"parcoords\",\"line\":{\"colorbar\":{\"outlinewidth\":0,\"ticks\":\"\"}}}],\"scatterpolargl\":[{\"type\":\"scatterpolargl\",\"marker\":{\"colorbar\":{\"outlinewidth\":0,\"ticks\":\"\"}}}],\"bar\":[{\"error_x\":{\"color\":\"#2a3f5f\"},\"error_y\":{\"color\":\"#2a3f5f\"},\"marker\":{\"line\":{\"color\":\"#E5ECF6\",\"width\":0.5},\"pattern\":{\"fillmode\":\"overlay\",\"size\":10,\"solidity\":0.2}},\"type\":\"bar\"}],\"scattergeo\":[{\"type\":\"scattergeo\",\"marker\":{\"colorbar\":{\"outlinewidth\":0,\"ticks\":\"\"}}}],\"scatterpolar\":[{\"type\":\"scatterpolar\",\"marker\":{\"colorbar\":{\"outlinewidth\":0,\"ticks\":\"\"}}}],\"histogram\":[{\"marker\":{\"pattern\":{\"fillmode\":\"overlay\",\"size\":10,\"solidity\":0.2}},\"type\":\"histogram\"}],\"scattergl\":[{\"type\":\"scattergl\",\"marker\":{\"colorbar\":{\"outlinewidth\":0,\"ticks\":\"\"}}}],\"scatter3d\":[{\"type\":\"scatter3d\",\"line\":{\"colorbar\":{\"outlinewidth\":0,\"ticks\":\"\"}},\"marker\":{\"colorbar\":{\"outlinewidth\":0,\"ticks\":\"\"}}}],\"scattermap\":[{\"type\":\"scattermap\",\"marker\":{\"colorbar\":{\"outlinewidth\":0,\"ticks\":\"\"}}}],\"scattermapbox\":[{\"type\":\"scattermapbox\",\"marker\":{\"colorbar\":{\"outlinewidth\":0,\"ticks\":\"\"}}}],\"scatterternary\":[{\"type\":\"scatterternary\",\"marker\":{\"colorbar\":{\"outlinewidth\":0,\"ticks\":\"\"}}}],\"scattercarpet\":[{\"type\":\"scattercarpet\",\"marker\":{\"colorbar\":{\"outlinewidth\":0,\"ticks\":\"\"}}}],\"carpet\":[{\"aaxis\":{\"endlinecolor\":\"#2a3f5f\",\"gridcolor\":\"white\",\"linecolor\":\"white\",\"minorgridcolor\":\"white\",\"startlinecolor\":\"#2a3f5f\"},\"baxis\":{\"endlinecolor\":\"#2a3f5f\",\"gridcolor\":\"white\",\"linecolor\":\"white\",\"minorgridcolor\":\"white\",\"startlinecolor\":\"#2a3f5f\"},\"type\":\"carpet\"}],\"table\":[{\"cells\":{\"fill\":{\"color\":\"#EBF0F8\"},\"line\":{\"color\":\"white\"}},\"header\":{\"fill\":{\"color\":\"#C8D4E3\"},\"line\":{\"color\":\"white\"}},\"type\":\"table\"}],\"barpolar\":[{\"marker\":{\"line\":{\"color\":\"#E5ECF6\",\"width\":0.5},\"pattern\":{\"fillmode\":\"overlay\",\"size\":10,\"solidity\":0.2}},\"type\":\"barpolar\"}],\"pie\":[{\"automargin\":true,\"type\":\"pie\"}]},\"layout\":{\"autotypenumbers\":\"strict\",\"colorway\":[\"#636efa\",\"#EF553B\",\"#00cc96\",\"#ab63fa\",\"#FFA15A\",\"#19d3f3\",\"#FF6692\",\"#B6E880\",\"#FF97FF\",\"#FECB52\"],\"font\":{\"color\":\"#2a3f5f\"},\"hovermode\":\"closest\",\"hoverlabel\":{\"align\":\"left\"},\"paper_bgcolor\":\"white\",\"plot_bgcolor\":\"#E5ECF6\",\"polar\":{\"bgcolor\":\"#E5ECF6\",\"angularaxis\":{\"gridcolor\":\"white\",\"linecolor\":\"white\",\"ticks\":\"\"},\"radialaxis\":{\"gridcolor\":\"white\",\"linecolor\":\"white\",\"ticks\":\"\"}},\"ternary\":{\"bgcolor\":\"#E5ECF6\",\"aaxis\":{\"gridcolor\":\"white\",\"linecolor\":\"white\",\"ticks\":\"\"},\"baxis\":{\"gridcolor\":\"white\",\"linecolor\":\"white\",\"ticks\":\"\"},\"caxis\":{\"gridcolor\":\"white\",\"linecolor\":\"white\",\"ticks\":\"\"}},\"coloraxis\":{\"colorbar\":{\"outlinewidth\":0,\"ticks\":\"\"}},\"colorscale\":{\"sequential\":[[0.0,\"#0d0887\"],[0.1111111111111111,\"#46039f\"],[0.2222222222222222,\"#7201a8\"],[0.3333333333333333,\"#9c179e\"],[0.4444444444444444,\"#bd3786\"],[0.5555555555555556,\"#d8576b\"],[0.6666666666666666,\"#ed7953\"],[0.7777777777777778,\"#fb9f3a\"],[0.8888888888888888,\"#fdca26\"],[1.0,\"#f0f921\"]],\"sequentialminus\":[[0.0,\"#0d0887\"],[0.1111111111111111,\"#46039f\"],[0.2222222222222222,\"#7201a8\"],[0.3333333333333333,\"#9c179e\"],[0.4444444444444444,\"#bd3786\"],[0.5555555555555556,\"#d8576b\"],[0.6666666666666666,\"#ed7953\"],[0.7777777777777778,\"#fb9f3a\"],[0.8888888888888888,\"#fdca26\"],[1.0,\"#f0f921\"]],\"diverging\":[[0,\"#8e0152\"],[0.1,\"#c51b7d\"],[0.2,\"#de77ae\"],[0.3,\"#f1b6da\"],[0.4,\"#fde0ef\"],[0.5,\"#f7f7f7\"],[0.6,\"#e6f5d0\"],[0.7,\"#b8e186\"],[0.8,\"#7fbc41\"],[0.9,\"#4d9221\"],[1,\"#276419\"]]},\"xaxis\":{\"gridcolor\":\"white\",\"linecolor\":\"white\",\"ticks\":\"\",\"title\":{\"standoff\":15},\"zerolinecolor\":\"white\",\"automargin\":true,\"zerolinewidth\":2},\"yaxis\":{\"gridcolor\":\"white\",\"linecolor\":\"white\",\"ticks\":\"\",\"title\":{\"standoff\":15},\"zerolinecolor\":\"white\",\"automargin\":true,\"zerolinewidth\":2},\"scene\":{\"xaxis\":{\"backgroundcolor\":\"#E5ECF6\",\"gridcolor\":\"white\",\"linecolor\":\"white\",\"showbackground\":true,\"ticks\":\"\",\"zerolinecolor\":\"white\",\"gridwidth\":2},\"yaxis\":{\"backgroundcolor\":\"#E5ECF6\",\"gridcolor\":\"white\",\"linecolor\":\"white\",\"showbackground\":true,\"ticks\":\"\",\"zerolinecolor\":\"white\",\"gridwidth\":2},\"zaxis\":{\"backgroundcolor\":\"#E5ECF6\",\"gridcolor\":\"white\",\"linecolor\":\"white\",\"showbackground\":true,\"ticks\":\"\",\"zerolinecolor\":\"white\",\"gridwidth\":2}},\"shapedefaults\":{\"line\":{\"color\":\"#2a3f5f\"}},\"annotationdefaults\":{\"arrowcolor\":\"#2a3f5f\",\"arrowhead\":0,\"arrowwidth\":1},\"geo\":{\"bgcolor\":\"white\",\"landcolor\":\"#E5ECF6\",\"subunitcolor\":\"white\",\"showland\":true,\"showlakes\":true,\"lakecolor\":\"white\"},\"title\":{\"x\":0.05},\"mapbox\":{\"style\":\"light\"}}},\"xaxis\":{\"anchor\":\"y\",\"domain\":[0.0,1.0],\"title\":{\"text\":\"Marque\",\"font\":{\"size\":16}},\"tickfont\":{\"size\":13,\"family\":\"Arial\",\"color\":\"black\"},\"tickangle\":0},\"yaxis\":{\"anchor\":\"x\",\"domain\":[0.0,1.0],\"title\":{\"text\":\"Nombre de mod\\u00e8les\",\"font\":{\"size\":16}},\"tickfont\":{\"size\":13},\"gridcolor\":\"lightgrey\"},\"legend\":{\"title\":{\"text\":\"Segment (Market Category)\"},\"tracegroupgap\":0},\"title\":{\"text\":\"R\\u00e9partition des segments pour les 5 marques principales\",\"font\":{\"size\":20},\"x\":0.5},\"barmode\":\"stack\",\"font\":{\"size\":14},\"margin\":{\"t\":80,\"b\":60,\"l\":60,\"r\":40},\"plot_bgcolor\":\"white\"},                        {\"responsive\": true}                    ).then(function(){\n",
       "                            \n",
       "var gd = document.getElementById('b75e1074-df4f-4a3d-a08a-8201f0f8475c');\n",
       "var x = new MutationObserver(function (mutations, observer) {{\n",
       "        var display = window.getComputedStyle(gd).display;\n",
       "        if (!display || display === 'none') {{\n",
       "            console.log([gd, 'removed!']);\n",
       "            Plotly.purge(gd);\n",
       "            observer.disconnect();\n",
       "        }}\n",
       "}});\n",
       "\n",
       "// Listen for the removal of the full notebook cells\n",
       "var notebookContainer = gd.closest('#notebook-container');\n",
       "if (notebookContainer) {{\n",
       "    x.observe(notebookContainer, {childList: true});\n",
       "}}\n",
       "\n",
       "// Listen for the clearing of the current output cell\n",
       "var outputEl = gd.closest('.output');\n",
       "if (outputEl) {{\n",
       "    x.observe(outputEl, {childList: true});\n",
       "}}\n",
       "\n",
       "                        })                };            </script>        </div>"
      ]
     },
     "metadata": {},
     "output_type": "display_data"
    }
   ],
   "source": [
    "# Top 5 marques les plus présentes\n",
    "top_5_makes = model_counts.head(5)['Marque'].tolist()\n",
    "\n",
    "# Nettoyage\n",
    "df_clean2 = df.dropna(subset=['make', 'model', 'market']).copy()\n",
    "df_clean2 = df_clean2.drop_duplicates(subset=['make', 'model', 'market'])\n",
    "\n",
    "# Explosion des segments multiples\n",
    "df_clean2['market'] = df_clean2['market'].str.split(',')\n",
    "df_exploded2 = df_clean2.explode('market')\n",
    "df_exploded2 = df_exploded2[df_exploded2['make'].isin(top_5_makes)]\n",
    "\n",
    "# Calcul du nombre de modèles par marque et catégorie de marché\n",
    "segment_counts = df_exploded2.groupby(['make', 'market']).size().reset_index(name='Nb modèles')\n",
    "\n",
    "# Création du graphique\n",
    "fig = px.bar(\n",
    "    segment_counts,\n",
    "    x='make',\n",
    "    y='Nb modèles',\n",
    "    color='market',\n",
    "    text='Nb modèles',\n",
    "    title=\"Répartition des segments pour les 5 marques principales\",\n",
    "    color_discrete_sequence=px.colors.qualitative.D3  # Palette plus contrastée\n",
    ")\n",
    "\n",
    "fig.update_layout(\n",
    "    barmode='stack',\n",
    "    title=dict(x=0.5, font=dict(size=20)),\n",
    "    font=dict(size=14),\n",
    "    xaxis=dict(\n",
    "        title=dict(text=\"Marque\", font=dict(size=16)),\n",
    "        tickangle=0,  # Écriture horizontale\n",
    "        tickfont=dict(size=13, family='Arial', color='black'),\n",
    "    ),\n",
    "    yaxis=dict(\n",
    "        title=dict(text=\"Nombre de modèles\", font=dict(size=16)),\n",
    "        tickfont=dict(size=13),\n",
    "        gridcolor='lightgrey'\n",
    "    ),\n",
    "    legend_title_text='Segment (Market Category)',\n",
    "    plot_bgcolor='white',\n",
    "    margin=dict(t=80, b=60, l=60, r=40)\n",
    ")\n",
    "\n",
    "# Bordures plus fines et lisibles\n",
    "fig.update_traces(\n",
    "    textposition='inside',\n",
    "    marker=dict(line=dict(width=0.5, color='black'))\n",
    ")\n",
    "\n",
    "fig.show()"
   ]
  },
  {
   "cell_type": "code",
   "execution_count": 303,
   "id": "71f460d4",
   "metadata": {},
   "outputs": [
    {
     "name": "stdout",
     "output_type": "stream",
     "text": [
      "Colonnes disponibles : Index(['make', 'model', 'year', 'fuel_type', 'hp', 'cylinders', 'transmission',\n",
      "       'drive', 'doors', 'market', 'size', 'style', 'highway_mpg', 'city_mpg',\n",
      "       'popularity', 'price', 'average_mpg', 'hp_range'],\n",
      "      dtype='object')\n"
     ]
    },
    {
     "data": {
      "application/vnd.plotly.v1+json": {
       "config": {
        "plotlyServerURL": "https://plot.ly"
       },
       "data": [
        {
         "alignmentgroup": "True",
         "hovertemplate": "Nombre de segments distincts=%{x}<br>Popularité moyenne=%{y}<extra></extra>",
         "legendgroup": "8",
         "marker": {
          "color": "#636efa",
          "line": {
           "width": 1.5
          }
         },
         "name": "8",
         "notched": false,
         "offsetgroup": "8",
         "orientation": "v",
         "showlegend": true,
         "type": "box",
         "x": {
          "bdata": "CAgICAgICA==",
          "dtype": "i1"
         },
         "x0": " ",
         "xaxis": "x",
         "y": {
          "bdata": "AAAAAACAaUAAAAAAAOycQAAAAAAAKIFAAAAAAAB8lkAAAAAAAGB8QAAAAAAAZJ9AAAAAAADMmkA=",
          "dtype": "f8"
         },
         "y0": " ",
         "yaxis": "y"
        },
        {
         "alignmentgroup": "True",
         "hovertemplate": "Nombre de segments distincts=%{x}<br>Popularité moyenne=%{y}<extra></extra>",
         "legendgroup": "2",
         "marker": {
          "color": "#EF553B",
          "line": {
           "width": 1.5
          }
         },
         "name": "2",
         "notched": false,
         "offsetgroup": "2",
         "orientation": "v",
         "showlegend": true,
         "type": "box",
         "x": {
          "bdata": "AgICAgIC",
          "dtype": "i1"
         },
         "x0": " ",
         "xaxis": "x",
         "y": {
          "bdata": "AAAAAABAXEAAAAAAAKCJQAAAAAAAKINAAAAAAAAAekAAAAAAAAA6QAAAAAAAAABA",
          "dtype": "f8"
         },
         "y0": " ",
         "yaxis": "y"
        },
        {
         "alignmentgroup": "True",
         "hovertemplate": "Nombre de segments distincts=%{x}<br>Popularité moyenne=%{y}<extra></extra>",
         "legendgroup": "3",
         "marker": {
          "color": "#00cc96",
          "line": {
           "width": 1.5
          }
         },
         "name": "3",
         "notched": false,
         "offsetgroup": "3",
         "orientation": "v",
         "showlegend": true,
         "type": "box",
         "x": {
          "bdata": "AwMDAwMDAwM=",
          "dtype": "i1"
         },
         "x0": " ",
         "xaxis": "x",
         "y": {
          "bdata": "AAAAAAAwcEAAAAAAAKylQAAAAAAAADVAAAAAAABAYEAAAAAAABiSQAAAAAAAQFpAAAAAAAAQfkAAAAAAALyVQA==",
          "dtype": "f8"
         },
         "y0": " ",
         "yaxis": "y"
        },
        {
         "alignmentgroup": "True",
         "hovertemplate": "Nombre de segments distincts=%{x}<br>Popularité moyenne=%{y}<extra></extra>",
         "legendgroup": "9",
         "marker": {
          "color": "#ab63fa",
          "line": {
           "width": 1.5
          }
         },
         "name": "9",
         "notched": false,
         "offsetgroup": "9",
         "orientation": "v",
         "showlegend": true,
         "type": "box",
         "x": {
          "bdata": "CQkJCQ==",
          "dtype": "i1"
         },
         "x0": " ",
         "xaxis": "x",
         "y": {
          "bdata": "AAAAAABCqEAAAAAAAJiuQAAAAAAAqI9AAAAAAABIg0A=",
          "dtype": "f8"
         },
         "y0": " ",
         "yaxis": "y"
        },
        {
         "alignmentgroup": "True",
         "hovertemplate": "Nombre de segments distincts=%{x}<br>Popularité moyenne=%{y}<extra></extra>",
         "legendgroup": "6",
         "marker": {
          "color": "#FFA15A",
          "line": {
           "width": 1.5
          }
         },
         "name": "6",
         "notched": false,
         "offsetgroup": "6",
         "orientation": "v",
         "showlegend": true,
         "type": "box",
         "x": {
          "bdata": "BgYGBgYG",
          "dtype": "i1"
         },
         "x0": " ",
         "xaxis": "x",
         "y": {
          "bdata": "AAAAAABAgEAAAAAAAMBnQAAAAAAAwG1AAAAAAABAe0AAAAAAAIB3QAAAAAAAMItA",
          "dtype": "f8"
         },
         "y0": " ",
         "yaxis": "y"
        },
        {
         "alignmentgroup": "True",
         "hovertemplate": "Nombre de segments distincts=%{x}<br>Popularité moyenne=%{y}<extra></extra>",
         "legendgroup": "7",
         "marker": {
          "color": "#19d3f3",
          "line": {
           "width": 1.5
          }
         },
         "name": "7",
         "notched": false,
         "offsetgroup": "7",
         "orientation": "v",
         "showlegend": true,
         "type": "box",
         "x": {
          "bdata": "BwcHBwcHBwcH",
          "dtype": "i1"
         },
         "x0": " ",
         "xaxis": "x",
         "y": {
          "bdata": "AAAAAABgY0AAAAAAAGCZQAAAAAAANKFAAAAAAADgmkAAAAAAACBwQAAAAAAAUIJAAAAAAABAakAAAAAAAACEQAAAAAAAvJ9A",
          "dtype": "f8"
         },
         "y0": " ",
         "yaxis": "y"
        },
        {
         "alignmentgroup": "True",
         "hovertemplate": "Nombre de segments distincts=%{x}<br>Popularité moyenne=%{y}<extra></extra>",
         "legendgroup": "10",
         "marker": {
          "color": "#FF6692",
          "line": {
           "width": 1.5
          }
         },
         "name": "10",
         "notched": false,
         "offsetgroup": "10",
         "orientation": "v",
         "showlegend": true,
         "type": "box",
         "x": {
          "bdata": "CgoK",
          "dtype": "i1"
         },
         "x0": " ",
         "xaxis": "x",
         "y": {
          "bdata": "AAAAAACklUAAAAAAABm2QAAAAAAASItA",
          "dtype": "f8"
         },
         "y0": " ",
         "yaxis": "y"
        },
        {
         "alignmentgroup": "True",
         "hovertemplate": "Nombre de segments distincts=%{x}<br>Popularité moyenne=%{y}<extra></extra>",
         "legendgroup": "5",
         "marker": {
          "color": "#B6E880",
          "line": {
           "width": 1.5
          }
         },
         "name": "5",
         "notched": false,
         "offsetgroup": "5",
         "orientation": "v",
         "showlegend": true,
         "type": "box",
         "x": {
          "bdata": "BQUF",
          "dtype": "i1"
         },
         "x0": " ",
         "xaxis": "x",
         "y": {
          "bdata": "AAAAAACYiUAAAAAAAIBOQAAAAAAAuIBA",
          "dtype": "f8"
         },
         "y0": " ",
         "yaxis": "y"
        },
        {
         "alignmentgroup": "True",
         "hovertemplate": "Nombre de segments distincts=%{x}<br>Popularité moyenne=%{y}<extra></extra>",
         "legendgroup": "4",
         "marker": {
          "color": "#FF97FF",
          "line": {
           "width": 1.5
          }
         },
         "name": "4",
         "notched": false,
         "offsetgroup": "4",
         "orientation": "v",
         "showlegend": true,
         "type": "box",
         "x": {
          "bdata": "BAQ=",
          "dtype": "i1"
         },
         "x0": " ",
         "xaxis": "x",
         "y": {
          "bdata": "AAAAAADAUEAAAAAAAIBVQA==",
          "dtype": "f8"
         },
         "y0": " ",
         "yaxis": "y"
        }
       ],
       "layout": {
        "boxmode": "overlay",
        "font": {
         "size": 14
        },
        "legend": {
         "title": {
          "text": "Nombre de segments distincts"
         },
         "tracegroupgap": 0
        },
        "margin": {
         "b": 40,
         "l": 60,
         "r": 40,
         "t": 80
        },
        "plot_bgcolor": "white",
        "showlegend": false,
        "template": {
         "data": {
          "bar": [
           {
            "error_x": {
             "color": "#2a3f5f"
            },
            "error_y": {
             "color": "#2a3f5f"
            },
            "marker": {
             "line": {
              "color": "#E5ECF6",
              "width": 0.5
             },
             "pattern": {
              "fillmode": "overlay",
              "size": 10,
              "solidity": 0.2
             }
            },
            "type": "bar"
           }
          ],
          "barpolar": [
           {
            "marker": {
             "line": {
              "color": "#E5ECF6",
              "width": 0.5
             },
             "pattern": {
              "fillmode": "overlay",
              "size": 10,
              "solidity": 0.2
             }
            },
            "type": "barpolar"
           }
          ],
          "carpet": [
           {
            "aaxis": {
             "endlinecolor": "#2a3f5f",
             "gridcolor": "white",
             "linecolor": "white",
             "minorgridcolor": "white",
             "startlinecolor": "#2a3f5f"
            },
            "baxis": {
             "endlinecolor": "#2a3f5f",
             "gridcolor": "white",
             "linecolor": "white",
             "minorgridcolor": "white",
             "startlinecolor": "#2a3f5f"
            },
            "type": "carpet"
           }
          ],
          "choropleth": [
           {
            "colorbar": {
             "outlinewidth": 0,
             "ticks": ""
            },
            "type": "choropleth"
           }
          ],
          "contour": [
           {
            "colorbar": {
             "outlinewidth": 0,
             "ticks": ""
            },
            "colorscale": [
             [
              0,
              "#0d0887"
             ],
             [
              0.1111111111111111,
              "#46039f"
             ],
             [
              0.2222222222222222,
              "#7201a8"
             ],
             [
              0.3333333333333333,
              "#9c179e"
             ],
             [
              0.4444444444444444,
              "#bd3786"
             ],
             [
              0.5555555555555556,
              "#d8576b"
             ],
             [
              0.6666666666666666,
              "#ed7953"
             ],
             [
              0.7777777777777778,
              "#fb9f3a"
             ],
             [
              0.8888888888888888,
              "#fdca26"
             ],
             [
              1,
              "#f0f921"
             ]
            ],
            "type": "contour"
           }
          ],
          "contourcarpet": [
           {
            "colorbar": {
             "outlinewidth": 0,
             "ticks": ""
            },
            "type": "contourcarpet"
           }
          ],
          "heatmap": [
           {
            "colorbar": {
             "outlinewidth": 0,
             "ticks": ""
            },
            "colorscale": [
             [
              0,
              "#0d0887"
             ],
             [
              0.1111111111111111,
              "#46039f"
             ],
             [
              0.2222222222222222,
              "#7201a8"
             ],
             [
              0.3333333333333333,
              "#9c179e"
             ],
             [
              0.4444444444444444,
              "#bd3786"
             ],
             [
              0.5555555555555556,
              "#d8576b"
             ],
             [
              0.6666666666666666,
              "#ed7953"
             ],
             [
              0.7777777777777778,
              "#fb9f3a"
             ],
             [
              0.8888888888888888,
              "#fdca26"
             ],
             [
              1,
              "#f0f921"
             ]
            ],
            "type": "heatmap"
           }
          ],
          "histogram": [
           {
            "marker": {
             "pattern": {
              "fillmode": "overlay",
              "size": 10,
              "solidity": 0.2
             }
            },
            "type": "histogram"
           }
          ],
          "histogram2d": [
           {
            "colorbar": {
             "outlinewidth": 0,
             "ticks": ""
            },
            "colorscale": [
             [
              0,
              "#0d0887"
             ],
             [
              0.1111111111111111,
              "#46039f"
             ],
             [
              0.2222222222222222,
              "#7201a8"
             ],
             [
              0.3333333333333333,
              "#9c179e"
             ],
             [
              0.4444444444444444,
              "#bd3786"
             ],
             [
              0.5555555555555556,
              "#d8576b"
             ],
             [
              0.6666666666666666,
              "#ed7953"
             ],
             [
              0.7777777777777778,
              "#fb9f3a"
             ],
             [
              0.8888888888888888,
              "#fdca26"
             ],
             [
              1,
              "#f0f921"
             ]
            ],
            "type": "histogram2d"
           }
          ],
          "histogram2dcontour": [
           {
            "colorbar": {
             "outlinewidth": 0,
             "ticks": ""
            },
            "colorscale": [
             [
              0,
              "#0d0887"
             ],
             [
              0.1111111111111111,
              "#46039f"
             ],
             [
              0.2222222222222222,
              "#7201a8"
             ],
             [
              0.3333333333333333,
              "#9c179e"
             ],
             [
              0.4444444444444444,
              "#bd3786"
             ],
             [
              0.5555555555555556,
              "#d8576b"
             ],
             [
              0.6666666666666666,
              "#ed7953"
             ],
             [
              0.7777777777777778,
              "#fb9f3a"
             ],
             [
              0.8888888888888888,
              "#fdca26"
             ],
             [
              1,
              "#f0f921"
             ]
            ],
            "type": "histogram2dcontour"
           }
          ],
          "mesh3d": [
           {
            "colorbar": {
             "outlinewidth": 0,
             "ticks": ""
            },
            "type": "mesh3d"
           }
          ],
          "parcoords": [
           {
            "line": {
             "colorbar": {
              "outlinewidth": 0,
              "ticks": ""
             }
            },
            "type": "parcoords"
           }
          ],
          "pie": [
           {
            "automargin": true,
            "type": "pie"
           }
          ],
          "scatter": [
           {
            "fillpattern": {
             "fillmode": "overlay",
             "size": 10,
             "solidity": 0.2
            },
            "type": "scatter"
           }
          ],
          "scatter3d": [
           {
            "line": {
             "colorbar": {
              "outlinewidth": 0,
              "ticks": ""
             }
            },
            "marker": {
             "colorbar": {
              "outlinewidth": 0,
              "ticks": ""
             }
            },
            "type": "scatter3d"
           }
          ],
          "scattercarpet": [
           {
            "marker": {
             "colorbar": {
              "outlinewidth": 0,
              "ticks": ""
             }
            },
            "type": "scattercarpet"
           }
          ],
          "scattergeo": [
           {
            "marker": {
             "colorbar": {
              "outlinewidth": 0,
              "ticks": ""
             }
            },
            "type": "scattergeo"
           }
          ],
          "scattergl": [
           {
            "marker": {
             "colorbar": {
              "outlinewidth": 0,
              "ticks": ""
             }
            },
            "type": "scattergl"
           }
          ],
          "scattermap": [
           {
            "marker": {
             "colorbar": {
              "outlinewidth": 0,
              "ticks": ""
             }
            },
            "type": "scattermap"
           }
          ],
          "scattermapbox": [
           {
            "marker": {
             "colorbar": {
              "outlinewidth": 0,
              "ticks": ""
             }
            },
            "type": "scattermapbox"
           }
          ],
          "scatterpolar": [
           {
            "marker": {
             "colorbar": {
              "outlinewidth": 0,
              "ticks": ""
             }
            },
            "type": "scatterpolar"
           }
          ],
          "scatterpolargl": [
           {
            "marker": {
             "colorbar": {
              "outlinewidth": 0,
              "ticks": ""
             }
            },
            "type": "scatterpolargl"
           }
          ],
          "scatterternary": [
           {
            "marker": {
             "colorbar": {
              "outlinewidth": 0,
              "ticks": ""
             }
            },
            "type": "scatterternary"
           }
          ],
          "surface": [
           {
            "colorbar": {
             "outlinewidth": 0,
             "ticks": ""
            },
            "colorscale": [
             [
              0,
              "#0d0887"
             ],
             [
              0.1111111111111111,
              "#46039f"
             ],
             [
              0.2222222222222222,
              "#7201a8"
             ],
             [
              0.3333333333333333,
              "#9c179e"
             ],
             [
              0.4444444444444444,
              "#bd3786"
             ],
             [
              0.5555555555555556,
              "#d8576b"
             ],
             [
              0.6666666666666666,
              "#ed7953"
             ],
             [
              0.7777777777777778,
              "#fb9f3a"
             ],
             [
              0.8888888888888888,
              "#fdca26"
             ],
             [
              1,
              "#f0f921"
             ]
            ],
            "type": "surface"
           }
          ],
          "table": [
           {
            "cells": {
             "fill": {
              "color": "#EBF0F8"
             },
             "line": {
              "color": "white"
             }
            },
            "header": {
             "fill": {
              "color": "#C8D4E3"
             },
             "line": {
              "color": "white"
             }
            },
            "type": "table"
           }
          ]
         },
         "layout": {
          "annotationdefaults": {
           "arrowcolor": "#2a3f5f",
           "arrowhead": 0,
           "arrowwidth": 1
          },
          "autotypenumbers": "strict",
          "coloraxis": {
           "colorbar": {
            "outlinewidth": 0,
            "ticks": ""
           }
          },
          "colorscale": {
           "diverging": [
            [
             0,
             "#8e0152"
            ],
            [
             0.1,
             "#c51b7d"
            ],
            [
             0.2,
             "#de77ae"
            ],
            [
             0.3,
             "#f1b6da"
            ],
            [
             0.4,
             "#fde0ef"
            ],
            [
             0.5,
             "#f7f7f7"
            ],
            [
             0.6,
             "#e6f5d0"
            ],
            [
             0.7,
             "#b8e186"
            ],
            [
             0.8,
             "#7fbc41"
            ],
            [
             0.9,
             "#4d9221"
            ],
            [
             1,
             "#276419"
            ]
           ],
           "sequential": [
            [
             0,
             "#0d0887"
            ],
            [
             0.1111111111111111,
             "#46039f"
            ],
            [
             0.2222222222222222,
             "#7201a8"
            ],
            [
             0.3333333333333333,
             "#9c179e"
            ],
            [
             0.4444444444444444,
             "#bd3786"
            ],
            [
             0.5555555555555556,
             "#d8576b"
            ],
            [
             0.6666666666666666,
             "#ed7953"
            ],
            [
             0.7777777777777778,
             "#fb9f3a"
            ],
            [
             0.8888888888888888,
             "#fdca26"
            ],
            [
             1,
             "#f0f921"
            ]
           ],
           "sequentialminus": [
            [
             0,
             "#0d0887"
            ],
            [
             0.1111111111111111,
             "#46039f"
            ],
            [
             0.2222222222222222,
             "#7201a8"
            ],
            [
             0.3333333333333333,
             "#9c179e"
            ],
            [
             0.4444444444444444,
             "#bd3786"
            ],
            [
             0.5555555555555556,
             "#d8576b"
            ],
            [
             0.6666666666666666,
             "#ed7953"
            ],
            [
             0.7777777777777778,
             "#fb9f3a"
            ],
            [
             0.8888888888888888,
             "#fdca26"
            ],
            [
             1,
             "#f0f921"
            ]
           ]
          },
          "colorway": [
           "#636efa",
           "#EF553B",
           "#00cc96",
           "#ab63fa",
           "#FFA15A",
           "#19d3f3",
           "#FF6692",
           "#B6E880",
           "#FF97FF",
           "#FECB52"
          ],
          "font": {
           "color": "#2a3f5f"
          },
          "geo": {
           "bgcolor": "white",
           "lakecolor": "white",
           "landcolor": "#E5ECF6",
           "showlakes": true,
           "showland": true,
           "subunitcolor": "white"
          },
          "hoverlabel": {
           "align": "left"
          },
          "hovermode": "closest",
          "mapbox": {
           "style": "light"
          },
          "paper_bgcolor": "white",
          "plot_bgcolor": "#E5ECF6",
          "polar": {
           "angularaxis": {
            "gridcolor": "white",
            "linecolor": "white",
            "ticks": ""
           },
           "bgcolor": "#E5ECF6",
           "radialaxis": {
            "gridcolor": "white",
            "linecolor": "white",
            "ticks": ""
           }
          },
          "scene": {
           "xaxis": {
            "backgroundcolor": "#E5ECF6",
            "gridcolor": "white",
            "gridwidth": 2,
            "linecolor": "white",
            "showbackground": true,
            "ticks": "",
            "zerolinecolor": "white"
           },
           "yaxis": {
            "backgroundcolor": "#E5ECF6",
            "gridcolor": "white",
            "gridwidth": 2,
            "linecolor": "white",
            "showbackground": true,
            "ticks": "",
            "zerolinecolor": "white"
           },
           "zaxis": {
            "backgroundcolor": "#E5ECF6",
            "gridcolor": "white",
            "gridwidth": 2,
            "linecolor": "white",
            "showbackground": true,
            "ticks": "",
            "zerolinecolor": "white"
           }
          },
          "shapedefaults": {
           "line": {
            "color": "#2a3f5f"
           }
          },
          "ternary": {
           "aaxis": {
            "gridcolor": "white",
            "linecolor": "white",
            "ticks": ""
           },
           "baxis": {
            "gridcolor": "white",
            "linecolor": "white",
            "ticks": ""
           },
           "bgcolor": "#E5ECF6",
           "caxis": {
            "gridcolor": "white",
            "linecolor": "white",
            "ticks": ""
           }
          },
          "title": {
           "x": 0.05
          },
          "xaxis": {
           "automargin": true,
           "gridcolor": "white",
           "linecolor": "white",
           "ticks": "",
           "title": {
            "standoff": 15
           },
           "zerolinecolor": "white",
           "zerolinewidth": 2
          },
          "yaxis": {
           "automargin": true,
           "gridcolor": "white",
           "linecolor": "white",
           "ticks": "",
           "title": {
            "standoff": 15
           },
           "zerolinecolor": "white",
           "zerolinewidth": 2
          }
         }
        },
        "title": {
         "font": {
          "size": 20
         },
         "text": "Distribution de la popularité moyenne selon la diversité des segments",
         "x": 0.5
        },
        "xaxis": {
         "anchor": "y",
         "categoryarray": [
          8,
          2,
          3,
          9,
          6,
          7,
          10,
          5,
          4
         ],
         "categoryorder": "array",
         "domain": [
          0,
          1
         ],
         "tickfont": {
          "size": 13
         },
         "tickmode": "linear",
         "title": {
          "font": {
           "size": 16
          },
          "text": "Diversité des segments"
         }
        },
        "yaxis": {
         "anchor": "x",
         "domain": [
          0,
          1
         ],
         "gridcolor": "lightgrey",
         "tickfont": {
          "size": 13
         },
         "title": {
          "font": {
           "size": 16
          },
          "text": "Popularité moyenne"
         }
        }
       }
      },
      "text/html": [
       "<div>            <script src=\"https://cdnjs.cloudflare.com/ajax/libs/mathjax/2.7.5/MathJax.js?config=TeX-AMS-MML_SVG\"></script><script type=\"text/javascript\">if (window.MathJax && window.MathJax.Hub && window.MathJax.Hub.Config) {window.MathJax.Hub.Config({SVG: {font: \"STIX-Web\"}});}</script>                <script type=\"text/javascript\">window.PlotlyConfig = {MathJaxConfig: 'local'};</script>\n",
       "        <script charset=\"utf-8\" src=\"https://cdn.plot.ly/plotly-3.0.1.min.js\"></script>                <div id=\"0785e45c-2bb0-4cc8-80a7-b1b63aff6a7d\" class=\"plotly-graph-div\" style=\"height:525px; width:100%;\"></div>            <script type=\"text/javascript\">                window.PLOTLYENV=window.PLOTLYENV || {};                                if (document.getElementById(\"0785e45c-2bb0-4cc8-80a7-b1b63aff6a7d\")) {                    Plotly.newPlot(                        \"0785e45c-2bb0-4cc8-80a7-b1b63aff6a7d\",                        [{\"alignmentgroup\":\"True\",\"hovertemplate\":\"Nombre de segments distincts=%{x}\\u003cbr\\u003ePopularit\\u00e9 moyenne=%{y}\\u003cextra\\u003e\\u003c\\u002fextra\\u003e\",\"legendgroup\":\"8\",\"marker\":{\"color\":\"#636efa\",\"line\":{\"width\":1.5}},\"name\":\"8\",\"notched\":false,\"offsetgroup\":\"8\",\"orientation\":\"v\",\"showlegend\":true,\"x\":{\"dtype\":\"i1\",\"bdata\":\"CAgICAgICA==\"},\"x0\":\" \",\"xaxis\":\"x\",\"y\":{\"dtype\":\"f8\",\"bdata\":\"AAAAAACAaUAAAAAAAOycQAAAAAAAKIFAAAAAAAB8lkAAAAAAAGB8QAAAAAAAZJ9AAAAAAADMmkA=\"},\"y0\":\" \",\"yaxis\":\"y\",\"type\":\"box\"},{\"alignmentgroup\":\"True\",\"hovertemplate\":\"Nombre de segments distincts=%{x}\\u003cbr\\u003ePopularit\\u00e9 moyenne=%{y}\\u003cextra\\u003e\\u003c\\u002fextra\\u003e\",\"legendgroup\":\"2\",\"marker\":{\"color\":\"#EF553B\",\"line\":{\"width\":1.5}},\"name\":\"2\",\"notched\":false,\"offsetgroup\":\"2\",\"orientation\":\"v\",\"showlegend\":true,\"x\":{\"dtype\":\"i1\",\"bdata\":\"AgICAgIC\"},\"x0\":\" \",\"xaxis\":\"x\",\"y\":{\"dtype\":\"f8\",\"bdata\":\"AAAAAABAXEAAAAAAAKCJQAAAAAAAKINAAAAAAAAAekAAAAAAAAA6QAAAAAAAAABA\"},\"y0\":\" \",\"yaxis\":\"y\",\"type\":\"box\"},{\"alignmentgroup\":\"True\",\"hovertemplate\":\"Nombre de segments distincts=%{x}\\u003cbr\\u003ePopularit\\u00e9 moyenne=%{y}\\u003cextra\\u003e\\u003c\\u002fextra\\u003e\",\"legendgroup\":\"3\",\"marker\":{\"color\":\"#00cc96\",\"line\":{\"width\":1.5}},\"name\":\"3\",\"notched\":false,\"offsetgroup\":\"3\",\"orientation\":\"v\",\"showlegend\":true,\"x\":{\"dtype\":\"i1\",\"bdata\":\"AwMDAwMDAwM=\"},\"x0\":\" \",\"xaxis\":\"x\",\"y\":{\"dtype\":\"f8\",\"bdata\":\"AAAAAAAwcEAAAAAAAKylQAAAAAAAADVAAAAAAABAYEAAAAAAABiSQAAAAAAAQFpAAAAAAAAQfkAAAAAAALyVQA==\"},\"y0\":\" \",\"yaxis\":\"y\",\"type\":\"box\"},{\"alignmentgroup\":\"True\",\"hovertemplate\":\"Nombre de segments distincts=%{x}\\u003cbr\\u003ePopularit\\u00e9 moyenne=%{y}\\u003cextra\\u003e\\u003c\\u002fextra\\u003e\",\"legendgroup\":\"9\",\"marker\":{\"color\":\"#ab63fa\",\"line\":{\"width\":1.5}},\"name\":\"9\",\"notched\":false,\"offsetgroup\":\"9\",\"orientation\":\"v\",\"showlegend\":true,\"x\":{\"dtype\":\"i1\",\"bdata\":\"CQkJCQ==\"},\"x0\":\" \",\"xaxis\":\"x\",\"y\":{\"dtype\":\"f8\",\"bdata\":\"AAAAAABCqEAAAAAAAJiuQAAAAAAAqI9AAAAAAABIg0A=\"},\"y0\":\" \",\"yaxis\":\"y\",\"type\":\"box\"},{\"alignmentgroup\":\"True\",\"hovertemplate\":\"Nombre de segments distincts=%{x}\\u003cbr\\u003ePopularit\\u00e9 moyenne=%{y}\\u003cextra\\u003e\\u003c\\u002fextra\\u003e\",\"legendgroup\":\"6\",\"marker\":{\"color\":\"#FFA15A\",\"line\":{\"width\":1.5}},\"name\":\"6\",\"notched\":false,\"offsetgroup\":\"6\",\"orientation\":\"v\",\"showlegend\":true,\"x\":{\"dtype\":\"i1\",\"bdata\":\"BgYGBgYG\"},\"x0\":\" \",\"xaxis\":\"x\",\"y\":{\"dtype\":\"f8\",\"bdata\":\"AAAAAABAgEAAAAAAAMBnQAAAAAAAwG1AAAAAAABAe0AAAAAAAIB3QAAAAAAAMItA\"},\"y0\":\" \",\"yaxis\":\"y\",\"type\":\"box\"},{\"alignmentgroup\":\"True\",\"hovertemplate\":\"Nombre de segments distincts=%{x}\\u003cbr\\u003ePopularit\\u00e9 moyenne=%{y}\\u003cextra\\u003e\\u003c\\u002fextra\\u003e\",\"legendgroup\":\"7\",\"marker\":{\"color\":\"#19d3f3\",\"line\":{\"width\":1.5}},\"name\":\"7\",\"notched\":false,\"offsetgroup\":\"7\",\"orientation\":\"v\",\"showlegend\":true,\"x\":{\"dtype\":\"i1\",\"bdata\":\"BwcHBwcHBwcH\"},\"x0\":\" \",\"xaxis\":\"x\",\"y\":{\"dtype\":\"f8\",\"bdata\":\"AAAAAABgY0AAAAAAAGCZQAAAAAAANKFAAAAAAADgmkAAAAAAACBwQAAAAAAAUIJAAAAAAABAakAAAAAAAACEQAAAAAAAvJ9A\"},\"y0\":\" \",\"yaxis\":\"y\",\"type\":\"box\"},{\"alignmentgroup\":\"True\",\"hovertemplate\":\"Nombre de segments distincts=%{x}\\u003cbr\\u003ePopularit\\u00e9 moyenne=%{y}\\u003cextra\\u003e\\u003c\\u002fextra\\u003e\",\"legendgroup\":\"10\",\"marker\":{\"color\":\"#FF6692\",\"line\":{\"width\":1.5}},\"name\":\"10\",\"notched\":false,\"offsetgroup\":\"10\",\"orientation\":\"v\",\"showlegend\":true,\"x\":{\"dtype\":\"i1\",\"bdata\":\"CgoK\"},\"x0\":\" \",\"xaxis\":\"x\",\"y\":{\"dtype\":\"f8\",\"bdata\":\"AAAAAACklUAAAAAAABm2QAAAAAAASItA\"},\"y0\":\" \",\"yaxis\":\"y\",\"type\":\"box\"},{\"alignmentgroup\":\"True\",\"hovertemplate\":\"Nombre de segments distincts=%{x}\\u003cbr\\u003ePopularit\\u00e9 moyenne=%{y}\\u003cextra\\u003e\\u003c\\u002fextra\\u003e\",\"legendgroup\":\"5\",\"marker\":{\"color\":\"#B6E880\",\"line\":{\"width\":1.5}},\"name\":\"5\",\"notched\":false,\"offsetgroup\":\"5\",\"orientation\":\"v\",\"showlegend\":true,\"x\":{\"dtype\":\"i1\",\"bdata\":\"BQUF\"},\"x0\":\" \",\"xaxis\":\"x\",\"y\":{\"dtype\":\"f8\",\"bdata\":\"AAAAAACYiUAAAAAAAIBOQAAAAAAAuIBA\"},\"y0\":\" \",\"yaxis\":\"y\",\"type\":\"box\"},{\"alignmentgroup\":\"True\",\"hovertemplate\":\"Nombre de segments distincts=%{x}\\u003cbr\\u003ePopularit\\u00e9 moyenne=%{y}\\u003cextra\\u003e\\u003c\\u002fextra\\u003e\",\"legendgroup\":\"4\",\"marker\":{\"color\":\"#FF97FF\",\"line\":{\"width\":1.5}},\"name\":\"4\",\"notched\":false,\"offsetgroup\":\"4\",\"orientation\":\"v\",\"showlegend\":true,\"x\":{\"dtype\":\"i1\",\"bdata\":\"BAQ=\"},\"x0\":\" \",\"xaxis\":\"x\",\"y\":{\"dtype\":\"f8\",\"bdata\":\"AAAAAADAUEAAAAAAAIBVQA==\"},\"y0\":\" \",\"yaxis\":\"y\",\"type\":\"box\"}],                        {\"template\":{\"data\":{\"histogram2dcontour\":[{\"type\":\"histogram2dcontour\",\"colorbar\":{\"outlinewidth\":0,\"ticks\":\"\"},\"colorscale\":[[0.0,\"#0d0887\"],[0.1111111111111111,\"#46039f\"],[0.2222222222222222,\"#7201a8\"],[0.3333333333333333,\"#9c179e\"],[0.4444444444444444,\"#bd3786\"],[0.5555555555555556,\"#d8576b\"],[0.6666666666666666,\"#ed7953\"],[0.7777777777777778,\"#fb9f3a\"],[0.8888888888888888,\"#fdca26\"],[1.0,\"#f0f921\"]]}],\"choropleth\":[{\"type\":\"choropleth\",\"colorbar\":{\"outlinewidth\":0,\"ticks\":\"\"}}],\"histogram2d\":[{\"type\":\"histogram2d\",\"colorbar\":{\"outlinewidth\":0,\"ticks\":\"\"},\"colorscale\":[[0.0,\"#0d0887\"],[0.1111111111111111,\"#46039f\"],[0.2222222222222222,\"#7201a8\"],[0.3333333333333333,\"#9c179e\"],[0.4444444444444444,\"#bd3786\"],[0.5555555555555556,\"#d8576b\"],[0.6666666666666666,\"#ed7953\"],[0.7777777777777778,\"#fb9f3a\"],[0.8888888888888888,\"#fdca26\"],[1.0,\"#f0f921\"]]}],\"heatmap\":[{\"type\":\"heatmap\",\"colorbar\":{\"outlinewidth\":0,\"ticks\":\"\"},\"colorscale\":[[0.0,\"#0d0887\"],[0.1111111111111111,\"#46039f\"],[0.2222222222222222,\"#7201a8\"],[0.3333333333333333,\"#9c179e\"],[0.4444444444444444,\"#bd3786\"],[0.5555555555555556,\"#d8576b\"],[0.6666666666666666,\"#ed7953\"],[0.7777777777777778,\"#fb9f3a\"],[0.8888888888888888,\"#fdca26\"],[1.0,\"#f0f921\"]]}],\"contourcarpet\":[{\"type\":\"contourcarpet\",\"colorbar\":{\"outlinewidth\":0,\"ticks\":\"\"}}],\"contour\":[{\"type\":\"contour\",\"colorbar\":{\"outlinewidth\":0,\"ticks\":\"\"},\"colorscale\":[[0.0,\"#0d0887\"],[0.1111111111111111,\"#46039f\"],[0.2222222222222222,\"#7201a8\"],[0.3333333333333333,\"#9c179e\"],[0.4444444444444444,\"#bd3786\"],[0.5555555555555556,\"#d8576b\"],[0.6666666666666666,\"#ed7953\"],[0.7777777777777778,\"#fb9f3a\"],[0.8888888888888888,\"#fdca26\"],[1.0,\"#f0f921\"]]}],\"surface\":[{\"type\":\"surface\",\"colorbar\":{\"outlinewidth\":0,\"ticks\":\"\"},\"colorscale\":[[0.0,\"#0d0887\"],[0.1111111111111111,\"#46039f\"],[0.2222222222222222,\"#7201a8\"],[0.3333333333333333,\"#9c179e\"],[0.4444444444444444,\"#bd3786\"],[0.5555555555555556,\"#d8576b\"],[0.6666666666666666,\"#ed7953\"],[0.7777777777777778,\"#fb9f3a\"],[0.8888888888888888,\"#fdca26\"],[1.0,\"#f0f921\"]]}],\"mesh3d\":[{\"type\":\"mesh3d\",\"colorbar\":{\"outlinewidth\":0,\"ticks\":\"\"}}],\"scatter\":[{\"fillpattern\":{\"fillmode\":\"overlay\",\"size\":10,\"solidity\":0.2},\"type\":\"scatter\"}],\"parcoords\":[{\"type\":\"parcoords\",\"line\":{\"colorbar\":{\"outlinewidth\":0,\"ticks\":\"\"}}}],\"scatterpolargl\":[{\"type\":\"scatterpolargl\",\"marker\":{\"colorbar\":{\"outlinewidth\":0,\"ticks\":\"\"}}}],\"bar\":[{\"error_x\":{\"color\":\"#2a3f5f\"},\"error_y\":{\"color\":\"#2a3f5f\"},\"marker\":{\"line\":{\"color\":\"#E5ECF6\",\"width\":0.5},\"pattern\":{\"fillmode\":\"overlay\",\"size\":10,\"solidity\":0.2}},\"type\":\"bar\"}],\"scattergeo\":[{\"type\":\"scattergeo\",\"marker\":{\"colorbar\":{\"outlinewidth\":0,\"ticks\":\"\"}}}],\"scatterpolar\":[{\"type\":\"scatterpolar\",\"marker\":{\"colorbar\":{\"outlinewidth\":0,\"ticks\":\"\"}}}],\"histogram\":[{\"marker\":{\"pattern\":{\"fillmode\":\"overlay\",\"size\":10,\"solidity\":0.2}},\"type\":\"histogram\"}],\"scattergl\":[{\"type\":\"scattergl\",\"marker\":{\"colorbar\":{\"outlinewidth\":0,\"ticks\":\"\"}}}],\"scatter3d\":[{\"type\":\"scatter3d\",\"line\":{\"colorbar\":{\"outlinewidth\":0,\"ticks\":\"\"}},\"marker\":{\"colorbar\":{\"outlinewidth\":0,\"ticks\":\"\"}}}],\"scattermap\":[{\"type\":\"scattermap\",\"marker\":{\"colorbar\":{\"outlinewidth\":0,\"ticks\":\"\"}}}],\"scattermapbox\":[{\"type\":\"scattermapbox\",\"marker\":{\"colorbar\":{\"outlinewidth\":0,\"ticks\":\"\"}}}],\"scatterternary\":[{\"type\":\"scatterternary\",\"marker\":{\"colorbar\":{\"outlinewidth\":0,\"ticks\":\"\"}}}],\"scattercarpet\":[{\"type\":\"scattercarpet\",\"marker\":{\"colorbar\":{\"outlinewidth\":0,\"ticks\":\"\"}}}],\"carpet\":[{\"aaxis\":{\"endlinecolor\":\"#2a3f5f\",\"gridcolor\":\"white\",\"linecolor\":\"white\",\"minorgridcolor\":\"white\",\"startlinecolor\":\"#2a3f5f\"},\"baxis\":{\"endlinecolor\":\"#2a3f5f\",\"gridcolor\":\"white\",\"linecolor\":\"white\",\"minorgridcolor\":\"white\",\"startlinecolor\":\"#2a3f5f\"},\"type\":\"carpet\"}],\"table\":[{\"cells\":{\"fill\":{\"color\":\"#EBF0F8\"},\"line\":{\"color\":\"white\"}},\"header\":{\"fill\":{\"color\":\"#C8D4E3\"},\"line\":{\"color\":\"white\"}},\"type\":\"table\"}],\"barpolar\":[{\"marker\":{\"line\":{\"color\":\"#E5ECF6\",\"width\":0.5},\"pattern\":{\"fillmode\":\"overlay\",\"size\":10,\"solidity\":0.2}},\"type\":\"barpolar\"}],\"pie\":[{\"automargin\":true,\"type\":\"pie\"}]},\"layout\":{\"autotypenumbers\":\"strict\",\"colorway\":[\"#636efa\",\"#EF553B\",\"#00cc96\",\"#ab63fa\",\"#FFA15A\",\"#19d3f3\",\"#FF6692\",\"#B6E880\",\"#FF97FF\",\"#FECB52\"],\"font\":{\"color\":\"#2a3f5f\"},\"hovermode\":\"closest\",\"hoverlabel\":{\"align\":\"left\"},\"paper_bgcolor\":\"white\",\"plot_bgcolor\":\"#E5ECF6\",\"polar\":{\"bgcolor\":\"#E5ECF6\",\"angularaxis\":{\"gridcolor\":\"white\",\"linecolor\":\"white\",\"ticks\":\"\"},\"radialaxis\":{\"gridcolor\":\"white\",\"linecolor\":\"white\",\"ticks\":\"\"}},\"ternary\":{\"bgcolor\":\"#E5ECF6\",\"aaxis\":{\"gridcolor\":\"white\",\"linecolor\":\"white\",\"ticks\":\"\"},\"baxis\":{\"gridcolor\":\"white\",\"linecolor\":\"white\",\"ticks\":\"\"},\"caxis\":{\"gridcolor\":\"white\",\"linecolor\":\"white\",\"ticks\":\"\"}},\"coloraxis\":{\"colorbar\":{\"outlinewidth\":0,\"ticks\":\"\"}},\"colorscale\":{\"sequential\":[[0.0,\"#0d0887\"],[0.1111111111111111,\"#46039f\"],[0.2222222222222222,\"#7201a8\"],[0.3333333333333333,\"#9c179e\"],[0.4444444444444444,\"#bd3786\"],[0.5555555555555556,\"#d8576b\"],[0.6666666666666666,\"#ed7953\"],[0.7777777777777778,\"#fb9f3a\"],[0.8888888888888888,\"#fdca26\"],[1.0,\"#f0f921\"]],\"sequentialminus\":[[0.0,\"#0d0887\"],[0.1111111111111111,\"#46039f\"],[0.2222222222222222,\"#7201a8\"],[0.3333333333333333,\"#9c179e\"],[0.4444444444444444,\"#bd3786\"],[0.5555555555555556,\"#d8576b\"],[0.6666666666666666,\"#ed7953\"],[0.7777777777777778,\"#fb9f3a\"],[0.8888888888888888,\"#fdca26\"],[1.0,\"#f0f921\"]],\"diverging\":[[0,\"#8e0152\"],[0.1,\"#c51b7d\"],[0.2,\"#de77ae\"],[0.3,\"#f1b6da\"],[0.4,\"#fde0ef\"],[0.5,\"#f7f7f7\"],[0.6,\"#e6f5d0\"],[0.7,\"#b8e186\"],[0.8,\"#7fbc41\"],[0.9,\"#4d9221\"],[1,\"#276419\"]]},\"xaxis\":{\"gridcolor\":\"white\",\"linecolor\":\"white\",\"ticks\":\"\",\"title\":{\"standoff\":15},\"zerolinecolor\":\"white\",\"automargin\":true,\"zerolinewidth\":2},\"yaxis\":{\"gridcolor\":\"white\",\"linecolor\":\"white\",\"ticks\":\"\",\"title\":{\"standoff\":15},\"zerolinecolor\":\"white\",\"automargin\":true,\"zerolinewidth\":2},\"scene\":{\"xaxis\":{\"backgroundcolor\":\"#E5ECF6\",\"gridcolor\":\"white\",\"linecolor\":\"white\",\"showbackground\":true,\"ticks\":\"\",\"zerolinecolor\":\"white\",\"gridwidth\":2},\"yaxis\":{\"backgroundcolor\":\"#E5ECF6\",\"gridcolor\":\"white\",\"linecolor\":\"white\",\"showbackground\":true,\"ticks\":\"\",\"zerolinecolor\":\"white\",\"gridwidth\":2},\"zaxis\":{\"backgroundcolor\":\"#E5ECF6\",\"gridcolor\":\"white\",\"linecolor\":\"white\",\"showbackground\":true,\"ticks\":\"\",\"zerolinecolor\":\"white\",\"gridwidth\":2}},\"shapedefaults\":{\"line\":{\"color\":\"#2a3f5f\"}},\"annotationdefaults\":{\"arrowcolor\":\"#2a3f5f\",\"arrowhead\":0,\"arrowwidth\":1},\"geo\":{\"bgcolor\":\"white\",\"landcolor\":\"#E5ECF6\",\"subunitcolor\":\"white\",\"showland\":true,\"showlakes\":true,\"lakecolor\":\"white\"},\"title\":{\"x\":0.05},\"mapbox\":{\"style\":\"light\"}}},\"xaxis\":{\"anchor\":\"y\",\"domain\":[0.0,1.0],\"title\":{\"text\":\"Diversit\\u00e9 des segments\",\"font\":{\"size\":16}},\"categoryorder\":\"array\",\"categoryarray\":[8,2,3,9,6,7,10,5,4],\"tickfont\":{\"size\":13},\"tickmode\":\"linear\"},\"yaxis\":{\"anchor\":\"x\",\"domain\":[0.0,1.0],\"title\":{\"text\":\"Popularit\\u00e9 moyenne\",\"font\":{\"size\":16}},\"tickfont\":{\"size\":13},\"gridcolor\":\"lightgrey\"},\"legend\":{\"title\":{\"text\":\"Nombre de segments distincts\"},\"tracegroupgap\":0},\"title\":{\"text\":\"Distribution de la popularit\\u00e9 moyenne selon la diversit\\u00e9 des segments\",\"font\":{\"size\":20},\"x\":0.5},\"boxmode\":\"overlay\",\"font\":{\"size\":14},\"margin\":{\"t\":80,\"b\":40,\"l\":60,\"r\":40},\"showlegend\":false,\"plot_bgcolor\":\"white\"},                        {\"responsive\": true}                    ).then(function(){\n",
       "                            \n",
       "var gd = document.getElementById('0785e45c-2bb0-4cc8-80a7-b1b63aff6a7d');\n",
       "var x = new MutationObserver(function (mutations, observer) {{\n",
       "        var display = window.getComputedStyle(gd).display;\n",
       "        if (!display || display === 'none') {{\n",
       "            console.log([gd, 'removed!']);\n",
       "            Plotly.purge(gd);\n",
       "            observer.disconnect();\n",
       "        }}\n",
       "}});\n",
       "\n",
       "// Listen for the removal of the full notebook cells\n",
       "var notebookContainer = gd.closest('#notebook-container');\n",
       "if (notebookContainer) {{\n",
       "    x.observe(notebookContainer, {childList: true});\n",
       "}}\n",
       "\n",
       "// Listen for the clearing of the current output cell\n",
       "var outputEl = gd.closest('.output');\n",
       "if (outputEl) {{\n",
       "    x.observe(outputEl, {childList: true});\n",
       "}}\n",
       "\n",
       "                        })                };            </script>        </div>"
      ]
     },
     "metadata": {},
     "output_type": "display_data"
    }
   ],
   "source": [
    "# Vérification des colonnes disponibles dans le DataFrame\n",
    "print(\"Colonnes disponibles :\", df.columns)\n",
    "\n",
    "# Nettoyage\n",
    "df_clean3 = df.dropna(subset=['make', 'model', 'market', 'popularity']).copy()\n",
    "df_clean3 = df_clean3.drop_duplicates(subset=['make', 'model', 'market'])\n",
    "\n",
    "# Explosion des catégories\n",
    "df_clean3['market'] = df_clean3['market'].str.split(',')\n",
    "df_exploded3 = df_clean3.explode('market')\n",
    "\n",
    "# Diversité de segments\n",
    "segment_diversity = df_exploded3.groupby('make')['market'].nunique().reset_index()\n",
    "segment_diversity.columns = ['make', 'Diversité Segment']\n",
    "\n",
    "# Fusion avec popularité\n",
    "popularity_data = df_exploded3.groupby('make')['popularity'].mean().reset_index()\n",
    "popularity_data.columns = ['make', 'Popularité Moyenne']\n",
    "\n",
    "# Dataset final\n",
    "merged_df = pd.merge(segment_diversity, popularity_data, on='make')\n",
    "\n",
    "# Graphe en boite\n",
    "fig = px.box(\n",
    "    merged_df,\n",
    "    x='Diversité Segment',\n",
    "    y='Popularité Moyenne',\n",
    "    color='Diversité Segment',\n",
    "    title=\"Distribution de la popularité moyenne selon la diversité des segments\",\n",
    "    labels={\n",
    "        'Diversité Segment': \"Nombre de segments distincts\",\n",
    "        'Popularité Moyenne': \"Popularité moyenne\"\n",
    "    }\n",
    ")\n",
    "\n",
    "fig.update_layout(\n",
    "    title=dict(x=0.5, font=dict(size=20)),\n",
    "    font=dict(size=14),\n",
    "    xaxis=dict(\n",
    "        title=dict(text=\"Diversité des segments\", font=dict(size=16)),  # Corrected here\n",
    "        tickmode='linear',\n",
    "        tickfont=dict(size=13)\n",
    "    ),\n",
    "    yaxis=dict(\n",
    "        title=dict(text=\"Popularité moyenne\", font=dict(size=16)),\n",
    "        tickfont=dict(size=13),\n",
    "        gridcolor='lightgrey'\n",
    "    ),\n",
    "    showlegend=False,\n",
    "    plot_bgcolor='white',\n",
    "    margin=dict(t=80, b=40, l=60, r=40)\n",
    ")\n",
    "\n",
    "fig.update_traces(marker=dict(line=dict(width=1.5)), selector=dict(type='box'))\n",
    "\n",
    "fig.show()"
   ]
  },
  {
   "cell_type": "code",
   "execution_count": 304,
   "id": "0bc50e00",
   "metadata": {},
   "outputs": [
    {
     "data": {
      "application/vnd.plotly.v1+json": {
       "config": {
        "plotlyServerURL": "https://plot.ly"
       },
       "data": [
        {
         "hovertemplate": "Année: %{x}<br>Prix moyen: $%{y:.2f}<br>Nb véhicules: %{text}<extra></extra>",
         "legendgroup": "",
         "line": {
          "color": "#636efa",
          "dash": "solid"
         },
         "marker": {
          "size": 6,
          "symbol": "circle"
         },
         "mode": "lines+markers+text",
         "name": "",
         "orientation": "v",
         "showlegend": false,
         "text": {
          "bdata": "AAAAAAAAY0AAAAAAACBmQAAAAAAAIGpAAAAAAABgZEAAAAAAAOBgQAAAAAAAYGBAAAAAAADgZUAAAAAAAEBjQAAAAAAAAF5AAAAAAACAXUAAAAAAAABlQAAAAAAAoGlAAAAAAADAbUAAAAAAAGBtQAAAAAAAoGpAAAAAAACgaUAAAAAAAJB1QAAAAAAA0HVAAAAAAACwd0AAAAAAAKByQAAAAAAA0HFAAAAAAAAweEAAAAAAAOB2QAAAAAAAaIJAAAAAAAD0oEAAAAAAANqgQAAAAAAAEJpA",
          "dtype": "f8"
         },
         "type": "scatter",
         "x": {
          "bdata": "xwfIB8kHygfLB8wHzQfOB88H0AfRB9IH0wfUB9UH1gfXB9gH2QfaB9sH3AfdB94H3wfgB+EH",
          "dtype": "i2"
         },
         "xaxis": "x",
         "y": {
          "bdata": "5TWU11BBoEAoJBfwejugQNB2b5WmFqFAIw6dtA8QokA5juM4jl2kQL61YZq7gqNAdJ9dQGxCqEDH1MDeMT+nQBERERFRMKhASt2Xx1a9qEBVVVVVlUPkQOxPwP4EeuBABHJNBMJr40C3COjBaqHhQLhLPRlf8eFAiN+B+B1O30BC/+g2xhPhQAEWSlddb+pAshtV5tFV6EDCk4LkT7roQOLU77mFGexAzsNIhocP7UBq7GEWUMfnQLVbYaBL3+5ALuzjwk7Z5kCvQPvHlw7nQCVE8RfxmeRA",
          "dtype": "f8"
         },
         "yaxis": "y"
        }
       ],
       "layout": {
        "height": 500,
        "hovermode": "closest",
        "legend": {
         "tracegroupgap": 0
        },
        "margin": {
         "b": 100,
         "t": 60
        },
        "template": {
         "data": {
          "bar": [
           {
            "error_x": {
             "color": "#2a3f5f"
            },
            "error_y": {
             "color": "#2a3f5f"
            },
            "marker": {
             "line": {
              "color": "#E5ECF6",
              "width": 0.5
             },
             "pattern": {
              "fillmode": "overlay",
              "size": 10,
              "solidity": 0.2
             }
            },
            "type": "bar"
           }
          ],
          "barpolar": [
           {
            "marker": {
             "line": {
              "color": "#E5ECF6",
              "width": 0.5
             },
             "pattern": {
              "fillmode": "overlay",
              "size": 10,
              "solidity": 0.2
             }
            },
            "type": "barpolar"
           }
          ],
          "carpet": [
           {
            "aaxis": {
             "endlinecolor": "#2a3f5f",
             "gridcolor": "white",
             "linecolor": "white",
             "minorgridcolor": "white",
             "startlinecolor": "#2a3f5f"
            },
            "baxis": {
             "endlinecolor": "#2a3f5f",
             "gridcolor": "white",
             "linecolor": "white",
             "minorgridcolor": "white",
             "startlinecolor": "#2a3f5f"
            },
            "type": "carpet"
           }
          ],
          "choropleth": [
           {
            "colorbar": {
             "outlinewidth": 0,
             "ticks": ""
            },
            "type": "choropleth"
           }
          ],
          "contour": [
           {
            "colorbar": {
             "outlinewidth": 0,
             "ticks": ""
            },
            "colorscale": [
             [
              0,
              "#0d0887"
             ],
             [
              0.1111111111111111,
              "#46039f"
             ],
             [
              0.2222222222222222,
              "#7201a8"
             ],
             [
              0.3333333333333333,
              "#9c179e"
             ],
             [
              0.4444444444444444,
              "#bd3786"
             ],
             [
              0.5555555555555556,
              "#d8576b"
             ],
             [
              0.6666666666666666,
              "#ed7953"
             ],
             [
              0.7777777777777778,
              "#fb9f3a"
             ],
             [
              0.8888888888888888,
              "#fdca26"
             ],
             [
              1,
              "#f0f921"
             ]
            ],
            "type": "contour"
           }
          ],
          "contourcarpet": [
           {
            "colorbar": {
             "outlinewidth": 0,
             "ticks": ""
            },
            "type": "contourcarpet"
           }
          ],
          "heatmap": [
           {
            "colorbar": {
             "outlinewidth": 0,
             "ticks": ""
            },
            "colorscale": [
             [
              0,
              "#0d0887"
             ],
             [
              0.1111111111111111,
              "#46039f"
             ],
             [
              0.2222222222222222,
              "#7201a8"
             ],
             [
              0.3333333333333333,
              "#9c179e"
             ],
             [
              0.4444444444444444,
              "#bd3786"
             ],
             [
              0.5555555555555556,
              "#d8576b"
             ],
             [
              0.6666666666666666,
              "#ed7953"
             ],
             [
              0.7777777777777778,
              "#fb9f3a"
             ],
             [
              0.8888888888888888,
              "#fdca26"
             ],
             [
              1,
              "#f0f921"
             ]
            ],
            "type": "heatmap"
           }
          ],
          "histogram": [
           {
            "marker": {
             "pattern": {
              "fillmode": "overlay",
              "size": 10,
              "solidity": 0.2
             }
            },
            "type": "histogram"
           }
          ],
          "histogram2d": [
           {
            "colorbar": {
             "outlinewidth": 0,
             "ticks": ""
            },
            "colorscale": [
             [
              0,
              "#0d0887"
             ],
             [
              0.1111111111111111,
              "#46039f"
             ],
             [
              0.2222222222222222,
              "#7201a8"
             ],
             [
              0.3333333333333333,
              "#9c179e"
             ],
             [
              0.4444444444444444,
              "#bd3786"
             ],
             [
              0.5555555555555556,
              "#d8576b"
             ],
             [
              0.6666666666666666,
              "#ed7953"
             ],
             [
              0.7777777777777778,
              "#fb9f3a"
             ],
             [
              0.8888888888888888,
              "#fdca26"
             ],
             [
              1,
              "#f0f921"
             ]
            ],
            "type": "histogram2d"
           }
          ],
          "histogram2dcontour": [
           {
            "colorbar": {
             "outlinewidth": 0,
             "ticks": ""
            },
            "colorscale": [
             [
              0,
              "#0d0887"
             ],
             [
              0.1111111111111111,
              "#46039f"
             ],
             [
              0.2222222222222222,
              "#7201a8"
             ],
             [
              0.3333333333333333,
              "#9c179e"
             ],
             [
              0.4444444444444444,
              "#bd3786"
             ],
             [
              0.5555555555555556,
              "#d8576b"
             ],
             [
              0.6666666666666666,
              "#ed7953"
             ],
             [
              0.7777777777777778,
              "#fb9f3a"
             ],
             [
              0.8888888888888888,
              "#fdca26"
             ],
             [
              1,
              "#f0f921"
             ]
            ],
            "type": "histogram2dcontour"
           }
          ],
          "mesh3d": [
           {
            "colorbar": {
             "outlinewidth": 0,
             "ticks": ""
            },
            "type": "mesh3d"
           }
          ],
          "parcoords": [
           {
            "line": {
             "colorbar": {
              "outlinewidth": 0,
              "ticks": ""
             }
            },
            "type": "parcoords"
           }
          ],
          "pie": [
           {
            "automargin": true,
            "type": "pie"
           }
          ],
          "scatter": [
           {
            "fillpattern": {
             "fillmode": "overlay",
             "size": 10,
             "solidity": 0.2
            },
            "type": "scatter"
           }
          ],
          "scatter3d": [
           {
            "line": {
             "colorbar": {
              "outlinewidth": 0,
              "ticks": ""
             }
            },
            "marker": {
             "colorbar": {
              "outlinewidth": 0,
              "ticks": ""
             }
            },
            "type": "scatter3d"
           }
          ],
          "scattercarpet": [
           {
            "marker": {
             "colorbar": {
              "outlinewidth": 0,
              "ticks": ""
             }
            },
            "type": "scattercarpet"
           }
          ],
          "scattergeo": [
           {
            "marker": {
             "colorbar": {
              "outlinewidth": 0,
              "ticks": ""
             }
            },
            "type": "scattergeo"
           }
          ],
          "scattergl": [
           {
            "marker": {
             "colorbar": {
              "outlinewidth": 0,
              "ticks": ""
             }
            },
            "type": "scattergl"
           }
          ],
          "scattermap": [
           {
            "marker": {
             "colorbar": {
              "outlinewidth": 0,
              "ticks": ""
             }
            },
            "type": "scattermap"
           }
          ],
          "scattermapbox": [
           {
            "marker": {
             "colorbar": {
              "outlinewidth": 0,
              "ticks": ""
             }
            },
            "type": "scattermapbox"
           }
          ],
          "scatterpolar": [
           {
            "marker": {
             "colorbar": {
              "outlinewidth": 0,
              "ticks": ""
             }
            },
            "type": "scatterpolar"
           }
          ],
          "scatterpolargl": [
           {
            "marker": {
             "colorbar": {
              "outlinewidth": 0,
              "ticks": ""
             }
            },
            "type": "scatterpolargl"
           }
          ],
          "scatterternary": [
           {
            "marker": {
             "colorbar": {
              "outlinewidth": 0,
              "ticks": ""
             }
            },
            "type": "scatterternary"
           }
          ],
          "surface": [
           {
            "colorbar": {
             "outlinewidth": 0,
             "ticks": ""
            },
            "colorscale": [
             [
              0,
              "#0d0887"
             ],
             [
              0.1111111111111111,
              "#46039f"
             ],
             [
              0.2222222222222222,
              "#7201a8"
             ],
             [
              0.3333333333333333,
              "#9c179e"
             ],
             [
              0.4444444444444444,
              "#bd3786"
             ],
             [
              0.5555555555555556,
              "#d8576b"
             ],
             [
              0.6666666666666666,
              "#ed7953"
             ],
             [
              0.7777777777777778,
              "#fb9f3a"
             ],
             [
              0.8888888888888888,
              "#fdca26"
             ],
             [
              1,
              "#f0f921"
             ]
            ],
            "type": "surface"
           }
          ],
          "table": [
           {
            "cells": {
             "fill": {
              "color": "#EBF0F8"
             },
             "line": {
              "color": "white"
             }
            },
            "header": {
             "fill": {
              "color": "#C8D4E3"
             },
             "line": {
              "color": "white"
             }
            },
            "type": "table"
           }
          ]
         },
         "layout": {
          "annotationdefaults": {
           "arrowcolor": "#2a3f5f",
           "arrowhead": 0,
           "arrowwidth": 1
          },
          "autotypenumbers": "strict",
          "coloraxis": {
           "colorbar": {
            "outlinewidth": 0,
            "ticks": ""
           }
          },
          "colorscale": {
           "diverging": [
            [
             0,
             "#8e0152"
            ],
            [
             0.1,
             "#c51b7d"
            ],
            [
             0.2,
             "#de77ae"
            ],
            [
             0.3,
             "#f1b6da"
            ],
            [
             0.4,
             "#fde0ef"
            ],
            [
             0.5,
             "#f7f7f7"
            ],
            [
             0.6,
             "#e6f5d0"
            ],
            [
             0.7,
             "#b8e186"
            ],
            [
             0.8,
             "#7fbc41"
            ],
            [
             0.9,
             "#4d9221"
            ],
            [
             1,
             "#276419"
            ]
           ],
           "sequential": [
            [
             0,
             "#0d0887"
            ],
            [
             0.1111111111111111,
             "#46039f"
            ],
            [
             0.2222222222222222,
             "#7201a8"
            ],
            [
             0.3333333333333333,
             "#9c179e"
            ],
            [
             0.4444444444444444,
             "#bd3786"
            ],
            [
             0.5555555555555556,
             "#d8576b"
            ],
            [
             0.6666666666666666,
             "#ed7953"
            ],
            [
             0.7777777777777778,
             "#fb9f3a"
            ],
            [
             0.8888888888888888,
             "#fdca26"
            ],
            [
             1,
             "#f0f921"
            ]
           ],
           "sequentialminus": [
            [
             0,
             "#0d0887"
            ],
            [
             0.1111111111111111,
             "#46039f"
            ],
            [
             0.2222222222222222,
             "#7201a8"
            ],
            [
             0.3333333333333333,
             "#9c179e"
            ],
            [
             0.4444444444444444,
             "#bd3786"
            ],
            [
             0.5555555555555556,
             "#d8576b"
            ],
            [
             0.6666666666666666,
             "#ed7953"
            ],
            [
             0.7777777777777778,
             "#fb9f3a"
            ],
            [
             0.8888888888888888,
             "#fdca26"
            ],
            [
             1,
             "#f0f921"
            ]
           ]
          },
          "colorway": [
           "#636efa",
           "#EF553B",
           "#00cc96",
           "#ab63fa",
           "#FFA15A",
           "#19d3f3",
           "#FF6692",
           "#B6E880",
           "#FF97FF",
           "#FECB52"
          ],
          "font": {
           "color": "#2a3f5f"
          },
          "geo": {
           "bgcolor": "white",
           "lakecolor": "white",
           "landcolor": "#E5ECF6",
           "showlakes": true,
           "showland": true,
           "subunitcolor": "white"
          },
          "hoverlabel": {
           "align": "left"
          },
          "hovermode": "closest",
          "mapbox": {
           "style": "light"
          },
          "paper_bgcolor": "white",
          "plot_bgcolor": "#E5ECF6",
          "polar": {
           "angularaxis": {
            "gridcolor": "white",
            "linecolor": "white",
            "ticks": ""
           },
           "bgcolor": "#E5ECF6",
           "radialaxis": {
            "gridcolor": "white",
            "linecolor": "white",
            "ticks": ""
           }
          },
          "scene": {
           "xaxis": {
            "backgroundcolor": "#E5ECF6",
            "gridcolor": "white",
            "gridwidth": 2,
            "linecolor": "white",
            "showbackground": true,
            "ticks": "",
            "zerolinecolor": "white"
           },
           "yaxis": {
            "backgroundcolor": "#E5ECF6",
            "gridcolor": "white",
            "gridwidth": 2,
            "linecolor": "white",
            "showbackground": true,
            "ticks": "",
            "zerolinecolor": "white"
           },
           "zaxis": {
            "backgroundcolor": "#E5ECF6",
            "gridcolor": "white",
            "gridwidth": 2,
            "linecolor": "white",
            "showbackground": true,
            "ticks": "",
            "zerolinecolor": "white"
           }
          },
          "shapedefaults": {
           "line": {
            "color": "#2a3f5f"
           }
          },
          "ternary": {
           "aaxis": {
            "gridcolor": "white",
            "linecolor": "white",
            "ticks": ""
           },
           "baxis": {
            "gridcolor": "white",
            "linecolor": "white",
            "ticks": ""
           },
           "bgcolor": "#E5ECF6",
           "caxis": {
            "gridcolor": "white",
            "linecolor": "white",
            "ticks": ""
           }
          },
          "title": {
           "x": 0.05
          },
          "xaxis": {
           "automargin": true,
           "gridcolor": "white",
           "linecolor": "white",
           "ticks": "",
           "title": {
            "standoff": 15
           },
           "zerolinecolor": "white",
           "zerolinewidth": 2
          },
          "yaxis": {
           "automargin": true,
           "gridcolor": "white",
           "linecolor": "white",
           "ticks": "",
           "title": {
            "standoff": 15
           },
           "zerolinecolor": "white",
           "zerolinewidth": 2
          }
         }
        },
        "title": {
         "text": "Dépréciation moyenne des véhicules par année"
        },
        "xaxis": {
         "anchor": "y",
         "domain": [
          0,
          1
         ],
         "tickangle": -45,
         "title": {
          "text": "Année du véhicule"
         }
        },
        "yaxis": {
         "anchor": "x",
         "domain": [
          0,
          1
         ],
         "tickformat": ",.0f",
         "tickprefix": "$",
         "title": {
          "text": "Prix moyen (USD)"
         }
        }
       }
      },
      "text/html": [
       "<div>            <script src=\"https://cdnjs.cloudflare.com/ajax/libs/mathjax/2.7.5/MathJax.js?config=TeX-AMS-MML_SVG\"></script><script type=\"text/javascript\">if (window.MathJax && window.MathJax.Hub && window.MathJax.Hub.Config) {window.MathJax.Hub.Config({SVG: {font: \"STIX-Web\"}});}</script>                <script type=\"text/javascript\">window.PlotlyConfig = {MathJaxConfig: 'local'};</script>\n",
       "        <script charset=\"utf-8\" src=\"https://cdn.plot.ly/plotly-3.0.1.min.js\"></script>                <div id=\"a2b15c56-430e-45d2-8cbb-880eec0eacfa\" class=\"plotly-graph-div\" style=\"height:500px; width:100%;\"></div>            <script type=\"text/javascript\">                window.PLOTLYENV=window.PLOTLYENV || {};                                if (document.getElementById(\"a2b15c56-430e-45d2-8cbb-880eec0eacfa\")) {                    Plotly.newPlot(                        \"a2b15c56-430e-45d2-8cbb-880eec0eacfa\",                        [{\"hovertemplate\":\"Ann\\u00e9e: %{x}\\u003cbr\\u003ePrix moyen: $%{y:.2f}\\u003cbr\\u003eNb v\\u00e9hicules: %{text}\\u003cextra\\u003e\\u003c\\u002fextra\\u003e\",\"legendgroup\":\"\",\"line\":{\"color\":\"#636efa\",\"dash\":\"solid\"},\"marker\":{\"symbol\":\"circle\",\"size\":6},\"mode\":\"lines+markers+text\",\"name\":\"\",\"orientation\":\"v\",\"showlegend\":false,\"text\":{\"dtype\":\"f8\",\"bdata\":\"AAAAAAAAY0AAAAAAACBmQAAAAAAAIGpAAAAAAABgZEAAAAAAAOBgQAAAAAAAYGBAAAAAAADgZUAAAAAAAEBjQAAAAAAAAF5AAAAAAACAXUAAAAAAAABlQAAAAAAAoGlAAAAAAADAbUAAAAAAAGBtQAAAAAAAoGpAAAAAAACgaUAAAAAAAJB1QAAAAAAA0HVAAAAAAACwd0AAAAAAAKByQAAAAAAA0HFAAAAAAAAweEAAAAAAAOB2QAAAAAAAaIJAAAAAAAD0oEAAAAAAANqgQAAAAAAAEJpA\"},\"x\":{\"dtype\":\"i2\",\"bdata\":\"xwfIB8kHygfLB8wHzQfOB88H0AfRB9IH0wfUB9UH1gfXB9gH2QfaB9sH3AfdB94H3wfgB+EH\"},\"xaxis\":\"x\",\"y\":{\"dtype\":\"f8\",\"bdata\":\"5TWU11BBoEAoJBfwejugQNB2b5WmFqFAIw6dtA8QokA5juM4jl2kQL61YZq7gqNAdJ9dQGxCqEDH1MDeMT+nQBERERFRMKhASt2Xx1a9qEBVVVVVlUPkQOxPwP4EeuBABHJNBMJr40C3COjBaqHhQLhLPRlf8eFAiN+B+B1O30BC\\u002f+g2xhPhQAEWSlddb+pAshtV5tFV6EDCk4LkT7roQOLU77mFGexAzsNIhocP7UBq7GEWUMfnQLVbYaBL3+5ALuzjwk7Z5kCvQPvHlw7nQCVE8RfxmeRA\"},\"yaxis\":\"y\",\"type\":\"scatter\"}],                        {\"template\":{\"data\":{\"histogram2dcontour\":[{\"type\":\"histogram2dcontour\",\"colorbar\":{\"outlinewidth\":0,\"ticks\":\"\"},\"colorscale\":[[0.0,\"#0d0887\"],[0.1111111111111111,\"#46039f\"],[0.2222222222222222,\"#7201a8\"],[0.3333333333333333,\"#9c179e\"],[0.4444444444444444,\"#bd3786\"],[0.5555555555555556,\"#d8576b\"],[0.6666666666666666,\"#ed7953\"],[0.7777777777777778,\"#fb9f3a\"],[0.8888888888888888,\"#fdca26\"],[1.0,\"#f0f921\"]]}],\"choropleth\":[{\"type\":\"choropleth\",\"colorbar\":{\"outlinewidth\":0,\"ticks\":\"\"}}],\"histogram2d\":[{\"type\":\"histogram2d\",\"colorbar\":{\"outlinewidth\":0,\"ticks\":\"\"},\"colorscale\":[[0.0,\"#0d0887\"],[0.1111111111111111,\"#46039f\"],[0.2222222222222222,\"#7201a8\"],[0.3333333333333333,\"#9c179e\"],[0.4444444444444444,\"#bd3786\"],[0.5555555555555556,\"#d8576b\"],[0.6666666666666666,\"#ed7953\"],[0.7777777777777778,\"#fb9f3a\"],[0.8888888888888888,\"#fdca26\"],[1.0,\"#f0f921\"]]}],\"heatmap\":[{\"type\":\"heatmap\",\"colorbar\":{\"outlinewidth\":0,\"ticks\":\"\"},\"colorscale\":[[0.0,\"#0d0887\"],[0.1111111111111111,\"#46039f\"],[0.2222222222222222,\"#7201a8\"],[0.3333333333333333,\"#9c179e\"],[0.4444444444444444,\"#bd3786\"],[0.5555555555555556,\"#d8576b\"],[0.6666666666666666,\"#ed7953\"],[0.7777777777777778,\"#fb9f3a\"],[0.8888888888888888,\"#fdca26\"],[1.0,\"#f0f921\"]]}],\"contourcarpet\":[{\"type\":\"contourcarpet\",\"colorbar\":{\"outlinewidth\":0,\"ticks\":\"\"}}],\"contour\":[{\"type\":\"contour\",\"colorbar\":{\"outlinewidth\":0,\"ticks\":\"\"},\"colorscale\":[[0.0,\"#0d0887\"],[0.1111111111111111,\"#46039f\"],[0.2222222222222222,\"#7201a8\"],[0.3333333333333333,\"#9c179e\"],[0.4444444444444444,\"#bd3786\"],[0.5555555555555556,\"#d8576b\"],[0.6666666666666666,\"#ed7953\"],[0.7777777777777778,\"#fb9f3a\"],[0.8888888888888888,\"#fdca26\"],[1.0,\"#f0f921\"]]}],\"surface\":[{\"type\":\"surface\",\"colorbar\":{\"outlinewidth\":0,\"ticks\":\"\"},\"colorscale\":[[0.0,\"#0d0887\"],[0.1111111111111111,\"#46039f\"],[0.2222222222222222,\"#7201a8\"],[0.3333333333333333,\"#9c179e\"],[0.4444444444444444,\"#bd3786\"],[0.5555555555555556,\"#d8576b\"],[0.6666666666666666,\"#ed7953\"],[0.7777777777777778,\"#fb9f3a\"],[0.8888888888888888,\"#fdca26\"],[1.0,\"#f0f921\"]]}],\"mesh3d\":[{\"type\":\"mesh3d\",\"colorbar\":{\"outlinewidth\":0,\"ticks\":\"\"}}],\"scatter\":[{\"fillpattern\":{\"fillmode\":\"overlay\",\"size\":10,\"solidity\":0.2},\"type\":\"scatter\"}],\"parcoords\":[{\"type\":\"parcoords\",\"line\":{\"colorbar\":{\"outlinewidth\":0,\"ticks\":\"\"}}}],\"scatterpolargl\":[{\"type\":\"scatterpolargl\",\"marker\":{\"colorbar\":{\"outlinewidth\":0,\"ticks\":\"\"}}}],\"bar\":[{\"error_x\":{\"color\":\"#2a3f5f\"},\"error_y\":{\"color\":\"#2a3f5f\"},\"marker\":{\"line\":{\"color\":\"#E5ECF6\",\"width\":0.5},\"pattern\":{\"fillmode\":\"overlay\",\"size\":10,\"solidity\":0.2}},\"type\":\"bar\"}],\"scattergeo\":[{\"type\":\"scattergeo\",\"marker\":{\"colorbar\":{\"outlinewidth\":0,\"ticks\":\"\"}}}],\"scatterpolar\":[{\"type\":\"scatterpolar\",\"marker\":{\"colorbar\":{\"outlinewidth\":0,\"ticks\":\"\"}}}],\"histogram\":[{\"marker\":{\"pattern\":{\"fillmode\":\"overlay\",\"size\":10,\"solidity\":0.2}},\"type\":\"histogram\"}],\"scattergl\":[{\"type\":\"scattergl\",\"marker\":{\"colorbar\":{\"outlinewidth\":0,\"ticks\":\"\"}}}],\"scatter3d\":[{\"type\":\"scatter3d\",\"line\":{\"colorbar\":{\"outlinewidth\":0,\"ticks\":\"\"}},\"marker\":{\"colorbar\":{\"outlinewidth\":0,\"ticks\":\"\"}}}],\"scattermap\":[{\"type\":\"scattermap\",\"marker\":{\"colorbar\":{\"outlinewidth\":0,\"ticks\":\"\"}}}],\"scattermapbox\":[{\"type\":\"scattermapbox\",\"marker\":{\"colorbar\":{\"outlinewidth\":0,\"ticks\":\"\"}}}],\"scatterternary\":[{\"type\":\"scatterternary\",\"marker\":{\"colorbar\":{\"outlinewidth\":0,\"ticks\":\"\"}}}],\"scattercarpet\":[{\"type\":\"scattercarpet\",\"marker\":{\"colorbar\":{\"outlinewidth\":0,\"ticks\":\"\"}}}],\"carpet\":[{\"aaxis\":{\"endlinecolor\":\"#2a3f5f\",\"gridcolor\":\"white\",\"linecolor\":\"white\",\"minorgridcolor\":\"white\",\"startlinecolor\":\"#2a3f5f\"},\"baxis\":{\"endlinecolor\":\"#2a3f5f\",\"gridcolor\":\"white\",\"linecolor\":\"white\",\"minorgridcolor\":\"white\",\"startlinecolor\":\"#2a3f5f\"},\"type\":\"carpet\"}],\"table\":[{\"cells\":{\"fill\":{\"color\":\"#EBF0F8\"},\"line\":{\"color\":\"white\"}},\"header\":{\"fill\":{\"color\":\"#C8D4E3\"},\"line\":{\"color\":\"white\"}},\"type\":\"table\"}],\"barpolar\":[{\"marker\":{\"line\":{\"color\":\"#E5ECF6\",\"width\":0.5},\"pattern\":{\"fillmode\":\"overlay\",\"size\":10,\"solidity\":0.2}},\"type\":\"barpolar\"}],\"pie\":[{\"automargin\":true,\"type\":\"pie\"}]},\"layout\":{\"autotypenumbers\":\"strict\",\"colorway\":[\"#636efa\",\"#EF553B\",\"#00cc96\",\"#ab63fa\",\"#FFA15A\",\"#19d3f3\",\"#FF6692\",\"#B6E880\",\"#FF97FF\",\"#FECB52\"],\"font\":{\"color\":\"#2a3f5f\"},\"hovermode\":\"closest\",\"hoverlabel\":{\"align\":\"left\"},\"paper_bgcolor\":\"white\",\"plot_bgcolor\":\"#E5ECF6\",\"polar\":{\"bgcolor\":\"#E5ECF6\",\"angularaxis\":{\"gridcolor\":\"white\",\"linecolor\":\"white\",\"ticks\":\"\"},\"radialaxis\":{\"gridcolor\":\"white\",\"linecolor\":\"white\",\"ticks\":\"\"}},\"ternary\":{\"bgcolor\":\"#E5ECF6\",\"aaxis\":{\"gridcolor\":\"white\",\"linecolor\":\"white\",\"ticks\":\"\"},\"baxis\":{\"gridcolor\":\"white\",\"linecolor\":\"white\",\"ticks\":\"\"},\"caxis\":{\"gridcolor\":\"white\",\"linecolor\":\"white\",\"ticks\":\"\"}},\"coloraxis\":{\"colorbar\":{\"outlinewidth\":0,\"ticks\":\"\"}},\"colorscale\":{\"sequential\":[[0.0,\"#0d0887\"],[0.1111111111111111,\"#46039f\"],[0.2222222222222222,\"#7201a8\"],[0.3333333333333333,\"#9c179e\"],[0.4444444444444444,\"#bd3786\"],[0.5555555555555556,\"#d8576b\"],[0.6666666666666666,\"#ed7953\"],[0.7777777777777778,\"#fb9f3a\"],[0.8888888888888888,\"#fdca26\"],[1.0,\"#f0f921\"]],\"sequentialminus\":[[0.0,\"#0d0887\"],[0.1111111111111111,\"#46039f\"],[0.2222222222222222,\"#7201a8\"],[0.3333333333333333,\"#9c179e\"],[0.4444444444444444,\"#bd3786\"],[0.5555555555555556,\"#d8576b\"],[0.6666666666666666,\"#ed7953\"],[0.7777777777777778,\"#fb9f3a\"],[0.8888888888888888,\"#fdca26\"],[1.0,\"#f0f921\"]],\"diverging\":[[0,\"#8e0152\"],[0.1,\"#c51b7d\"],[0.2,\"#de77ae\"],[0.3,\"#f1b6da\"],[0.4,\"#fde0ef\"],[0.5,\"#f7f7f7\"],[0.6,\"#e6f5d0\"],[0.7,\"#b8e186\"],[0.8,\"#7fbc41\"],[0.9,\"#4d9221\"],[1,\"#276419\"]]},\"xaxis\":{\"gridcolor\":\"white\",\"linecolor\":\"white\",\"ticks\":\"\",\"title\":{\"standoff\":15},\"zerolinecolor\":\"white\",\"automargin\":true,\"zerolinewidth\":2},\"yaxis\":{\"gridcolor\":\"white\",\"linecolor\":\"white\",\"ticks\":\"\",\"title\":{\"standoff\":15},\"zerolinecolor\":\"white\",\"automargin\":true,\"zerolinewidth\":2},\"scene\":{\"xaxis\":{\"backgroundcolor\":\"#E5ECF6\",\"gridcolor\":\"white\",\"linecolor\":\"white\",\"showbackground\":true,\"ticks\":\"\",\"zerolinecolor\":\"white\",\"gridwidth\":2},\"yaxis\":{\"backgroundcolor\":\"#E5ECF6\",\"gridcolor\":\"white\",\"linecolor\":\"white\",\"showbackground\":true,\"ticks\":\"\",\"zerolinecolor\":\"white\",\"gridwidth\":2},\"zaxis\":{\"backgroundcolor\":\"#E5ECF6\",\"gridcolor\":\"white\",\"linecolor\":\"white\",\"showbackground\":true,\"ticks\":\"\",\"zerolinecolor\":\"white\",\"gridwidth\":2}},\"shapedefaults\":{\"line\":{\"color\":\"#2a3f5f\"}},\"annotationdefaults\":{\"arrowcolor\":\"#2a3f5f\",\"arrowhead\":0,\"arrowwidth\":1},\"geo\":{\"bgcolor\":\"white\",\"landcolor\":\"#E5ECF6\",\"subunitcolor\":\"white\",\"showland\":true,\"showlakes\":true,\"lakecolor\":\"white\"},\"title\":{\"x\":0.05},\"mapbox\":{\"style\":\"light\"}}},\"xaxis\":{\"anchor\":\"y\",\"domain\":[0.0,1.0],\"title\":{\"text\":\"Ann\\u00e9e du v\\u00e9hicule\"},\"tickangle\":-45},\"yaxis\":{\"anchor\":\"x\",\"domain\":[0.0,1.0],\"title\":{\"text\":\"Prix moyen (USD)\"},\"tickprefix\":\"$\",\"tickformat\":\",.0f\"},\"legend\":{\"tracegroupgap\":0},\"title\":{\"text\":\"D\\u00e9pr\\u00e9ciation moyenne des v\\u00e9hicules par ann\\u00e9e\"},\"margin\":{\"t\":60,\"b\":100},\"height\":500,\"hovermode\":\"closest\"},                        {\"responsive\": true}                    ).then(function(){\n",
       "                            \n",
       "var gd = document.getElementById('a2b15c56-430e-45d2-8cbb-880eec0eacfa');\n",
       "var x = new MutationObserver(function (mutations, observer) {{\n",
       "        var display = window.getComputedStyle(gd).display;\n",
       "        if (!display || display === 'none') {{\n",
       "            console.log([gd, 'removed!']);\n",
       "            Plotly.purge(gd);\n",
       "            observer.disconnect();\n",
       "        }}\n",
       "}});\n",
       "\n",
       "// Listen for the removal of the full notebook cells\n",
       "var notebookContainer = gd.closest('#notebook-container');\n",
       "if (notebookContainer) {{\n",
       "    x.observe(notebookContainer, {childList: true});\n",
       "}}\n",
       "\n",
       "// Listen for the clearing of the current output cell\n",
       "var outputEl = gd.closest('.output');\n",
       "if (outputEl) {{\n",
       "    x.observe(outputEl, {childList: true});\n",
       "}}\n",
       "\n",
       "                        })                };            </script>        </div>"
      ]
     },
     "metadata": {},
     "output_type": "display_data"
    }
   ],
   "source": [
    "# Analyse de la dépréciation moyenne par année\n",
    "\n",
    "# On garde uniquement les voitures dont l'année et le prix sont valides\n",
    "df_year_price = df[['year', 'price']].dropna()\n",
    "df_year_price = df_year_price[df_year_price['year'] > 1990]\n",
    "df_year_price = df_year_price[df_year_price['price'] > 1000]\n",
    "\n",
    "# Calcul du prix moyen par année\n",
    "avg_price_by_year = df_year_price.groupby('year')['price'].agg(['mean', 'count']).reset_index()\n",
    "\n",
    "# Tracé du graphique\n",
    "fig = px.line(\n",
    "    avg_price_by_year,\n",
    "    x='year',\n",
    "    y='mean',\n",
    "    markers=True,\n",
    "    text=avg_price_by_year['count'],\n",
    "    labels={'year': 'Année du véhicule', 'mean': 'Prix moyen (USD)'},\n",
    "    title='Dépréciation moyenne des véhicules par année'\n",
    ")\n",
    "\n",
    "fig.update_traces(\n",
    "    hovertemplate='Année: %{x}<br>Prix moyen: $%{y:.2f}<br>Nb véhicules: %{text}<extra></extra>',\n",
    "    marker=dict(size=6)\n",
    ")\n",
    "\n",
    "fig.update_layout(\n",
    "    yaxis_tickprefix='$',\n",
    "    yaxis_tickformat=',.0f',\n",
    "    xaxis_tickangle=-45,\n",
    "    height=500,\n",
    "    margin=dict(t=60, b=100),\n",
    "    hovermode=\"closest\"\n",
    ")\n",
    "\n",
    "fig.show()\n"
   ]
  },
  {
   "cell_type": "code",
   "execution_count": 305,
   "id": "46fd9237",
   "metadata": {},
   "outputs": [
    {
     "data": {
      "application/vnd.plotly.v1+json": {
       "config": {
        "plotlyServerURL": "https://plot.ly"
       },
       "data": [
        {
         "customdata": {
          "bdata": "DyEeFAcGCQUJDA4EBA4JDA0WCA0GFxMbWT4Q",
          "dtype": "i1",
          "shape": "27, 1"
         },
         "hovertemplate": "Style: %{legendgroup}<br>Année: %{x}<br>Prix moyen: $%{y:.2f}<br>Nb véhicules: %{customdata[0]}<extra></extra>",
         "legendgroup": "2dr Hatchback",
         "line": {
          "color": "#636efa",
          "dash": "solid"
         },
         "marker": {
          "size": 5,
          "symbol": "circle"
         },
         "mode": "lines+markers",
         "name": "2dr Hatchback",
         "orientation": "v",
         "showlegend": true,
         "type": "scatter",
         "x": {
          "bdata": "xwfIB8kHygfLB8wHzQfOB88H0AfRB9IH0wfUB9UH1gfXB9gH2QfaB9sH3AfdB94H3wfgB+EH",
          "dtype": "i2"
         },
         "xaxis": "x",
         "y": {
          "bdata": "mpmZmZkroEAAAAAAAECfQEREREREvqBAMzMzMzMCokAlSZIkSeKnQAAAAAAAQJ9AHMdxHMfppUDNzMzMzNCtQI7jOI7j1KtAVVVVVZURsECSJEmSBFvTQAAAAACgSdtAAAAAAOCT00CSJEmS5F7VQKuqqqoqpNRAq6qqqorb00BiJ3ZiZxHUQBdddNElDtRAAAAAAEBt0UCKndiJXT7VQKuqqqpqiNdAZCELWYj92UAor6G8RoXaQNpLaC9hOtRAFKEIRaj410D43nvvvZHWQAAAAABsl9VA",
          "dtype": "f8"
         },
         "yaxis": "y"
        },
        {
         "customdata": {
          "bdata": "DBETDgQFAwMEBAYIDAQDAwIB",
          "dtype": "i1",
          "shape": "18, 1"
         },
         "hovertemplate": "Style: %{legendgroup}<br>Année: %{x}<br>Prix moyen: $%{y:.2f}<br>Nb véhicules: %{customdata[0]}<extra></extra>",
         "legendgroup": "2dr SUV",
         "line": {
          "color": "#EF553B",
          "dash": "solid"
         },
         "marker": {
          "size": 5,
          "symbol": "circle"
         },
         "mode": "lines+markers",
         "name": "2dr SUV",
         "orientation": "v",
         "showlegend": true,
         "type": "scatter",
         "x": {
          "bdata": "xwfIB8kHygfLB8wHzQfOB88H0AfRB9IH0wfUB9UH3wfgB+EH",
          "dtype": "i2"
         },
         "xaxis": "x",
         "y": {
          "bdata": "AAAAAABAn0A8PDw8PGqhQGwor6G8oqFA27Zt27a0rkAAAAAAYOLCQDMzMzMzV6RAq6qqqipuzEAAAAAAAECfQAAAAAAAWqFAAAAAAAAVo0BVVVVVFc7VQAAAAAA4v9dAVVVVVVXm10AAAAAAcB7XQKuqqqqqlNdAVVVVVVXW6EAAAAAAIIboQAAAAACAUOZA",
          "dtype": "f8"
         },
         "yaxis": "y"
        },
        {
         "customdata": {
          "bdata": "CAAKAAcAAwAIAAoAAgACAAUADAANAAgACgAQAB0ANgBDAC8AkQB9AHcA",
          "dtype": "i2",
          "shape": "21, 1"
         },
         "hovertemplate": "Style: %{legendgroup}<br>Année: %{x}<br>Prix moyen: $%{y:.2f}<br>Nb véhicules: %{customdata[0]}<extra></extra>",
         "legendgroup": "4dr Hatchback",
         "line": {
          "color": "#00cc96",
          "dash": "solid"
         },
         "marker": {
          "size": 5,
          "symbol": "circle"
         },
         "mode": "lines+markers",
         "name": "4dr Hatchback",
         "orientation": "v",
         "showlegend": true,
         "type": "scatter",
         "x": {
          "bdata": "yAfJB8oHywfMB80HzgfUB9UH1gfXB9gH2QfaB9sH3AfdB94H3wfgB+EH",
          "dtype": "i2"
         },
         "xaxis": "x",
         "y": {
          "bdata": "AAAAAABAn0AAAAAAAECfQAAAAAAAQJ9AAAAAAABAn0AAAAAAAECfQJqZmZmZ5Z9AAAAAAABMoEAAAAAAACjJQAAAAAAAJdJAAAAAACBk0EAUO7ETu17RQAAAAABA9s9AAAAAAMBx0EAAAAAAHLXVQGG5pxFWtNdAHMdxHAfi1kBnt/Crcf/YQG3UdzZqjddAPo2w3BM62EBSuB6FK+rXQJlPvZgPQ9hA",
          "dtype": "f8"
         },
         "yaxis": "y"
        },
        {
         "customdata": {
          "bdata": "BgADAAYABgAFAAoACQAKAA8AFgAiACMAMQAqAC0AOwBEAF0AOQBIAC0AOQB5ACQCTwLgAQ==",
          "dtype": "i2",
          "shape": "26, 1"
         },
         "hovertemplate": "Style: %{legendgroup}<br>Année: %{x}<br>Prix moyen: $%{y:.2f}<br>Nb véhicules: %{customdata[0]}<extra></extra>",
         "legendgroup": "4dr SUV",
         "line": {
          "color": "#ab63fa",
          "dash": "solid"
         },
         "marker": {
          "size": 5,
          "symbol": "circle"
         },
         "mode": "lines+markers",
         "name": "4dr SUV",
         "orientation": "v",
         "showlegend": true,
         "type": "scatter",
         "x": {
          "bdata": "xwfIB8kHygfMB80HzgfPB9AH0QfSB9MH1AfVB9YH1wfYB9kH2gfbB9wH3QfeB98H4AfhBw==",
          "dtype": "i2"
         },
         "xaxis": "x",
         "y": {
          "bdata": "AAAAAABAn0AAAAAAAECfQAAAAAAAQJ9AAAAAAABAn0DNzMzMzDqiQGZmZmZm7KJAAAAAAAB2oUCamZmZmZGlQAAAAAAA/qdAdNFFFx2r3UC1tLS0tHPaQHVQB3UQ29xAt23bti3v20CGYRiGobrdQFuwBVvwReBA5rEVQYNL30B4eHh4AE3gQLDAAgssed9AOovpLOaQ3kAAAAAAiJ7hQM3MzMzM++NAgvsI7sO15EARuLEMaojpQNflHXBUjOVADxPscdfJ5UC8u7u72UXlQA==",
          "dtype": "f8"
         },
         "yaxis": "y"
        },
        {
         "customdata": {
          "bdata": "AQICAQEBBgUHAwMBDA0M",
          "dtype": "i1",
          "shape": "15, 1"
         },
         "hovertemplate": "Style: %{legendgroup}<br>Année: %{x}<br>Prix moyen: $%{y:.2f}<br>Nb véhicules: %{customdata[0]}<extra></extra>",
         "legendgroup": "Cargo Minivan",
         "line": {
          "color": "#FFA15A",
          "dash": "solid"
         },
         "marker": {
          "size": 5,
          "symbol": "circle"
         },
         "mode": "lines+markers",
         "name": "Cargo Minivan",
         "orientation": "v",
         "showlegend": true,
         "type": "scatter",
         "x": {
          "bdata": "ygfLB8wHzQfRB9IH0wfUB9UH1gfXB9gH3wfgB+EH",
          "dtype": "i2"
         },
         "xaxis": "x",
         "y": {
          "bdata": "AAAAAABAn0AAAAAAAECfQAAAAAAAQJ9AAAAAAABAn0AAAAAAAL/TQAAAAABAGtRAAAAAACA41kAAAAAAAB/XQAAAAACAgtZAAAAAAIDV00CrqqqqqkzUQAAAAAAAitZAVVVVVVWD1kBiJ3Zipy3XQAAAAABAA9dA",
          "dtype": "f8"
         },
         "yaxis": "y"
        },
        {
         "customdata": {
          "bdata": "BgUJCAoDBQUFBQYGDgQE",
          "dtype": "i1",
          "shape": "15, 1"
         },
         "hovertemplate": "Style: %{legendgroup}<br>Année: %{x}<br>Prix moyen: $%{y:.2f}<br>Nb véhicules: %{customdata[0]}<extra></extra>",
         "legendgroup": "Cargo Van",
         "line": {
          "color": "#19d3f3",
          "dash": "solid"
         },
         "marker": {
          "size": 5,
          "symbol": "circle"
         },
         "mode": "lines+markers",
         "name": "Cargo Van",
         "orientation": "v",
         "showlegend": true,
         "type": "scatter",
         "x": {
          "bdata": "ygfLB8wHzQfOB88H0AfRB9IH0wfcB90H3gffB+AH",
          "dtype": "i2"
         },
         "xaxis": "x",
         "y": {
          "bdata": "AAAAAABAn0AAAAAAAECfQAAAAAAAQJ9AAAAAAABAn0BmZmZmZmigQKuqqqqq3KBAmpmZmZnVoUAAAAAAgLHTQAAAAACAQtRAAAAAAIAA1UBVVVVVtSzcQAAAAABgFN1ASZIkSRI93kAAAAAAUCffQAAAAACoFeBA",
          "dtype": "f8"
         },
         "yaxis": "y"
        },
        {
         "customdata": {
          "bdata": "CAAMAA0ABAAEAAUABwADAAIABwAQAA4ADQAKAAsABwAZAC0AKgAVABIAGgAWAFgAoACCAEwA",
          "dtype": "i2",
          "shape": "27, 1"
         },
         "hovertemplate": "Style: %{legendgroup}<br>Année: %{x}<br>Prix moyen: $%{y:.2f}<br>Nb véhicules: %{customdata[0]}<extra></extra>",
         "legendgroup": "Convertible",
         "line": {
          "color": "#FF6692",
          "dash": "solid"
         },
         "marker": {
          "size": 5,
          "symbol": "circle"
         },
         "mode": "lines+markers",
         "name": "Convertible",
         "orientation": "v",
         "showlegend": true,
         "type": "scatter",
         "x": {
          "bdata": "xwfIB8kHygfLB8wHzQfOB88H0AfRB9IH0wfUB9UH1gfXB9gH2QfaB9sH3AfdB94H3wfgB+EH",
          "dtype": "i2"
         },
         "xaxis": "x",
         "y": {
          "bdata": "AAAAAEDJpEAAAAAAgLeiQAAAAAAANKZAAAAAAIDmpkAAAAAAgMKoQAAAAAAAJqNAt23btm3VokBVVVVVVaWoQAAAAACAtMhA27Zt27aBvEAAAAAAfSvxQEmSJEkSlepA7MRO7KRz9UAzMzMz60r7QOmiiy5qhv5At23btq0O50C4HoXrsbnxQERERET0R/RAGIZhGD7i9UB6nud5DiH1QMdxHMeFpgRB2Ymd2LkZBkGjiy66iHn/QIwuuuggn/dAAAAAAENW9EBXaqVWMhr2QA3lNZR3PPFA",
          "dtype": "f8"
         },
         "yaxis": "y"
        },
        {
         "customdata": {
          "bdata": "AgEBAgMDBwUBAQEC",
          "dtype": "i1",
          "shape": "12, 1"
         },
         "hovertemplate": "Style: %{legendgroup}<br>Année: %{x}<br>Prix moyen: $%{y:.2f}<br>Nb véhicules: %{customdata[0]}<extra></extra>",
         "legendgroup": "Convertible SUV",
         "line": {
          "color": "#B6E880",
          "dash": "solid"
         },
         "marker": {
          "size": 5,
          "symbol": "circle"
         },
         "mode": "lines+markers",
         "name": "Convertible SUV",
         "orientation": "v",
         "showlegend": true,
         "type": "scatter",
         "x": {
          "bdata": "yQfKB8sHzAfNB84H0gfTB9wH3QfeB+EH",
          "dtype": "i2"
         },
         "xaxis": "x",
         "y": {
          "bdata": "AAAAAABAn0AAAAAAAECfQAAAAAAAQJ9AAAAAAABAn0BVVVVV1aXKQAAAAAAAQJ9AkiRJkiS80EBmZmZm5ubQQAAAAACAv+VAAAAAAIC/5UAAAAAAYIHkQAAAAAAAkOpA",
          "dtype": "f8"
         },
         "yaxis": "y"
        },
        {
         "customdata": {
          "bdata": "EwAOABsAGAAfACEAHQAPAAkABgARABQAIQAeABgAGwAeACYAJwAXABwAJQAsAE4AwAC3AJMA",
          "dtype": "i2",
          "shape": "27, 1"
         },
         "hovertemplate": "Style: %{legendgroup}<br>Année: %{x}<br>Prix moyen: $%{y:.2f}<br>Nb véhicules: %{customdata[0]}<extra></extra>",
         "legendgroup": "Coupe",
         "line": {
          "color": "#FF97FF",
          "dash": "solid"
         },
         "marker": {
          "size": 5,
          "symbol": "circle"
         },
         "mode": "lines+markers",
         "name": "Coupe",
         "orientation": "v",
         "showlegend": true,
         "type": "scatter",
         "x": {
          "bdata": "xwfIB8kHygfLB8wHzQfOB88H0AfRB9IH0wfUB9UH1gfXB9gH2QfaB9sH3AfdB94H3wfgB+EH",
          "dtype": "i2"
         },
         "xaxis": "x",
         "y": {
          "bdata": "r6G8hvLCn0Bu27Zt24afQMdxHMdxmKJAAAAAAIBko0B0zjnnnNGmQOmiiy66OKtAIyz3NMKerkAiIiIiIgO2QOQ4juM4hKdAAAAAAABwrECmpaWldW8BQTMzMzP78fNAbbLJJltw+UBERERENPbvQAAAAACEPexAx3EcxxEf6UAzMzMzAwXuQIfyGsrX7wZBNUiDNODsAEELWchC1vb+QNu2bdsyhfxAKvJZNyCAAUHpoosuApz3QMu3fMunKABBq6qqKkqU9EBMhmAdvXbzQA4oE1daMOtA",
          "dtype": "f8"
         },
         "yaxis": "y"
        },
        {
         "customdata": {
          "bdata": "AwACAAYABQANAB4ALgAlACcAFAAeABYADwCHAIwAigA=",
          "dtype": "i2",
          "shape": "16, 1"
         },
         "hovertemplate": "Style: %{legendgroup}<br>Année: %{x}<br>Prix moyen: $%{y:.2f}<br>Nb véhicules: %{customdata[0]}<extra></extra>",
         "legendgroup": "Crew Cab Pickup",
         "line": {
          "color": "#FECB52",
          "dash": "solid"
         },
         "marker": {
          "size": 5,
          "symbol": "circle"
         },
         "mode": "lines+markers",
         "name": "Crew Cab Pickup",
         "orientation": "v",
         "showlegend": true,
         "type": "scatter",
         "x": {
          "bdata": "0gfTB9QH1QfWB9cH2AfZB9oH2wfcB90H3gffB+AH4Qc=",
          "dtype": "i2"
         },
         "xaxis": "x",
         "y": {
          "bdata": "VVVVVXVl4EAAAAAAAPLXQAAAAACgjtdAAAAAAEDp10B2Yid24kjeQKuqqqrKb95A9aY3vYkE3kAOpshn3XzeQAAAAACAb99AzczMzESX5UDe3d3dHTLjQKOLLrrY1+VAAAAAAIBw4UDkOI7jmG3iQLdt27aN/uJAbAfm2kH340A=",
          "dtype": "f8"
         },
         "yaxis": "y"
        },
        {
         "customdata": {
          "bdata": "DAoOBwsIHCAaCAcSEgg7FBgTChAFW1lN",
          "dtype": "i1",
          "shape": "24, 1"
         },
         "hovertemplate": "Style: %{legendgroup}<br>Année: %{x}<br>Prix moyen: $%{y:.2f}<br>Nb véhicules: %{customdata[0]}<extra></extra>",
         "legendgroup": "Extended Cab Pickup",
         "line": {
          "color": "#636efa",
          "dash": "solid"
         },
         "marker": {
          "size": 5,
          "symbol": "circle"
         },
         "mode": "lines+markers",
         "name": "Extended Cab Pickup",
         "orientation": "v",
         "showlegend": true,
         "type": "scatter",
         "x": {
          "bdata": "xwfIB8kHygfLB8wHzQfOB88H0AfRB9IH0wfUB9cH2AfZB9oH2wfcB94H3wfgB+EH",
          "dtype": "i2"
         },
         "xaxis": "x",
         "y": {
          "bdata": "AAAAAABAn0AzMzMzM2WfQAAAAAAAYKBAt23btm11oUBddNFFF9GiQAAAAADAlKRA27Zt27Yxp0AAAAAAEFupQMVO7MRO+atAAAAAAIBsqkCSJEmSJFvVQAAAAADAs9NAAAAAACB800AAAAAAYDHZQCNoOKm7kdtAAAAAAFB82ECrqqqqUlHXQAAAAAAAvNZAMzMzM3Ma1kAAAAAAKIPXQAAAAACAK+BAKqMyKiNK30CNZzzjuRzgQFCIs/KT3+BA",
          "dtype": "f8"
         },
         "yaxis": "y"
        },
        {
         "customdata": {
          "bdata": "BAEMCQkKBgYKECUUGxYSBwoHBwQMNzcn",
          "dtype": "i1",
          "shape": "24, 1"
         },
         "hovertemplate": "Style: %{legendgroup}<br>Année: %{x}<br>Prix moyen: $%{y:.2f}<br>Nb véhicules: %{customdata[0]}<extra></extra>",
         "legendgroup": "Passenger Minivan",
         "line": {
          "color": "#EF553B",
          "dash": "solid"
         },
         "marker": {
          "size": 5,
          "symbol": "circle"
         },
         "mode": "lines+markers",
         "name": "Passenger Minivan",
         "orientation": "v",
         "showlegend": true,
         "type": "scatter",
         "x": {
          "bdata": "xwfKB8sHzAfNB84HzwfQB9EH0gfTB9QH1QfWB9cH2AfaB9sH3AfdB94H3wfgB+EH",
          "dtype": "i2"
         },
         "xaxis": "x",
         "y": {
          "bdata": "AAAAAABAn0AAAAAAAECfQAAAAAAAnp9Ax3Ecx3F6oECrqqqqqk6hQAAAAAAAjJ9AAAAAAACPoECrqqqqqmShQAAAAAAA2dlAAAAAACwx20BT5LNuMGbbQAAAAADQl9tA9xLaSyhV2kCMLrrowkLZQKuqqqoKJNlAbtu2bdti2EAAAAAAQHzhQG7btm1bP+FAt23btq1f4UAAAAAAwFfVQKuqqqoKZt1ARhdddHEJ4EBGF110kXrgQJ7YiZ2YjeBA",
          "dtype": "f8"
         },
         "yaxis": "y"
        },
        {
         "customdata": {
          "bdata": "CgQDAwMCAgEGBhAcHBA=",
          "dtype": "i1",
          "shape": "14, 1"
         },
         "hovertemplate": "Style: %{legendgroup}<br>Année: %{x}<br>Prix moyen: $%{y:.2f}<br>Nb véhicules: %{customdata[0]}<extra></extra>",
         "legendgroup": "Passenger Van",
         "line": {
          "color": "#00cc96",
          "dash": "solid"
         },
         "marker": {
          "size": 5,
          "symbol": "circle"
         },
         "mode": "lines+markers",
         "name": "Passenger Van",
         "orientation": "v",
         "showlegend": true,
         "type": "scatter",
         "x": {
          "bdata": "ygfLB8wHzQfOB9AH0QfSB9wH3QfeB98H4AfhBw==",
          "dtype": "i2"
         },
         "xaxis": "x",
         "y": {
          "bdata": "AAAAAABAn0AAAAAAAECfQAAAAAAAQJ9AVVVVVVUjoEAAAAAAAIShQAAAAAAAMqJAAAAAACDU1UAAAAAAQNjUQAAAAAAg499AAAAAANBb4EAAAAAAuoDgQG7btm0roeFAJUmSJNn44UAAAAAA8NTiQA==",
          "dtype": "f8"
         },
         "yaxis": "y"
        },
        {
         "customdata": {
          "bdata": "FRERBgoFHCEOBgcPDA0BARoJDgsCCCMiIg==",
          "dtype": "i1",
          "shape": "25, 1"
         },
         "hovertemplate": "Style: %{legendgroup}<br>Année: %{x}<br>Prix moyen: $%{y:.2f}<br>Nb véhicules: %{customdata[0]}<extra></extra>",
         "legendgroup": "Regular Cab Pickup",
         "line": {
          "color": "#ab63fa",
          "dash": "solid"
         },
         "marker": {
          "size": 5,
          "symbol": "circle"
         },
         "mode": "lines+markers",
         "name": "Regular Cab Pickup",
         "orientation": "v",
         "showlegend": true,
         "type": "scatter",
         "x": {
          "bdata": "xwfIB8kHygfLB8wHzQfOB88H0AfRB9IH0wfUB9UH1gfXB9gH2QfaB9sH3AffB+AH4Qc=",
          "dtype": "i2"
         },
         "xaxis": "x",
         "y": {
          "bdata": "9DzP8zz9oEAAAAAAAECfQJeWlpaWap9AAAAAAAAkoEAzMzMzM22iQM3MzMzMlqBAJUmSJEm4pEAIH3zwwc2mQAAAAAAAW6lAq6qqqqrrqEBu27ZtW53MQCIiIiKiHtBAAAAAAADvz0CKndiJXebXQAAAAABgx+RAAAAAAAAp40CKndiJnT/VQI7jOI6jP9hAbtu2bbut1UBddNFFV6PWQAAAAAAANNJAAAAAACCe1EAAAAAAAOHeQLW0tLQUqN9AxMPDw7MG4EA=",
          "dtype": "f8"
         },
         "yaxis": "y"
        },
        {
         "customdata": {
          "bdata": "KQAwADoALAAfABYAFgAZACUALQA1ADIANABFAD0AKAAnADIATwBCAE4AWgBMAHUAXgKAAtoB",
          "dtype": "i2",
          "shape": "27, 1"
         },
         "hovertemplate": "Style: %{legendgroup}<br>Année: %{x}<br>Prix moyen: $%{y:.2f}<br>Nb véhicules: %{customdata[0]}<extra></extra>",
         "legendgroup": "Sedan",
         "line": {
          "color": "#FFA15A",
          "dash": "solid"
         },
         "marker": {
          "size": 5,
          "symbol": "circle"
         },
         "mode": "lines+markers",
         "name": "Sedan",
         "orientation": "v",
         "showlegend": true,
         "type": "scatter",
         "x": {
          "bdata": "xwfIB8kHygfLB8wHzQfOB88H0AfRB9IH0wfUB9UH1gfXB9gH2QfaB9sH3AfdB94H3wfgB+EH",
          "dtype": "i2"
         },
         "xaxis": "x",
         "y": {
          "bdata": "DM7H4HzMn0BVVVVVNVugQNQIyz2NhqBAAAAAAABkn0AyxhhjjDGgQF100UUXdaBARhdddNGcoEAfhetRuE6iQAAAAAAAnKNAP+mTPukfpED7HFITDDXcQArXo3DdnOBAntiJnSjy2UDf9KY3Pd/cQME62ryPb95AzczMzEzu30CxEzuxM1LkQGZmZmaGLuNARKUje+ZI5UB88MEHt4zyQMu3fMunL+5Ax3EcxyH67kB5DeU1LCblQEqmZEqGb+xAhm9Egfn+5UAAAABAMnTmQOVcEsvEHuRA",
          "dtype": "f8"
         },
         "yaxis": "y"
        },
        {
         "customdata": {
          "bdata": "Dg8NDAoJBQECCAkEBRIXHiMhFw8mKjBDPSU=",
          "dtype": "i1",
          "shape": "26, 1"
         },
         "hovertemplate": "Style: %{legendgroup}<br>Année: %{x}<br>Prix moyen: $%{y:.2f}<br>Nb véhicules: %{customdata[0]}<extra></extra>",
         "legendgroup": "Wagon",
         "line": {
          "color": "#19d3f3",
          "dash": "solid"
         },
         "marker": {
          "size": 5,
          "symbol": "circle"
         },
         "mode": "lines+markers",
         "name": "Wagon",
         "orientation": "v",
         "showlegend": true,
         "type": "scatter",
         "x": {
          "bdata": "xwfIB8kHygfLB8wHzQfOB9AH0QfSB9MH1AfVB9YH1wfYB9kH2gfbB9wH3QfeB98H4AfhBw==",
          "dtype": "i2"
         },
         "xaxis": "x",
         "y": {
          "bdata": "btu2bdt4n0AzMzMzM4ufQHZiJ3Zi559AAAAAAABAn0AAAAAAAECfQOQ4juM4np9AzczMzMyIn0AAAAAAADChQAAAAAAAQJ9AAAAAAIDIzUDHcRzHsX7SQAAAAACQ991AAAAAAODP4UByHMdxvLfZQAAAAACAWtZA7+7u7q7c1kAAAAAAQA/YQFVVVVUVZNtAQxaykAXb2UAAAAAAAG/bQHkN5TUUvd5AVVVVVTUj3kBVVVVV7UfeQPVA5ezWleBA71NcMiRP4kBMkc+6gdHgQA==",
          "dtype": "f8"
         },
         "yaxis": "y"
        }
       ],
       "layout": {
        "height": 600,
        "hovermode": "closest",
        "legend": {
         "title": {
          "text": "Style de véhicule"
         },
         "tracegroupgap": 0
        },
        "margin": {
         "b": 120,
         "t": 60
        },
        "template": {
         "data": {
          "bar": [
           {
            "error_x": {
             "color": "#2a3f5f"
            },
            "error_y": {
             "color": "#2a3f5f"
            },
            "marker": {
             "line": {
              "color": "#E5ECF6",
              "width": 0.5
             },
             "pattern": {
              "fillmode": "overlay",
              "size": 10,
              "solidity": 0.2
             }
            },
            "type": "bar"
           }
          ],
          "barpolar": [
           {
            "marker": {
             "line": {
              "color": "#E5ECF6",
              "width": 0.5
             },
             "pattern": {
              "fillmode": "overlay",
              "size": 10,
              "solidity": 0.2
             }
            },
            "type": "barpolar"
           }
          ],
          "carpet": [
           {
            "aaxis": {
             "endlinecolor": "#2a3f5f",
             "gridcolor": "white",
             "linecolor": "white",
             "minorgridcolor": "white",
             "startlinecolor": "#2a3f5f"
            },
            "baxis": {
             "endlinecolor": "#2a3f5f",
             "gridcolor": "white",
             "linecolor": "white",
             "minorgridcolor": "white",
             "startlinecolor": "#2a3f5f"
            },
            "type": "carpet"
           }
          ],
          "choropleth": [
           {
            "colorbar": {
             "outlinewidth": 0,
             "ticks": ""
            },
            "type": "choropleth"
           }
          ],
          "contour": [
           {
            "colorbar": {
             "outlinewidth": 0,
             "ticks": ""
            },
            "colorscale": [
             [
              0,
              "#0d0887"
             ],
             [
              0.1111111111111111,
              "#46039f"
             ],
             [
              0.2222222222222222,
              "#7201a8"
             ],
             [
              0.3333333333333333,
              "#9c179e"
             ],
             [
              0.4444444444444444,
              "#bd3786"
             ],
             [
              0.5555555555555556,
              "#d8576b"
             ],
             [
              0.6666666666666666,
              "#ed7953"
             ],
             [
              0.7777777777777778,
              "#fb9f3a"
             ],
             [
              0.8888888888888888,
              "#fdca26"
             ],
             [
              1,
              "#f0f921"
             ]
            ],
            "type": "contour"
           }
          ],
          "contourcarpet": [
           {
            "colorbar": {
             "outlinewidth": 0,
             "ticks": ""
            },
            "type": "contourcarpet"
           }
          ],
          "heatmap": [
           {
            "colorbar": {
             "outlinewidth": 0,
             "ticks": ""
            },
            "colorscale": [
             [
              0,
              "#0d0887"
             ],
             [
              0.1111111111111111,
              "#46039f"
             ],
             [
              0.2222222222222222,
              "#7201a8"
             ],
             [
              0.3333333333333333,
              "#9c179e"
             ],
             [
              0.4444444444444444,
              "#bd3786"
             ],
             [
              0.5555555555555556,
              "#d8576b"
             ],
             [
              0.6666666666666666,
              "#ed7953"
             ],
             [
              0.7777777777777778,
              "#fb9f3a"
             ],
             [
              0.8888888888888888,
              "#fdca26"
             ],
             [
              1,
              "#f0f921"
             ]
            ],
            "type": "heatmap"
           }
          ],
          "histogram": [
           {
            "marker": {
             "pattern": {
              "fillmode": "overlay",
              "size": 10,
              "solidity": 0.2
             }
            },
            "type": "histogram"
           }
          ],
          "histogram2d": [
           {
            "colorbar": {
             "outlinewidth": 0,
             "ticks": ""
            },
            "colorscale": [
             [
              0,
              "#0d0887"
             ],
             [
              0.1111111111111111,
              "#46039f"
             ],
             [
              0.2222222222222222,
              "#7201a8"
             ],
             [
              0.3333333333333333,
              "#9c179e"
             ],
             [
              0.4444444444444444,
              "#bd3786"
             ],
             [
              0.5555555555555556,
              "#d8576b"
             ],
             [
              0.6666666666666666,
              "#ed7953"
             ],
             [
              0.7777777777777778,
              "#fb9f3a"
             ],
             [
              0.8888888888888888,
              "#fdca26"
             ],
             [
              1,
              "#f0f921"
             ]
            ],
            "type": "histogram2d"
           }
          ],
          "histogram2dcontour": [
           {
            "colorbar": {
             "outlinewidth": 0,
             "ticks": ""
            },
            "colorscale": [
             [
              0,
              "#0d0887"
             ],
             [
              0.1111111111111111,
              "#46039f"
             ],
             [
              0.2222222222222222,
              "#7201a8"
             ],
             [
              0.3333333333333333,
              "#9c179e"
             ],
             [
              0.4444444444444444,
              "#bd3786"
             ],
             [
              0.5555555555555556,
              "#d8576b"
             ],
             [
              0.6666666666666666,
              "#ed7953"
             ],
             [
              0.7777777777777778,
              "#fb9f3a"
             ],
             [
              0.8888888888888888,
              "#fdca26"
             ],
             [
              1,
              "#f0f921"
             ]
            ],
            "type": "histogram2dcontour"
           }
          ],
          "mesh3d": [
           {
            "colorbar": {
             "outlinewidth": 0,
             "ticks": ""
            },
            "type": "mesh3d"
           }
          ],
          "parcoords": [
           {
            "line": {
             "colorbar": {
              "outlinewidth": 0,
              "ticks": ""
             }
            },
            "type": "parcoords"
           }
          ],
          "pie": [
           {
            "automargin": true,
            "type": "pie"
           }
          ],
          "scatter": [
           {
            "fillpattern": {
             "fillmode": "overlay",
             "size": 10,
             "solidity": 0.2
            },
            "type": "scatter"
           }
          ],
          "scatter3d": [
           {
            "line": {
             "colorbar": {
              "outlinewidth": 0,
              "ticks": ""
             }
            },
            "marker": {
             "colorbar": {
              "outlinewidth": 0,
              "ticks": ""
             }
            },
            "type": "scatter3d"
           }
          ],
          "scattercarpet": [
           {
            "marker": {
             "colorbar": {
              "outlinewidth": 0,
              "ticks": ""
             }
            },
            "type": "scattercarpet"
           }
          ],
          "scattergeo": [
           {
            "marker": {
             "colorbar": {
              "outlinewidth": 0,
              "ticks": ""
             }
            },
            "type": "scattergeo"
           }
          ],
          "scattergl": [
           {
            "marker": {
             "colorbar": {
              "outlinewidth": 0,
              "ticks": ""
             }
            },
            "type": "scattergl"
           }
          ],
          "scattermap": [
           {
            "marker": {
             "colorbar": {
              "outlinewidth": 0,
              "ticks": ""
             }
            },
            "type": "scattermap"
           }
          ],
          "scattermapbox": [
           {
            "marker": {
             "colorbar": {
              "outlinewidth": 0,
              "ticks": ""
             }
            },
            "type": "scattermapbox"
           }
          ],
          "scatterpolar": [
           {
            "marker": {
             "colorbar": {
              "outlinewidth": 0,
              "ticks": ""
             }
            },
            "type": "scatterpolar"
           }
          ],
          "scatterpolargl": [
           {
            "marker": {
             "colorbar": {
              "outlinewidth": 0,
              "ticks": ""
             }
            },
            "type": "scatterpolargl"
           }
          ],
          "scatterternary": [
           {
            "marker": {
             "colorbar": {
              "outlinewidth": 0,
              "ticks": ""
             }
            },
            "type": "scatterternary"
           }
          ],
          "surface": [
           {
            "colorbar": {
             "outlinewidth": 0,
             "ticks": ""
            },
            "colorscale": [
             [
              0,
              "#0d0887"
             ],
             [
              0.1111111111111111,
              "#46039f"
             ],
             [
              0.2222222222222222,
              "#7201a8"
             ],
             [
              0.3333333333333333,
              "#9c179e"
             ],
             [
              0.4444444444444444,
              "#bd3786"
             ],
             [
              0.5555555555555556,
              "#d8576b"
             ],
             [
              0.6666666666666666,
              "#ed7953"
             ],
             [
              0.7777777777777778,
              "#fb9f3a"
             ],
             [
              0.8888888888888888,
              "#fdca26"
             ],
             [
              1,
              "#f0f921"
             ]
            ],
            "type": "surface"
           }
          ],
          "table": [
           {
            "cells": {
             "fill": {
              "color": "#EBF0F8"
             },
             "line": {
              "color": "white"
             }
            },
            "header": {
             "fill": {
              "color": "#C8D4E3"
             },
             "line": {
              "color": "white"
             }
            },
            "type": "table"
           }
          ]
         },
         "layout": {
          "annotationdefaults": {
           "arrowcolor": "#2a3f5f",
           "arrowhead": 0,
           "arrowwidth": 1
          },
          "autotypenumbers": "strict",
          "coloraxis": {
           "colorbar": {
            "outlinewidth": 0,
            "ticks": ""
           }
          },
          "colorscale": {
           "diverging": [
            [
             0,
             "#8e0152"
            ],
            [
             0.1,
             "#c51b7d"
            ],
            [
             0.2,
             "#de77ae"
            ],
            [
             0.3,
             "#f1b6da"
            ],
            [
             0.4,
             "#fde0ef"
            ],
            [
             0.5,
             "#f7f7f7"
            ],
            [
             0.6,
             "#e6f5d0"
            ],
            [
             0.7,
             "#b8e186"
            ],
            [
             0.8,
             "#7fbc41"
            ],
            [
             0.9,
             "#4d9221"
            ],
            [
             1,
             "#276419"
            ]
           ],
           "sequential": [
            [
             0,
             "#0d0887"
            ],
            [
             0.1111111111111111,
             "#46039f"
            ],
            [
             0.2222222222222222,
             "#7201a8"
            ],
            [
             0.3333333333333333,
             "#9c179e"
            ],
            [
             0.4444444444444444,
             "#bd3786"
            ],
            [
             0.5555555555555556,
             "#d8576b"
            ],
            [
             0.6666666666666666,
             "#ed7953"
            ],
            [
             0.7777777777777778,
             "#fb9f3a"
            ],
            [
             0.8888888888888888,
             "#fdca26"
            ],
            [
             1,
             "#f0f921"
            ]
           ],
           "sequentialminus": [
            [
             0,
             "#0d0887"
            ],
            [
             0.1111111111111111,
             "#46039f"
            ],
            [
             0.2222222222222222,
             "#7201a8"
            ],
            [
             0.3333333333333333,
             "#9c179e"
            ],
            [
             0.4444444444444444,
             "#bd3786"
            ],
            [
             0.5555555555555556,
             "#d8576b"
            ],
            [
             0.6666666666666666,
             "#ed7953"
            ],
            [
             0.7777777777777778,
             "#fb9f3a"
            ],
            [
             0.8888888888888888,
             "#fdca26"
            ],
            [
             1,
             "#f0f921"
            ]
           ]
          },
          "colorway": [
           "#636efa",
           "#EF553B",
           "#00cc96",
           "#ab63fa",
           "#FFA15A",
           "#19d3f3",
           "#FF6692",
           "#B6E880",
           "#FF97FF",
           "#FECB52"
          ],
          "font": {
           "color": "#2a3f5f"
          },
          "geo": {
           "bgcolor": "white",
           "lakecolor": "white",
           "landcolor": "#E5ECF6",
           "showlakes": true,
           "showland": true,
           "subunitcolor": "white"
          },
          "hoverlabel": {
           "align": "left"
          },
          "hovermode": "closest",
          "mapbox": {
           "style": "light"
          },
          "paper_bgcolor": "white",
          "plot_bgcolor": "#E5ECF6",
          "polar": {
           "angularaxis": {
            "gridcolor": "white",
            "linecolor": "white",
            "ticks": ""
           },
           "bgcolor": "#E5ECF6",
           "radialaxis": {
            "gridcolor": "white",
            "linecolor": "white",
            "ticks": ""
           }
          },
          "scene": {
           "xaxis": {
            "backgroundcolor": "#E5ECF6",
            "gridcolor": "white",
            "gridwidth": 2,
            "linecolor": "white",
            "showbackground": true,
            "ticks": "",
            "zerolinecolor": "white"
           },
           "yaxis": {
            "backgroundcolor": "#E5ECF6",
            "gridcolor": "white",
            "gridwidth": 2,
            "linecolor": "white",
            "showbackground": true,
            "ticks": "",
            "zerolinecolor": "white"
           },
           "zaxis": {
            "backgroundcolor": "#E5ECF6",
            "gridcolor": "white",
            "gridwidth": 2,
            "linecolor": "white",
            "showbackground": true,
            "ticks": "",
            "zerolinecolor": "white"
           }
          },
          "shapedefaults": {
           "line": {
            "color": "#2a3f5f"
           }
          },
          "ternary": {
           "aaxis": {
            "gridcolor": "white",
            "linecolor": "white",
            "ticks": ""
           },
           "baxis": {
            "gridcolor": "white",
            "linecolor": "white",
            "ticks": ""
           },
           "bgcolor": "#E5ECF6",
           "caxis": {
            "gridcolor": "white",
            "linecolor": "white",
            "ticks": ""
           }
          },
          "title": {
           "x": 0.05
          },
          "xaxis": {
           "automargin": true,
           "gridcolor": "white",
           "linecolor": "white",
           "ticks": "",
           "title": {
            "standoff": 15
           },
           "zerolinecolor": "white",
           "zerolinewidth": 2
          },
          "yaxis": {
           "automargin": true,
           "gridcolor": "white",
           "linecolor": "white",
           "ticks": "",
           "title": {
            "standoff": 15
           },
           "zerolinecolor": "white",
           "zerolinewidth": 2
          }
         }
        },
        "title": {
         "text": "Dépréciation par style de véhicule"
        },
        "xaxis": {
         "anchor": "y",
         "domain": [
          0,
          1
         ],
         "tickangle": -45,
         "title": {
          "text": "Année du véhicule"
         }
        },
        "yaxis": {
         "anchor": "x",
         "domain": [
          0,
          1
         ],
         "tickformat": ",.0f",
         "tickprefix": "$",
         "title": {
          "text": "Prix moyen (USD)"
         }
        }
       }
      },
      "text/html": [
       "<div>            <script src=\"https://cdnjs.cloudflare.com/ajax/libs/mathjax/2.7.5/MathJax.js?config=TeX-AMS-MML_SVG\"></script><script type=\"text/javascript\">if (window.MathJax && window.MathJax.Hub && window.MathJax.Hub.Config) {window.MathJax.Hub.Config({SVG: {font: \"STIX-Web\"}});}</script>                <script type=\"text/javascript\">window.PlotlyConfig = {MathJaxConfig: 'local'};</script>\n",
       "        <script charset=\"utf-8\" src=\"https://cdn.plot.ly/plotly-3.0.1.min.js\"></script>                <div id=\"e18def9c-851b-4550-a654-efbf388b606d\" class=\"plotly-graph-div\" style=\"height:600px; width:100%;\"></div>            <script type=\"text/javascript\">                window.PLOTLYENV=window.PLOTLYENV || {};                                if (document.getElementById(\"e18def9c-851b-4550-a654-efbf388b606d\")) {                    Plotly.newPlot(                        \"e18def9c-851b-4550-a654-efbf388b606d\",                        [{\"customdata\":{\"dtype\":\"i1\",\"bdata\":\"DyEeFAcGCQUJDA4EBA4JDA0WCA0GFxMbWT4Q\",\"shape\":\"27, 1\"},\"hovertemplate\":\"Style: %{legendgroup}\\u003cbr\\u003eAnn\\u00e9e: %{x}\\u003cbr\\u003ePrix moyen: $%{y:.2f}\\u003cbr\\u003eNb v\\u00e9hicules: %{customdata[0]}\\u003cextra\\u003e\\u003c\\u002fextra\\u003e\",\"legendgroup\":\"2dr Hatchback\",\"line\":{\"color\":\"#636efa\",\"dash\":\"solid\"},\"marker\":{\"symbol\":\"circle\",\"size\":5},\"mode\":\"lines+markers\",\"name\":\"2dr Hatchback\",\"orientation\":\"v\",\"showlegend\":true,\"x\":{\"dtype\":\"i2\",\"bdata\":\"xwfIB8kHygfLB8wHzQfOB88H0AfRB9IH0wfUB9UH1gfXB9gH2QfaB9sH3AfdB94H3wfgB+EH\"},\"xaxis\":\"x\",\"y\":{\"dtype\":\"f8\",\"bdata\":\"mpmZmZkroEAAAAAAAECfQEREREREvqBAMzMzMzMCokAlSZIkSeKnQAAAAAAAQJ9AHMdxHMfppUDNzMzMzNCtQI7jOI7j1KtAVVVVVZURsECSJEmSBFvTQAAAAACgSdtAAAAAAOCT00CSJEmS5F7VQKuqqqoqpNRAq6qqqorb00BiJ3ZiZxHUQBdddNElDtRAAAAAAEBt0UCKndiJXT7VQKuqqqpqiNdAZCELWYj92UAor6G8RoXaQNpLaC9hOtRAFKEIRaj410D43nvvvZHWQAAAAABsl9VA\"},\"yaxis\":\"y\",\"type\":\"scatter\"},{\"customdata\":{\"dtype\":\"i1\",\"bdata\":\"DBETDgQFAwMEBAYIDAQDAwIB\",\"shape\":\"18, 1\"},\"hovertemplate\":\"Style: %{legendgroup}\\u003cbr\\u003eAnn\\u00e9e: %{x}\\u003cbr\\u003ePrix moyen: $%{y:.2f}\\u003cbr\\u003eNb v\\u00e9hicules: %{customdata[0]}\\u003cextra\\u003e\\u003c\\u002fextra\\u003e\",\"legendgroup\":\"2dr SUV\",\"line\":{\"color\":\"#EF553B\",\"dash\":\"solid\"},\"marker\":{\"symbol\":\"circle\",\"size\":5},\"mode\":\"lines+markers\",\"name\":\"2dr SUV\",\"orientation\":\"v\",\"showlegend\":true,\"x\":{\"dtype\":\"i2\",\"bdata\":\"xwfIB8kHygfLB8wHzQfOB88H0AfRB9IH0wfUB9UH3wfgB+EH\"},\"xaxis\":\"x\",\"y\":{\"dtype\":\"f8\",\"bdata\":\"AAAAAABAn0A8PDw8PGqhQGwor6G8oqFA27Zt27a0rkAAAAAAYOLCQDMzMzMzV6RAq6qqqipuzEAAAAAAAECfQAAAAAAAWqFAAAAAAAAVo0BVVVVVFc7VQAAAAAA4v9dAVVVVVVXm10AAAAAAcB7XQKuqqqqqlNdAVVVVVVXW6EAAAAAAIIboQAAAAACAUOZA\"},\"yaxis\":\"y\",\"type\":\"scatter\"},{\"customdata\":{\"dtype\":\"i2\",\"bdata\":\"CAAKAAcAAwAIAAoAAgACAAUADAANAAgACgAQAB0ANgBDAC8AkQB9AHcA\",\"shape\":\"21, 1\"},\"hovertemplate\":\"Style: %{legendgroup}\\u003cbr\\u003eAnn\\u00e9e: %{x}\\u003cbr\\u003ePrix moyen: $%{y:.2f}\\u003cbr\\u003eNb v\\u00e9hicules: %{customdata[0]}\\u003cextra\\u003e\\u003c\\u002fextra\\u003e\",\"legendgroup\":\"4dr Hatchback\",\"line\":{\"color\":\"#00cc96\",\"dash\":\"solid\"},\"marker\":{\"symbol\":\"circle\",\"size\":5},\"mode\":\"lines+markers\",\"name\":\"4dr Hatchback\",\"orientation\":\"v\",\"showlegend\":true,\"x\":{\"dtype\":\"i2\",\"bdata\":\"yAfJB8oHywfMB80HzgfUB9UH1gfXB9gH2QfaB9sH3AfdB94H3wfgB+EH\"},\"xaxis\":\"x\",\"y\":{\"dtype\":\"f8\",\"bdata\":\"AAAAAABAn0AAAAAAAECfQAAAAAAAQJ9AAAAAAABAn0AAAAAAAECfQJqZmZmZ5Z9AAAAAAABMoEAAAAAAACjJQAAAAAAAJdJAAAAAACBk0EAUO7ETu17RQAAAAABA9s9AAAAAAMBx0EAAAAAAHLXVQGG5pxFWtNdAHMdxHAfi1kBnt\\u002fCrcf\\u002fYQG3UdzZqjddAPo2w3BM62EBSuB6FK+rXQJlPvZgPQ9hA\"},\"yaxis\":\"y\",\"type\":\"scatter\"},{\"customdata\":{\"dtype\":\"i2\",\"bdata\":\"BgADAAYABgAFAAoACQAKAA8AFgAiACMAMQAqAC0AOwBEAF0AOQBIAC0AOQB5ACQCTwLgAQ==\",\"shape\":\"26, 1\"},\"hovertemplate\":\"Style: %{legendgroup}\\u003cbr\\u003eAnn\\u00e9e: %{x}\\u003cbr\\u003ePrix moyen: $%{y:.2f}\\u003cbr\\u003eNb v\\u00e9hicules: %{customdata[0]}\\u003cextra\\u003e\\u003c\\u002fextra\\u003e\",\"legendgroup\":\"4dr SUV\",\"line\":{\"color\":\"#ab63fa\",\"dash\":\"solid\"},\"marker\":{\"symbol\":\"circle\",\"size\":5},\"mode\":\"lines+markers\",\"name\":\"4dr SUV\",\"orientation\":\"v\",\"showlegend\":true,\"x\":{\"dtype\":\"i2\",\"bdata\":\"xwfIB8kHygfMB80HzgfPB9AH0QfSB9MH1AfVB9YH1wfYB9kH2gfbB9wH3QfeB98H4AfhBw==\"},\"xaxis\":\"x\",\"y\":{\"dtype\":\"f8\",\"bdata\":\"AAAAAABAn0AAAAAAAECfQAAAAAAAQJ9AAAAAAABAn0DNzMzMzDqiQGZmZmZm7KJAAAAAAAB2oUCamZmZmZGlQAAAAAAA\\u002fqdAdNFFFx2r3UC1tLS0tHPaQHVQB3UQ29xAt23bti3v20CGYRiGobrdQFuwBVvwReBA5rEVQYNL30B4eHh4AE3gQLDAAgssed9AOovpLOaQ3kAAAAAAiJ7hQM3MzMzM++NAgvsI7sO15EARuLEMaojpQNflHXBUjOVADxPscdfJ5UC8u7u72UXlQA==\"},\"yaxis\":\"y\",\"type\":\"scatter\"},{\"customdata\":{\"dtype\":\"i1\",\"bdata\":\"AQICAQEBBgUHAwMBDA0M\",\"shape\":\"15, 1\"},\"hovertemplate\":\"Style: %{legendgroup}\\u003cbr\\u003eAnn\\u00e9e: %{x}\\u003cbr\\u003ePrix moyen: $%{y:.2f}\\u003cbr\\u003eNb v\\u00e9hicules: %{customdata[0]}\\u003cextra\\u003e\\u003c\\u002fextra\\u003e\",\"legendgroup\":\"Cargo Minivan\",\"line\":{\"color\":\"#FFA15A\",\"dash\":\"solid\"},\"marker\":{\"symbol\":\"circle\",\"size\":5},\"mode\":\"lines+markers\",\"name\":\"Cargo Minivan\",\"orientation\":\"v\",\"showlegend\":true,\"x\":{\"dtype\":\"i2\",\"bdata\":\"ygfLB8wHzQfRB9IH0wfUB9UH1gfXB9gH3wfgB+EH\"},\"xaxis\":\"x\",\"y\":{\"dtype\":\"f8\",\"bdata\":\"AAAAAABAn0AAAAAAAECfQAAAAAAAQJ9AAAAAAABAn0AAAAAAAL\\u002fTQAAAAABAGtRAAAAAACA41kAAAAAAAB\\u002fXQAAAAACAgtZAAAAAAIDV00CrqqqqqkzUQAAAAAAAitZAVVVVVVWD1kBiJ3Zipy3XQAAAAABAA9dA\"},\"yaxis\":\"y\",\"type\":\"scatter\"},{\"customdata\":{\"dtype\":\"i1\",\"bdata\":\"BgUJCAoDBQUFBQYGDgQE\",\"shape\":\"15, 1\"},\"hovertemplate\":\"Style: %{legendgroup}\\u003cbr\\u003eAnn\\u00e9e: %{x}\\u003cbr\\u003ePrix moyen: $%{y:.2f}\\u003cbr\\u003eNb v\\u00e9hicules: %{customdata[0]}\\u003cextra\\u003e\\u003c\\u002fextra\\u003e\",\"legendgroup\":\"Cargo Van\",\"line\":{\"color\":\"#19d3f3\",\"dash\":\"solid\"},\"marker\":{\"symbol\":\"circle\",\"size\":5},\"mode\":\"lines+markers\",\"name\":\"Cargo Van\",\"orientation\":\"v\",\"showlegend\":true,\"x\":{\"dtype\":\"i2\",\"bdata\":\"ygfLB8wHzQfOB88H0AfRB9IH0wfcB90H3gffB+AH\"},\"xaxis\":\"x\",\"y\":{\"dtype\":\"f8\",\"bdata\":\"AAAAAABAn0AAAAAAAECfQAAAAAAAQJ9AAAAAAABAn0BmZmZmZmigQKuqqqqq3KBAmpmZmZnVoUAAAAAAgLHTQAAAAACAQtRAAAAAAIAA1UBVVVVVtSzcQAAAAABgFN1ASZIkSRI93kAAAAAAUCffQAAAAACoFeBA\"},\"yaxis\":\"y\",\"type\":\"scatter\"},{\"customdata\":{\"dtype\":\"i2\",\"bdata\":\"CAAMAA0ABAAEAAUABwADAAIABwAQAA4ADQAKAAsABwAZAC0AKgAVABIAGgAWAFgAoACCAEwA\",\"shape\":\"27, 1\"},\"hovertemplate\":\"Style: %{legendgroup}\\u003cbr\\u003eAnn\\u00e9e: %{x}\\u003cbr\\u003ePrix moyen: $%{y:.2f}\\u003cbr\\u003eNb v\\u00e9hicules: %{customdata[0]}\\u003cextra\\u003e\\u003c\\u002fextra\\u003e\",\"legendgroup\":\"Convertible\",\"line\":{\"color\":\"#FF6692\",\"dash\":\"solid\"},\"marker\":{\"symbol\":\"circle\",\"size\":5},\"mode\":\"lines+markers\",\"name\":\"Convertible\",\"orientation\":\"v\",\"showlegend\":true,\"x\":{\"dtype\":\"i2\",\"bdata\":\"xwfIB8kHygfLB8wHzQfOB88H0AfRB9IH0wfUB9UH1gfXB9gH2QfaB9sH3AfdB94H3wfgB+EH\"},\"xaxis\":\"x\",\"y\":{\"dtype\":\"f8\",\"bdata\":\"AAAAAEDJpEAAAAAAgLeiQAAAAAAANKZAAAAAAIDmpkAAAAAAgMKoQAAAAAAAJqNAt23btm3VokBVVVVVVaWoQAAAAACAtMhA27Zt27aBvEAAAAAAfSvxQEmSJEkSlepA7MRO7KRz9UAzMzMz60r7QOmiiy5qhv5At23btq0O50C4HoXrsbnxQERERET0R\\u002fRAGIZhGD7i9UB6nud5DiH1QMdxHMeFpgRB2Ymd2LkZBkGjiy66iHn\\u002fQIwuuuggn\\u002fdAAAAAAENW9EBXaqVWMhr2QA3lNZR3PPFA\"},\"yaxis\":\"y\",\"type\":\"scatter\"},{\"customdata\":{\"dtype\":\"i1\",\"bdata\":\"AgEBAgMDBwUBAQEC\",\"shape\":\"12, 1\"},\"hovertemplate\":\"Style: %{legendgroup}\\u003cbr\\u003eAnn\\u00e9e: %{x}\\u003cbr\\u003ePrix moyen: $%{y:.2f}\\u003cbr\\u003eNb v\\u00e9hicules: %{customdata[0]}\\u003cextra\\u003e\\u003c\\u002fextra\\u003e\",\"legendgroup\":\"Convertible SUV\",\"line\":{\"color\":\"#B6E880\",\"dash\":\"solid\"},\"marker\":{\"symbol\":\"circle\",\"size\":5},\"mode\":\"lines+markers\",\"name\":\"Convertible SUV\",\"orientation\":\"v\",\"showlegend\":true,\"x\":{\"dtype\":\"i2\",\"bdata\":\"yQfKB8sHzAfNB84H0gfTB9wH3QfeB+EH\"},\"xaxis\":\"x\",\"y\":{\"dtype\":\"f8\",\"bdata\":\"AAAAAABAn0AAAAAAAECfQAAAAAAAQJ9AAAAAAABAn0BVVVVV1aXKQAAAAAAAQJ9AkiRJkiS80EBmZmZm5ubQQAAAAACAv+VAAAAAAIC\\u002f5UAAAAAAYIHkQAAAAAAAkOpA\"},\"yaxis\":\"y\",\"type\":\"scatter\"},{\"customdata\":{\"dtype\":\"i2\",\"bdata\":\"EwAOABsAGAAfACEAHQAPAAkABgARABQAIQAeABgAGwAeACYAJwAXABwAJQAsAE4AwAC3AJMA\",\"shape\":\"27, 1\"},\"hovertemplate\":\"Style: %{legendgroup}\\u003cbr\\u003eAnn\\u00e9e: %{x}\\u003cbr\\u003ePrix moyen: $%{y:.2f}\\u003cbr\\u003eNb v\\u00e9hicules: %{customdata[0]}\\u003cextra\\u003e\\u003c\\u002fextra\\u003e\",\"legendgroup\":\"Coupe\",\"line\":{\"color\":\"#FF97FF\",\"dash\":\"solid\"},\"marker\":{\"symbol\":\"circle\",\"size\":5},\"mode\":\"lines+markers\",\"name\":\"Coupe\",\"orientation\":\"v\",\"showlegend\":true,\"x\":{\"dtype\":\"i2\",\"bdata\":\"xwfIB8kHygfLB8wHzQfOB88H0AfRB9IH0wfUB9UH1gfXB9gH2QfaB9sH3AfdB94H3wfgB+EH\"},\"xaxis\":\"x\",\"y\":{\"dtype\":\"f8\",\"bdata\":\"r6G8hvLCn0Bu27Zt24afQMdxHMdxmKJAAAAAAIBko0B0zjnnnNGmQOmiiy66OKtAIyz3NMKerkAiIiIiIgO2QOQ4juM4hKdAAAAAAABwrECmpaWldW8BQTMzMzP78fNAbbLJJltw+UBERERENPbvQAAAAACEPexAx3EcxxEf6UAzMzMzAwXuQIfyGsrX7wZBNUiDNODsAEELWchC1vb+QNu2bdsyhfxAKvJZNyCAAUHpoosuApz3QMu3fMunKABBq6qqKkqU9EBMhmAdvXbzQA4oE1daMOtA\"},\"yaxis\":\"y\",\"type\":\"scatter\"},{\"customdata\":{\"dtype\":\"i2\",\"bdata\":\"AwACAAYABQANAB4ALgAlACcAFAAeABYADwCHAIwAigA=\",\"shape\":\"16, 1\"},\"hovertemplate\":\"Style: %{legendgroup}\\u003cbr\\u003eAnn\\u00e9e: %{x}\\u003cbr\\u003ePrix moyen: $%{y:.2f}\\u003cbr\\u003eNb v\\u00e9hicules: %{customdata[0]}\\u003cextra\\u003e\\u003c\\u002fextra\\u003e\",\"legendgroup\":\"Crew Cab Pickup\",\"line\":{\"color\":\"#FECB52\",\"dash\":\"solid\"},\"marker\":{\"symbol\":\"circle\",\"size\":5},\"mode\":\"lines+markers\",\"name\":\"Crew Cab Pickup\",\"orientation\":\"v\",\"showlegend\":true,\"x\":{\"dtype\":\"i2\",\"bdata\":\"0gfTB9QH1QfWB9cH2AfZB9oH2wfcB90H3gffB+AH4Qc=\"},\"xaxis\":\"x\",\"y\":{\"dtype\":\"f8\",\"bdata\":\"VVVVVXVl4EAAAAAAAPLXQAAAAACgjtdAAAAAAEDp10B2Yid24kjeQKuqqqrKb95A9aY3vYkE3kAOpshn3XzeQAAAAACAb99AzczMzESX5UDe3d3dHTLjQKOLLrrY1+VAAAAAAIBw4UDkOI7jmG3iQLdt27aN\\u002fuJAbAfm2kH340A=\"},\"yaxis\":\"y\",\"type\":\"scatter\"},{\"customdata\":{\"dtype\":\"i1\",\"bdata\":\"DAoOBwsIHCAaCAcSEgg7FBgTChAFW1lN\",\"shape\":\"24, 1\"},\"hovertemplate\":\"Style: %{legendgroup}\\u003cbr\\u003eAnn\\u00e9e: %{x}\\u003cbr\\u003ePrix moyen: $%{y:.2f}\\u003cbr\\u003eNb v\\u00e9hicules: %{customdata[0]}\\u003cextra\\u003e\\u003c\\u002fextra\\u003e\",\"legendgroup\":\"Extended Cab Pickup\",\"line\":{\"color\":\"#636efa\",\"dash\":\"solid\"},\"marker\":{\"symbol\":\"circle\",\"size\":5},\"mode\":\"lines+markers\",\"name\":\"Extended Cab Pickup\",\"orientation\":\"v\",\"showlegend\":true,\"x\":{\"dtype\":\"i2\",\"bdata\":\"xwfIB8kHygfLB8wHzQfOB88H0AfRB9IH0wfUB9cH2AfZB9oH2wfcB94H3wfgB+EH\"},\"xaxis\":\"x\",\"y\":{\"dtype\":\"f8\",\"bdata\":\"AAAAAABAn0AzMzMzM2WfQAAAAAAAYKBAt23btm11oUBddNFFF9GiQAAAAADAlKRA27Zt27Yxp0AAAAAAEFupQMVO7MRO+atAAAAAAIBsqkCSJEmSJFvVQAAAAADAs9NAAAAAACB800AAAAAAYDHZQCNoOKm7kdtAAAAAAFB82ECrqqqqUlHXQAAAAAAAvNZAMzMzM3Ma1kAAAAAAKIPXQAAAAACAK+BAKqMyKiNK30CNZzzjuRzgQFCIs\\u002fKT3+BA\"},\"yaxis\":\"y\",\"type\":\"scatter\"},{\"customdata\":{\"dtype\":\"i1\",\"bdata\":\"BAEMCQkKBgYKECUUGxYSBwoHBwQMNzcn\",\"shape\":\"24, 1\"},\"hovertemplate\":\"Style: %{legendgroup}\\u003cbr\\u003eAnn\\u00e9e: %{x}\\u003cbr\\u003ePrix moyen: $%{y:.2f}\\u003cbr\\u003eNb v\\u00e9hicules: %{customdata[0]}\\u003cextra\\u003e\\u003c\\u002fextra\\u003e\",\"legendgroup\":\"Passenger Minivan\",\"line\":{\"color\":\"#EF553B\",\"dash\":\"solid\"},\"marker\":{\"symbol\":\"circle\",\"size\":5},\"mode\":\"lines+markers\",\"name\":\"Passenger Minivan\",\"orientation\":\"v\",\"showlegend\":true,\"x\":{\"dtype\":\"i2\",\"bdata\":\"xwfKB8sHzAfNB84HzwfQB9EH0gfTB9QH1QfWB9cH2AfaB9sH3AfdB94H3wfgB+EH\"},\"xaxis\":\"x\",\"y\":{\"dtype\":\"f8\",\"bdata\":\"AAAAAABAn0AAAAAAAECfQAAAAAAAnp9Ax3Ecx3F6oECrqqqqqk6hQAAAAAAAjJ9AAAAAAACPoECrqqqqqmShQAAAAAAA2dlAAAAAACwx20BT5LNuMGbbQAAAAADQl9tA9xLaSyhV2kCMLrrowkLZQKuqqqoKJNlAbtu2bdti2EAAAAAAQHzhQG7btm1bP+FAt23btq1f4UAAAAAAwFfVQKuqqqoKZt1ARhdddHEJ4EBGF110kXrgQJ7YiZ2YjeBA\"},\"yaxis\":\"y\",\"type\":\"scatter\"},{\"customdata\":{\"dtype\":\"i1\",\"bdata\":\"CgQDAwMCAgEGBhAcHBA=\",\"shape\":\"14, 1\"},\"hovertemplate\":\"Style: %{legendgroup}\\u003cbr\\u003eAnn\\u00e9e: %{x}\\u003cbr\\u003ePrix moyen: $%{y:.2f}\\u003cbr\\u003eNb v\\u00e9hicules: %{customdata[0]}\\u003cextra\\u003e\\u003c\\u002fextra\\u003e\",\"legendgroup\":\"Passenger Van\",\"line\":{\"color\":\"#00cc96\",\"dash\":\"solid\"},\"marker\":{\"symbol\":\"circle\",\"size\":5},\"mode\":\"lines+markers\",\"name\":\"Passenger Van\",\"orientation\":\"v\",\"showlegend\":true,\"x\":{\"dtype\":\"i2\",\"bdata\":\"ygfLB8wHzQfOB9AH0QfSB9wH3QfeB98H4AfhBw==\"},\"xaxis\":\"x\",\"y\":{\"dtype\":\"f8\",\"bdata\":\"AAAAAABAn0AAAAAAAECfQAAAAAAAQJ9AVVVVVVUjoEAAAAAAAIShQAAAAAAAMqJAAAAAACDU1UAAAAAAQNjUQAAAAAAg499AAAAAANBb4EAAAAAAuoDgQG7btm0roeFAJUmSJNn44UAAAAAA8NTiQA==\"},\"yaxis\":\"y\",\"type\":\"scatter\"},{\"customdata\":{\"dtype\":\"i1\",\"bdata\":\"FRERBgoFHCEOBgcPDA0BARoJDgsCCCMiIg==\",\"shape\":\"25, 1\"},\"hovertemplate\":\"Style: %{legendgroup}\\u003cbr\\u003eAnn\\u00e9e: %{x}\\u003cbr\\u003ePrix moyen: $%{y:.2f}\\u003cbr\\u003eNb v\\u00e9hicules: %{customdata[0]}\\u003cextra\\u003e\\u003c\\u002fextra\\u003e\",\"legendgroup\":\"Regular Cab Pickup\",\"line\":{\"color\":\"#ab63fa\",\"dash\":\"solid\"},\"marker\":{\"symbol\":\"circle\",\"size\":5},\"mode\":\"lines+markers\",\"name\":\"Regular Cab Pickup\",\"orientation\":\"v\",\"showlegend\":true,\"x\":{\"dtype\":\"i2\",\"bdata\":\"xwfIB8kHygfLB8wHzQfOB88H0AfRB9IH0wfUB9UH1gfXB9gH2QfaB9sH3AffB+AH4Qc=\"},\"xaxis\":\"x\",\"y\":{\"dtype\":\"f8\",\"bdata\":\"9DzP8zz9oEAAAAAAAECfQJeWlpaWap9AAAAAAAAkoEAzMzMzM22iQM3MzMzMlqBAJUmSJEm4pEAIH3zwwc2mQAAAAAAAW6lAq6qqqqrrqEBu27ZtW53MQCIiIiKiHtBAAAAAAADvz0CKndiJXebXQAAAAABgx+RAAAAAAAAp40CKndiJnT\\u002fVQI7jOI6jP9hAbtu2bbut1UBddNFFV6PWQAAAAAAANNJAAAAAACCe1EAAAAAAAOHeQLW0tLQUqN9AxMPDw7MG4EA=\"},\"yaxis\":\"y\",\"type\":\"scatter\"},{\"customdata\":{\"dtype\":\"i2\",\"bdata\":\"KQAwADoALAAfABYAFgAZACUALQA1ADIANABFAD0AKAAnADIATwBCAE4AWgBMAHUAXgKAAtoB\",\"shape\":\"27, 1\"},\"hovertemplate\":\"Style: %{legendgroup}\\u003cbr\\u003eAnn\\u00e9e: %{x}\\u003cbr\\u003ePrix moyen: $%{y:.2f}\\u003cbr\\u003eNb v\\u00e9hicules: %{customdata[0]}\\u003cextra\\u003e\\u003c\\u002fextra\\u003e\",\"legendgroup\":\"Sedan\",\"line\":{\"color\":\"#FFA15A\",\"dash\":\"solid\"},\"marker\":{\"symbol\":\"circle\",\"size\":5},\"mode\":\"lines+markers\",\"name\":\"Sedan\",\"orientation\":\"v\",\"showlegend\":true,\"x\":{\"dtype\":\"i2\",\"bdata\":\"xwfIB8kHygfLB8wHzQfOB88H0AfRB9IH0wfUB9UH1gfXB9gH2QfaB9sH3AfdB94H3wfgB+EH\"},\"xaxis\":\"x\",\"y\":{\"dtype\":\"f8\",\"bdata\":\"DM7H4HzMn0BVVVVVNVugQNQIyz2NhqBAAAAAAABkn0AyxhhjjDGgQF100UUXdaBARhdddNGcoEAfhetRuE6iQAAAAAAAnKNAP+mTPukfpED7HFITDDXcQArXo3DdnOBAntiJnSjy2UDf9KY3Pd\\u002fcQME62ryPb95AzczMzEzu30CxEzuxM1LkQGZmZmaGLuNARKUje+ZI5UB88MEHt4zyQMu3fMunL+5Ax3EcxyH67kB5DeU1LCblQEqmZEqGb+xAhm9Egfn+5UAAAABAMnTmQOVcEsvEHuRA\"},\"yaxis\":\"y\",\"type\":\"scatter\"},{\"customdata\":{\"dtype\":\"i1\",\"bdata\":\"Dg8NDAoJBQECCAkEBRIXHiMhFw8mKjBDPSU=\",\"shape\":\"26, 1\"},\"hovertemplate\":\"Style: %{legendgroup}\\u003cbr\\u003eAnn\\u00e9e: %{x}\\u003cbr\\u003ePrix moyen: $%{y:.2f}\\u003cbr\\u003eNb v\\u00e9hicules: %{customdata[0]}\\u003cextra\\u003e\\u003c\\u002fextra\\u003e\",\"legendgroup\":\"Wagon\",\"line\":{\"color\":\"#19d3f3\",\"dash\":\"solid\"},\"marker\":{\"symbol\":\"circle\",\"size\":5},\"mode\":\"lines+markers\",\"name\":\"Wagon\",\"orientation\":\"v\",\"showlegend\":true,\"x\":{\"dtype\":\"i2\",\"bdata\":\"xwfIB8kHygfLB8wHzQfOB9AH0QfSB9MH1AfVB9YH1wfYB9kH2gfbB9wH3QfeB98H4AfhBw==\"},\"xaxis\":\"x\",\"y\":{\"dtype\":\"f8\",\"bdata\":\"btu2bdt4n0AzMzMzM4ufQHZiJ3Zi559AAAAAAABAn0AAAAAAAECfQOQ4juM4np9AzczMzMyIn0AAAAAAADChQAAAAAAAQJ9AAAAAAIDIzUDHcRzHsX7SQAAAAACQ991AAAAAAODP4UByHMdxvLfZQAAAAACAWtZA7+7u7q7c1kAAAAAAQA\\u002fYQFVVVVUVZNtAQxaykAXb2UAAAAAAAG\\u002fbQHkN5TUUvd5AVVVVVTUj3kBVVVVV7UfeQPVA5ezWleBA71NcMiRP4kBMkc+6gdHgQA==\"},\"yaxis\":\"y\",\"type\":\"scatter\"}],                        {\"template\":{\"data\":{\"histogram2dcontour\":[{\"type\":\"histogram2dcontour\",\"colorbar\":{\"outlinewidth\":0,\"ticks\":\"\"},\"colorscale\":[[0.0,\"#0d0887\"],[0.1111111111111111,\"#46039f\"],[0.2222222222222222,\"#7201a8\"],[0.3333333333333333,\"#9c179e\"],[0.4444444444444444,\"#bd3786\"],[0.5555555555555556,\"#d8576b\"],[0.6666666666666666,\"#ed7953\"],[0.7777777777777778,\"#fb9f3a\"],[0.8888888888888888,\"#fdca26\"],[1.0,\"#f0f921\"]]}],\"choropleth\":[{\"type\":\"choropleth\",\"colorbar\":{\"outlinewidth\":0,\"ticks\":\"\"}}],\"histogram2d\":[{\"type\":\"histogram2d\",\"colorbar\":{\"outlinewidth\":0,\"ticks\":\"\"},\"colorscale\":[[0.0,\"#0d0887\"],[0.1111111111111111,\"#46039f\"],[0.2222222222222222,\"#7201a8\"],[0.3333333333333333,\"#9c179e\"],[0.4444444444444444,\"#bd3786\"],[0.5555555555555556,\"#d8576b\"],[0.6666666666666666,\"#ed7953\"],[0.7777777777777778,\"#fb9f3a\"],[0.8888888888888888,\"#fdca26\"],[1.0,\"#f0f921\"]]}],\"heatmap\":[{\"type\":\"heatmap\",\"colorbar\":{\"outlinewidth\":0,\"ticks\":\"\"},\"colorscale\":[[0.0,\"#0d0887\"],[0.1111111111111111,\"#46039f\"],[0.2222222222222222,\"#7201a8\"],[0.3333333333333333,\"#9c179e\"],[0.4444444444444444,\"#bd3786\"],[0.5555555555555556,\"#d8576b\"],[0.6666666666666666,\"#ed7953\"],[0.7777777777777778,\"#fb9f3a\"],[0.8888888888888888,\"#fdca26\"],[1.0,\"#f0f921\"]]}],\"contourcarpet\":[{\"type\":\"contourcarpet\",\"colorbar\":{\"outlinewidth\":0,\"ticks\":\"\"}}],\"contour\":[{\"type\":\"contour\",\"colorbar\":{\"outlinewidth\":0,\"ticks\":\"\"},\"colorscale\":[[0.0,\"#0d0887\"],[0.1111111111111111,\"#46039f\"],[0.2222222222222222,\"#7201a8\"],[0.3333333333333333,\"#9c179e\"],[0.4444444444444444,\"#bd3786\"],[0.5555555555555556,\"#d8576b\"],[0.6666666666666666,\"#ed7953\"],[0.7777777777777778,\"#fb9f3a\"],[0.8888888888888888,\"#fdca26\"],[1.0,\"#f0f921\"]]}],\"surface\":[{\"type\":\"surface\",\"colorbar\":{\"outlinewidth\":0,\"ticks\":\"\"},\"colorscale\":[[0.0,\"#0d0887\"],[0.1111111111111111,\"#46039f\"],[0.2222222222222222,\"#7201a8\"],[0.3333333333333333,\"#9c179e\"],[0.4444444444444444,\"#bd3786\"],[0.5555555555555556,\"#d8576b\"],[0.6666666666666666,\"#ed7953\"],[0.7777777777777778,\"#fb9f3a\"],[0.8888888888888888,\"#fdca26\"],[1.0,\"#f0f921\"]]}],\"mesh3d\":[{\"type\":\"mesh3d\",\"colorbar\":{\"outlinewidth\":0,\"ticks\":\"\"}}],\"scatter\":[{\"fillpattern\":{\"fillmode\":\"overlay\",\"size\":10,\"solidity\":0.2},\"type\":\"scatter\"}],\"parcoords\":[{\"type\":\"parcoords\",\"line\":{\"colorbar\":{\"outlinewidth\":0,\"ticks\":\"\"}}}],\"scatterpolargl\":[{\"type\":\"scatterpolargl\",\"marker\":{\"colorbar\":{\"outlinewidth\":0,\"ticks\":\"\"}}}],\"bar\":[{\"error_x\":{\"color\":\"#2a3f5f\"},\"error_y\":{\"color\":\"#2a3f5f\"},\"marker\":{\"line\":{\"color\":\"#E5ECF6\",\"width\":0.5},\"pattern\":{\"fillmode\":\"overlay\",\"size\":10,\"solidity\":0.2}},\"type\":\"bar\"}],\"scattergeo\":[{\"type\":\"scattergeo\",\"marker\":{\"colorbar\":{\"outlinewidth\":0,\"ticks\":\"\"}}}],\"scatterpolar\":[{\"type\":\"scatterpolar\",\"marker\":{\"colorbar\":{\"outlinewidth\":0,\"ticks\":\"\"}}}],\"histogram\":[{\"marker\":{\"pattern\":{\"fillmode\":\"overlay\",\"size\":10,\"solidity\":0.2}},\"type\":\"histogram\"}],\"scattergl\":[{\"type\":\"scattergl\",\"marker\":{\"colorbar\":{\"outlinewidth\":0,\"ticks\":\"\"}}}],\"scatter3d\":[{\"type\":\"scatter3d\",\"line\":{\"colorbar\":{\"outlinewidth\":0,\"ticks\":\"\"}},\"marker\":{\"colorbar\":{\"outlinewidth\":0,\"ticks\":\"\"}}}],\"scattermap\":[{\"type\":\"scattermap\",\"marker\":{\"colorbar\":{\"outlinewidth\":0,\"ticks\":\"\"}}}],\"scattermapbox\":[{\"type\":\"scattermapbox\",\"marker\":{\"colorbar\":{\"outlinewidth\":0,\"ticks\":\"\"}}}],\"scatterternary\":[{\"type\":\"scatterternary\",\"marker\":{\"colorbar\":{\"outlinewidth\":0,\"ticks\":\"\"}}}],\"scattercarpet\":[{\"type\":\"scattercarpet\",\"marker\":{\"colorbar\":{\"outlinewidth\":0,\"ticks\":\"\"}}}],\"carpet\":[{\"aaxis\":{\"endlinecolor\":\"#2a3f5f\",\"gridcolor\":\"white\",\"linecolor\":\"white\",\"minorgridcolor\":\"white\",\"startlinecolor\":\"#2a3f5f\"},\"baxis\":{\"endlinecolor\":\"#2a3f5f\",\"gridcolor\":\"white\",\"linecolor\":\"white\",\"minorgridcolor\":\"white\",\"startlinecolor\":\"#2a3f5f\"},\"type\":\"carpet\"}],\"table\":[{\"cells\":{\"fill\":{\"color\":\"#EBF0F8\"},\"line\":{\"color\":\"white\"}},\"header\":{\"fill\":{\"color\":\"#C8D4E3\"},\"line\":{\"color\":\"white\"}},\"type\":\"table\"}],\"barpolar\":[{\"marker\":{\"line\":{\"color\":\"#E5ECF6\",\"width\":0.5},\"pattern\":{\"fillmode\":\"overlay\",\"size\":10,\"solidity\":0.2}},\"type\":\"barpolar\"}],\"pie\":[{\"automargin\":true,\"type\":\"pie\"}]},\"layout\":{\"autotypenumbers\":\"strict\",\"colorway\":[\"#636efa\",\"#EF553B\",\"#00cc96\",\"#ab63fa\",\"#FFA15A\",\"#19d3f3\",\"#FF6692\",\"#B6E880\",\"#FF97FF\",\"#FECB52\"],\"font\":{\"color\":\"#2a3f5f\"},\"hovermode\":\"closest\",\"hoverlabel\":{\"align\":\"left\"},\"paper_bgcolor\":\"white\",\"plot_bgcolor\":\"#E5ECF6\",\"polar\":{\"bgcolor\":\"#E5ECF6\",\"angularaxis\":{\"gridcolor\":\"white\",\"linecolor\":\"white\",\"ticks\":\"\"},\"radialaxis\":{\"gridcolor\":\"white\",\"linecolor\":\"white\",\"ticks\":\"\"}},\"ternary\":{\"bgcolor\":\"#E5ECF6\",\"aaxis\":{\"gridcolor\":\"white\",\"linecolor\":\"white\",\"ticks\":\"\"},\"baxis\":{\"gridcolor\":\"white\",\"linecolor\":\"white\",\"ticks\":\"\"},\"caxis\":{\"gridcolor\":\"white\",\"linecolor\":\"white\",\"ticks\":\"\"}},\"coloraxis\":{\"colorbar\":{\"outlinewidth\":0,\"ticks\":\"\"}},\"colorscale\":{\"sequential\":[[0.0,\"#0d0887\"],[0.1111111111111111,\"#46039f\"],[0.2222222222222222,\"#7201a8\"],[0.3333333333333333,\"#9c179e\"],[0.4444444444444444,\"#bd3786\"],[0.5555555555555556,\"#d8576b\"],[0.6666666666666666,\"#ed7953\"],[0.7777777777777778,\"#fb9f3a\"],[0.8888888888888888,\"#fdca26\"],[1.0,\"#f0f921\"]],\"sequentialminus\":[[0.0,\"#0d0887\"],[0.1111111111111111,\"#46039f\"],[0.2222222222222222,\"#7201a8\"],[0.3333333333333333,\"#9c179e\"],[0.4444444444444444,\"#bd3786\"],[0.5555555555555556,\"#d8576b\"],[0.6666666666666666,\"#ed7953\"],[0.7777777777777778,\"#fb9f3a\"],[0.8888888888888888,\"#fdca26\"],[1.0,\"#f0f921\"]],\"diverging\":[[0,\"#8e0152\"],[0.1,\"#c51b7d\"],[0.2,\"#de77ae\"],[0.3,\"#f1b6da\"],[0.4,\"#fde0ef\"],[0.5,\"#f7f7f7\"],[0.6,\"#e6f5d0\"],[0.7,\"#b8e186\"],[0.8,\"#7fbc41\"],[0.9,\"#4d9221\"],[1,\"#276419\"]]},\"xaxis\":{\"gridcolor\":\"white\",\"linecolor\":\"white\",\"ticks\":\"\",\"title\":{\"standoff\":15},\"zerolinecolor\":\"white\",\"automargin\":true,\"zerolinewidth\":2},\"yaxis\":{\"gridcolor\":\"white\",\"linecolor\":\"white\",\"ticks\":\"\",\"title\":{\"standoff\":15},\"zerolinecolor\":\"white\",\"automargin\":true,\"zerolinewidth\":2},\"scene\":{\"xaxis\":{\"backgroundcolor\":\"#E5ECF6\",\"gridcolor\":\"white\",\"linecolor\":\"white\",\"showbackground\":true,\"ticks\":\"\",\"zerolinecolor\":\"white\",\"gridwidth\":2},\"yaxis\":{\"backgroundcolor\":\"#E5ECF6\",\"gridcolor\":\"white\",\"linecolor\":\"white\",\"showbackground\":true,\"ticks\":\"\",\"zerolinecolor\":\"white\",\"gridwidth\":2},\"zaxis\":{\"backgroundcolor\":\"#E5ECF6\",\"gridcolor\":\"white\",\"linecolor\":\"white\",\"showbackground\":true,\"ticks\":\"\",\"zerolinecolor\":\"white\",\"gridwidth\":2}},\"shapedefaults\":{\"line\":{\"color\":\"#2a3f5f\"}},\"annotationdefaults\":{\"arrowcolor\":\"#2a3f5f\",\"arrowhead\":0,\"arrowwidth\":1},\"geo\":{\"bgcolor\":\"white\",\"landcolor\":\"#E5ECF6\",\"subunitcolor\":\"white\",\"showland\":true,\"showlakes\":true,\"lakecolor\":\"white\"},\"title\":{\"x\":0.05},\"mapbox\":{\"style\":\"light\"}}},\"xaxis\":{\"anchor\":\"y\",\"domain\":[0.0,1.0],\"title\":{\"text\":\"Ann\\u00e9e du v\\u00e9hicule\"},\"tickangle\":-45},\"yaxis\":{\"anchor\":\"x\",\"domain\":[0.0,1.0],\"title\":{\"text\":\"Prix moyen (USD)\"},\"tickprefix\":\"$\",\"tickformat\":\",.0f\"},\"legend\":{\"title\":{\"text\":\"Style de v\\u00e9hicule\"},\"tracegroupgap\":0},\"title\":{\"text\":\"D\\u00e9pr\\u00e9ciation par style de v\\u00e9hicule\"},\"margin\":{\"t\":60,\"b\":120},\"height\":600,\"hovermode\":\"closest\"},                        {\"responsive\": true}                    ).then(function(){\n",
       "                            \n",
       "var gd = document.getElementById('e18def9c-851b-4550-a654-efbf388b606d');\n",
       "var x = new MutationObserver(function (mutations, observer) {{\n",
       "        var display = window.getComputedStyle(gd).display;\n",
       "        if (!display || display === 'none') {{\n",
       "            console.log([gd, 'removed!']);\n",
       "            Plotly.purge(gd);\n",
       "            observer.disconnect();\n",
       "        }}\n",
       "}});\n",
       "\n",
       "// Listen for the removal of the full notebook cells\n",
       "var notebookContainer = gd.closest('#notebook-container');\n",
       "if (notebookContainer) {{\n",
       "    x.observe(notebookContainer, {childList: true});\n",
       "}}\n",
       "\n",
       "// Listen for the clearing of the current output cell\n",
       "var outputEl = gd.closest('.output');\n",
       "if (outputEl) {{\n",
       "    x.observe(outputEl, {childList: true});\n",
       "}}\n",
       "\n",
       "                        })                };            </script>        </div>"
      ]
     },
     "metadata": {},
     "output_type": "display_data"
    }
   ],
   "source": [
    "# Analyse de la dépréciation par style de véhicule\n",
    "\n",
    "# Garder uniquement les colonnes nécessaires et nettoyer les données\n",
    "df_style_year = df[['year', 'price', 'style']].dropna()\n",
    "df_style_year = df_style_year[df_style_year['year'] > 1990]\n",
    "df_style_year = df_style_year[df_style_year['price'] > 1000]\n",
    "\n",
    "# Calcul du prix moyen par style et par année\n",
    "style_group = df_style_year.groupby(['style', 'year'])['price'].agg(['mean', 'count']).reset_index()\n",
    "\n",
    "# Tracé\n",
    "fig = px.line(\n",
    "    style_group,\n",
    "    x='year',\n",
    "    y='mean',\n",
    "    color='style',\n",
    "    markers=True,\n",
    "    hover_data={'count': True},\n",
    "    labels={\n",
    "        'year': 'Année du véhicule',\n",
    "        'mean': 'Prix moyen (USD)',\n",
    "        'style': 'Style de véhicule',\n",
    "        'count': 'Nb véhicules'\n",
    "    },\n",
    "    title='Dépréciation par style de véhicule'\n",
    ")\n",
    "\n",
    "fig.update_traces(\n",
    "    hovertemplate='Style: %{legendgroup}<br>Année: %{x}<br>Prix moyen: $%{y:.2f}<br>Nb véhicules: %{customdata[0]}<extra></extra>',\n",
    "    marker=dict(size=5)\n",
    ")\n",
    "\n",
    "fig.update_layout(\n",
    "    yaxis_tickprefix='$',\n",
    "    yaxis_tickformat=',.0f',\n",
    "    xaxis_tickangle=-45,\n",
    "    height=600,\n",
    "    legend_title_text='Style de véhicule',\n",
    "    margin=dict(t=60, b=120),\n",
    "    hovermode=\"closest\"\n",
    ")\n",
    "\n",
    "fig.show()\n"
   ]
  },
  {
   "cell_type": "code",
   "execution_count": 306,
   "id": "0176b522",
   "metadata": {},
   "outputs": [
    {
     "data": {
      "application/vnd.plotly.v1+json": {
       "config": {
        "plotlyServerURL": "https://plot.ly"
       },
       "data": [
        {
         "customdata": {
          "bdata": "AgADAAoADwAWACQALwAxAE0ARwBXADQARQBZANoB+gGpAQ==",
          "dtype": "i2",
          "shape": "17, 1"
         },
         "hovertemplate": "Catégorie: %{legendgroup}<br>Année: %{x}<br>Prix moyen: $%{y:.2f}<br>Nb véhicules: %{customdata[0]}<extra></extra>",
         "legendgroup": "Crossover",
         "line": {
          "color": "#636efa",
          "dash": "solid"
         },
         "marker": {
          "size": 5,
          "symbol": "circle"
         },
         "mode": "lines+markers",
         "name": "Crossover",
         "orientation": "v",
         "showlegend": true,
         "type": "scatter",
         "x": {
          "bdata": "0QfSB9MH1AfVB9YH1wfYB9kH2gfbB9wH3QfeB98H4AfhBw==",
          "dtype": "i2"
         },
         "xaxis": "x",
         "y": {
          "bdata": "AAAAAMAB4UBVVVVVVUfhQAAAAACgHd5AAAAAAIDt3ECjiy66qKbcQKuqqqr6vt9AuYKYXAGF3UC3bdu2rbTeQAf2jqlB3NxABxKtsHnk3kAYyKR4weDfQLETO7GrjeFAbAfm2mFD4kDPeMYz/s7iQCs4fCG1OuJAe35/Kn6x4kAYGBgYOPTiQA==",
          "dtype": "f8"
         },
         "yaxis": "y"
        },
        {
         "customdata": {
          "bdata": "AwICAQEBAQcIEVBCDw==",
          "dtype": "i1",
          "shape": "13, 1"
         },
         "hovertemplate": "Catégorie: %{legendgroup}<br>Année: %{x}<br>Prix moyen: $%{y:.2f}<br>Nb véhicules: %{customdata[0]}<extra></extra>",
         "legendgroup": "Diesel",
         "line": {
          "color": "#EF553B",
          "dash": "solid"
         },
         "marker": {
          "size": 5,
          "symbol": "circle"
         },
         "mode": "lines+markers",
         "name": "Diesel",
         "orientation": "v",
         "showlegend": true,
         "type": "scatter",
         "x": {
          "bdata": "xwfIB8kH2AfZB9oH2wfcB90H3gffB+AH4Qc=",
          "dtype": "i2"
         },
         "xaxis": "x",
         "y": {
          "bdata": "AAAAAADmoEAAAAAAAMOhQAAAAAAAeaJAAAAAAECv8EAAAAAAAObkQAAAAAAAzuhAAAAAAIBD6UBu27Zt247eQAAAAADQVt9AiIeHh2fP4kAAAAAAfC/jQCebbLIpW+ZAVVVVVTWZ5EA=",
          "dtype": "f8"
         },
         "yaxis": "y"
        },
        {
         "customdata": {
          "bdata": "DQwUEA0HChAbFh0nHUdKTxg=",
          "dtype": "i1",
          "shape": "17, 1"
         },
         "hovertemplate": "Catégorie: %{legendgroup}<br>Année: %{x}<br>Prix moyen: $%{y:.2f}<br>Nb véhicules: %{customdata[0]}<extra></extra>",
         "legendgroup": "Exotic",
         "line": {
          "color": "#00cc96",
          "dash": "solid"
         },
         "marker": {
          "size": 5,
          "symbol": "circle"
         },
         "mode": "lines+markers",
         "name": "Exotic",
         "orientation": "v",
         "showlegend": true,
         "type": "scatter",
         "x": {
          "bdata": "0QfSB9MH1AfVB9YH1wfYB9kH2gfbB9wH3QfeB98H4AfhBw==",
          "dtype": "i2"
         },
         "xaxis": "x",
         "y": {
          "bdata": "7MRO7NylD0EAAAAA7KoGQWZmZmaQPQhBAAAAAHamA0GxEzuxA2YFQSVJkiRptP5AzczMzBgOD0EAAADAU/AgQVVVVVUtSBJBo4suunYwEkEjLPc0ihcQQYM0SIM4ehFBCcs9jUhiCEHYHEi0qtgKQWjdYIpkBgpBUenInkG/CEGrqqqqxKT6QA==",
          "dtype": "f8"
         },
         "yaxis": "y"
        },
        {
         "customdata": {
          "bdata": "BAIDAgcGCAUICQgDCwQGDRMZEwYOEBoten9m",
          "dtype": "i1",
          "shape": "27, 1"
         },
         "hovertemplate": "Catégorie: %{legendgroup}<br>Année: %{x}<br>Prix moyen: $%{y:.2f}<br>Nb véhicules: %{customdata[0]}<extra></extra>",
         "legendgroup": "Factory Tuner",
         "line": {
          "color": "#ab63fa",
          "dash": "solid"
         },
         "marker": {
          "size": 5,
          "symbol": "circle"
         },
         "mode": "lines+markers",
         "name": "Factory Tuner",
         "orientation": "v",
         "showlegend": true,
         "type": "scatter",
         "x": {
          "bdata": "xwfIB8kHygfLB8wHzQfOB88H0AfRB9IH0wfUB9UH1gfXB9gH2QfaB9sH3AfdB94H3wfgB+EH",
          "dtype": "i2"
         },
         "xaxis": "x",
         "y": {
          "bdata": "AAAAAIDJpkAAAAAAANeuQAAAAAAAX7VAAAAAAABttUBu27Zt29CwQKuqqqqqwaRAAAAAAAAjqUAAAAAAANawQAAAAACAX7NAq6qqqqoouEAAAAAA9FH5QFVVVVWVG+FAo4suuqhN9kAAAAAAgFPvQKuqqqp6TvJAFDuxE8v88ECivIbyugX2QAAAAACgEPNAUV5Ded0l9UCrqqqq4o0IQW7btm2X9whBAAAAgPXmAUFP7MROhKX5QDmO4zjOxP1AVFwyBJtw9ECn0+l02vv0QJeWlpY2DfJA",
          "dtype": "f8"
         },
         "yaxis": "y"
        },
        {
         "customdata": {
          "bdata": "CwAKAA8AEAACAAUAXAAZADgAPQAaADAAIABRADMB4gC4AA==",
          "dtype": "i2",
          "shape": "17, 1"
         },
         "hovertemplate": "Catégorie: %{legendgroup}<br>Année: %{x}<br>Prix moyen: $%{y:.2f}<br>Nb véhicules: %{customdata[0]}<extra></extra>",
         "legendgroup": "Flex Fuel",
         "line": {
          "color": "#FFA15A",
          "dash": "solid"
         },
         "marker": {
          "size": 5,
          "symbol": "circle"
         },
         "mode": "lines+markers",
         "name": "Flex Fuel",
         "orientation": "v",
         "showlegend": true,
         "type": "scatter",
         "x": {
          "bdata": "zwfQB9IH0wfVB9YH1wfYB9kH2gfbB9wH3QfeB98H4AfhBw==",
          "dtype": "i2"
         },
         "xaxis": "x",
         "y": {
          "bdata": "6aKLLrqkpECamZmZmeWlQJqZmZkZj9BAAAAAADjB0EAAAAAAYN3SQAAAAABArdNAAAAAAKAd2kDNzMzMjDfaQLdt27ZlettAcckQrEOc4ECe2ImdUHXxQAAAAAAE9OtAAAAAAOb37EBvzQ+LVPvqQNcKQYaFv+dA41zHKG6I4kD1pje9kSTjQA==",
          "dtype": "f8"
         },
         "yaxis": "y"
        },
        {
         "customdata": {
          "bdata": "DwApACgAGwAKAA4AEwAHAAkADAAOAAQABAAQAA4AGAAaAB4AEgAdACMATQBWAEoA6gC7AIcA",
          "dtype": "i2",
          "shape": "27, 1"
         },
         "hovertemplate": "Catégorie: %{legendgroup}<br>Année: %{x}<br>Prix moyen: $%{y:.2f}<br>Nb véhicules: %{customdata[0]}<extra></extra>",
         "legendgroup": "Hatchback",
         "line": {
          "color": "#19d3f3",
          "dash": "solid"
         },
         "marker": {
          "size": 5,
          "symbol": "circle"
         },
         "mode": "lines+markers",
         "name": "Hatchback",
         "orientation": "v",
         "showlegend": true,
         "type": "scatter",
         "x": {
          "bdata": "xwfIB8kHygfLB8wHzQfOB88H0AfRB9IH0wfUB9UH1gfXB9gH2QfaB9sH3AfdB94H3wfgB+EH",
          "dtype": "i2"
         },
         "xaxis": "x",
         "y": {
          "bdata": "mpmZmZkroEAAAAAAAECfQDMzMzOzdqBAAAAAAABkoUAAAAAAAGilQAAAAAAAQJ9AoryG8hrGokAAAAAAAPSpQI7jOI7j1KtAVVVVVZURsECSJEmSBFvTQAAAAACgSdtAAAAAAOCT00AAAAAAiEXUQJIkSZLkv9NAVVVVVdUf0kA7sRM7EbjSQCIiIiIC+NJAHMdxHIfh0EASlnsa4X/VQKEO6qDOrNdAlp8QZ6XP10AecUfckVXZQDBFPuvmVtZADdIgDTIh2EAixVB/+XfXQNFeQnsJ8tdA",
          "dtype": "f8"
         },
         "yaxis": "y"
        },
        {
         "customdata": {
          "bdata": "CgAMABMAEQAOABIAIgAvAC0AGwAhAC8AMwCNAEIBSAHeAA==",
          "dtype": "i2",
          "shape": "17, 1"
         },
         "hovertemplate": "Catégorie: %{legendgroup}<br>Année: %{x}<br>Prix moyen: $%{y:.2f}<br>Nb véhicules: %{customdata[0]}<extra></extra>",
         "legendgroup": "High-Performance",
         "line": {
          "color": "#FF6692",
          "dash": "solid"
         },
         "marker": {
          "size": 5,
          "symbol": "circle"
         },
         "mode": "lines+markers",
         "name": "High-Performance",
         "orientation": "v",
         "showlegend": true,
         "type": "scatter",
         "x": {
          "bdata": "0QfSB9MH1AfVB9YH1wfYB9kH2gfbB9wH3QfeB98H4AfhBw==",
          "dtype": "i2"
         },
         "xaxis": "x",
         "y": {
          "bdata": "AAAAAExTAkEAAAAAfpACQQ3lNZRv4gVBiIeHh/+4AkGSJEmS0CYEQY7jOI5TGvJA4uHh4XEK9UD1nY36tkMJQWZmZmZuUwZBHMdxHJd/C0EffPDBn2AKQcTkCmJitQZBeHh4eOivAEF4Nuo7w38BQfqDjUdbxflAnI/B+ZTH+EC239ErCwvzQA==",
          "dtype": "f8"
         },
         "yaxis": "y"
        },
        {
         "customdata": {
          "bdata": "AgIHCwkbHSAjSEgx",
          "dtype": "i1",
          "shape": "12, 1"
         },
         "hovertemplate": "Catégorie: %{legendgroup}<br>Année: %{x}<br>Prix moyen: $%{y:.2f}<br>Nb véhicules: %{customdata[0]}<extra></extra>",
         "legendgroup": "Hybrid",
         "line": {
          "color": "#B6E880",
          "dash": "solid"
         },
         "marker": {
          "size": 5,
          "symbol": "circle"
         },
         "mode": "lines+markers",
         "name": "Hybrid",
         "orientation": "v",
         "showlegend": true,
         "type": "scatter",
         "x": {
          "bdata": "1gfXB9gH2QfaB9sH3AfdB94H3wfgB+EH",
          "dtype": "i2"
         },
         "xaxis": "x",
         "y": {
          "bdata": "AAAAAAAm5kAAAAAAAHPkQAAAAAAApd5Ao4suuigG30A5juM47ojiQO0ltJcwpehAIyz3NAIl5kAAAAAA9lLmQCVJkiSp3OBA5DiO44zE4UA5juM4Ws3hQH1orA+tXeFA",
          "dtype": "f8"
         },
         "yaxis": "y"
        },
        {
         "customdata": {
          "bdata": "LQApADEAGQAhACIAKQAUABQAIQAsAB8AJQAvAC4AKAAlADkAVQBWAG0AgwB1AL0AngKwAvUB",
          "dtype": "i2",
          "shape": "27, 1"
         },
         "hovertemplate": "Catégorie: %{legendgroup}<br>Année: %{x}<br>Prix moyen: $%{y:.2f}<br>Nb véhicules: %{customdata[0]}<extra></extra>",
         "legendgroup": "Luxury",
         "line": {
          "color": "#FF97FF",
          "dash": "solid"
         },
         "marker": {
          "size": 5,
          "symbol": "circle"
         },
         "mode": "lines+markers",
         "name": "Luxury",
         "orientation": "v",
         "showlegend": true,
         "type": "scatter",
         "x": {
          "bdata": "xwfIB8kHygfLB8wHzQfOB88H0AfRB9IH0wfUB9UH1gfXB9gH2QfaB9sH3AfdB94H3wfgB+EH",
          "dtype": "i2"
         },
         "xaxis": "x",
         "y": {
          "bdata": "P+mTPukdoUBF7UrUrnyhQH1orA+N86NAzczMzMw+q0CTTTbZZH2tQMTDw8PDoaJAGZyPwfl0sEAAAAAAAK+kQJqZmZkZ56hAZZNNNtkArEDRRRddJA/yQFNKKaWU6+lAinzWDcbx7UALYnIFscjqQN/0pjd9ZOxAzczMzAyF6EB2gynyCR71QD+C+whuUfJAPDw8PPxQ8EAecUfcGbX0QAwH0ePbEvRAJ6TkWfbu9EAYgREYQR/wQPtT6k+5svZAT5em+uhc8UAk7og71yPxQH3/XOKxHu5A",
          "dtype": "f8"
         },
         "yaxis": "y"
        },
        {
         "customdata": {
          "bdata": "XQBcAHUAZgBNAEsAcwB6AEsAOgBmAIYAlgCQAHkAXgBwAJAAWABAADIATQAxAE4A2QHSAYEB",
          "dtype": "i2",
          "shape": "27, 1"
         },
         "hovertemplate": "Catégorie: %{legendgroup}<br>Année: %{x}<br>Prix moyen: $%{y:.2f}<br>Nb véhicules: %{customdata[0]}<extra></extra>",
         "legendgroup": "Non défini",
         "line": {
          "color": "#FECB52",
          "dash": "solid"
         },
         "marker": {
          "size": 5,
          "symbol": "circle"
         },
         "mode": "lines+markers",
         "name": "Non défini",
         "orientation": "v",
         "showlegend": true,
         "type": "scatter",
         "x": {
          "bdata": "xwfIB8kHygfLB8wHzQfOB88H0AfRB9IH0wfUB9UH1gfXB9gH2QfaB9sH3AfdB94H3wfgB+EH",
          "dtype": "i2"
         },
         "xaxis": "x",
         "y": {
          "bdata": "AAAAAABAn0CGLGQhC0SfQAIjMAIjdJ9Ag4KCgoLCn0AKcVZ+QqygQArXo3A9tqBA8ByBoq38okBp8z7FJWqkQKRwPQrXxaVAsdzTCMv2okAjIyMjAxnUQAgqZ7cwl9VAOm2g0+Z91kDkOI7jqArXQCbej5ymR9dA9Z2N+u7A10Dbtm3btgrXQOQ4juPgKNhAo4suugDq10AAAAAA1DPYQPYoXI9isdZAB/aOqUHW1kBeTsHL6ezWQOZbvuUbEdpA89dZ6iet20DU56WBWsTcQCdFmJsWpd5A",
          "dtype": "f8"
         },
         "yaxis": "y"
        },
        {
         "customdata": {
          "bdata": "EQASABUAFQAfAB8AHwATABMAHAAXABQAGwAsACsAEgAXACgAPQAjACkAXwB7AIMAqQGbAToB",
          "dtype": "i2",
          "shape": "27, 1"
         },
         "hovertemplate": "Catégorie: %{legendgroup}<br>Année: %{x}<br>Prix moyen: $%{y:.2f}<br>Nb véhicules: %{customdata[0]}<extra></extra>",
         "legendgroup": "Performance",
         "line": {
          "color": "#636efa",
          "dash": "solid"
         },
         "marker": {
          "size": 5,
          "symbol": "circle"
         },
         "mode": "lines+markers",
         "name": "Performance",
         "orientation": "v",
         "showlegend": true,
         "type": "scatter",
         "x": {
          "bdata": "xwfIB8kHygfLB8wHzQfOB88H0AfRB9IH0wfUB9UH1gfXB9gH2QfaB9sH3AfdB94H3wfgB+EH",
          "dtype": "i2"
         },
         "xaxis": "x",
         "y": {
          "bdata": "WlpaWlo4pEDHcRzHcf2jQAAAAAAAqKpA9DzP8zyzp0BrrbXWWkWqQL733nvvy6xA+N57773/r0AAAAAAAMm1QKK8hvIaJrNAt23btu1HtEBDFrKQFYDyQDMzMzPz09xA2ktoL+Fo6kAvuuii44vhQCTuiDuCZuJAAAAAAFBB5ECGLGQhS4HpQAAAAABwmOlAhmAdbR5M50CLr/iKDwblQMjgfAyu6+RAfG6JU5/Z7kDYSIeNNNHiQDHNXfDXC+pAx8bGxga650Brz8n0lWjoQCcId2O/WeZA",
          "dtype": "f8"
         },
         "yaxis": "y"
        }
       ],
       "layout": {
        "height": 600,
        "hovermode": "closest",
        "legend": {
         "title": {
          "text": "Catégorie marketing"
         },
         "tracegroupgap": 0
        },
        "margin": {
         "b": 120,
         "t": 60
        },
        "template": {
         "data": {
          "bar": [
           {
            "error_x": {
             "color": "#2a3f5f"
            },
            "error_y": {
             "color": "#2a3f5f"
            },
            "marker": {
             "line": {
              "color": "#E5ECF6",
              "width": 0.5
             },
             "pattern": {
              "fillmode": "overlay",
              "size": 10,
              "solidity": 0.2
             }
            },
            "type": "bar"
           }
          ],
          "barpolar": [
           {
            "marker": {
             "line": {
              "color": "#E5ECF6",
              "width": 0.5
             },
             "pattern": {
              "fillmode": "overlay",
              "size": 10,
              "solidity": 0.2
             }
            },
            "type": "barpolar"
           }
          ],
          "carpet": [
           {
            "aaxis": {
             "endlinecolor": "#2a3f5f",
             "gridcolor": "white",
             "linecolor": "white",
             "minorgridcolor": "white",
             "startlinecolor": "#2a3f5f"
            },
            "baxis": {
             "endlinecolor": "#2a3f5f",
             "gridcolor": "white",
             "linecolor": "white",
             "minorgridcolor": "white",
             "startlinecolor": "#2a3f5f"
            },
            "type": "carpet"
           }
          ],
          "choropleth": [
           {
            "colorbar": {
             "outlinewidth": 0,
             "ticks": ""
            },
            "type": "choropleth"
           }
          ],
          "contour": [
           {
            "colorbar": {
             "outlinewidth": 0,
             "ticks": ""
            },
            "colorscale": [
             [
              0,
              "#0d0887"
             ],
             [
              0.1111111111111111,
              "#46039f"
             ],
             [
              0.2222222222222222,
              "#7201a8"
             ],
             [
              0.3333333333333333,
              "#9c179e"
             ],
             [
              0.4444444444444444,
              "#bd3786"
             ],
             [
              0.5555555555555556,
              "#d8576b"
             ],
             [
              0.6666666666666666,
              "#ed7953"
             ],
             [
              0.7777777777777778,
              "#fb9f3a"
             ],
             [
              0.8888888888888888,
              "#fdca26"
             ],
             [
              1,
              "#f0f921"
             ]
            ],
            "type": "contour"
           }
          ],
          "contourcarpet": [
           {
            "colorbar": {
             "outlinewidth": 0,
             "ticks": ""
            },
            "type": "contourcarpet"
           }
          ],
          "heatmap": [
           {
            "colorbar": {
             "outlinewidth": 0,
             "ticks": ""
            },
            "colorscale": [
             [
              0,
              "#0d0887"
             ],
             [
              0.1111111111111111,
              "#46039f"
             ],
             [
              0.2222222222222222,
              "#7201a8"
             ],
             [
              0.3333333333333333,
              "#9c179e"
             ],
             [
              0.4444444444444444,
              "#bd3786"
             ],
             [
              0.5555555555555556,
              "#d8576b"
             ],
             [
              0.6666666666666666,
              "#ed7953"
             ],
             [
              0.7777777777777778,
              "#fb9f3a"
             ],
             [
              0.8888888888888888,
              "#fdca26"
             ],
             [
              1,
              "#f0f921"
             ]
            ],
            "type": "heatmap"
           }
          ],
          "histogram": [
           {
            "marker": {
             "pattern": {
              "fillmode": "overlay",
              "size": 10,
              "solidity": 0.2
             }
            },
            "type": "histogram"
           }
          ],
          "histogram2d": [
           {
            "colorbar": {
             "outlinewidth": 0,
             "ticks": ""
            },
            "colorscale": [
             [
              0,
              "#0d0887"
             ],
             [
              0.1111111111111111,
              "#46039f"
             ],
             [
              0.2222222222222222,
              "#7201a8"
             ],
             [
              0.3333333333333333,
              "#9c179e"
             ],
             [
              0.4444444444444444,
              "#bd3786"
             ],
             [
              0.5555555555555556,
              "#d8576b"
             ],
             [
              0.6666666666666666,
              "#ed7953"
             ],
             [
              0.7777777777777778,
              "#fb9f3a"
             ],
             [
              0.8888888888888888,
              "#fdca26"
             ],
             [
              1,
              "#f0f921"
             ]
            ],
            "type": "histogram2d"
           }
          ],
          "histogram2dcontour": [
           {
            "colorbar": {
             "outlinewidth": 0,
             "ticks": ""
            },
            "colorscale": [
             [
              0,
              "#0d0887"
             ],
             [
              0.1111111111111111,
              "#46039f"
             ],
             [
              0.2222222222222222,
              "#7201a8"
             ],
             [
              0.3333333333333333,
              "#9c179e"
             ],
             [
              0.4444444444444444,
              "#bd3786"
             ],
             [
              0.5555555555555556,
              "#d8576b"
             ],
             [
              0.6666666666666666,
              "#ed7953"
             ],
             [
              0.7777777777777778,
              "#fb9f3a"
             ],
             [
              0.8888888888888888,
              "#fdca26"
             ],
             [
              1,
              "#f0f921"
             ]
            ],
            "type": "histogram2dcontour"
           }
          ],
          "mesh3d": [
           {
            "colorbar": {
             "outlinewidth": 0,
             "ticks": ""
            },
            "type": "mesh3d"
           }
          ],
          "parcoords": [
           {
            "line": {
             "colorbar": {
              "outlinewidth": 0,
              "ticks": ""
             }
            },
            "type": "parcoords"
           }
          ],
          "pie": [
           {
            "automargin": true,
            "type": "pie"
           }
          ],
          "scatter": [
           {
            "fillpattern": {
             "fillmode": "overlay",
             "size": 10,
             "solidity": 0.2
            },
            "type": "scatter"
           }
          ],
          "scatter3d": [
           {
            "line": {
             "colorbar": {
              "outlinewidth": 0,
              "ticks": ""
             }
            },
            "marker": {
             "colorbar": {
              "outlinewidth": 0,
              "ticks": ""
             }
            },
            "type": "scatter3d"
           }
          ],
          "scattercarpet": [
           {
            "marker": {
             "colorbar": {
              "outlinewidth": 0,
              "ticks": ""
             }
            },
            "type": "scattercarpet"
           }
          ],
          "scattergeo": [
           {
            "marker": {
             "colorbar": {
              "outlinewidth": 0,
              "ticks": ""
             }
            },
            "type": "scattergeo"
           }
          ],
          "scattergl": [
           {
            "marker": {
             "colorbar": {
              "outlinewidth": 0,
              "ticks": ""
             }
            },
            "type": "scattergl"
           }
          ],
          "scattermap": [
           {
            "marker": {
             "colorbar": {
              "outlinewidth": 0,
              "ticks": ""
             }
            },
            "type": "scattermap"
           }
          ],
          "scattermapbox": [
           {
            "marker": {
             "colorbar": {
              "outlinewidth": 0,
              "ticks": ""
             }
            },
            "type": "scattermapbox"
           }
          ],
          "scatterpolar": [
           {
            "marker": {
             "colorbar": {
              "outlinewidth": 0,
              "ticks": ""
             }
            },
            "type": "scatterpolar"
           }
          ],
          "scatterpolargl": [
           {
            "marker": {
             "colorbar": {
              "outlinewidth": 0,
              "ticks": ""
             }
            },
            "type": "scatterpolargl"
           }
          ],
          "scatterternary": [
           {
            "marker": {
             "colorbar": {
              "outlinewidth": 0,
              "ticks": ""
             }
            },
            "type": "scatterternary"
           }
          ],
          "surface": [
           {
            "colorbar": {
             "outlinewidth": 0,
             "ticks": ""
            },
            "colorscale": [
             [
              0,
              "#0d0887"
             ],
             [
              0.1111111111111111,
              "#46039f"
             ],
             [
              0.2222222222222222,
              "#7201a8"
             ],
             [
              0.3333333333333333,
              "#9c179e"
             ],
             [
              0.4444444444444444,
              "#bd3786"
             ],
             [
              0.5555555555555556,
              "#d8576b"
             ],
             [
              0.6666666666666666,
              "#ed7953"
             ],
             [
              0.7777777777777778,
              "#fb9f3a"
             ],
             [
              0.8888888888888888,
              "#fdca26"
             ],
             [
              1,
              "#f0f921"
             ]
            ],
            "type": "surface"
           }
          ],
          "table": [
           {
            "cells": {
             "fill": {
              "color": "#EBF0F8"
             },
             "line": {
              "color": "white"
             }
            },
            "header": {
             "fill": {
              "color": "#C8D4E3"
             },
             "line": {
              "color": "white"
             }
            },
            "type": "table"
           }
          ]
         },
         "layout": {
          "annotationdefaults": {
           "arrowcolor": "#2a3f5f",
           "arrowhead": 0,
           "arrowwidth": 1
          },
          "autotypenumbers": "strict",
          "coloraxis": {
           "colorbar": {
            "outlinewidth": 0,
            "ticks": ""
           }
          },
          "colorscale": {
           "diverging": [
            [
             0,
             "#8e0152"
            ],
            [
             0.1,
             "#c51b7d"
            ],
            [
             0.2,
             "#de77ae"
            ],
            [
             0.3,
             "#f1b6da"
            ],
            [
             0.4,
             "#fde0ef"
            ],
            [
             0.5,
             "#f7f7f7"
            ],
            [
             0.6,
             "#e6f5d0"
            ],
            [
             0.7,
             "#b8e186"
            ],
            [
             0.8,
             "#7fbc41"
            ],
            [
             0.9,
             "#4d9221"
            ],
            [
             1,
             "#276419"
            ]
           ],
           "sequential": [
            [
             0,
             "#0d0887"
            ],
            [
             0.1111111111111111,
             "#46039f"
            ],
            [
             0.2222222222222222,
             "#7201a8"
            ],
            [
             0.3333333333333333,
             "#9c179e"
            ],
            [
             0.4444444444444444,
             "#bd3786"
            ],
            [
             0.5555555555555556,
             "#d8576b"
            ],
            [
             0.6666666666666666,
             "#ed7953"
            ],
            [
             0.7777777777777778,
             "#fb9f3a"
            ],
            [
             0.8888888888888888,
             "#fdca26"
            ],
            [
             1,
             "#f0f921"
            ]
           ],
           "sequentialminus": [
            [
             0,
             "#0d0887"
            ],
            [
             0.1111111111111111,
             "#46039f"
            ],
            [
             0.2222222222222222,
             "#7201a8"
            ],
            [
             0.3333333333333333,
             "#9c179e"
            ],
            [
             0.4444444444444444,
             "#bd3786"
            ],
            [
             0.5555555555555556,
             "#d8576b"
            ],
            [
             0.6666666666666666,
             "#ed7953"
            ],
            [
             0.7777777777777778,
             "#fb9f3a"
            ],
            [
             0.8888888888888888,
             "#fdca26"
            ],
            [
             1,
             "#f0f921"
            ]
           ]
          },
          "colorway": [
           "#636efa",
           "#EF553B",
           "#00cc96",
           "#ab63fa",
           "#FFA15A",
           "#19d3f3",
           "#FF6692",
           "#B6E880",
           "#FF97FF",
           "#FECB52"
          ],
          "font": {
           "color": "#2a3f5f"
          },
          "geo": {
           "bgcolor": "white",
           "lakecolor": "white",
           "landcolor": "#E5ECF6",
           "showlakes": true,
           "showland": true,
           "subunitcolor": "white"
          },
          "hoverlabel": {
           "align": "left"
          },
          "hovermode": "closest",
          "mapbox": {
           "style": "light"
          },
          "paper_bgcolor": "white",
          "plot_bgcolor": "#E5ECF6",
          "polar": {
           "angularaxis": {
            "gridcolor": "white",
            "linecolor": "white",
            "ticks": ""
           },
           "bgcolor": "#E5ECF6",
           "radialaxis": {
            "gridcolor": "white",
            "linecolor": "white",
            "ticks": ""
           }
          },
          "scene": {
           "xaxis": {
            "backgroundcolor": "#E5ECF6",
            "gridcolor": "white",
            "gridwidth": 2,
            "linecolor": "white",
            "showbackground": true,
            "ticks": "",
            "zerolinecolor": "white"
           },
           "yaxis": {
            "backgroundcolor": "#E5ECF6",
            "gridcolor": "white",
            "gridwidth": 2,
            "linecolor": "white",
            "showbackground": true,
            "ticks": "",
            "zerolinecolor": "white"
           },
           "zaxis": {
            "backgroundcolor": "#E5ECF6",
            "gridcolor": "white",
            "gridwidth": 2,
            "linecolor": "white",
            "showbackground": true,
            "ticks": "",
            "zerolinecolor": "white"
           }
          },
          "shapedefaults": {
           "line": {
            "color": "#2a3f5f"
           }
          },
          "ternary": {
           "aaxis": {
            "gridcolor": "white",
            "linecolor": "white",
            "ticks": ""
           },
           "baxis": {
            "gridcolor": "white",
            "linecolor": "white",
            "ticks": ""
           },
           "bgcolor": "#E5ECF6",
           "caxis": {
            "gridcolor": "white",
            "linecolor": "white",
            "ticks": ""
           }
          },
          "title": {
           "x": 0.05
          },
          "xaxis": {
           "automargin": true,
           "gridcolor": "white",
           "linecolor": "white",
           "ticks": "",
           "title": {
            "standoff": 15
           },
           "zerolinecolor": "white",
           "zerolinewidth": 2
          },
          "yaxis": {
           "automargin": true,
           "gridcolor": "white",
           "linecolor": "white",
           "ticks": "",
           "title": {
            "standoff": 15
           },
           "zerolinecolor": "white",
           "zerolinewidth": 2
          }
         }
        },
        "title": {
         "text": "Dépréciation par catégorie de marché"
        },
        "xaxis": {
         "anchor": "y",
         "domain": [
          0,
          1
         ],
         "tickangle": -45,
         "title": {
          "text": "Année du véhicule"
         }
        },
        "yaxis": {
         "anchor": "x",
         "domain": [
          0,
          1
         ],
         "tickformat": ",.0f",
         "tickprefix": "$",
         "title": {
          "text": "Prix moyen (USD)"
         }
        }
       }
      },
      "text/html": [
       "<div>            <script src=\"https://cdnjs.cloudflare.com/ajax/libs/mathjax/2.7.5/MathJax.js?config=TeX-AMS-MML_SVG\"></script><script type=\"text/javascript\">if (window.MathJax && window.MathJax.Hub && window.MathJax.Hub.Config) {window.MathJax.Hub.Config({SVG: {font: \"STIX-Web\"}});}</script>                <script type=\"text/javascript\">window.PlotlyConfig = {MathJaxConfig: 'local'};</script>\n",
       "        <script charset=\"utf-8\" src=\"https://cdn.plot.ly/plotly-3.0.1.min.js\"></script>                <div id=\"6d22d683-95f8-4266-ad9c-5644187aef95\" class=\"plotly-graph-div\" style=\"height:600px; width:100%;\"></div>            <script type=\"text/javascript\">                window.PLOTLYENV=window.PLOTLYENV || {};                                if (document.getElementById(\"6d22d683-95f8-4266-ad9c-5644187aef95\")) {                    Plotly.newPlot(                        \"6d22d683-95f8-4266-ad9c-5644187aef95\",                        [{\"customdata\":{\"dtype\":\"i2\",\"bdata\":\"AgADAAoADwAWACQALwAxAE0ARwBXADQARQBZANoB+gGpAQ==\",\"shape\":\"17, 1\"},\"hovertemplate\":\"Cat\\u00e9gorie: %{legendgroup}\\u003cbr\\u003eAnn\\u00e9e: %{x}\\u003cbr\\u003ePrix moyen: $%{y:.2f}\\u003cbr\\u003eNb v\\u00e9hicules: %{customdata[0]}\\u003cextra\\u003e\\u003c\\u002fextra\\u003e\",\"legendgroup\":\"Crossover\",\"line\":{\"color\":\"#636efa\",\"dash\":\"solid\"},\"marker\":{\"symbol\":\"circle\",\"size\":5},\"mode\":\"lines+markers\",\"name\":\"Crossover\",\"orientation\":\"v\",\"showlegend\":true,\"x\":{\"dtype\":\"i2\",\"bdata\":\"0QfSB9MH1AfVB9YH1wfYB9kH2gfbB9wH3QfeB98H4AfhBw==\"},\"xaxis\":\"x\",\"y\":{\"dtype\":\"f8\",\"bdata\":\"AAAAAMAB4UBVVVVVVUfhQAAAAACgHd5AAAAAAIDt3ECjiy66qKbcQKuqqqr6vt9AuYKYXAGF3UC3bdu2rbTeQAf2jqlB3NxABxKtsHnk3kAYyKR4weDfQLETO7GrjeFAbAfm2mFD4kDPeMYz\\u002fs7iQCs4fCG1OuJAe35\\u002fKn6x4kAYGBgYOPTiQA==\"},\"yaxis\":\"y\",\"type\":\"scatter\"},{\"customdata\":{\"dtype\":\"i1\",\"bdata\":\"AwICAQEBAQcIEVBCDw==\",\"shape\":\"13, 1\"},\"hovertemplate\":\"Cat\\u00e9gorie: %{legendgroup}\\u003cbr\\u003eAnn\\u00e9e: %{x}\\u003cbr\\u003ePrix moyen: $%{y:.2f}\\u003cbr\\u003eNb v\\u00e9hicules: %{customdata[0]}\\u003cextra\\u003e\\u003c\\u002fextra\\u003e\",\"legendgroup\":\"Diesel\",\"line\":{\"color\":\"#EF553B\",\"dash\":\"solid\"},\"marker\":{\"symbol\":\"circle\",\"size\":5},\"mode\":\"lines+markers\",\"name\":\"Diesel\",\"orientation\":\"v\",\"showlegend\":true,\"x\":{\"dtype\":\"i2\",\"bdata\":\"xwfIB8kH2AfZB9oH2wfcB90H3gffB+AH4Qc=\"},\"xaxis\":\"x\",\"y\":{\"dtype\":\"f8\",\"bdata\":\"AAAAAADmoEAAAAAAAMOhQAAAAAAAeaJAAAAAAECv8EAAAAAAAObkQAAAAAAAzuhAAAAAAIBD6UBu27Zt247eQAAAAADQVt9AiIeHh2fP4kAAAAAAfC\\u002fjQCebbLIpW+ZAVVVVVTWZ5EA=\"},\"yaxis\":\"y\",\"type\":\"scatter\"},{\"customdata\":{\"dtype\":\"i1\",\"bdata\":\"DQwUEA0HChAbFh0nHUdKTxg=\",\"shape\":\"17, 1\"},\"hovertemplate\":\"Cat\\u00e9gorie: %{legendgroup}\\u003cbr\\u003eAnn\\u00e9e: %{x}\\u003cbr\\u003ePrix moyen: $%{y:.2f}\\u003cbr\\u003eNb v\\u00e9hicules: %{customdata[0]}\\u003cextra\\u003e\\u003c\\u002fextra\\u003e\",\"legendgroup\":\"Exotic\",\"line\":{\"color\":\"#00cc96\",\"dash\":\"solid\"},\"marker\":{\"symbol\":\"circle\",\"size\":5},\"mode\":\"lines+markers\",\"name\":\"Exotic\",\"orientation\":\"v\",\"showlegend\":true,\"x\":{\"dtype\":\"i2\",\"bdata\":\"0QfSB9MH1AfVB9YH1wfYB9kH2gfbB9wH3QfeB98H4AfhBw==\"},\"xaxis\":\"x\",\"y\":{\"dtype\":\"f8\",\"bdata\":\"7MRO7NylD0EAAAAA7KoGQWZmZmaQPQhBAAAAAHamA0GxEzuxA2YFQSVJkiRptP5AzczMzBgOD0EAAADAU\\u002fAgQVVVVVUtSBJBo4suunYwEkEjLPc0ihcQQYM0SIM4ehFBCcs9jUhiCEHYHEi0qtgKQWjdYIpkBgpBUenInkG\\u002fCEGrqqqqxKT6QA==\"},\"yaxis\":\"y\",\"type\":\"scatter\"},{\"customdata\":{\"dtype\":\"i1\",\"bdata\":\"BAIDAgcGCAUICQgDCwQGDRMZEwYOEBoten9m\",\"shape\":\"27, 1\"},\"hovertemplate\":\"Cat\\u00e9gorie: %{legendgroup}\\u003cbr\\u003eAnn\\u00e9e: %{x}\\u003cbr\\u003ePrix moyen: $%{y:.2f}\\u003cbr\\u003eNb v\\u00e9hicules: %{customdata[0]}\\u003cextra\\u003e\\u003c\\u002fextra\\u003e\",\"legendgroup\":\"Factory Tuner\",\"line\":{\"color\":\"#ab63fa\",\"dash\":\"solid\"},\"marker\":{\"symbol\":\"circle\",\"size\":5},\"mode\":\"lines+markers\",\"name\":\"Factory Tuner\",\"orientation\":\"v\",\"showlegend\":true,\"x\":{\"dtype\":\"i2\",\"bdata\":\"xwfIB8kHygfLB8wHzQfOB88H0AfRB9IH0wfUB9UH1gfXB9gH2QfaB9sH3AfdB94H3wfgB+EH\"},\"xaxis\":\"x\",\"y\":{\"dtype\":\"f8\",\"bdata\":\"AAAAAIDJpkAAAAAAANeuQAAAAAAAX7VAAAAAAABttUBu27Zt29CwQKuqqqqqwaRAAAAAAAAjqUAAAAAAANawQAAAAACAX7NAq6qqqqoouEAAAAAA9FH5QFVVVVWVG+FAo4suuqhN9kAAAAAAgFPvQKuqqqp6TvJAFDuxE8v88ECivIbyugX2QAAAAACgEPNAUV5Ded0l9UCrqqqq4o0IQW7btm2X9whBAAAAgPXmAUFP7MROhKX5QDmO4zjOxP1AVFwyBJtw9ECn0+l02vv0QJeWlpY2DfJA\"},\"yaxis\":\"y\",\"type\":\"scatter\"},{\"customdata\":{\"dtype\":\"i2\",\"bdata\":\"CwAKAA8AEAACAAUAXAAZADgAPQAaADAAIABRADMB4gC4AA==\",\"shape\":\"17, 1\"},\"hovertemplate\":\"Cat\\u00e9gorie: %{legendgroup}\\u003cbr\\u003eAnn\\u00e9e: %{x}\\u003cbr\\u003ePrix moyen: $%{y:.2f}\\u003cbr\\u003eNb v\\u00e9hicules: %{customdata[0]}\\u003cextra\\u003e\\u003c\\u002fextra\\u003e\",\"legendgroup\":\"Flex Fuel\",\"line\":{\"color\":\"#FFA15A\",\"dash\":\"solid\"},\"marker\":{\"symbol\":\"circle\",\"size\":5},\"mode\":\"lines+markers\",\"name\":\"Flex Fuel\",\"orientation\":\"v\",\"showlegend\":true,\"x\":{\"dtype\":\"i2\",\"bdata\":\"zwfQB9IH0wfVB9YH1wfYB9kH2gfbB9wH3QfeB98H4AfhBw==\"},\"xaxis\":\"x\",\"y\":{\"dtype\":\"f8\",\"bdata\":\"6aKLLrqkpECamZmZmeWlQJqZmZkZj9BAAAAAADjB0EAAAAAAYN3SQAAAAABArdNAAAAAAKAd2kDNzMzMjDfaQLdt27ZlettAcckQrEOc4ECe2ImdUHXxQAAAAAAE9OtAAAAAAOb37EBvzQ+LVPvqQNcKQYaFv+dA41zHKG6I4kD1pje9kSTjQA==\"},\"yaxis\":\"y\",\"type\":\"scatter\"},{\"customdata\":{\"dtype\":\"i2\",\"bdata\":\"DwApACgAGwAKAA4AEwAHAAkADAAOAAQABAAQAA4AGAAaAB4AEgAdACMATQBWAEoA6gC7AIcA\",\"shape\":\"27, 1\"},\"hovertemplate\":\"Cat\\u00e9gorie: %{legendgroup}\\u003cbr\\u003eAnn\\u00e9e: %{x}\\u003cbr\\u003ePrix moyen: $%{y:.2f}\\u003cbr\\u003eNb v\\u00e9hicules: %{customdata[0]}\\u003cextra\\u003e\\u003c\\u002fextra\\u003e\",\"legendgroup\":\"Hatchback\",\"line\":{\"color\":\"#19d3f3\",\"dash\":\"solid\"},\"marker\":{\"symbol\":\"circle\",\"size\":5},\"mode\":\"lines+markers\",\"name\":\"Hatchback\",\"orientation\":\"v\",\"showlegend\":true,\"x\":{\"dtype\":\"i2\",\"bdata\":\"xwfIB8kHygfLB8wHzQfOB88H0AfRB9IH0wfUB9UH1gfXB9gH2QfaB9sH3AfdB94H3wfgB+EH\"},\"xaxis\":\"x\",\"y\":{\"dtype\":\"f8\",\"bdata\":\"mpmZmZkroEAAAAAAAECfQDMzMzOzdqBAAAAAAABkoUAAAAAAAGilQAAAAAAAQJ9AoryG8hrGokAAAAAAAPSpQI7jOI7j1KtAVVVVVZURsECSJEmSBFvTQAAAAACgSdtAAAAAAOCT00AAAAAAiEXUQJIkSZLkv9NAVVVVVdUf0kA7sRM7EbjSQCIiIiIC+NJAHMdxHIfh0EASlnsa4X\\u002fVQKEO6qDOrNdAlp8QZ6XP10AecUfckVXZQDBFPuvmVtZADdIgDTIh2EAixVB\\u002f+XfXQNFeQnsJ8tdA\"},\"yaxis\":\"y\",\"type\":\"scatter\"},{\"customdata\":{\"dtype\":\"i2\",\"bdata\":\"CgAMABMAEQAOABIAIgAvAC0AGwAhAC8AMwCNAEIBSAHeAA==\",\"shape\":\"17, 1\"},\"hovertemplate\":\"Cat\\u00e9gorie: %{legendgroup}\\u003cbr\\u003eAnn\\u00e9e: %{x}\\u003cbr\\u003ePrix moyen: $%{y:.2f}\\u003cbr\\u003eNb v\\u00e9hicules: %{customdata[0]}\\u003cextra\\u003e\\u003c\\u002fextra\\u003e\",\"legendgroup\":\"High-Performance\",\"line\":{\"color\":\"#FF6692\",\"dash\":\"solid\"},\"marker\":{\"symbol\":\"circle\",\"size\":5},\"mode\":\"lines+markers\",\"name\":\"High-Performance\",\"orientation\":\"v\",\"showlegend\":true,\"x\":{\"dtype\":\"i2\",\"bdata\":\"0QfSB9MH1AfVB9YH1wfYB9kH2gfbB9wH3QfeB98H4AfhBw==\"},\"xaxis\":\"x\",\"y\":{\"dtype\":\"f8\",\"bdata\":\"AAAAAExTAkEAAAAAfpACQQ3lNZRv4gVBiIeHh\\u002f+4AkGSJEmS0CYEQY7jOI5TGvJA4uHh4XEK9UD1nY36tkMJQWZmZmZuUwZBHMdxHJd\\u002fC0EffPDBn2AKQcTkCmJitQZBeHh4eOivAEF4Nuo7w38BQfqDjUdbxflAnI\\u002fB+ZTH+EC239ErCwvzQA==\"},\"yaxis\":\"y\",\"type\":\"scatter\"},{\"customdata\":{\"dtype\":\"i1\",\"bdata\":\"AgIHCwkbHSAjSEgx\",\"shape\":\"12, 1\"},\"hovertemplate\":\"Cat\\u00e9gorie: %{legendgroup}\\u003cbr\\u003eAnn\\u00e9e: %{x}\\u003cbr\\u003ePrix moyen: $%{y:.2f}\\u003cbr\\u003eNb v\\u00e9hicules: %{customdata[0]}\\u003cextra\\u003e\\u003c\\u002fextra\\u003e\",\"legendgroup\":\"Hybrid\",\"line\":{\"color\":\"#B6E880\",\"dash\":\"solid\"},\"marker\":{\"symbol\":\"circle\",\"size\":5},\"mode\":\"lines+markers\",\"name\":\"Hybrid\",\"orientation\":\"v\",\"showlegend\":true,\"x\":{\"dtype\":\"i2\",\"bdata\":\"1gfXB9gH2QfaB9sH3AfdB94H3wfgB+EH\"},\"xaxis\":\"x\",\"y\":{\"dtype\":\"f8\",\"bdata\":\"AAAAAAAm5kAAAAAAAHPkQAAAAAAApd5Ao4suuigG30A5juM47ojiQO0ltJcwpehAIyz3NAIl5kAAAAAA9lLmQCVJkiSp3OBA5DiO44zE4UA5juM4Ws3hQH1orA+tXeFA\"},\"yaxis\":\"y\",\"type\":\"scatter\"},{\"customdata\":{\"dtype\":\"i2\",\"bdata\":\"LQApADEAGQAhACIAKQAUABQAIQAsAB8AJQAvAC4AKAAlADkAVQBWAG0AgwB1AL0AngKwAvUB\",\"shape\":\"27, 1\"},\"hovertemplate\":\"Cat\\u00e9gorie: %{legendgroup}\\u003cbr\\u003eAnn\\u00e9e: %{x}\\u003cbr\\u003ePrix moyen: $%{y:.2f}\\u003cbr\\u003eNb v\\u00e9hicules: %{customdata[0]}\\u003cextra\\u003e\\u003c\\u002fextra\\u003e\",\"legendgroup\":\"Luxury\",\"line\":{\"color\":\"#FF97FF\",\"dash\":\"solid\"},\"marker\":{\"symbol\":\"circle\",\"size\":5},\"mode\":\"lines+markers\",\"name\":\"Luxury\",\"orientation\":\"v\",\"showlegend\":true,\"x\":{\"dtype\":\"i2\",\"bdata\":\"xwfIB8kHygfLB8wHzQfOB88H0AfRB9IH0wfUB9UH1gfXB9gH2QfaB9sH3AfdB94H3wfgB+EH\"},\"xaxis\":\"x\",\"y\":{\"dtype\":\"f8\",\"bdata\":\"P+mTPukdoUBF7UrUrnyhQH1orA+N86NAzczMzMw+q0CTTTbZZH2tQMTDw8PDoaJAGZyPwfl0sEAAAAAAAK+kQJqZmZkZ56hAZZNNNtkArEDRRRddJA\\u002fyQFNKKaWU6+lAinzWDcbx7UALYnIFscjqQN\\u002f0pjd9ZOxAzczMzAyF6EB2gynyCR71QD+C+whuUfJAPDw8PPxQ8EAecUfcGbX0QAwH0ePbEvRAJ6TkWfbu9EAYgREYQR\\u002fwQPtT6k+5svZAT5em+uhc8UAk7og71yPxQH3\\u002fXOKxHu5A\"},\"yaxis\":\"y\",\"type\":\"scatter\"},{\"customdata\":{\"dtype\":\"i2\",\"bdata\":\"XQBcAHUAZgBNAEsAcwB6AEsAOgBmAIYAlgCQAHkAXgBwAJAAWABAADIATQAxAE4A2QHSAYEB\",\"shape\":\"27, 1\"},\"hovertemplate\":\"Cat\\u00e9gorie: %{legendgroup}\\u003cbr\\u003eAnn\\u00e9e: %{x}\\u003cbr\\u003ePrix moyen: $%{y:.2f}\\u003cbr\\u003eNb v\\u00e9hicules: %{customdata[0]}\\u003cextra\\u003e\\u003c\\u002fextra\\u003e\",\"legendgroup\":\"Non d\\u00e9fini\",\"line\":{\"color\":\"#FECB52\",\"dash\":\"solid\"},\"marker\":{\"symbol\":\"circle\",\"size\":5},\"mode\":\"lines+markers\",\"name\":\"Non d\\u00e9fini\",\"orientation\":\"v\",\"showlegend\":true,\"x\":{\"dtype\":\"i2\",\"bdata\":\"xwfIB8kHygfLB8wHzQfOB88H0AfRB9IH0wfUB9UH1gfXB9gH2QfaB9sH3AfdB94H3wfgB+EH\"},\"xaxis\":\"x\",\"y\":{\"dtype\":\"f8\",\"bdata\":\"AAAAAABAn0CGLGQhC0SfQAIjMAIjdJ9Ag4KCgoLCn0AKcVZ+QqygQArXo3A9tqBA8ByBoq38okBp8z7FJWqkQKRwPQrXxaVAsdzTCMv2okAjIyMjAxnUQAgqZ7cwl9VAOm2g0+Z91kDkOI7jqArXQCbej5ymR9dA9Z2N+u7A10Dbtm3btgrXQOQ4juPgKNhAo4suugDq10AAAAAA1DPYQPYoXI9isdZAB\\u002faOqUHW1kBeTsHL6ezWQOZbvuUbEdpA89dZ6iet20DU56WBWsTcQCdFmJsWpd5A\"},\"yaxis\":\"y\",\"type\":\"scatter\"},{\"customdata\":{\"dtype\":\"i2\",\"bdata\":\"EQASABUAFQAfAB8AHwATABMAHAAXABQAGwAsACsAEgAXACgAPQAjACkAXwB7AIMAqQGbAToB\",\"shape\":\"27, 1\"},\"hovertemplate\":\"Cat\\u00e9gorie: %{legendgroup}\\u003cbr\\u003eAnn\\u00e9e: %{x}\\u003cbr\\u003ePrix moyen: $%{y:.2f}\\u003cbr\\u003eNb v\\u00e9hicules: %{customdata[0]}\\u003cextra\\u003e\\u003c\\u002fextra\\u003e\",\"legendgroup\":\"Performance\",\"line\":{\"color\":\"#636efa\",\"dash\":\"solid\"},\"marker\":{\"symbol\":\"circle\",\"size\":5},\"mode\":\"lines+markers\",\"name\":\"Performance\",\"orientation\":\"v\",\"showlegend\":true,\"x\":{\"dtype\":\"i2\",\"bdata\":\"xwfIB8kHygfLB8wHzQfOB88H0AfRB9IH0wfUB9UH1gfXB9gH2QfaB9sH3AfdB94H3wfgB+EH\"},\"xaxis\":\"x\",\"y\":{\"dtype\":\"f8\",\"bdata\":\"WlpaWlo4pEDHcRzHcf2jQAAAAAAAqKpA9DzP8zyzp0BrrbXWWkWqQL733nvvy6xA+N57773\\u002fr0AAAAAAAMm1QKK8hvIaJrNAt23btu1HtEBDFrKQFYDyQDMzMzPz09xA2ktoL+Fo6kAvuuii44vhQCTuiDuCZuJAAAAAAFBB5ECGLGQhS4HpQAAAAABwmOlAhmAdbR5M50CLr\\u002fiKDwblQMjgfAyu6+RAfG6JU5\\u002fZ7kDYSIeNNNHiQDHNXfDXC+pAx8bGxga650Brz8n0lWjoQCcId2O\\u002fWeZA\"},\"yaxis\":\"y\",\"type\":\"scatter\"}],                        {\"template\":{\"data\":{\"histogram2dcontour\":[{\"type\":\"histogram2dcontour\",\"colorbar\":{\"outlinewidth\":0,\"ticks\":\"\"},\"colorscale\":[[0.0,\"#0d0887\"],[0.1111111111111111,\"#46039f\"],[0.2222222222222222,\"#7201a8\"],[0.3333333333333333,\"#9c179e\"],[0.4444444444444444,\"#bd3786\"],[0.5555555555555556,\"#d8576b\"],[0.6666666666666666,\"#ed7953\"],[0.7777777777777778,\"#fb9f3a\"],[0.8888888888888888,\"#fdca26\"],[1.0,\"#f0f921\"]]}],\"choropleth\":[{\"type\":\"choropleth\",\"colorbar\":{\"outlinewidth\":0,\"ticks\":\"\"}}],\"histogram2d\":[{\"type\":\"histogram2d\",\"colorbar\":{\"outlinewidth\":0,\"ticks\":\"\"},\"colorscale\":[[0.0,\"#0d0887\"],[0.1111111111111111,\"#46039f\"],[0.2222222222222222,\"#7201a8\"],[0.3333333333333333,\"#9c179e\"],[0.4444444444444444,\"#bd3786\"],[0.5555555555555556,\"#d8576b\"],[0.6666666666666666,\"#ed7953\"],[0.7777777777777778,\"#fb9f3a\"],[0.8888888888888888,\"#fdca26\"],[1.0,\"#f0f921\"]]}],\"heatmap\":[{\"type\":\"heatmap\",\"colorbar\":{\"outlinewidth\":0,\"ticks\":\"\"},\"colorscale\":[[0.0,\"#0d0887\"],[0.1111111111111111,\"#46039f\"],[0.2222222222222222,\"#7201a8\"],[0.3333333333333333,\"#9c179e\"],[0.4444444444444444,\"#bd3786\"],[0.5555555555555556,\"#d8576b\"],[0.6666666666666666,\"#ed7953\"],[0.7777777777777778,\"#fb9f3a\"],[0.8888888888888888,\"#fdca26\"],[1.0,\"#f0f921\"]]}],\"contourcarpet\":[{\"type\":\"contourcarpet\",\"colorbar\":{\"outlinewidth\":0,\"ticks\":\"\"}}],\"contour\":[{\"type\":\"contour\",\"colorbar\":{\"outlinewidth\":0,\"ticks\":\"\"},\"colorscale\":[[0.0,\"#0d0887\"],[0.1111111111111111,\"#46039f\"],[0.2222222222222222,\"#7201a8\"],[0.3333333333333333,\"#9c179e\"],[0.4444444444444444,\"#bd3786\"],[0.5555555555555556,\"#d8576b\"],[0.6666666666666666,\"#ed7953\"],[0.7777777777777778,\"#fb9f3a\"],[0.8888888888888888,\"#fdca26\"],[1.0,\"#f0f921\"]]}],\"surface\":[{\"type\":\"surface\",\"colorbar\":{\"outlinewidth\":0,\"ticks\":\"\"},\"colorscale\":[[0.0,\"#0d0887\"],[0.1111111111111111,\"#46039f\"],[0.2222222222222222,\"#7201a8\"],[0.3333333333333333,\"#9c179e\"],[0.4444444444444444,\"#bd3786\"],[0.5555555555555556,\"#d8576b\"],[0.6666666666666666,\"#ed7953\"],[0.7777777777777778,\"#fb9f3a\"],[0.8888888888888888,\"#fdca26\"],[1.0,\"#f0f921\"]]}],\"mesh3d\":[{\"type\":\"mesh3d\",\"colorbar\":{\"outlinewidth\":0,\"ticks\":\"\"}}],\"scatter\":[{\"fillpattern\":{\"fillmode\":\"overlay\",\"size\":10,\"solidity\":0.2},\"type\":\"scatter\"}],\"parcoords\":[{\"type\":\"parcoords\",\"line\":{\"colorbar\":{\"outlinewidth\":0,\"ticks\":\"\"}}}],\"scatterpolargl\":[{\"type\":\"scatterpolargl\",\"marker\":{\"colorbar\":{\"outlinewidth\":0,\"ticks\":\"\"}}}],\"bar\":[{\"error_x\":{\"color\":\"#2a3f5f\"},\"error_y\":{\"color\":\"#2a3f5f\"},\"marker\":{\"line\":{\"color\":\"#E5ECF6\",\"width\":0.5},\"pattern\":{\"fillmode\":\"overlay\",\"size\":10,\"solidity\":0.2}},\"type\":\"bar\"}],\"scattergeo\":[{\"type\":\"scattergeo\",\"marker\":{\"colorbar\":{\"outlinewidth\":0,\"ticks\":\"\"}}}],\"scatterpolar\":[{\"type\":\"scatterpolar\",\"marker\":{\"colorbar\":{\"outlinewidth\":0,\"ticks\":\"\"}}}],\"histogram\":[{\"marker\":{\"pattern\":{\"fillmode\":\"overlay\",\"size\":10,\"solidity\":0.2}},\"type\":\"histogram\"}],\"scattergl\":[{\"type\":\"scattergl\",\"marker\":{\"colorbar\":{\"outlinewidth\":0,\"ticks\":\"\"}}}],\"scatter3d\":[{\"type\":\"scatter3d\",\"line\":{\"colorbar\":{\"outlinewidth\":0,\"ticks\":\"\"}},\"marker\":{\"colorbar\":{\"outlinewidth\":0,\"ticks\":\"\"}}}],\"scattermap\":[{\"type\":\"scattermap\",\"marker\":{\"colorbar\":{\"outlinewidth\":0,\"ticks\":\"\"}}}],\"scattermapbox\":[{\"type\":\"scattermapbox\",\"marker\":{\"colorbar\":{\"outlinewidth\":0,\"ticks\":\"\"}}}],\"scatterternary\":[{\"type\":\"scatterternary\",\"marker\":{\"colorbar\":{\"outlinewidth\":0,\"ticks\":\"\"}}}],\"scattercarpet\":[{\"type\":\"scattercarpet\",\"marker\":{\"colorbar\":{\"outlinewidth\":0,\"ticks\":\"\"}}}],\"carpet\":[{\"aaxis\":{\"endlinecolor\":\"#2a3f5f\",\"gridcolor\":\"white\",\"linecolor\":\"white\",\"minorgridcolor\":\"white\",\"startlinecolor\":\"#2a3f5f\"},\"baxis\":{\"endlinecolor\":\"#2a3f5f\",\"gridcolor\":\"white\",\"linecolor\":\"white\",\"minorgridcolor\":\"white\",\"startlinecolor\":\"#2a3f5f\"},\"type\":\"carpet\"}],\"table\":[{\"cells\":{\"fill\":{\"color\":\"#EBF0F8\"},\"line\":{\"color\":\"white\"}},\"header\":{\"fill\":{\"color\":\"#C8D4E3\"},\"line\":{\"color\":\"white\"}},\"type\":\"table\"}],\"barpolar\":[{\"marker\":{\"line\":{\"color\":\"#E5ECF6\",\"width\":0.5},\"pattern\":{\"fillmode\":\"overlay\",\"size\":10,\"solidity\":0.2}},\"type\":\"barpolar\"}],\"pie\":[{\"automargin\":true,\"type\":\"pie\"}]},\"layout\":{\"autotypenumbers\":\"strict\",\"colorway\":[\"#636efa\",\"#EF553B\",\"#00cc96\",\"#ab63fa\",\"#FFA15A\",\"#19d3f3\",\"#FF6692\",\"#B6E880\",\"#FF97FF\",\"#FECB52\"],\"font\":{\"color\":\"#2a3f5f\"},\"hovermode\":\"closest\",\"hoverlabel\":{\"align\":\"left\"},\"paper_bgcolor\":\"white\",\"plot_bgcolor\":\"#E5ECF6\",\"polar\":{\"bgcolor\":\"#E5ECF6\",\"angularaxis\":{\"gridcolor\":\"white\",\"linecolor\":\"white\",\"ticks\":\"\"},\"radialaxis\":{\"gridcolor\":\"white\",\"linecolor\":\"white\",\"ticks\":\"\"}},\"ternary\":{\"bgcolor\":\"#E5ECF6\",\"aaxis\":{\"gridcolor\":\"white\",\"linecolor\":\"white\",\"ticks\":\"\"},\"baxis\":{\"gridcolor\":\"white\",\"linecolor\":\"white\",\"ticks\":\"\"},\"caxis\":{\"gridcolor\":\"white\",\"linecolor\":\"white\",\"ticks\":\"\"}},\"coloraxis\":{\"colorbar\":{\"outlinewidth\":0,\"ticks\":\"\"}},\"colorscale\":{\"sequential\":[[0.0,\"#0d0887\"],[0.1111111111111111,\"#46039f\"],[0.2222222222222222,\"#7201a8\"],[0.3333333333333333,\"#9c179e\"],[0.4444444444444444,\"#bd3786\"],[0.5555555555555556,\"#d8576b\"],[0.6666666666666666,\"#ed7953\"],[0.7777777777777778,\"#fb9f3a\"],[0.8888888888888888,\"#fdca26\"],[1.0,\"#f0f921\"]],\"sequentialminus\":[[0.0,\"#0d0887\"],[0.1111111111111111,\"#46039f\"],[0.2222222222222222,\"#7201a8\"],[0.3333333333333333,\"#9c179e\"],[0.4444444444444444,\"#bd3786\"],[0.5555555555555556,\"#d8576b\"],[0.6666666666666666,\"#ed7953\"],[0.7777777777777778,\"#fb9f3a\"],[0.8888888888888888,\"#fdca26\"],[1.0,\"#f0f921\"]],\"diverging\":[[0,\"#8e0152\"],[0.1,\"#c51b7d\"],[0.2,\"#de77ae\"],[0.3,\"#f1b6da\"],[0.4,\"#fde0ef\"],[0.5,\"#f7f7f7\"],[0.6,\"#e6f5d0\"],[0.7,\"#b8e186\"],[0.8,\"#7fbc41\"],[0.9,\"#4d9221\"],[1,\"#276419\"]]},\"xaxis\":{\"gridcolor\":\"white\",\"linecolor\":\"white\",\"ticks\":\"\",\"title\":{\"standoff\":15},\"zerolinecolor\":\"white\",\"automargin\":true,\"zerolinewidth\":2},\"yaxis\":{\"gridcolor\":\"white\",\"linecolor\":\"white\",\"ticks\":\"\",\"title\":{\"standoff\":15},\"zerolinecolor\":\"white\",\"automargin\":true,\"zerolinewidth\":2},\"scene\":{\"xaxis\":{\"backgroundcolor\":\"#E5ECF6\",\"gridcolor\":\"white\",\"linecolor\":\"white\",\"showbackground\":true,\"ticks\":\"\",\"zerolinecolor\":\"white\",\"gridwidth\":2},\"yaxis\":{\"backgroundcolor\":\"#E5ECF6\",\"gridcolor\":\"white\",\"linecolor\":\"white\",\"showbackground\":true,\"ticks\":\"\",\"zerolinecolor\":\"white\",\"gridwidth\":2},\"zaxis\":{\"backgroundcolor\":\"#E5ECF6\",\"gridcolor\":\"white\",\"linecolor\":\"white\",\"showbackground\":true,\"ticks\":\"\",\"zerolinecolor\":\"white\",\"gridwidth\":2}},\"shapedefaults\":{\"line\":{\"color\":\"#2a3f5f\"}},\"annotationdefaults\":{\"arrowcolor\":\"#2a3f5f\",\"arrowhead\":0,\"arrowwidth\":1},\"geo\":{\"bgcolor\":\"white\",\"landcolor\":\"#E5ECF6\",\"subunitcolor\":\"white\",\"showland\":true,\"showlakes\":true,\"lakecolor\":\"white\"},\"title\":{\"x\":0.05},\"mapbox\":{\"style\":\"light\"}}},\"xaxis\":{\"anchor\":\"y\",\"domain\":[0.0,1.0],\"title\":{\"text\":\"Ann\\u00e9e du v\\u00e9hicule\"},\"tickangle\":-45},\"yaxis\":{\"anchor\":\"x\",\"domain\":[0.0,1.0],\"title\":{\"text\":\"Prix moyen (USD)\"},\"tickprefix\":\"$\",\"tickformat\":\",.0f\"},\"legend\":{\"title\":{\"text\":\"Cat\\u00e9gorie marketing\"},\"tracegroupgap\":0},\"title\":{\"text\":\"D\\u00e9pr\\u00e9ciation par cat\\u00e9gorie de march\\u00e9\"},\"margin\":{\"t\":60,\"b\":120},\"height\":600,\"hovermode\":\"closest\"},                        {\"responsive\": true}                    ).then(function(){\n",
       "                            \n",
       "var gd = document.getElementById('6d22d683-95f8-4266-ad9c-5644187aef95');\n",
       "var x = new MutationObserver(function (mutations, observer) {{\n",
       "        var display = window.getComputedStyle(gd).display;\n",
       "        if (!display || display === 'none') {{\n",
       "            console.log([gd, 'removed!']);\n",
       "            Plotly.purge(gd);\n",
       "            observer.disconnect();\n",
       "        }}\n",
       "}});\n",
       "\n",
       "// Listen for the removal of the full notebook cells\n",
       "var notebookContainer = gd.closest('#notebook-container');\n",
       "if (notebookContainer) {{\n",
       "    x.observe(notebookContainer, {childList: true});\n",
       "}}\n",
       "\n",
       "// Listen for the clearing of the current output cell\n",
       "var outputEl = gd.closest('.output');\n",
       "if (outputEl) {{\n",
       "    x.observe(outputEl, {childList: true});\n",
       "}}\n",
       "\n",
       "                        })                };            </script>        </div>"
      ]
     },
     "metadata": {},
     "output_type": "display_data"
    }
   ],
   "source": [
    "# Analyse de la dépréciation par catégorie de marché\n",
    "\n",
    "# Certaines voitures ont plusieurs catégories séparées par des virgules → on les éclate\n",
    "df_category = df[['year', 'price', 'market']].dropna()\n",
    "df_category = df_category[df_category['year'] > 1990]\n",
    "df_category = df_category[df_category['price'] > 1000]\n",
    "\n",
    "# Séparer les catégories multiples et réassembler le DataFrame\n",
    "df_exploded = df_category.assign(\n",
    "    market=df_category['market'].str.split(',')\n",
    ").explode('market')\n",
    "\n",
    "# Nettoyer les noms de catégories\n",
    "df_exploded['market'] = df_exploded['market'].str.strip()\n",
    "\n",
    "# Grouper par catégorie + année\n",
    "cat_group = df_exploded.groupby(['market', 'year'])['price'].agg(['mean', 'count']).reset_index()\n",
    "\n",
    "# Tracé\n",
    "fig = px.line(\n",
    "    cat_group,\n",
    "    x='year',\n",
    "    y='mean',\n",
    "    color='market',\n",
    "    markers=True,\n",
    "    hover_data={'count': True},\n",
    "    labels={\n",
    "        'year': 'Année du véhicule',\n",
    "        'mean': 'Prix moyen (USD)',\n",
    "        'market': 'Catégorie de marché',\n",
    "        'count': 'Nb véhicules'\n",
    "    },\n",
    "    title='Dépréciation par catégorie de marché'\n",
    ")\n",
    "\n",
    "fig.update_traces(\n",
    "    hovertemplate='Catégorie: %{legendgroup}<br>Année: %{x}<br>Prix moyen: $%{y:.2f}<br>Nb véhicules: %{customdata[0]}<extra></extra>',\n",
    "    marker=dict(size=5)\n",
    ")\n",
    "\n",
    "fig.update_layout(\n",
    "    yaxis_tickprefix='$',\n",
    "    yaxis_tickformat=',.0f',\n",
    "    xaxis_tickangle=-45,\n",
    "    height=600,\n",
    "    legend_title_text='Catégorie marketing',\n",
    "    margin=dict(t=60, b=120),\n",
    "    hovermode=\"closest\"\n",
    ")\n",
    "\n",
    "fig.show()\n"
   ]
  }
 ],
 "metadata": {
  "kernelspec": {
   "display_name": "Python 3",
   "language": "python",
   "name": "python3"
  },
  "language_info": {
   "codemirror_mode": {
    "name": "ipython",
    "version": 3
   },
   "file_extension": ".py",
   "mimetype": "text/x-python",
   "name": "python",
   "nbconvert_exporter": "python",
   "pygments_lexer": "ipython3",
   "version": "3.12.2"
  }
 },
 "nbformat": 4,
 "nbformat_minor": 5
}
